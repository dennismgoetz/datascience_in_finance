{
 "cells": [
  {
   "cell_type": "markdown",
   "metadata": {
    "toc": true
   },
   "source": [
    "<h1>Inhaltsverzeichnis<span class=\"tocSkip\"></span></h1>\n",
    "<div class=\"toc\"><ul class=\"toc-item\"><li><span><a href=\"#Monte-Carlo-Simulationen:-Maximum-Sharpe,--Minimum-Variance-und-Value-at-Risk\" data-toc-modified-id=\"Monte-Carlo-Simulationen:-Maximum-Sharpe,--Minimum-Variance-und-Value-at-Risk-1\"><span class=\"toc-item-num\">1&nbsp;&nbsp;</span>Monte-Carlo Simulationen: Maximum Sharpe,  Minimum Variance und Value-at-Risk</a></span><ul class=\"toc-item\"><li><span><a href=\"#Download\" data-toc-modified-id=\"Download-1.1\"><span class=\"toc-item-num\">1.1&nbsp;&nbsp;</span>Download</a></span></li><li><span><a href=\"#Simulation\" data-toc-modified-id=\"Simulation-1.2\"><span class=\"toc-item-num\">1.2&nbsp;&nbsp;</span>Simulation</a></span></li><li><span><a href=\"#Betrachtung-der-Ergebnisse\" data-toc-modified-id=\"Betrachtung-der-Ergebnisse-1.3\"><span class=\"toc-item-num\">1.3&nbsp;&nbsp;</span>Betrachtung der Ergebnisse</a></span></li></ul></li></ul></div>"
   ]
  },
  {
   "cell_type": "markdown",
   "metadata": {},
   "source": [
    "Willkommen zur zweiten Case-Study. Diese beinhaltet Aufgaben zu den Notebooks C.1 und insbesondere C.2. Nach der Installation aller relevanten Pakete beschäftigen wir uns mit optimalen Portfolios. Mittels einer Monte-Carlo Simulation finden wir die Portfolios mit der maximalen Sharpe-Ratio, der minimalen Varianz und dem minimalen Value-at-Risk für unsere Beispielaktien. Dabei implementieren wir auch Short-Selling.\n",
    "\n",
    "Achten Sie darauf, dass Ihr Code in einem Setting läuft (Kernel > Restart & Run All).\n",
    "\n",
    "Bitte nutzen Sie die vorgesehenen Felder für Ihren Code und Ihre Antworten. Es gibt neun Code-Felder und drei Fragen. \n",
    "\n",
    "Zusätzlich zur Abgabe dieses Notebooks geben Sie bitte das Excel-Sheet mit Ihren Lösungen ab. Benennen Sie das Excel und das Notebook bitte nach dem Prinzip: Case2_Nachname_Vorname.\n",
    "\n",
    "HAPPY CODING!"
   ]
  },
  {
   "cell_type": "markdown",
   "metadata": {},
   "source": [
    "Tragen Sie in der folgenden Markdown Zeile den Namen Ihres Teampartners ein bzw. im Falle einer Einzelarbeit bitte dies vermerken."
   ]
  },
  {
   "cell_type": "markdown",
   "metadata": {},
   "source": [
    "> ..."
   ]
  },
  {
   "cell_type": "markdown",
   "metadata": {},
   "source": [
    "Tragen Sie in der folgenden Markdown Zeile Ihre Matrikelnummer ein."
   ]
  },
  {
   "cell_type": "markdown",
   "metadata": {},
   "source": [
    " > ..."
   ]
  },
  {
   "cell_type": "markdown",
   "metadata": {},
   "source": [
    "**Installation aller relevanten Pakete:**"
   ]
  },
  {
   "cell_type": "code",
   "execution_count": null,
   "metadata": {},
   "outputs": [],
   "source": []
  },
  {
   "cell_type": "markdown",
   "metadata": {},
   "source": [
    "# Monte-Carlo Simulationen: Maximum Sharpe,  Minimum Variance und Value-at-Risk"
   ]
  },
  {
   "cell_type": "markdown",
   "metadata": {},
   "source": [
    "## Download"
   ]
  },
  {
   "cell_type": "markdown",
   "metadata": {},
   "source": [
    "Wir erstellen ein Portfolio aus sechs Aktien für den Zeitraum vom 01.01.2018 - 31.12.2021. Die Aktien haben die Ticker ['MMM', 'TSLA', 'CSCO', 'V', 'GE', 'AMZN'].\n",
    "Laden Sie bitte den Adjusted Close für die Aktien und speichern Sie sie in einem DataFrame *df*. Index sollte das Datum sein, die Spaltennamen die Ticker."
   ]
  },
  {
   "cell_type": "code",
   "execution_count": null,
   "metadata": {},
   "outputs": [],
   "source": [
    "#download stock portfolio data\n"
   ]
  },
  {
   "cell_type": "markdown",
   "metadata": {},
   "source": [
    "**Frage 1:** Wie heißen die Unternehmen?"
   ]
  },
  {
   "cell_type": "markdown",
   "metadata": {},
   "source": [
    ">..."
   ]
  },
  {
   "cell_type": "markdown",
   "metadata": {},
   "source": [
    "## Simulation"
   ]
  },
  {
   "cell_type": "markdown",
   "metadata": {},
   "source": [
    "Für unsere Portfoliooptimierung wollen wir die Monte-Carlo Simulation aus der Vorlesung in zwei Punkten verändern. \n",
    "1. Wir wollen nun mittels einer Monte-Carlo Simulation direkt **drei** Portfolios ermitteln: Das mit der optimalen Sharpe-Ratio, das mit der minimalen Varianz und das mit dem minimalen Value-at-Risk. \n",
    "2. Wir wollen in unserer Simulation auch Short-Selling ermöglichen. "
   ]
  },
  {
   "cell_type": "markdown",
   "metadata": {},
   "source": [
    "Analog zur Vorgehensweise im Noteboook C.2 erstellen wir zuerst eine Funktion, *calc_portfolio_perf*, mit den Eingabeparametern *weights, mean_returns, cov, rf, alpha, days*. Die Funktion berechnet mithilfe der Eingabeparameter für ein Portfolio die Rendite, Standardabweichung, Sharpe-Ratio und den Value-at-Risk für den Zeitraum days. Die Funktion hat entsprechend die Ausgabeparameter *portfolio_return, portfolio_std, sharpe_ratio, portfolio_VaR*. "
   ]
  },
  {
   "cell_type": "code",
   "execution_count": null,
   "metadata": {},
   "outputs": [],
   "source": [
    "# Definition calc_portfolio_perf"
   ]
  },
  {
   "cell_type": "markdown",
   "metadata": {},
   "source": [
    "Nun erstellen wir die Funktion *simulate_random_portfolios* mit den Eingabeparametern *num_portfolios, mean_returns, cov, rf, alpha, days, short*. Neu für Sie ist vor allem der Eingabeparameter *short*. Er kann die String-Werte 'yes' und 'no' annehmen. Die Funktion simuliert dann entweder Portfolios mit oder ohne Short-Selling. \n",
    "\n",
    "Die Funktion gibt ein DataFrame *results_df* mit den Spalten *portfolio_return, portfolio_std, sharpe_ratio, portfolio_VaR* und den jeweiligen Gewichten der Aktien aus. \n",
    "\n",
    "Wir generieren analog zur Vorlesung als erstes die leere *results_matrix*. Im zweiten Schritt fragen wir mit einer If-Abfrage ab, ob Short-Selling implementiert werden soll. Wenn *no* können wir die *results_matrix* analog zur Vorlesung definieren. Wenn *yes* müssen wir auch negative Gewichte zulassen. Die wichtigste Veränderung des Codes im Vergleich zur Vorlesung geschieht also im Vektor *weights*. Die Gewichte müssen jetzt im Intervall [-1;1] liegen. Je nach If-Abfrage wird ein anderes *results_df* generiert.\n",
    "\n",
    "Eine Implementierungshilfe zu den Gewichten für das Short-Selling: Wir wollen jetzt auch negative Gewichte zulassen. Um die Ergebnisse etwas einzuschränken sollen die Zahlen nun zwischen -1 und 1 liegen. Dafür kann man die Funktion np.random.randint nutzen. Um von Integer auf Dezimahlzahlen mit fünf Nachkommastellen zwischen -1 und 1 zu kommen, müssen Sie eine entsprechende Division durchführen.\n"
   ]
  },
  {
   "cell_type": "code",
   "execution_count": null,
   "metadata": {},
   "outputs": [],
   "source": [
    "# simulate_random_portfolios"
   ]
  },
  {
   "cell_type": "markdown",
   "metadata": {},
   "source": [
    "Führen Sie anhand der Funktion *simulate_random_portfolios* bitte zwei Simulationen durch und speichern Sie die Ergebnisse in DataFrames. Simulieren Sie jeweils 100,000 Portfolios. In der ersten Simulation gibt es kein Short-Selling. Nennen Sie das DataFrame *results_frame_l* (l = long). In der zweiten Simulation gibt es  Short-Selling. Nennen Sie das DataFrame *results_frame_s* (s = short). Setzen Sie *rf* = 0, *days* = 252 und *alpha* = 0.05. \n",
    "\n",
    "Tipp: Damit Sie nicht solange warten müssen, können Sie zum ausprobieren ja auch ein wesentlich kleineres Portfolio nutzen."
   ]
  },
  {
   "cell_type": "code",
   "execution_count": null,
   "metadata": {},
   "outputs": [],
   "source": [
    "# Define Parameters\n",
    "\n",
    "# rf = 0.0\n",
    "# days = 252\n",
    "# alpha = 0.05\n",
    "# ...\n",
    "\n",
    "# Simulation"
   ]
  },
  {
   "cell_type": "markdown",
   "metadata": {},
   "source": [
    "## Betrachtung der Ergebnisse "
   ]
  },
  {
   "cell_type": "markdown",
   "metadata": {},
   "source": [
    "Für *results_frame_l* und *results_frame_s* wollen wir jeweils das Portfolio mit der höchsten Sharpe-Ratio, der niedrigsten Standardabweichung und dem minimalen Value-at-Risk finden. Diese wollen wir in einem DataFrame *portfolios* speichern. Extrahieren Sie die gesuchten Zeilen aus *results_frame_l* und *results_frame_s* (z.B. mit *iloc*) und speichern Sie die sechs Zeilen in einem DataFrame *portfolios* (z.B. mit append oder pd.concat). *portfoliosP soll dieselben Spaltenbezeichnungen haben wie *results_frame_l* und *results_frame_s*. Der Index nummeriert die Spalten des DataFrames beginnend mit Null.\n"
   ]
  },
  {
   "cell_type": "code",
   "execution_count": null,
   "metadata": {},
   "outputs": [],
   "source": []
  },
  {
   "cell_type": "markdown",
   "metadata": {},
   "source": [
    "Erstellen Sie für das Portfolio drei zusätzliche Spalten. Die Spalte *long* hat den Wert *1* wenn das Portfolio nur Long-Selling implementiert hat und *0*, wenn es auch Short-Selling gibt. Die Spalte *char* gibt das Charakteristikum des Portfolios an, also *max_sharpe, min_vol* oder *min_VaR*."
   ]
  },
  {
   "cell_type": "code",
   "execution_count": null,
   "metadata": {
    "scrolled": true
   },
   "outputs": [],
   "source": []
  },
  {
   "cell_type": "markdown",
   "metadata": {},
   "source": [
    "**Frage 2:** Vergleichen Sie die Portfolios beider Simulationen. Was fällt Ihnen auf? Welche der optimalen Portfolios verändern sich signifikant, wenn Short-Selling implementiert ist?"
   ]
  },
  {
   "cell_type": "markdown",
   "metadata": {},
   "source": [
    ">..."
   ]
  },
  {
   "cell_type": "markdown",
   "metadata": {},
   "source": [
    "Für beide Simulationen generieren wir ein Scatterplot. \n",
    "\n",
    "Hinweis:\n",
    "Falls Sie es als sinnvoll erachten, können Sie mit dem Code 'ax.set(xlim=(), ylim=())' die Achsen der Graphen verändern. Dafür müssen Sie die Achsen zuvor mit fig, ax = plt.subplots(figsize=(15,10)) definieren. "
   ]
  },
  {
   "cell_type": "code",
   "execution_count": null,
   "metadata": {},
   "outputs": [],
   "source": [
    "# scatter plot for long portfolio\n",
    "# create scatter plot coloured by Sharpe Ratio"
   ]
  },
  {
   "cell_type": "code",
   "execution_count": null,
   "metadata": {},
   "outputs": [],
   "source": [
    "# scatter plot for short portfolio\n",
    "# create scatter plot coloured by Sharpe Ratio"
   ]
  },
  {
   "cell_type": "markdown",
   "metadata": {},
   "source": [
    "**Frage 3:** Vergleichen Sie die beiden Graphen. Was fällt Ihnen auf?"
   ]
  },
  {
   "cell_type": "markdown",
   "metadata": {},
   "source": [
    ">..."
   ]
  }
 ],
 "metadata": {
  "kernelspec": {
   "display_name": "Python 3 (ipykernel)",
   "language": "python",
   "name": "python3"
  },
  "language_info": {
   "codemirror_mode": {
    "name": "ipython",
    "version": 3
   },
   "file_extension": ".py",
   "mimetype": "text/x-python",
   "name": "python",
   "nbconvert_exporter": "python",
   "pygments_lexer": "ipython3",
   "version": "3.9.7"
  },
  "toc": {
   "base_numbering": 1,
   "nav_menu": {},
   "number_sections": true,
   "sideBar": true,
   "skip_h1_title": false,
   "title_cell": "Inhaltsverzeichnis",
   "title_sidebar": "Inhalt",
   "toc_cell": true,
   "toc_position": {},
   "toc_section_display": true,
   "toc_window_display": false
  },
  "varInspector": {
   "cols": {
    "lenName": 16,
    "lenType": 16,
    "lenVar": 40
   },
   "kernels_config": {
    "python": {
     "delete_cmd_postfix": "",
     "delete_cmd_prefix": "del ",
     "library": "var_list.py",
     "varRefreshCmd": "print(var_dic_list())"
    },
    "r": {
     "delete_cmd_postfix": ") ",
     "delete_cmd_prefix": "rm(",
     "library": "var_list.r",
     "varRefreshCmd": "cat(var_dic_list()) "
    }
   },
   "types_to_exclude": [
    "module",
    "function",
    "builtin_function_or_method",
    "instance",
    "_Feature"
   ],
   "window_display": false
  }
 },
 "nbformat": 4,
 "nbformat_minor": 2
}
