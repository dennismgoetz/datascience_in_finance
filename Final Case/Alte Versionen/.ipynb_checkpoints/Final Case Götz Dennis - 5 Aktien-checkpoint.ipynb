{
 "cells": [
  {
   "cell_type": "markdown",
   "id": "c856cc8a",
   "metadata": {},
   "source": [
    "# Data Science in Finance mit Python - Final Case"
   ]
  },
  {
   "cell_type": "markdown",
   "id": "0043bf82",
   "metadata": {},
   "source": [
    "**Michael Betz und Dennis Götz**"
   ]
  },
  {
   "cell_type": "markdown",
   "id": "549f36a7",
   "metadata": {},
   "source": [
    "**Aufgabenstellung für Bachelor- und Master-Studenten:**\n",
    "1. Wählen Sie 15 Unternehmen aus, die bereits seit 1997 an der Börse gelistet sind. Bestimmen Sie für Ihre 15 Aktien die Portfolios mit der minimalen Varianz, dem minimalen VaR und der maximalen Sharpe Ratio. Nutzen Sie dafür Tagesdaten Ihrer 15 Aktien von 1997-2001.\n",
    "2. Implementieren Sie Buy-and-Hold Strategien für Ihre drei Portfolios von 2002-2021 \n",
    "auf Grundlage der errechneten Gewichte Ihrer 15 Aktien.\n",
    "3. Diskutieren Sie die Performance Ihrer drei Portfolios.\n",
    "4. Erstellen Sie eine Grafik für den Zeitraum 2002-2021, welche den Kursverlauf Ihrer \n",
    "drei Portfoliostrategien einem gleichgewichteten Portfolio aus den 15 Aktien als \n",
    "Benchmark gegenüberstellt.\n",
    "5. Berechnen Sie die Portfolios mit der minimalen Varianz, dem minimalen VaR und der \n",
    "maximalen Sharpe Ratio nun für den Zeitraum von 2017-2021 und vergleichen Sie die \n",
    "Portfoliogewichte mit den Ihren.\n",
    "6. Wie würden Sie die Implementierung Ihrer Portfoliostrategie noch verbessern? Was \n",
    "könnten Sie noch beachten?\n"
   ]
  },
  {
   "cell_type": "markdown",
   "id": "91684b56",
   "metadata": {},
   "source": [
    "Matrikelnummer: 272038"
   ]
  },
  {
   "cell_type": "markdown",
   "id": "2e0023bf",
   "metadata": {},
   "source": [
    "Name Teampartner: Betz Michael"
   ]
  },
  {
   "cell_type": "code",
   "execution_count": 1,
   "id": "e31d5fbe",
   "metadata": {},
   "outputs": [],
   "source": [
    "# Import der notwendigen Bibliotheken\n",
    "import pandas as pd\n",
    "import numpy as np\n",
    "import pandas_datareader.data as web\n",
    "import scipy.optimize as sco\n",
    "from scipy import stats\n",
    "import matplotlib.pyplot as plt\n",
    "%matplotlib inline\n",
    "\n",
    "import yfinance as yf"
   ]
  },
  {
   "cell_type": "markdown",
   "id": "f157ff9b",
   "metadata": {},
   "source": [
    "# 1. Portfolios mit min. Varianz, min. VaR und max. Sharpe Ratio (1997-2001)"
   ]
  },
  {
   "cell_type": "markdown",
   "id": "67be1b08",
   "metadata": {},
   "source": [
    "Aufgabenstellung: Wählen Sie 15 Unternehmen aus, die bereits seit 1997 an der Börse gelistet sind. Bestimmen Sie für Ihre 15 Aktien die Portfolios mit der **minimalen Varianz**, dem **minimalen VaR** und der **maximalen Sharpe Ratio**. Nutzen Sie dafür Tagesdaten Ihrer 15 Aktien von 1997-2001."
   ]
  },
  {
   "cell_type": "code",
   "execution_count": 2,
   "id": "d70c90c5",
   "metadata": {},
   "outputs": [
    {
     "name": "stdout",
     "output_type": "stream",
     "text": [
      "[*********************100%***********************]  5 of 5 completed\n"
     ]
    },
    {
     "data": {
      "text/plain": [
       "AIR    0\n",
       "DTE    0\n",
       "FDX    0\n",
       "NKE    0\n",
       "SAP    0\n",
       "dtype: int64"
      ]
     },
     "execution_count": 2,
     "metadata": {},
     "output_type": "execute_result"
    }
   ],
   "source": [
    "# Preise der 15 Aktien von 1997/01/01 - 2021/12/31 laden\n",
    "yf.pdr_override()\n",
    "tickers = ['AIR', 'DTE', 'FDX', 'NKE', 'SAP']\n",
    "start = '1997-01-01'\n",
    "end = '2021-12-31'\n",
    "\n",
    "Adj_Close = web.get_data_yahoo(tickers, start, end)['Adj Close']\n",
    "Adj_Close = pd.DataFrame(Adj_Close)\n",
    "Adj_Close.isna().sum()\n"
   ]
  },
  {
   "cell_type": "code",
   "execution_count": 3,
   "id": "de6302db",
   "metadata": {},
   "outputs": [
    {
     "data": {
      "text/html": [
       "<div>\n",
       "<style scoped>\n",
       "    .dataframe tbody tr th:only-of-type {\n",
       "        vertical-align: middle;\n",
       "    }\n",
       "\n",
       "    .dataframe tbody tr th {\n",
       "        vertical-align: top;\n",
       "    }\n",
       "\n",
       "    .dataframe thead th {\n",
       "        text-align: right;\n",
       "    }\n",
       "</style>\n",
       "<table border=\"1\" class=\"dataframe\">\n",
       "  <thead>\n",
       "    <tr style=\"text-align: right;\">\n",
       "      <th></th>\n",
       "      <th>AIR</th>\n",
       "      <th>DTE</th>\n",
       "      <th>FDX</th>\n",
       "      <th>NKE</th>\n",
       "      <th>SAP</th>\n",
       "    </tr>\n",
       "    <tr>\n",
       "      <th>Date</th>\n",
       "      <th></th>\n",
       "      <th></th>\n",
       "      <th></th>\n",
       "      <th></th>\n",
       "      <th></th>\n",
       "    </tr>\n",
       "  </thead>\n",
       "  <tbody>\n",
       "    <tr>\n",
       "      <th>1997-01-03</th>\n",
       "      <td>-0.008584</td>\n",
       "      <td>-0.003853</td>\n",
       "      <td>0.019859</td>\n",
       "      <td>0.014568</td>\n",
       "      <td>-0.010929</td>\n",
       "    </tr>\n",
       "    <tr>\n",
       "      <th>1997-01-06</th>\n",
       "      <td>-0.008659</td>\n",
       "      <td>-0.015565</td>\n",
       "      <td>-0.019859</td>\n",
       "      <td>0.004124</td>\n",
       "      <td>0.002744</td>\n",
       "    </tr>\n",
       "    <tr>\n",
       "      <th>1997-01-07</th>\n",
       "      <td>0.000000</td>\n",
       "      <td>0.011696</td>\n",
       "      <td>-0.002870</td>\n",
       "      <td>-0.014508</td>\n",
       "      <td>0.000000</td>\n",
       "    </tr>\n",
       "    <tr>\n",
       "      <th>1997-01-08</th>\n",
       "      <td>-0.004357</td>\n",
       "      <td>-0.007782</td>\n",
       "      <td>-0.020320</td>\n",
       "      <td>-0.006283</td>\n",
       "      <td>0.013605</td>\n",
       "    </tr>\n",
       "    <tr>\n",
       "      <th>1997-01-09</th>\n",
       "      <td>0.004357</td>\n",
       "      <td>-0.007844</td>\n",
       "      <td>0.028903</td>\n",
       "      <td>0.018731</td>\n",
       "      <td>0.031918</td>\n",
       "    </tr>\n",
       "    <tr>\n",
       "      <th>...</th>\n",
       "      <td>...</td>\n",
       "      <td>...</td>\n",
       "      <td>...</td>\n",
       "      <td>...</td>\n",
       "      <td>...</td>\n",
       "    </tr>\n",
       "    <tr>\n",
       "      <th>2021-12-23</th>\n",
       "      <td>0.011757</td>\n",
       "      <td>0.001028</td>\n",
       "      <td>0.015324</td>\n",
       "      <td>0.001389</td>\n",
       "      <td>0.004866</td>\n",
       "    </tr>\n",
       "    <tr>\n",
       "      <th>2021-12-27</th>\n",
       "      <td>0.005181</td>\n",
       "      <td>0.008778</td>\n",
       "      <td>0.009528</td>\n",
       "      <td>0.011463</td>\n",
       "      <td>0.008601</td>\n",
       "    </tr>\n",
       "    <tr>\n",
       "      <th>2021-12-28</th>\n",
       "      <td>0.007466</td>\n",
       "      <td>0.007439</td>\n",
       "      <td>0.000741</td>\n",
       "      <td>-0.006946</td>\n",
       "      <td>0.001556</td>\n",
       "    </tr>\n",
       "    <tr>\n",
       "      <th>2021-12-29</th>\n",
       "      <td>0.002306</td>\n",
       "      <td>0.005460</td>\n",
       "      <td>0.004086</td>\n",
       "      <td>0.014081</td>\n",
       "      <td>-0.010442</td>\n",
       "    </tr>\n",
       "    <tr>\n",
       "      <th>2021-12-30</th>\n",
       "      <td>-0.013655</td>\n",
       "      <td>-0.000503</td>\n",
       "      <td>0.004147</td>\n",
       "      <td>-0.007672</td>\n",
       "      <td>0.002567</td>\n",
       "    </tr>\n",
       "  </tbody>\n",
       "</table>\n",
       "<p>6291 rows × 5 columns</p>\n",
       "</div>"
      ],
      "text/plain": [
       "                 AIR       DTE       FDX       NKE       SAP\n",
       "Date                                                        \n",
       "1997-01-03 -0.008584 -0.003853  0.019859  0.014568 -0.010929\n",
       "1997-01-06 -0.008659 -0.015565 -0.019859  0.004124  0.002744\n",
       "1997-01-07  0.000000  0.011696 -0.002870 -0.014508  0.000000\n",
       "1997-01-08 -0.004357 -0.007782 -0.020320 -0.006283  0.013605\n",
       "1997-01-09  0.004357 -0.007844  0.028903  0.018731  0.031918\n",
       "...              ...       ...       ...       ...       ...\n",
       "2021-12-23  0.011757  0.001028  0.015324  0.001389  0.004866\n",
       "2021-12-27  0.005181  0.008778  0.009528  0.011463  0.008601\n",
       "2021-12-28  0.007466  0.007439  0.000741 -0.006946  0.001556\n",
       "2021-12-29  0.002306  0.005460  0.004086  0.014081 -0.010442\n",
       "2021-12-30 -0.013655 -0.000503  0.004147 -0.007672  0.002567\n",
       "\n",
       "[6291 rows x 5 columns]"
      ]
     },
     "execution_count": 3,
     "metadata": {},
     "output_type": "execute_result"
    }
   ],
   "source": [
    "# Berechnung der Logrenditen (Vorteil der Additivität)\n",
    "returns = pd.DataFrame(np.diff(np.log(Adj_Close).T).T)\n",
    "returns.index = Adj_Close.index[1:]\n",
    "returns.columns = tickers\n",
    "returns\n",
    "\n",
    "# Alternativ\n",
    "#returns = pd.DataFrame(np.diff(np.log(Adj_Close.values).T).T)\n",
    "#returns = np.log(Adj_Close/Adj_Close.shift(1))\n",
    "#returns = np.log1p(Adj_Close.pct_change())"
   ]
  },
  {
   "cell_type": "markdown",
   "id": "026c8a87",
   "metadata": {},
   "source": [
    "Datensätze Adj Close und returns plotten; Verlauf der Assets über die Zeitreihe beobachten/beschreiben..."
   ]
  },
  {
   "cell_type": "code",
   "execution_count": 4,
   "id": "882188bf",
   "metadata": {},
   "outputs": [
    {
     "data": {
      "text/html": [
       "<div>\n",
       "<style scoped>\n",
       "    .dataframe tbody tr th:only-of-type {\n",
       "        vertical-align: middle;\n",
       "    }\n",
       "\n",
       "    .dataframe tbody tr th {\n",
       "        vertical-align: top;\n",
       "    }\n",
       "\n",
       "    .dataframe thead th {\n",
       "        text-align: right;\n",
       "    }\n",
       "</style>\n",
       "<table border=\"1\" class=\"dataframe\">\n",
       "  <thead>\n",
       "    <tr style=\"text-align: right;\">\n",
       "      <th></th>\n",
       "      <th>AIR</th>\n",
       "      <th>DTE</th>\n",
       "      <th>FDX</th>\n",
       "      <th>NKE</th>\n",
       "      <th>SAP</th>\n",
       "    </tr>\n",
       "    <tr>\n",
       "      <th>Date</th>\n",
       "      <th></th>\n",
       "      <th></th>\n",
       "      <th></th>\n",
       "      <th></th>\n",
       "      <th></th>\n",
       "    </tr>\n",
       "  </thead>\n",
       "  <tbody>\n",
       "    <tr>\n",
       "      <th>1997-01-03</th>\n",
       "      <td>-0.008584</td>\n",
       "      <td>-0.003853</td>\n",
       "      <td>0.019859</td>\n",
       "      <td>0.014568</td>\n",
       "      <td>-0.010929</td>\n",
       "    </tr>\n",
       "    <tr>\n",
       "      <th>1997-01-06</th>\n",
       "      <td>-0.008659</td>\n",
       "      <td>-0.015565</td>\n",
       "      <td>-0.019859</td>\n",
       "      <td>0.004124</td>\n",
       "      <td>0.002744</td>\n",
       "    </tr>\n",
       "    <tr>\n",
       "      <th>1997-01-07</th>\n",
       "      <td>0.000000</td>\n",
       "      <td>0.011696</td>\n",
       "      <td>-0.002870</td>\n",
       "      <td>-0.014508</td>\n",
       "      <td>0.000000</td>\n",
       "    </tr>\n",
       "    <tr>\n",
       "      <th>1997-01-08</th>\n",
       "      <td>-0.004357</td>\n",
       "      <td>-0.007782</td>\n",
       "      <td>-0.020320</td>\n",
       "      <td>-0.006283</td>\n",
       "      <td>0.013605</td>\n",
       "    </tr>\n",
       "    <tr>\n",
       "      <th>1997-01-09</th>\n",
       "      <td>0.004357</td>\n",
       "      <td>-0.007844</td>\n",
       "      <td>0.028903</td>\n",
       "      <td>0.018731</td>\n",
       "      <td>0.031918</td>\n",
       "    </tr>\n",
       "    <tr>\n",
       "      <th>...</th>\n",
       "      <td>...</td>\n",
       "      <td>...</td>\n",
       "      <td>...</td>\n",
       "      <td>...</td>\n",
       "      <td>...</td>\n",
       "    </tr>\n",
       "    <tr>\n",
       "      <th>2001-12-24</th>\n",
       "      <td>0.000000</td>\n",
       "      <td>0.005335</td>\n",
       "      <td>0.000964</td>\n",
       "      <td>0.013234</td>\n",
       "      <td>-0.014796</td>\n",
       "    </tr>\n",
       "    <tr>\n",
       "      <th>2001-12-26</th>\n",
       "      <td>-0.011050</td>\n",
       "      <td>0.001450</td>\n",
       "      <td>0.025125</td>\n",
       "      <td>0.000876</td>\n",
       "      <td>0.003483</td>\n",
       "    </tr>\n",
       "    <tr>\n",
       "      <th>2001-12-27</th>\n",
       "      <td>0.031714</td>\n",
       "      <td>0.012956</td>\n",
       "      <td>-0.000752</td>\n",
       "      <td>-0.006148</td>\n",
       "      <td>0.012875</td>\n",
       "    </tr>\n",
       "    <tr>\n",
       "      <th>2001-12-28</th>\n",
       "      <td>-0.010823</td>\n",
       "      <td>-0.000715</td>\n",
       "      <td>-0.018415</td>\n",
       "      <td>-0.004769</td>\n",
       "      <td>0.018854</td>\n",
       "    </tr>\n",
       "    <tr>\n",
       "      <th>2001-12-31</th>\n",
       "      <td>-0.019781</td>\n",
       "      <td>0.000477</td>\n",
       "      <td>-0.005958</td>\n",
       "      <td>-0.004259</td>\n",
       "      <td>-0.022605</td>\n",
       "    </tr>\n",
       "  </tbody>\n",
       "</table>\n",
       "<p>1256 rows × 5 columns</p>\n",
       "</div>"
      ],
      "text/plain": [
       "                 AIR       DTE       FDX       NKE       SAP\n",
       "Date                                                        \n",
       "1997-01-03 -0.008584 -0.003853  0.019859  0.014568 -0.010929\n",
       "1997-01-06 -0.008659 -0.015565 -0.019859  0.004124  0.002744\n",
       "1997-01-07  0.000000  0.011696 -0.002870 -0.014508  0.000000\n",
       "1997-01-08 -0.004357 -0.007782 -0.020320 -0.006283  0.013605\n",
       "1997-01-09  0.004357 -0.007844  0.028903  0.018731  0.031918\n",
       "...              ...       ...       ...       ...       ...\n",
       "2001-12-24  0.000000  0.005335  0.000964  0.013234 -0.014796\n",
       "2001-12-26 -0.011050  0.001450  0.025125  0.000876  0.003483\n",
       "2001-12-27  0.031714  0.012956 -0.000752 -0.006148  0.012875\n",
       "2001-12-28 -0.010823 -0.000715 -0.018415 -0.004769  0.018854\n",
       "2001-12-31 -0.019781  0.000477 -0.005958 -0.004259 -0.022605\n",
       "\n",
       "[1256 rows x 5 columns]"
      ]
     },
     "execution_count": 4,
     "metadata": {},
     "output_type": "execute_result"
    }
   ],
   "source": [
    "# DataFrame auf den Zeitraum des Kalibrationsdatensatzes von 1997/01/01 - 2001/12/31 begrenzen\n",
    "insample = returns.loc['1997-01-01':'2001-12-31']\n",
    "insample"
   ]
  },
  {
   "cell_type": "markdown",
   "id": "505d7e06",
   "metadata": {},
   "source": [
    "Berechnung der notwendigen Eingabeparameter für die anschließenden Funktionen"
   ]
  },
  {
   "cell_type": "code",
   "execution_count": 5,
   "id": "f0b697e2",
   "metadata": {},
   "outputs": [],
   "source": [
    "# Berechnung der Varianz-Covarianz-Matrix, mittleren Renditen und Festlegung von Alpha-Quantil, Zeithorizont und risikolosem Zins\n",
    "insample_cov = insample.cov() #plot\n",
    "insample_mean_returns = insample.mean()\n",
    "alpha = 0.05\n",
    "days = 252\n",
    "rf = 0 #erklären"
   ]
  },
  {
   "cell_type": "markdown",
   "id": "ab34093d",
   "metadata": {},
   "source": [
    "**1.1 Bestimmung des Portfolios mit minimaler Varianz**"
   ]
  },
  {
   "cell_type": "markdown",
   "id": "32c3985f",
   "metadata": {},
   "source": [
    "Wir entscheiden uns für die **Numerische Optimierung**, da diese genauer ist als die Monte-Carlo-Simulation, welche sich nur an das Miniumum/Maximum annähert.\n",
    "\n",
    "**Funktion 1** berechnet die annualisierte Standardabweichung $𝜎=h^{T}Vh$ des Portfolios und übergibt diese an die Minimierungsfunktion in **Funktion 2**.\n",
    "\n",
    "Die **Nebenbedingung** stellt sicher, dass die Summe der Gewichte im Portfolio gleich 1 ist."
   ]
  },
  {
   "cell_type": "code",
   "execution_count": 6,
   "id": "4e20cf30",
   "metadata": {},
   "outputs": [],
   "source": [
    "# Funktion 1\n",
    "def calc_portfolio_std(weights, cov):\n",
    "    portfolio_std = np.sqrt(np.dot(np.dot(weights.T, cov), weights)) * np.sqrt(252) #h=15x1 Matrix-> [h.transpose * cov] * h = [1x15 * 15x15] * 15x1 = 1x15 * 15x1 = 1x1\n",
    "    return portfolio_std\n",
    "\n",
    "# Funktion 2\n",
    "def min_variance(cov):\n",
    "    num_assets = len(cov)\n",
    "    args = cov\n",
    "    constraints = ({'type': 'eq', 'fun': lambda x: np.sum(x) - 1}) #Nebenbedingung; ; eq für equality -> Gleichung != 0; np.sum(weights) - 1 = 0 (Summe der Gewichte müssen 1 ergeben und Gleichung muss gleich Null sein!)\n",
    "    bound = (0.0, 1.0)\n",
    "    bounds = tuple(bound for assets in range(num_assets))\n",
    "    result = sco.minimize(calc_portfolio_std, num_assets*[1/num_assets], args=args, \n",
    "                         method='SLSQP', bounds=bounds, constraints=constraints)\n",
    "    return result\n",
    "\n",
    "# Ausführen der Funktionen\n",
    "function_result = min_variance(insample_cov) #fun: gibt den ZF-wert (Min Varinaz) an & x: gibt die Gewichtungen der einzelnen Aktien im Portfolio an\n",
    "#function_result"
   ]
  },
  {
   "cell_type": "code",
   "execution_count": 7,
   "id": "477815eb",
   "metadata": {
    "scrolled": true
   },
   "outputs": [
    {
     "data": {
      "text/html": [
       "<div>\n",
       "<style scoped>\n",
       "    .dataframe tbody tr th:only-of-type {\n",
       "        vertical-align: middle;\n",
       "    }\n",
       "\n",
       "    .dataframe tbody tr th {\n",
       "        vertical-align: top;\n",
       "    }\n",
       "\n",
       "    .dataframe thead th {\n",
       "        text-align: right;\n",
       "    }\n",
       "</style>\n",
       "<table border=\"1\" class=\"dataframe\">\n",
       "  <thead>\n",
       "    <tr style=\"text-align: right;\">\n",
       "      <th></th>\n",
       "      <th>AIR</th>\n",
       "      <th>DTE</th>\n",
       "      <th>FDX</th>\n",
       "      <th>NKE</th>\n",
       "      <th>SAP</th>\n",
       "      <th>Function Result</th>\n",
       "    </tr>\n",
       "  </thead>\n",
       "  <tbody>\n",
       "    <tr>\n",
       "      <th>0</th>\n",
       "      <td>0.1</td>\n",
       "      <td>0.61</td>\n",
       "      <td>0.13</td>\n",
       "      <td>0.12</td>\n",
       "      <td>0.04</td>\n",
       "      <td>0.17943</td>\n",
       "    </tr>\n",
       "  </tbody>\n",
       "</table>\n",
       "</div>"
      ],
      "text/plain": [
       "   AIR   DTE   FDX   NKE   SAP  Function Result\n",
       "0  0.1  0.61  0.13  0.12  0.04          0.17943"
      ]
     },
     "execution_count": 7,
     "metadata": {},
     "output_type": "execute_result"
    }
   ],
   "source": [
    "# Ergebnisse der Optimierung in DataFrame abspeichern\n",
    "insample_min_port_variance = pd.DataFrame([round(x,2) for x in function_result['x']], index=tickers).T #Gewichte auf 2 Nachkommastellen runden\n",
    "insample_min_port_variance['Function Result'] = function_result['fun'] #Spalte für Zielfunktionswert\n",
    "insample_min_port_variance"
   ]
  },
  {
   "cell_type": "markdown",
   "id": "ba34257b",
   "metadata": {},
   "source": []
  },
  {
   "cell_type": "markdown",
   "id": "8413ddcb",
   "metadata": {},
   "source": [
    "**1.2 Bestimmung des Portfolios mit minimalem Value at Risk (VaR)**"
   ]
  },
  {
   "cell_type": "markdown",
   "id": "f39141a2",
   "metadata": {},
   "source": [
    "**Funktion 1** berechnet die annualisierten Mean Returns 𝜇, die annualisierte Standardabweichung $𝜎=h^{T}Vh$ und den Value at Risk des Portfolios und gibt den VaR aus, damit dieser von der Minimierungsfunktion in **Funktion 2** minimiert werden kann."
   ]
  },
  {
   "cell_type": "code",
   "execution_count": 8,
   "id": "b959988a",
   "metadata": {},
   "outputs": [],
   "source": [
    "# Funktion 1\n",
    "def calc_portfolio_VaR(weights, mean_returns, cov, alpha, days):\n",
    "    portfolio_return = np.sum(weights * mean_returns) * days #nur bei Logrenditen Addition möglich\n",
    "    portfolio_std = np.sqrt(np.dot(np.dot(weights.T, cov), weights)) * np.sqrt(days)\n",
    "    portfolio_VaR = abs(portfolio_return - (portfolio_std * stats.norm.ppf(1 - alpha))) #Erklären\n",
    "    return portfolio_VaR\n",
    "\n",
    "# Funktion 2\n",
    "def min_VaR(mean_returns, cov, alpha, days):\n",
    "    num_assets = len(mean_returns)\n",
    "    args = (mean_returns, cov, alpha ,days)\n",
    "    constraints = ({'type': 'eq', 'fun': lambda x: np.sum(x) - 1})\n",
    "    bound = (0.0, 1.0)\n",
    "    bounds = tuple(bound for asset in range(num_assets))\n",
    "    result = sco.minimize(calc_portfolio_VaR, num_assets*[1/num_assets], args=args, \n",
    "                         method='SLSQP', bounds=bounds, constraints=constraints)\n",
    "    return result\n",
    "\n",
    "# Ausführen der Funktionen\n",
    "function_result = min_VaR(insample_mean_returns, insample_cov, alpha, days)\n",
    "#function_result"
   ]
  },
  {
   "cell_type": "code",
   "execution_count": 9,
   "id": "a27dcfa4",
   "metadata": {},
   "outputs": [
    {
     "data": {
      "text/html": [
       "<div>\n",
       "<style scoped>\n",
       "    .dataframe tbody tr th:only-of-type {\n",
       "        vertical-align: middle;\n",
       "    }\n",
       "\n",
       "    .dataframe tbody tr th {\n",
       "        vertical-align: top;\n",
       "    }\n",
       "\n",
       "    .dataframe thead th {\n",
       "        text-align: right;\n",
       "    }\n",
       "</style>\n",
       "<table border=\"1\" class=\"dataframe\">\n",
       "  <thead>\n",
       "    <tr style=\"text-align: right;\">\n",
       "      <th></th>\n",
       "      <th>AIR</th>\n",
       "      <th>DTE</th>\n",
       "      <th>FDX</th>\n",
       "      <th>NKE</th>\n",
       "      <th>SAP</th>\n",
       "      <th>Function Result</th>\n",
       "    </tr>\n",
       "  </thead>\n",
       "  <tbody>\n",
       "    <tr>\n",
       "      <th>0</th>\n",
       "      <td>0.0</td>\n",
       "      <td>0.65</td>\n",
       "      <td>0.2</td>\n",
       "      <td>0.05</td>\n",
       "      <td>0.09</td>\n",
       "      <td>0.190809</td>\n",
       "    </tr>\n",
       "  </tbody>\n",
       "</table>\n",
       "</div>"
      ],
      "text/plain": [
       "   AIR   DTE  FDX   NKE   SAP  Function Result\n",
       "0  0.0  0.65  0.2  0.05  0.09         0.190809"
      ]
     },
     "execution_count": 9,
     "metadata": {},
     "output_type": "execute_result"
    }
   ],
   "source": [
    "# Ergebnisse der Optimierung in DataFrame abspeichern\n",
    "insample_min_port_VaR = pd.DataFrame([round(x,2) for x in function_result['x']], index=tickers).T\n",
    "insample_min_port_VaR['Function Result'] = function_result['fun']\n",
    "insample_min_port_VaR"
   ]
  },
  {
   "cell_type": "markdown",
   "id": "83e8a44f",
   "metadata": {},
   "source": [
    "**1.3 Bestimmung des Portfolios mit maximaler Sharpe Ratio (𝜇 - 𝜎 effizientes Portfolio)**\n",
    " \n",
    " "
   ]
  },
  {
   "cell_type": "markdown",
   "id": "11a7462a",
   "metadata": {},
   "source": [
    "**Funktion 1** berechnet die annualisierten Mean Returns 𝜇, die annualisierte Standardabweichung $𝜎=h^{T}Vh$ und die Sharpe-Ratio (𝜇 - rf) / 𝜎 des Portfolios und gibt die negative Sharpe Ratio aus, damit diese von der Minimierungsfunktion in **Funktion 2** maximiert werden kann."
   ]
  },
  {
   "cell_type": "code",
   "execution_count": 10,
   "id": "f94564e2",
   "metadata": {},
   "outputs": [],
   "source": [
    "# Funktion 1\n",
    "def calc_neg_sharpe(weights, mean_returns, cov, rf):\n",
    "    portfolio_return = np.sum(weights * mean_returns) * 252\n",
    "    portfolio_std = np.sqrt(np.dot(np.dot(weights.T, cov), weights)) * np.sqrt(252)\n",
    "    sharpe_ratio = (portfolio_return - rf) / portfolio_std\n",
    "    return -sharpe_ratio\n",
    "\n",
    "# Funktion 2\n",
    "def max_sharpe_ratio(mean_returns, cov, rf):\n",
    "    num_assets = len(mean_returns)\n",
    "    args = (mean_returns, cov, rf)\n",
    "    constraints = ({'type': 'eq', 'fun': lambda x: np.sum(x) -1})\n",
    "    bound = (0.0, 1.0)\n",
    "    bounds = tuple(bound for asset in range(num_assets))\n",
    "    result = sco.minimize(calc_neg_sharpe, num_assets*[1/num_assets], args=args, \n",
    "                          method='SLSQP', bounds=bounds, constraints=constraints)\n",
    "    return result\n",
    "\n",
    "# Ausführen der Funktionen\n",
    "function_result = max_sharpe_ratio(insample_mean_returns, insample_cov, rf)\n",
    "#function_result"
   ]
  },
  {
   "cell_type": "code",
   "execution_count": 11,
   "id": "1225b158",
   "metadata": {
    "scrolled": true
   },
   "outputs": [
    {
     "data": {
      "text/html": [
       "<div>\n",
       "<style scoped>\n",
       "    .dataframe tbody tr th:only-of-type {\n",
       "        vertical-align: middle;\n",
       "    }\n",
       "\n",
       "    .dataframe tbody tr th {\n",
       "        vertical-align: top;\n",
       "    }\n",
       "\n",
       "    .dataframe thead th {\n",
       "        text-align: right;\n",
       "    }\n",
       "</style>\n",
       "<table border=\"1\" class=\"dataframe\">\n",
       "  <thead>\n",
       "    <tr style=\"text-align: right;\">\n",
       "      <th></th>\n",
       "      <th>AIR</th>\n",
       "      <th>DTE</th>\n",
       "      <th>FDX</th>\n",
       "      <th>NKE</th>\n",
       "      <th>SAP</th>\n",
       "      <th>Function Result</th>\n",
       "    </tr>\n",
       "  </thead>\n",
       "  <tbody>\n",
       "    <tr>\n",
       "      <th>0</th>\n",
       "      <td>0.0</td>\n",
       "      <td>0.6</td>\n",
       "      <td>0.27</td>\n",
       "      <td>0.0</td>\n",
       "      <td>0.13</td>\n",
       "      <td>0.676498</td>\n",
       "    </tr>\n",
       "  </tbody>\n",
       "</table>\n",
       "</div>"
      ],
      "text/plain": [
       "   AIR  DTE   FDX  NKE   SAP  Function Result\n",
       "0  0.0  0.6  0.27  0.0  0.13         0.676498"
      ]
     },
     "execution_count": 11,
     "metadata": {},
     "output_type": "execute_result"
    }
   ],
   "source": [
    "# Ergebnisse der Optimierung in DataFrame abspeichern\n",
    "insample_max_port_SharpeRatio = pd.DataFrame([round(x,2) for x in function_result['x']], index=tickers).T\n",
    "insample_max_port_SharpeRatio['Function Result'] = -function_result['fun'] #hier Vorzeichen wieder umkehren!\n",
    "insample_max_port_SharpeRatio"
   ]
  },
  {
   "cell_type": "markdown",
   "id": "b4896728",
   "metadata": {},
   "source": [
    "**1.4 Vergleich der Gewichtungen der drei Strategien**"
   ]
  },
  {
   "cell_type": "code",
   "execution_count": 12,
   "id": "d9195c8e",
   "metadata": {
    "scrolled": true
   },
   "outputs": [
    {
     "data": {
      "text/html": [
       "<div>\n",
       "<style scoped>\n",
       "    .dataframe tbody tr th:only-of-type {\n",
       "        vertical-align: middle;\n",
       "    }\n",
       "\n",
       "    .dataframe tbody tr th {\n",
       "        vertical-align: top;\n",
       "    }\n",
       "\n",
       "    .dataframe thead th {\n",
       "        text-align: right;\n",
       "    }\n",
       "</style>\n",
       "<table border=\"1\" class=\"dataframe\">\n",
       "  <thead>\n",
       "    <tr style=\"text-align: right;\">\n",
       "      <th></th>\n",
       "      <th>AIR</th>\n",
       "      <th>DTE</th>\n",
       "      <th>FDX</th>\n",
       "      <th>NKE</th>\n",
       "      <th>SAP</th>\n",
       "      <th>Function Result</th>\n",
       "    </tr>\n",
       "  </thead>\n",
       "  <tbody>\n",
       "    <tr>\n",
       "      <th>Min Variance</th>\n",
       "      <td>0.1</td>\n",
       "      <td>0.61</td>\n",
       "      <td>0.13</td>\n",
       "      <td>0.12</td>\n",
       "      <td>0.04</td>\n",
       "      <td>0.179430</td>\n",
       "    </tr>\n",
       "    <tr>\n",
       "      <th>Min VaR</th>\n",
       "      <td>0.0</td>\n",
       "      <td>0.65</td>\n",
       "      <td>0.20</td>\n",
       "      <td>0.05</td>\n",
       "      <td>0.09</td>\n",
       "      <td>0.190809</td>\n",
       "    </tr>\n",
       "    <tr>\n",
       "      <th>Max Sharpe Ratio</th>\n",
       "      <td>0.0</td>\n",
       "      <td>0.60</td>\n",
       "      <td>0.27</td>\n",
       "      <td>0.00</td>\n",
       "      <td>0.13</td>\n",
       "      <td>0.676498</td>\n",
       "    </tr>\n",
       "  </tbody>\n",
       "</table>\n",
       "</div>"
      ],
      "text/plain": [
       "                  AIR   DTE   FDX   NKE   SAP  Function Result\n",
       "Min Variance      0.1  0.61  0.13  0.12  0.04         0.179430\n",
       "Min VaR           0.0  0.65  0.20  0.05  0.09         0.190809\n",
       "Max Sharpe Ratio  0.0  0.60  0.27  0.00  0.13         0.676498"
      ]
     },
     "execution_count": 12,
     "metadata": {},
     "output_type": "execute_result"
    }
   ],
   "source": [
    "# Zusammenfassung der Portfolios in einem DataFrame\n",
    "insample_portfolios = pd.concat([insample_min_port_variance, insample_min_port_VaR, insample_max_port_SharpeRatio], axis=0)\n",
    "insample_portfolios.index = ['Min Variance', 'Min VaR', 'Max Sharpe Ratio']\n",
    "insample_portfolios"
   ]
  },
  {
   "cell_type": "markdown",
   "id": "92ea91a9",
   "metadata": {},
   "source": [
    "Beschreibung der Gewichtungen; Unterschiede & Ähnlichkeiten; ZF-Werte..."
   ]
  },
  {
   "cell_type": "markdown",
   "id": "25939d1c",
   "metadata": {},
   "source": [
    "# 2. Buy-and-Hold Strategien (2002-2021)"
   ]
  },
  {
   "cell_type": "markdown",
   "id": "32f02565",
   "metadata": {},
   "source": [
    "Aufgabenstellung: Implementieren Sie Buy-and-Hold Strategien für Ihre drei Portfolios von 2002-2021 \n",
    "auf Grundlage der errechneten Gewichte Ihrer 15 Aktien. "
   ]
  },
  {
   "cell_type": "code",
   "execution_count": 13,
   "id": "914359b3",
   "metadata": {},
   "outputs": [
    {
     "data": {
      "text/html": [
       "<div>\n",
       "<style scoped>\n",
       "    .dataframe tbody tr th:only-of-type {\n",
       "        vertical-align: middle;\n",
       "    }\n",
       "\n",
       "    .dataframe tbody tr th {\n",
       "        vertical-align: top;\n",
       "    }\n",
       "\n",
       "    .dataframe thead th {\n",
       "        text-align: right;\n",
       "    }\n",
       "</style>\n",
       "<table border=\"1\" class=\"dataframe\">\n",
       "  <thead>\n",
       "    <tr style=\"text-align: right;\">\n",
       "      <th></th>\n",
       "      <th>AIR</th>\n",
       "      <th>DTE</th>\n",
       "      <th>FDX</th>\n",
       "      <th>NKE</th>\n",
       "      <th>SAP</th>\n",
       "    </tr>\n",
       "    <tr>\n",
       "      <th>Date</th>\n",
       "      <th></th>\n",
       "      <th></th>\n",
       "      <th></th>\n",
       "      <th></th>\n",
       "      <th></th>\n",
       "    </tr>\n",
       "  </thead>\n",
       "  <tbody>\n",
       "    <tr>\n",
       "      <th>2002-01-02</th>\n",
       "      <td>0.020868</td>\n",
       "      <td>0.010201</td>\n",
       "      <td>-0.019070</td>\n",
       "      <td>0.012019</td>\n",
       "      <td>0.014921</td>\n",
       "    </tr>\n",
       "    <tr>\n",
       "      <th>2002-01-03</th>\n",
       "      <td>0.048791</td>\n",
       "      <td>-0.005443</td>\n",
       "      <td>0.026751</td>\n",
       "      <td>-0.007406</td>\n",
       "      <td>0.041106</td>\n",
       "    </tr>\n",
       "    <tr>\n",
       "      <th>2002-01-04</th>\n",
       "      <td>0.018462</td>\n",
       "      <td>-0.008340</td>\n",
       "      <td>0.033850</td>\n",
       "      <td>0.008810</td>\n",
       "      <td>0.040052</td>\n",
       "    </tr>\n",
       "    <tr>\n",
       "      <th>2002-01-07</th>\n",
       "      <td>-0.014330</td>\n",
       "      <td>-0.007445</td>\n",
       "      <td>0.021766</td>\n",
       "      <td>0.003328</td>\n",
       "      <td>-0.030621</td>\n",
       "    </tr>\n",
       "    <tr>\n",
       "      <th>2002-01-08</th>\n",
       "      <td>0.015346</td>\n",
       "      <td>-0.019229</td>\n",
       "      <td>-0.005079</td>\n",
       "      <td>0.002793</td>\n",
       "      <td>-0.025852</td>\n",
       "    </tr>\n",
       "    <tr>\n",
       "      <th>...</th>\n",
       "      <td>...</td>\n",
       "      <td>...</td>\n",
       "      <td>...</td>\n",
       "      <td>...</td>\n",
       "      <td>...</td>\n",
       "    </tr>\n",
       "    <tr>\n",
       "      <th>2021-12-23</th>\n",
       "      <td>0.011757</td>\n",
       "      <td>0.001028</td>\n",
       "      <td>0.015324</td>\n",
       "      <td>0.001389</td>\n",
       "      <td>0.004866</td>\n",
       "    </tr>\n",
       "    <tr>\n",
       "      <th>2021-12-27</th>\n",
       "      <td>0.005181</td>\n",
       "      <td>0.008778</td>\n",
       "      <td>0.009528</td>\n",
       "      <td>0.011463</td>\n",
       "      <td>0.008601</td>\n",
       "    </tr>\n",
       "    <tr>\n",
       "      <th>2021-12-28</th>\n",
       "      <td>0.007466</td>\n",
       "      <td>0.007439</td>\n",
       "      <td>0.000741</td>\n",
       "      <td>-0.006946</td>\n",
       "      <td>0.001556</td>\n",
       "    </tr>\n",
       "    <tr>\n",
       "      <th>2021-12-29</th>\n",
       "      <td>0.002306</td>\n",
       "      <td>0.005460</td>\n",
       "      <td>0.004086</td>\n",
       "      <td>0.014081</td>\n",
       "      <td>-0.010442</td>\n",
       "    </tr>\n",
       "    <tr>\n",
       "      <th>2021-12-30</th>\n",
       "      <td>-0.013655</td>\n",
       "      <td>-0.000503</td>\n",
       "      <td>0.004147</td>\n",
       "      <td>-0.007672</td>\n",
       "      <td>0.002567</td>\n",
       "    </tr>\n",
       "  </tbody>\n",
       "</table>\n",
       "<p>5035 rows × 5 columns</p>\n",
       "</div>"
      ],
      "text/plain": [
       "                 AIR       DTE       FDX       NKE       SAP\n",
       "Date                                                        \n",
       "2002-01-02  0.020868  0.010201 -0.019070  0.012019  0.014921\n",
       "2002-01-03  0.048791 -0.005443  0.026751 -0.007406  0.041106\n",
       "2002-01-04  0.018462 -0.008340  0.033850  0.008810  0.040052\n",
       "2002-01-07 -0.014330 -0.007445  0.021766  0.003328 -0.030621\n",
       "2002-01-08  0.015346 -0.019229 -0.005079  0.002793 -0.025852\n",
       "...              ...       ...       ...       ...       ...\n",
       "2021-12-23  0.011757  0.001028  0.015324  0.001389  0.004866\n",
       "2021-12-27  0.005181  0.008778  0.009528  0.011463  0.008601\n",
       "2021-12-28  0.007466  0.007439  0.000741 -0.006946  0.001556\n",
       "2021-12-29  0.002306  0.005460  0.004086  0.014081 -0.010442\n",
       "2021-12-30 -0.013655 -0.000503  0.004147 -0.007672  0.002567\n",
       "\n",
       "[5035 rows x 5 columns]"
      ]
     },
     "execution_count": 13,
     "metadata": {},
     "output_type": "execute_result"
    }
   ],
   "source": [
    "# DataFrame auf den Zeitraum des Testdatensatzes von 2002/01/01 - 2021/12/31 begrenzen\n",
    "outsample = returns.loc['2002-01-01':'2021-12-31']\n",
    "outsample"
   ]
  },
  {
   "cell_type": "code",
   "execution_count": 14,
   "id": "d43a0f1c",
   "metadata": {},
   "outputs": [
    {
     "data": {
      "text/html": [
       "<div>\n",
       "<style scoped>\n",
       "    .dataframe tbody tr th:only-of-type {\n",
       "        vertical-align: middle;\n",
       "    }\n",
       "\n",
       "    .dataframe tbody tr th {\n",
       "        vertical-align: top;\n",
       "    }\n",
       "\n",
       "    .dataframe thead th {\n",
       "        text-align: right;\n",
       "    }\n",
       "</style>\n",
       "<table border=\"1\" class=\"dataframe\">\n",
       "  <thead>\n",
       "    <tr style=\"text-align: right;\">\n",
       "      <th></th>\n",
       "      <th>AIR</th>\n",
       "      <th>DTE</th>\n",
       "      <th>FDX</th>\n",
       "      <th>NKE</th>\n",
       "      <th>SAP</th>\n",
       "    </tr>\n",
       "  </thead>\n",
       "  <tbody>\n",
       "    <tr>\n",
       "      <th>Min Variance</th>\n",
       "      <td>0.1</td>\n",
       "      <td>0.61</td>\n",
       "      <td>0.13</td>\n",
       "      <td>0.12</td>\n",
       "      <td>0.04</td>\n",
       "    </tr>\n",
       "    <tr>\n",
       "      <th>Min VaR</th>\n",
       "      <td>0.0</td>\n",
       "      <td>0.65</td>\n",
       "      <td>0.20</td>\n",
       "      <td>0.05</td>\n",
       "      <td>0.09</td>\n",
       "    </tr>\n",
       "    <tr>\n",
       "      <th>Max Sharpe Ratio</th>\n",
       "      <td>0.0</td>\n",
       "      <td>0.60</td>\n",
       "      <td>0.27</td>\n",
       "      <td>0.00</td>\n",
       "      <td>0.13</td>\n",
       "    </tr>\n",
       "  </tbody>\n",
       "</table>\n",
       "</div>"
      ],
      "text/plain": [
       "                  AIR   DTE   FDX   NKE   SAP\n",
       "Min Variance      0.1  0.61  0.13  0.12  0.04\n",
       "Min VaR           0.0  0.65  0.20  0.05  0.09\n",
       "Max Sharpe Ratio  0.0  0.60  0.27  0.00  0.13"
      ]
     },
     "execution_count": 14,
     "metadata": {},
     "output_type": "execute_result"
    }
   ],
   "source": [
    "# Dataframe nur mit Gewichtungen der Aktien\n",
    "insample_weights = insample_portfolios.drop(['Function Result'], axis=1)\n",
    "insample_weights"
   ]
  },
  {
   "cell_type": "markdown",
   "id": "e1835e1e",
   "metadata": {},
   "source": [
    "BaH-Strategie entwickeln..."
   ]
  },
  {
   "cell_type": "code",
   "execution_count": 15,
   "id": "1f72fb86",
   "metadata": {},
   "outputs": [
    {
     "data": {
      "text/html": [
       "<div>\n",
       "<style scoped>\n",
       "    .dataframe tbody tr th:only-of-type {\n",
       "        vertical-align: middle;\n",
       "    }\n",
       "\n",
       "    .dataframe tbody tr th {\n",
       "        vertical-align: top;\n",
       "    }\n",
       "\n",
       "    .dataframe thead th {\n",
       "        text-align: right;\n",
       "    }\n",
       "</style>\n",
       "<table border=\"1\" class=\"dataframe\">\n",
       "  <thead>\n",
       "    <tr style=\"text-align: right;\">\n",
       "      <th></th>\n",
       "      <th>Min Variance</th>\n",
       "      <th>Min VaR</th>\n",
       "      <th>Max Sharpe Ratio</th>\n",
       "    </tr>\n",
       "  </thead>\n",
       "  <tbody>\n",
       "    <tr>\n",
       "      <th>Returns</th>\n",
       "      <td>2.113721</td>\n",
       "      <td>2.011714</td>\n",
       "      <td>1.931366</td>\n",
       "    </tr>\n",
       "  </tbody>\n",
       "</table>\n",
       "</div>"
      ],
      "text/plain": [
       "        Min Variance   Min VaR Max Sharpe Ratio\n",
       "Returns     2.113721  2.011714         1.931366"
      ]
     },
     "execution_count": 15,
     "metadata": {},
     "output_type": "execute_result"
    }
   ],
   "source": [
    "# Kumulierte Summen berechnen\n",
    "outsample_cumulated = outsample.cumsum() #Additivität\n",
    "\n",
    "# Returns der Strategien berechnen\n",
    "BaH_returns = pd.DataFrame(columns = ['Min Variance', 'Min VaR', 'Max Sharpe Ratio'], index=['Returns'])\n",
    "BaH_returns.loc['Returns'] = [np.sum(outsample_cumulated.iloc[-1] * insample_weights.iloc[i]) for i in range(len(insample_weights))]\n",
    "BaH_returns"
   ]
  },
  {
   "cell_type": "code",
   "execution_count": 16,
   "id": "ece7afdc",
   "metadata": {},
   "outputs": [],
   "source": [
    "# BaH-Strategie mit minimum Variance Portfolio\n",
    "BaH_min_variance = insample_weights.iloc[0]*outsample_cumulated #Array mit Gewichtungen * kumuliertem Outsample Datensatz\n",
    "BaH_min_variance['Summe'] = np.sum(BaH_min_variance, axis=1)\n",
    "\n",
    "# BaH-Strategie mit minimun VaR Portfolio\n",
    "BaH_min_VaR = insample_weights.iloc[1]*outsample_cumulated\n",
    "BaH_min_VaR['Summe'] = np.sum(BaH_min_VaR, axis=1)\n",
    "\n",
    "# BaH-Strategie mit maximum Sharpe Ratio Portfolio\n",
    "BaH_max_SharpeRatio = insample_weights.iloc[2]*outsample_cumulated\n",
    "BaH_max_SharpeRatio['Summe'] = np.sum(BaH_max_SharpeRatio, axis=1)"
   ]
  },
  {
   "cell_type": "code",
   "execution_count": 17,
   "id": "aa6e7edb",
   "metadata": {},
   "outputs": [],
   "source": [
    "#BaH_min_variance\n",
    "#BaH_min_VaR\n",
    "#BaH_max_SharpeRatio"
   ]
  },
  {
   "cell_type": "markdown",
   "id": "2d9205c9",
   "metadata": {},
   "source": [
    "# 3. Diskussion der Portfolio-Performances "
   ]
  },
  {
   "cell_type": "markdown",
   "id": "53712806",
   "metadata": {},
   "source": [
    "Aufgabenstellung: Diskutieren Sie die Performance Ihrer drei Portfolios."
   ]
  },
  {
   "cell_type": "code",
   "execution_count": 18,
   "id": "197712b6",
   "metadata": {},
   "outputs": [
    {
     "data": {
      "text/html": [
       "<div>\n",
       "<style scoped>\n",
       "    .dataframe tbody tr th:only-of-type {\n",
       "        vertical-align: middle;\n",
       "    }\n",
       "\n",
       "    .dataframe tbody tr th {\n",
       "        vertical-align: top;\n",
       "    }\n",
       "\n",
       "    .dataframe thead th {\n",
       "        text-align: right;\n",
       "    }\n",
       "</style>\n",
       "<table border=\"1\" class=\"dataframe\">\n",
       "  <thead>\n",
       "    <tr style=\"text-align: right;\">\n",
       "      <th></th>\n",
       "      <th>AIR</th>\n",
       "      <th>DTE</th>\n",
       "      <th>FDX</th>\n",
       "      <th>NKE</th>\n",
       "      <th>SAP</th>\n",
       "      <th>Summe</th>\n",
       "    </tr>\n",
       "  </thead>\n",
       "  <tbody>\n",
       "    <tr>\n",
       "      <th>Min Variance</th>\n",
       "      <td>0.156297</td>\n",
       "      <td>1.253767</td>\n",
       "      <td>0.226632</td>\n",
       "      <td>0.407038</td>\n",
       "      <td>0.069986</td>\n",
       "      <td>2.113721</td>\n",
       "    </tr>\n",
       "    <tr>\n",
       "      <th>Min VaR</th>\n",
       "      <td>0.000000</td>\n",
       "      <td>1.335981</td>\n",
       "      <td>0.348665</td>\n",
       "      <td>0.169599</td>\n",
       "      <td>0.157469</td>\n",
       "      <td>2.011714</td>\n",
       "    </tr>\n",
       "    <tr>\n",
       "      <th>Max Sharpe Ratio</th>\n",
       "      <td>0.000000</td>\n",
       "      <td>1.233214</td>\n",
       "      <td>0.470697</td>\n",
       "      <td>0.000000</td>\n",
       "      <td>0.227455</td>\n",
       "      <td>1.931366</td>\n",
       "    </tr>\n",
       "  </tbody>\n",
       "</table>\n",
       "</div>"
      ],
      "text/plain": [
       "                       AIR       DTE       FDX       NKE       SAP     Summe\n",
       "Min Variance      0.156297  1.253767  0.226632  0.407038  0.069986  2.113721\n",
       "Min VaR           0.000000  1.335981  0.348665  0.169599  0.157469  2.011714\n",
       "Max Sharpe Ratio  0.000000  1.233214  0.470697  0.000000  0.227455  1.931366"
      ]
     },
     "execution_count": 18,
     "metadata": {},
     "output_type": "execute_result"
    }
   ],
   "source": [
    "# Renditen der Strategien am 2021/12/31\n",
    "BaH = pd.concat(x.iloc[-1:] for x in [BaH_min_variance, BaH_min_VaR, BaH_max_SharpeRatio])\n",
    "BaH.index = ['Min Variance', 'Min VaR', 'Max Sharpe Ratio']\n",
    "BaH"
   ]
  },
  {
   "cell_type": "code",
   "execution_count": 19,
   "id": "95734d9d",
   "metadata": {},
   "outputs": [
    {
     "data": {
      "image/png": "[encoded data removed]",
      "text/plain": [
       "<Figure size 1080x504 with 1 Axes>"
      ]
     },
     "metadata": {
      "needs_background": "light"
     },
     "output_type": "display_data"
    }
   ],
   "source": [
    "# Plot\n",
    "plt.figure(figsize=(15,7))\n",
    "plt.plot(BaH_min_variance['Summe'], label = 'Min Varianz Portfolio')\n",
    "plt.plot(BaH_min_VaR['Summe'], label = 'Min Value at Risk Portfolio')\n",
    "plt.plot(BaH_max_SharpeRatio['Summe'], label = 'Max Sharpe Ratio Portfolio')\n",
    "plt.xlabel('year')\n",
    "plt.ylabel('returns')\n",
    "plt.grid()\n",
    "plt.legend();"
   ]
  },
  {
   "cell_type": "code",
   "execution_count": 20,
   "id": "bc3dc64f",
   "metadata": {},
   "outputs": [
    {
     "data": {
      "text/html": [
       "<div>\n",
       "<style scoped>\n",
       "    .dataframe tbody tr th:only-of-type {\n",
       "        vertical-align: middle;\n",
       "    }\n",
       "\n",
       "    .dataframe tbody tr th {\n",
       "        vertical-align: top;\n",
       "    }\n",
       "\n",
       "    .dataframe thead th {\n",
       "        text-align: right;\n",
       "    }\n",
       "</style>\n",
       "<table border=\"1\" class=\"dataframe\">\n",
       "  <thead>\n",
       "    <tr style=\"text-align: right;\">\n",
       "      <th></th>\n",
       "      <th>AIR</th>\n",
       "      <th>DTE</th>\n",
       "      <th>FDX</th>\n",
       "      <th>NKE</th>\n",
       "      <th>SAP</th>\n",
       "      <th>Function Result</th>\n",
       "    </tr>\n",
       "  </thead>\n",
       "  <tbody>\n",
       "    <tr>\n",
       "      <th>Min Variance</th>\n",
       "      <td>0.1</td>\n",
       "      <td>0.61</td>\n",
       "      <td>0.13</td>\n",
       "      <td>0.12</td>\n",
       "      <td>0.04</td>\n",
       "      <td>0.179430</td>\n",
       "    </tr>\n",
       "    <tr>\n",
       "      <th>Min VaR</th>\n",
       "      <td>0.0</td>\n",
       "      <td>0.65</td>\n",
       "      <td>0.20</td>\n",
       "      <td>0.05</td>\n",
       "      <td>0.09</td>\n",
       "      <td>0.190809</td>\n",
       "    </tr>\n",
       "    <tr>\n",
       "      <th>Max Sharpe Ratio</th>\n",
       "      <td>0.0</td>\n",
       "      <td>0.60</td>\n",
       "      <td>0.27</td>\n",
       "      <td>0.00</td>\n",
       "      <td>0.13</td>\n",
       "      <td>0.676498</td>\n",
       "    </tr>\n",
       "  </tbody>\n",
       "</table>\n",
       "</div>"
      ],
      "text/plain": [
       "                  AIR   DTE   FDX   NKE   SAP  Function Result\n",
       "Min Variance      0.1  0.61  0.13  0.12  0.04         0.179430\n",
       "Min VaR           0.0  0.65  0.20  0.05  0.09         0.190809\n",
       "Max Sharpe Ratio  0.0  0.60  0.27  0.00  0.13         0.676498"
      ]
     },
     "execution_count": 20,
     "metadata": {},
     "output_type": "execute_result"
    }
   ],
   "source": [
    "# Erstellen eines DataFrames mit den Gewichtungen der drei Portfolios\n",
    "insample_portfolios = pd.concat([x.iloc[:,:5] for x in [insample_min_port_variance, insample_min_port_VaR, insample_max_port_SharpeRatio]], axis=0)\n",
    "insample_portfolios['Function Result'] = np.array([insample_min_port_variance.iloc[:,5], insample_min_port_VaR.iloc[:,5], insample_max_port_SharpeRatio.iloc[:,5]])\n",
    "insample_portfolios.index = ['Min Variance', 'Min VaR', 'Max Sharpe Ratio']\n",
    "insample_portfolios"
   ]
  },
  {
   "cell_type": "markdown",
   "id": "fd919402",
   "metadata": {},
   "source": [
    "**Diskussion:**\n",
    "- Beste Strategie\n",
    "- langfrisitger Trend\n",
    "- Finanzkrise 2008 und Corona Krise 2020 erkennbar\n",
    "- welche Strategie am besten in Krisen?\n",
    "- Vergleich zur Benchmark"
   ]
  },
  {
   "cell_type": "code",
   "execution_count": null,
   "id": "1f544f44",
   "metadata": {},
   "outputs": [],
   "source": []
  },
  {
   "cell_type": "markdown",
   "id": "fe52b596",
   "metadata": {},
   "source": [
    "# 4. Vergleich der Strategien mit einem gleichgewichteten Portfolio und Grafische Darstellung der Strategien (2002-2021)"
   ]
  },
  {
   "cell_type": "markdown",
   "id": "04e2ee72",
   "metadata": {},
   "source": [
    "Aufgabenstellung: Erstellen Sie eine Grafik für den Zeitraum 2002-2021, welche den Kursverlauf Ihrer \n",
    "drei Portfoliostrategien einem gleichgewichteten Portfolio aus den 15 Aktien als \n",
    "Benchmark gegenüberstellt."
   ]
  },
  {
   "cell_type": "code",
   "execution_count": 21,
   "id": "77b84a2b",
   "metadata": {},
   "outputs": [
    {
     "data": {
      "text/html": [
       "<div>\n",
       "<style scoped>\n",
       "    .dataframe tbody tr th:only-of-type {\n",
       "        vertical-align: middle;\n",
       "    }\n",
       "\n",
       "    .dataframe tbody tr th {\n",
       "        vertical-align: top;\n",
       "    }\n",
       "\n",
       "    .dataframe thead th {\n",
       "        text-align: right;\n",
       "    }\n",
       "</style>\n",
       "<table border=\"1\" class=\"dataframe\">\n",
       "  <thead>\n",
       "    <tr style=\"text-align: right;\">\n",
       "      <th></th>\n",
       "      <th>AIR</th>\n",
       "      <th>DTE</th>\n",
       "      <th>FDX</th>\n",
       "      <th>NKE</th>\n",
       "      <th>SAP</th>\n",
       "      <th>Summe</th>\n",
       "    </tr>\n",
       "    <tr>\n",
       "      <th>Date</th>\n",
       "      <th></th>\n",
       "      <th></th>\n",
       "      <th></th>\n",
       "      <th></th>\n",
       "      <th></th>\n",
       "      <th></th>\n",
       "    </tr>\n",
       "  </thead>\n",
       "  <tbody>\n",
       "    <tr>\n",
       "      <th>2002-01-02</th>\n",
       "      <td>0.004174</td>\n",
       "      <td>0.002040</td>\n",
       "      <td>-0.003814</td>\n",
       "      <td>0.002404</td>\n",
       "      <td>0.002984</td>\n",
       "      <td>0.007788</td>\n",
       "    </tr>\n",
       "    <tr>\n",
       "      <th>2002-01-03</th>\n",
       "      <td>0.013932</td>\n",
       "      <td>0.000951</td>\n",
       "      <td>0.001536</td>\n",
       "      <td>0.000923</td>\n",
       "      <td>0.011205</td>\n",
       "      <td>0.028547</td>\n",
       "    </tr>\n",
       "    <tr>\n",
       "      <th>2002-01-04</th>\n",
       "      <td>0.017624</td>\n",
       "      <td>-0.000717</td>\n",
       "      <td>0.008306</td>\n",
       "      <td>0.002685</td>\n",
       "      <td>0.019216</td>\n",
       "      <td>0.047114</td>\n",
       "    </tr>\n",
       "    <tr>\n",
       "      <th>2002-01-07</th>\n",
       "      <td>0.014758</td>\n",
       "      <td>-0.002206</td>\n",
       "      <td>0.012659</td>\n",
       "      <td>0.003350</td>\n",
       "      <td>0.013092</td>\n",
       "      <td>0.041654</td>\n",
       "    </tr>\n",
       "    <tr>\n",
       "      <th>2002-01-08</th>\n",
       "      <td>0.017827</td>\n",
       "      <td>-0.006051</td>\n",
       "      <td>0.011644</td>\n",
       "      <td>0.003909</td>\n",
       "      <td>0.007921</td>\n",
       "      <td>0.035250</td>\n",
       "    </tr>\n",
       "    <tr>\n",
       "      <th>...</th>\n",
       "      <td>...</td>\n",
       "      <td>...</td>\n",
       "      <td>...</td>\n",
       "      <td>...</td>\n",
       "      <td>...</td>\n",
       "      <td>...</td>\n",
       "    </tr>\n",
       "    <tr>\n",
       "      <th>2021-12-23</th>\n",
       "      <td>0.312335</td>\n",
       "      <td>0.406836</td>\n",
       "      <td>0.344964</td>\n",
       "      <td>0.676212</td>\n",
       "      <td>0.349475</td>\n",
       "      <td>2.089822</td>\n",
       "    </tr>\n",
       "    <tr>\n",
       "      <th>2021-12-27</th>\n",
       "      <td>0.313372</td>\n",
       "      <td>0.408592</td>\n",
       "      <td>0.346870</td>\n",
       "      <td>0.678504</td>\n",
       "      <td>0.351195</td>\n",
       "      <td>2.098532</td>\n",
       "    </tr>\n",
       "    <tr>\n",
       "      <th>2021-12-28</th>\n",
       "      <td>0.314865</td>\n",
       "      <td>0.410080</td>\n",
       "      <td>0.347018</td>\n",
       "      <td>0.677115</td>\n",
       "      <td>0.351506</td>\n",
       "      <td>2.100584</td>\n",
       "    </tr>\n",
       "    <tr>\n",
       "      <th>2021-12-29</th>\n",
       "      <td>0.315326</td>\n",
       "      <td>0.411172</td>\n",
       "      <td>0.347835</td>\n",
       "      <td>0.679931</td>\n",
       "      <td>0.349418</td>\n",
       "      <td>2.103682</td>\n",
       "    </tr>\n",
       "    <tr>\n",
       "      <th>2021-12-30</th>\n",
       "      <td>0.312595</td>\n",
       "      <td>0.411071</td>\n",
       "      <td>0.348665</td>\n",
       "      <td>0.678397</td>\n",
       "      <td>0.349931</td>\n",
       "      <td>2.100659</td>\n",
       "    </tr>\n",
       "  </tbody>\n",
       "</table>\n",
       "<p>5035 rows × 6 columns</p>\n",
       "</div>"
      ],
      "text/plain": [
       "                 AIR       DTE       FDX       NKE       SAP     Summe\n",
       "Date                                                                  \n",
       "2002-01-02  0.004174  0.002040 -0.003814  0.002404  0.002984  0.007788\n",
       "2002-01-03  0.013932  0.000951  0.001536  0.000923  0.011205  0.028547\n",
       "2002-01-04  0.017624 -0.000717  0.008306  0.002685  0.019216  0.047114\n",
       "2002-01-07  0.014758 -0.002206  0.012659  0.003350  0.013092  0.041654\n",
       "2002-01-08  0.017827 -0.006051  0.011644  0.003909  0.007921  0.035250\n",
       "...              ...       ...       ...       ...       ...       ...\n",
       "2021-12-23  0.312335  0.406836  0.344964  0.676212  0.349475  2.089822\n",
       "2021-12-27  0.313372  0.408592  0.346870  0.678504  0.351195  2.098532\n",
       "2021-12-28  0.314865  0.410080  0.347018  0.677115  0.351506  2.100584\n",
       "2021-12-29  0.315326  0.411172  0.347835  0.679931  0.349418  2.103682\n",
       "2021-12-30  0.312595  0.411071  0.348665  0.678397  0.349931  2.100659\n",
       "\n",
       "[5035 rows x 6 columns]"
      ]
     },
     "execution_count": 21,
     "metadata": {},
     "output_type": "execute_result"
    }
   ],
   "source": [
    "# Erstellen der BaH-Strategie mit einem gleichgewichteten Portfolio\n",
    "BaH_eq_weights = (1/len(tickers))*outsample\n",
    "BaH_eq_weights = BaH_eq_weights.cumsum()\n",
    "BaH_eq_weights['Summe'] = np.sum(BaH_eq_weights, axis=1)\n",
    "BaH_eq_weights"
   ]
  },
  {
   "cell_type": "code",
   "execution_count": 22,
   "id": "54dc0aec",
   "metadata": {},
   "outputs": [
    {
     "data": {
      "image/png": "[encoded data removed]",
      "text/plain": [
       "<Figure size 1080x504 with 1 Axes>"
      ]
     },
     "metadata": {
      "needs_background": "light"
     },
     "output_type": "display_data"
    }
   ],
   "source": [
    "plt.figure(figsize=(15,7))\n",
    "plt.plot(BaH_min_variance['Summe'], label = 'Min Varianz Portfolio')\n",
    "plt.plot(BaH_min_VaR['Summe'], label = 'Min Value at Risk Portfolio')\n",
    "plt.plot(BaH_max_SharpeRatio['Summe'], label = 'Max Sharpe Ratio Portfolio')\n",
    "plt.plot(BaH_eq_weights['Summe'], label = 'Gleichgewichtetes Portfolio')\n",
    "plt.xlabel('year')\n",
    "plt.ylabel('returns')\n",
    "plt.grid()\n",
    "plt.legend();"
   ]
  },
  {
   "cell_type": "markdown",
   "id": "04247042",
   "metadata": {},
   "source": [
    "**Diskussion:**\n",
    "- Strategien oder Benchmark besser?\n",
    "- langfrisitger Trend\n",
    "- Finanzkrise 2008 und Corona Krise 2020"
   ]
  },
  {
   "cell_type": "code",
   "execution_count": null,
   "id": "a193af68",
   "metadata": {},
   "outputs": [],
   "source": []
  },
  {
   "cell_type": "markdown",
   "id": "3a02a3cb",
   "metadata": {},
   "source": [
    "# 5. Portfolios mit min. Varianz, min. VaR und max. Sharpe Ratio (2017-2021)"
   ]
  },
  {
   "cell_type": "markdown",
   "id": "20a9853f",
   "metadata": {},
   "source": [
    "Aufgabenstellung: Berechnen Sie die Portfolios mit der minimalen Varianz, dem minimalen VaR und der \n",
    "maximalen Sharpe Ratio nun für den Zeitraum von 2017-2021 und vergleichen Sie die \n",
    "Portfoliogewichte mit den Ihren."
   ]
  },
  {
   "cell_type": "code",
   "execution_count": 23,
   "id": "5084c325",
   "metadata": {},
   "outputs": [],
   "source": [
    "#Testdatensatz auf den gekürzten Zeitraum von 2017/01/01 - 2021/12/31 begrenzen\n",
    "outsample_shorted = outsample.loc['2017-01-01':'2021-12-31']\n",
    "#outsample_shorted"
   ]
  },
  {
   "cell_type": "code",
   "execution_count": 24,
   "id": "61c5b664",
   "metadata": {},
   "outputs": [],
   "source": [
    "# Berechnung der Varianz-Covarianz-Matrix und mitteleren Renditen; alpha-Quantil, Zeithorizont und risikoloser Zins wie vorher (siehe 1.2 & 1.3)\n",
    "outsample_shorted_cov = outsample_shorted.cov()\n",
    "outsample_shorted_mean_returns = outsample_shorted.mean()"
   ]
  },
  {
   "cell_type": "markdown",
   "id": "d7d26928",
   "metadata": {},
   "source": [
    "**5.1 Bestimmung des Portfolios mit minimaler Varianz**"
   ]
  },
  {
   "cell_type": "code",
   "execution_count": 25,
   "id": "1073e0a8",
   "metadata": {},
   "outputs": [],
   "source": [
    "# Ausführen der Funktionen aus Kapitel 1.1\n",
    "function_result = min_variance(outsample_shorted_cov)\n",
    "#function_result"
   ]
  },
  {
   "cell_type": "code",
   "execution_count": 26,
   "id": "d8f27b4d",
   "metadata": {},
   "outputs": [
    {
     "data": {
      "text/html": [
       "<div>\n",
       "<style scoped>\n",
       "    .dataframe tbody tr th:only-of-type {\n",
       "        vertical-align: middle;\n",
       "    }\n",
       "\n",
       "    .dataframe tbody tr th {\n",
       "        vertical-align: top;\n",
       "    }\n",
       "\n",
       "    .dataframe thead th {\n",
       "        text-align: right;\n",
       "    }\n",
       "</style>\n",
       "<table border=\"1\" class=\"dataframe\">\n",
       "  <thead>\n",
       "    <tr style=\"text-align: right;\">\n",
       "      <th></th>\n",
       "      <th>AIR</th>\n",
       "      <th>DTE</th>\n",
       "      <th>FDX</th>\n",
       "      <th>NKE</th>\n",
       "      <th>SAP</th>\n",
       "      <th>Function Result</th>\n",
       "    </tr>\n",
       "  </thead>\n",
       "  <tbody>\n",
       "    <tr>\n",
       "      <th>0</th>\n",
       "      <td>0.0</td>\n",
       "      <td>0.42</td>\n",
       "      <td>0.08</td>\n",
       "      <td>0.21</td>\n",
       "      <td>0.28</td>\n",
       "      <td>0.208458</td>\n",
       "    </tr>\n",
       "  </tbody>\n",
       "</table>\n",
       "</div>"
      ],
      "text/plain": [
       "   AIR   DTE   FDX   NKE   SAP  Function Result\n",
       "0  0.0  0.42  0.08  0.21  0.28         0.208458"
      ]
     },
     "execution_count": 26,
     "metadata": {},
     "output_type": "execute_result"
    }
   ],
   "source": [
    "#Ergebnisse der Optimierung in DataFrame abspeichern\n",
    "outsample_shorted_min_port_variance = pd.DataFrame([round(x,2) for x in function_result['x']], index=tickers).T\n",
    "outsample_shorted_min_port_variance['Function Result'] = function_result['fun']\n",
    "outsample_shorted_min_port_variance"
   ]
  },
  {
   "cell_type": "markdown",
   "id": "83af8c82",
   "metadata": {},
   "source": [
    "**5.2 Bestimmung des Portfolios mit minimalem Value at Risk (VaR)**"
   ]
  },
  {
   "cell_type": "code",
   "execution_count": 27,
   "id": "7b13c04a",
   "metadata": {},
   "outputs": [],
   "source": [
    "# Ausführen der Funktionen aus Kapitel 1.2\n",
    "function_result = min_VaR(outsample_shorted_mean_returns, outsample_shorted_cov, alpha, days)\n",
    "#function_result"
   ]
  },
  {
   "cell_type": "code",
   "execution_count": 28,
   "id": "af1d7f62",
   "metadata": {},
   "outputs": [
    {
     "data": {
      "text/html": [
       "<div>\n",
       "<style scoped>\n",
       "    .dataframe tbody tr th:only-of-type {\n",
       "        vertical-align: middle;\n",
       "    }\n",
       "\n",
       "    .dataframe tbody tr th {\n",
       "        vertical-align: top;\n",
       "    }\n",
       "\n",
       "    .dataframe thead th {\n",
       "        text-align: right;\n",
       "    }\n",
       "</style>\n",
       "<table border=\"1\" class=\"dataframe\">\n",
       "  <thead>\n",
       "    <tr style=\"text-align: right;\">\n",
       "      <th></th>\n",
       "      <th>AIR</th>\n",
       "      <th>DTE</th>\n",
       "      <th>FDX</th>\n",
       "      <th>NKE</th>\n",
       "      <th>SAP</th>\n",
       "      <th>Function Result</th>\n",
       "    </tr>\n",
       "  </thead>\n",
       "  <tbody>\n",
       "    <tr>\n",
       "      <th>0</th>\n",
       "      <td>0.0</td>\n",
       "      <td>0.28</td>\n",
       "      <td>0.0</td>\n",
       "      <td>0.52</td>\n",
       "      <td>0.2</td>\n",
       "      <td>0.185001</td>\n",
       "    </tr>\n",
       "  </tbody>\n",
       "</table>\n",
       "</div>"
      ],
      "text/plain": [
       "   AIR   DTE  FDX   NKE  SAP  Function Result\n",
       "0  0.0  0.28  0.0  0.52  0.2         0.185001"
      ]
     },
     "execution_count": 28,
     "metadata": {},
     "output_type": "execute_result"
    }
   ],
   "source": [
    "#Ergebnisse der Optimierung in DataFrame abspeichern\n",
    "outsample_shorted_min_port_VaR = pd.DataFrame([round(x,2) for x in function_result['x']], index=tickers).T\n",
    "outsample_shorted_min_port_VaR['Function Result'] = function_result['fun']\n",
    "outsample_shorted_min_port_VaR"
   ]
  },
  {
   "cell_type": "markdown",
   "id": "db573436",
   "metadata": {},
   "source": [
    "**5.3 Bestimmung des Portfolios mit maximaler Sharpe Ratio (𝜇 - 𝜎 effizientes Portfolio)**"
   ]
  },
  {
   "cell_type": "code",
   "execution_count": 29,
   "id": "0c75eafc",
   "metadata": {},
   "outputs": [],
   "source": [
    "# Ausführen der Funktionen aus Kapitel 1.3\n",
    "function_result = max_sharpe_ratio(outsample_shorted_mean_returns, outsample_shorted_cov, rf)\n",
    "#function_result"
   ]
  },
  {
   "cell_type": "code",
   "execution_count": 30,
   "id": "deef7f30",
   "metadata": {},
   "outputs": [
    {
     "data": {
      "text/html": [
       "<div>\n",
       "<style scoped>\n",
       "    .dataframe tbody tr th:only-of-type {\n",
       "        vertical-align: middle;\n",
       "    }\n",
       "\n",
       "    .dataframe tbody tr th {\n",
       "        vertical-align: top;\n",
       "    }\n",
       "\n",
       "    .dataframe thead th {\n",
       "        text-align: right;\n",
       "    }\n",
       "</style>\n",
       "<table border=\"1\" class=\"dataframe\">\n",
       "  <thead>\n",
       "    <tr style=\"text-align: right;\">\n",
       "      <th></th>\n",
       "      <th>AIR</th>\n",
       "      <th>DTE</th>\n",
       "      <th>FDX</th>\n",
       "      <th>NKE</th>\n",
       "      <th>SAP</th>\n",
       "      <th>Function Result</th>\n",
       "    </tr>\n",
       "  </thead>\n",
       "  <tbody>\n",
       "    <tr>\n",
       "      <th>0</th>\n",
       "      <td>0.0</td>\n",
       "      <td>0.06</td>\n",
       "      <td>0.0</td>\n",
       "      <td>0.88</td>\n",
       "      <td>0.06</td>\n",
       "      <td>0.861879</td>\n",
       "    </tr>\n",
       "  </tbody>\n",
       "</table>\n",
       "</div>"
      ],
      "text/plain": [
       "   AIR   DTE  FDX   NKE   SAP  Function Result\n",
       "0  0.0  0.06  0.0  0.88  0.06         0.861879"
      ]
     },
     "execution_count": 30,
     "metadata": {},
     "output_type": "execute_result"
    }
   ],
   "source": [
    "#Ergebnisse der Optimierung in DataFrame abspeichern\n",
    "outsample_shorted_max_port_SharpeRatio = pd.DataFrame([round(x,2) for x in function_result['x']], index=tickers).T\n",
    "outsample_shorted_max_port_SharpeRatio['Function Result'] = -function_result['fun']\n",
    "outsample_shorted_max_port_SharpeRatio"
   ]
  },
  {
   "cell_type": "markdown",
   "id": "fdd20bc6",
   "metadata": {},
   "source": [
    "**5.4 Vergleich der Gewichtungen der drei Strategien von 1997-2001 und 2017-2021**"
   ]
  },
  {
   "cell_type": "code",
   "execution_count": 31,
   "id": "5a194870",
   "metadata": {},
   "outputs": [
    {
     "data": {
      "text/html": [
       "<div>\n",
       "<style scoped>\n",
       "    .dataframe tbody tr th:only-of-type {\n",
       "        vertical-align: middle;\n",
       "    }\n",
       "\n",
       "    .dataframe tbody tr th {\n",
       "        vertical-align: top;\n",
       "    }\n",
       "\n",
       "    .dataframe thead th {\n",
       "        text-align: right;\n",
       "    }\n",
       "</style>\n",
       "<table border=\"1\" class=\"dataframe\">\n",
       "  <thead>\n",
       "    <tr style=\"text-align: right;\">\n",
       "      <th></th>\n",
       "      <th>AIR</th>\n",
       "      <th>DTE</th>\n",
       "      <th>FDX</th>\n",
       "      <th>NKE</th>\n",
       "      <th>SAP</th>\n",
       "      <th>Function Result</th>\n",
       "    </tr>\n",
       "  </thead>\n",
       "  <tbody>\n",
       "    <tr>\n",
       "      <th>Min Variance</th>\n",
       "      <td>0.1</td>\n",
       "      <td>0.19</td>\n",
       "      <td>0.05</td>\n",
       "      <td>-0.09</td>\n",
       "      <td>-0.24</td>\n",
       "      <td>-0.029028</td>\n",
       "    </tr>\n",
       "    <tr>\n",
       "      <th>Min VaR</th>\n",
       "      <td>0.0</td>\n",
       "      <td>0.37</td>\n",
       "      <td>0.20</td>\n",
       "      <td>-0.47</td>\n",
       "      <td>-0.11</td>\n",
       "      <td>0.005808</td>\n",
       "    </tr>\n",
       "    <tr>\n",
       "      <th>Max Sharpe Ratio</th>\n",
       "      <td>0.0</td>\n",
       "      <td>0.54</td>\n",
       "      <td>0.27</td>\n",
       "      <td>-0.88</td>\n",
       "      <td>0.07</td>\n",
       "      <td>-0.185381</td>\n",
       "    </tr>\n",
       "  </tbody>\n",
       "</table>\n",
       "</div>"
      ],
      "text/plain": [
       "                  AIR   DTE   FDX   NKE   SAP  Function Result\n",
       "Min Variance      0.1  0.19  0.05 -0.09 -0.24        -0.029028\n",
       "Min VaR           0.0  0.37  0.20 -0.47 -0.11         0.005808\n",
       "Max Sharpe Ratio  0.0  0.54  0.27 -0.88  0.07        -0.185381"
      ]
     },
     "execution_count": 31,
     "metadata": {},
     "output_type": "execute_result"
    }
   ],
   "source": [
    "# Zusammenfassung der Portfolios in einem DataFrame\n",
    "outsample_portfolios = pd.concat([outsample_shorted_min_port_variance, outsample_shorted_min_port_VaR, outsample_shorted_max_port_SharpeRatio], axis=0)\n",
    "outsample_portfolios.index = ['Min Variance', 'Min VaR', 'Max Sharpe Ratio']\n",
    "\n",
    "# Gegenüberstellung der Gewichtungen (vorher - nachher)\n",
    "insample_portfolios - outsample_portfolios"
   ]
  },
  {
   "cell_type": "markdown",
   "id": "ef4e2991",
   "metadata": {},
   "source": [
    "Veränderungen in den Funktionsergebnissen: ..."
   ]
  },
  {
   "cell_type": "code",
   "execution_count": 32,
   "id": "03bb8c67",
   "metadata": {},
   "outputs": [],
   "source": [
    "# Dataframe nur mit Gewichtungen der Aktien\n",
    "outsample_weights = outsample_portfolios.drop(['Function Result'], axis=1)\n",
    "#outsample_weights"
   ]
  },
  {
   "cell_type": "code",
   "execution_count": 33,
   "id": "bce659ef",
   "metadata": {},
   "outputs": [
    {
     "data": {
      "image/png": "[encoded data removed]",
      "text/plain": [
       "<Figure size 432x288 with 1 Axes>"
      ]
     },
     "metadata": {
      "needs_background": "light"
     },
     "output_type": "display_data"
    }
   ],
   "source": [
    "# Min Varinaz\n",
    "plt.plot(insample_weights.iloc[0].T, label='1997-2001')\n",
    "plt.plot(outsample_weights.iloc[0].T, label='2017-2021')\n",
    "plt.xlabel('asset')\n",
    "plt.ylabel('weight')\n",
    "plt.legend();"
   ]
  },
  {
   "cell_type": "code",
   "execution_count": 34,
   "id": "97b6f563",
   "metadata": {},
   "outputs": [
    {
     "data": {
      "image/png": "[encoded data removed]",
      "text/plain": [
       "<Figure size 432x288 with 1 Axes>"
      ]
     },
     "metadata": {
      "needs_background": "light"
     },
     "output_type": "display_data"
    }
   ],
   "source": [
    "# Min Value at Risk\n",
    "plt.plot(insample_weights.iloc[1].T, label='1997-2001')\n",
    "plt.plot(outsample_weights.iloc[1].T, label='2017-2021')\n",
    "plt.xlabel('asset')\n",
    "plt.ylabel('weight')\n",
    "plt.legend();"
   ]
  },
  {
   "cell_type": "code",
   "execution_count": 35,
   "id": "4a8c9702",
   "metadata": {},
   "outputs": [
    {
     "data": {
      "image/png": "[encoded data removed]",
      "text/plain": [
       "<Figure size 432x288 with 1 Axes>"
      ]
     },
     "metadata": {
      "needs_background": "light"
     },
     "output_type": "display_data"
    }
   ],
   "source": [
    "# Max Sharpe Ratio\n",
    "plt.plot(insample_weights.iloc[2].T, label='1997-2001')\n",
    "plt.plot(outsample_weights.iloc[2].T, label='2017-2021')\n",
    "plt.xlabel('asset')\n",
    "plt.ylabel('weight')\n",
    "plt.legend();"
   ]
  },
  {
   "cell_type": "markdown",
   "id": "44d18b2f",
   "metadata": {},
   "source": [
    "Veränderungen in den Gewichtungen je Strategie: ..."
   ]
  },
  {
   "cell_type": "markdown",
   "id": "181b296f",
   "metadata": {},
   "source": [
    "# 6 Verbesserungsmöglichkeiten der Strategien"
   ]
  },
  {
   "cell_type": "markdown",
   "id": "f6af9e48",
   "metadata": {},
   "source": [
    "Aufgabenstellung: Wie würden Sie die Implementierung Ihrer Portfoliostrategie noch verbessern? Was \n",
    "könnten Sie noch beachten?"
   ]
  },
  {
   "cell_type": "markdown",
   "id": "cf671f62",
   "metadata": {},
   "source": [
    "- verschiedene Asset-Klassen (Assets mit minimaler Covarianz - am besten Null)\n",
    "- Aus 30 Assets die 15 mit den geringsten Covarianzen auswählen\n",
    "- anderes alpha-Quantil bei min VaR-Strategie\n",
    "- Benchmark einführen (z.B. S&P500)\n",
    "- Semivarianz bzw. Downside-Risk anstelle der Standardabweichung (evtl hier ausführen)\n",
    "- Sortino-Ratio anstelle Sharpe-Ratio (evtl hier ausführen)\n",
    "- Mean Reversion (evtl hier ausführen) oder Moving Average Crossover (Master-Aufgabe) anstelle einer Buy-and-Hold-Strategie\n",
    "\n",
    "Vereinfachende Annahmen\n",
    "- Risikolosen Zins beachten\n",
    "- keine Standardnormalverteilung bei Value at Risk"
   ]
  },
  {
   "cell_type": "code",
   "execution_count": null,
   "id": "0847180d",
   "metadata": {},
   "outputs": [],
   "source": []
  }
 ],
 "metadata": {
  "kernelspec": {
   "display_name": "Python 3 (ipykernel)",
   "language": "python",
   "name": "python3"
  },
  "language_info": {
   "codemirror_mode": {
    "name": "ipython",
    "version": 3
   },
   "file_extension": ".py",
   "mimetype": "text/x-python",
   "name": "python",
   "nbconvert_exporter": "python",
   "pygments_lexer": "ipython3",
   "version": "3.9.7"
  }
 },
 "nbformat": 4,
 "nbformat_minor": 5
}
