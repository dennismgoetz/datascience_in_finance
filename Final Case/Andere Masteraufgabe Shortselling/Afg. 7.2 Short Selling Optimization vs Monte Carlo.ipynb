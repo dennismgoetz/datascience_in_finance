{
 "cells": [
  {
   "cell_type": "markdown",
   "id": "c856cc8a",
   "metadata": {},
   "source": [
    "# Data Science in Finance mit Python - Final Case"
   ]
  },
  {
   "cell_type": "markdown",
   "id": "0043bf82",
   "metadata": {},
   "source": [
    "### Michael Betz und Dennis Götz"
   ]
  },
  {
   "cell_type": "markdown",
   "id": "1180f2d6",
   "metadata": {},
   "source": [
    "# MA-Alternative 2: Short-Selling"
   ]
  },
  {
   "cell_type": "markdown",
   "id": "1c39b616",
   "metadata": {},
   "source": [
    "MA-Alternative 2: Erlauben Sie nun bei der Festlegung der Gewichte im Zeitraum 1997-2001 \n",
    "auch Short-Selling. Wie beurteilen Sie die Performance der Portfolios für den Zeitraum von \n",
    "2002-2021. Ist Short-Selling in diesem Zusammenhang und über solch einen Zeitraum sinn\u0002voll? Ihre Präsentation sollte 30 Minuten dauern (20 Minuten Präsentation + 10 Minuten Q&A). "
   ]
  },
  {
   "cell_type": "code",
   "execution_count": 1,
   "id": "e31d5fbe",
   "metadata": {},
   "outputs": [],
   "source": [
    "# Import der notwendigen Bibliotheken\n",
    "import pandas as pd\n",
    "import numpy as np\n",
    "import pandas_datareader.data as web\n",
    "import scipy.optimize as sco\n",
    "from scipy import stats\n",
    "import matplotlib.pyplot as plt\n",
    "%matplotlib inline\n",
    "\n",
    "import yfinance as yf"
   ]
  },
  {
   "cell_type": "code",
   "execution_count": 2,
   "id": "d70c90c5",
   "metadata": {},
   "outputs": [
    {
     "name": "stdout",
     "output_type": "stream",
     "text": [
      "[*********************100%***********************]  6 of 6 completed\n"
     ]
    },
    {
     "data": {
      "text/html": [
       "<div>\n",
       "<style scoped>\n",
       "    .dataframe tbody tr th:only-of-type {\n",
       "        vertical-align: middle;\n",
       "    }\n",
       "\n",
       "    .dataframe tbody tr th {\n",
       "        vertical-align: top;\n",
       "    }\n",
       "\n",
       "    .dataframe thead th {\n",
       "        text-align: right;\n",
       "    }\n",
       "</style>\n",
       "<table border=\"1\" class=\"dataframe\">\n",
       "  <thead>\n",
       "    <tr style=\"text-align: right;\">\n",
       "      <th></th>\n",
       "      <th>AMZN</th>\n",
       "      <th>CSCO</th>\n",
       "      <th>GE</th>\n",
       "      <th>MMM</th>\n",
       "      <th>TSLA</th>\n",
       "      <th>V</th>\n",
       "    </tr>\n",
       "    <tr>\n",
       "      <th>Date</th>\n",
       "      <th></th>\n",
       "      <th></th>\n",
       "      <th></th>\n",
       "      <th></th>\n",
       "      <th></th>\n",
       "      <th></th>\n",
       "    </tr>\n",
       "  </thead>\n",
       "  <tbody>\n",
       "    <tr>\n",
       "      <th>2018-01-02</th>\n",
       "      <td>59.450500</td>\n",
       "      <td>33.135651</td>\n",
       "      <td>103.273827</td>\n",
       "      <td>199.068924</td>\n",
       "      <td>21.368668</td>\n",
       "      <td>110.811295</td>\n",
       "    </tr>\n",
       "    <tr>\n",
       "      <th>2018-01-03</th>\n",
       "      <td>60.209999</td>\n",
       "      <td>33.399986</td>\n",
       "      <td>104.250252</td>\n",
       "      <td>199.060486</td>\n",
       "      <td>21.150000</td>\n",
       "      <td>111.914490</td>\n",
       "    </tr>\n",
       "    <tr>\n",
       "      <th>2018-01-04</th>\n",
       "      <td>60.479500</td>\n",
       "      <td>33.494476</td>\n",
       "      <td>106.432945</td>\n",
       "      <td>201.662476</td>\n",
       "      <td>20.974667</td>\n",
       "      <td>112.330566</td>\n",
       "    </tr>\n",
       "    <tr>\n",
       "      <th>2018-01-05</th>\n",
       "      <td>61.457001</td>\n",
       "      <td>33.958366</td>\n",
       "      <td>106.490372</td>\n",
       "      <td>203.233780</td>\n",
       "      <td>21.105333</td>\n",
       "      <td>115.020790</td>\n",
       "    </tr>\n",
       "    <tr>\n",
       "      <th>2018-01-08</th>\n",
       "      <td>62.343498</td>\n",
       "      <td>34.310577</td>\n",
       "      <td>104.996964</td>\n",
       "      <td>202.574829</td>\n",
       "      <td>22.427334</td>\n",
       "      <td>115.485268</td>\n",
       "    </tr>\n",
       "    <tr>\n",
       "      <th>...</th>\n",
       "      <td>...</td>\n",
       "      <td>...</td>\n",
       "      <td>...</td>\n",
       "      <td>...</td>\n",
       "      <td>...</td>\n",
       "      <td>...</td>\n",
       "    </tr>\n",
       "    <tr>\n",
       "      <th>2021-12-23</th>\n",
       "      <td>171.068497</td>\n",
       "      <td>59.905964</td>\n",
       "      <td>73.065529</td>\n",
       "      <td>167.852905</td>\n",
       "      <td>355.666656</td>\n",
       "      <td>214.993698</td>\n",
       "    </tr>\n",
       "    <tr>\n",
       "      <th>2021-12-27</th>\n",
       "      <td>169.669495</td>\n",
       "      <td>61.002510</td>\n",
       "      <td>73.547455</td>\n",
       "      <td>169.512512</td>\n",
       "      <td>364.646667</td>\n",
       "      <td>215.996109</td>\n",
       "    </tr>\n",
       "    <tr>\n",
       "      <th>2021-12-28</th>\n",
       "      <td>170.660995</td>\n",
       "      <td>61.108318</td>\n",
       "      <td>74.076012</td>\n",
       "      <td>170.414291</td>\n",
       "      <td>362.823334</td>\n",
       "      <td>216.412964</td>\n",
       "    </tr>\n",
       "    <tr>\n",
       "      <th>2021-12-29</th>\n",
       "      <td>169.201004</td>\n",
       "      <td>61.521923</td>\n",
       "      <td>73.679596</td>\n",
       "      <td>171.152969</td>\n",
       "      <td>362.063324</td>\n",
       "      <td>216.532043</td>\n",
       "    </tr>\n",
       "    <tr>\n",
       "      <th>2021-12-30</th>\n",
       "      <td>168.644501</td>\n",
       "      <td>61.194885</td>\n",
       "      <td>73.609634</td>\n",
       "      <td>170.414291</td>\n",
       "      <td>356.779999</td>\n",
       "      <td>216.234299</td>\n",
       "    </tr>\n",
       "  </tbody>\n",
       "</table>\n",
       "<p>1007 rows × 6 columns</p>\n",
       "</div>"
      ],
      "text/plain": [
       "                  AMZN       CSCO          GE         MMM        TSLA  \\\n",
       "Date                                                                    \n",
       "2018-01-02   59.450500  33.135651  103.273827  199.068924   21.368668   \n",
       "2018-01-03   60.209999  33.399986  104.250252  199.060486   21.150000   \n",
       "2018-01-04   60.479500  33.494476  106.432945  201.662476   20.974667   \n",
       "2018-01-05   61.457001  33.958366  106.490372  203.233780   21.105333   \n",
       "2018-01-08   62.343498  34.310577  104.996964  202.574829   22.427334   \n",
       "...                ...        ...         ...         ...         ...   \n",
       "2021-12-23  171.068497  59.905964   73.065529  167.852905  355.666656   \n",
       "2021-12-27  169.669495  61.002510   73.547455  169.512512  364.646667   \n",
       "2021-12-28  170.660995  61.108318   74.076012  170.414291  362.823334   \n",
       "2021-12-29  169.201004  61.521923   73.679596  171.152969  362.063324   \n",
       "2021-12-30  168.644501  61.194885   73.609634  170.414291  356.779999   \n",
       "\n",
       "                     V  \n",
       "Date                    \n",
       "2018-01-02  110.811295  \n",
       "2018-01-03  111.914490  \n",
       "2018-01-04  112.330566  \n",
       "2018-01-05  115.020790  \n",
       "2018-01-08  115.485268  \n",
       "...                ...  \n",
       "2021-12-23  214.993698  \n",
       "2021-12-27  215.996109  \n",
       "2021-12-28  216.412964  \n",
       "2021-12-29  216.532043  \n",
       "2021-12-30  216.234299  \n",
       "\n",
       "[1007 rows x 6 columns]"
      ]
     },
     "execution_count": 2,
     "metadata": {},
     "output_type": "execute_result"
    }
   ],
   "source": [
    "# Preise der 15 Aktien von 1997/01/01 - 2021/12/31 laden\n",
    "yf.pdr_override()\n",
    "# = ['AIR', 'DTE', 'FDX', 'NKE', 'SAP', 'SONY', 'VOD', 'WM', 'ORCL', 'MSFT', 'INTC', 'PCRFY', 'COST', 'VZ', 'MO']\n",
    "tickers = ['MMM', 'TSLA', 'CSCO', 'V', 'GE', 'AMZN']\n",
    "start = '2018-01-01'\n",
    "end = '2021-12-31'\n",
    "\n",
    "Adj_Close = web.get_data_yahoo(tickers, start, end)['Adj Close']\n",
    "Adj_Close = pd.DataFrame(Adj_Close)\n",
    "Adj_Close#.isna().sum()\n"
   ]
  },
  {
   "cell_type": "code",
   "execution_count": 4,
   "id": "de6302db",
   "metadata": {},
   "outputs": [],
   "source": [
    "# Berechnung der Logrenditen (Vorteil der Additivität)\n",
    "returns = pd.DataFrame(np.diff(np.log(Adj_Close).T).T)\n",
    "returns.index = Adj_Close.index[1:]\n",
    "returns.columns = tickers\n",
    "#returns\n",
    "\n",
    "# Alternativ\n",
    "#returns = pd.DataFrame(np.diff(np.log(Adj_Close.values).T).T)\n",
    "#returns = np.log(Adj_Close/Adj_Close.shift(1))\n",
    "#returns = np.log1p(Adj_Close.pct_change())"
   ]
  },
  {
   "cell_type": "markdown",
   "id": "8c93bf88",
   "metadata": {},
   "source": [
    "MA-Alternative 2: Erlauben Sie nun bei der Festlegung der Gewichte im Zeitraum 1997-2001 \n",
    "auch Short-Selling. Wie beurteilen Sie die Performance der Portfolios für den Zeitraum von \n",
    "2002-2021. Ist Short-Selling in diesem Zusammenhang und über solch einen Zeitraum sinn\u0002voll? Ihre Präsentation sollte 30 Minuten dauern (20 Minuten Präsentation + 10 Minuten Q&A). "
   ]
  },
  {
   "cell_type": "markdown",
   "id": "25231d26",
   "metadata": {},
   "source": [
    "**7.2 Bestimmung des Portfolios mit minimaler Varianz (, minimalem VaR und maximaler Sharpe Ratio)**"
   ]
  },
  {
   "cell_type": "code",
   "execution_count": 10,
   "id": "a761d425",
   "metadata": {},
   "outputs": [
    {
     "data": {
      "text/html": [
       "<div>\n",
       "<style scoped>\n",
       "    .dataframe tbody tr th:only-of-type {\n",
       "        vertical-align: middle;\n",
       "    }\n",
       "\n",
       "    .dataframe tbody tr th {\n",
       "        vertical-align: top;\n",
       "    }\n",
       "\n",
       "    .dataframe thead th {\n",
       "        text-align: right;\n",
       "    }\n",
       "</style>\n",
       "<table border=\"1\" class=\"dataframe\">\n",
       "  <thead>\n",
       "    <tr style=\"text-align: right;\">\n",
       "      <th></th>\n",
       "      <th>MMM</th>\n",
       "      <th>TSLA</th>\n",
       "      <th>CSCO</th>\n",
       "      <th>V</th>\n",
       "      <th>GE</th>\n",
       "      <th>AMZN</th>\n",
       "    </tr>\n",
       "  </thead>\n",
       "  <tbody>\n",
       "    <tr>\n",
       "      <th>MMM</th>\n",
       "      <td>0.000386</td>\n",
       "      <td>0.000178</td>\n",
       "      <td>0.000115</td>\n",
       "      <td>0.000107</td>\n",
       "      <td>0.000309</td>\n",
       "      <td>0.000182</td>\n",
       "    </tr>\n",
       "    <tr>\n",
       "      <th>TSLA</th>\n",
       "      <td>0.000178</td>\n",
       "      <td>0.000341</td>\n",
       "      <td>0.000224</td>\n",
       "      <td>0.000191</td>\n",
       "      <td>0.000206</td>\n",
       "      <td>0.000215</td>\n",
       "    </tr>\n",
       "    <tr>\n",
       "      <th>CSCO</th>\n",
       "      <td>0.000115</td>\n",
       "      <td>0.000224</td>\n",
       "      <td>0.000824</td>\n",
       "      <td>0.000246</td>\n",
       "      <td>0.000250</td>\n",
       "      <td>0.000234</td>\n",
       "    </tr>\n",
       "    <tr>\n",
       "      <th>V</th>\n",
       "      <td>0.000107</td>\n",
       "      <td>0.000191</td>\n",
       "      <td>0.000246</td>\n",
       "      <td>0.000295</td>\n",
       "      <td>0.000130</td>\n",
       "      <td>0.000174</td>\n",
       "    </tr>\n",
       "    <tr>\n",
       "      <th>GE</th>\n",
       "      <td>0.000309</td>\n",
       "      <td>0.000206</td>\n",
       "      <td>0.000250</td>\n",
       "      <td>0.000130</td>\n",
       "      <td>0.001672</td>\n",
       "      <td>0.000270</td>\n",
       "    </tr>\n",
       "    <tr>\n",
       "      <th>AMZN</th>\n",
       "      <td>0.000182</td>\n",
       "      <td>0.000215</td>\n",
       "      <td>0.000234</td>\n",
       "      <td>0.000174</td>\n",
       "      <td>0.000270</td>\n",
       "      <td>0.000335</td>\n",
       "    </tr>\n",
       "  </tbody>\n",
       "</table>\n",
       "</div>"
      ],
      "text/plain": [
       "           MMM      TSLA      CSCO         V        GE      AMZN\n",
       "MMM   0.000386  0.000178  0.000115  0.000107  0.000309  0.000182\n",
       "TSLA  0.000178  0.000341  0.000224  0.000191  0.000206  0.000215\n",
       "CSCO  0.000115  0.000224  0.000824  0.000246  0.000250  0.000234\n",
       "V     0.000107  0.000191  0.000246  0.000295  0.000130  0.000174\n",
       "GE    0.000309  0.000206  0.000250  0.000130  0.001672  0.000270\n",
       "AMZN  0.000182  0.000215  0.000234  0.000174  0.000270  0.000335"
      ]
     },
     "execution_count": 10,
     "metadata": {},
     "output_type": "execute_result"
    }
   ],
   "source": [
    "cov = returns.cov()\n",
    "cov"
   ]
  },
  {
   "cell_type": "code",
   "execution_count": null,
   "id": "edd3eead",
   "metadata": {},
   "outputs": [],
   "source": [
    "mean_returns = returns.mean()\n",
    "cov = returns.cov()\n",
    "rf = 0.0\n",
    "days = 252\n",
    "alpha = 0.05\n",
    "short = 'yes'"
   ]
  },
  {
   "cell_type": "code",
   "execution_count": null,
   "id": "df68f340",
   "metadata": {},
   "outputs": [],
   "source": [
    "cov"
   ]
  },
  {
   "cell_type": "code",
   "execution_count": 13,
   "id": "e0d0b755",
   "metadata": {},
   "outputs": [
    {
     "data": {
      "text/plain": [
       "     fun: 0.22913950765347713\n",
       "     jac: array([0.22901335, 0.22932419, 0.22962973, 0.22922578, 0.22905416,\n",
       "       0.22898618])\n",
       " message: 'Optimization terminated successfully'\n",
       "    nfev: 70\n",
       "     nit: 10\n",
       "    njev: 10\n",
       "  status: 0\n",
       " success: True\n",
       "       x: array([ 0.29291916,  0.11258572,  0.01001751,  0.42234863, -0.00476584,\n",
       "        0.16689483])"
      ]
     },
     "execution_count": 13,
     "metadata": {},
     "output_type": "execute_result"
    }
   ],
   "source": [
    "# Optimization aus Aufgabe 1\n",
    "# Funktion 1\n",
    "def calc_portfolio_std(weights, cov):\n",
    "    portfolio_std = np.sqrt(np.dot(np.dot(weights.T, cov), weights)) * np.sqrt(252) #h=15x1 Matrix-> [h.transpose * cov] * h = [1x15 * 15x15] * 15x1 = 1x15 * 15x1 = 1x1\n",
    "    return portfolio_std\n",
    "\n",
    "# Funktion 2\n",
    "def min_variance(cov):\n",
    "    num_assets = len(cov)\n",
    "    args = cov\n",
    "    constraints = ({'type': 'eq', 'fun': lambda x: np.sum(x) - 1}) #Nebenbedingung; ; eq für equality -> Gleichung != 0; np.sum(weights) - 1 = 0 (Summe der Gewichte müssen 1 ergeben und Gleichung muss gleich Null sein!)\n",
    "    bound = (-1.0, 1.0)\n",
    "    bounds = tuple(bound for assets in range(num_assets))\n",
    "    result = sco.minimize(calc_portfolio_std, num_assets*[1/num_assets], args=args, \n",
    "                         method='SLSQP', bounds=bounds, constraints=constraints)\n",
    "    return result\n",
    "\n",
    "# Ausführen der Funktionen\n",
    "function_result = min_variance(cov) #fun: gibt den ZF-wert (Min Varinaz) an & x: gibt die Gewichtungen der einzelnen Aktien im Portfolio an\n",
    "function_result#['x']\n",
    "#np.sum(function_result['x'])"
   ]
  },
  {
   "cell_type": "code",
   "execution_count": 15,
   "id": "ede91730",
   "metadata": {
    "scrolled": true
   },
   "outputs": [
    {
     "data": {
      "text/plain": [
       "0    0.229140\n",
       "1    0.292919\n",
       "2    0.112586\n",
       "3    0.010018\n",
       "4    0.422349\n",
       "5   -0.004766\n",
       "6    0.166895\n",
       "Name: Optimization, dtype: float64"
      ]
     },
     "execution_count": 15,
     "metadata": {},
     "output_type": "execute_result"
    }
   ],
   "source": [
    "optimization = pd.DataFrame(np.insert(function_result['x'], 0, function_result['fun']))\n",
    "optimization.columns = ['Optimization']\n",
    "optimization = optimization['Optimization']\n",
    "optimization"
   ]
  },
  {
   "cell_type": "code",
   "execution_count": null,
   "id": "d04788df",
   "metadata": {},
   "outputs": [],
   "source": [
    "# Monte Carlo bearbeitet\n",
    "def calc_portfolio_perf(weights, cov, days, short):\n",
    "    portfolio_std = np.sqrt(np.dot(weights.T, np.dot(cov, weights))) * np.sqrt(days)\n",
    "    return portfolio_std\n",
    "\n",
    "# simulate_random_portfolios\n",
    "def simulate_random_portfolios(num_portfolios, cov, days, short):\n",
    "    results_matrix = np.zeros((len(cov)+1, num_portfolios))\n",
    "    for i in range(num_portfolios):\n",
    "        if short == 'no':\n",
    "            weights = np.random.random(len(cov))\n",
    "            weights /= np.sum(weights)\n",
    "        elif short == 'yes':\n",
    "            while True:\n",
    "                weights = np.random.uniform(low = -1, high = 1, size = (len(tickers)-1))\n",
    "                if 1-np.sum(weights) <= 1 and 1 - np.sum(weights) >= -1:\n",
    "                    weights = np.insert(weights, 0, [1-np.sum(weights)])\n",
    "                    break\n",
    "        portfolio_std = calc_portfolio_perf(weights, cov, days, short)\n",
    "        results_matrix[1,i] = portfolio_std\n",
    "        for j in range(len(cov)):\n",
    "            results_matrix[j+1,i] = weights[j]\n",
    "    \n",
    "    results_df = pd.DataFrame(results_matrix.T, columns=['portfolio_std'] + [ticker for ticker in tickers])\n",
    "    return results_df\n",
    "\n",
    "df = simulate_random_portfolios(100000, cov_matrix, days, short)"
   ]
  },
  {
   "cell_type": "code",
   "execution_count": null,
   "id": "1a6280ec",
   "metadata": {
    "scrolled": true
   },
   "outputs": [],
   "source": [
    "#df#['portfolio_std']\n",
    "df#['portfolio_std'].idxmin()"
   ]
  },
  {
   "cell_type": "markdown",
   "id": "e1d38697",
   "metadata": {},
   "source": [
    "# CASE 2"
   ]
  },
  {
   "cell_type": "code",
   "execution_count": null,
   "id": "017c1923",
   "metadata": {},
   "outputs": [],
   "source": [
    "# Definition calc_portfolio_perf\n",
    "def calc_portfolio_perf(weights, mean_returns, cov, rf, alpha, days, short):\n",
    "    portfolio_return = np.sum(mean_returns * weights) * days\n",
    "    portfolio_std = np.sqrt(np.dot(weights.T, np.dot(cov, weights))) * np.sqrt(days)\n",
    "    sharpe_ratio = (portfolio_return - rf) / portfolio_std\n",
    "    portfolio_VaR = abs(portfolio_return - (portfolio_std * stats.norm.ppf(1 - alpha)))\n",
    "    return portfolio_return, portfolio_std, sharpe_ratio, portfolio_VaR\n",
    "\n",
    "# simulate_random_portfolios\n",
    "def simulate_random_portfolios(num_portfolios, mean_returns, cov, rf, alpha, days, short):\n",
    "    results_matrix = np.zeros((len(mean_returns)+4, num_portfolios))\n",
    "    for i in range(num_portfolios):\n",
    "        if short == 'no':\n",
    "            weights = np.random.random(len(mean_returns)) #6 Zufallszahlen zw. 0 & 1\n",
    "            weights /= np.sum(weights) #Zufallszahlen/(Summe der Zufallszahlen) -> Normierung auf 1 (Summe=1)!\n",
    "        elif short == 'yes':\n",
    "            while True:\n",
    "                weights = np.random.uniform(low = -1, high = 1, size = 5) #5 Zufallsahlen zw. -1 & 1\n",
    "                if 1 - np.sum(weights) <= 1 and 1 - np.sum(weights) >= -1: #Summe der Zahlen zw. 0 & 2 (=1 -/+ 1 = 0/2)\n",
    "                    weights = np.insert(weights, 0, [1-np.sum(weights)]) #Diff. der Zufallszahlensumme zu 1 in Array einfügen\n",
    "                    break #falls Summe der Zufallsvariablen ausßerhalb 0 & 2: break\n",
    "        portfolio_return, portfolio_std, sharpe_ratio, portfolio_VaR = calc_portfolio_perf(weights, mean_returns, cov, rf, alpha, days, short)\n",
    "        results_matrix[0,i] = portfolio_return\n",
    "        results_matrix[1,i] = portfolio_std\n",
    "        results_matrix[2,i] = sharpe_ratio\n",
    "        results_matrix[3,i] = portfolio_VaR\n",
    "        for j in range(len(mean_returns)):\n",
    "            results_matrix[j+4,i] = weights[j]\n",
    "    \n",
    "    results_df = pd.DataFrame(results_matrix.T, columns=['portfolio_return', 'portfolio_std', 'sharpe_ratio', 'portfolio_VaR'] + [ticker for ticker in tickers])\n",
    "    return results_df"
   ]
  },
  {
   "cell_type": "code",
   "execution_count": null,
   "id": "909a28c1",
   "metadata": {},
   "outputs": [],
   "source": [
    "# Define Parameters\n",
    "num_portfolios = 1000000\n",
    "\n",
    "# Simulation mit Shortselling\n",
    "results_monte_carlo = simulate_random_portfolios(num_portfolios, mean_returns, cov, rf, alpha, days, short)\n",
    "results_monte_carlo"
   ]
  },
  {
   "cell_type": "code",
   "execution_count": null,
   "id": "3a1c9506",
   "metadata": {
    "scrolled": false
   },
   "outputs": [],
   "source": [
    "monte_carlo = pd.DataFrame(results_monte_carlo.iloc[results_monte_carlo['portfolio_std'].idxmin()]).T\n",
    "monte_carlo = monte_carlo[['portfolio_std', 'MMM', 'TSLA', 'CSCO', 'V', 'GE', 'AMZN']]\n",
    "monte_carlo = monte_carlo.iloc[0]\n",
    "monte_carlo"
   ]
  },
  {
   "cell_type": "code",
   "execution_count": null,
   "id": "9b1fd5e8",
   "metadata": {},
   "outputs": [],
   "source": [
    "# Monte Carlo 100T\n",
    "dataframe100T = pd.concat([optimization, monte_carlo], axis=1)\n",
    "dataframe100T.columns = ['Monte Carlo 100T', 'Optimization']\n",
    "monte_carlo100T = dataframe100T['Monte Carlo 100T']"
   ]
  },
  {
   "cell_type": "code",
   "execution_count": null,
   "id": "492ea2a1",
   "metadata": {
    "scrolled": true
   },
   "outputs": [],
   "source": [
    "# Monte Carlo 500T\n",
    "dataframe500T = pd.concat([optimization, monte_carlo], axis=1)\n",
    "dataframe500T.columns = ['Monte Carlo 500T', 'Optimization']\n",
    "monte_carlo500T = dataframe500T['Monte Carlo 500T']\n",
    "monte_carlo500T"
   ]
  },
  {
   "cell_type": "code",
   "execution_count": null,
   "id": "a76f15c8",
   "metadata": {},
   "outputs": [],
   "source": [
    "# Monte Carlo 1Mio\n",
    "dataframe1Mio = pd.concat([optimization, monte_carlo], axis=1)\n",
    "dataframe1Mio.columns = ['Optimization', 'Monte Carlo 1Mio']\n",
    "monte_carlo1Mio = dataframe1Mio['Monte Carlo 1Mio']"
   ]
  },
  {
   "cell_type": "code",
   "execution_count": 188,
   "id": "cf6e86cd",
   "metadata": {},
   "outputs": [
    {
     "data": {
      "text/html": [
       "<div>\n",
       "<style scoped>\n",
       "    .dataframe tbody tr th:only-of-type {\n",
       "        vertical-align: middle;\n",
       "    }\n",
       "\n",
       "    .dataframe tbody tr th {\n",
       "        vertical-align: top;\n",
       "    }\n",
       "\n",
       "    .dataframe thead th {\n",
       "        text-align: right;\n",
       "    }\n",
       "</style>\n",
       "<table border=\"1\" class=\"dataframe\">\n",
       "  <thead>\n",
       "    <tr style=\"text-align: right;\">\n",
       "      <th></th>\n",
       "      <th>Optimization</th>\n",
       "      <th>Monte Carlo100000</th>\n",
       "      <th>Monte Carlo500000</th>\n",
       "      <th>Monte Carlo1000000</th>\n",
       "    </tr>\n",
       "  </thead>\n",
       "  <tbody>\n",
       "    <tr>\n",
       "      <th>portfolio_std</th>\n",
       "      <td>0.229140</td>\n",
       "      <td>0.232300</td>\n",
       "      <td>0.230682</td>\n",
       "      <td>0.230065</td>\n",
       "    </tr>\n",
       "    <tr>\n",
       "      <th>MMM</th>\n",
       "      <td>0.292919</td>\n",
       "      <td>0.206247</td>\n",
       "      <td>0.342174</td>\n",
       "      <td>0.277614</td>\n",
       "    </tr>\n",
       "    <tr>\n",
       "      <th>TSLA</th>\n",
       "      <td>0.112587</td>\n",
       "      <td>0.137752</td>\n",
       "      <td>0.133742</td>\n",
       "      <td>0.117714</td>\n",
       "    </tr>\n",
       "    <tr>\n",
       "      <th>CSCO</th>\n",
       "      <td>0.010018</td>\n",
       "      <td>-0.028182</td>\n",
       "      <td>-0.020928</td>\n",
       "      <td>-0.005613</td>\n",
       "    </tr>\n",
       "    <tr>\n",
       "      <th>V</th>\n",
       "      <td>0.422348</td>\n",
       "      <td>0.378242</td>\n",
       "      <td>0.387980</td>\n",
       "      <td>0.379429</td>\n",
       "    </tr>\n",
       "    <tr>\n",
       "      <th>GE</th>\n",
       "      <td>-0.004766</td>\n",
       "      <td>0.037782</td>\n",
       "      <td>0.016844</td>\n",
       "      <td>-0.023320</td>\n",
       "    </tr>\n",
       "    <tr>\n",
       "      <th>AMZN</th>\n",
       "      <td>0.166894</td>\n",
       "      <td>0.268160</td>\n",
       "      <td>0.140187</td>\n",
       "      <td>0.254177</td>\n",
       "    </tr>\n",
       "  </tbody>\n",
       "</table>\n",
       "</div>"
      ],
      "text/plain": [
       "               Optimization  Monte Carlo100000  Monte Carlo500000  \\\n",
       "portfolio_std      0.229140           0.232300           0.230682   \n",
       "MMM                0.292919           0.206247           0.342174   \n",
       "TSLA               0.112587           0.137752           0.133742   \n",
       "CSCO               0.010018          -0.028182          -0.020928   \n",
       "V                  0.422348           0.378242           0.387980   \n",
       "GE                -0.004766           0.037782           0.016844   \n",
       "AMZN               0.166894           0.268160           0.140187   \n",
       "\n",
       "               Monte Carlo1000000  \n",
       "portfolio_std            0.230065  \n",
       "MMM                      0.277614  \n",
       "TSLA                     0.117714  \n",
       "CSCO                    -0.005613  \n",
       "V                        0.379429  \n",
       "GE                      -0.023320  \n",
       "AMZN                     0.254177  "
      ]
     },
     "execution_count": 188,
     "metadata": {},
     "output_type": "execute_result"
    }
   ],
   "source": [
    "optimization.index = monte_carlo.index\n",
    "dataframe = pd.concat([optimization, monte_carlo100000T, monte_carlo500T, monte_carlo1Mio], axis=1)\n",
    "dataframe"
   ]
  }
 ],
 "metadata": {
  "kernelspec": {
   "display_name": "Python 3 (ipykernel)",
   "language": "python",
   "name": "python3"
  },
  "language_info": {
   "codemirror_mode": {
    "name": "ipython",
    "version": 3
   },
   "file_extension": ".py",
   "mimetype": "text/x-python",
   "name": "python",
   "nbconvert_exporter": "python",
   "pygments_lexer": "ipython3",
   "version": "3.9.7"
  }
 },
 "nbformat": 4,
 "nbformat_minor": 5
}
