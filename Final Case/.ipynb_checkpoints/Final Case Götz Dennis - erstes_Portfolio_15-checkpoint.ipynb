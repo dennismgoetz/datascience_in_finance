{
 "cells": [
  {
   "cell_type": "markdown",
   "id": "c856cc8a",
   "metadata": {},
   "source": [
    "# Data Science in Finance mit Python - Final Case"
   ]
  },
  {
   "cell_type": "markdown",
   "id": "0043bf82",
   "metadata": {},
   "source": [
    "### Michael Betz und Dennis Götz"
   ]
  },
  {
   "cell_type": "markdown",
   "id": "549f36a7",
   "metadata": {},
   "source": [
    "**Aufgabenstellung für Bachelor- und Master-Studenten:**\n",
    "1. Wählen Sie 15 Unternehmen aus, die bereits seit 1997 an der Börse gelistet sind. Bestimmen Sie für Ihre 15 Aktien die Portfolios mit der minimalen Varianz, dem minimalen VaR und der maximalen Sharpe Ratio. Nutzen Sie dafür Tagesdaten Ihrer 15 Aktien von 1997-2001.\n",
    "2. Implementieren Sie Buy-and-Hold Strategien für Ihre drei Portfolios von 2002-2021 \n",
    "auf Grundlage der errechneten Gewichte Ihrer 15 Aktien.\n",
    "3. Diskutieren Sie die Performance Ihrer drei Portfolios.\n",
    "4. Erstellen Sie eine Grafik für den Zeitraum 2002-2021, welche den Kursverlauf Ihrer \n",
    "drei Portfoliostrategien einem gleichgewichteten Portfolio aus den 15 Aktien als \n",
    "Benchmark gegenüberstellt.\n",
    "5. Berechnen Sie die Portfolios mit der minimalen Varianz, dem minimalen VaR und der \n",
    "maximalen Sharpe Ratio nun für den Zeitraum von 2017-2021 und vergleichen Sie die \n",
    "Portfoliogewichte mit den Ihren.\n",
    "6. Wie würden Sie die Implementierung Ihrer Portfoliostrategie noch verbessern? Was \n",
    "könnten Sie noch beachten?\n"
   ]
  },
  {
   "cell_type": "markdown",
   "id": "91684b56",
   "metadata": {},
   "source": [
    "Matrikelnummer: 272038"
   ]
  },
  {
   "cell_type": "markdown",
   "id": "2e0023bf",
   "metadata": {},
   "source": [
    "Name Teampartner: Betz Michael"
   ]
  },
  {
   "cell_type": "code",
   "execution_count": 1,
   "id": "e31d5fbe",
   "metadata": {},
   "outputs": [],
   "source": [
    "# Import der notwendigen Bibliotheken\n",
    "import pandas as pd\n",
    "import numpy as np\n",
    "import pandas_datareader.data as web\n",
    "import scipy.optimize as sco\n",
    "from scipy import stats\n",
    "from datetime import datetime\n",
    "import matplotlib.pyplot as plt\n",
    "%matplotlib inline\n",
    "\n",
    "import yfinance as yf"
   ]
  },
  {
   "cell_type": "markdown",
   "id": "f157ff9b",
   "metadata": {},
   "source": [
    "# 1. Portfolios mit min. Varianz, min. VaR und max. Sharpe Ratio (1997-2001)"
   ]
  },
  {
   "cell_type": "markdown",
   "id": "67be1b08",
   "metadata": {},
   "source": [
    "Aufgabenstellung: Wählen Sie 15 Unternehmen aus, die bereits seit 1997 an der Börse gelistet sind. Bestimmen Sie für Ihre 15 Aktien die Portfolios mit der **minimalen Varianz**, dem **minimalen VaR** und der **maximalen Sharpe Ratio**. Nutzen Sie dafür Tagesdaten Ihrer 15 Aktien von 1997-2001."
   ]
  },
  {
   "cell_type": "code",
   "execution_count": 2,
   "id": "d70c90c5",
   "metadata": {},
   "outputs": [
    {
     "name": "stdout",
     "output_type": "stream",
     "text": [
      "[*********************100%***********************]  15 of 15 completed\n"
     ]
    },
    {
     "data": {
      "text/plain": [
       "AIR      0\n",
       "COST     0\n",
       "DTE      0\n",
       "FDX      0\n",
       "INTC     0\n",
       "MO       0\n",
       "MSFT     0\n",
       "NKE      0\n",
       "ORCL     0\n",
       "PCRFY    0\n",
       "SAP      0\n",
       "SONY     0\n",
       "VOD      0\n",
       "VZ       0\n",
       "WM       0\n",
       "dtype: int64"
      ]
     },
     "execution_count": 2,
     "metadata": {},
     "output_type": "execute_result"
    }
   ],
   "source": [
    "# Preise der 15 Aktien von 1997/01/01 - 2021/12/31 laden\n",
    "yf.pdr_override()\n",
    "tickers = sorted(['AIR', 'DTE', 'FDX', 'NKE', 'SAP', 'SONY', 'VOD', 'WM', 'ORCL', 'MSFT', 'INTC', 'PCRFY', 'COST', 'VZ', 'MO'])\n",
    "start = '1997-01-01'\n",
    "end = '2021-12-31'\n",
    "\n",
    "Adj_Close = web.get_data_yahoo(tickers, start, end)['Adj Close']\n",
    "Adj_Close = pd.DataFrame(Adj_Close)\n",
    "Adj_Close.isna().sum()"
   ]
  },
  {
   "cell_type": "code",
   "execution_count": 3,
   "id": "de6302db",
   "metadata": {},
   "outputs": [
    {
     "data": {
      "text/html": [
       "<div>\n",
       "<style scoped>\n",
       "    .dataframe tbody tr th:only-of-type {\n",
       "        vertical-align: middle;\n",
       "    }\n",
       "\n",
       "    .dataframe tbody tr th {\n",
       "        vertical-align: top;\n",
       "    }\n",
       "\n",
       "    .dataframe thead th {\n",
       "        text-align: right;\n",
       "    }\n",
       "</style>\n",
       "<table border=\"1\" class=\"dataframe\">\n",
       "  <thead>\n",
       "    <tr style=\"text-align: right;\">\n",
       "      <th></th>\n",
       "      <th>AIR</th>\n",
       "      <th>COST</th>\n",
       "      <th>DTE</th>\n",
       "      <th>FDX</th>\n",
       "      <th>INTC</th>\n",
       "      <th>MO</th>\n",
       "      <th>MSFT</th>\n",
       "      <th>NKE</th>\n",
       "      <th>ORCL</th>\n",
       "      <th>PCRFY</th>\n",
       "      <th>SAP</th>\n",
       "      <th>SONY</th>\n",
       "      <th>VOD</th>\n",
       "      <th>VZ</th>\n",
       "      <th>WM</th>\n",
       "    </tr>\n",
       "    <tr>\n",
       "      <th>Date</th>\n",
       "      <th></th>\n",
       "      <th></th>\n",
       "      <th></th>\n",
       "      <th></th>\n",
       "      <th></th>\n",
       "      <th></th>\n",
       "      <th></th>\n",
       "      <th></th>\n",
       "      <th></th>\n",
       "      <th></th>\n",
       "      <th></th>\n",
       "      <th></th>\n",
       "      <th></th>\n",
       "      <th></th>\n",
       "      <th></th>\n",
       "    </tr>\n",
       "  </thead>\n",
       "  <tbody>\n",
       "    <tr>\n",
       "      <th>1997-01-03</th>\n",
       "      <td>-0.008583</td>\n",
       "      <td>-0.010310</td>\n",
       "      <td>-0.003854</td>\n",
       "      <td>0.019859</td>\n",
       "      <td>0.059552</td>\n",
       "      <td>0.013363</td>\n",
       "      <td>0.036094</td>\n",
       "      <td>0.014568</td>\n",
       "      <td>0.060624</td>\n",
       "      <td>0.016833</td>\n",
       "      <td>-0.010929</td>\n",
       "      <td>-0.001918</td>\n",
       "      <td>0.024541</td>\n",
       "      <td>-0.003738</td>\n",
       "      <td>-0.024591</td>\n",
       "    </tr>\n",
       "    <tr>\n",
       "      <th>1997-01-06</th>\n",
       "      <td>-0.008658</td>\n",
       "      <td>0.023048</td>\n",
       "      <td>-0.015564</td>\n",
       "      <td>-0.019859</td>\n",
       "      <td>0.003607</td>\n",
       "      <td>0.002210</td>\n",
       "      <td>-0.002959</td>\n",
       "      <td>0.004124</td>\n",
       "      <td>0.005587</td>\n",
       "      <td>0.006051</td>\n",
       "      <td>0.002743</td>\n",
       "      <td>0.013346</td>\n",
       "      <td>0.018018</td>\n",
       "      <td>-0.003752</td>\n",
       "      <td>-0.012527</td>\n",
       "    </tr>\n",
       "    <tr>\n",
       "      <th>1997-01-07</th>\n",
       "      <td>0.000000</td>\n",
       "      <td>0.022530</td>\n",
       "      <td>0.011696</td>\n",
       "      <td>-0.002869</td>\n",
       "      <td>0.031889</td>\n",
       "      <td>-0.001105</td>\n",
       "      <td>0.007380</td>\n",
       "      <td>-0.014508</td>\n",
       "      <td>-0.002790</td>\n",
       "      <td>0.000000</td>\n",
       "      <td>0.000000</td>\n",
       "      <td>0.011300</td>\n",
       "      <td>0.000000</td>\n",
       "      <td>-0.017062</td>\n",
       "      <td>0.049190</td>\n",
       "    </tr>\n",
       "    <tr>\n",
       "      <th>1997-01-08</th>\n",
       "      <td>-0.004358</td>\n",
       "      <td>0.009852</td>\n",
       "      <td>-0.007782</td>\n",
       "      <td>-0.020320</td>\n",
       "      <td>-0.007877</td>\n",
       "      <td>-0.003320</td>\n",
       "      <td>-0.019303</td>\n",
       "      <td>-0.006283</td>\n",
       "      <td>-0.031208</td>\n",
       "      <td>-0.012140</td>\n",
       "      <td>0.013606</td>\n",
       "      <td>-0.007519</td>\n",
       "      <td>0.002972</td>\n",
       "      <td>-0.016059</td>\n",
       "      <td>0.027615</td>\n",
       "    </tr>\n",
       "    <tr>\n",
       "      <th>1997-01-09</th>\n",
       "      <td>0.004358</td>\n",
       "      <td>0.043172</td>\n",
       "      <td>-0.007843</td>\n",
       "      <td>0.028904</td>\n",
       "      <td>0.005258</td>\n",
       "      <td>0.005528</td>\n",
       "      <td>-0.012066</td>\n",
       "      <td>0.018731</td>\n",
       "      <td>-0.038184</td>\n",
       "      <td>-0.026297</td>\n",
       "      <td>0.031918</td>\n",
       "      <td>-0.019048</td>\n",
       "      <td>0.008863</td>\n",
       "      <td>0.005877</td>\n",
       "      <td>-0.015686</td>\n",
       "    </tr>\n",
       "    <tr>\n",
       "      <th>...</th>\n",
       "      <td>...</td>\n",
       "      <td>...</td>\n",
       "      <td>...</td>\n",
       "      <td>...</td>\n",
       "      <td>...</td>\n",
       "      <td>...</td>\n",
       "      <td>...</td>\n",
       "      <td>...</td>\n",
       "      <td>...</td>\n",
       "      <td>...</td>\n",
       "      <td>...</td>\n",
       "      <td>...</td>\n",
       "      <td>...</td>\n",
       "      <td>...</td>\n",
       "      <td>...</td>\n",
       "    </tr>\n",
       "    <tr>\n",
       "      <th>2021-12-23</th>\n",
       "      <td>0.011757</td>\n",
       "      <td>0.001273</td>\n",
       "      <td>0.001028</td>\n",
       "      <td>0.015324</td>\n",
       "      <td>0.006648</td>\n",
       "      <td>-0.003847</td>\n",
       "      <td>0.004462</td>\n",
       "      <td>0.001389</td>\n",
       "      <td>-0.001559</td>\n",
       "      <td>0.008246</td>\n",
       "      <td>0.004866</td>\n",
       "      <td>0.006155</td>\n",
       "      <td>0.003291</td>\n",
       "      <td>-0.001707</td>\n",
       "      <td>0.007935</td>\n",
       "    </tr>\n",
       "    <tr>\n",
       "      <th>2021-12-27</th>\n",
       "      <td>0.005181</td>\n",
       "      <td>0.023523</td>\n",
       "      <td>0.008778</td>\n",
       "      <td>0.009528</td>\n",
       "      <td>0.012203</td>\n",
       "      <td>0.001925</td>\n",
       "      <td>0.022921</td>\n",
       "      <td>0.011463</td>\n",
       "      <td>-0.002008</td>\n",
       "      <td>-0.009166</td>\n",
       "      <td>0.008601</td>\n",
       "      <td>0.026687</td>\n",
       "      <td>-0.003950</td>\n",
       "      <td>0.000000</td>\n",
       "      <td>0.011359</td>\n",
       "    </tr>\n",
       "    <tr>\n",
       "      <th>2021-12-28</th>\n",
       "      <td>0.007466</td>\n",
       "      <td>0.002074</td>\n",
       "      <td>0.007439</td>\n",
       "      <td>0.000741</td>\n",
       "      <td>-0.003472</td>\n",
       "      <td>0.012531</td>\n",
       "      <td>-0.003510</td>\n",
       "      <td>-0.006946</td>\n",
       "      <td>-0.009989</td>\n",
       "      <td>0.008253</td>\n",
       "      <td>0.001556</td>\n",
       "      <td>0.002120</td>\n",
       "      <td>0.006575</td>\n",
       "      <td>0.000759</td>\n",
       "      <td>0.008209</td>\n",
       "    </tr>\n",
       "    <tr>\n",
       "      <th>2021-12-29</th>\n",
       "      <td>0.002306</td>\n",
       "      <td>0.005528</td>\n",
       "      <td>0.005460</td>\n",
       "      <td>0.004086</td>\n",
       "      <td>0.001351</td>\n",
       "      <td>0.000422</td>\n",
       "      <td>0.002049</td>\n",
       "      <td>0.014081</td>\n",
       "      <td>-0.004976</td>\n",
       "      <td>-0.000914</td>\n",
       "      <td>-0.010442</td>\n",
       "      <td>-0.006216</td>\n",
       "      <td>0.001964</td>\n",
       "      <td>-0.006852</td>\n",
       "      <td>0.007481</td>\n",
       "    </tr>\n",
       "    <tr>\n",
       "      <th>2021-12-30</th>\n",
       "      <td>-0.013655</td>\n",
       "      <td>-0.006822</td>\n",
       "      <td>-0.000503</td>\n",
       "      <td>0.004147</td>\n",
       "      <td>-0.001738</td>\n",
       "      <td>-0.003170</td>\n",
       "      <td>-0.007721</td>\n",
       "      <td>-0.007672</td>\n",
       "      <td>-0.002270</td>\n",
       "      <td>0.005470</td>\n",
       "      <td>0.002567</td>\n",
       "      <td>-0.006096</td>\n",
       "      <td>-0.009199</td>\n",
       "      <td>-0.002103</td>\n",
       "      <td>-0.003914</td>\n",
       "    </tr>\n",
       "  </tbody>\n",
       "</table>\n",
       "<p>6291 rows × 15 columns</p>\n",
       "</div>"
      ],
      "text/plain": [
       "                 AIR      COST       DTE       FDX      INTC        MO  \\\n",
       "Date                                                                     \n",
       "1997-01-03 -0.008583 -0.010310 -0.003854  0.019859  0.059552  0.013363   \n",
       "1997-01-06 -0.008658  0.023048 -0.015564 -0.019859  0.003607  0.002210   \n",
       "1997-01-07  0.000000  0.022530  0.011696 -0.002869  0.031889 -0.001105   \n",
       "1997-01-08 -0.004358  0.009852 -0.007782 -0.020320 -0.007877 -0.003320   \n",
       "1997-01-09  0.004358  0.043172 -0.007843  0.028904  0.005258  0.005528   \n",
       "...              ...       ...       ...       ...       ...       ...   \n",
       "2021-12-23  0.011757  0.001273  0.001028  0.015324  0.006648 -0.003847   \n",
       "2021-12-27  0.005181  0.023523  0.008778  0.009528  0.012203  0.001925   \n",
       "2021-12-28  0.007466  0.002074  0.007439  0.000741 -0.003472  0.012531   \n",
       "2021-12-29  0.002306  0.005528  0.005460  0.004086  0.001351  0.000422   \n",
       "2021-12-30 -0.013655 -0.006822 -0.000503  0.004147 -0.001738 -0.003170   \n",
       "\n",
       "                MSFT       NKE      ORCL     PCRFY       SAP      SONY  \\\n",
       "Date                                                                     \n",
       "1997-01-03  0.036094  0.014568  0.060624  0.016833 -0.010929 -0.001918   \n",
       "1997-01-06 -0.002959  0.004124  0.005587  0.006051  0.002743  0.013346   \n",
       "1997-01-07  0.007380 -0.014508 -0.002790  0.000000  0.000000  0.011300   \n",
       "1997-01-08 -0.019303 -0.006283 -0.031208 -0.012140  0.013606 -0.007519   \n",
       "1997-01-09 -0.012066  0.018731 -0.038184 -0.026297  0.031918 -0.019048   \n",
       "...              ...       ...       ...       ...       ...       ...   \n",
       "2021-12-23  0.004462  0.001389 -0.001559  0.008246  0.004866  0.006155   \n",
       "2021-12-27  0.022921  0.011463 -0.002008 -0.009166  0.008601  0.026687   \n",
       "2021-12-28 -0.003510 -0.006946 -0.009989  0.008253  0.001556  0.002120   \n",
       "2021-12-29  0.002049  0.014081 -0.004976 -0.000914 -0.010442 -0.006216   \n",
       "2021-12-30 -0.007721 -0.007672 -0.002270  0.005470  0.002567 -0.006096   \n",
       "\n",
       "                 VOD        VZ        WM  \n",
       "Date                                      \n",
       "1997-01-03  0.024541 -0.003738 -0.024591  \n",
       "1997-01-06  0.018018 -0.003752 -0.012527  \n",
       "1997-01-07  0.000000 -0.017062  0.049190  \n",
       "1997-01-08  0.002972 -0.016059  0.027615  \n",
       "1997-01-09  0.008863  0.005877 -0.015686  \n",
       "...              ...       ...       ...  \n",
       "2021-12-23  0.003291 -0.001707  0.007935  \n",
       "2021-12-27 -0.003950  0.000000  0.011359  \n",
       "2021-12-28  0.006575  0.000759  0.008209  \n",
       "2021-12-29  0.001964 -0.006852  0.007481  \n",
       "2021-12-30 -0.009199 -0.002103 -0.003914  \n",
       "\n",
       "[6291 rows x 15 columns]"
      ]
     },
     "execution_count": 3,
     "metadata": {},
     "output_type": "execute_result"
    }
   ],
   "source": [
    "# Berechnung der Logrenditen (Vorteil der Additivität)\n",
    "returns = pd.DataFrame(np.diff(np.log(Adj_Close).T).T)\n",
    "returns.index = Adj_Close.index[1:]\n",
    "returns.columns = tickers\n",
    "returns\n",
    "\n",
    "# Alternativ\n",
    "#returns = pd.DataFrame(np.diff(np.log(Adj_Close.values).T).T)\n",
    "#returns = np.log(Adj_Close/Adj_Close.shift(1))\n",
    "#returns = np.log1p(Adj_Close.pct_change())"
   ]
  },
  {
   "cell_type": "markdown",
   "id": "026c8a87",
   "metadata": {},
   "source": [
    "Datensätze Adj Close und returns plotten; Verlauf der Assets über die Zeitreihe beobachten/beschreiben..."
   ]
  },
  {
   "cell_type": "code",
   "execution_count": 4,
   "id": "882188bf",
   "metadata": {},
   "outputs": [
    {
     "data": {
      "text/html": [
       "<div>\n",
       "<style scoped>\n",
       "    .dataframe tbody tr th:only-of-type {\n",
       "        vertical-align: middle;\n",
       "    }\n",
       "\n",
       "    .dataframe tbody tr th {\n",
       "        vertical-align: top;\n",
       "    }\n",
       "\n",
       "    .dataframe thead th {\n",
       "        text-align: right;\n",
       "    }\n",
       "</style>\n",
       "<table border=\"1\" class=\"dataframe\">\n",
       "  <thead>\n",
       "    <tr style=\"text-align: right;\">\n",
       "      <th></th>\n",
       "      <th>AIR</th>\n",
       "      <th>COST</th>\n",
       "      <th>DTE</th>\n",
       "      <th>FDX</th>\n",
       "      <th>INTC</th>\n",
       "      <th>MO</th>\n",
       "      <th>MSFT</th>\n",
       "      <th>NKE</th>\n",
       "      <th>ORCL</th>\n",
       "      <th>PCRFY</th>\n",
       "      <th>SAP</th>\n",
       "      <th>SONY</th>\n",
       "      <th>VOD</th>\n",
       "      <th>VZ</th>\n",
       "      <th>WM</th>\n",
       "    </tr>\n",
       "    <tr>\n",
       "      <th>Date</th>\n",
       "      <th></th>\n",
       "      <th></th>\n",
       "      <th></th>\n",
       "      <th></th>\n",
       "      <th></th>\n",
       "      <th></th>\n",
       "      <th></th>\n",
       "      <th></th>\n",
       "      <th></th>\n",
       "      <th></th>\n",
       "      <th></th>\n",
       "      <th></th>\n",
       "      <th></th>\n",
       "      <th></th>\n",
       "      <th></th>\n",
       "    </tr>\n",
       "  </thead>\n",
       "  <tbody>\n",
       "    <tr>\n",
       "      <th>1997-01-03</th>\n",
       "      <td>-0.008583</td>\n",
       "      <td>-0.010310</td>\n",
       "      <td>-0.003854</td>\n",
       "      <td>0.019859</td>\n",
       "      <td>0.059552</td>\n",
       "      <td>0.013363</td>\n",
       "      <td>0.036094</td>\n",
       "      <td>0.014568</td>\n",
       "      <td>0.060624</td>\n",
       "      <td>0.016833</td>\n",
       "      <td>-0.010929</td>\n",
       "      <td>-0.001918</td>\n",
       "      <td>0.024541</td>\n",
       "      <td>-0.003738</td>\n",
       "      <td>-0.024591</td>\n",
       "    </tr>\n",
       "    <tr>\n",
       "      <th>1997-01-06</th>\n",
       "      <td>-0.008658</td>\n",
       "      <td>0.023048</td>\n",
       "      <td>-0.015564</td>\n",
       "      <td>-0.019859</td>\n",
       "      <td>0.003607</td>\n",
       "      <td>0.002210</td>\n",
       "      <td>-0.002959</td>\n",
       "      <td>0.004124</td>\n",
       "      <td>0.005587</td>\n",
       "      <td>0.006051</td>\n",
       "      <td>0.002743</td>\n",
       "      <td>0.013346</td>\n",
       "      <td>0.018018</td>\n",
       "      <td>-0.003752</td>\n",
       "      <td>-0.012527</td>\n",
       "    </tr>\n",
       "    <tr>\n",
       "      <th>1997-01-07</th>\n",
       "      <td>0.000000</td>\n",
       "      <td>0.022530</td>\n",
       "      <td>0.011696</td>\n",
       "      <td>-0.002869</td>\n",
       "      <td>0.031889</td>\n",
       "      <td>-0.001105</td>\n",
       "      <td>0.007380</td>\n",
       "      <td>-0.014508</td>\n",
       "      <td>-0.002790</td>\n",
       "      <td>0.000000</td>\n",
       "      <td>0.000000</td>\n",
       "      <td>0.011300</td>\n",
       "      <td>0.000000</td>\n",
       "      <td>-0.017062</td>\n",
       "      <td>0.049190</td>\n",
       "    </tr>\n",
       "    <tr>\n",
       "      <th>1997-01-08</th>\n",
       "      <td>-0.004358</td>\n",
       "      <td>0.009852</td>\n",
       "      <td>-0.007782</td>\n",
       "      <td>-0.020320</td>\n",
       "      <td>-0.007877</td>\n",
       "      <td>-0.003320</td>\n",
       "      <td>-0.019303</td>\n",
       "      <td>-0.006283</td>\n",
       "      <td>-0.031208</td>\n",
       "      <td>-0.012140</td>\n",
       "      <td>0.013606</td>\n",
       "      <td>-0.007519</td>\n",
       "      <td>0.002972</td>\n",
       "      <td>-0.016059</td>\n",
       "      <td>0.027615</td>\n",
       "    </tr>\n",
       "    <tr>\n",
       "      <th>1997-01-09</th>\n",
       "      <td>0.004358</td>\n",
       "      <td>0.043172</td>\n",
       "      <td>-0.007843</td>\n",
       "      <td>0.028904</td>\n",
       "      <td>0.005258</td>\n",
       "      <td>0.005528</td>\n",
       "      <td>-0.012066</td>\n",
       "      <td>0.018731</td>\n",
       "      <td>-0.038184</td>\n",
       "      <td>-0.026297</td>\n",
       "      <td>0.031918</td>\n",
       "      <td>-0.019048</td>\n",
       "      <td>0.008863</td>\n",
       "      <td>0.005877</td>\n",
       "      <td>-0.015686</td>\n",
       "    </tr>\n",
       "    <tr>\n",
       "      <th>...</th>\n",
       "      <td>...</td>\n",
       "      <td>...</td>\n",
       "      <td>...</td>\n",
       "      <td>...</td>\n",
       "      <td>...</td>\n",
       "      <td>...</td>\n",
       "      <td>...</td>\n",
       "      <td>...</td>\n",
       "      <td>...</td>\n",
       "      <td>...</td>\n",
       "      <td>...</td>\n",
       "      <td>...</td>\n",
       "      <td>...</td>\n",
       "      <td>...</td>\n",
       "      <td>...</td>\n",
       "    </tr>\n",
       "    <tr>\n",
       "      <th>2001-12-24</th>\n",
       "      <td>0.000000</td>\n",
       "      <td>0.010723</td>\n",
       "      <td>0.005334</td>\n",
       "      <td>0.000964</td>\n",
       "      <td>-0.012106</td>\n",
       "      <td>0.012369</td>\n",
       "      <td>-0.004006</td>\n",
       "      <td>0.013234</td>\n",
       "      <td>-0.002785</td>\n",
       "      <td>0.001681</td>\n",
       "      <td>-0.014796</td>\n",
       "      <td>0.000000</td>\n",
       "      <td>0.006279</td>\n",
       "      <td>0.001060</td>\n",
       "      <td>-0.003180</td>\n",
       "    </tr>\n",
       "    <tr>\n",
       "      <th>2001-12-26</th>\n",
       "      <td>-0.011049</td>\n",
       "      <td>-0.001363</td>\n",
       "      <td>0.001450</td>\n",
       "      <td>0.025125</td>\n",
       "      <td>0.008397</td>\n",
       "      <td>0.003014</td>\n",
       "      <td>0.006077</td>\n",
       "      <td>0.000876</td>\n",
       "      <td>-0.017587</td>\n",
       "      <td>0.048350</td>\n",
       "      <td>0.003482</td>\n",
       "      <td>-0.005652</td>\n",
       "      <td>0.020140</td>\n",
       "      <td>0.000000</td>\n",
       "      <td>0.009824</td>\n",
       "    </tr>\n",
       "    <tr>\n",
       "      <th>2001-12-27</th>\n",
       "      <td>0.031714</td>\n",
       "      <td>0.003176</td>\n",
       "      <td>0.012956</td>\n",
       "      <td>-0.000752</td>\n",
       "      <td>0.011699</td>\n",
       "      <td>0.001504</td>\n",
       "      <td>0.002508</td>\n",
       "      <td>-0.006149</td>\n",
       "      <td>-0.007123</td>\n",
       "      <td>-0.006420</td>\n",
       "      <td>0.012875</td>\n",
       "      <td>-0.002497</td>\n",
       "      <td>-0.004227</td>\n",
       "      <td>0.025313</td>\n",
       "      <td>0.015023</td>\n",
       "    </tr>\n",
       "    <tr>\n",
       "      <th>2001-12-28</th>\n",
       "      <td>-0.010823</td>\n",
       "      <td>0.023283</td>\n",
       "      <td>-0.000715</td>\n",
       "      <td>-0.018415</td>\n",
       "      <td>-0.013249</td>\n",
       "      <td>-0.012313</td>\n",
       "      <td>0.000295</td>\n",
       "      <td>-0.004769</td>\n",
       "      <td>0.004991</td>\n",
       "      <td>0.002413</td>\n",
       "      <td>0.018854</td>\n",
       "      <td>0.049872</td>\n",
       "      <td>0.010724</td>\n",
       "      <td>-0.002897</td>\n",
       "      <td>0.005885</td>\n",
       "    </tr>\n",
       "    <tr>\n",
       "      <th>2001-12-31</th>\n",
       "      <td>-0.019781</td>\n",
       "      <td>-0.018086</td>\n",
       "      <td>0.000477</td>\n",
       "      <td>-0.005957</td>\n",
       "      <td>-0.024809</td>\n",
       "      <td>-0.003483</td>\n",
       "      <td>-0.024159</td>\n",
       "      <td>-0.004258</td>\n",
       "      <td>-0.017941</td>\n",
       "      <td>0.011976</td>\n",
       "      <td>-0.022605</td>\n",
       "      <td>-0.025179</td>\n",
       "      <td>-0.021953</td>\n",
       "      <td>-0.016923</td>\n",
       "      <td>-0.014621</td>\n",
       "    </tr>\n",
       "  </tbody>\n",
       "</table>\n",
       "<p>1256 rows × 15 columns</p>\n",
       "</div>"
      ],
      "text/plain": [
       "                 AIR      COST       DTE       FDX      INTC        MO  \\\n",
       "Date                                                                     \n",
       "1997-01-03 -0.008583 -0.010310 -0.003854  0.019859  0.059552  0.013363   \n",
       "1997-01-06 -0.008658  0.023048 -0.015564 -0.019859  0.003607  0.002210   \n",
       "1997-01-07  0.000000  0.022530  0.011696 -0.002869  0.031889 -0.001105   \n",
       "1997-01-08 -0.004358  0.009852 -0.007782 -0.020320 -0.007877 -0.003320   \n",
       "1997-01-09  0.004358  0.043172 -0.007843  0.028904  0.005258  0.005528   \n",
       "...              ...       ...       ...       ...       ...       ...   \n",
       "2001-12-24  0.000000  0.010723  0.005334  0.000964 -0.012106  0.012369   \n",
       "2001-12-26 -0.011049 -0.001363  0.001450  0.025125  0.008397  0.003014   \n",
       "2001-12-27  0.031714  0.003176  0.012956 -0.000752  0.011699  0.001504   \n",
       "2001-12-28 -0.010823  0.023283 -0.000715 -0.018415 -0.013249 -0.012313   \n",
       "2001-12-31 -0.019781 -0.018086  0.000477 -0.005957 -0.024809 -0.003483   \n",
       "\n",
       "                MSFT       NKE      ORCL     PCRFY       SAP      SONY  \\\n",
       "Date                                                                     \n",
       "1997-01-03  0.036094  0.014568  0.060624  0.016833 -0.010929 -0.001918   \n",
       "1997-01-06 -0.002959  0.004124  0.005587  0.006051  0.002743  0.013346   \n",
       "1997-01-07  0.007380 -0.014508 -0.002790  0.000000  0.000000  0.011300   \n",
       "1997-01-08 -0.019303 -0.006283 -0.031208 -0.012140  0.013606 -0.007519   \n",
       "1997-01-09 -0.012066  0.018731 -0.038184 -0.026297  0.031918 -0.019048   \n",
       "...              ...       ...       ...       ...       ...       ...   \n",
       "2001-12-24 -0.004006  0.013234 -0.002785  0.001681 -0.014796  0.000000   \n",
       "2001-12-26  0.006077  0.000876 -0.017587  0.048350  0.003482 -0.005652   \n",
       "2001-12-27  0.002508 -0.006149 -0.007123 -0.006420  0.012875 -0.002497   \n",
       "2001-12-28  0.000295 -0.004769  0.004991  0.002413  0.018854  0.049872   \n",
       "2001-12-31 -0.024159 -0.004258 -0.017941  0.011976 -0.022605 -0.025179   \n",
       "\n",
       "                 VOD        VZ        WM  \n",
       "Date                                      \n",
       "1997-01-03  0.024541 -0.003738 -0.024591  \n",
       "1997-01-06  0.018018 -0.003752 -0.012527  \n",
       "1997-01-07  0.000000 -0.017062  0.049190  \n",
       "1997-01-08  0.002972 -0.016059  0.027615  \n",
       "1997-01-09  0.008863  0.005877 -0.015686  \n",
       "...              ...       ...       ...  \n",
       "2001-12-24  0.006279  0.001060 -0.003180  \n",
       "2001-12-26  0.020140  0.000000  0.009824  \n",
       "2001-12-27 -0.004227  0.025313  0.015023  \n",
       "2001-12-28  0.010724 -0.002897  0.005885  \n",
       "2001-12-31 -0.021953 -0.016923 -0.014621  \n",
       "\n",
       "[1256 rows x 15 columns]"
      ]
     },
     "execution_count": 4,
     "metadata": {},
     "output_type": "execute_result"
    }
   ],
   "source": [
    "# DataFrame auf den Zeitraum des Kalibrationsdatensatzes von 1997/01/01 - 2001/12/31 begrenzen\n",
    "insample = returns.loc['1997-01-01':'2001-12-31']\n",
    "insample"
   ]
  },
  {
   "cell_type": "markdown",
   "id": "505d7e06",
   "metadata": {},
   "source": [
    "Berechnung der notwendigen Eingabeparameter für die anschließenden Funktionen"
   ]
  },
  {
   "cell_type": "code",
   "execution_count": 5,
   "id": "f0b697e2",
   "metadata": {},
   "outputs": [],
   "source": [
    "# Berechnung der Varianz-Covarianz-Matrix, mittleren Renditen und Festlegung von Alpha-Quantil, Zeithorizont und risikolosem Zins\n",
    "insample_cov = insample.cov() #plot\n",
    "insample_mean_returns = insample.mean()\n",
    "alpha = 0.05\n",
    "days = 252\n",
    "rf = 0 #erklären"
   ]
  },
  {
   "cell_type": "code",
   "execution_count": 6,
   "id": "d932547d",
   "metadata": {},
   "outputs": [],
   "source": [
    "#insample_cov #plot\n",
    "#insample_covariance = insample_cov\n",
    "#for i in range(len(insample_covariance)):\n",
    "#    insample_covariance.iloc[i,i] = 0\n",
    "#np.sum(np.sum(insample_covariance))"
   ]
  },
  {
   "cell_type": "markdown",
   "id": "ab34093d",
   "metadata": {},
   "source": [
    "**1.1 Bestimmung des Portfolios mit minimaler Varianz**"
   ]
  },
  {
   "cell_type": "markdown",
   "id": "32c3985f",
   "metadata": {},
   "source": [
    "Wir entscheiden uns für die **Numerische Optimierung**, da diese genauer ist als die Monte-Carlo-Simulation, welche sich nur an das Miniumum/Maximum annähert.\n",
    "\n",
    "**Funktion 1** berechnet die annualisierte Standardabweichung $𝜎=h^{T}Vh$ des Portfolios und übergibt diese an die Minimierungsfunktion in **Funktion 2**.\n",
    "\n",
    "Die **Nebenbedingung** stellt sicher, dass die Summe der Gewichte im Portfolio gleich 1 ist."
   ]
  },
  {
   "cell_type": "code",
   "execution_count": 7,
   "id": "4e20cf30",
   "metadata": {},
   "outputs": [
    {
     "data": {
      "text/plain": [
       "     fun: 0.15456034812716413\n",
       "     jac: array([0.15419091, 0.15467976, 0.15447712, 0.15465668, 0.18305038,\n",
       "       0.1547414 , 0.15462657, 0.15479277, 0.19125223, 0.15501173,\n",
       "       0.17939316, 0.15390394, 0.15441644, 0.15413196, 0.15483778])\n",
       " message: 'Optimization terminated successfully'\n",
       "    nfev: 113\n",
       "     nit: 7\n",
       "    njev: 7\n",
       "  status: 0\n",
       " success: True\n",
       "       x: array([0.05686383, 0.0095865 , 0.39345782, 0.04718124, 0.        ,\n",
       "       0.07111344, 0.0355847 , 0.05791682, 0.        , 0.13547514,\n",
       "       0.        , 0.02192183, 0.02756329, 0.09032505, 0.05301033])"
      ]
     },
     "execution_count": 7,
     "metadata": {},
     "output_type": "execute_result"
    }
   ],
   "source": [
    "# Funktion 1\n",
    "def calc_portfolio_std(weights, cov):\n",
    "    portfolio_std = np.sqrt(np.dot(np.dot(weights.T, cov), weights)) * np.sqrt(252) #h=15x1 Matrix-> [h.transpose * cov] * h = [1x15 * 15x15] * 15x1 = 1x15 * 15x1 = 1x1\n",
    "    return portfolio_std\n",
    "\n",
    "# Funktion 2\n",
    "def min_variance(cov):\n",
    "    num_assets = len(cov)\n",
    "    args = cov\n",
    "    constraints = ({'type': 'eq', 'fun': lambda x: np.sum(x) - 1}) #Nebenbedingung; ; eq für equality -> Gleichung != 0; np.sum(weights) - 1 = 0 (Summe der Gewichte müssen 1 ergeben und Gleichung muss gleich Null sein!)\n",
    "    bound = (0.0, 1.0)\n",
    "    bounds = tuple(bound for assets in range(num_assets))\n",
    "    result = sco.minimize(calc_portfolio_std, num_assets*[1/num_assets], args=args, \n",
    "                         method='SLSQP', bounds=bounds, constraints=constraints)\n",
    "    return result\n",
    "\n",
    "# Ausführen der Funktionen\n",
    "function_result = min_variance(insample_cov) #fun: gibt den ZF-wert (Min Varinaz) an & x: gibt die Gewichtungen der einzelnen Aktien im Portfolio an\n",
    "function_result"
   ]
  },
  {
   "cell_type": "code",
   "execution_count": 8,
   "id": "477815eb",
   "metadata": {
    "scrolled": true
   },
   "outputs": [
    {
     "data": {
      "text/html": [
       "<div>\n",
       "<style scoped>\n",
       "    .dataframe tbody tr th:only-of-type {\n",
       "        vertical-align: middle;\n",
       "    }\n",
       "\n",
       "    .dataframe tbody tr th {\n",
       "        vertical-align: top;\n",
       "    }\n",
       "\n",
       "    .dataframe thead th {\n",
       "        text-align: right;\n",
       "    }\n",
       "</style>\n",
       "<table border=\"1\" class=\"dataframe\">\n",
       "  <thead>\n",
       "    <tr style=\"text-align: right;\">\n",
       "      <th></th>\n",
       "      <th>AIR</th>\n",
       "      <th>COST</th>\n",
       "      <th>DTE</th>\n",
       "      <th>FDX</th>\n",
       "      <th>INTC</th>\n",
       "      <th>MO</th>\n",
       "      <th>MSFT</th>\n",
       "      <th>NKE</th>\n",
       "      <th>ORCL</th>\n",
       "      <th>PCRFY</th>\n",
       "      <th>SAP</th>\n",
       "      <th>SONY</th>\n",
       "      <th>VOD</th>\n",
       "      <th>VZ</th>\n",
       "      <th>WM</th>\n",
       "      <th>Function Result</th>\n",
       "    </tr>\n",
       "  </thead>\n",
       "  <tbody>\n",
       "    <tr>\n",
       "      <th>0</th>\n",
       "      <td>0.06</td>\n",
       "      <td>0.01</td>\n",
       "      <td>0.39</td>\n",
       "      <td>0.05</td>\n",
       "      <td>0.0</td>\n",
       "      <td>0.07</td>\n",
       "      <td>0.04</td>\n",
       "      <td>0.06</td>\n",
       "      <td>0.0</td>\n",
       "      <td>0.14</td>\n",
       "      <td>0.0</td>\n",
       "      <td>0.02</td>\n",
       "      <td>0.03</td>\n",
       "      <td>0.09</td>\n",
       "      <td>0.05</td>\n",
       "      <td>0.15456</td>\n",
       "    </tr>\n",
       "  </tbody>\n",
       "</table>\n",
       "</div>"
      ],
      "text/plain": [
       "    AIR  COST   DTE   FDX  INTC    MO  MSFT   NKE  ORCL  PCRFY  SAP  SONY  \\\n",
       "0  0.06  0.01  0.39  0.05   0.0  0.07  0.04  0.06   0.0   0.14  0.0  0.02   \n",
       "\n",
       "    VOD    VZ    WM  Function Result  \n",
       "0  0.03  0.09  0.05          0.15456  "
      ]
     },
     "execution_count": 8,
     "metadata": {},
     "output_type": "execute_result"
    }
   ],
   "source": [
    "# Ergebnisse der Optimierung in DataFrame abspeichern\n",
    "insample_min_port_variance = pd.DataFrame([round(x,2) for x in function_result['x']], index=tickers).T #Gewichte auf 2 Nachkommastellen runden\n",
    "insample_min_port_variance['Function Result'] = function_result['fun'] #Spalte für Zielfunktionswert\n",
    "insample_min_port_variance"
   ]
  },
  {
   "cell_type": "markdown",
   "id": "8413ddcb",
   "metadata": {},
   "source": [
    "**1.2 Bestimmung des Portfolios mit minimalem Value at Risk (VaR)**"
   ]
  },
  {
   "cell_type": "markdown",
   "id": "f39141a2",
   "metadata": {},
   "source": [
    "**Funktion 1** berechnet die annualisierten Mean Returns 𝜇, die annualisierte Standardabweichung $𝜎=h^{T}Vh$ und den Value at Risk des Portfolios und gibt den VaR aus, damit dieser von der Minimierungsfunktion in **Funktion 2** minimiert werden kann."
   ]
  },
  {
   "cell_type": "code",
   "execution_count": 9,
   "id": "b959988a",
   "metadata": {},
   "outputs": [],
   "source": [
    "# Funktion 1\n",
    "def calc_portfolio_VaR(weights, mean_returns, cov, alpha, days):\n",
    "    portfolio_return = np.sum(weights * mean_returns) * days #nur bei Logrenditen Addition möglich\n",
    "    portfolio_std = np.sqrt(np.dot(np.dot(weights.T, cov), weights)) * np.sqrt(days)\n",
    "    portfolio_VaR = abs(portfolio_return - (portfolio_std * stats.norm.ppf(1 - alpha))) #Erklären\n",
    "    return portfolio_VaR\n",
    "\n",
    "# Funktion 2\n",
    "def min_VaR(mean_returns, cov, alpha, days):\n",
    "    num_assets = len(mean_returns)\n",
    "    args = (mean_returns, cov, alpha ,days)\n",
    "    constraints = ({'type': 'eq', 'fun': lambda x: np.sum(x) - 1})\n",
    "    bound = (0.0, 1.0)\n",
    "    bounds = tuple(bound for asset in range(num_assets))\n",
    "    result = sco.minimize(calc_portfolio_VaR, num_assets*[1/num_assets], args=args, \n",
    "                         method='SLSQP', bounds=bounds, constraints=constraints)\n",
    "    return result\n",
    "\n",
    "# Ausführen der Funktionen\n",
    "function_result = min_VaR(insample_mean_returns, insample_cov, alpha, days)\n",
    "#function_result"
   ]
  },
  {
   "cell_type": "code",
   "execution_count": 10,
   "id": "a27dcfa4",
   "metadata": {},
   "outputs": [
    {
     "data": {
      "text/html": [
       "<div>\n",
       "<style scoped>\n",
       "    .dataframe tbody tr th:only-of-type {\n",
       "        vertical-align: middle;\n",
       "    }\n",
       "\n",
       "    .dataframe tbody tr th {\n",
       "        vertical-align: top;\n",
       "    }\n",
       "\n",
       "    .dataframe thead th {\n",
       "        text-align: right;\n",
       "    }\n",
       "</style>\n",
       "<table border=\"1\" class=\"dataframe\">\n",
       "  <thead>\n",
       "    <tr style=\"text-align: right;\">\n",
       "      <th></th>\n",
       "      <th>AIR</th>\n",
       "      <th>COST</th>\n",
       "      <th>DTE</th>\n",
       "      <th>FDX</th>\n",
       "      <th>INTC</th>\n",
       "      <th>MO</th>\n",
       "      <th>MSFT</th>\n",
       "      <th>NKE</th>\n",
       "      <th>ORCL</th>\n",
       "      <th>PCRFY</th>\n",
       "      <th>SAP</th>\n",
       "      <th>SONY</th>\n",
       "      <th>VOD</th>\n",
       "      <th>VZ</th>\n",
       "      <th>WM</th>\n",
       "      <th>Function Result</th>\n",
       "    </tr>\n",
       "  </thead>\n",
       "  <tbody>\n",
       "    <tr>\n",
       "      <th>0</th>\n",
       "      <td>0.0</td>\n",
       "      <td>0.09</td>\n",
       "      <td>0.44</td>\n",
       "      <td>0.09</td>\n",
       "      <td>0.0</td>\n",
       "      <td>0.07</td>\n",
       "      <td>0.12</td>\n",
       "      <td>0.0</td>\n",
       "      <td>0.0</td>\n",
       "      <td>0.0</td>\n",
       "      <td>0.01</td>\n",
       "      <td>0.01</td>\n",
       "      <td>0.1</td>\n",
       "      <td>0.08</td>\n",
       "      <td>0.0</td>\n",
       "      <td>0.138704</td>\n",
       "    </tr>\n",
       "  </tbody>\n",
       "</table>\n",
       "</div>"
      ],
      "text/plain": [
       "   AIR  COST   DTE   FDX  INTC    MO  MSFT  NKE  ORCL  PCRFY   SAP  SONY  VOD  \\\n",
       "0  0.0  0.09  0.44  0.09   0.0  0.07  0.12  0.0   0.0    0.0  0.01  0.01  0.1   \n",
       "\n",
       "     VZ   WM  Function Result  \n",
       "0  0.08  0.0         0.138704  "
      ]
     },
     "execution_count": 10,
     "metadata": {},
     "output_type": "execute_result"
    }
   ],
   "source": [
    "# Ergebnisse der Optimierung in DataFrame abspeichern\n",
    "insample_min_port_VaR = pd.DataFrame([round(x,2) for x in function_result['x']], index=tickers).T\n",
    "insample_min_port_VaR['Function Result'] = function_result['fun']\n",
    "insample_min_port_VaR"
   ]
  },
  {
   "cell_type": "markdown",
   "id": "83e8a44f",
   "metadata": {},
   "source": [
    "**1.3 Bestimmung des Portfolios mit maximaler Sharpe Ratio (𝜇 - 𝜎 effizientes Portfolio)**\n",
    " \n",
    " "
   ]
  },
  {
   "cell_type": "markdown",
   "id": "11a7462a",
   "metadata": {},
   "source": [
    "**Funktion 1** berechnet die annualisierten Mean Returns 𝜇, die annualisierte Standardabweichung $𝜎=h^{T}Vh$ und die Sharpe Ratio (𝜇 - rf) / 𝜎 des Portfolios und gibt die negative Sharpe Ratio aus, damit diese von der Minimierungsfunktion in **Funktion 2** maximiert werden kann."
   ]
  },
  {
   "cell_type": "code",
   "execution_count": 11,
   "id": "f94564e2",
   "metadata": {},
   "outputs": [],
   "source": [
    "# Funktion 1\n",
    "def calc_neg_sharpe(weights, mean_returns, cov, rf):\n",
    "    portfolio_return = np.sum(weights * mean_returns) * 252\n",
    "    portfolio_std = np.sqrt(np.dot(np.dot(weights.T, cov), weights)) * np.sqrt(252)\n",
    "    sharpe_ratio = (portfolio_return - rf) / portfolio_std\n",
    "    return -sharpe_ratio\n",
    "\n",
    "# Funktion 2\n",
    "def max_sharpe_ratio(mean_returns, cov, rf):\n",
    "    num_assets = len(mean_returns)\n",
    "    args = (mean_returns, cov, rf)\n",
    "    constraints = ({'type': 'eq', 'fun': lambda x: np.sum(x) -1})\n",
    "    bound = (0.0, 1.0)\n",
    "    bounds = tuple(bound for asset in range(num_assets))\n",
    "    result = sco.minimize(calc_neg_sharpe, num_assets*[1/num_assets], args=args, \n",
    "                          method='SLSQP', bounds=bounds, constraints=constraints)\n",
    "    return result\n",
    "\n",
    "# Ausführen der Funktionen\n",
    "function_result = max_sharpe_ratio(insample_mean_returns, insample_cov, rf)\n",
    "#function_result"
   ]
  },
  {
   "cell_type": "code",
   "execution_count": 12,
   "id": "1225b158",
   "metadata": {
    "scrolled": true
   },
   "outputs": [
    {
     "data": {
      "text/html": [
       "<div>\n",
       "<style scoped>\n",
       "    .dataframe tbody tr th:only-of-type {\n",
       "        vertical-align: middle;\n",
       "    }\n",
       "\n",
       "    .dataframe tbody tr th {\n",
       "        vertical-align: top;\n",
       "    }\n",
       "\n",
       "    .dataframe thead th {\n",
       "        text-align: right;\n",
       "    }\n",
       "</style>\n",
       "<table border=\"1\" class=\"dataframe\">\n",
       "  <thead>\n",
       "    <tr style=\"text-align: right;\">\n",
       "      <th></th>\n",
       "      <th>AIR</th>\n",
       "      <th>COST</th>\n",
       "      <th>DTE</th>\n",
       "      <th>FDX</th>\n",
       "      <th>INTC</th>\n",
       "      <th>MO</th>\n",
       "      <th>MSFT</th>\n",
       "      <th>NKE</th>\n",
       "      <th>ORCL</th>\n",
       "      <th>PCRFY</th>\n",
       "      <th>SAP</th>\n",
       "      <th>SONY</th>\n",
       "      <th>VOD</th>\n",
       "      <th>VZ</th>\n",
       "      <th>WM</th>\n",
       "      <th>Function Result</th>\n",
       "    </tr>\n",
       "  </thead>\n",
       "  <tbody>\n",
       "    <tr>\n",
       "      <th>0</th>\n",
       "      <td>0.0</td>\n",
       "      <td>0.15</td>\n",
       "      <td>0.38</td>\n",
       "      <td>0.1</td>\n",
       "      <td>0.0</td>\n",
       "      <td>0.03</td>\n",
       "      <td>0.16</td>\n",
       "      <td>0.0</td>\n",
       "      <td>0.0</td>\n",
       "      <td>0.0</td>\n",
       "      <td>0.01</td>\n",
       "      <td>0.0</td>\n",
       "      <td>0.14</td>\n",
       "      <td>0.03</td>\n",
       "      <td>0.0</td>\n",
       "      <td>0.894156</td>\n",
       "    </tr>\n",
       "  </tbody>\n",
       "</table>\n",
       "</div>"
      ],
      "text/plain": [
       "   AIR  COST   DTE  FDX  INTC    MO  MSFT  NKE  ORCL  PCRFY   SAP  SONY   VOD  \\\n",
       "0  0.0  0.15  0.38  0.1   0.0  0.03  0.16  0.0   0.0    0.0  0.01   0.0  0.14   \n",
       "\n",
       "     VZ   WM  Function Result  \n",
       "0  0.03  0.0         0.894156  "
      ]
     },
     "execution_count": 12,
     "metadata": {},
     "output_type": "execute_result"
    }
   ],
   "source": [
    "# Ergebnisse der Optimierung in DataFrame abspeichern\n",
    "insample_max_port_SharpeRatio = pd.DataFrame([round(x,2) for x in function_result['x']], index=tickers).T\n",
    "insample_max_port_SharpeRatio['Function Result'] = -function_result['fun'] #hier Vorzeichen wieder umkehren!\n",
    "insample_max_port_SharpeRatio"
   ]
  },
  {
   "cell_type": "markdown",
   "id": "b4896728",
   "metadata": {},
   "source": [
    "**1.4 Vergleich der Gewichtungen der drei Strategien**"
   ]
  },
  {
   "cell_type": "code",
   "execution_count": 13,
   "id": "d9195c8e",
   "metadata": {
    "scrolled": true
   },
   "outputs": [
    {
     "data": {
      "text/html": [
       "<div>\n",
       "<style scoped>\n",
       "    .dataframe tbody tr th:only-of-type {\n",
       "        vertical-align: middle;\n",
       "    }\n",
       "\n",
       "    .dataframe tbody tr th {\n",
       "        vertical-align: top;\n",
       "    }\n",
       "\n",
       "    .dataframe thead th {\n",
       "        text-align: right;\n",
       "    }\n",
       "</style>\n",
       "<table border=\"1\" class=\"dataframe\">\n",
       "  <thead>\n",
       "    <tr style=\"text-align: right;\">\n",
       "      <th></th>\n",
       "      <th>AIR</th>\n",
       "      <th>COST</th>\n",
       "      <th>DTE</th>\n",
       "      <th>FDX</th>\n",
       "      <th>INTC</th>\n",
       "      <th>MO</th>\n",
       "      <th>MSFT</th>\n",
       "      <th>NKE</th>\n",
       "      <th>ORCL</th>\n",
       "      <th>PCRFY</th>\n",
       "      <th>SAP</th>\n",
       "      <th>SONY</th>\n",
       "      <th>VOD</th>\n",
       "      <th>VZ</th>\n",
       "      <th>WM</th>\n",
       "      <th>Function Result</th>\n",
       "    </tr>\n",
       "  </thead>\n",
       "  <tbody>\n",
       "    <tr>\n",
       "      <th>Min Variance</th>\n",
       "      <td>0.06</td>\n",
       "      <td>0.01</td>\n",
       "      <td>0.39</td>\n",
       "      <td>0.05</td>\n",
       "      <td>0.0</td>\n",
       "      <td>0.07</td>\n",
       "      <td>0.04</td>\n",
       "      <td>0.06</td>\n",
       "      <td>0.0</td>\n",
       "      <td>0.14</td>\n",
       "      <td>0.00</td>\n",
       "      <td>0.02</td>\n",
       "      <td>0.03</td>\n",
       "      <td>0.09</td>\n",
       "      <td>0.05</td>\n",
       "      <td>0.154560</td>\n",
       "    </tr>\n",
       "    <tr>\n",
       "      <th>Min VaR</th>\n",
       "      <td>0.00</td>\n",
       "      <td>0.09</td>\n",
       "      <td>0.44</td>\n",
       "      <td>0.09</td>\n",
       "      <td>0.0</td>\n",
       "      <td>0.07</td>\n",
       "      <td>0.12</td>\n",
       "      <td>0.00</td>\n",
       "      <td>0.0</td>\n",
       "      <td>0.00</td>\n",
       "      <td>0.01</td>\n",
       "      <td>0.01</td>\n",
       "      <td>0.10</td>\n",
       "      <td>0.08</td>\n",
       "      <td>0.00</td>\n",
       "      <td>0.138704</td>\n",
       "    </tr>\n",
       "    <tr>\n",
       "      <th>Max Sharpe Ratio</th>\n",
       "      <td>0.00</td>\n",
       "      <td>0.15</td>\n",
       "      <td>0.38</td>\n",
       "      <td>0.10</td>\n",
       "      <td>0.0</td>\n",
       "      <td>0.03</td>\n",
       "      <td>0.16</td>\n",
       "      <td>0.00</td>\n",
       "      <td>0.0</td>\n",
       "      <td>0.00</td>\n",
       "      <td>0.01</td>\n",
       "      <td>0.00</td>\n",
       "      <td>0.14</td>\n",
       "      <td>0.03</td>\n",
       "      <td>0.00</td>\n",
       "      <td>0.894156</td>\n",
       "    </tr>\n",
       "  </tbody>\n",
       "</table>\n",
       "</div>"
      ],
      "text/plain": [
       "                   AIR  COST   DTE   FDX  INTC    MO  MSFT   NKE  ORCL  PCRFY  \\\n",
       "Min Variance      0.06  0.01  0.39  0.05   0.0  0.07  0.04  0.06   0.0   0.14   \n",
       "Min VaR           0.00  0.09  0.44  0.09   0.0  0.07  0.12  0.00   0.0   0.00   \n",
       "Max Sharpe Ratio  0.00  0.15  0.38  0.10   0.0  0.03  0.16  0.00   0.0   0.00   \n",
       "\n",
       "                   SAP  SONY   VOD    VZ    WM  Function Result  \n",
       "Min Variance      0.00  0.02  0.03  0.09  0.05         0.154560  \n",
       "Min VaR           0.01  0.01  0.10  0.08  0.00         0.138704  \n",
       "Max Sharpe Ratio  0.01  0.00  0.14  0.03  0.00         0.894156  "
      ]
     },
     "execution_count": 13,
     "metadata": {},
     "output_type": "execute_result"
    }
   ],
   "source": [
    "# Zusammenfassung der Portfolios in einem DataFrame\n",
    "insample_portfolios = pd.concat([insample_min_port_variance, insample_min_port_VaR, insample_max_port_SharpeRatio], axis=0)\n",
    "insample_portfolios.index = ['Min Variance', 'Min VaR', 'Max Sharpe Ratio']\n",
    "insample_portfolios"
   ]
  },
  {
   "cell_type": "code",
   "execution_count": 14,
   "id": "9379b4d1",
   "metadata": {
    "scrolled": true
   },
   "outputs": [],
   "source": [
    "# Dataframe nur mit Gewichtungen der Aktien\n",
    "insample_weights = insample_portfolios.drop(['Function Result'], axis=1)"
   ]
  },
  {
   "cell_type": "code",
   "execution_count": 15,
   "id": "753bca4c",
   "metadata": {
    "scrolled": false
   },
   "outputs": [
    {
     "data": {
      "image/png": "[encoded data removed]",
      "text/plain": [
       "<Figure size 1080x504 with 1 Axes>"
      ]
     },
     "metadata": {
      "needs_background": "light"
     },
     "output_type": "display_data"
    }
   ],
   "source": [
    "# 1997-2001\n",
    "plt.figure(figsize=(15,7))\n",
    "plt.plot(insample_weights.iloc[0].T, label='Min Variance')\n",
    "plt.plot(insample_weights.iloc[1].T, label='Value at Risk')\n",
    "plt.plot(insample_weights.iloc[2].T, label='Sharpe Ratio')\n",
    "plt.xlabel('asset')\n",
    "plt.ylabel('weight')\n",
    "plt.legend();"
   ]
  },
  {
   "cell_type": "markdown",
   "id": "92ea91a9",
   "metadata": {},
   "source": [
    "Beschreibung der Gewichtungen; Unterschiede & Ähnlichkeiten; ZF-Werte...\n",
    "\n",
    "Min VaR und Max Sharpe Ratio ähnliche Gewichtungen"
   ]
  },
  {
   "cell_type": "markdown",
   "id": "25939d1c",
   "metadata": {},
   "source": [
    "# 2. Buy-and-Hold Strategien (2002-2021)"
   ]
  },
  {
   "cell_type": "markdown",
   "id": "32f02565",
   "metadata": {},
   "source": [
    "Aufgabenstellung: Implementieren Sie Buy-and-Hold Strategien für Ihre drei Portfolios von 2002-2021 \n",
    "auf Grundlage der errechneten Gewichte Ihrer 15 Aktien. "
   ]
  },
  {
   "cell_type": "code",
   "execution_count": 16,
   "id": "914359b3",
   "metadata": {},
   "outputs": [
    {
     "data": {
      "text/html": [
       "<div>\n",
       "<style scoped>\n",
       "    .dataframe tbody tr th:only-of-type {\n",
       "        vertical-align: middle;\n",
       "    }\n",
       "\n",
       "    .dataframe tbody tr th {\n",
       "        vertical-align: top;\n",
       "    }\n",
       "\n",
       "    .dataframe thead th {\n",
       "        text-align: right;\n",
       "    }\n",
       "</style>\n",
       "<table border=\"1\" class=\"dataframe\">\n",
       "  <thead>\n",
       "    <tr style=\"text-align: right;\">\n",
       "      <th></th>\n",
       "      <th>AIR</th>\n",
       "      <th>COST</th>\n",
       "      <th>DTE</th>\n",
       "      <th>FDX</th>\n",
       "      <th>INTC</th>\n",
       "      <th>MO</th>\n",
       "      <th>MSFT</th>\n",
       "      <th>NKE</th>\n",
       "      <th>ORCL</th>\n",
       "      <th>PCRFY</th>\n",
       "      <th>SAP</th>\n",
       "      <th>SONY</th>\n",
       "      <th>VOD</th>\n",
       "      <th>VZ</th>\n",
       "      <th>WM</th>\n",
       "    </tr>\n",
       "    <tr>\n",
       "      <th>Date</th>\n",
       "      <th></th>\n",
       "      <th></th>\n",
       "      <th></th>\n",
       "      <th></th>\n",
       "      <th></th>\n",
       "      <th></th>\n",
       "      <th></th>\n",
       "      <th></th>\n",
       "      <th></th>\n",
       "      <th></th>\n",
       "      <th></th>\n",
       "      <th></th>\n",
       "      <th></th>\n",
       "      <th></th>\n",
       "      <th></th>\n",
       "    </tr>\n",
       "  </thead>\n",
       "  <tbody>\n",
       "    <tr>\n",
       "      <th>2002-01-02</th>\n",
       "      <td>0.020869</td>\n",
       "      <td>0.001576</td>\n",
       "      <td>0.010200</td>\n",
       "      <td>-0.019071</td>\n",
       "      <td>0.048109</td>\n",
       "      <td>0.017083</td>\n",
       "      <td>0.011854</td>\n",
       "      <td>0.012018</td>\n",
       "      <td>0.012235</td>\n",
       "      <td>0.007905</td>\n",
       "      <td>0.014921</td>\n",
       "      <td>0.018672</td>\n",
       "      <td>0.009688</td>\n",
       "      <td>0.021470</td>\n",
       "      <td>-0.023463</td>\n",
       "    </tr>\n",
       "    <tr>\n",
       "      <th>2002-01-03</th>\n",
       "      <td>0.048790</td>\n",
       "      <td>0.008736</td>\n",
       "      <td>-0.005443</td>\n",
       "      <td>0.026751</td>\n",
       "      <td>0.073588</td>\n",
       "      <td>-0.001073</td>\n",
       "      <td>0.032145</td>\n",
       "      <td>-0.007406</td>\n",
       "      <td>0.089571</td>\n",
       "      <td>0.017948</td>\n",
       "      <td>0.041106</td>\n",
       "      <td>0.027899</td>\n",
       "      <td>0.028889</td>\n",
       "      <td>0.032663</td>\n",
       "      <td>-0.018456</td>\n",
       "    </tr>\n",
       "    <tr>\n",
       "      <th>2002-01-04</th>\n",
       "      <td>0.018463</td>\n",
       "      <td>-0.001115</td>\n",
       "      <td>-0.008340</td>\n",
       "      <td>0.033851</td>\n",
       "      <td>0.007573</td>\n",
       "      <td>-0.010789</td>\n",
       "      <td>-0.004778</td>\n",
       "      <td>0.008811</td>\n",
       "      <td>0.010410</td>\n",
       "      <td>0.043139</td>\n",
       "      <td>0.040052</td>\n",
       "      <td>0.047933</td>\n",
       "      <td>-0.002626</td>\n",
       "      <td>0.010128</td>\n",
       "      <td>0.006839</td>\n",
       "    </tr>\n",
       "    <tr>\n",
       "      <th>2002-01-07</th>\n",
       "      <td>-0.014330</td>\n",
       "      <td>-0.015072</td>\n",
       "      <td>-0.007446</td>\n",
       "      <td>0.021766</td>\n",
       "      <td>-0.014636</td>\n",
       "      <td>0.010576</td>\n",
       "      <td>-0.004947</td>\n",
       "      <td>0.003328</td>\n",
       "      <td>0.002585</td>\n",
       "      <td>-0.003710</td>\n",
       "      <td>-0.030621</td>\n",
       "      <td>-0.005259</td>\n",
       "      <td>-0.031288</td>\n",
       "      <td>-0.006144</td>\n",
       "      <td>-0.000650</td>\n",
       "    </tr>\n",
       "    <tr>\n",
       "      <th>2002-01-08</th>\n",
       "      <td>0.015346</td>\n",
       "      <td>0.006777</td>\n",
       "      <td>-0.019229</td>\n",
       "      <td>-0.005079</td>\n",
       "      <td>0.008751</td>\n",
       "      <td>0.015127</td>\n",
       "      <td>0.011890</td>\n",
       "      <td>0.002794</td>\n",
       "      <td>0.016646</td>\n",
       "      <td>-0.018005</td>\n",
       "      <td>-0.025852</td>\n",
       "      <td>-0.030683</td>\n",
       "      <td>-0.013659</td>\n",
       "      <td>-0.002306</td>\n",
       "      <td>-0.000325</td>\n",
       "    </tr>\n",
       "    <tr>\n",
       "      <th>...</th>\n",
       "      <td>...</td>\n",
       "      <td>...</td>\n",
       "      <td>...</td>\n",
       "      <td>...</td>\n",
       "      <td>...</td>\n",
       "      <td>...</td>\n",
       "      <td>...</td>\n",
       "      <td>...</td>\n",
       "      <td>...</td>\n",
       "      <td>...</td>\n",
       "      <td>...</td>\n",
       "      <td>...</td>\n",
       "      <td>...</td>\n",
       "      <td>...</td>\n",
       "      <td>...</td>\n",
       "    </tr>\n",
       "    <tr>\n",
       "      <th>2021-12-23</th>\n",
       "      <td>0.011757</td>\n",
       "      <td>0.001273</td>\n",
       "      <td>0.001028</td>\n",
       "      <td>0.015324</td>\n",
       "      <td>0.006648</td>\n",
       "      <td>-0.003847</td>\n",
       "      <td>0.004462</td>\n",
       "      <td>0.001389</td>\n",
       "      <td>-0.001559</td>\n",
       "      <td>0.008246</td>\n",
       "      <td>0.004866</td>\n",
       "      <td>0.006155</td>\n",
       "      <td>0.003291</td>\n",
       "      <td>-0.001707</td>\n",
       "      <td>0.007935</td>\n",
       "    </tr>\n",
       "    <tr>\n",
       "      <th>2021-12-27</th>\n",
       "      <td>0.005181</td>\n",
       "      <td>0.023523</td>\n",
       "      <td>0.008778</td>\n",
       "      <td>0.009528</td>\n",
       "      <td>0.012203</td>\n",
       "      <td>0.001925</td>\n",
       "      <td>0.022921</td>\n",
       "      <td>0.011463</td>\n",
       "      <td>-0.002008</td>\n",
       "      <td>-0.009166</td>\n",
       "      <td>0.008601</td>\n",
       "      <td>0.026687</td>\n",
       "      <td>-0.003950</td>\n",
       "      <td>0.000000</td>\n",
       "      <td>0.011359</td>\n",
       "    </tr>\n",
       "    <tr>\n",
       "      <th>2021-12-28</th>\n",
       "      <td>0.007466</td>\n",
       "      <td>0.002074</td>\n",
       "      <td>0.007439</td>\n",
       "      <td>0.000741</td>\n",
       "      <td>-0.003472</td>\n",
       "      <td>0.012531</td>\n",
       "      <td>-0.003510</td>\n",
       "      <td>-0.006946</td>\n",
       "      <td>-0.009989</td>\n",
       "      <td>0.008253</td>\n",
       "      <td>0.001556</td>\n",
       "      <td>0.002120</td>\n",
       "      <td>0.006575</td>\n",
       "      <td>0.000759</td>\n",
       "      <td>0.008209</td>\n",
       "    </tr>\n",
       "    <tr>\n",
       "      <th>2021-12-29</th>\n",
       "      <td>0.002306</td>\n",
       "      <td>0.005528</td>\n",
       "      <td>0.005460</td>\n",
       "      <td>0.004086</td>\n",
       "      <td>0.001351</td>\n",
       "      <td>0.000422</td>\n",
       "      <td>0.002049</td>\n",
       "      <td>0.014081</td>\n",
       "      <td>-0.004976</td>\n",
       "      <td>-0.000914</td>\n",
       "      <td>-0.010442</td>\n",
       "      <td>-0.006216</td>\n",
       "      <td>0.001964</td>\n",
       "      <td>-0.006852</td>\n",
       "      <td>0.007481</td>\n",
       "    </tr>\n",
       "    <tr>\n",
       "      <th>2021-12-30</th>\n",
       "      <td>-0.013655</td>\n",
       "      <td>-0.006822</td>\n",
       "      <td>-0.000503</td>\n",
       "      <td>0.004147</td>\n",
       "      <td>-0.001738</td>\n",
       "      <td>-0.003170</td>\n",
       "      <td>-0.007721</td>\n",
       "      <td>-0.007672</td>\n",
       "      <td>-0.002270</td>\n",
       "      <td>0.005470</td>\n",
       "      <td>0.002567</td>\n",
       "      <td>-0.006096</td>\n",
       "      <td>-0.009199</td>\n",
       "      <td>-0.002103</td>\n",
       "      <td>-0.003914</td>\n",
       "    </tr>\n",
       "  </tbody>\n",
       "</table>\n",
       "<p>5035 rows × 15 columns</p>\n",
       "</div>"
      ],
      "text/plain": [
       "                 AIR      COST       DTE       FDX      INTC        MO  \\\n",
       "Date                                                                     \n",
       "2002-01-02  0.020869  0.001576  0.010200 -0.019071  0.048109  0.017083   \n",
       "2002-01-03  0.048790  0.008736 -0.005443  0.026751  0.073588 -0.001073   \n",
       "2002-01-04  0.018463 -0.001115 -0.008340  0.033851  0.007573 -0.010789   \n",
       "2002-01-07 -0.014330 -0.015072 -0.007446  0.021766 -0.014636  0.010576   \n",
       "2002-01-08  0.015346  0.006777 -0.019229 -0.005079  0.008751  0.015127   \n",
       "...              ...       ...       ...       ...       ...       ...   \n",
       "2021-12-23  0.011757  0.001273  0.001028  0.015324  0.006648 -0.003847   \n",
       "2021-12-27  0.005181  0.023523  0.008778  0.009528  0.012203  0.001925   \n",
       "2021-12-28  0.007466  0.002074  0.007439  0.000741 -0.003472  0.012531   \n",
       "2021-12-29  0.002306  0.005528  0.005460  0.004086  0.001351  0.000422   \n",
       "2021-12-30 -0.013655 -0.006822 -0.000503  0.004147 -0.001738 -0.003170   \n",
       "\n",
       "                MSFT       NKE      ORCL     PCRFY       SAP      SONY  \\\n",
       "Date                                                                     \n",
       "2002-01-02  0.011854  0.012018  0.012235  0.007905  0.014921  0.018672   \n",
       "2002-01-03  0.032145 -0.007406  0.089571  0.017948  0.041106  0.027899   \n",
       "2002-01-04 -0.004778  0.008811  0.010410  0.043139  0.040052  0.047933   \n",
       "2002-01-07 -0.004947  0.003328  0.002585 -0.003710 -0.030621 -0.005259   \n",
       "2002-01-08  0.011890  0.002794  0.016646 -0.018005 -0.025852 -0.030683   \n",
       "...              ...       ...       ...       ...       ...       ...   \n",
       "2021-12-23  0.004462  0.001389 -0.001559  0.008246  0.004866  0.006155   \n",
       "2021-12-27  0.022921  0.011463 -0.002008 -0.009166  0.008601  0.026687   \n",
       "2021-12-28 -0.003510 -0.006946 -0.009989  0.008253  0.001556  0.002120   \n",
       "2021-12-29  0.002049  0.014081 -0.004976 -0.000914 -0.010442 -0.006216   \n",
       "2021-12-30 -0.007721 -0.007672 -0.002270  0.005470  0.002567 -0.006096   \n",
       "\n",
       "                 VOD        VZ        WM  \n",
       "Date                                      \n",
       "2002-01-02  0.009688  0.021470 -0.023463  \n",
       "2002-01-03  0.028889  0.032663 -0.018456  \n",
       "2002-01-04 -0.002626  0.010128  0.006839  \n",
       "2002-01-07 -0.031288 -0.006144 -0.000650  \n",
       "2002-01-08 -0.013659 -0.002306 -0.000325  \n",
       "...              ...       ...       ...  \n",
       "2021-12-23  0.003291 -0.001707  0.007935  \n",
       "2021-12-27 -0.003950  0.000000  0.011359  \n",
       "2021-12-28  0.006575  0.000759  0.008209  \n",
       "2021-12-29  0.001964 -0.006852  0.007481  \n",
       "2021-12-30 -0.009199 -0.002103 -0.003914  \n",
       "\n",
       "[5035 rows x 15 columns]"
      ]
     },
     "execution_count": 16,
     "metadata": {},
     "output_type": "execute_result"
    }
   ],
   "source": [
    "# DataFrame auf den Zeitraum des Testdatensatzes von 2002/01/01 - 2021/12/31 begrenzen\n",
    "outsample = returns.loc['2002-01-01':'2021-12-31']\n",
    "outsample"
   ]
  },
  {
   "cell_type": "markdown",
   "id": "e1835e1e",
   "metadata": {},
   "source": [
    "BaH-Strategie entwickeln..."
   ]
  },
  {
   "cell_type": "code",
   "execution_count": 17,
   "id": "1f72fb86",
   "metadata": {},
   "outputs": [
    {
     "data": {
      "text/html": [
       "<div>\n",
       "<style scoped>\n",
       "    .dataframe tbody tr th:only-of-type {\n",
       "        vertical-align: middle;\n",
       "    }\n",
       "\n",
       "    .dataframe tbody tr th {\n",
       "        vertical-align: top;\n",
       "    }\n",
       "\n",
       "    .dataframe thead th {\n",
       "        text-align: right;\n",
       "    }\n",
       "</style>\n",
       "<table border=\"1\" class=\"dataframe\">\n",
       "  <thead>\n",
       "    <tr style=\"text-align: right;\">\n",
       "      <th></th>\n",
       "      <th>Min Variance</th>\n",
       "      <th>Min VaR</th>\n",
       "      <th>Max Sharpe Ratio</th>\n",
       "    </tr>\n",
       "  </thead>\n",
       "  <tbody>\n",
       "    <tr>\n",
       "      <th>Returns</th>\n",
       "      <td>1.7405</td>\n",
       "      <td>1.98409</td>\n",
       "      <td>2.004041</td>\n",
       "    </tr>\n",
       "  </tbody>\n",
       "</table>\n",
       "</div>"
      ],
      "text/plain": [
       "        Min Variance  Min VaR Max Sharpe Ratio\n",
       "Returns       1.7405  1.98409         2.004041"
      ]
     },
     "execution_count": 17,
     "metadata": {},
     "output_type": "execute_result"
    }
   ],
   "source": [
    "# Kumulierte Summen berechnen\n",
    "outsample_cumulated = outsample.cumsum() #Additivität\n",
    "\n",
    "# Returns der Strategien berechnen\n",
    "BaH_returns = pd.DataFrame(columns = ['Min Variance', 'Min VaR', 'Max Sharpe Ratio'], index=['Returns'])\n",
    "BaH_returns.loc['Returns'] = [np.sum(outsample_cumulated.iloc[-1] * insample_weights.iloc[i]) for i in range(len(insample_weights))]\n",
    "BaH_returns"
   ]
  },
  {
   "cell_type": "code",
   "execution_count": 18,
   "id": "ece7afdc",
   "metadata": {},
   "outputs": [],
   "source": [
    "# BaH-Strategie mit minimum Variance Portfolio\n",
    "BaH_min_variance = insample_weights.iloc[0]*outsample_cumulated #Array mit Gewichtungen * kumuliertem Outsample Datensatz\n",
    "BaH_min_variance['Return'] = np.sum(BaH_min_variance, axis=1)\n",
    "\n",
    "# BaH-Strategie mit minimun VaR Portfolio\n",
    "BaH_min_VaR = insample_weights.iloc[1]*outsample_cumulated\n",
    "BaH_min_VaR['Return'] = np.sum(BaH_min_VaR, axis=1)\n",
    "\n",
    "# BaH-Strategie mit maximum Sharpe Ratio Portfolio\n",
    "BaH_max_SharpeRatio = insample_weights.iloc[2]*outsample_cumulated\n",
    "BaH_max_SharpeRatio['Return'] = np.sum(BaH_max_SharpeRatio, axis=1)"
   ]
  },
  {
   "cell_type": "code",
   "execution_count": 19,
   "id": "aa6e7edb",
   "metadata": {},
   "outputs": [],
   "source": [
    "#BaH_min_variance\n",
    "#BaH_min_VaR\n",
    "#BaH_max_SharpeRatio"
   ]
  },
  {
   "cell_type": "markdown",
   "id": "2d9205c9",
   "metadata": {},
   "source": [
    "# 3. Diskussion der Portfolio-Performances "
   ]
  },
  {
   "cell_type": "markdown",
   "id": "53712806",
   "metadata": {},
   "source": [
    "Aufgabenstellung: Diskutieren Sie die Performance Ihrer drei Portfolios."
   ]
  },
  {
   "cell_type": "code",
   "execution_count": 20,
   "id": "197712b6",
   "metadata": {},
   "outputs": [
    {
     "data": {
      "text/html": [
       "<div>\n",
       "<style scoped>\n",
       "    .dataframe tbody tr th:only-of-type {\n",
       "        vertical-align: middle;\n",
       "    }\n",
       "\n",
       "    .dataframe tbody tr th {\n",
       "        vertical-align: top;\n",
       "    }\n",
       "\n",
       "    .dataframe thead th {\n",
       "        text-align: right;\n",
       "    }\n",
       "</style>\n",
       "<table border=\"1\" class=\"dataframe\">\n",
       "  <thead>\n",
       "    <tr style=\"text-align: right;\">\n",
       "      <th></th>\n",
       "      <th>AIR</th>\n",
       "      <th>COST</th>\n",
       "      <th>DTE</th>\n",
       "      <th>FDX</th>\n",
       "      <th>INTC</th>\n",
       "      <th>MO</th>\n",
       "      <th>MSFT</th>\n",
       "      <th>NKE</th>\n",
       "      <th>ORCL</th>\n",
       "      <th>PCRFY</th>\n",
       "      <th>SAP</th>\n",
       "      <th>SONY</th>\n",
       "      <th>VOD</th>\n",
       "      <th>VZ</th>\n",
       "      <th>WM</th>\n",
       "      <th>Return</th>\n",
       "    </tr>\n",
       "  </thead>\n",
       "  <tbody>\n",
       "    <tr>\n",
       "      <th>Min Variance</th>\n",
       "      <td>0.093778</td>\n",
       "      <td>0.028977</td>\n",
       "      <td>0.801589</td>\n",
       "      <td>0.087166</td>\n",
       "      <td>0.0</td>\n",
       "      <td>0.181124</td>\n",
       "      <td>0.111464</td>\n",
       "      <td>0.203519</td>\n",
       "      <td>0.0</td>\n",
       "      <td>-0.00695</td>\n",
       "      <td>0.000000</td>\n",
       "      <td>0.021282</td>\n",
       "      <td>0.008383</td>\n",
       "      <td>0.101746</td>\n",
       "      <td>0.108421</td>\n",
       "      <td>1.740500</td>\n",
       "    </tr>\n",
       "    <tr>\n",
       "      <th>Min VaR</th>\n",
       "      <td>0.000000</td>\n",
       "      <td>0.260796</td>\n",
       "      <td>0.904357</td>\n",
       "      <td>0.156899</td>\n",
       "      <td>0.0</td>\n",
       "      <td>0.181124</td>\n",
       "      <td>0.334391</td>\n",
       "      <td>0.000000</td>\n",
       "      <td>0.0</td>\n",
       "      <td>-0.00000</td>\n",
       "      <td>0.017497</td>\n",
       "      <td>0.010641</td>\n",
       "      <td>0.027944</td>\n",
       "      <td>0.090441</td>\n",
       "      <td>0.000000</td>\n",
       "      <td>1.984090</td>\n",
       "    </tr>\n",
       "    <tr>\n",
       "      <th>Max Sharpe Ratio</th>\n",
       "      <td>0.000000</td>\n",
       "      <td>0.434659</td>\n",
       "      <td>0.781035</td>\n",
       "      <td>0.174332</td>\n",
       "      <td>0.0</td>\n",
       "      <td>0.077625</td>\n",
       "      <td>0.445855</td>\n",
       "      <td>0.000000</td>\n",
       "      <td>0.0</td>\n",
       "      <td>-0.00000</td>\n",
       "      <td>0.017497</td>\n",
       "      <td>0.000000</td>\n",
       "      <td>0.039122</td>\n",
       "      <td>0.033915</td>\n",
       "      <td>0.000000</td>\n",
       "      <td>2.004041</td>\n",
       "    </tr>\n",
       "  </tbody>\n",
       "</table>\n",
       "</div>"
      ],
      "text/plain": [
       "                       AIR      COST       DTE       FDX  INTC        MO  \\\n",
       "Min Variance      0.093778  0.028977  0.801589  0.087166   0.0  0.181124   \n",
       "Min VaR           0.000000  0.260796  0.904357  0.156899   0.0  0.181124   \n",
       "Max Sharpe Ratio  0.000000  0.434659  0.781035  0.174332   0.0  0.077625   \n",
       "\n",
       "                      MSFT       NKE  ORCL    PCRFY       SAP      SONY  \\\n",
       "Min Variance      0.111464  0.203519   0.0 -0.00695  0.000000  0.021282   \n",
       "Min VaR           0.334391  0.000000   0.0 -0.00000  0.017497  0.010641   \n",
       "Max Sharpe Ratio  0.445855  0.000000   0.0 -0.00000  0.017497  0.000000   \n",
       "\n",
       "                       VOD        VZ        WM    Return  \n",
       "Min Variance      0.008383  0.101746  0.108421  1.740500  \n",
       "Min VaR           0.027944  0.090441  0.000000  1.984090  \n",
       "Max Sharpe Ratio  0.039122  0.033915  0.000000  2.004041  "
      ]
     },
     "execution_count": 20,
     "metadata": {},
     "output_type": "execute_result"
    }
   ],
   "source": [
    "# Renditen der Strategien am 2021/12/31\n",
    "BaH = pd.concat(x.iloc[-1:] for x in [BaH_min_variance, BaH_min_VaR, BaH_max_SharpeRatio])\n",
    "BaH.index = ['Min Variance', 'Min VaR', 'Max Sharpe Ratio']\n",
    "BaH #für jedes Portfolio Var, VaR, Sharpe Ratio"
   ]
  },
  {
   "cell_type": "code",
   "execution_count": 21,
   "id": "95734d9d",
   "metadata": {
    "scrolled": false
   },
   "outputs": [
    {
     "data": {
      "image/png": "[encoded data removed]",
      "text/plain": [
       "<Figure size 1080x504 with 1 Axes>"
      ]
     },
     "metadata": {
      "needs_background": "light"
     },
     "output_type": "display_data"
    }
   ],
   "source": [
    "# Plot\n",
    "plt.figure(figsize=(15,7))\n",
    "plt.plot(BaH_min_variance['Return'], label = 'Min Varianz Portfolio')\n",
    "plt.plot(BaH_min_VaR['Return'], label = 'Min Value at Risk Portfolio')\n",
    "plt.plot(BaH_max_SharpeRatio['Return'], label = 'Max Sharpe Ratio Portfolio')\n",
    "plt.xlabel('year')\n",
    "plt.ylabel('returns')\n",
    "plt.grid()\n",
    "plt.legend();"
   ]
  },
  {
   "cell_type": "markdown",
   "id": "fd919402",
   "metadata": {},
   "source": [
    "**Diskussion:**\n",
    "- Beste Strategie\n",
    "- langfrisitger Trend\n",
    "- Finanzkrise 2008 und Corona Krise 2020 erkennbar\n",
    "- welche Strategie am besten in Krisen?\n",
    "- Vergleich zur Benchmark\n",
    "\n",
    "- Min Variance in Krisenzeiten stärker (Risikominimierung!), aber in den Wachstumsphasen Min VaR und Max Sharpe Ratio besser"
   ]
  },
  {
   "cell_type": "code",
   "execution_count": null,
   "id": "1f544f44",
   "metadata": {},
   "outputs": [],
   "source": []
  },
  {
   "cell_type": "markdown",
   "id": "fe52b596",
   "metadata": {},
   "source": [
    "# 4. Vergleich der Strategien mit einem gleichgewichteten Portfolio und Grafische Darstellung der Strategien (2002-2021)"
   ]
  },
  {
   "cell_type": "markdown",
   "id": "04e2ee72",
   "metadata": {},
   "source": [
    "Aufgabenstellung: Erstellen Sie eine Grafik für den Zeitraum 2002-2021, welche den Kursverlauf Ihrer \n",
    "drei Portfoliostrategien einem gleichgewichteten Portfolio aus den 15 Aktien als \n",
    "Benchmark gegenüberstellt."
   ]
  },
  {
   "cell_type": "code",
   "execution_count": 22,
   "id": "77b84a2b",
   "metadata": {},
   "outputs": [
    {
     "data": {
      "text/plain": [
       "1.7580618158756727"
      ]
     },
     "execution_count": 22,
     "metadata": {},
     "output_type": "execute_result"
    }
   ],
   "source": [
    "# Erstellen der BaH-Strategie mit einem gleichgewichteten Portfolio\n",
    "BaH_eq_weights = (1/len(tickers)) * outsample_cumulated\n",
    "BaH_eq_weights['Return'] = np.sum(BaH_eq_weights, axis=1)\n",
    "\n",
    "# Return des gleichgewichteten Portfolios\n",
    "BaH_eq_weights.iloc[-1,-1] #Wert in letzter Zeile und letzter Spalte"
   ]
  },
  {
   "cell_type": "code",
   "execution_count": 23,
   "id": "54dc0aec",
   "metadata": {
    "scrolled": true
   },
   "outputs": [
    {
     "data": {
      "image/png": "[encoded data removed]",
      "text/plain": [
       "<Figure size 1080x504 with 1 Axes>"
      ]
     },
     "metadata": {
      "needs_background": "light"
     },
     "output_type": "display_data"
    }
   ],
   "source": [
    "plt.figure(figsize=(15,7))\n",
    "plt.plot(BaH_min_variance['Return'], label = 'Min Varianz Portfolio')\n",
    "plt.plot(BaH_min_VaR['Return'], label = 'Min Value at Risk Portfolio')\n",
    "plt.plot(BaH_max_SharpeRatio['Return'], label = 'Max Sharpe Ratio Portfolio')\n",
    "plt.plot(BaH_eq_weights['Return'], label = 'Gleichgewichtetes Portfolio')\n",
    "plt.xlabel('year')\n",
    "plt.ylabel('returns')\n",
    "plt.grid()\n",
    "plt.legend();"
   ]
  },
  {
   "cell_type": "markdown",
   "id": "04247042",
   "metadata": {},
   "source": [
    "**Diskussion:**\n",
    "- Strategien oder Benchmark besser?\n",
    "- langfrisitger Trend\n",
    "- Finanzkrise 2008 und Corona Krise 2020"
   ]
  },
  {
   "cell_type": "code",
   "execution_count": null,
   "id": "a193af68",
   "metadata": {},
   "outputs": [],
   "source": []
  },
  {
   "cell_type": "markdown",
   "id": "3a02a3cb",
   "metadata": {},
   "source": [
    "# 5. Portfolios mit min. Varianz, min. VaR und max. Sharpe Ratio (2017-2021)"
   ]
  },
  {
   "cell_type": "markdown",
   "id": "20a9853f",
   "metadata": {},
   "source": [
    "Aufgabenstellung: Berechnen Sie die Portfolios mit der minimalen Varianz, dem minimalen VaR und der \n",
    "maximalen Sharpe Ratio nun für den Zeitraum von 2017-2021 und vergleichen Sie die \n",
    "Portfoliogewichte mit den Ihren."
   ]
  },
  {
   "cell_type": "code",
   "execution_count": 24,
   "id": "5084c325",
   "metadata": {},
   "outputs": [],
   "source": [
    "# Testdatensatz auf den gekürzten Zeitraum von 2017/01/01 - 2021/12/31 begrenzen\n",
    "outsample_shorted = outsample.loc['2017-01-01':'2021-12-31']\n",
    "#outsample_shorted"
   ]
  },
  {
   "cell_type": "code",
   "execution_count": 25,
   "id": "61c5b664",
   "metadata": {},
   "outputs": [],
   "source": [
    "# Berechnung der Varianz-Covarianz-Matrix und mitteleren Renditen; alpha-Quantil, Zeithorizont und risikoloser Zins wie vorher (siehe 1.2 & 1.3)\n",
    "outsample_shorted_cov = outsample_shorted.cov()\n",
    "outsample_shorted_mean_returns = outsample_shorted.mean()"
   ]
  },
  {
   "cell_type": "markdown",
   "id": "d7d26928",
   "metadata": {},
   "source": [
    "**5.1 Bestimmung des Portfolios mit minimaler Varianz**"
   ]
  },
  {
   "cell_type": "code",
   "execution_count": 26,
   "id": "1073e0a8",
   "metadata": {},
   "outputs": [],
   "source": [
    "# Ausführen der Funktionen aus Kapitel 1.1\n",
    "function_result = min_variance(outsample_shorted_cov)\n",
    "#function_result"
   ]
  },
  {
   "cell_type": "code",
   "execution_count": 27,
   "id": "d8f27b4d",
   "metadata": {},
   "outputs": [
    {
     "data": {
      "text/html": [
       "<div>\n",
       "<style scoped>\n",
       "    .dataframe tbody tr th:only-of-type {\n",
       "        vertical-align: middle;\n",
       "    }\n",
       "\n",
       "    .dataframe tbody tr th {\n",
       "        vertical-align: top;\n",
       "    }\n",
       "\n",
       "    .dataframe thead th {\n",
       "        text-align: right;\n",
       "    }\n",
       "</style>\n",
       "<table border=\"1\" class=\"dataframe\">\n",
       "  <thead>\n",
       "    <tr style=\"text-align: right;\">\n",
       "      <th></th>\n",
       "      <th>AIR</th>\n",
       "      <th>COST</th>\n",
       "      <th>DTE</th>\n",
       "      <th>FDX</th>\n",
       "      <th>INTC</th>\n",
       "      <th>MO</th>\n",
       "      <th>MSFT</th>\n",
       "      <th>NKE</th>\n",
       "      <th>ORCL</th>\n",
       "      <th>PCRFY</th>\n",
       "      <th>SAP</th>\n",
       "      <th>SONY</th>\n",
       "      <th>VOD</th>\n",
       "      <th>VZ</th>\n",
       "      <th>WM</th>\n",
       "      <th>Function Result</th>\n",
       "    </tr>\n",
       "  </thead>\n",
       "  <tbody>\n",
       "    <tr>\n",
       "      <th>0</th>\n",
       "      <td>0.0</td>\n",
       "      <td>0.2</td>\n",
       "      <td>0.03</td>\n",
       "      <td>0.0</td>\n",
       "      <td>0.0</td>\n",
       "      <td>0.07</td>\n",
       "      <td>0.0</td>\n",
       "      <td>0.0</td>\n",
       "      <td>0.0</td>\n",
       "      <td>0.07</td>\n",
       "      <td>0.05</td>\n",
       "      <td>0.08</td>\n",
       "      <td>0.0</td>\n",
       "      <td>0.38</td>\n",
       "      <td>0.12</td>\n",
       "      <td>0.152739</td>\n",
       "    </tr>\n",
       "  </tbody>\n",
       "</table>\n",
       "</div>"
      ],
      "text/plain": [
       "   AIR  COST   DTE  FDX  INTC    MO  MSFT  NKE  ORCL  PCRFY   SAP  SONY  VOD  \\\n",
       "0  0.0   0.2  0.03  0.0   0.0  0.07   0.0  0.0   0.0   0.07  0.05  0.08  0.0   \n",
       "\n",
       "     VZ    WM  Function Result  \n",
       "0  0.38  0.12         0.152739  "
      ]
     },
     "execution_count": 27,
     "metadata": {},
     "output_type": "execute_result"
    }
   ],
   "source": [
    "# Ergebnisse der Optimierung in DataFrame abspeichern\n",
    "outsample_shorted_min_port_variance = pd.DataFrame([round(x,2) for x in function_result['x']], index=tickers).T\n",
    "outsample_shorted_min_port_variance['Function Result'] = function_result['fun']\n",
    "outsample_shorted_min_port_variance"
   ]
  },
  {
   "cell_type": "markdown",
   "id": "83af8c82",
   "metadata": {},
   "source": [
    "**5.2 Bestimmung des Portfolios mit minimalem Value at Risk (VaR)**"
   ]
  },
  {
   "cell_type": "code",
   "execution_count": 28,
   "id": "7b13c04a",
   "metadata": {},
   "outputs": [],
   "source": [
    "# Ausführen der Funktionen aus Kapitel 1.2\n",
    "function_result = min_VaR(outsample_shorted_mean_returns, outsample_shorted_cov, alpha, days)\n",
    "#function_result"
   ]
  },
  {
   "cell_type": "code",
   "execution_count": 29,
   "id": "af1d7f62",
   "metadata": {},
   "outputs": [
    {
     "data": {
      "text/html": [
       "<div>\n",
       "<style scoped>\n",
       "    .dataframe tbody tr th:only-of-type {\n",
       "        vertical-align: middle;\n",
       "    }\n",
       "\n",
       "    .dataframe tbody tr th {\n",
       "        vertical-align: top;\n",
       "    }\n",
       "\n",
       "    .dataframe thead th {\n",
       "        text-align: right;\n",
       "    }\n",
       "</style>\n",
       "<table border=\"1\" class=\"dataframe\">\n",
       "  <thead>\n",
       "    <tr style=\"text-align: right;\">\n",
       "      <th></th>\n",
       "      <th>AIR</th>\n",
       "      <th>COST</th>\n",
       "      <th>DTE</th>\n",
       "      <th>FDX</th>\n",
       "      <th>INTC</th>\n",
       "      <th>MO</th>\n",
       "      <th>MSFT</th>\n",
       "      <th>NKE</th>\n",
       "      <th>ORCL</th>\n",
       "      <th>PCRFY</th>\n",
       "      <th>SAP</th>\n",
       "      <th>SONY</th>\n",
       "      <th>VOD</th>\n",
       "      <th>VZ</th>\n",
       "      <th>WM</th>\n",
       "      <th>Function Result</th>\n",
       "    </tr>\n",
       "  </thead>\n",
       "  <tbody>\n",
       "    <tr>\n",
       "      <th>0</th>\n",
       "      <td>0.0</td>\n",
       "      <td>0.43</td>\n",
       "      <td>0.0</td>\n",
       "      <td>0.0</td>\n",
       "      <td>0.0</td>\n",
       "      <td>0.0</td>\n",
       "      <td>0.23</td>\n",
       "      <td>0.03</td>\n",
       "      <td>0.0</td>\n",
       "      <td>0.0</td>\n",
       "      <td>0.0</td>\n",
       "      <td>0.2</td>\n",
       "      <td>0.0</td>\n",
       "      <td>0.0</td>\n",
       "      <td>0.11</td>\n",
       "      <td>0.02504</td>\n",
       "    </tr>\n",
       "  </tbody>\n",
       "</table>\n",
       "</div>"
      ],
      "text/plain": [
       "   AIR  COST  DTE  FDX  INTC   MO  MSFT   NKE  ORCL  PCRFY  SAP  SONY  VOD  \\\n",
       "0  0.0  0.43  0.0  0.0   0.0  0.0  0.23  0.03   0.0    0.0  0.0   0.2  0.0   \n",
       "\n",
       "    VZ    WM  Function Result  \n",
       "0  0.0  0.11          0.02504  "
      ]
     },
     "execution_count": 29,
     "metadata": {},
     "output_type": "execute_result"
    }
   ],
   "source": [
    "# Ergebnisse der Optimierung in DataFrame abspeichern\n",
    "outsample_shorted_min_port_VaR = pd.DataFrame([round(x,2) for x in function_result['x']], index=tickers).T\n",
    "outsample_shorted_min_port_VaR['Function Result'] = function_result['fun']\n",
    "outsample_shorted_min_port_VaR"
   ]
  },
  {
   "cell_type": "markdown",
   "id": "db573436",
   "metadata": {},
   "source": [
    "**5.3 Bestimmung des Portfolios mit maximaler Sharpe Ratio (𝜇 - 𝜎 effizientes Portfolio)**"
   ]
  },
  {
   "cell_type": "code",
   "execution_count": 30,
   "id": "0c75eafc",
   "metadata": {},
   "outputs": [],
   "source": [
    "# Ausführen der Funktionen aus Kapitel 1.3\n",
    "function_result = max_sharpe_ratio(outsample_shorted_mean_returns, outsample_shorted_cov, rf)\n",
    "#function_result"
   ]
  },
  {
   "cell_type": "code",
   "execution_count": 31,
   "id": "deef7f30",
   "metadata": {},
   "outputs": [
    {
     "data": {
      "text/html": [
       "<div>\n",
       "<style scoped>\n",
       "    .dataframe tbody tr th:only-of-type {\n",
       "        vertical-align: middle;\n",
       "    }\n",
       "\n",
       "    .dataframe tbody tr th {\n",
       "        vertical-align: top;\n",
       "    }\n",
       "\n",
       "    .dataframe thead th {\n",
       "        text-align: right;\n",
       "    }\n",
       "</style>\n",
       "<table border=\"1\" class=\"dataframe\">\n",
       "  <thead>\n",
       "    <tr style=\"text-align: right;\">\n",
       "      <th></th>\n",
       "      <th>AIR</th>\n",
       "      <th>COST</th>\n",
       "      <th>DTE</th>\n",
       "      <th>FDX</th>\n",
       "      <th>INTC</th>\n",
       "      <th>MO</th>\n",
       "      <th>MSFT</th>\n",
       "      <th>NKE</th>\n",
       "      <th>ORCL</th>\n",
       "      <th>PCRFY</th>\n",
       "      <th>SAP</th>\n",
       "      <th>SONY</th>\n",
       "      <th>VOD</th>\n",
       "      <th>VZ</th>\n",
       "      <th>WM</th>\n",
       "      <th>Function Result</th>\n",
       "    </tr>\n",
       "  </thead>\n",
       "  <tbody>\n",
       "    <tr>\n",
       "      <th>0</th>\n",
       "      <td>0.0</td>\n",
       "      <td>0.43</td>\n",
       "      <td>0.0</td>\n",
       "      <td>0.0</td>\n",
       "      <td>0.0</td>\n",
       "      <td>0.0</td>\n",
       "      <td>0.26</td>\n",
       "      <td>0.03</td>\n",
       "      <td>0.0</td>\n",
       "      <td>0.0</td>\n",
       "      <td>0.0</td>\n",
       "      <td>0.2</td>\n",
       "      <td>0.0</td>\n",
       "      <td>0.0</td>\n",
       "      <td>0.08</td>\n",
       "      <td>1.514472</td>\n",
       "    </tr>\n",
       "  </tbody>\n",
       "</table>\n",
       "</div>"
      ],
      "text/plain": [
       "   AIR  COST  DTE  FDX  INTC   MO  MSFT   NKE  ORCL  PCRFY  SAP  SONY  VOD  \\\n",
       "0  0.0  0.43  0.0  0.0   0.0  0.0  0.26  0.03   0.0    0.0  0.0   0.2  0.0   \n",
       "\n",
       "    VZ    WM  Function Result  \n",
       "0  0.0  0.08         1.514472  "
      ]
     },
     "execution_count": 31,
     "metadata": {},
     "output_type": "execute_result"
    }
   ],
   "source": [
    "# Ergebnisse der Optimierung in DataFrame abspeichern\n",
    "outsample_shorted_max_port_SharpeRatio = pd.DataFrame([round(x,2) for x in function_result['x']], index=tickers).T\n",
    "outsample_shorted_max_port_SharpeRatio['Function Result'] = -function_result['fun']\n",
    "outsample_shorted_max_port_SharpeRatio"
   ]
  },
  {
   "cell_type": "markdown",
   "id": "fdd20bc6",
   "metadata": {},
   "source": [
    "**5.4 Vergleich der Gewichtungen der drei Strategien von 1997-2001 und 2017-2021**"
   ]
  },
  {
   "cell_type": "code",
   "execution_count": 32,
   "id": "5a194870",
   "metadata": {},
   "outputs": [
    {
     "data": {
      "text/html": [
       "<div>\n",
       "<style scoped>\n",
       "    .dataframe tbody tr th:only-of-type {\n",
       "        vertical-align: middle;\n",
       "    }\n",
       "\n",
       "    .dataframe tbody tr th {\n",
       "        vertical-align: top;\n",
       "    }\n",
       "\n",
       "    .dataframe thead th {\n",
       "        text-align: right;\n",
       "    }\n",
       "</style>\n",
       "<table border=\"1\" class=\"dataframe\">\n",
       "  <thead>\n",
       "    <tr style=\"text-align: right;\">\n",
       "      <th></th>\n",
       "      <th>AIR</th>\n",
       "      <th>COST</th>\n",
       "      <th>DTE</th>\n",
       "      <th>FDX</th>\n",
       "      <th>INTC</th>\n",
       "      <th>MO</th>\n",
       "      <th>MSFT</th>\n",
       "      <th>NKE</th>\n",
       "      <th>ORCL</th>\n",
       "      <th>PCRFY</th>\n",
       "      <th>SAP</th>\n",
       "      <th>SONY</th>\n",
       "      <th>VOD</th>\n",
       "      <th>VZ</th>\n",
       "      <th>WM</th>\n",
       "      <th>Function Result</th>\n",
       "    </tr>\n",
       "  </thead>\n",
       "  <tbody>\n",
       "    <tr>\n",
       "      <th>Min Variance</th>\n",
       "      <td>-0.06</td>\n",
       "      <td>0.19</td>\n",
       "      <td>-0.36</td>\n",
       "      <td>-0.05</td>\n",
       "      <td>0.0</td>\n",
       "      <td>0.00</td>\n",
       "      <td>-0.04</td>\n",
       "      <td>-0.06</td>\n",
       "      <td>0.0</td>\n",
       "      <td>-0.07</td>\n",
       "      <td>0.05</td>\n",
       "      <td>0.06</td>\n",
       "      <td>-0.03</td>\n",
       "      <td>0.29</td>\n",
       "      <td>0.07</td>\n",
       "      <td>-0.001821</td>\n",
       "    </tr>\n",
       "    <tr>\n",
       "      <th>Min VaR</th>\n",
       "      <td>0.00</td>\n",
       "      <td>0.34</td>\n",
       "      <td>-0.44</td>\n",
       "      <td>-0.09</td>\n",
       "      <td>0.0</td>\n",
       "      <td>-0.07</td>\n",
       "      <td>0.11</td>\n",
       "      <td>0.03</td>\n",
       "      <td>0.0</td>\n",
       "      <td>0.00</td>\n",
       "      <td>-0.01</td>\n",
       "      <td>0.19</td>\n",
       "      <td>-0.10</td>\n",
       "      <td>-0.08</td>\n",
       "      <td>0.11</td>\n",
       "      <td>-0.113664</td>\n",
       "    </tr>\n",
       "    <tr>\n",
       "      <th>Max Sharpe Ratio</th>\n",
       "      <td>0.00</td>\n",
       "      <td>0.28</td>\n",
       "      <td>-0.38</td>\n",
       "      <td>-0.10</td>\n",
       "      <td>0.0</td>\n",
       "      <td>-0.03</td>\n",
       "      <td>0.10</td>\n",
       "      <td>0.03</td>\n",
       "      <td>0.0</td>\n",
       "      <td>0.00</td>\n",
       "      <td>-0.01</td>\n",
       "      <td>0.20</td>\n",
       "      <td>-0.14</td>\n",
       "      <td>-0.03</td>\n",
       "      <td>0.08</td>\n",
       "      <td>0.620316</td>\n",
       "    </tr>\n",
       "  </tbody>\n",
       "</table>\n",
       "</div>"
      ],
      "text/plain": [
       "                   AIR  COST   DTE   FDX  INTC    MO  MSFT   NKE  ORCL  PCRFY  \\\n",
       "Min Variance     -0.06  0.19 -0.36 -0.05   0.0  0.00 -0.04 -0.06   0.0  -0.07   \n",
       "Min VaR           0.00  0.34 -0.44 -0.09   0.0 -0.07  0.11  0.03   0.0   0.00   \n",
       "Max Sharpe Ratio  0.00  0.28 -0.38 -0.10   0.0 -0.03  0.10  0.03   0.0   0.00   \n",
       "\n",
       "                   SAP  SONY   VOD    VZ    WM  Function Result  \n",
       "Min Variance      0.05  0.06 -0.03  0.29  0.07        -0.001821  \n",
       "Min VaR          -0.01  0.19 -0.10 -0.08  0.11        -0.113664  \n",
       "Max Sharpe Ratio -0.01  0.20 -0.14 -0.03  0.08         0.620316  "
      ]
     },
     "execution_count": 32,
     "metadata": {},
     "output_type": "execute_result"
    }
   ],
   "source": [
    "# Zusammenfassung der Portfolios in einem DataFrame\n",
    "outsample_portfolios = pd.concat([outsample_shorted_min_port_variance, outsample_shorted_min_port_VaR, outsample_shorted_max_port_SharpeRatio], axis=0)\n",
    "outsample_portfolios.index = ['Min Variance', 'Min VaR', 'Max Sharpe Ratio']\n",
    "\n",
    "# Gegenüberstellung der Gewichtungen (nachher - vorher)\n",
    "outsample_portfolios - insample_portfolios"
   ]
  },
  {
   "cell_type": "markdown",
   "id": "ef4e2991",
   "metadata": {},
   "source": [
    "Veränderungen in den Funktionsergebnissen: ..."
   ]
  },
  {
   "cell_type": "code",
   "execution_count": 33,
   "id": "03bb8c67",
   "metadata": {},
   "outputs": [],
   "source": [
    "# Dataframe nur mit Gewichtungen der Aktien\n",
    "outsample_weights = outsample_portfolios.drop(['Function Result'], axis=1)\n",
    "#outsample_weights"
   ]
  },
  {
   "cell_type": "code",
   "execution_count": 34,
   "id": "bce659ef",
   "metadata": {},
   "outputs": [
    {
     "data": {
      "image/png": "[encoded data removed]",
      "text/plain": [
       "<Figure size 1080x504 with 1 Axes>"
      ]
     },
     "metadata": {
      "needs_background": "light"
     },
     "output_type": "display_data"
    }
   ],
   "source": [
    "# Min Varinaz\n",
    "plt.figure(figsize=(15,7))\n",
    "plt.plot(insample_weights.iloc[0].T, label='1997-2001')\n",
    "plt.plot(outsample_weights.iloc[0].T, label='2017-2021')\n",
    "plt.xlabel('asset')\n",
    "plt.ylabel('weight')\n",
    "plt.legend();"
   ]
  },
  {
   "cell_type": "code",
   "execution_count": 35,
   "id": "97b6f563",
   "metadata": {},
   "outputs": [
    {
     "data": {
      "image/png": "[encoded data removed]",
      "text/plain": [
       "<Figure size 1080x504 with 1 Axes>"
      ]
     },
     "metadata": {
      "needs_background": "light"
     },
     "output_type": "display_data"
    }
   ],
   "source": [
    "# Min Value at Risk\n",
    "plt.figure(figsize=(15,7))\n",
    "plt.plot(insample_weights.iloc[1].T, label='1997-2001')\n",
    "plt.plot(outsample_weights.iloc[1].T, label='2017-2021')\n",
    "plt.xlabel('asset')\n",
    "plt.ylabel('weight')\n",
    "plt.legend();"
   ]
  },
  {
   "cell_type": "code",
   "execution_count": 36,
   "id": "4a8c9702",
   "metadata": {},
   "outputs": [
    {
     "data": {
      "image/png": "[encoded data removed]",
      "text/plain": [
       "<Figure size 1080x504 with 1 Axes>"
      ]
     },
     "metadata": {
      "needs_background": "light"
     },
     "output_type": "display_data"
    }
   ],
   "source": [
    "# Max Sharpe Ratio\n",
    "plt.figure(figsize=(15,7))\n",
    "plt.plot(insample_weights.iloc[2].T, label='1997-2001')\n",
    "plt.plot(outsample_weights.iloc[2].T, label='2017-2021')\n",
    "plt.xlabel('asset')\n",
    "plt.ylabel('weight')\n",
    "plt.legend();"
   ]
  },
  {
   "cell_type": "code",
   "execution_count": 37,
   "id": "6897ff91",
   "metadata": {
    "scrolled": false
   },
   "outputs": [
    {
     "data": {
      "image/png": "[encoded data removed]",
      "text/plain": [
       "<Figure size 1080x504 with 1 Axes>"
      ]
     },
     "metadata": {
      "needs_background": "light"
     },
     "output_type": "display_data"
    }
   ],
   "source": [
    "# 2017-2021\n",
    "plt.figure(figsize=(15,7))\n",
    "plt.plot(outsample_weights.iloc[0].T, label='Min Variance')\n",
    "plt.plot(outsample_weights.iloc[1].T, label='Value at Risk')\n",
    "plt.plot(outsample_weights.iloc[2].T, label='Sharpe Ratio')\n",
    "plt.xlabel('asset')\n",
    "plt.ylabel('weight')\n",
    "plt.legend();"
   ]
  },
  {
   "cell_type": "markdown",
   "id": "44d18b2f",
   "metadata": {},
   "source": [
    "Veränderungen in den Gewichtungen je Strategie: ..."
   ]
  },
  {
   "cell_type": "markdown",
   "id": "181b296f",
   "metadata": {},
   "source": [
    "# 6 Verbesserungsmöglichkeiten der Strategien"
   ]
  },
  {
   "cell_type": "markdown",
   "id": "f6af9e48",
   "metadata": {},
   "source": [
    "Aufgabenstellung: Wie würden Sie die Implementierung Ihrer Portfoliostrategie noch verbessern? Was \n",
    "könnten Sie noch beachten?"
   ]
  },
  {
   "cell_type": "markdown",
   "id": "cf671f62",
   "metadata": {},
   "source": [
    "- verschiedene Asset-Klassen (Assets mit minimaler Covarianz - am besten Null)\n",
    "- Aus 30 Assets die 15 mit den geringsten Covarianzen auswählen\n",
    "- anderes alpha-Quantil bei min VaR-Strategie\n",
    "- Benchmark einführen (z.B. S&P500) - Gleichgewichtetes Portfolio bereits als Benchmark\n",
    "- Semivarianz bzw. Downside-Risk anstelle der Standardabweichung (evtl hier ausführen)\n",
    "- Sortino-Ratio anstelle Sharpe \n",
    "Ratio (evtl hier ausführen)\n",
    "- Für kurze Prognosehorizonte Mean Reversion (evtl hier ausführen) oder für lange Prognosehorizonte Moving Average\n",
    "  Crossover (Master-Aufgabe) anstelle einer Buy-and-Hold-Strategie\n",
    "- Rebalancing der Portfoliogewichte\n",
    "- 𝜇 und 𝜎 nicht auf Basis historischer Daten schätzen\n",
    "\n",
    "Vereinfachende Annahmen\n",
    "- Risikolosen Zins beachten\n",
    "- keine Standardnormalverteilung bei Value at Risk"
   ]
  },
  {
   "cell_type": "code",
   "execution_count": null,
   "id": "0847180d",
   "metadata": {},
   "outputs": [],
   "source": []
  },
  {
   "cell_type": "code",
   "execution_count": null,
   "id": "5b322711",
   "metadata": {},
   "outputs": [],
   "source": []
  },
  {
   "cell_type": "markdown",
   "id": "94514ee7",
   "metadata": {},
   "source": [
    "# MA-Alternative 1:\n",
    "# 7.1 Momentum-Strategie"
   ]
  },
  {
   "cell_type": "markdown",
   "id": "7c1b953b",
   "metadata": {},
   "source": [
    "Aufgabenstellung MA-Alternative 1: Entwickeln Sie für Ihre 15 Aktien eine Momentum Strategie auf Monatsebene. Diese ist wie folgt aufgebaut: Sie investieren in das Terzil der Unternehmen mit der \n",
    "höchsten Rendite des Vormonats. Diese 5 Unternehmen halten Sie bis zum Ende des darauffolgenden Monats. Zum Monatsende erfolgt somit immer eine Portfolioumschichtung, wobei die \n",
    "Unternehmen mit der höchsten Rendite im vergangen Monat gekauft werden. Funktioniert \n",
    "diese Strategie? Beurteilen Sie die Performance."
   ]
  },
  {
   "cell_type": "code",
   "execution_count": 38,
   "id": "2b6d6471",
   "metadata": {},
   "outputs": [],
   "source": [
    "# Frequency im Zeitindex auf 'Businessdays' festlegen\n",
    "Adj_Close = Adj_Close.asfreq('B')\n",
    "returns = returns.asfreq('B')"
   ]
  },
  {
   "cell_type": "code",
   "execution_count": 39,
   "id": "0f1adfc2",
   "metadata": {},
   "outputs": [],
   "source": [
    "# Max Return optimales Portfolio des Terzils mit der höchsten Rendite im Vormonat berechnen\n",
    "# Funktion 1\n",
    "def calc_neg_return(weights, mean_returns):\n",
    "    portfolio_return = np.sum(weights * mean_returns) * 252\n",
    "    return -portfolio_return\n",
    "\n",
    "# Funktion 2\n",
    "def max_return(mean_returns):\n",
    "    num_assets = len(mean_returns)\n",
    "    args = (mean_returns)\n",
    "    constraints = ({'type': 'eq', 'fun': lambda x: np.sum(x) -1})\n",
    "    bound = (0.0, 1.0)\n",
    "    bounds = tuple(bound for asset in range(num_assets))\n",
    "    result = sco.minimize(calc_neg_return, num_assets*[1/num_assets], args=args, \n",
    "                          method='SLSQP', bounds=bounds, constraints=constraints)\n",
    "    return result.x\n",
    "\n",
    "# Ausführen der Funktionen\n",
    "#function_result = max_return(insample_mean_returns)\n",
    "#function_result"
   ]
  },
  {
   "cell_type": "code",
   "execution_count": 40,
   "id": "1e58f18a",
   "metadata": {},
   "outputs": [
    {
     "data": {
      "text/plain": [
       "'1997-01-31'"
      ]
     },
     "execution_count": 40,
     "metadata": {},
     "output_type": "execute_result"
    }
   ],
   "source": [
    "monthly_returns = returns.resample('M').sum()\n",
    "str(monthly_returns.index.tolist()[0])[0:10]"
   ]
  },
  {
   "cell_type": "code",
   "execution_count": 41,
   "id": "4b9d2c19",
   "metadata": {
    "scrolled": false
   },
   "outputs": [
    {
     "name": "stdout",
     "output_type": "stream",
     "text": [
      "[-0.11294685 -0.08701149 -0.07731891 -0.07693353 -0.03522873  0.01479938\n",
      "  0.03204789  0.06404869  0.06608977  0.08829213  0.13693253  0.16108531\n",
      "  0.16736528  0.21905439  0.22283726]\n"
     ]
    }
   ],
   "source": [
    "current_month_returns = np.array(monthly_returns.iloc[0])\n",
    "print(np.sort(current_month_returns))\n",
    "sort_index = np.argsort(current_month_returns)\n",
    "sort_index\n",
    "locations = sort_index[-5:].tolist()\n",
    "locations\n",
    "tickers_top5 = [tickers[i] for i in locations]"
   ]
  },
  {
   "cell_type": "code",
   "execution_count": 42,
   "id": "2df72fb6",
   "metadata": {},
   "outputs": [
    {
     "data": {
      "text/html": [
       "<div>\n",
       "<style scoped>\n",
       "    .dataframe tbody tr th:only-of-type {\n",
       "        vertical-align: middle;\n",
       "    }\n",
       "\n",
       "    .dataframe tbody tr th {\n",
       "        vertical-align: top;\n",
       "    }\n",
       "\n",
       "    .dataframe thead th {\n",
       "        text-align: right;\n",
       "    }\n",
       "</style>\n",
       "<table border=\"1\" class=\"dataframe\">\n",
       "  <thead>\n",
       "    <tr style=\"text-align: right;\">\n",
       "      <th></th>\n",
       "      <th>NKE</th>\n",
       "      <th>FDX</th>\n",
       "      <th>WM</th>\n",
       "      <th>INTC</th>\n",
       "      <th>MSFT</th>\n",
       "    </tr>\n",
       "    <tr>\n",
       "      <th>Date</th>\n",
       "      <th></th>\n",
       "      <th></th>\n",
       "      <th></th>\n",
       "      <th></th>\n",
       "      <th></th>\n",
       "    </tr>\n",
       "  </thead>\n",
       "  <tbody>\n",
       "    <tr>\n",
       "      <th>1997-01-03</th>\n",
       "      <td>0.014568</td>\n",
       "      <td>0.019859</td>\n",
       "      <td>-0.024591</td>\n",
       "      <td>0.059552</td>\n",
       "      <td>0.036094</td>\n",
       "    </tr>\n",
       "    <tr>\n",
       "      <th>1997-01-06</th>\n",
       "      <td>0.004124</td>\n",
       "      <td>-0.019859</td>\n",
       "      <td>-0.012527</td>\n",
       "      <td>0.003607</td>\n",
       "      <td>-0.002959</td>\n",
       "    </tr>\n",
       "    <tr>\n",
       "      <th>1997-01-07</th>\n",
       "      <td>-0.014508</td>\n",
       "      <td>-0.002869</td>\n",
       "      <td>0.049190</td>\n",
       "      <td>0.031889</td>\n",
       "      <td>0.007380</td>\n",
       "    </tr>\n",
       "    <tr>\n",
       "      <th>1997-01-08</th>\n",
       "      <td>-0.006283</td>\n",
       "      <td>-0.020320</td>\n",
       "      <td>0.027615</td>\n",
       "      <td>-0.007877</td>\n",
       "      <td>-0.019303</td>\n",
       "    </tr>\n",
       "    <tr>\n",
       "      <th>1997-01-09</th>\n",
       "      <td>0.018731</td>\n",
       "      <td>0.028904</td>\n",
       "      <td>-0.015686</td>\n",
       "      <td>0.005258</td>\n",
       "      <td>-0.012066</td>\n",
       "    </tr>\n",
       "    <tr>\n",
       "      <th>...</th>\n",
       "      <td>...</td>\n",
       "      <td>...</td>\n",
       "      <td>...</td>\n",
       "      <td>...</td>\n",
       "      <td>...</td>\n",
       "    </tr>\n",
       "    <tr>\n",
       "      <th>2021-12-24</th>\n",
       "      <td>NaN</td>\n",
       "      <td>NaN</td>\n",
       "      <td>NaN</td>\n",
       "      <td>NaN</td>\n",
       "      <td>NaN</td>\n",
       "    </tr>\n",
       "    <tr>\n",
       "      <th>2021-12-27</th>\n",
       "      <td>0.011463</td>\n",
       "      <td>0.009528</td>\n",
       "      <td>0.011359</td>\n",
       "      <td>0.012203</td>\n",
       "      <td>0.022921</td>\n",
       "    </tr>\n",
       "    <tr>\n",
       "      <th>2021-12-28</th>\n",
       "      <td>-0.006946</td>\n",
       "      <td>0.000741</td>\n",
       "      <td>0.008209</td>\n",
       "      <td>-0.003472</td>\n",
       "      <td>-0.003510</td>\n",
       "    </tr>\n",
       "    <tr>\n",
       "      <th>2021-12-29</th>\n",
       "      <td>0.014081</td>\n",
       "      <td>0.004086</td>\n",
       "      <td>0.007481</td>\n",
       "      <td>0.001351</td>\n",
       "      <td>0.002049</td>\n",
       "    </tr>\n",
       "    <tr>\n",
       "      <th>2021-12-30</th>\n",
       "      <td>-0.007672</td>\n",
       "      <td>0.004147</td>\n",
       "      <td>-0.003914</td>\n",
       "      <td>-0.001738</td>\n",
       "      <td>-0.007721</td>\n",
       "    </tr>\n",
       "  </tbody>\n",
       "</table>\n",
       "<p>6520 rows × 5 columns</p>\n",
       "</div>"
      ],
      "text/plain": [
       "                 NKE       FDX        WM      INTC      MSFT\n",
       "Date                                                        \n",
       "1997-01-03  0.014568  0.019859 -0.024591  0.059552  0.036094\n",
       "1997-01-06  0.004124 -0.019859 -0.012527  0.003607 -0.002959\n",
       "1997-01-07 -0.014508 -0.002869  0.049190  0.031889  0.007380\n",
       "1997-01-08 -0.006283 -0.020320  0.027615 -0.007877 -0.019303\n",
       "1997-01-09  0.018731  0.028904 -0.015686  0.005258 -0.012066\n",
       "...              ...       ...       ...       ...       ...\n",
       "2021-12-24       NaN       NaN       NaN       NaN       NaN\n",
       "2021-12-27  0.011463  0.009528  0.011359  0.012203  0.022921\n",
       "2021-12-28 -0.006946  0.000741  0.008209 -0.003472 -0.003510\n",
       "2021-12-29  0.014081  0.004086  0.007481  0.001351  0.002049\n",
       "2021-12-30 -0.007672  0.004147 -0.003914 -0.001738 -0.007721\n",
       "\n",
       "[6520 rows x 5 columns]"
      ]
     },
     "execution_count": 42,
     "metadata": {},
     "output_type": "execute_result"
    }
   ],
   "source": [
    "monthly_top5_cov = returns[tickers_top5]#.iloc[1,]\n",
    "monthly_top5_cov"
   ]
  },
  {
   "cell_type": "code",
   "execution_count": 43,
   "id": "1a4bb2a0",
   "metadata": {},
   "outputs": [
    {
     "data": {
      "text/html": [
       "<div>\n",
       "<style scoped>\n",
       "    .dataframe tbody tr th:only-of-type {\n",
       "        vertical-align: middle;\n",
       "    }\n",
       "\n",
       "    .dataframe tbody tr th {\n",
       "        vertical-align: top;\n",
       "    }\n",
       "\n",
       "    .dataframe thead th {\n",
       "        text-align: right;\n",
       "    }\n",
       "</style>\n",
       "<table border=\"1\" class=\"dataframe\">\n",
       "  <thead>\n",
       "    <tr style=\"text-align: right;\">\n",
       "      <th></th>\n",
       "      <th>NKE</th>\n",
       "      <th>FDX</th>\n",
       "      <th>WM</th>\n",
       "      <th>INTC</th>\n",
       "      <th>MSFT</th>\n",
       "    </tr>\n",
       "  </thead>\n",
       "  <tbody>\n",
       "    <tr>\n",
       "      <th>NKE</th>\n",
       "      <td>0.000306</td>\n",
       "      <td>0.000168</td>\n",
       "      <td>-0.000059</td>\n",
       "      <td>0.000060</td>\n",
       "      <td>0.000135</td>\n",
       "    </tr>\n",
       "    <tr>\n",
       "      <th>FDX</th>\n",
       "      <td>0.000168</td>\n",
       "      <td>0.000341</td>\n",
       "      <td>-0.000092</td>\n",
       "      <td>0.000110</td>\n",
       "      <td>0.000137</td>\n",
       "    </tr>\n",
       "    <tr>\n",
       "      <th>WM</th>\n",
       "      <td>-0.000059</td>\n",
       "      <td>-0.000092</td>\n",
       "      <td>0.000538</td>\n",
       "      <td>-0.000082</td>\n",
       "      <td>-0.000148</td>\n",
       "    </tr>\n",
       "    <tr>\n",
       "      <th>INTC</th>\n",
       "      <td>0.000060</td>\n",
       "      <td>0.000110</td>\n",
       "      <td>-0.000082</td>\n",
       "      <td>0.000370</td>\n",
       "      <td>0.000225</td>\n",
       "    </tr>\n",
       "    <tr>\n",
       "      <th>MSFT</th>\n",
       "      <td>0.000135</td>\n",
       "      <td>0.000137</td>\n",
       "      <td>-0.000148</td>\n",
       "      <td>0.000225</td>\n",
       "      <td>0.000406</td>\n",
       "    </tr>\n",
       "  </tbody>\n",
       "</table>\n",
       "</div>"
      ],
      "text/plain": [
       "           NKE       FDX        WM      INTC      MSFT\n",
       "NKE   0.000306  0.000168 -0.000059  0.000060  0.000135\n",
       "FDX   0.000168  0.000341 -0.000092  0.000110  0.000137\n",
       "WM   -0.000059 -0.000092  0.000538 -0.000082 -0.000148\n",
       "INTC  0.000060  0.000110 -0.000082  0.000370  0.000225\n",
       "MSFT  0.000135  0.000137 -0.000148  0.000225  0.000406"
      ]
     },
     "execution_count": 43,
     "metadata": {},
     "output_type": "execute_result"
    }
   ],
   "source": [
    "monthly_top5_returns = returns[tickers_top5]\n",
    "monthly_top5_returns.loc['1997-01-03':str(monthly_returns.index.tolist()[0])[0:10]].cov()"
   ]
  },
  {
   "cell_type": "code",
   "execution_count": 44,
   "id": "4b0c66c9",
   "metadata": {
    "scrolled": true
   },
   "outputs": [
    {
     "data": {
      "text/plain": [
       "<bound method Series.cov of NKE     0.006521\n",
       "FDX     0.007671\n",
       "WM      0.007970\n",
       "INTC    0.010431\n",
       "MSFT    0.010611\n",
       "Name: 1997-01-31 00:00:00, dtype: float64>"
      ]
     },
     "execution_count": 44,
     "metadata": {},
     "output_type": "execute_result"
    }
   ],
   "source": [
    "monthly_top5_mean_returns = returns[tickers_top5].resample('M').mean().iloc[0]\n",
    "monthly_top5_mean_returns.cov"
   ]
  },
  {
   "cell_type": "code",
   "execution_count": null,
   "id": "125d5912",
   "metadata": {},
   "outputs": [],
   "source": [
    "current_month_returns = np.array(monthly_returns.iloc[0])\n",
    "sort_index = np.argsort(current_month_returns)\n",
    "locations = sort_index[-5:].tolist()\n",
    "tickers_top5 = [tickers[i] for i in locations]\n",
    "monthly_top5_mean_returns = monthly_returns[tickers_top5]\n",
    "\n",
    "weights_top5 = max_return(monthly_top5_mean_returns)\n",
    "\n",
    "weights = np.zeros(len(tickers))\n",
    "weights[locations] = weights_top5\n",
    "empty_list.append(weights)"
   ]
  },
  {
   "cell_type": "code",
   "execution_count": null,
   "id": "940d82d0",
   "metadata": {
    "scrolled": true
   },
   "outputs": [],
   "source": [
    "monthly_returns.iloc[0].nlargest(5)\n",
    "#np.array(monthly_returns.iloc[0].nlargest(5))"
   ]
  },
  {
   "cell_type": "code",
   "execution_count": null,
   "id": "a64930e9",
   "metadata": {},
   "outputs": [],
   "source": [
    "# Monatliche Logreturns berechnen\n",
    "montly_returns = returns.resample('M').sum()\n",
    "\n",
    "def monthly_weights(monthly_returns):\n",
    "    empty_list = list()\n",
    "    for i in range(len(monthly_returns)):\n",
    "        \n",
    "        current_month_returns = np.array(monthly_returns.iloc[0])\n",
    "        sort_index = np.argsort(current_month_returns)\n",
    "        locations = sort_index[-5:].tolist()\n",
    "        x = np.zeros(len(tickers))\n",
    "        x[:] = np.nan\n",
    "        x[locations] = 1\n",
    "        current_month_returns * x\n",
    "        \n",
    "        \n",
    "        \n",
    "        monthly_top5_returns = [monthly_returns.iloc[i].idxmax(5)\n",
    "        #monthly_top5_tickers = tickers[monthly_top5_returns]\n",
    "        monthly_top5_mean_returns = [returns * x]\n",
    "        # Max Return Portfolio Funktion ausführen\n",
    "        w = max_return(monthly_top5_mean_returns)\n",
    "        empty_list.append(w)\n",
    "\n",
    "# Oberes Terzil der 15 Aktien pro Monat herausfiltern\n",
    "monthly_returns.sort(axis=1) for i in range(len(monthly_returns))"
   ]
  },
  {
   "cell_type": "code",
   "execution_count": null,
   "id": "62fc44f9",
   "metadata": {},
   "outputs": [],
   "source": [
    "# Tägliche Gewichte berechnen\n",
    "np.zeros(len(tickers)) #min 5 Aktien immer mit 0 gewichtet und Max Return opt. Portfolio auf oberes Terzil der beiden vergangenen Monate\n",
    "\n",
    "\n",
    "# Optimale Gewichte in täglichen Gewichtsvektor eintragen"
   ]
  },
  {
   "cell_type": "code",
   "execution_count": null,
   "id": "14c5b78c",
   "metadata": {},
   "outputs": [],
   "source": []
  },
  {
   "cell_type": "code",
   "execution_count": null,
   "id": "7f28794e",
   "metadata": {},
   "outputs": [],
   "source": []
  },
  {
   "cell_type": "code",
   "execution_count": null,
   "id": "cc3dae0c",
   "metadata": {},
   "outputs": [],
   "source": []
  },
  {
   "cell_type": "markdown",
   "id": "c8797f98",
   "metadata": {},
   "source": [
    "- Strategie basiert auf Max der Rendite, hohes Risiko\n",
    "- Brutto Renditen, monatliches Traden"
   ]
  },
  {
   "cell_type": "markdown",
   "id": "a5881c88",
   "metadata": {},
   "source": [
    "# MA-Alternative 2: \n",
    "# 7.2 Short-Selling"
   ]
  },
  {
   "cell_type": "markdown",
   "id": "3a64f508",
   "metadata": {},
   "source": [
    "Aufgabenstellung MA-Alternative 2: Erlauben Sie nun bei der Festlegung der Gewichte im Zeitraum 1997-2001 \n",
    "auch Short-Selling. Wie beurteilen Sie die Performance der Portfolios für den Zeitraum von \n",
    "2002-2021. Ist Short-Selling in diesem Zusammenhang und über solch einen Zeitraum sinnvoll?"
   ]
  },
  {
   "cell_type": "code",
   "execution_count": null,
   "id": "3574bb2d",
   "metadata": {},
   "outputs": [],
   "source": [
    "# Parameter wie in Kapiel 1\n",
    "insample_cov = insample.cov()\n",
    "insample_mean_returns = insample.mean()\n",
    "alpha = 0.05\n",
    "days = 252\n",
    "rf = 0"
   ]
  },
  {
   "cell_type": "code",
   "execution_count": null,
   "id": "f8ebf8f6",
   "metadata": {
    "scrolled": true
   },
   "outputs": [],
   "source": [
    "#insample_cov"
   ]
  },
  {
   "cell_type": "markdown",
   "id": "569049bd",
   "metadata": {},
   "source": [
    "**7.2.1 Bestimmung des Portfolios mit minimaler Varianz**"
   ]
  },
  {
   "cell_type": "code",
   "execution_count": null,
   "id": "f2d112a6",
   "metadata": {
    "scrolled": false
   },
   "outputs": [],
   "source": [
    "# Funktion 1\n",
    "def calc_portfolio_std(weights, cov):\n",
    "    portfolio_std = np.sqrt(np.dot(np.dot(weights.T, cov), weights)) * np.sqrt(252) #h=15x1 Matrix-> [h.transpose * cov] * h = [1x15 * 15x15] * 15x1 = 1x15 * 15x1 = 1x1\n",
    "    return portfolio_std\n",
    "\n",
    "# Funktion 2\n",
    "def min_variance(cov):\n",
    "    num_assets = len(cov)\n",
    "    args = cov\n",
    "    constraints = ({'type': 'eq', 'fun': lambda x: np.sum(x) - 1}) #Nebenbedingung; ; eq für equality -> Gleichung != 0; np.sum(weights) - 1 = 0 (Summe der Gewichte müssen 1 ergeben und Gleichung muss gleich Null sein!)\n",
    "    bound = (-1.0, 1.0)\n",
    "    bounds = tuple(bound for assets in range(num_assets))\n",
    "    result = sco.minimize(calc_portfolio_std, num_assets*[1/num_assets], args=args, \n",
    "                         method='SLSQP', bounds=bounds, constraints=constraints)\n",
    "    return result\n",
    "\n",
    "# Ausführen der Funktionen\n",
    "function_result = min_variance(insample_cov) #fun: gibt den ZF-wert (Min Varinaz) an & x: gibt die Gewichtungen der einzelnen Aktien im Portfolio an\n",
    "#function_result#['x']"
   ]
  },
  {
   "cell_type": "code",
   "execution_count": null,
   "id": "91f78754",
   "metadata": {
    "scrolled": true
   },
   "outputs": [],
   "source": [
    "# Ergebnisse der Optimierung in DataFrame abspeichern\n",
    "insample_min_port_variance_shortselling = pd.DataFrame([round(x,2) for x in function_result['x']], index=tickers).T\n",
    "insample_min_port_variance_shortselling['Function Result'] = function_result['fun']"
   ]
  },
  {
   "cell_type": "markdown",
   "id": "5f9e11d7",
   "metadata": {},
   "source": [
    "**7.2.2 Bestimmung des Portfolios mit minimalem Value at Risk (VaR)**"
   ]
  },
  {
   "cell_type": "code",
   "execution_count": null,
   "id": "d854155b",
   "metadata": {
    "scrolled": true
   },
   "outputs": [],
   "source": [
    "# Funktion 1\n",
    "def calc_portfolio_VaR(weights, mean_returns, cov, alpha, days):\n",
    "    portfolio_return = np.sum(weights * mean_returns) * days #nur bei Logrenditen Addition möglich\n",
    "    portfolio_std = np.sqrt(np.dot(np.dot(weights.T, cov), weights)) * np.sqrt(days)\n",
    "    portfolio_VaR = abs(portfolio_return - (portfolio_std * stats.norm.ppf(1 - alpha))) #Erklären\n",
    "    return portfolio_VaR\n",
    "\n",
    "# Funktion 2\n",
    "def min_VaR(mean_returns, cov, alpha, days):\n",
    "    num_assets = len(mean_returns)\n",
    "    args = (mean_returns, cov, alpha ,days)\n",
    "    constraints = ({'type': 'eq', 'fun': lambda x: np.sum(x) - 1})\n",
    "    bound = (-1.0, 1.0)\n",
    "    bounds = tuple(bound for asset in range(num_assets))\n",
    "    result = sco.minimize(calc_portfolio_VaR, num_assets*[1/num_assets], args=args, \n",
    "                         method='SLSQP', bounds=bounds, constraints=constraints)\n",
    "    return result\n",
    "\n",
    "# Ausführen der Funktionen\n",
    "function_result = min_VaR(insample_mean_returns, insample_cov, alpha, days)\n",
    "#function_result"
   ]
  },
  {
   "cell_type": "code",
   "execution_count": null,
   "id": "1b02676e",
   "metadata": {},
   "outputs": [],
   "source": [
    "# Ergebnisse der Optimierung in DataFrame abspeichern\n",
    "insample_min_port_VaR_shortselling = pd.DataFrame([round(x,2) for x in function_result['x']], index=tickers).T\n",
    "insample_min_port_VaR_shortselling['Function Result'] = function_result['fun']"
   ]
  },
  {
   "cell_type": "markdown",
   "id": "2b6d65b7",
   "metadata": {},
   "source": [
    "**7.2.3 Bestimmung des Portfolios mit maximaler Sharpe Ratio (𝜇 - 𝜎 effizientes Portfolio)**"
   ]
  },
  {
   "cell_type": "code",
   "execution_count": null,
   "id": "d041e23d",
   "metadata": {
    "scrolled": true
   },
   "outputs": [],
   "source": [
    "# Funktion 1\n",
    "def calc_neg_sharpe(weights, mean_returns, cov, rf):\n",
    "    portfolio_return = np.sum(weights * mean_returns) * 252\n",
    "    portfolio_std = np.sqrt(np.dot(np.dot(weights.T, cov), weights)) * np.sqrt(252)\n",
    "    sharpe_ratio = (portfolio_return - rf) / portfolio_std\n",
    "    return -sharpe_ratio\n",
    "\n",
    "# Funktion 2\n",
    "def max_sharpe_ratio(mean_returns, cov, rf):\n",
    "    num_assets = len(mean_returns)\n",
    "    args = (mean_returns, cov, rf)\n",
    "    constraints = ({'type': 'eq', 'fun': lambda x: np.sum(x) -1})\n",
    "    bound = (-1.0, 1.0)\n",
    "    bounds = tuple(bound for asset in range(num_assets))\n",
    "    result = sco.minimize(calc_neg_sharpe, num_assets*[1/num_assets], args=args, \n",
    "                          method='SLSQP', bounds=bounds, constraints=constraints)\n",
    "    return result\n",
    "\n",
    "# Ausführen der Funktionen\n",
    "function_result = max_sharpe_ratio(insample_mean_returns, insample_cov, rf)\n",
    "#function_result"
   ]
  },
  {
   "cell_type": "code",
   "execution_count": null,
   "id": "688739f4",
   "metadata": {
    "scrolled": false
   },
   "outputs": [],
   "source": [
    "# Ergebnisse der Optimierung in DataFrame abspeichern\n",
    "insample_max_port_SharpeRatio_shortselling = pd.DataFrame([round(x,2) for x in function_result['x']], index=tickers).T\n",
    "insample_max_port_SharpeRatio_shortselling['Function Result'] = -function_result['fun'] #hier Vorzeichen wieder umkehren!"
   ]
  },
  {
   "cell_type": "markdown",
   "id": "ff0522ab",
   "metadata": {},
   "source": [
    "**7.2.4 Vergleich der Gewichtungen der drei Strategien**"
   ]
  },
  {
   "cell_type": "code",
   "execution_count": null,
   "id": "67ac338f",
   "metadata": {
    "scrolled": false
   },
   "outputs": [],
   "source": [
    "# Zusammenfassung der Portfolios in einem DataFrame\n",
    "insample_portfolios_shortselling = pd.concat([insample_min_port_variance_shortselling, insample_min_port_VaR_shortselling, insample_max_port_SharpeRatio_shortselling], axis=0)\n",
    "insample_portfolios_shortselling.index = ['Min Variance', 'Min VaR', 'Max Sharpe Ratio']\n",
    "insample_portfolios_shortselling"
   ]
  },
  {
   "cell_type": "code",
   "execution_count": null,
   "id": "c9809bf4",
   "metadata": {
    "scrolled": true
   },
   "outputs": [],
   "source": [
    "# Dataframe nur mit Gewichtungen der Aktien\n",
    "insample_weights_shortselling = insample_portfolios_shortselling.drop(['Function Result'], axis=1)"
   ]
  },
  {
   "cell_type": "code",
   "execution_count": null,
   "id": "9dddad22",
   "metadata": {
    "scrolled": false
   },
   "outputs": [],
   "source": [
    "# 1997-2001\n",
    "plt.figure(figsize=(15,7))\n",
    "plt.plot(insample_weights_shortselling.iloc[0].T, label='Min Variance')\n",
    "plt.plot(insample_weights_shortselling.iloc[1].T, label='Value at Risk')\n",
    "plt.plot(insample_weights_shortselling.iloc[2].T, label='Sharpe Ratio')\n",
    "plt.xlabel('asset')\n",
    "plt.ylabel('weight')\n",
    "plt.legend();"
   ]
  },
  {
   "cell_type": "markdown",
   "id": "87c6a2eb",
   "metadata": {},
   "source": [
    "bla bla bla..."
   ]
  },
  {
   "cell_type": "markdown",
   "id": "925eddfa",
   "metadata": {},
   "source": [
    "**7.2.5 Bewertung der Performance der drei Strategien gegenüber Aufgabe 1 (ohne Short-Selling)**"
   ]
  },
  {
   "cell_type": "code",
   "execution_count": null,
   "id": "a627c728",
   "metadata": {
    "scrolled": false
   },
   "outputs": [],
   "source": [
    "# Returns der Strategien berechnen\n",
    "BaH_returns_shortselling = pd.DataFrame(columns = ['Min Variance', 'Min VaR', 'Max Sharpe Ratio'], index=['Returns'])\n",
    "BaH_returns_shortselling.loc['Returns'] = [np.sum(outsample_cumulated.iloc[-1] * insample_weights_shortselling.iloc[i]) for i in range(len(insample_weights_shortselling))]\n",
    "BaH_returns_shortselling - BaH_returns"
   ]
  },
  {
   "cell_type": "markdown",
   "id": "041afc10",
   "metadata": {},
   "source": [
    "Verbesserung/Verschlechterung der Returns in der BaH-Strategie..."
   ]
  },
  {
   "cell_type": "markdown",
   "id": "0ac70af7",
   "metadata": {},
   "source": [
    "**7.2.6 Short-Selling über diesen Zeitraum sinnvoll?**"
   ]
  },
  {
   "cell_type": "markdown",
   "id": "924a3360",
   "metadata": {},
   "source": [
    "..."
   ]
  },
  {
   "cell_type": "code",
   "execution_count": null,
   "id": "739f604b",
   "metadata": {},
   "outputs": [],
   "source": []
  },
  {
   "cell_type": "code",
   "execution_count": null,
   "id": "f080c19b",
   "metadata": {},
   "outputs": [],
   "source": []
  }
 ],
 "metadata": {
  "kernelspec": {
   "display_name": "Python 3 (ipykernel)",
   "language": "python",
   "name": "python3"
  },
  "language_info": {
   "codemirror_mode": {
    "name": "ipython",
    "version": 3
   },
   "file_extension": ".py",
   "mimetype": "text/x-python",
   "name": "python",
   "nbconvert_exporter": "python",
   "pygments_lexer": "ipython3",
   "version": "3.9.7"
  }
 },
 "nbformat": 4,
 "nbformat_minor": 5
}
