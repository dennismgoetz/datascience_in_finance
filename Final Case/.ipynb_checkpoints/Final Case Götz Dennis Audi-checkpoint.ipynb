{
 "cells": [
  {
   "cell_type": "markdown",
   "id": "c856cc8a",
   "metadata": {},
   "source": [
    "# Data Science in Finance mit Python - Final Case"
   ]
  },
  {
   "cell_type": "markdown",
   "id": "0043bf82",
   "metadata": {},
   "source": [
    "### Michael Betz und Dennis Götz"
   ]
  },
  {
   "cell_type": "markdown",
   "id": "549f36a7",
   "metadata": {},
   "source": [
    "**Aufgabenstellung für Bachelor- und Master-Studenten:**\n",
    "1. Wählen Sie 15 Unternehmen aus, die bereits seit 1997 an der Börse gelistet sind. Bestimmen Sie für Ihre 15 Aktien die Portfolios mit der minimalen Varianz, dem minimalen VaR und der maximalen Sharpe Ratio. Nutzen Sie dafür Tagesdaten Ihrer 15 Aktien von 1997-2001.\n",
    "2. Implementieren Sie Buy-and-Hold Strategien für Ihre drei Portfolios von 2002-2021 \n",
    "auf Grundlage der errechneten Gewichte Ihrer 15 Aktien.\n",
    "3. Diskutieren Sie die Performance Ihrer drei Portfolios.\n",
    "4. Erstellen Sie eine Grafik für den Zeitraum 2002-2021, welche den Kursverlauf Ihrer \n",
    "drei Portfoliostrategien einem gleichgewichteten Portfolio aus den 15 Aktien als \n",
    "Benchmark gegenüberstellt.\n",
    "5. Berechnen Sie die Portfolios mit der minimalen Varianz, dem minimalen VaR und der \n",
    "maximalen Sharpe Ratio nun für den Zeitraum von 2017-2021 und vergleichen Sie die \n",
    "Portfoliogewichte mit den Ihren.\n",
    "6. Wie würden Sie die Implementierung Ihrer Portfoliostrategie noch verbessern? Was \n",
    "könnten Sie noch beachten?\n"
   ]
  },
  {
   "cell_type": "markdown",
   "id": "91684b56",
   "metadata": {},
   "source": [
    "Matrikelnummer: 272038"
   ]
  },
  {
   "cell_type": "markdown",
   "id": "2e0023bf",
   "metadata": {},
   "source": [
    "Name Teampartner: Betz Michael"
   ]
  },
  {
   "cell_type": "code",
   "execution_count": null,
   "id": "e31d5fbe",
   "metadata": {},
   "outputs": [],
   "source": [
    "# Import der notwendigen Bibliotheken\n",
    "import pandas as pd\n",
    "import numpy as np\n",
    "#import pandas_datareader.data as web\n",
    "import scipy.optimize as sco\n",
    "from scipy import stats\n",
    "from datetime import datetime\n",
    "import matplotlib.pyplot as plt\n",
    "%matplotlib inline\n",
    "\n",
    "import yfinance as yf"
   ]
  },
  {
   "cell_type": "markdown",
   "id": "f157ff9b",
   "metadata": {},
   "source": [
    "# 1. Portfolios mit min. Varianz, min. VaR und max. Sharpe Ratio (1997-2001)"
   ]
  },
  {
   "cell_type": "markdown",
   "id": "67be1b08",
   "metadata": {},
   "source": [
    "Aufgabenstellung: Wählen Sie 15 Unternehmen aus, die bereits seit 1997 an der Börse gelistet sind. Bestimmen Sie für Ihre 15 Aktien die Portfolios mit der **minimalen Varianz**, dem **minimalen VaR** und der **maximalen Sharpe Ratio**. Nutzen Sie dafür Tagesdaten Ihrer 15 Aktien von 1997-2001."
   ]
  },
  {
   "cell_type": "code",
   "execution_count": null,
   "id": "d70c90c5",
   "metadata": {},
   "outputs": [],
   "source": [
    "# Preise der 15 Aktien von 1997/01/01 - 2021/12/31 laden\n",
    "yf.pdr_override()\n",
    "tickers = ['AIR', 'DTE', 'FDX', 'NKE', 'SAP', 'SONY', 'VOD', 'WM', 'ORCL', 'MSFT', 'INTC', 'PCRFY', 'COST', 'VZ', 'MO']\n",
    "start = '1997-01-01'\n",
    "end = '2021-12-31'\n",
    "\n",
    "Adj_Close = web.get_data_yahoo(tickers, start, end)['Adj Close']\n",
    "Adj_Close = pd.DataFrame(Adj_Close)\n",
    "Adj_Close.isna().sum()\n"
   ]
  },
  {
   "cell_type": "code",
   "execution_count": null,
   "id": "de6302db",
   "metadata": {},
   "outputs": [],
   "source": [
    "# Berechnung der Logrenditen (Vorteil der Additivität)\n",
    "returns = pd.DataFrame(np.diff(np.log(Adj_Close).T).T)\n",
    "returns.index = Adj_Close.index[1:]\n",
    "returns.columns = tickers\n",
    "returns\n",
    "\n",
    "# Alternativ\n",
    "#returns = pd.DataFrame(np.diff(np.log(Adj_Close.values).T).T)\n",
    "#returns = np.log(Adj_Close/Adj_Close.shift(1))\n",
    "#returns = np.log1p(Adj_Close.pct_change())"
   ]
  },
  {
   "cell_type": "markdown",
   "id": "026c8a87",
   "metadata": {},
   "source": [
    "Datensätze Adj Close und returns plotten; Verlauf der Assets über die Zeitreihe beobachten/beschreiben..."
   ]
  },
  {
   "cell_type": "code",
   "execution_count": null,
   "id": "882188bf",
   "metadata": {},
   "outputs": [],
   "source": [
    "# DataFrame auf den Zeitraum des Kalibrationsdatensatzes von 1997/01/01 - 2001/12/31 begrenzen\n",
    "insample = returns.loc['1997-01-01':'2001-12-31']\n",
    "insample"
   ]
  },
  {
   "cell_type": "markdown",
   "id": "505d7e06",
   "metadata": {},
   "source": [
    "Berechnung der notwendigen Eingabeparameter für die anschließenden Funktionen"
   ]
  },
  {
   "cell_type": "code",
   "execution_count": null,
   "id": "f0b697e2",
   "metadata": {},
   "outputs": [],
   "source": [
    "# Berechnung der Varianz-Covarianz-Matrix, mittleren Renditen und Festlegung von Alpha-Quantil, Zeithorizont und risikolosem Zins\n",
    "insample_cov = insample.cov() #plot\n",
    "insample_mean_returns = insample.mean()\n",
    "alpha = 0.05\n",
    "days = 252\n",
    "rf = 0 #erklären"
   ]
  },
  {
   "cell_type": "code",
   "execution_count": null,
   "id": "d932547d",
   "metadata": {},
   "outputs": [],
   "source": [
    "insample_cov #plot"
   ]
  },
  {
   "cell_type": "markdown",
   "id": "ab34093d",
   "metadata": {},
   "source": [
    "**1.1 Bestimmung des Portfolios mit minimaler Varianz**"
   ]
  },
  {
   "cell_type": "markdown",
   "id": "32c3985f",
   "metadata": {},
   "source": [
    "Wir entscheiden uns für die **Numerische Optimierung**, da diese genauer ist als die Monte-Carlo-Simulation, welche sich nur an das Miniumum/Maximum annähert.\n",
    "\n",
    "**Funktion 1** berechnet die annualisierte Standardabweichung $𝜎=h^{T}Vh$ des Portfolios und übergibt diese an die Minimierungsfunktion in **Funktion 2**.\n",
    "\n",
    "Die **Nebenbedingung** stellt sicher, dass die Summe der Gewichte im Portfolio gleich 1 ist."
   ]
  },
  {
   "cell_type": "code",
   "execution_count": null,
   "id": "4e20cf30",
   "metadata": {},
   "outputs": [],
   "source": [
    "# Funktion 1\n",
    "def calc_portfolio_std(weights, cov):\n",
    "    portfolio_std = np.sqrt(np.dot(np.dot(weights.T, cov), weights)) * np.sqrt(252) #h=15x1 Matrix-> [h.transpose * cov] * h = [1x15 * 15x15] * 15x1 = 1x15 * 15x1 = 1x1\n",
    "    return portfolio_std\n",
    "\n",
    "# Funktion 2\n",
    "def min_variance(cov):\n",
    "    num_assets = len(cov)\n",
    "    args = cov\n",
    "    constraints = ({'type': 'eq', 'fun': lambda x: np.sum(x) - 1}) #Nebenbedingung; ; eq für equality -> Gleichung != 0; np.sum(weights) - 1 = 0 (Summe der Gewichte müssen 1 ergeben und Gleichung muss gleich Null sein!)\n",
    "    bound = (0.0, 1.0)\n",
    "    bounds = tuple(bound for assets in range(num_assets))\n",
    "    result = sco.minimize(calc_portfolio_std, num_assets*[1/num_assets], args=args, \n",
    "                         method='SLSQP', bounds=bounds, constraints=constraints)\n",
    "    return result\n",
    "\n",
    "# Ausführen der Funktionen\n",
    "function_result = min_variance(insample_cov) #fun: gibt den ZF-wert (Min Varinaz) an & x: gibt die Gewichtungen der einzelnen Aktien im Portfolio an\n",
    "function_result"
   ]
  },
  {
   "cell_type": "code",
   "execution_count": null,
   "id": "477815eb",
   "metadata": {
    "scrolled": true
   },
   "outputs": [],
   "source": [
    "# Ergebnisse der Optimierung in DataFrame abspeichern\n",
    "insample_min_port_variance = pd.DataFrame([round(x,2) for x in function_result['x']], index=tickers).T #Gewichte auf 2 Nachkommastellen runden\n",
    "insample_min_port_variance['Function Result'] = function_result['fun'] #Spalte für Zielfunktionswert\n",
    "insample_min_port_variance"
   ]
  },
  {
   "cell_type": "markdown",
   "id": "8413ddcb",
   "metadata": {},
   "source": [
    "**1.2 Bestimmung des Portfolios mit minimalem Value at Risk (VaR)**"
   ]
  },
  {
   "cell_type": "markdown",
   "id": "f39141a2",
   "metadata": {},
   "source": [
    "**Funktion 1** berechnet die annualisierten Mean Returns 𝜇, die annualisierte Standardabweichung $𝜎=h^{T}Vh$ und den Value at Risk des Portfolios und gibt den VaR aus, damit dieser von der Minimierungsfunktion in **Funktion 2** minimiert werden kann."
   ]
  },
  {
   "cell_type": "code",
   "execution_count": null,
   "id": "b959988a",
   "metadata": {},
   "outputs": [],
   "source": [
    "# Funktion 1\n",
    "def calc_portfolio_VaR(weights, mean_returns, cov, alpha, days):\n",
    "    portfolio_return = np.sum(weights * mean_returns) * days #nur bei Logrenditen Addition möglich\n",
    "    portfolio_std = np.sqrt(np.dot(np.dot(weights.T, cov), weights)) * np.sqrt(days)\n",
    "    portfolio_VaR = abs(portfolio_return - (portfolio_std * stats.norm.ppf(1 - alpha))) #Erklären\n",
    "    return portfolio_VaR\n",
    "\n",
    "# Funktion 2\n",
    "def min_VaR(mean_returns, cov, alpha, days):\n",
    "    num_assets = len(mean_returns)\n",
    "    args = (mean_returns, cov, alpha ,days)\n",
    "    constraints = ({'type': 'eq', 'fun': lambda x: np.sum(x) - 1})\n",
    "    bound = (0.0, 1.0)\n",
    "    bounds = tuple(bound for asset in range(num_assets))\n",
    "    result = sco.minimize(calc_portfolio_VaR, num_assets*[1/num_assets], args=args, \n",
    "                         method='SLSQP', bounds=bounds, constraints=constraints)\n",
    "    return result\n",
    "\n",
    "# Ausführen der Funktionen\n",
    "function_result = min_VaR(insample_mean_returns, insample_cov, alpha, days)\n",
    "#function_result"
   ]
  },
  {
   "cell_type": "code",
   "execution_count": null,
   "id": "a27dcfa4",
   "metadata": {},
   "outputs": [],
   "source": [
    "# Ergebnisse der Optimierung in DataFrame abspeichern\n",
    "insample_min_port_VaR = pd.DataFrame([round(x,2) for x in function_result['x']], index=tickers).T\n",
    "insample_min_port_VaR['Function Result'] = function_result['fun']\n",
    "insample_min_port_VaR"
   ]
  },
  {
   "cell_type": "markdown",
   "id": "83e8a44f",
   "metadata": {},
   "source": [
    "**1.3 Bestimmung des Portfolios mit maximaler Sharpe Ratio (𝜇 - 𝜎 effizientes Portfolio)**\n",
    " \n",
    " "
   ]
  },
  {
   "cell_type": "markdown",
   "id": "11a7462a",
   "metadata": {},
   "source": [
    "**Funktion 1** berechnet die annualisierten Mean Returns 𝜇, die annualisierte Standardabweichung $𝜎=h^{T}Vh$ und die Sharpe Ratio (𝜇 - rf) / 𝜎 des Portfolios und gibt die negative Sharpe Ratio aus, damit diese von der Minimierungsfunktion in **Funktion 2** maximiert werden kann."
   ]
  },
  {
   "cell_type": "code",
   "execution_count": null,
   "id": "f94564e2",
   "metadata": {},
   "outputs": [],
   "source": [
    "# Funktion 1\n",
    "def calc_neg_sharpe(weights, mean_returns, cov, rf):\n",
    "    portfolio_return = np.sum(weights * mean_returns) * 252\n",
    "    portfolio_std = np.sqrt(np.dot(np.dot(weights.T, cov), weights)) * np.sqrt(252)\n",
    "    sharpe_ratio = (portfolio_return - rf) / portfolio_std\n",
    "    return -sharpe_ratio\n",
    "\n",
    "# Funktion 2\n",
    "def max_sharpe_ratio(mean_returns, cov, rf):\n",
    "    num_assets = len(mean_returns)\n",
    "    args = (mean_returns, cov, rf)\n",
    "    constraints = ({'type': 'eq', 'fun': lambda x: np.sum(x) -1})\n",
    "    bound = (0.0, 1.0)\n",
    "    bounds = tuple(bound for asset in range(num_assets))\n",
    "    result = sco.minimize(calc_neg_sharpe, num_assets*[1/num_assets], args=args, \n",
    "                          method='SLSQP', bounds=bounds, constraints=constraints)\n",
    "    return result\n",
    "\n",
    "# Ausführen der Funktionen\n",
    "function_result = max_sharpe_ratio(insample_mean_returns, insample_cov, rf)\n",
    "#function_result"
   ]
  },
  {
   "cell_type": "code",
   "execution_count": null,
   "id": "1225b158",
   "metadata": {
    "scrolled": true
   },
   "outputs": [],
   "source": [
    "# Ergebnisse der Optimierung in DataFrame abspeichern\n",
    "insample_max_port_SharpeRatio = pd.DataFrame([round(x,2) for x in function_result['x']], index=tickers).T\n",
    "insample_max_port_SharpeRatio['Function Result'] = -function_result['fun'] #hier Vorzeichen wieder umkehren!\n",
    "insample_max_port_SharpeRatio"
   ]
  },
  {
   "cell_type": "markdown",
   "id": "b4896728",
   "metadata": {},
   "source": [
    "**1.4 Vergleich der Gewichtungen der drei Strategien**"
   ]
  },
  {
   "cell_type": "code",
   "execution_count": null,
   "id": "d9195c8e",
   "metadata": {
    "scrolled": true
   },
   "outputs": [],
   "source": [
    "# Zusammenfassung der Portfolios in einem DataFrame\n",
    "insample_portfolios = pd.concat([insample_min_port_variance, insample_min_port_VaR, insample_max_port_SharpeRatio], axis=0)\n",
    "insample_portfolios.index = ['Min Variance', 'Min VaR', 'Max Sharpe Ratio']\n",
    "insample_portfolios"
   ]
  },
  {
   "cell_type": "code",
   "execution_count": null,
   "id": "9379b4d1",
   "metadata": {
    "scrolled": true
   },
   "outputs": [],
   "source": [
    "# Dataframe nur mit Gewichtungen der Aktien\n",
    "insample_weights = insample_portfolios.drop(['Function Result'], axis=1)"
   ]
  },
  {
   "cell_type": "code",
   "execution_count": null,
   "id": "753bca4c",
   "metadata": {
    "scrolled": false
   },
   "outputs": [],
   "source": [
    "# 1997-2001\n",
    "plt.figure(figsize=(15,7))\n",
    "plt.plot(insample_weights.iloc[0].T, label='Min Variance')\n",
    "plt.plot(insample_weights.iloc[1].T, label='Value at Risk')\n",
    "plt.plot(insample_weights.iloc[2].T, label='Sharpe Ratio')\n",
    "plt.xlabel('asset')\n",
    "plt.ylabel('weight')\n",
    "plt.legend();"
   ]
  },
  {
   "cell_type": "markdown",
   "id": "92ea91a9",
   "metadata": {},
   "source": [
    "Beschreibung der Gewichtungen; Unterschiede & Ähnlichkeiten; ZF-Werte...\n",
    "\n",
    "Min VaR und Max Sharpe Ratio ähnliche Gewichtungen"
   ]
  },
  {
   "cell_type": "markdown",
   "id": "25939d1c",
   "metadata": {},
   "source": [
    "# 2. Buy-and-Hold Strategien (2002-2021)"
   ]
  },
  {
   "cell_type": "markdown",
   "id": "32f02565",
   "metadata": {},
   "source": [
    "Aufgabenstellung: Implementieren Sie Buy-and-Hold Strategien für Ihre drei Portfolios von 2002-2021 \n",
    "auf Grundlage der errechneten Gewichte Ihrer 15 Aktien. "
   ]
  },
  {
   "cell_type": "code",
   "execution_count": null,
   "id": "914359b3",
   "metadata": {},
   "outputs": [],
   "source": [
    "# DataFrame auf den Zeitraum des Testdatensatzes von 2002/01/01 - 2021/12/31 begrenzen\n",
    "outsample = returns.loc['2002-01-01':'2021-12-31']\n",
    "outsample"
   ]
  },
  {
   "cell_type": "markdown",
   "id": "e1835e1e",
   "metadata": {},
   "source": [
    "BaH-Strategie entwickeln..."
   ]
  },
  {
   "cell_type": "code",
   "execution_count": null,
   "id": "1f72fb86",
   "metadata": {},
   "outputs": [],
   "source": [
    "# Kumulierte Summen berechnen\n",
    "outsample_cumulated = outsample.cumsum() #Additivität\n",
    "\n",
    "# Returns der Strategien berechnen\n",
    "BaH_returns = pd.DataFrame(columns = ['Min Variance', 'Min VaR', 'Max Sharpe Ratio'], index=['Returns'])\n",
    "BaH_returns.loc['Returns'] = [np.sum(outsample_cumulated.iloc[-1] * insample_weights.iloc[i]) for i in range(len(insample_weights))]\n",
    "BaH_returns"
   ]
  },
  {
   "cell_type": "code",
   "execution_count": null,
   "id": "ece7afdc",
   "metadata": {},
   "outputs": [],
   "source": [
    "# BaH-Strategie mit minimum Variance Portfolio\n",
    "BaH_min_variance = insample_weights.iloc[0]*outsample_cumulated #Array mit Gewichtungen * kumuliertem Outsample Datensatz\n",
    "BaH_min_variance['Return'] = np.sum(BaH_min_variance, axis=1)\n",
    "\n",
    "# BaH-Strategie mit minimun VaR Portfolio\n",
    "BaH_min_VaR = insample_weights.iloc[1]*outsample_cumulated\n",
    "BaH_min_VaR['Return'] = np.sum(BaH_min_VaR, axis=1)\n",
    "\n",
    "# BaH-Strategie mit maximum Sharpe Ratio Portfolio\n",
    "BaH_max_SharpeRatio = insample_weights.iloc[2]*outsample_cumulated\n",
    "BaH_max_SharpeRatio['Return'] = np.sum(BaH_max_SharpeRatio, axis=1)"
   ]
  },
  {
   "cell_type": "code",
   "execution_count": null,
   "id": "aa6e7edb",
   "metadata": {},
   "outputs": [],
   "source": [
    "#BaH_min_variance\n",
    "#BaH_min_VaR\n",
    "#BaH_max_SharpeRatio"
   ]
  },
  {
   "cell_type": "markdown",
   "id": "2d9205c9",
   "metadata": {},
   "source": [
    "# 3. Diskussion der Portfolio-Performances "
   ]
  },
  {
   "cell_type": "markdown",
   "id": "53712806",
   "metadata": {},
   "source": [
    "Aufgabenstellung: Diskutieren Sie die Performance Ihrer drei Portfolios."
   ]
  },
  {
   "cell_type": "code",
   "execution_count": null,
   "id": "197712b6",
   "metadata": {},
   "outputs": [],
   "source": [
    "# Renditen der Strategien am 2021/12/31\n",
    "BaH = pd.concat(x.iloc[-1:] for x in [BaH_min_variance, BaH_min_VaR, BaH_max_SharpeRatio])\n",
    "BaH.index = ['Min Variance', 'Min VaR', 'Max Sharpe Ratio']\n",
    "BaH #für jedes Portfolio Var, VaR, Sharpe Ratio"
   ]
  },
  {
   "cell_type": "code",
   "execution_count": null,
   "id": "95734d9d",
   "metadata": {
    "scrolled": false
   },
   "outputs": [],
   "source": [
    "# Plot\n",
    "plt.figure(figsize=(15,7))\n",
    "plt.plot(BaH_min_variance['Return'], label = 'Min Varianz Portfolio')\n",
    "plt.plot(BaH_min_VaR['Return'], label = 'Min Value at Risk Portfolio')\n",
    "plt.plot(BaH_max_SharpeRatio['Return'], label = 'Max Sharpe Ratio Portfolio')\n",
    "plt.xlabel('year')\n",
    "plt.ylabel('returns')\n",
    "plt.grid()\n",
    "plt.legend();"
   ]
  },
  {
   "cell_type": "markdown",
   "id": "fd919402",
   "metadata": {},
   "source": [
    "**Diskussion:**\n",
    "- Beste Strategie\n",
    "- langfrisitger Trend\n",
    "- Finanzkrise 2008 und Corona Krise 2020 erkennbar\n",
    "- welche Strategie am besten in Krisen?\n",
    "- Vergleich zur Benchmark\n",
    "\n",
    "- Min Variance in Krisenzeiten stärker (Risikominimierung!), aber in den Wachstumsphasen Min VaR und Max Sharpe Ratio besser"
   ]
  },
  {
   "cell_type": "code",
   "execution_count": null,
   "id": "1f544f44",
   "metadata": {},
   "outputs": [],
   "source": []
  },
  {
   "cell_type": "markdown",
   "id": "fe52b596",
   "metadata": {},
   "source": [
    "# 4. Vergleich der Strategien mit einem gleichgewichteten Portfolio und Grafische Darstellung der Strategien (2002-2021)"
   ]
  },
  {
   "cell_type": "markdown",
   "id": "04e2ee72",
   "metadata": {},
   "source": [
    "Aufgabenstellung: Erstellen Sie eine Grafik für den Zeitraum 2002-2021, welche den Kursverlauf Ihrer \n",
    "drei Portfoliostrategien einem gleichgewichteten Portfolio aus den 15 Aktien als \n",
    "Benchmark gegenüberstellt."
   ]
  },
  {
   "cell_type": "code",
   "execution_count": null,
   "id": "77b84a2b",
   "metadata": {},
   "outputs": [],
   "source": [
    "# Erstellen der BaH-Strategie mit einem gleichgewichteten Portfolio\n",
    "BaH_eq_weights = (1/len(tickers)) * outsample_cumulated\n",
    "BaH_eq_weights['Return'] = np.sum(BaH_eq_weights, axis=1)\n",
    "\n",
    "# Return des gleichgewichteten Portfolios\n",
    "BaH_eq_weights.iloc[-1,-1]"
   ]
  },
  {
   "cell_type": "code",
   "execution_count": null,
   "id": "54dc0aec",
   "metadata": {},
   "outputs": [],
   "source": [
    "plt.figure(figsize=(15,7))\n",
    "plt.plot(BaH_min_variance['Return'], label = 'Min Varianz Portfolio')\n",
    "plt.plot(BaH_min_VaR['Return'], label = 'Min Value at Risk Portfolio')\n",
    "plt.plot(BaH_max_SharpeRatio['Return'], label = 'Max Sharpe Ratio Portfolio')\n",
    "plt.plot(BaH_eq_weights['Return'], label = 'Gleichgewichtetes Portfolio')\n",
    "plt.xlabel('year')\n",
    "plt.ylabel('returns')\n",
    "plt.grid()\n",
    "plt.legend();"
   ]
  },
  {
   "cell_type": "markdown",
   "id": "04247042",
   "metadata": {},
   "source": [
    "**Diskussion:**\n",
    "- Strategien oder Benchmark besser?\n",
    "- langfrisitger Trend\n",
    "- Finanzkrise 2008 und Corona Krise 2020"
   ]
  },
  {
   "cell_type": "code",
   "execution_count": null,
   "id": "a193af68",
   "metadata": {},
   "outputs": [],
   "source": []
  },
  {
   "cell_type": "markdown",
   "id": "3a02a3cb",
   "metadata": {},
   "source": [
    "# 5. Portfolios mit min. Varianz, min. VaR und max. Sharpe Ratio (2017-2021)"
   ]
  },
  {
   "cell_type": "markdown",
   "id": "20a9853f",
   "metadata": {},
   "source": [
    "Aufgabenstellung: Berechnen Sie die Portfolios mit der minimalen Varianz, dem minimalen VaR und der \n",
    "maximalen Sharpe Ratio nun für den Zeitraum von 2017-2021 und vergleichen Sie die \n",
    "Portfoliogewichte mit den Ihren."
   ]
  },
  {
   "cell_type": "code",
   "execution_count": null,
   "id": "5084c325",
   "metadata": {},
   "outputs": [],
   "source": [
    "# Testdatensatz auf den gekürzten Zeitraum von 2017/01/01 - 2021/12/31 begrenzen\n",
    "outsample_shorted = outsample.loc['2017-01-01':'2021-12-31']\n",
    "#outsample_shorted"
   ]
  },
  {
   "cell_type": "code",
   "execution_count": null,
   "id": "61c5b664",
   "metadata": {},
   "outputs": [],
   "source": [
    "# Berechnung der Varianz-Covarianz-Matrix und mitteleren Renditen; alpha-Quantil, Zeithorizont und risikoloser Zins wie vorher (siehe 1.2 & 1.3)\n",
    "outsample_shorted_cov = outsample_shorted.cov()\n",
    "outsample_shorted_mean_returns = outsample_shorted.mean()"
   ]
  },
  {
   "cell_type": "markdown",
   "id": "d7d26928",
   "metadata": {},
   "source": [
    "**5.1 Bestimmung des Portfolios mit minimaler Varianz**"
   ]
  },
  {
   "cell_type": "code",
   "execution_count": null,
   "id": "1073e0a8",
   "metadata": {},
   "outputs": [],
   "source": [
    "# Ausführen der Funktionen aus Kapitel 1.1\n",
    "function_result = min_variance(outsample_shorted_cov)\n",
    "#function_result"
   ]
  },
  {
   "cell_type": "code",
   "execution_count": null,
   "id": "d8f27b4d",
   "metadata": {},
   "outputs": [],
   "source": [
    "# Ergebnisse der Optimierung in DataFrame abspeichern\n",
    "outsample_shorted_min_port_variance = pd.DataFrame([round(x,2) for x in function_result['x']], index=tickers).T\n",
    "outsample_shorted_min_port_variance['Function Result'] = function_result['fun']\n",
    "outsample_shorted_min_port_variance"
   ]
  },
  {
   "cell_type": "markdown",
   "id": "83af8c82",
   "metadata": {},
   "source": [
    "**5.2 Bestimmung des Portfolios mit minimalem Value at Risk (VaR)**"
   ]
  },
  {
   "cell_type": "code",
   "execution_count": null,
   "id": "7b13c04a",
   "metadata": {},
   "outputs": [],
   "source": [
    "# Ausführen der Funktionen aus Kapitel 1.2\n",
    "function_result = min_VaR(outsample_shorted_mean_returns, outsample_shorted_cov, alpha, days)\n",
    "#function_result"
   ]
  },
  {
   "cell_type": "code",
   "execution_count": null,
   "id": "af1d7f62",
   "metadata": {},
   "outputs": [],
   "source": [
    "# Ergebnisse der Optimierung in DataFrame abspeichern\n",
    "outsample_shorted_min_port_VaR = pd.DataFrame([round(x,2) for x in function_result['x']], index=tickers).T\n",
    "outsample_shorted_min_port_VaR['Function Result'] = function_result['fun']\n",
    "outsample_shorted_min_port_VaR"
   ]
  },
  {
   "cell_type": "markdown",
   "id": "db573436",
   "metadata": {},
   "source": [
    "**5.3 Bestimmung des Portfolios mit maximaler Sharpe Ratio (𝜇 - 𝜎 effizientes Portfolio)**"
   ]
  },
  {
   "cell_type": "code",
   "execution_count": null,
   "id": "0c75eafc",
   "metadata": {},
   "outputs": [],
   "source": [
    "# Ausführen der Funktionen aus Kapitel 1.3\n",
    "function_result = max_sharpe_ratio(outsample_shorted_mean_returns, outsample_shorted_cov, rf)\n",
    "#function_result"
   ]
  },
  {
   "cell_type": "code",
   "execution_count": null,
   "id": "deef7f30",
   "metadata": {},
   "outputs": [],
   "source": [
    "# Ergebnisse der Optimierung in DataFrame abspeichern\n",
    "outsample_shorted_max_port_SharpeRatio = pd.DataFrame([round(x,2) for x in function_result['x']], index=tickers).T\n",
    "outsample_shorted_max_port_SharpeRatio['Function Result'] = -function_result['fun']\n",
    "outsample_shorted_max_port_SharpeRatio"
   ]
  },
  {
   "cell_type": "markdown",
   "id": "fdd20bc6",
   "metadata": {},
   "source": [
    "**5.4 Vergleich der Gewichtungen der drei Strategien von 1997-2001 und 2017-2021**"
   ]
  },
  {
   "cell_type": "code",
   "execution_count": null,
   "id": "5a194870",
   "metadata": {},
   "outputs": [],
   "source": [
    "# Zusammenfassung der Portfolios in einem DataFrame\n",
    "outsample_portfolios = pd.concat([outsample_shorted_min_port_variance, outsample_shorted_min_port_VaR, outsample_shorted_max_port_SharpeRatio], axis=0)\n",
    "outsample_portfolios.index = ['Min Variance', 'Min VaR', 'Max Sharpe Ratio']\n",
    "\n",
    "# Gegenüberstellung der Gewichtungen (nachher - vorher)\n",
    "outsample_portfolios - insample_portfolios"
   ]
  },
  {
   "cell_type": "markdown",
   "id": "ef4e2991",
   "metadata": {},
   "source": [
    "Veränderungen in den Funktionsergebnissen: ..."
   ]
  },
  {
   "cell_type": "code",
   "execution_count": null,
   "id": "03bb8c67",
   "metadata": {},
   "outputs": [],
   "source": [
    "# Dataframe nur mit Gewichtungen der Aktien\n",
    "outsample_weights = outsample_portfolios.drop(['Function Result'], axis=1)\n",
    "#outsample_weights"
   ]
  },
  {
   "cell_type": "code",
   "execution_count": null,
   "id": "bce659ef",
   "metadata": {},
   "outputs": [],
   "source": [
    "# Min Varinaz\n",
    "plt.figure(figsize=(15,7))\n",
    "plt.plot(insample_weights.iloc[0].T, label='1997-2001')\n",
    "plt.plot(outsample_weights.iloc[0].T, label='2017-2021')\n",
    "plt.xlabel('asset')\n",
    "plt.ylabel('weight')\n",
    "plt.legend();"
   ]
  },
  {
   "cell_type": "code",
   "execution_count": null,
   "id": "97b6f563",
   "metadata": {},
   "outputs": [],
   "source": [
    "# Min Value at Risk\n",
    "plt.figure(figsize=(15,7))\n",
    "plt.plot(insample_weights.iloc[1].T, label='1997-2001')\n",
    "plt.plot(outsample_weights.iloc[1].T, label='2017-2021')\n",
    "plt.xlabel('asset')\n",
    "plt.ylabel('weight')\n",
    "plt.legend();"
   ]
  },
  {
   "cell_type": "code",
   "execution_count": null,
   "id": "4a8c9702",
   "metadata": {},
   "outputs": [],
   "source": [
    "# Max Sharpe Ratio\n",
    "plt.figure(figsize=(15,7))\n",
    "plt.plot(insample_weights.iloc[2].T, label='1997-2001')\n",
    "plt.plot(outsample_weights.iloc[2].T, label='2017-2021')\n",
    "plt.xlabel('asset')\n",
    "plt.ylabel('weight')\n",
    "plt.legend();"
   ]
  },
  {
   "cell_type": "code",
   "execution_count": null,
   "id": "6897ff91",
   "metadata": {
    "scrolled": false
   },
   "outputs": [],
   "source": [
    "# 2017-2021\n",
    "plt.figure(figsize=(15,7))\n",
    "plt.plot(outsample_weights.iloc[0].T, label='Min Variance')\n",
    "plt.plot(outsample_weights.iloc[1].T, label='Value at Risk')\n",
    "plt.plot(outsample_weights.iloc[2].T, label='Sharpe Ratio')\n",
    "plt.xlabel('asset')\n",
    "plt.ylabel('weight')\n",
    "plt.legend();"
   ]
  },
  {
   "cell_type": "markdown",
   "id": "44d18b2f",
   "metadata": {},
   "source": [
    "Veränderungen in den Gewichtungen je Strategie: ..."
   ]
  },
  {
   "cell_type": "markdown",
   "id": "181b296f",
   "metadata": {},
   "source": [
    "# 6 Verbesserungsmöglichkeiten der Strategien"
   ]
  },
  {
   "cell_type": "markdown",
   "id": "f6af9e48",
   "metadata": {},
   "source": [
    "Aufgabenstellung: Wie würden Sie die Implementierung Ihrer Portfoliostrategie noch verbessern? Was \n",
    "könnten Sie noch beachten?"
   ]
  },
  {
   "cell_type": "markdown",
   "id": "cf671f62",
   "metadata": {},
   "source": [
    "- verschiedene Asset-Klassen (Assets mit minimaler Covarianz - am besten Null)\n",
    "- Aus 30 Assets die 15 mit den geringsten Covarianzen auswählen\n",
    "- anderes alpha-Quantil bei min VaR-Strategie\n",
    "- Benchmark einführen (z.B. S&P500) - Gleichgewichtetes Portfolio bereits als Benchmark\n",
    "- Semivarianz bzw. Downside-Risk anstelle der Standardabweichung (evtl hier ausführen)\n",
    "- Sortino-Ratio anstelle Sharpe \n",
    "Ratio (evtl hier ausführen)\n",
    "- Für kurze Prognosehorizonte Mean Reversion (evtl hier ausführen) oder für lange Prognosehorizonte Moving Average\n",
    "  Crossover (Master-Aufgabe) anstelle einer Buy-and-Hold-Strategie\n",
    "- Rebalancing der Portfoliogewichte\n",
    "- 𝜇 und 𝜎 nicht auf Basis historischer Daten schätzen\n",
    "\n",
    "Vereinfachende Annahmen\n",
    "- Risikolosen Zins beachten\n",
    "- keine Standardnormalverteilung bei Value at Risk"
   ]
  },
  {
   "cell_type": "code",
   "execution_count": null,
   "id": "0847180d",
   "metadata": {},
   "outputs": [],
   "source": []
  },
  {
   "cell_type": "code",
   "execution_count": null,
   "id": "5b322711",
   "metadata": {},
   "outputs": [],
   "source": []
  },
  {
   "cell_type": "markdown",
   "id": "94514ee7",
   "metadata": {},
   "source": [
    "# MA-Alternative 1:\n",
    "# 7.1 Momentum-Strategie"
   ]
  },
  {
   "cell_type": "markdown",
   "id": "7c1b953b",
   "metadata": {},
   "source": [
    "MA-Alternative 1: Entwickeln Sie für Ihre 15 Aktien eine Momentum Strategie auf Monats\u0002ebene. Diese ist wie folgt aufgebaut: Sie investieren in das Terzil der Unternehmen mit der \n",
    "höchsten Rendite des Vormonats. Diese 5 Unternehmen halten Sie bis zum Ende des darauffol\u0002genden Monats. Zum Monatsende erfolgt somit immer eine Portfolioumschichtung, wobei die \n",
    "Unternehmen mit der höchsten Rendite im vergangen Monat gekauft werden. Funktioniert \n",
    "diese Strategie? Beurteilen Sie die Performance. Ihre Präsentation sollte 30 Minuten dauern (20 \n",
    "Minuten Präsentation + 10 Minuten Q&A)."
   ]
  },
  {
   "cell_type": "code",
   "execution_count": null,
   "id": "2b6d6471",
   "metadata": {},
   "outputs": [],
   "source": [
    "# Frequency im Zeitindex auf 'Businessdays' festlegen\n",
    "Adj_Close = Adj_Close.asfreq('B')\n",
    "returns = returns.asfreq('B')"
   ]
  },
  {
   "cell_type": "code",
   "execution_count": null,
   "id": "09aad6ad",
   "metadata": {},
   "outputs": [],
   "source": [
    "# Max Return optimales Portfolio des Terzils mit der höchsten Rendite im Vormonat berechnen\n",
    "# Funktion 1\n",
    "def calc_neg_return(weights, mean_returns):\n",
    "    portfolio_return = np.sum(weights * mean_returns) * 252\n",
    "    return -portfolio_return\n",
    "\n",
    "# Funktion 2\n",
    "def max_return(mean_returns):\n",
    "    num_assets = len(mean_returns)\n",
    "    args = (mean_returns)\n",
    "    constraints = ({'type': 'eq', 'fun': lambda x: np.sum(x) -1})\n",
    "    bound = (0.0, 1.0)\n",
    "    bounds = tuple(bound for asset in range(num_assets))\n",
    "    result = sco.minimize(calc_neg_sharpe, num_assets*[1/num_assets], args=args, \n",
    "                          method='SLSQP', bounds=bounds, constraints=constraints)\n",
    "    return result.x\n",
    "\n",
    "# Ausführen der Funktionen\n",
    "function_result = max_return(insample_mean_returns)\n",
    "#function_result"
   ]
  },
  {
   "cell_type": "code",
   "execution_count": null,
   "id": "eafb05cf",
   "metadata": {},
   "outputs": [],
   "source": [
    "# Monatliche Logreturns berechnen\n",
    "montly_returns = returns.resample('M').sum()\n",
    "\n",
    "def monthly_weights(monthly_returns):\n",
    "    empty_list = list()\n",
    "    for i in range(len(monthly_returns)):\n",
    "        x = np.zeros(len(tickers))\n",
    "        monthly_top5_returns = [monthly_returns.iloc[i].idxmax(5)\n",
    "        #monthly_top5_tickers = tickers[monthly_top5_returns]\n",
    "        \n",
    "        monthly_top5_mean_returns = [returns * x]\n",
    "        \n",
    "                                \n",
    "        # Max Return Portfolio Funktion ausführen\n",
    "        w = max_return(monthly_top5_mean_returns)\n",
    "        empty_list.append(w)\n",
    "\n",
    "# Oberes Terzil der 15 Aktien pro Monat herausfiltern\n",
    "monthly_returns.sort(axis=1) for i in range(len(monthly_returns))"
   ]
  },
  {
   "cell_type": "code",
   "execution_count": null,
   "id": "1a5faf81",
   "metadata": {},
   "outputs": [],
   "source": [
    "# Tägliche Gewichte berechnen\n",
    " #10 Aktien immer mit 0 gewichtet und Max Return opt. Portfolio auf oberes Terzil des vergangenen Monats\n",
    "\n",
    "# \n",
    "\n",
    "\n",
    "\n",
    "# Optimale Gewichte in täglichen Gewichtsvektor eintragen"
   ]
  },
  {
   "cell_type": "code",
   "execution_count": null,
   "id": "f71921c9",
   "metadata": {},
   "outputs": [],
   "source": []
  },
  {
   "cell_type": "code",
   "execution_count": null,
   "id": "14c5b78c",
   "metadata": {},
   "outputs": [],
   "source": []
  },
  {
   "cell_type": "code",
   "execution_count": null,
   "id": "7f28794e",
   "metadata": {},
   "outputs": [],
   "source": []
  },
  {
   "cell_type": "code",
   "execution_count": null,
   "id": "cc3dae0c",
   "metadata": {},
   "outputs": [],
   "source": []
  },
  {
   "cell_type": "markdown",
   "id": "c8797f98",
   "metadata": {},
   "source": [
    "- Strategie basiert auf Max der Rendite, hohes Risiko\n",
    "- Brutto Renditen, monatliches Traden"
   ]
  },
  {
   "cell_type": "markdown",
   "id": "a5881c88",
   "metadata": {},
   "source": [
    "# MA-Alternative 2: \n",
    "# 7.2 Short-Selling"
   ]
  },
  {
   "cell_type": "markdown",
   "id": "3a64f508",
   "metadata": {},
   "source": [
    "MA-Alternative 2: Erlauben Sie nun bei der Festlegung der Gewichte im Zeitraum 1997-2001 \n",
    "auch Short-Selling. Wie beurteilen Sie die Performance der Portfolios für den Zeitraum von \n",
    "2002-2021. Ist Short-Selling in diesem Zusammenhang und über solch einen Zeitraum sinn\u0002voll? Ihre Präsentation sollte 30 Minuten dauern (20 Minuten Präsentation + 10 Minuten Q&A). "
   ]
  },
  {
   "cell_type": "code",
   "execution_count": null,
   "id": "3574bb2d",
   "metadata": {},
   "outputs": [],
   "source": [
    "# Parameter wie in Kapiel 1\n",
    "insample_cov = insample.cov()\n",
    "insample_mean_returns = insample.mean()\n",
    "alpha = 0.05\n",
    "days = 252\n",
    "rf = 0"
   ]
  },
  {
   "cell_type": "code",
   "execution_count": null,
   "id": "f8ebf8f6",
   "metadata": {
    "scrolled": true
   },
   "outputs": [],
   "source": [
    "#insample_cov"
   ]
  },
  {
   "cell_type": "markdown",
   "id": "569049bd",
   "metadata": {},
   "source": [
    "**7.2.1 Bestimmung des Portfolios mit minimaler Varianz**"
   ]
  },
  {
   "cell_type": "code",
   "execution_count": null,
   "id": "f2d112a6",
   "metadata": {
    "scrolled": false
   },
   "outputs": [],
   "source": [
    "# Funktion 1\n",
    "def calc_portfolio_std(weights, cov):\n",
    "    portfolio_std = np.sqrt(np.dot(np.dot(weights.T, cov), weights)) * np.sqrt(252) #h=15x1 Matrix-> [h.transpose * cov] * h = [1x15 * 15x15] * 15x1 = 1x15 * 15x1 = 1x1\n",
    "    return portfolio_std\n",
    "\n",
    "# Funktion 2\n",
    "def min_variance(cov):\n",
    "    num_assets = len(cov)\n",
    "    args = cov\n",
    "    constraints = ({'type': 'eq', 'fun': lambda x: np.sum(x) - 1}) #Nebenbedingung; ; eq für equality -> Gleichung != 0; np.sum(weights) - 1 = 0 (Summe der Gewichte müssen 1 ergeben und Gleichung muss gleich Null sein!)\n",
    "    bound = (-1.0, 1.0)\n",
    "    bounds = tuple(bound for assets in range(num_assets))\n",
    "    result = sco.minimize(calc_portfolio_std, num_assets*[1/num_assets], args=args, \n",
    "                         method='SLSQP', bounds=bounds, constraints=constraints)\n",
    "    return result\n",
    "\n",
    "# Ausführen der Funktionen\n",
    "function_result = min_variance(insample_cov) #fun: gibt den ZF-wert (Min Varinaz) an & x: gibt die Gewichtungen der einzelnen Aktien im Portfolio an\n",
    "#function_result#['x']"
   ]
  },
  {
   "cell_type": "code",
   "execution_count": null,
   "id": "91f78754",
   "metadata": {
    "scrolled": true
   },
   "outputs": [],
   "source": [
    "# Ergebnisse der Optimierung in DataFrame abspeichern\n",
    "insample_min_port_variance_shortselling = pd.DataFrame([round(x,2) for x in function_result['x']], index=tickers).T\n",
    "insample_min_port_variance_shortselling['Function Result'] = function_result['fun']"
   ]
  },
  {
   "cell_type": "markdown",
   "id": "5f9e11d7",
   "metadata": {},
   "source": [
    "**7.2.2 Bestimmung des Portfolios mit minimalem Value at Risk (VaR)**"
   ]
  },
  {
   "cell_type": "code",
   "execution_count": null,
   "id": "d854155b",
   "metadata": {
    "scrolled": true
   },
   "outputs": [],
   "source": [
    "# Funktion 1\n",
    "def calc_portfolio_VaR(weights, mean_returns, cov, alpha, days):\n",
    "    portfolio_return = np.sum(weights * mean_returns) * days #nur bei Logrenditen Addition möglich\n",
    "    portfolio_std = np.sqrt(np.dot(np.dot(weights.T, cov), weights)) * np.sqrt(days)\n",
    "    portfolio_VaR = abs(portfolio_return - (portfolio_std * stats.norm.ppf(1 - alpha))) #Erklären\n",
    "    return portfolio_VaR\n",
    "\n",
    "# Funktion 2\n",
    "def min_VaR(mean_returns, cov, alpha, days):\n",
    "    num_assets = len(mean_returns)\n",
    "    args = (mean_returns, cov, alpha ,days)\n",
    "    constraints = ({'type': 'eq', 'fun': lambda x: np.sum(x) - 1})\n",
    "    bound = (-1.0, 1.0)\n",
    "    bounds = tuple(bound for asset in range(num_assets))\n",
    "    result = sco.minimize(calc_portfolio_VaR, num_assets*[1/num_assets], args=args, \n",
    "                         method='SLSQP', bounds=bounds, constraints=constraints)\n",
    "    return result\n",
    "\n",
    "# Ausführen der Funktionen\n",
    "function_result = min_VaR(insample_mean_returns, insample_cov, alpha, days)\n",
    "#function_result"
   ]
  },
  {
   "cell_type": "code",
   "execution_count": null,
   "id": "1b02676e",
   "metadata": {},
   "outputs": [],
   "source": [
    "# Ergebnisse der Optimierung in DataFrame abspeichern\n",
    "insample_min_port_VaR_shortselling = pd.DataFrame([round(x,2) for x in function_result['x']], index=tickers).T\n",
    "insample_min_port_VaR_shortselling['Function Result'] = function_result['fun']"
   ]
  },
  {
   "cell_type": "markdown",
   "id": "2b6d65b7",
   "metadata": {},
   "source": [
    "**7.2.3 Bestimmung des Portfolios mit maximaler Sharpe Ratio (𝜇 - 𝜎 effizientes Portfolio)**"
   ]
  },
  {
   "cell_type": "code",
   "execution_count": null,
   "id": "d041e23d",
   "metadata": {
    "scrolled": true
   },
   "outputs": [],
   "source": [
    "# Funktion 1\n",
    "def calc_neg_sharpe(weights, mean_returns, cov, rf):\n",
    "    portfolio_return = np.sum(weights * mean_returns) * 252\n",
    "    portfolio_std = np.sqrt(np.dot(np.dot(weights.T, cov), weights)) * np.sqrt(252)\n",
    "    sharpe_ratio = (portfolio_return - rf) / portfolio_std\n",
    "    return -sharpe_ratio\n",
    "\n",
    "# Funktion 2\n",
    "def max_sharpe_ratio(mean_returns, cov, rf):\n",
    "    num_assets = len(mean_returns)\n",
    "    args = (mean_returns, cov, rf)\n",
    "    constraints = ({'type': 'eq', 'fun': lambda x: np.sum(x) -1})\n",
    "    bound = (-1.0, 1.0)\n",
    "    bounds = tuple(bound for asset in range(num_assets))\n",
    "    result = sco.minimize(calc_neg_sharpe, num_assets*[1/num_assets], args=args, \n",
    "                          method='SLSQP', bounds=bounds, constraints=constraints)\n",
    "    return result\n",
    "\n",
    "# Ausführen der Funktionen\n",
    "function_result = max_sharpe_ratio(insample_mean_returns, insample_cov, rf)\n",
    "#function_result"
   ]
  },
  {
   "cell_type": "code",
   "execution_count": null,
   "id": "688739f4",
   "metadata": {
    "scrolled": false
   },
   "outputs": [],
   "source": [
    "# Ergebnisse der Optimierung in DataFrame abspeichern\n",
    "insample_max_port_SharpeRatio_shortselling = pd.DataFrame([round(x,2) for x in function_result['x']], index=tickers).T\n",
    "insample_max_port_SharpeRatio_shortselling['Function Result'] = -function_result['fun'] #hier Vorzeichen wieder umkehren!"
   ]
  },
  {
   "cell_type": "markdown",
   "id": "ff0522ab",
   "metadata": {},
   "source": [
    "**7.2.4 Vergleich der Gewichtungen der drei Strategien**"
   ]
  },
  {
   "cell_type": "code",
   "execution_count": null,
   "id": "67ac338f",
   "metadata": {
    "scrolled": false
   },
   "outputs": [],
   "source": [
    "# Zusammenfassung der Portfolios in einem DataFrame\n",
    "insample_portfolios_shortselling = pd.concat([insample_min_port_variance_shortselling, insample_min_port_VaR_shortselling, insample_max_port_SharpeRatio_shortselling], axis=0)\n",
    "insample_portfolios_shortselling.index = ['Min Variance', 'Min VaR', 'Max Sharpe Ratio']\n",
    "insample_portfolios_shortselling"
   ]
  },
  {
   "cell_type": "code",
   "execution_count": null,
   "id": "c9809bf4",
   "metadata": {
    "scrolled": true
   },
   "outputs": [],
   "source": [
    "# Dataframe nur mit Gewichtungen der Aktien\n",
    "insample_weights_shortselling = insample_portfolios_shortselling.drop(['Function Result'], axis=1)"
   ]
  },
  {
   "cell_type": "code",
   "execution_count": null,
   "id": "9dddad22",
   "metadata": {
    "scrolled": false
   },
   "outputs": [],
   "source": [
    "# 1997-2001\n",
    "plt.figure(figsize=(15,7))\n",
    "plt.plot(insample_weights_shortselling.iloc[0].T, label='Min Variance')\n",
    "plt.plot(insample_weights_shortselling.iloc[1].T, label='Value at Risk')\n",
    "plt.plot(insample_weights_shortselling.iloc[2].T, label='Sharpe Ratio')\n",
    "plt.xlabel('asset')\n",
    "plt.ylabel('weight')\n",
    "plt.legend();"
   ]
  },
  {
   "cell_type": "markdown",
   "id": "87c6a2eb",
   "metadata": {},
   "source": [
    "bla bla bla..."
   ]
  },
  {
   "cell_type": "markdown",
   "id": "925eddfa",
   "metadata": {},
   "source": [
    "**7.2.5 Bewertung der Performance der drei Strategien gegenüber Aufgabe 1 (ohne Short-Selling)**"
   ]
  },
  {
   "cell_type": "code",
   "execution_count": null,
   "id": "a627c728",
   "metadata": {
    "scrolled": false
   },
   "outputs": [],
   "source": [
    "# Returns der Strategien berechnen\n",
    "BaH_returns_shortselling = pd.DataFrame(columns = ['Min Variance', 'Min VaR', 'Max Sharpe Ratio'], index=['Returns'])\n",
    "BaH_returns_shortselling.loc['Returns'] = [np.sum(outsample_cumulated.iloc[-1] * insample_weights_shortselling.iloc[i]) for i in range(len(insample_weights_shortselling))]\n",
    "BaH_returns_shortselling - BaH_returns"
   ]
  },
  {
   "cell_type": "markdown",
   "id": "041afc10",
   "metadata": {},
   "source": [
    "Verbesserung/Verschlechterung der Returns in der BaH-Strategie..."
   ]
  },
  {
   "cell_type": "markdown",
   "id": "0ac70af7",
   "metadata": {},
   "source": [
    "**7.2.6 Short-Selling über diesen Zeitraum sinnvoll?**"
   ]
  },
  {
   "cell_type": "markdown",
   "id": "924a3360",
   "metadata": {},
   "source": [
    "..."
   ]
  },
  {
   "cell_type": "code",
   "execution_count": null,
   "id": "739f604b",
   "metadata": {},
   "outputs": [],
   "source": []
  },
  {
   "cell_type": "code",
   "execution_count": null,
   "id": "f080c19b",
   "metadata": {},
   "outputs": [],
   "source": []
  }
 ],
 "metadata": {
  "kernelspec": {
   "display_name": "Python 3 (ipykernel)",
   "language": "python",
   "name": "python3"
  },
  "language_info": {
   "codemirror_mode": {
    "name": "ipython",
    "version": 3
   },
   "file_extension": ".py",
   "mimetype": "text/x-python",
   "name": "python",
   "nbconvert_exporter": "python",
   "pygments_lexer": "ipython3",
   "version": "3.9.7"
  }
 },
 "nbformat": 4,
 "nbformat_minor": 5
}
