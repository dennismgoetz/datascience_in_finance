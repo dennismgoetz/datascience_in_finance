{
 "cells": [
  {
   "cell_type": "markdown",
   "id": "c856cc8a",
   "metadata": {},
   "source": [
    "# Data Science in Finance mit Python - Final Case"
   ]
  },
  {
   "cell_type": "markdown",
   "id": "0043bf82",
   "metadata": {},
   "source": [
    "### Michael Betz und Dennis Götz"
   ]
  },
  {
   "cell_type": "markdown",
   "id": "549f36a7",
   "metadata": {},
   "source": [
    "**Aufgabenstellung für Bachelor- und Master-Studenten:**\n",
    "1. Wählen Sie 15 Unternehmen aus, die bereits seit 1997 an der Börse gelistet sind. Bestimmen Sie für Ihre 15 Aktien die Portfolios mit der minimalen Varianz, dem minimalen VaR und der maximalen Sharpe Ratio. Nutzen Sie dafür Tagesdaten Ihrer 15 Aktien von 1997-2001.\n",
    "2. Implementieren Sie Buy-and-Hold Strategien für Ihre drei Portfolios von 2002-2021 \n",
    "auf Grundlage der errechneten Gewichte Ihrer 15 Aktien.\n",
    "3. Diskutieren Sie die Performance Ihrer drei Portfolios.\n",
    "4. Erstellen Sie eine Grafik für den Zeitraum 2002-2021, welche den Kursverlauf Ihrer \n",
    "drei Portfoliostrategien einem gleichgewichteten Portfolio aus den 15 Aktien als \n",
    "Benchmark gegenüberstellt.\n",
    "5. Berechnen Sie die Portfolios mit der minimalen Varianz, dem minimalen VaR und der \n",
    "maximalen Sharpe Ratio nun für den Zeitraum von 2017-2021 und vergleichen Sie die \n",
    "Portfoliogewichte mit den Ihren.\n",
    "6. Wie würden Sie die Implementierung Ihrer Portfoliostrategie noch verbessern? Was \n",
    "könnten Sie noch beachten?\n"
   ]
  },
  {
   "cell_type": "markdown",
   "id": "91684b56",
   "metadata": {},
   "source": [
    "Matrikelnummer: 272038"
   ]
  },
  {
   "cell_type": "markdown",
   "id": "2e0023bf",
   "metadata": {},
   "source": [
    "Name Teampartner: Betz Michael"
   ]
  },
  {
   "cell_type": "code",
   "execution_count": 1,
   "id": "e31d5fbe",
   "metadata": {},
   "outputs": [],
   "source": [
    "# Import der notwendigen Bibliotheken\n",
    "import pandas as pd\n",
    "import numpy as np\n",
    "import pandas_datareader.data as web\n",
    "import scipy.optimize as sco\n",
    "from scipy import stats\n",
    "from datetime import datetime\n",
    "import matplotlib.pyplot as plt\n",
    "%matplotlib inline\n",
    "\n",
    "import yfinance as yf"
   ]
  },
  {
   "cell_type": "markdown",
   "id": "f157ff9b",
   "metadata": {},
   "source": [
    "# 1. Portfolios mit min. Varianz, min. VaR und max. Sharpe Ratio (1997-2001)"
   ]
  },
  {
   "cell_type": "markdown",
   "id": "67be1b08",
   "metadata": {},
   "source": [
    "Aufgabenstellung: Wählen Sie 15 Unternehmen aus, die bereits seit 1997 an der Börse gelistet sind. Bestimmen Sie für Ihre 15 Aktien die Portfolios mit der **minimalen Varianz**, dem **minimalen VaR** und der **maximalen Sharpe Ratio**. Nutzen Sie dafür Tagesdaten Ihrer 15 Aktien von 1997-2001."
   ]
  },
  {
   "cell_type": "code",
   "execution_count": 2,
   "id": "d70c90c5",
   "metadata": {},
   "outputs": [
    {
     "name": "stdout",
     "output_type": "stream",
     "text": [
      "[*********************100%***********************]  15 of 15 completed\n"
     ]
    },
    {
     "data": {
      "text/plain": [
       "BTI     0\n",
       "CHD     0\n",
       "DTE     0\n",
       "JNJ     0\n",
       "K       0\n",
       "LMT     0\n",
       "MO      0\n",
       "NVO     0\n",
       "PEP     0\n",
       "RELX    0\n",
       "T       0\n",
       "TM      0\n",
       "VZ      0\n",
       "WM      0\n",
       "XOM     0\n",
       "dtype: int64"
      ]
     },
     "execution_count": 2,
     "metadata": {},
     "output_type": "execute_result"
    }
   ],
   "source": [
    "# Preise der 15 Aktien von 1997/01/01 - 2021/12/31 laden\n",
    "yf.pdr_override()\n",
    "tickers = sorted(['BTI', 'CHD', 'DTE', 'JNJ', 'K', 'LMT', 'MO', 'NVO', 'PEP', 'RELX', 'T', 'TM', 'VZ', 'WM', 'XOM'])\n",
    "start = '1997-01-01'\n",
    "end = '2021-12-31'\n",
    "\n",
    "Adj_Close = web.get_data_yahoo(tickers, start, end)['Adj Close']\n",
    "Adj_Close = pd.DataFrame(Adj_Close)\n",
    "Adj_Close.isna().sum()"
   ]
  },
  {
   "cell_type": "code",
   "execution_count": 3,
   "id": "de6302db",
   "metadata": {},
   "outputs": [
    {
     "data": {
      "text/html": [
       "<div>\n",
       "<style scoped>\n",
       "    .dataframe tbody tr th:only-of-type {\n",
       "        vertical-align: middle;\n",
       "    }\n",
       "\n",
       "    .dataframe tbody tr th {\n",
       "        vertical-align: top;\n",
       "    }\n",
       "\n",
       "    .dataframe thead th {\n",
       "        text-align: right;\n",
       "    }\n",
       "</style>\n",
       "<table border=\"1\" class=\"dataframe\">\n",
       "  <thead>\n",
       "    <tr style=\"text-align: right;\">\n",
       "      <th></th>\n",
       "      <th>BTI</th>\n",
       "      <th>CHD</th>\n",
       "      <th>DTE</th>\n",
       "      <th>JNJ</th>\n",
       "      <th>K</th>\n",
       "      <th>LMT</th>\n",
       "      <th>MO</th>\n",
       "      <th>NVO</th>\n",
       "      <th>PEP</th>\n",
       "      <th>RELX</th>\n",
       "      <th>T</th>\n",
       "      <th>TM</th>\n",
       "      <th>VZ</th>\n",
       "      <th>WM</th>\n",
       "      <th>XOM</th>\n",
       "    </tr>\n",
       "    <tr>\n",
       "      <th>Date</th>\n",
       "      <th></th>\n",
       "      <th></th>\n",
       "      <th></th>\n",
       "      <th></th>\n",
       "      <th></th>\n",
       "      <th></th>\n",
       "      <th></th>\n",
       "      <th></th>\n",
       "      <th></th>\n",
       "      <th></th>\n",
       "      <th></th>\n",
       "      <th></th>\n",
       "      <th></th>\n",
       "      <th></th>\n",
       "      <th></th>\n",
       "    </tr>\n",
       "  </thead>\n",
       "  <tbody>\n",
       "    <tr>\n",
       "      <th>1997-01-03</th>\n",
       "      <td>0.011517</td>\n",
       "      <td>-0.005540</td>\n",
       "      <td>-0.003854</td>\n",
       "      <td>0.010000</td>\n",
       "      <td>0.011428</td>\n",
       "      <td>0.002805</td>\n",
       "      <td>0.013364</td>\n",
       "      <td>0.005540</td>\n",
       "      <td>0.008439</td>\n",
       "      <td>0.000000</td>\n",
       "      <td>0.002373</td>\n",
       "      <td>-0.002186</td>\n",
       "      <td>-0.003739</td>\n",
       "      <td>-0.024592</td>\n",
       "      <td>0.002538</td>\n",
       "    </tr>\n",
       "    <tr>\n",
       "      <th>1997-01-06</th>\n",
       "      <td>0.007605</td>\n",
       "      <td>0.005540</td>\n",
       "      <td>-0.015565</td>\n",
       "      <td>0.007435</td>\n",
       "      <td>-0.005698</td>\n",
       "      <td>0.016667</td>\n",
       "      <td>0.002211</td>\n",
       "      <td>0.008253</td>\n",
       "      <td>-0.016949</td>\n",
       "      <td>0.000000</td>\n",
       "      <td>-0.004750</td>\n",
       "      <td>0.006543</td>\n",
       "      <td>-0.003752</td>\n",
       "      <td>-0.012526</td>\n",
       "      <td>0.013845</td>\n",
       "    </tr>\n",
       "    <tr>\n",
       "      <th>1997-01-07</th>\n",
       "      <td>0.000000</td>\n",
       "      <td>-0.005540</td>\n",
       "      <td>0.011696</td>\n",
       "      <td>0.002466</td>\n",
       "      <td>-0.007648</td>\n",
       "      <td>0.019100</td>\n",
       "      <td>-0.001105</td>\n",
       "      <td>0.008186</td>\n",
       "      <td>0.008510</td>\n",
       "      <td>-0.033448</td>\n",
       "      <td>-0.011976</td>\n",
       "      <td>-0.006543</td>\n",
       "      <td>-0.017062</td>\n",
       "      <td>0.049190</td>\n",
       "      <td>0.002497</td>\n",
       "    </tr>\n",
       "    <tr>\n",
       "      <th>1997-01-08</th>\n",
       "      <td>-0.007605</td>\n",
       "      <td>0.000000</td>\n",
       "      <td>-0.007782</td>\n",
       "      <td>0.007362</td>\n",
       "      <td>-0.005774</td>\n",
       "      <td>-0.037169</td>\n",
       "      <td>-0.003321</td>\n",
       "      <td>-0.013680</td>\n",
       "      <td>0.004228</td>\n",
       "      <td>0.006780</td>\n",
       "      <td>-0.005976</td>\n",
       "      <td>-0.011001</td>\n",
       "      <td>-0.016058</td>\n",
       "      <td>0.027615</td>\n",
       "      <td>-0.007509</td>\n",
       "    </tr>\n",
       "    <tr>\n",
       "      <th>1997-01-09</th>\n",
       "      <td>-0.007663</td>\n",
       "      <td>0.005540</td>\n",
       "      <td>-0.007843</td>\n",
       "      <td>0.007308</td>\n",
       "      <td>0.000000</td>\n",
       "      <td>0.005594</td>\n",
       "      <td>0.005528</td>\n",
       "      <td>0.000000</td>\n",
       "      <td>-0.012739</td>\n",
       "      <td>0.000000</td>\n",
       "      <td>-0.004914</td>\n",
       "      <td>-0.022372</td>\n",
       "      <td>0.005876</td>\n",
       "      <td>-0.015687</td>\n",
       "      <td>0.033357</td>\n",
       "    </tr>\n",
       "    <tr>\n",
       "      <th>...</th>\n",
       "      <td>...</td>\n",
       "      <td>...</td>\n",
       "      <td>...</td>\n",
       "      <td>...</td>\n",
       "      <td>...</td>\n",
       "      <td>...</td>\n",
       "      <td>...</td>\n",
       "      <td>...</td>\n",
       "      <td>...</td>\n",
       "      <td>...</td>\n",
       "      <td>...</td>\n",
       "      <td>...</td>\n",
       "      <td>...</td>\n",
       "      <td>...</td>\n",
       "      <td>...</td>\n",
       "    </tr>\n",
       "    <tr>\n",
       "      <th>2021-12-23</th>\n",
       "      <td>0.000270</td>\n",
       "      <td>0.001307</td>\n",
       "      <td>0.001028</td>\n",
       "      <td>0.001904</td>\n",
       "      <td>0.001433</td>\n",
       "      <td>0.011244</td>\n",
       "      <td>-0.003847</td>\n",
       "      <td>-0.013466</td>\n",
       "      <td>-0.001119</td>\n",
       "      <td>0.004087</td>\n",
       "      <td>0.003626</td>\n",
       "      <td>0.013255</td>\n",
       "      <td>-0.001707</td>\n",
       "      <td>0.007935</td>\n",
       "      <td>0.000492</td>\n",
       "    </tr>\n",
       "    <tr>\n",
       "      <th>2021-12-27</th>\n",
       "      <td>-0.002160</td>\n",
       "      <td>0.008305</td>\n",
       "      <td>0.008778</td>\n",
       "      <td>0.008404</td>\n",
       "      <td>0.006184</td>\n",
       "      <td>0.009350</td>\n",
       "      <td>0.001925</td>\n",
       "      <td>0.029085</td>\n",
       "      <td>0.009905</td>\n",
       "      <td>0.010922</td>\n",
       "      <td>-0.003626</td>\n",
       "      <td>0.011469</td>\n",
       "      <td>0.000000</td>\n",
       "      <td>0.011359</td>\n",
       "      <td>0.014157</td>\n",
       "    </tr>\n",
       "    <tr>\n",
       "      <th>2021-12-28</th>\n",
       "      <td>0.004585</td>\n",
       "      <td>-0.001795</td>\n",
       "      <td>0.007439</td>\n",
       "      <td>0.004000</td>\n",
       "      <td>0.010848</td>\n",
       "      <td>0.009858</td>\n",
       "      <td>0.012531</td>\n",
       "      <td>-0.007644</td>\n",
       "      <td>0.005177</td>\n",
       "      <td>0.003408</td>\n",
       "      <td>0.001613</td>\n",
       "      <td>-0.006205</td>\n",
       "      <td>0.000759</td>\n",
       "      <td>0.008209</td>\n",
       "      <td>-0.003237</td>\n",
       "    </tr>\n",
       "    <tr>\n",
       "      <th>2021-12-29</th>\n",
       "      <td>0.004029</td>\n",
       "      <td>0.007954</td>\n",
       "      <td>0.005460</td>\n",
       "      <td>0.007020</td>\n",
       "      <td>-0.000939</td>\n",
       "      <td>0.001469</td>\n",
       "      <td>0.000422</td>\n",
       "      <td>0.003424</td>\n",
       "      <td>0.003533</td>\n",
       "      <td>0.010768</td>\n",
       "      <td>-0.007279</td>\n",
       "      <td>-0.005808</td>\n",
       "      <td>-0.006852</td>\n",
       "      <td>0.007481</td>\n",
       "      <td>-0.008792</td>\n",
       "    </tr>\n",
       "    <tr>\n",
       "      <th>2021-12-30</th>\n",
       "      <td>-0.001609</td>\n",
       "      <td>0.004348</td>\n",
       "      <td>-0.000503</td>\n",
       "      <td>0.004420</td>\n",
       "      <td>0.000626</td>\n",
       "      <td>-0.001950</td>\n",
       "      <td>-0.003170</td>\n",
       "      <td>0.002605</td>\n",
       "      <td>-0.001736</td>\n",
       "      <td>-0.005831</td>\n",
       "      <td>0.005666</td>\n",
       "      <td>0.002175</td>\n",
       "      <td>-0.002103</td>\n",
       "      <td>-0.003914</td>\n",
       "      <td>-0.005905</td>\n",
       "    </tr>\n",
       "  </tbody>\n",
       "</table>\n",
       "<p>6291 rows × 15 columns</p>\n",
       "</div>"
      ],
      "text/plain": [
       "                 BTI       CHD       DTE       JNJ         K       LMT  \\\n",
       "Date                                                                     \n",
       "1997-01-03  0.011517 -0.005540 -0.003854  0.010000  0.011428  0.002805   \n",
       "1997-01-06  0.007605  0.005540 -0.015565  0.007435 -0.005698  0.016667   \n",
       "1997-01-07  0.000000 -0.005540  0.011696  0.002466 -0.007648  0.019100   \n",
       "1997-01-08 -0.007605  0.000000 -0.007782  0.007362 -0.005774 -0.037169   \n",
       "1997-01-09 -0.007663  0.005540 -0.007843  0.007308  0.000000  0.005594   \n",
       "...              ...       ...       ...       ...       ...       ...   \n",
       "2021-12-23  0.000270  0.001307  0.001028  0.001904  0.001433  0.011244   \n",
       "2021-12-27 -0.002160  0.008305  0.008778  0.008404  0.006184  0.009350   \n",
       "2021-12-28  0.004585 -0.001795  0.007439  0.004000  0.010848  0.009858   \n",
       "2021-12-29  0.004029  0.007954  0.005460  0.007020 -0.000939  0.001469   \n",
       "2021-12-30 -0.001609  0.004348 -0.000503  0.004420  0.000626 -0.001950   \n",
       "\n",
       "                  MO       NVO       PEP      RELX         T        TM  \\\n",
       "Date                                                                     \n",
       "1997-01-03  0.013364  0.005540  0.008439  0.000000  0.002373 -0.002186   \n",
       "1997-01-06  0.002211  0.008253 -0.016949  0.000000 -0.004750  0.006543   \n",
       "1997-01-07 -0.001105  0.008186  0.008510 -0.033448 -0.011976 -0.006543   \n",
       "1997-01-08 -0.003321 -0.013680  0.004228  0.006780 -0.005976 -0.011001   \n",
       "1997-01-09  0.005528  0.000000 -0.012739  0.000000 -0.004914 -0.022372   \n",
       "...              ...       ...       ...       ...       ...       ...   \n",
       "2021-12-23 -0.003847 -0.013466 -0.001119  0.004087  0.003626  0.013255   \n",
       "2021-12-27  0.001925  0.029085  0.009905  0.010922 -0.003626  0.011469   \n",
       "2021-12-28  0.012531 -0.007644  0.005177  0.003408  0.001613 -0.006205   \n",
       "2021-12-29  0.000422  0.003424  0.003533  0.010768 -0.007279 -0.005808   \n",
       "2021-12-30 -0.003170  0.002605 -0.001736 -0.005831  0.005666  0.002175   \n",
       "\n",
       "                  VZ        WM       XOM  \n",
       "Date                                      \n",
       "1997-01-03 -0.003739 -0.024592  0.002538  \n",
       "1997-01-06 -0.003752 -0.012526  0.013845  \n",
       "1997-01-07 -0.017062  0.049190  0.002497  \n",
       "1997-01-08 -0.016058  0.027615 -0.007509  \n",
       "1997-01-09  0.005876 -0.015687  0.033357  \n",
       "...              ...       ...       ...  \n",
       "2021-12-23 -0.001707  0.007935  0.000492  \n",
       "2021-12-27  0.000000  0.011359  0.014157  \n",
       "2021-12-28  0.000759  0.008209 -0.003237  \n",
       "2021-12-29 -0.006852  0.007481 -0.008792  \n",
       "2021-12-30 -0.002103 -0.003914 -0.005905  \n",
       "\n",
       "[6291 rows x 15 columns]"
      ]
     },
     "execution_count": 3,
     "metadata": {},
     "output_type": "execute_result"
    }
   ],
   "source": [
    "# Berechnung der Logrenditen (Vorteil der Additivität)\n",
    "returns = pd.DataFrame(np.diff(np.log(Adj_Close).T).T)\n",
    "returns.index = Adj_Close.index[1:]\n",
    "returns.columns = tickers\n",
    "returns\n",
    "\n",
    "# Alternativ\n",
    "#returns = pd.DataFrame(np.diff(np.log(Adj_Close.values).T).T)\n",
    "#returns = np.log(Adj_Close/Adj_Close.shift(1))\n",
    "#returns = np.log1p(Adj_Close.pct_change())"
   ]
  },
  {
   "cell_type": "markdown",
   "id": "026c8a87",
   "metadata": {},
   "source": [
    "Datensätze Adj Close und returns plotten; Verlauf der Assets über die Zeitreihe beobachten/beschreiben..."
   ]
  },
  {
   "cell_type": "code",
   "execution_count": 4,
   "id": "882188bf",
   "metadata": {},
   "outputs": [
    {
     "data": {
      "text/html": [
       "<div>\n",
       "<style scoped>\n",
       "    .dataframe tbody tr th:only-of-type {\n",
       "        vertical-align: middle;\n",
       "    }\n",
       "\n",
       "    .dataframe tbody tr th {\n",
       "        vertical-align: top;\n",
       "    }\n",
       "\n",
       "    .dataframe thead th {\n",
       "        text-align: right;\n",
       "    }\n",
       "</style>\n",
       "<table border=\"1\" class=\"dataframe\">\n",
       "  <thead>\n",
       "    <tr style=\"text-align: right;\">\n",
       "      <th></th>\n",
       "      <th>BTI</th>\n",
       "      <th>CHD</th>\n",
       "      <th>DTE</th>\n",
       "      <th>JNJ</th>\n",
       "      <th>K</th>\n",
       "      <th>LMT</th>\n",
       "      <th>MO</th>\n",
       "      <th>NVO</th>\n",
       "      <th>PEP</th>\n",
       "      <th>RELX</th>\n",
       "      <th>T</th>\n",
       "      <th>TM</th>\n",
       "      <th>VZ</th>\n",
       "      <th>WM</th>\n",
       "      <th>XOM</th>\n",
       "    </tr>\n",
       "    <tr>\n",
       "      <th>Date</th>\n",
       "      <th></th>\n",
       "      <th></th>\n",
       "      <th></th>\n",
       "      <th></th>\n",
       "      <th></th>\n",
       "      <th></th>\n",
       "      <th></th>\n",
       "      <th></th>\n",
       "      <th></th>\n",
       "      <th></th>\n",
       "      <th></th>\n",
       "      <th></th>\n",
       "      <th></th>\n",
       "      <th></th>\n",
       "      <th></th>\n",
       "    </tr>\n",
       "  </thead>\n",
       "  <tbody>\n",
       "    <tr>\n",
       "      <th>1997-01-03</th>\n",
       "      <td>0.011517</td>\n",
       "      <td>-0.005540</td>\n",
       "      <td>-0.003854</td>\n",
       "      <td>0.010000</td>\n",
       "      <td>0.011428</td>\n",
       "      <td>0.002805</td>\n",
       "      <td>0.013364</td>\n",
       "      <td>0.005540</td>\n",
       "      <td>0.008439</td>\n",
       "      <td>0.000000</td>\n",
       "      <td>0.002373</td>\n",
       "      <td>-0.002186</td>\n",
       "      <td>-0.003739</td>\n",
       "      <td>-0.024592</td>\n",
       "      <td>0.002538</td>\n",
       "    </tr>\n",
       "    <tr>\n",
       "      <th>1997-01-06</th>\n",
       "      <td>0.007605</td>\n",
       "      <td>0.005540</td>\n",
       "      <td>-0.015565</td>\n",
       "      <td>0.007435</td>\n",
       "      <td>-0.005698</td>\n",
       "      <td>0.016667</td>\n",
       "      <td>0.002211</td>\n",
       "      <td>0.008253</td>\n",
       "      <td>-0.016949</td>\n",
       "      <td>0.000000</td>\n",
       "      <td>-0.004750</td>\n",
       "      <td>0.006543</td>\n",
       "      <td>-0.003752</td>\n",
       "      <td>-0.012526</td>\n",
       "      <td>0.013845</td>\n",
       "    </tr>\n",
       "    <tr>\n",
       "      <th>1997-01-07</th>\n",
       "      <td>0.000000</td>\n",
       "      <td>-0.005540</td>\n",
       "      <td>0.011696</td>\n",
       "      <td>0.002466</td>\n",
       "      <td>-0.007648</td>\n",
       "      <td>0.019100</td>\n",
       "      <td>-0.001105</td>\n",
       "      <td>0.008186</td>\n",
       "      <td>0.008510</td>\n",
       "      <td>-0.033448</td>\n",
       "      <td>-0.011976</td>\n",
       "      <td>-0.006543</td>\n",
       "      <td>-0.017062</td>\n",
       "      <td>0.049190</td>\n",
       "      <td>0.002497</td>\n",
       "    </tr>\n",
       "    <tr>\n",
       "      <th>1997-01-08</th>\n",
       "      <td>-0.007605</td>\n",
       "      <td>0.000000</td>\n",
       "      <td>-0.007782</td>\n",
       "      <td>0.007362</td>\n",
       "      <td>-0.005774</td>\n",
       "      <td>-0.037169</td>\n",
       "      <td>-0.003321</td>\n",
       "      <td>-0.013680</td>\n",
       "      <td>0.004228</td>\n",
       "      <td>0.006780</td>\n",
       "      <td>-0.005976</td>\n",
       "      <td>-0.011001</td>\n",
       "      <td>-0.016058</td>\n",
       "      <td>0.027615</td>\n",
       "      <td>-0.007509</td>\n",
       "    </tr>\n",
       "    <tr>\n",
       "      <th>1997-01-09</th>\n",
       "      <td>-0.007663</td>\n",
       "      <td>0.005540</td>\n",
       "      <td>-0.007843</td>\n",
       "      <td>0.007308</td>\n",
       "      <td>0.000000</td>\n",
       "      <td>0.005594</td>\n",
       "      <td>0.005528</td>\n",
       "      <td>0.000000</td>\n",
       "      <td>-0.012739</td>\n",
       "      <td>0.000000</td>\n",
       "      <td>-0.004914</td>\n",
       "      <td>-0.022372</td>\n",
       "      <td>0.005876</td>\n",
       "      <td>-0.015687</td>\n",
       "      <td>0.033357</td>\n",
       "    </tr>\n",
       "    <tr>\n",
       "      <th>...</th>\n",
       "      <td>...</td>\n",
       "      <td>...</td>\n",
       "      <td>...</td>\n",
       "      <td>...</td>\n",
       "      <td>...</td>\n",
       "      <td>...</td>\n",
       "      <td>...</td>\n",
       "      <td>...</td>\n",
       "      <td>...</td>\n",
       "      <td>...</td>\n",
       "      <td>...</td>\n",
       "      <td>...</td>\n",
       "      <td>...</td>\n",
       "      <td>...</td>\n",
       "      <td>...</td>\n",
       "    </tr>\n",
       "    <tr>\n",
       "      <th>2001-12-24</th>\n",
       "      <td>0.008388</td>\n",
       "      <td>0.006921</td>\n",
       "      <td>0.005335</td>\n",
       "      <td>-0.004196</td>\n",
       "      <td>-0.002635</td>\n",
       "      <td>0.004122</td>\n",
       "      <td>0.012368</td>\n",
       "      <td>0.003551</td>\n",
       "      <td>0.002643</td>\n",
       "      <td>-0.033746</td>\n",
       "      <td>-0.005102</td>\n",
       "      <td>-0.007205</td>\n",
       "      <td>0.001060</td>\n",
       "      <td>-0.003180</td>\n",
       "      <td>0.012904</td>\n",
       "    </tr>\n",
       "    <tr>\n",
       "      <th>2001-12-26</th>\n",
       "      <td>0.009502</td>\n",
       "      <td>0.015586</td>\n",
       "      <td>0.001450</td>\n",
       "      <td>0.003525</td>\n",
       "      <td>0.002635</td>\n",
       "      <td>-0.000650</td>\n",
       "      <td>0.003014</td>\n",
       "      <td>0.037525</td>\n",
       "      <td>0.004052</td>\n",
       "      <td>0.001559</td>\n",
       "      <td>0.000511</td>\n",
       "      <td>0.007410</td>\n",
       "      <td>0.000000</td>\n",
       "      <td>0.009825</td>\n",
       "      <td>0.015268</td>\n",
       "    </tr>\n",
       "    <tr>\n",
       "      <th>2001-12-27</th>\n",
       "      <td>0.007067</td>\n",
       "      <td>0.004892</td>\n",
       "      <td>0.012956</td>\n",
       "      <td>0.005848</td>\n",
       "      <td>0.002628</td>\n",
       "      <td>0.005186</td>\n",
       "      <td>0.001504</td>\n",
       "      <td>-0.009804</td>\n",
       "      <td>-0.001012</td>\n",
       "      <td>0.045670</td>\n",
       "      <td>0.014466</td>\n",
       "      <td>0.006134</td>\n",
       "      <td>0.025313</td>\n",
       "      <td>0.015023</td>\n",
       "      <td>0.004786</td>\n",
       "    </tr>\n",
       "    <tr>\n",
       "      <th>2001-12-28</th>\n",
       "      <td>-0.007067</td>\n",
       "      <td>0.009340</td>\n",
       "      <td>-0.000715</td>\n",
       "      <td>-0.002669</td>\n",
       "      <td>-0.005263</td>\n",
       "      <td>0.008370</td>\n",
       "      <td>-0.012312</td>\n",
       "      <td>-0.001232</td>\n",
       "      <td>-0.007110</td>\n",
       "      <td>-0.018019</td>\n",
       "      <td>-0.005051</td>\n",
       "      <td>0.020777</td>\n",
       "      <td>-0.002896</td>\n",
       "      <td>0.005885</td>\n",
       "      <td>-0.000252</td>\n",
       "    </tr>\n",
       "    <tr>\n",
       "      <th>2001-12-31</th>\n",
       "      <td>0.004717</td>\n",
       "      <td>-0.009716</td>\n",
       "      <td>0.000477</td>\n",
       "      <td>-0.012777</td>\n",
       "      <td>-0.007283</td>\n",
       "      <td>-0.002568</td>\n",
       "      <td>-0.003484</td>\n",
       "      <td>-0.011159</td>\n",
       "      <td>-0.007367</td>\n",
       "      <td>0.009050</td>\n",
       "      <td>-0.008137</td>\n",
       "      <td>0.017219</td>\n",
       "      <td>-0.016923</td>\n",
       "      <td>-0.014622</td>\n",
       "      <td>-0.012139</td>\n",
       "    </tr>\n",
       "  </tbody>\n",
       "</table>\n",
       "<p>1256 rows × 15 columns</p>\n",
       "</div>"
      ],
      "text/plain": [
       "                 BTI       CHD       DTE       JNJ         K       LMT  \\\n",
       "Date                                                                     \n",
       "1997-01-03  0.011517 -0.005540 -0.003854  0.010000  0.011428  0.002805   \n",
       "1997-01-06  0.007605  0.005540 -0.015565  0.007435 -0.005698  0.016667   \n",
       "1997-01-07  0.000000 -0.005540  0.011696  0.002466 -0.007648  0.019100   \n",
       "1997-01-08 -0.007605  0.000000 -0.007782  0.007362 -0.005774 -0.037169   \n",
       "1997-01-09 -0.007663  0.005540 -0.007843  0.007308  0.000000  0.005594   \n",
       "...              ...       ...       ...       ...       ...       ...   \n",
       "2001-12-24  0.008388  0.006921  0.005335 -0.004196 -0.002635  0.004122   \n",
       "2001-12-26  0.009502  0.015586  0.001450  0.003525  0.002635 -0.000650   \n",
       "2001-12-27  0.007067  0.004892  0.012956  0.005848  0.002628  0.005186   \n",
       "2001-12-28 -0.007067  0.009340 -0.000715 -0.002669 -0.005263  0.008370   \n",
       "2001-12-31  0.004717 -0.009716  0.000477 -0.012777 -0.007283 -0.002568   \n",
       "\n",
       "                  MO       NVO       PEP      RELX         T        TM  \\\n",
       "Date                                                                     \n",
       "1997-01-03  0.013364  0.005540  0.008439  0.000000  0.002373 -0.002186   \n",
       "1997-01-06  0.002211  0.008253 -0.016949  0.000000 -0.004750  0.006543   \n",
       "1997-01-07 -0.001105  0.008186  0.008510 -0.033448 -0.011976 -0.006543   \n",
       "1997-01-08 -0.003321 -0.013680  0.004228  0.006780 -0.005976 -0.011001   \n",
       "1997-01-09  0.005528  0.000000 -0.012739  0.000000 -0.004914 -0.022372   \n",
       "...              ...       ...       ...       ...       ...       ...   \n",
       "2001-12-24  0.012368  0.003551  0.002643 -0.033746 -0.005102 -0.007205   \n",
       "2001-12-26  0.003014  0.037525  0.004052  0.001559  0.000511  0.007410   \n",
       "2001-12-27  0.001504 -0.009804 -0.001012  0.045670  0.014466  0.006134   \n",
       "2001-12-28 -0.012312 -0.001232 -0.007110 -0.018019 -0.005051  0.020777   \n",
       "2001-12-31 -0.003484 -0.011159 -0.007367  0.009050 -0.008137  0.017219   \n",
       "\n",
       "                  VZ        WM       XOM  \n",
       "Date                                      \n",
       "1997-01-03 -0.003739 -0.024592  0.002538  \n",
       "1997-01-06 -0.003752 -0.012526  0.013845  \n",
       "1997-01-07 -0.017062  0.049190  0.002497  \n",
       "1997-01-08 -0.016058  0.027615 -0.007509  \n",
       "1997-01-09  0.005876 -0.015687  0.033357  \n",
       "...              ...       ...       ...  \n",
       "2001-12-24  0.001060 -0.003180  0.012904  \n",
       "2001-12-26  0.000000  0.009825  0.015268  \n",
       "2001-12-27  0.025313  0.015023  0.004786  \n",
       "2001-12-28 -0.002896  0.005885 -0.000252  \n",
       "2001-12-31 -0.016923 -0.014622 -0.012139  \n",
       "\n",
       "[1256 rows x 15 columns]"
      ]
     },
     "execution_count": 4,
     "metadata": {},
     "output_type": "execute_result"
    }
   ],
   "source": [
    "# DataFrame auf den Zeitraum des Kalibrationsdatensatzes von 1997/01/01 - 2001/12/31 begrenzen\n",
    "insample = returns.loc['1997-01-01':'2001-12-31']\n",
    "insample"
   ]
  },
  {
   "cell_type": "markdown",
   "id": "505d7e06",
   "metadata": {},
   "source": [
    "Berechnung der notwendigen Eingabeparameter für die anschließenden Funktionen"
   ]
  },
  {
   "cell_type": "code",
   "execution_count": 5,
   "id": "f0b697e2",
   "metadata": {},
   "outputs": [],
   "source": [
    "# Berechnung der Varianz-Covarianz-Matrix, mittleren Renditen und Festlegung von Alpha-Quantil, Zeithorizont und risikolosem Zins\n",
    "insample_cov = insample.cov() #plot\n",
    "insample_mean_returns = insample.mean()\n",
    "alpha = 0.05\n",
    "days = 252\n",
    "rf = 0 #erklären"
   ]
  },
  {
   "cell_type": "code",
   "execution_count": 6,
   "id": "d932547d",
   "metadata": {},
   "outputs": [
    {
     "data": {
      "text/plain": [
       "0.011352107238208963"
      ]
     },
     "execution_count": 6,
     "metadata": {},
     "output_type": "execute_result"
    }
   ],
   "source": [
    "insample_cov #plot\n",
    "for i in range(len(insample_cov)):\n",
    "    insample_cov.iloc[i,i] = 0\n",
    "np.sum(np.sum(insample_cov))"
   ]
  },
  {
   "cell_type": "markdown",
   "id": "ab34093d",
   "metadata": {},
   "source": [
    "**1.1 Bestimmung des Portfolios mit minimaler Varianz**"
   ]
  },
  {
   "cell_type": "markdown",
   "id": "32c3985f",
   "metadata": {},
   "source": [
    "Wir entscheiden uns für die **Numerische Optimierung**, da diese genauer ist als die Monte-Carlo-Simulation, welche sich nur an das Miniumum/Maximum annähert.\n",
    "\n",
    "**Funktion 1** berechnet die annualisierte Standardabweichung $𝜎=h^{T}Vh$ des Portfolios und übergibt diese an die Minimierungsfunktion in **Funktion 2**.\n",
    "\n",
    "Die **Nebenbedingung** stellt sicher, dass die Summe der Gewichte im Portfolio gleich 1 ist."
   ]
  },
  {
   "cell_type": "code",
   "execution_count": 7,
   "id": "4e20cf30",
   "metadata": {},
   "outputs": [
    {
     "name": "stderr",
     "output_type": "stream",
     "text": [
      "C:\\Users\\Dennis\\AppData\\Local\\Temp/ipykernel_14316/1218523661.py:3: RuntimeWarning: invalid value encountered in sqrt\n",
      "  portfolio_std = np.sqrt(np.dot(np.dot(weights.T, cov), weights)) * np.sqrt(252) #h=15x1 Matrix-> [h.transpose * cov] * h = [1x15 * 15x15] * 15x1 = 1x15 * 15x1 = 1x1\n"
     ]
    },
    {
     "data": {
      "text/plain": [
       "     fun: 3.2046420909810084e-06\n",
       "     jac: array([ 959.54762052, 1199.40264804,  722.24765665,  850.37844804,\n",
       "       1016.22379023,           nan,  927.85261165,  -21.91831036,\n",
       "        949.76798238, 1055.35437935,  892.55416697,  600.66465244,\n",
       "        761.00456892, 1007.1278009 ,  908.64061443])\n",
       " message: 'Singular matrix E in LSQ subproblem'\n",
       "    nfev: 1422\n",
       "     nit: 75\n",
       "    njev: 74\n",
       "  status: 5\n",
       " success: False\n",
       "       x: array([4.76415998e-09, 7.22478254e-09, 1.50538825e-08, 4.07385850e-10,\n",
       "       3.18166213e-09, 2.89554186e-01, 3.14897222e-09, 6.81053701e-01,\n",
       "       1.95948756e-09, 4.11087401e-10, 2.02977617e-09, 3.80938134e-02,\n",
       "       2.52675092e-08, 4.73590787e-09, 1.13554020e-09])"
      ]
     },
     "execution_count": 7,
     "metadata": {},
     "output_type": "execute_result"
    }
   ],
   "source": [
    "# Funktion 1\n",
    "def calc_portfolio_std(weights, cov):\n",
    "    portfolio_std = np.sqrt(np.dot(np.dot(weights.T, cov), weights)) * np.sqrt(252) #h=15x1 Matrix-> [h.transpose * cov] * h = [1x15 * 15x15] * 15x1 = 1x15 * 15x1 = 1x1\n",
    "    return portfolio_std\n",
    "\n",
    "# Funktion 2\n",
    "def min_variance(cov):\n",
    "    num_assets = len(cov)\n",
    "    args = cov\n",
    "    constraints = ({'type': 'eq', 'fun': lambda x: np.sum(x) - 1}) #Nebenbedingung; ; eq für equality -> Gleichung != 0; np.sum(weights) - 1 = 0 (Summe der Gewichte müssen 1 ergeben und Gleichung muss gleich Null sein!)\n",
    "    bound = (0.0, 1.0)\n",
    "    bounds = tuple(bound for assets in range(num_assets))\n",
    "    result = sco.minimize(calc_portfolio_std, num_assets*[1/num_assets], args=args, \n",
    "                         method='SLSQP', bounds=bounds, constraints=constraints)\n",
    "    return result\n",
    "\n",
    "# Ausführen der Funktionen\n",
    "function_result = min_variance(insample_cov) #fun: gibt den ZF-wert (Min Varinaz) an & x: gibt die Gewichtungen der einzelnen Aktien im Portfolio an\n",
    "function_result"
   ]
  },
  {
   "cell_type": "code",
   "execution_count": 8,
   "id": "477815eb",
   "metadata": {
    "scrolled": true
   },
   "outputs": [
    {
     "data": {
      "text/html": [
       "<div>\n",
       "<style scoped>\n",
       "    .dataframe tbody tr th:only-of-type {\n",
       "        vertical-align: middle;\n",
       "    }\n",
       "\n",
       "    .dataframe tbody tr th {\n",
       "        vertical-align: top;\n",
       "    }\n",
       "\n",
       "    .dataframe thead th {\n",
       "        text-align: right;\n",
       "    }\n",
       "</style>\n",
       "<table border=\"1\" class=\"dataframe\">\n",
       "  <thead>\n",
       "    <tr style=\"text-align: right;\">\n",
       "      <th></th>\n",
       "      <th>BTI</th>\n",
       "      <th>CHD</th>\n",
       "      <th>DTE</th>\n",
       "      <th>JNJ</th>\n",
       "      <th>K</th>\n",
       "      <th>LMT</th>\n",
       "      <th>MO</th>\n",
       "      <th>NVO</th>\n",
       "      <th>PEP</th>\n",
       "      <th>RELX</th>\n",
       "      <th>T</th>\n",
       "      <th>TM</th>\n",
       "      <th>VZ</th>\n",
       "      <th>WM</th>\n",
       "      <th>XOM</th>\n",
       "      <th>Function Result</th>\n",
       "    </tr>\n",
       "  </thead>\n",
       "  <tbody>\n",
       "    <tr>\n",
       "      <th>0</th>\n",
       "      <td>0.0</td>\n",
       "      <td>0.0</td>\n",
       "      <td>0.0</td>\n",
       "      <td>0.0</td>\n",
       "      <td>0.0</td>\n",
       "      <td>0.29</td>\n",
       "      <td>0.0</td>\n",
       "      <td>0.68</td>\n",
       "      <td>0.0</td>\n",
       "      <td>0.0</td>\n",
       "      <td>0.0</td>\n",
       "      <td>0.04</td>\n",
       "      <td>0.0</td>\n",
       "      <td>0.0</td>\n",
       "      <td>0.0</td>\n",
       "      <td>0.000003</td>\n",
       "    </tr>\n",
       "  </tbody>\n",
       "</table>\n",
       "</div>"
      ],
      "text/plain": [
       "   BTI  CHD  DTE  JNJ    K   LMT   MO   NVO  PEP  RELX    T    TM   VZ   WM  \\\n",
       "0  0.0  0.0  0.0  0.0  0.0  0.29  0.0  0.68  0.0   0.0  0.0  0.04  0.0  0.0   \n",
       "\n",
       "   XOM  Function Result  \n",
       "0  0.0         0.000003  "
      ]
     },
     "execution_count": 8,
     "metadata": {},
     "output_type": "execute_result"
    }
   ],
   "source": [
    "# Ergebnisse der Optimierung in DataFrame abspeichern\n",
    "insample_min_port_variance = pd.DataFrame([round(x,2) for x in function_result['x']], index=tickers).T #Gewichte auf 2 Nachkommastellen runden\n",
    "insample_min_port_variance['Function Result'] = function_result['fun'] #Spalte für Zielfunktionswert\n",
    "insample_min_port_variance"
   ]
  },
  {
   "cell_type": "markdown",
   "id": "8413ddcb",
   "metadata": {},
   "source": [
    "**1.2 Bestimmung des Portfolios mit minimalem Value at Risk (VaR)**"
   ]
  },
  {
   "cell_type": "markdown",
   "id": "f39141a2",
   "metadata": {},
   "source": [
    "**Funktion 1** berechnet die annualisierten Mean Returns 𝜇, die annualisierte Standardabweichung $𝜎=h^{T}Vh$ und den Value at Risk des Portfolios und gibt den VaR aus, damit dieser von der Minimierungsfunktion in **Funktion 2** minimiert werden kann."
   ]
  },
  {
   "cell_type": "code",
   "execution_count": 9,
   "id": "b959988a",
   "metadata": {},
   "outputs": [],
   "source": [
    "# Funktion 1\n",
    "def calc_portfolio_VaR(weights, mean_returns, cov, alpha, days):\n",
    "    portfolio_return = np.sum(weights * mean_returns) * days #nur bei Logrenditen Addition möglich\n",
    "    portfolio_std = np.sqrt(np.dot(np.dot(weights.T, cov), weights)) * np.sqrt(days)\n",
    "    portfolio_VaR = abs(portfolio_return - (portfolio_std * stats.norm.ppf(1 - alpha))) #Erklären\n",
    "    return portfolio_VaR\n",
    "\n",
    "# Funktion 2\n",
    "def min_VaR(mean_returns, cov, alpha, days):\n",
    "    num_assets = len(mean_returns)\n",
    "    args = (mean_returns, cov, alpha ,days)\n",
    "    constraints = ({'type': 'eq', 'fun': lambda x: np.sum(x) - 1})\n",
    "    bound = (0.0, 1.0)\n",
    "    bounds = tuple(bound for asset in range(num_assets))\n",
    "    result = sco.minimize(calc_portfolio_VaR, num_assets*[1/num_assets], args=args, \n",
    "                         method='SLSQP', bounds=bounds, constraints=constraints)\n",
    "    return result\n",
    "\n",
    "# Ausführen der Funktionen\n",
    "function_result = min_VaR(insample_mean_returns, insample_cov, alpha, days)\n",
    "#function_result"
   ]
  },
  {
   "cell_type": "code",
   "execution_count": 10,
   "id": "a27dcfa4",
   "metadata": {},
   "outputs": [
    {
     "data": {
      "text/html": [
       "<div>\n",
       "<style scoped>\n",
       "    .dataframe tbody tr th:only-of-type {\n",
       "        vertical-align: middle;\n",
       "    }\n",
       "\n",
       "    .dataframe tbody tr th {\n",
       "        vertical-align: top;\n",
       "    }\n",
       "\n",
       "    .dataframe thead th {\n",
       "        text-align: right;\n",
       "    }\n",
       "</style>\n",
       "<table border=\"1\" class=\"dataframe\">\n",
       "  <thead>\n",
       "    <tr style=\"text-align: right;\">\n",
       "      <th></th>\n",
       "      <th>BTI</th>\n",
       "      <th>CHD</th>\n",
       "      <th>DTE</th>\n",
       "      <th>JNJ</th>\n",
       "      <th>K</th>\n",
       "      <th>LMT</th>\n",
       "      <th>MO</th>\n",
       "      <th>NVO</th>\n",
       "      <th>PEP</th>\n",
       "      <th>RELX</th>\n",
       "      <th>T</th>\n",
       "      <th>TM</th>\n",
       "      <th>VZ</th>\n",
       "      <th>WM</th>\n",
       "      <th>XOM</th>\n",
       "      <th>Function Result</th>\n",
       "    </tr>\n",
       "  </thead>\n",
       "  <tbody>\n",
       "    <tr>\n",
       "      <th>0</th>\n",
       "      <td>0.02</td>\n",
       "      <td>0.19</td>\n",
       "      <td>0.12</td>\n",
       "      <td>0.18</td>\n",
       "      <td>0.0</td>\n",
       "      <td>0.01</td>\n",
       "      <td>0.0</td>\n",
       "      <td>0.32</td>\n",
       "      <td>0.02</td>\n",
       "      <td>0.03</td>\n",
       "      <td>0.0</td>\n",
       "      <td>0.02</td>\n",
       "      <td>0.02</td>\n",
       "      <td>0.01</td>\n",
       "      <td>0.06</td>\n",
       "      <td>4.824124e-07</td>\n",
       "    </tr>\n",
       "  </tbody>\n",
       "</table>\n",
       "</div>"
      ],
      "text/plain": [
       "    BTI   CHD   DTE   JNJ    K   LMT   MO   NVO   PEP  RELX    T    TM    VZ  \\\n",
       "0  0.02  0.19  0.12  0.18  0.0  0.01  0.0  0.32  0.02  0.03  0.0  0.02  0.02   \n",
       "\n",
       "     WM   XOM  Function Result  \n",
       "0  0.01  0.06     4.824124e-07  "
      ]
     },
     "execution_count": 10,
     "metadata": {},
     "output_type": "execute_result"
    }
   ],
   "source": [
    "# Ergebnisse der Optimierung in DataFrame abspeichern\n",
    "insample_min_port_VaR = pd.DataFrame([round(x,2) for x in function_result['x']], index=tickers).T\n",
    "insample_min_port_VaR['Function Result'] = function_result['fun']\n",
    "insample_min_port_VaR"
   ]
  },
  {
   "cell_type": "markdown",
   "id": "83e8a44f",
   "metadata": {},
   "source": [
    "**1.3 Bestimmung des Portfolios mit maximaler Sharpe Ratio (𝜇 - 𝜎 effizientes Portfolio)**\n",
    " \n",
    " "
   ]
  },
  {
   "cell_type": "markdown",
   "id": "11a7462a",
   "metadata": {},
   "source": [
    "**Funktion 1** berechnet die annualisierten Mean Returns 𝜇, die annualisierte Standardabweichung $𝜎=h^{T}Vh$ und die Sharpe Ratio (𝜇 - rf) / 𝜎 des Portfolios und gibt die negative Sharpe Ratio aus, damit diese von der Minimierungsfunktion in **Funktion 2** maximiert werden kann."
   ]
  },
  {
   "cell_type": "code",
   "execution_count": 11,
   "id": "f94564e2",
   "metadata": {},
   "outputs": [
    {
     "name": "stderr",
     "output_type": "stream",
     "text": [
      "C:\\Users\\Dennis\\AppData\\Local\\Temp/ipykernel_14316/889004072.py:5: RuntimeWarning: divide by zero encountered in double_scalars\n",
      "  sharpe_ratio = (portfolio_return - rf) / portfolio_std\n"
     ]
    }
   ],
   "source": [
    "# Funktion 1\n",
    "def calc_neg_sharpe(weights, mean_returns, cov, rf):\n",
    "    portfolio_return = np.sum(weights * mean_returns) * 252\n",
    "    portfolio_std = np.sqrt(np.dot(np.dot(weights.T, cov), weights)) * np.sqrt(252)\n",
    "    sharpe_ratio = (portfolio_return - rf) / portfolio_std\n",
    "    return -sharpe_ratio\n",
    "\n",
    "# Funktion 2\n",
    "def max_sharpe_ratio(mean_returns, cov, rf):\n",
    "    num_assets = len(mean_returns)\n",
    "    args = (mean_returns, cov, rf)\n",
    "    constraints = ({'type': 'eq', 'fun': lambda x: np.sum(x) -1})\n",
    "    bound = (0.0, 1.0)\n",
    "    bounds = tuple(bound for asset in range(num_assets))\n",
    "    result = sco.minimize(calc_neg_sharpe, num_assets*[1/num_assets], args=args, \n",
    "                          method='SLSQP', bounds=bounds, constraints=constraints)\n",
    "    return result\n",
    "\n",
    "# Ausführen der Funktionen\n",
    "function_result = max_sharpe_ratio(insample_mean_returns, insample_cov, rf)\n",
    "#function_result"
   ]
  },
  {
   "cell_type": "code",
   "execution_count": 12,
   "id": "1225b158",
   "metadata": {
    "scrolled": true
   },
   "outputs": [
    {
     "data": {
      "text/html": [
       "<div>\n",
       "<style scoped>\n",
       "    .dataframe tbody tr th:only-of-type {\n",
       "        vertical-align: middle;\n",
       "    }\n",
       "\n",
       "    .dataframe tbody tr th {\n",
       "        vertical-align: top;\n",
       "    }\n",
       "\n",
       "    .dataframe thead th {\n",
       "        text-align: right;\n",
       "    }\n",
       "</style>\n",
       "<table border=\"1\" class=\"dataframe\">\n",
       "  <thead>\n",
       "    <tr style=\"text-align: right;\">\n",
       "      <th></th>\n",
       "      <th>BTI</th>\n",
       "      <th>CHD</th>\n",
       "      <th>DTE</th>\n",
       "      <th>JNJ</th>\n",
       "      <th>K</th>\n",
       "      <th>LMT</th>\n",
       "      <th>MO</th>\n",
       "      <th>NVO</th>\n",
       "      <th>PEP</th>\n",
       "      <th>RELX</th>\n",
       "      <th>T</th>\n",
       "      <th>TM</th>\n",
       "      <th>VZ</th>\n",
       "      <th>WM</th>\n",
       "      <th>XOM</th>\n",
       "      <th>Function Result</th>\n",
       "    </tr>\n",
       "  </thead>\n",
       "  <tbody>\n",
       "    <tr>\n",
       "      <th>0</th>\n",
       "      <td>0.0</td>\n",
       "      <td>0.0</td>\n",
       "      <td>0.0</td>\n",
       "      <td>0.0</td>\n",
       "      <td>0.0</td>\n",
       "      <td>0.0</td>\n",
       "      <td>0.0</td>\n",
       "      <td>1.0</td>\n",
       "      <td>0.0</td>\n",
       "      <td>0.0</td>\n",
       "      <td>0.0</td>\n",
       "      <td>0.0</td>\n",
       "      <td>0.0</td>\n",
       "      <td>0.0</td>\n",
       "      <td>0.0</td>\n",
       "      <td>inf</td>\n",
       "    </tr>\n",
       "  </tbody>\n",
       "</table>\n",
       "</div>"
      ],
      "text/plain": [
       "   BTI  CHD  DTE  JNJ    K  LMT   MO  NVO  PEP  RELX    T   TM   VZ   WM  XOM  \\\n",
       "0  0.0  0.0  0.0  0.0  0.0  0.0  0.0  1.0  0.0   0.0  0.0  0.0  0.0  0.0  0.0   \n",
       "\n",
       "   Function Result  \n",
       "0              inf  "
      ]
     },
     "execution_count": 12,
     "metadata": {},
     "output_type": "execute_result"
    }
   ],
   "source": [
    "# Ergebnisse der Optimierung in DataFrame abspeichern\n",
    "insample_max_port_SharpeRatio = pd.DataFrame([round(x,2) for x in function_result['x']], index=tickers).T\n",
    "insample_max_port_SharpeRatio['Function Result'] = -function_result['fun'] #hier Vorzeichen wieder umkehren!\n",
    "insample_max_port_SharpeRatio"
   ]
  },
  {
   "cell_type": "markdown",
   "id": "b4896728",
   "metadata": {},
   "source": [
    "**1.4 Vergleich der Gewichtungen der drei Strategien**"
   ]
  },
  {
   "cell_type": "code",
   "execution_count": 13,
   "id": "d9195c8e",
   "metadata": {
    "scrolled": true
   },
   "outputs": [
    {
     "data": {
      "text/html": [
       "<div>\n",
       "<style scoped>\n",
       "    .dataframe tbody tr th:only-of-type {\n",
       "        vertical-align: middle;\n",
       "    }\n",
       "\n",
       "    .dataframe tbody tr th {\n",
       "        vertical-align: top;\n",
       "    }\n",
       "\n",
       "    .dataframe thead th {\n",
       "        text-align: right;\n",
       "    }\n",
       "</style>\n",
       "<table border=\"1\" class=\"dataframe\">\n",
       "  <thead>\n",
       "    <tr style=\"text-align: right;\">\n",
       "      <th></th>\n",
       "      <th>BTI</th>\n",
       "      <th>CHD</th>\n",
       "      <th>DTE</th>\n",
       "      <th>JNJ</th>\n",
       "      <th>K</th>\n",
       "      <th>LMT</th>\n",
       "      <th>MO</th>\n",
       "      <th>NVO</th>\n",
       "      <th>PEP</th>\n",
       "      <th>RELX</th>\n",
       "      <th>T</th>\n",
       "      <th>TM</th>\n",
       "      <th>VZ</th>\n",
       "      <th>WM</th>\n",
       "      <th>XOM</th>\n",
       "      <th>Function Result</th>\n",
       "    </tr>\n",
       "  </thead>\n",
       "  <tbody>\n",
       "    <tr>\n",
       "      <th>Min Variance</th>\n",
       "      <td>0.00</td>\n",
       "      <td>0.00</td>\n",
       "      <td>0.00</td>\n",
       "      <td>0.00</td>\n",
       "      <td>0.0</td>\n",
       "      <td>0.29</td>\n",
       "      <td>0.0</td>\n",
       "      <td>0.68</td>\n",
       "      <td>0.00</td>\n",
       "      <td>0.00</td>\n",
       "      <td>0.0</td>\n",
       "      <td>0.04</td>\n",
       "      <td>0.00</td>\n",
       "      <td>0.00</td>\n",
       "      <td>0.00</td>\n",
       "      <td>3.204642e-06</td>\n",
       "    </tr>\n",
       "    <tr>\n",
       "      <th>Min VaR</th>\n",
       "      <td>0.02</td>\n",
       "      <td>0.19</td>\n",
       "      <td>0.12</td>\n",
       "      <td>0.18</td>\n",
       "      <td>0.0</td>\n",
       "      <td>0.01</td>\n",
       "      <td>0.0</td>\n",
       "      <td>0.32</td>\n",
       "      <td>0.02</td>\n",
       "      <td>0.03</td>\n",
       "      <td>0.0</td>\n",
       "      <td>0.02</td>\n",
       "      <td>0.02</td>\n",
       "      <td>0.01</td>\n",
       "      <td>0.06</td>\n",
       "      <td>4.824124e-07</td>\n",
       "    </tr>\n",
       "    <tr>\n",
       "      <th>Max Sharpe Ratio</th>\n",
       "      <td>0.00</td>\n",
       "      <td>0.00</td>\n",
       "      <td>0.00</td>\n",
       "      <td>0.00</td>\n",
       "      <td>0.0</td>\n",
       "      <td>0.00</td>\n",
       "      <td>0.0</td>\n",
       "      <td>1.00</td>\n",
       "      <td>0.00</td>\n",
       "      <td>0.00</td>\n",
       "      <td>0.0</td>\n",
       "      <td>0.00</td>\n",
       "      <td>0.00</td>\n",
       "      <td>0.00</td>\n",
       "      <td>0.00</td>\n",
       "      <td>inf</td>\n",
       "    </tr>\n",
       "  </tbody>\n",
       "</table>\n",
       "</div>"
      ],
      "text/plain": [
       "                   BTI   CHD   DTE   JNJ    K   LMT   MO   NVO   PEP  RELX  \\\n",
       "Min Variance      0.00  0.00  0.00  0.00  0.0  0.29  0.0  0.68  0.00  0.00   \n",
       "Min VaR           0.02  0.19  0.12  0.18  0.0  0.01  0.0  0.32  0.02  0.03   \n",
       "Max Sharpe Ratio  0.00  0.00  0.00  0.00  0.0  0.00  0.0  1.00  0.00  0.00   \n",
       "\n",
       "                    T    TM    VZ    WM   XOM  Function Result  \n",
       "Min Variance      0.0  0.04  0.00  0.00  0.00     3.204642e-06  \n",
       "Min VaR           0.0  0.02  0.02  0.01  0.06     4.824124e-07  \n",
       "Max Sharpe Ratio  0.0  0.00  0.00  0.00  0.00              inf  "
      ]
     },
     "execution_count": 13,
     "metadata": {},
     "output_type": "execute_result"
    }
   ],
   "source": [
    "# Zusammenfassung der Portfolios in einem DataFrame\n",
    "insample_portfolios = pd.concat([insample_min_port_variance, insample_min_port_VaR, insample_max_port_SharpeRatio], axis=0)\n",
    "insample_portfolios.index = ['Min Variance', 'Min VaR', 'Max Sharpe Ratio']\n",
    "insample_portfolios"
   ]
  },
  {
   "cell_type": "code",
   "execution_count": 14,
   "id": "9379b4d1",
   "metadata": {
    "scrolled": true
   },
   "outputs": [],
   "source": [
    "# Dataframe nur mit Gewichtungen der Aktien\n",
    "insample_weights = insample_portfolios.drop(['Function Result'], axis=1)"
   ]
  },
  {
   "cell_type": "code",
   "execution_count": 15,
   "id": "753bca4c",
   "metadata": {
    "scrolled": false
   },
   "outputs": [
    {
     "data": {
      "image/png": "[encoded data removed]",
      "text/plain": [
       "<Figure size 1080x504 with 1 Axes>"
      ]
     },
     "metadata": {
      "needs_background": "light"
     },
     "output_type": "display_data"
    }
   ],
   "source": [
    "# 1997-2001\n",
    "plt.figure(figsize=(15,7))\n",
    "plt.plot(insample_weights.iloc[0].T, label='Min Variance')\n",
    "plt.plot(insample_weights.iloc[1].T, label='Value at Risk')\n",
    "plt.plot(insample_weights.iloc[2].T, label='Sharpe Ratio')\n",
    "plt.xlabel('asset')\n",
    "plt.ylabel('weight')\n",
    "plt.legend();"
   ]
  },
  {
   "cell_type": "markdown",
   "id": "92ea91a9",
   "metadata": {},
   "source": [
    "Beschreibung der Gewichtungen; Unterschiede & Ähnlichkeiten; ZF-Werte...\n",
    "\n",
    "Min VaR und Max Sharpe Ratio ähnliche Gewichtungen"
   ]
  },
  {
   "cell_type": "markdown",
   "id": "25939d1c",
   "metadata": {},
   "source": [
    "# 2. Buy-and-Hold Strategien (2002-2021)"
   ]
  },
  {
   "cell_type": "markdown",
   "id": "32f02565",
   "metadata": {},
   "source": [
    "Aufgabenstellung: Implementieren Sie Buy-and-Hold Strategien für Ihre drei Portfolios von 2002-2021 \n",
    "auf Grundlage der errechneten Gewichte Ihrer 15 Aktien. "
   ]
  },
  {
   "cell_type": "code",
   "execution_count": 16,
   "id": "914359b3",
   "metadata": {},
   "outputs": [
    {
     "data": {
      "text/html": [
       "<div>\n",
       "<style scoped>\n",
       "    .dataframe tbody tr th:only-of-type {\n",
       "        vertical-align: middle;\n",
       "    }\n",
       "\n",
       "    .dataframe tbody tr th {\n",
       "        vertical-align: top;\n",
       "    }\n",
       "\n",
       "    .dataframe thead th {\n",
       "        text-align: right;\n",
       "    }\n",
       "</style>\n",
       "<table border=\"1\" class=\"dataframe\">\n",
       "  <thead>\n",
       "    <tr style=\"text-align: right;\">\n",
       "      <th></th>\n",
       "      <th>BTI</th>\n",
       "      <th>CHD</th>\n",
       "      <th>DTE</th>\n",
       "      <th>JNJ</th>\n",
       "      <th>K</th>\n",
       "      <th>LMT</th>\n",
       "      <th>MO</th>\n",
       "      <th>NVO</th>\n",
       "      <th>PEP</th>\n",
       "      <th>RELX</th>\n",
       "      <th>T</th>\n",
       "      <th>TM</th>\n",
       "      <th>VZ</th>\n",
       "      <th>WM</th>\n",
       "      <th>XOM</th>\n",
       "    </tr>\n",
       "    <tr>\n",
       "      <th>Date</th>\n",
       "      <th></th>\n",
       "      <th></th>\n",
       "      <th></th>\n",
       "      <th></th>\n",
       "      <th></th>\n",
       "      <th></th>\n",
       "      <th></th>\n",
       "      <th></th>\n",
       "      <th></th>\n",
       "      <th></th>\n",
       "      <th></th>\n",
       "      <th></th>\n",
       "      <th></th>\n",
       "      <th></th>\n",
       "      <th></th>\n",
       "    </tr>\n",
       "  </thead>\n",
       "  <tbody>\n",
       "    <tr>\n",
       "      <th>2002-01-02</th>\n",
       "      <td>0.000000</td>\n",
       "      <td>-0.004516</td>\n",
       "      <td>0.010201</td>\n",
       "      <td>-0.006791</td>\n",
       "      <td>-0.004328</td>\n",
       "      <td>-0.009256</td>\n",
       "      <td>0.017084</td>\n",
       "      <td>0.000000</td>\n",
       "      <td>0.009403</td>\n",
       "      <td>-0.007535</td>\n",
       "      <td>0.018465</td>\n",
       "      <td>0.004698</td>\n",
       "      <td>0.021470</td>\n",
       "      <td>-0.023463</td>\n",
       "      <td>0.007604</td>\n",
       "    </tr>\n",
       "    <tr>\n",
       "      <th>2002-01-03</th>\n",
       "      <td>-0.006492</td>\n",
       "      <td>-0.002266</td>\n",
       "      <td>-0.005444</td>\n",
       "      <td>-0.000341</td>\n",
       "      <td>0.000667</td>\n",
       "      <td>0.007112</td>\n",
       "      <td>-0.001072</td>\n",
       "      <td>-0.032183</td>\n",
       "      <td>-0.007351</td>\n",
       "      <td>-0.013710</td>\n",
       "      <td>0.006744</td>\n",
       "      <td>0.005842</td>\n",
       "      <td>0.032663</td>\n",
       "      <td>-0.018456</td>\n",
       "      <td>0.001514</td>\n",
       "    </tr>\n",
       "    <tr>\n",
       "      <th>2002-01-04</th>\n",
       "      <td>-0.014312</td>\n",
       "      <td>-0.006448</td>\n",
       "      <td>-0.008340</td>\n",
       "      <td>-0.009245</td>\n",
       "      <td>-0.021571</td>\n",
       "      <td>0.014707</td>\n",
       "      <td>-0.010791</td>\n",
       "      <td>-0.017667</td>\n",
       "      <td>-0.008853</td>\n",
       "      <td>0.050833</td>\n",
       "      <td>-0.004491</td>\n",
       "      <td>0.031912</td>\n",
       "      <td>0.010129</td>\n",
       "      <td>0.006839</td>\n",
       "      <td>0.008536</td>\n",
       "    </tr>\n",
       "    <tr>\n",
       "      <th>2002-01-07</th>\n",
       "      <td>-0.012693</td>\n",
       "      <td>-0.014565</td>\n",
       "      <td>-0.007446</td>\n",
       "      <td>-0.004654</td>\n",
       "      <td>0.003401</td>\n",
       "      <td>-0.005942</td>\n",
       "      <td>0.010576</td>\n",
       "      <td>-0.013459</td>\n",
       "      <td>-0.005806</td>\n",
       "      <td>-0.008785</td>\n",
       "      <td>-0.002002</td>\n",
       "      <td>-0.010968</td>\n",
       "      <td>-0.006145</td>\n",
       "      <td>-0.000649</td>\n",
       "      <td>-0.008789</td>\n",
       "    </tr>\n",
       "    <tr>\n",
       "      <th>2002-01-08</th>\n",
       "      <td>-0.002436</td>\n",
       "      <td>0.001929</td>\n",
       "      <td>-0.019229</td>\n",
       "      <td>-0.006588</td>\n",
       "      <td>0.012150</td>\n",
       "      <td>0.014161</td>\n",
       "      <td>0.015128</td>\n",
       "      <td>-0.009074</td>\n",
       "      <td>-0.005841</td>\n",
       "      <td>0.002937</td>\n",
       "      <td>0.004260</td>\n",
       "      <td>-0.018810</td>\n",
       "      <td>-0.002306</td>\n",
       "      <td>-0.000325</td>\n",
       "      <td>0.001261</td>\n",
       "    </tr>\n",
       "    <tr>\n",
       "      <th>...</th>\n",
       "      <td>...</td>\n",
       "      <td>...</td>\n",
       "      <td>...</td>\n",
       "      <td>...</td>\n",
       "      <td>...</td>\n",
       "      <td>...</td>\n",
       "      <td>...</td>\n",
       "      <td>...</td>\n",
       "      <td>...</td>\n",
       "      <td>...</td>\n",
       "      <td>...</td>\n",
       "      <td>...</td>\n",
       "      <td>...</td>\n",
       "      <td>...</td>\n",
       "      <td>...</td>\n",
       "    </tr>\n",
       "    <tr>\n",
       "      <th>2021-12-23</th>\n",
       "      <td>0.000270</td>\n",
       "      <td>0.001307</td>\n",
       "      <td>0.001028</td>\n",
       "      <td>0.001904</td>\n",
       "      <td>0.001433</td>\n",
       "      <td>0.011244</td>\n",
       "      <td>-0.003847</td>\n",
       "      <td>-0.013466</td>\n",
       "      <td>-0.001119</td>\n",
       "      <td>0.004087</td>\n",
       "      <td>0.003626</td>\n",
       "      <td>0.013255</td>\n",
       "      <td>-0.001707</td>\n",
       "      <td>0.007935</td>\n",
       "      <td>0.000492</td>\n",
       "    </tr>\n",
       "    <tr>\n",
       "      <th>2021-12-27</th>\n",
       "      <td>-0.002160</td>\n",
       "      <td>0.008305</td>\n",
       "      <td>0.008778</td>\n",
       "      <td>0.008404</td>\n",
       "      <td>0.006184</td>\n",
       "      <td>0.009350</td>\n",
       "      <td>0.001925</td>\n",
       "      <td>0.029085</td>\n",
       "      <td>0.009905</td>\n",
       "      <td>0.010922</td>\n",
       "      <td>-0.003626</td>\n",
       "      <td>0.011469</td>\n",
       "      <td>0.000000</td>\n",
       "      <td>0.011359</td>\n",
       "      <td>0.014157</td>\n",
       "    </tr>\n",
       "    <tr>\n",
       "      <th>2021-12-28</th>\n",
       "      <td>0.004585</td>\n",
       "      <td>-0.001795</td>\n",
       "      <td>0.007439</td>\n",
       "      <td>0.004000</td>\n",
       "      <td>0.010848</td>\n",
       "      <td>0.009858</td>\n",
       "      <td>0.012531</td>\n",
       "      <td>-0.007644</td>\n",
       "      <td>0.005177</td>\n",
       "      <td>0.003408</td>\n",
       "      <td>0.001613</td>\n",
       "      <td>-0.006205</td>\n",
       "      <td>0.000759</td>\n",
       "      <td>0.008209</td>\n",
       "      <td>-0.003237</td>\n",
       "    </tr>\n",
       "    <tr>\n",
       "      <th>2021-12-29</th>\n",
       "      <td>0.004029</td>\n",
       "      <td>0.007954</td>\n",
       "      <td>0.005460</td>\n",
       "      <td>0.007020</td>\n",
       "      <td>-0.000939</td>\n",
       "      <td>0.001469</td>\n",
       "      <td>0.000422</td>\n",
       "      <td>0.003424</td>\n",
       "      <td>0.003533</td>\n",
       "      <td>0.010768</td>\n",
       "      <td>-0.007279</td>\n",
       "      <td>-0.005808</td>\n",
       "      <td>-0.006852</td>\n",
       "      <td>0.007481</td>\n",
       "      <td>-0.008792</td>\n",
       "    </tr>\n",
       "    <tr>\n",
       "      <th>2021-12-30</th>\n",
       "      <td>-0.001609</td>\n",
       "      <td>0.004348</td>\n",
       "      <td>-0.000503</td>\n",
       "      <td>0.004420</td>\n",
       "      <td>0.000626</td>\n",
       "      <td>-0.001950</td>\n",
       "      <td>-0.003170</td>\n",
       "      <td>0.002605</td>\n",
       "      <td>-0.001736</td>\n",
       "      <td>-0.005831</td>\n",
       "      <td>0.005666</td>\n",
       "      <td>0.002175</td>\n",
       "      <td>-0.002103</td>\n",
       "      <td>-0.003914</td>\n",
       "      <td>-0.005905</td>\n",
       "    </tr>\n",
       "  </tbody>\n",
       "</table>\n",
       "<p>5035 rows × 15 columns</p>\n",
       "</div>"
      ],
      "text/plain": [
       "                 BTI       CHD       DTE       JNJ         K       LMT  \\\n",
       "Date                                                                     \n",
       "2002-01-02  0.000000 -0.004516  0.010201 -0.006791 -0.004328 -0.009256   \n",
       "2002-01-03 -0.006492 -0.002266 -0.005444 -0.000341  0.000667  0.007112   \n",
       "2002-01-04 -0.014312 -0.006448 -0.008340 -0.009245 -0.021571  0.014707   \n",
       "2002-01-07 -0.012693 -0.014565 -0.007446 -0.004654  0.003401 -0.005942   \n",
       "2002-01-08 -0.002436  0.001929 -0.019229 -0.006588  0.012150  0.014161   \n",
       "...              ...       ...       ...       ...       ...       ...   \n",
       "2021-12-23  0.000270  0.001307  0.001028  0.001904  0.001433  0.011244   \n",
       "2021-12-27 -0.002160  0.008305  0.008778  0.008404  0.006184  0.009350   \n",
       "2021-12-28  0.004585 -0.001795  0.007439  0.004000  0.010848  0.009858   \n",
       "2021-12-29  0.004029  0.007954  0.005460  0.007020 -0.000939  0.001469   \n",
       "2021-12-30 -0.001609  0.004348 -0.000503  0.004420  0.000626 -0.001950   \n",
       "\n",
       "                  MO       NVO       PEP      RELX         T        TM  \\\n",
       "Date                                                                     \n",
       "2002-01-02  0.017084  0.000000  0.009403 -0.007535  0.018465  0.004698   \n",
       "2002-01-03 -0.001072 -0.032183 -0.007351 -0.013710  0.006744  0.005842   \n",
       "2002-01-04 -0.010791 -0.017667 -0.008853  0.050833 -0.004491  0.031912   \n",
       "2002-01-07  0.010576 -0.013459 -0.005806 -0.008785 -0.002002 -0.010968   \n",
       "2002-01-08  0.015128 -0.009074 -0.005841  0.002937  0.004260 -0.018810   \n",
       "...              ...       ...       ...       ...       ...       ...   \n",
       "2021-12-23 -0.003847 -0.013466 -0.001119  0.004087  0.003626  0.013255   \n",
       "2021-12-27  0.001925  0.029085  0.009905  0.010922 -0.003626  0.011469   \n",
       "2021-12-28  0.012531 -0.007644  0.005177  0.003408  0.001613 -0.006205   \n",
       "2021-12-29  0.000422  0.003424  0.003533  0.010768 -0.007279 -0.005808   \n",
       "2021-12-30 -0.003170  0.002605 -0.001736 -0.005831  0.005666  0.002175   \n",
       "\n",
       "                  VZ        WM       XOM  \n",
       "Date                                      \n",
       "2002-01-02  0.021470 -0.023463  0.007604  \n",
       "2002-01-03  0.032663 -0.018456  0.001514  \n",
       "2002-01-04  0.010129  0.006839  0.008536  \n",
       "2002-01-07 -0.006145 -0.000649 -0.008789  \n",
       "2002-01-08 -0.002306 -0.000325  0.001261  \n",
       "...              ...       ...       ...  \n",
       "2021-12-23 -0.001707  0.007935  0.000492  \n",
       "2021-12-27  0.000000  0.011359  0.014157  \n",
       "2021-12-28  0.000759  0.008209 -0.003237  \n",
       "2021-12-29 -0.006852  0.007481 -0.008792  \n",
       "2021-12-30 -0.002103 -0.003914 -0.005905  \n",
       "\n",
       "[5035 rows x 15 columns]"
      ]
     },
     "execution_count": 16,
     "metadata": {},
     "output_type": "execute_result"
    }
   ],
   "source": [
    "# DataFrame auf den Zeitraum des Testdatensatzes von 2002/01/01 - 2021/12/31 begrenzen\n",
    "outsample = returns.loc['2002-01-01':'2021-12-31']\n",
    "outsample"
   ]
  },
  {
   "cell_type": "markdown",
   "id": "e1835e1e",
   "metadata": {},
   "source": [
    "BaH-Strategie entwickeln..."
   ]
  },
  {
   "cell_type": "code",
   "execution_count": 17,
   "id": "1f72fb86",
   "metadata": {},
   "outputs": [
    {
     "data": {
      "text/html": [
       "<div>\n",
       "<style scoped>\n",
       "    .dataframe tbody tr th:only-of-type {\n",
       "        vertical-align: middle;\n",
       "    }\n",
       "\n",
       "    .dataframe tbody tr th {\n",
       "        vertical-align: top;\n",
       "    }\n",
       "\n",
       "    .dataframe thead th {\n",
       "        text-align: right;\n",
       "    }\n",
       "</style>\n",
       "<table border=\"1\" class=\"dataframe\">\n",
       "  <thead>\n",
       "    <tr style=\"text-align: right;\">\n",
       "      <th></th>\n",
       "      <th>Min Variance</th>\n",
       "      <th>Min VaR</th>\n",
       "      <th>Max Sharpe Ratio</th>\n",
       "    </tr>\n",
       "  </thead>\n",
       "  <tbody>\n",
       "    <tr>\n",
       "      <th>Returns</th>\n",
       "      <td>3.305936</td>\n",
       "      <td>2.662396</td>\n",
       "      <td>3.682395</td>\n",
       "    </tr>\n",
       "  </tbody>\n",
       "</table>\n",
       "</div>"
      ],
      "text/plain": [
       "        Min Variance   Min VaR Max Sharpe Ratio\n",
       "Returns     3.305936  2.662396         3.682395"
      ]
     },
     "execution_count": 17,
     "metadata": {},
     "output_type": "execute_result"
    }
   ],
   "source": [
    "# Kumulierte Summen berechnen\n",
    "outsample_cumulated = outsample.cumsum() #Additivität\n",
    "\n",
    "# Returns der Strategien berechnen\n",
    "BaH_returns = pd.DataFrame(columns = ['Min Variance', 'Min VaR', 'Max Sharpe Ratio'], index=['Returns'])\n",
    "BaH_returns.loc['Returns'] = [np.sum(outsample_cumulated.iloc[-1] * insample_weights.iloc[i]) for i in range(len(insample_weights))]\n",
    "BaH_returns"
   ]
  },
  {
   "cell_type": "code",
   "execution_count": 18,
   "id": "ece7afdc",
   "metadata": {},
   "outputs": [],
   "source": [
    "# BaH-Strategie mit minimum Variance Portfolio\n",
    "BaH_min_variance = insample_weights.iloc[0]*outsample_cumulated #Array mit Gewichtungen * kumuliertem Outsample Datensatz\n",
    "BaH_min_variance['Return'] = np.sum(BaH_min_variance, axis=1)\n",
    "\n",
    "# BaH-Strategie mit minimun VaR Portfolio\n",
    "BaH_min_VaR = insample_weights.iloc[1]*outsample_cumulated\n",
    "BaH_min_VaR['Return'] = np.sum(BaH_min_VaR, axis=1)\n",
    "\n",
    "# BaH-Strategie mit maximum Sharpe Ratio Portfolio\n",
    "BaH_max_SharpeRatio = insample_weights.iloc[2]*outsample_cumulated\n",
    "BaH_max_SharpeRatio['Return'] = np.sum(BaH_max_SharpeRatio, axis=1)"
   ]
  },
  {
   "cell_type": "code",
   "execution_count": 19,
   "id": "aa6e7edb",
   "metadata": {},
   "outputs": [],
   "source": [
    "#BaH_min_variance\n",
    "#BaH_min_VaR\n",
    "#BaH_max_SharpeRatio"
   ]
  },
  {
   "cell_type": "markdown",
   "id": "2d9205c9",
   "metadata": {},
   "source": [
    "# 3. Diskussion der Portfolio-Performances "
   ]
  },
  {
   "cell_type": "markdown",
   "id": "53712806",
   "metadata": {},
   "source": [
    "Aufgabenstellung: Diskutieren Sie die Performance Ihrer drei Portfolios."
   ]
  },
  {
   "cell_type": "code",
   "execution_count": 20,
   "id": "197712b6",
   "metadata": {},
   "outputs": [
    {
     "data": {
      "text/html": [
       "<div>\n",
       "<style scoped>\n",
       "    .dataframe tbody tr th:only-of-type {\n",
       "        vertical-align: middle;\n",
       "    }\n",
       "\n",
       "    .dataframe tbody tr th {\n",
       "        vertical-align: top;\n",
       "    }\n",
       "\n",
       "    .dataframe thead th {\n",
       "        text-align: right;\n",
       "    }\n",
       "</style>\n",
       "<table border=\"1\" class=\"dataframe\">\n",
       "  <thead>\n",
       "    <tr style=\"text-align: right;\">\n",
       "      <th></th>\n",
       "      <th>BTI</th>\n",
       "      <th>CHD</th>\n",
       "      <th>DTE</th>\n",
       "      <th>JNJ</th>\n",
       "      <th>K</th>\n",
       "      <th>LMT</th>\n",
       "      <th>MO</th>\n",
       "      <th>NVO</th>\n",
       "      <th>PEP</th>\n",
       "      <th>RELX</th>\n",
       "      <th>T</th>\n",
       "      <th>TM</th>\n",
       "      <th>VZ</th>\n",
       "      <th>WM</th>\n",
       "      <th>XOM</th>\n",
       "      <th>Return</th>\n",
       "    </tr>\n",
       "  </thead>\n",
       "  <tbody>\n",
       "    <tr>\n",
       "      <th>Min Variance</th>\n",
       "      <td>0.000000</td>\n",
       "      <td>0.000000</td>\n",
       "      <td>0.000000</td>\n",
       "      <td>0.000000</td>\n",
       "      <td>0.0</td>\n",
       "      <td>0.738997</td>\n",
       "      <td>0.0</td>\n",
       "      <td>2.504028</td>\n",
       "      <td>0.000000</td>\n",
       "      <td>0.000000</td>\n",
       "      <td>0.0</td>\n",
       "      <td>0.062910</td>\n",
       "      <td>0.00000</td>\n",
       "      <td>0.000000</td>\n",
       "      <td>0.000000</td>\n",
       "      <td>3.305936</td>\n",
       "    </tr>\n",
       "    <tr>\n",
       "      <th>Min VaR</th>\n",
       "      <td>0.049499</td>\n",
       "      <td>0.640506</td>\n",
       "      <td>0.246643</td>\n",
       "      <td>0.288622</td>\n",
       "      <td>0.0</td>\n",
       "      <td>0.025483</td>\n",
       "      <td>0.0</td>\n",
       "      <td>1.178366</td>\n",
       "      <td>0.035558</td>\n",
       "      <td>0.057743</td>\n",
       "      <td>0.0</td>\n",
       "      <td>0.031455</td>\n",
       "      <td>0.02261</td>\n",
       "      <td>0.021684</td>\n",
       "      <td>0.064227</td>\n",
       "      <td>2.662396</td>\n",
       "    </tr>\n",
       "    <tr>\n",
       "      <th>Max Sharpe Ratio</th>\n",
       "      <td>0.000000</td>\n",
       "      <td>0.000000</td>\n",
       "      <td>0.000000</td>\n",
       "      <td>0.000000</td>\n",
       "      <td>0.0</td>\n",
       "      <td>0.000000</td>\n",
       "      <td>0.0</td>\n",
       "      <td>3.682395</td>\n",
       "      <td>0.000000</td>\n",
       "      <td>0.000000</td>\n",
       "      <td>0.0</td>\n",
       "      <td>0.000000</td>\n",
       "      <td>0.00000</td>\n",
       "      <td>0.000000</td>\n",
       "      <td>0.000000</td>\n",
       "      <td>3.682395</td>\n",
       "    </tr>\n",
       "  </tbody>\n",
       "</table>\n",
       "</div>"
      ],
      "text/plain": [
       "                       BTI       CHD       DTE       JNJ    K       LMT   MO  \\\n",
       "Min Variance      0.000000  0.000000  0.000000  0.000000  0.0  0.738997  0.0   \n",
       "Min VaR           0.049499  0.640506  0.246643  0.288622  0.0  0.025483  0.0   \n",
       "Max Sharpe Ratio  0.000000  0.000000  0.000000  0.000000  0.0  0.000000  0.0   \n",
       "\n",
       "                       NVO       PEP      RELX    T        TM       VZ  \\\n",
       "Min Variance      2.504028  0.000000  0.000000  0.0  0.062910  0.00000   \n",
       "Min VaR           1.178366  0.035558  0.057743  0.0  0.031455  0.02261   \n",
       "Max Sharpe Ratio  3.682395  0.000000  0.000000  0.0  0.000000  0.00000   \n",
       "\n",
       "                        WM       XOM    Return  \n",
       "Min Variance      0.000000  0.000000  3.305936  \n",
       "Min VaR           0.021684  0.064227  2.662396  \n",
       "Max Sharpe Ratio  0.000000  0.000000  3.682395  "
      ]
     },
     "execution_count": 20,
     "metadata": {},
     "output_type": "execute_result"
    }
   ],
   "source": [
    "# Renditen der Strategien am 2021/12/31\n",
    "BaH = pd.concat(x.iloc[-1:] for x in [BaH_min_variance, BaH_min_VaR, BaH_max_SharpeRatio])\n",
    "BaH.index = ['Min Variance', 'Min VaR', 'Max Sharpe Ratio']\n",
    "BaH #für jedes Portfolio Var, VaR, Sharpe Ratio"
   ]
  },
  {
   "cell_type": "code",
   "execution_count": 21,
   "id": "95734d9d",
   "metadata": {
    "scrolled": false
   },
   "outputs": [
    {
     "data": {
      "image/png": "[encoded data removed]",
      "text/plain": [
       "<Figure size 1080x504 with 1 Axes>"
      ]
     },
     "metadata": {
      "needs_background": "light"
     },
     "output_type": "display_data"
    }
   ],
   "source": [
    "# Plot\n",
    "plt.figure(figsize=(15,7))\n",
    "plt.plot(BaH_min_variance['Return'], label = 'Min Varianz Portfolio')\n",
    "plt.plot(BaH_min_VaR['Return'], label = 'Min Value at Risk Portfolio')\n",
    "plt.plot(BaH_max_SharpeRatio['Return'], label = 'Max Sharpe Ratio Portfolio')\n",
    "plt.xlabel('year')\n",
    "plt.ylabel('returns')\n",
    "plt.grid()\n",
    "plt.legend();"
   ]
  },
  {
   "cell_type": "markdown",
   "id": "fd919402",
   "metadata": {},
   "source": [
    "**Diskussion:**\n",
    "- Beste Strategie\n",
    "- langfrisitger Trend\n",
    "- Finanzkrise 2008 und Corona Krise 2020 erkennbar\n",
    "- welche Strategie am besten in Krisen?\n",
    "- Vergleich zur Benchmark\n",
    "\n",
    "- Min Variance in Krisenzeiten stärker (Risikominimierung!), aber in den Wachstumsphasen Min VaR und Max Sharpe Ratio besser"
   ]
  },
  {
   "cell_type": "code",
   "execution_count": null,
   "id": "1f544f44",
   "metadata": {},
   "outputs": [],
   "source": []
  },
  {
   "cell_type": "markdown",
   "id": "fe52b596",
   "metadata": {},
   "source": [
    "# 4. Vergleich der Strategien mit einem gleichgewichteten Portfolio und Grafische Darstellung der Strategien (2002-2021)"
   ]
  },
  {
   "cell_type": "markdown",
   "id": "04e2ee72",
   "metadata": {},
   "source": [
    "Aufgabenstellung: Erstellen Sie eine Grafik für den Zeitraum 2002-2021, welche den Kursverlauf Ihrer \n",
    "drei Portfoliostrategien einem gleichgewichteten Portfolio aus den 15 Aktien als \n",
    "Benchmark gegenüberstellt."
   ]
  },
  {
   "cell_type": "code",
   "execution_count": 22,
   "id": "77b84a2b",
   "metadata": {},
   "outputs": [
    {
     "data": {
      "text/plain": [
       "2.019121467419943"
      ]
     },
     "execution_count": 22,
     "metadata": {},
     "output_type": "execute_result"
    }
   ],
   "source": [
    "# Erstellen der BaH-Strategie mit einem gleichgewichteten Portfolio\n",
    "BaH_eq_weights = (1/len(tickers)) * outsample_cumulated\n",
    "BaH_eq_weights['Return'] = np.sum(BaH_eq_weights, axis=1)\n",
    "\n",
    "# Return des gleichgewichteten Portfolios\n",
    "BaH_eq_weights.iloc[-1,-1]"
   ]
  },
  {
   "cell_type": "code",
   "execution_count": 23,
   "id": "54dc0aec",
   "metadata": {},
   "outputs": [
    {
     "data": {
      "image/png": "[encoded data removed]",
      "text/plain": [
       "<Figure size 1080x504 with 1 Axes>"
      ]
     },
     "metadata": {
      "needs_background": "light"
     },
     "output_type": "display_data"
    }
   ],
   "source": [
    "plt.figure(figsize=(15,7))\n",
    "plt.plot(BaH_min_variance['Return'], label = 'Min Varianz Portfolio')\n",
    "plt.plot(BaH_min_VaR['Return'], label = 'Min Value at Risk Portfolio')\n",
    "plt.plot(BaH_max_SharpeRatio['Return'], label = 'Max Sharpe Ratio Portfolio')\n",
    "plt.plot(BaH_eq_weights['Return'], label = 'Gleichgewichtetes Portfolio')\n",
    "plt.xlabel('year')\n",
    "plt.ylabel('returns')\n",
    "plt.grid()\n",
    "plt.legend();"
   ]
  },
  {
   "cell_type": "markdown",
   "id": "04247042",
   "metadata": {},
   "source": [
    "**Diskussion:**\n",
    "- Strategien oder Benchmark besser?\n",
    "- langfrisitger Trend\n",
    "- Finanzkrise 2008 und Corona Krise 2020"
   ]
  },
  {
   "cell_type": "code",
   "execution_count": null,
   "id": "a193af68",
   "metadata": {},
   "outputs": [],
   "source": []
  },
  {
   "cell_type": "markdown",
   "id": "3a02a3cb",
   "metadata": {},
   "source": [
    "# 5. Portfolios mit min. Varianz, min. VaR und max. Sharpe Ratio (2017-2021)"
   ]
  },
  {
   "cell_type": "markdown",
   "id": "20a9853f",
   "metadata": {},
   "source": [
    "Aufgabenstellung: Berechnen Sie die Portfolios mit der minimalen Varianz, dem minimalen VaR und der \n",
    "maximalen Sharpe Ratio nun für den Zeitraum von 2017-2021 und vergleichen Sie die \n",
    "Portfoliogewichte mit den Ihren."
   ]
  },
  {
   "cell_type": "code",
   "execution_count": 24,
   "id": "5084c325",
   "metadata": {},
   "outputs": [],
   "source": [
    "# Testdatensatz auf den gekürzten Zeitraum von 2017/01/01 - 2021/12/31 begrenzen\n",
    "outsample_shorted = outsample.loc['2017-01-01':'2021-12-31']\n",
    "#outsample_shorted"
   ]
  },
  {
   "cell_type": "code",
   "execution_count": 25,
   "id": "61c5b664",
   "metadata": {},
   "outputs": [],
   "source": [
    "# Berechnung der Varianz-Covarianz-Matrix und mitteleren Renditen; alpha-Quantil, Zeithorizont und risikoloser Zins wie vorher (siehe 1.2 & 1.3)\n",
    "outsample_shorted_cov = outsample_shorted.cov()\n",
    "outsample_shorted_mean_returns = outsample_shorted.mean()"
   ]
  },
  {
   "cell_type": "markdown",
   "id": "d7d26928",
   "metadata": {},
   "source": [
    "**5.1 Bestimmung des Portfolios mit minimaler Varianz**"
   ]
  },
  {
   "cell_type": "code",
   "execution_count": 26,
   "id": "1073e0a8",
   "metadata": {},
   "outputs": [],
   "source": [
    "# Ausführen der Funktionen aus Kapitel 1.1\n",
    "function_result = min_variance(outsample_shorted_cov)\n",
    "#function_result"
   ]
  },
  {
   "cell_type": "code",
   "execution_count": 27,
   "id": "d8f27b4d",
   "metadata": {},
   "outputs": [
    {
     "data": {
      "text/html": [
       "<div>\n",
       "<style scoped>\n",
       "    .dataframe tbody tr th:only-of-type {\n",
       "        vertical-align: middle;\n",
       "    }\n",
       "\n",
       "    .dataframe tbody tr th {\n",
       "        vertical-align: top;\n",
       "    }\n",
       "\n",
       "    .dataframe thead th {\n",
       "        text-align: right;\n",
       "    }\n",
       "</style>\n",
       "<table border=\"1\" class=\"dataframe\">\n",
       "  <thead>\n",
       "    <tr style=\"text-align: right;\">\n",
       "      <th></th>\n",
       "      <th>BTI</th>\n",
       "      <th>CHD</th>\n",
       "      <th>DTE</th>\n",
       "      <th>JNJ</th>\n",
       "      <th>K</th>\n",
       "      <th>LMT</th>\n",
       "      <th>MO</th>\n",
       "      <th>NVO</th>\n",
       "      <th>PEP</th>\n",
       "      <th>RELX</th>\n",
       "      <th>T</th>\n",
       "      <th>TM</th>\n",
       "      <th>VZ</th>\n",
       "      <th>WM</th>\n",
       "      <th>XOM</th>\n",
       "      <th>Function Result</th>\n",
       "    </tr>\n",
       "  </thead>\n",
       "  <tbody>\n",
       "    <tr>\n",
       "      <th>0</th>\n",
       "      <td>0.02</td>\n",
       "      <td>0.12</td>\n",
       "      <td>0.0</td>\n",
       "      <td>0.06</td>\n",
       "      <td>0.12</td>\n",
       "      <td>0.0</td>\n",
       "      <td>0.0</td>\n",
       "      <td>0.09</td>\n",
       "      <td>0.0</td>\n",
       "      <td>0.12</td>\n",
       "      <td>0.0</td>\n",
       "      <td>0.23</td>\n",
       "      <td>0.24</td>\n",
       "      <td>0.0</td>\n",
       "      <td>0.0</td>\n",
       "      <td>0.138759</td>\n",
       "    </tr>\n",
       "  </tbody>\n",
       "</table>\n",
       "</div>"
      ],
      "text/plain": [
       "    BTI   CHD  DTE   JNJ     K  LMT   MO   NVO  PEP  RELX    T    TM    VZ  \\\n",
       "0  0.02  0.12  0.0  0.06  0.12  0.0  0.0  0.09  0.0  0.12  0.0  0.23  0.24   \n",
       "\n",
       "    WM  XOM  Function Result  \n",
       "0  0.0  0.0         0.138759  "
      ]
     },
     "execution_count": 27,
     "metadata": {},
     "output_type": "execute_result"
    }
   ],
   "source": [
    "# Ergebnisse der Optimierung in DataFrame abspeichern\n",
    "outsample_shorted_min_port_variance = pd.DataFrame([round(x,2) for x in function_result['x']], index=tickers).T\n",
    "outsample_shorted_min_port_variance['Function Result'] = function_result['fun']\n",
    "outsample_shorted_min_port_variance"
   ]
  },
  {
   "cell_type": "markdown",
   "id": "83af8c82",
   "metadata": {},
   "source": [
    "**5.2 Bestimmung des Portfolios mit minimalem Value at Risk (VaR)**"
   ]
  },
  {
   "cell_type": "code",
   "execution_count": 28,
   "id": "7b13c04a",
   "metadata": {},
   "outputs": [],
   "source": [
    "# Ausführen der Funktionen aus Kapitel 1.2\n",
    "function_result = min_VaR(outsample_shorted_mean_returns, outsample_shorted_cov, alpha, days)\n",
    "#function_result"
   ]
  },
  {
   "cell_type": "code",
   "execution_count": 29,
   "id": "af1d7f62",
   "metadata": {},
   "outputs": [
    {
     "data": {
      "text/html": [
       "<div>\n",
       "<style scoped>\n",
       "    .dataframe tbody tr th:only-of-type {\n",
       "        vertical-align: middle;\n",
       "    }\n",
       "\n",
       "    .dataframe tbody tr th {\n",
       "        vertical-align: top;\n",
       "    }\n",
       "\n",
       "    .dataframe thead th {\n",
       "        text-align: right;\n",
       "    }\n",
       "</style>\n",
       "<table border=\"1\" class=\"dataframe\">\n",
       "  <thead>\n",
       "    <tr style=\"text-align: right;\">\n",
       "      <th></th>\n",
       "      <th>BTI</th>\n",
       "      <th>CHD</th>\n",
       "      <th>DTE</th>\n",
       "      <th>JNJ</th>\n",
       "      <th>K</th>\n",
       "      <th>LMT</th>\n",
       "      <th>MO</th>\n",
       "      <th>NVO</th>\n",
       "      <th>PEP</th>\n",
       "      <th>RELX</th>\n",
       "      <th>T</th>\n",
       "      <th>TM</th>\n",
       "      <th>VZ</th>\n",
       "      <th>WM</th>\n",
       "      <th>XOM</th>\n",
       "      <th>Function Result</th>\n",
       "    </tr>\n",
       "  </thead>\n",
       "  <tbody>\n",
       "    <tr>\n",
       "      <th>0</th>\n",
       "      <td>0.0</td>\n",
       "      <td>0.24</td>\n",
       "      <td>0.0</td>\n",
       "      <td>0.0</td>\n",
       "      <td>0.0</td>\n",
       "      <td>0.0</td>\n",
       "      <td>0.0</td>\n",
       "      <td>0.34</td>\n",
       "      <td>0.0</td>\n",
       "      <td>0.06</td>\n",
       "      <td>0.0</td>\n",
       "      <td>0.05</td>\n",
       "      <td>0.0</td>\n",
       "      <td>0.31</td>\n",
       "      <td>0.0</td>\n",
       "      <td>0.069397</td>\n",
       "    </tr>\n",
       "  </tbody>\n",
       "</table>\n",
       "</div>"
      ],
      "text/plain": [
       "   BTI   CHD  DTE  JNJ    K  LMT   MO   NVO  PEP  RELX    T    TM   VZ    WM  \\\n",
       "0  0.0  0.24  0.0  0.0  0.0  0.0  0.0  0.34  0.0  0.06  0.0  0.05  0.0  0.31   \n",
       "\n",
       "   XOM  Function Result  \n",
       "0  0.0         0.069397  "
      ]
     },
     "execution_count": 29,
     "metadata": {},
     "output_type": "execute_result"
    }
   ],
   "source": [
    "# Ergebnisse der Optimierung in DataFrame abspeichern\n",
    "outsample_shorted_min_port_VaR = pd.DataFrame([round(x,2) for x in function_result['x']], index=tickers).T\n",
    "outsample_shorted_min_port_VaR['Function Result'] = function_result['fun']\n",
    "outsample_shorted_min_port_VaR"
   ]
  },
  {
   "cell_type": "markdown",
   "id": "db573436",
   "metadata": {},
   "source": [
    "**5.3 Bestimmung des Portfolios mit maximaler Sharpe Ratio (𝜇 - 𝜎 effizientes Portfolio)**"
   ]
  },
  {
   "cell_type": "code",
   "execution_count": 30,
   "id": "0c75eafc",
   "metadata": {},
   "outputs": [],
   "source": [
    "# Ausführen der Funktionen aus Kapitel 1.3\n",
    "function_result = max_sharpe_ratio(outsample_shorted_mean_returns, outsample_shorted_cov, rf)\n",
    "#function_result"
   ]
  },
  {
   "cell_type": "code",
   "execution_count": 31,
   "id": "deef7f30",
   "metadata": {},
   "outputs": [
    {
     "data": {
      "text/html": [
       "<div>\n",
       "<style scoped>\n",
       "    .dataframe tbody tr th:only-of-type {\n",
       "        vertical-align: middle;\n",
       "    }\n",
       "\n",
       "    .dataframe tbody tr th {\n",
       "        vertical-align: top;\n",
       "    }\n",
       "\n",
       "    .dataframe thead th {\n",
       "        text-align: right;\n",
       "    }\n",
       "</style>\n",
       "<table border=\"1\" class=\"dataframe\">\n",
       "  <thead>\n",
       "    <tr style=\"text-align: right;\">\n",
       "      <th></th>\n",
       "      <th>BTI</th>\n",
       "      <th>CHD</th>\n",
       "      <th>DTE</th>\n",
       "      <th>JNJ</th>\n",
       "      <th>K</th>\n",
       "      <th>LMT</th>\n",
       "      <th>MO</th>\n",
       "      <th>NVO</th>\n",
       "      <th>PEP</th>\n",
       "      <th>RELX</th>\n",
       "      <th>T</th>\n",
       "      <th>TM</th>\n",
       "      <th>VZ</th>\n",
       "      <th>WM</th>\n",
       "      <th>XOM</th>\n",
       "      <th>Function Result</th>\n",
       "    </tr>\n",
       "  </thead>\n",
       "  <tbody>\n",
       "    <tr>\n",
       "      <th>0</th>\n",
       "      <td>0.0</td>\n",
       "      <td>0.23</td>\n",
       "      <td>0.0</td>\n",
       "      <td>0.0</td>\n",
       "      <td>0.0</td>\n",
       "      <td>0.0</td>\n",
       "      <td>0.0</td>\n",
       "      <td>0.41</td>\n",
       "      <td>0.0</td>\n",
       "      <td>0.0</td>\n",
       "      <td>0.0</td>\n",
       "      <td>0.0</td>\n",
       "      <td>0.0</td>\n",
       "      <td>0.35</td>\n",
       "      <td>0.0</td>\n",
       "      <td>1.231032</td>\n",
       "    </tr>\n",
       "  </tbody>\n",
       "</table>\n",
       "</div>"
      ],
      "text/plain": [
       "   BTI   CHD  DTE  JNJ    K  LMT   MO   NVO  PEP  RELX    T   TM   VZ    WM  \\\n",
       "0  0.0  0.23  0.0  0.0  0.0  0.0  0.0  0.41  0.0   0.0  0.0  0.0  0.0  0.35   \n",
       "\n",
       "   XOM  Function Result  \n",
       "0  0.0         1.231032  "
      ]
     },
     "execution_count": 31,
     "metadata": {},
     "output_type": "execute_result"
    }
   ],
   "source": [
    "# Ergebnisse der Optimierung in DataFrame abspeichern\n",
    "outsample_shorted_max_port_SharpeRatio = pd.DataFrame([round(x,2) for x in function_result['x']], index=tickers).T\n",
    "outsample_shorted_max_port_SharpeRatio['Function Result'] = -function_result['fun']\n",
    "outsample_shorted_max_port_SharpeRatio"
   ]
  },
  {
   "cell_type": "markdown",
   "id": "fdd20bc6",
   "metadata": {},
   "source": [
    "**5.4 Vergleich der Gewichtungen der drei Strategien von 1997-2001 und 2017-2021**"
   ]
  },
  {
   "cell_type": "code",
   "execution_count": 32,
   "id": "5a194870",
   "metadata": {},
   "outputs": [
    {
     "data": {
      "text/html": [
       "<div>\n",
       "<style scoped>\n",
       "    .dataframe tbody tr th:only-of-type {\n",
       "        vertical-align: middle;\n",
       "    }\n",
       "\n",
       "    .dataframe tbody tr th {\n",
       "        vertical-align: top;\n",
       "    }\n",
       "\n",
       "    .dataframe thead th {\n",
       "        text-align: right;\n",
       "    }\n",
       "</style>\n",
       "<table border=\"1\" class=\"dataframe\">\n",
       "  <thead>\n",
       "    <tr style=\"text-align: right;\">\n",
       "      <th></th>\n",
       "      <th>BTI</th>\n",
       "      <th>CHD</th>\n",
       "      <th>DTE</th>\n",
       "      <th>JNJ</th>\n",
       "      <th>K</th>\n",
       "      <th>LMT</th>\n",
       "      <th>MO</th>\n",
       "      <th>NVO</th>\n",
       "      <th>PEP</th>\n",
       "      <th>RELX</th>\n",
       "      <th>T</th>\n",
       "      <th>TM</th>\n",
       "      <th>VZ</th>\n",
       "      <th>WM</th>\n",
       "      <th>XOM</th>\n",
       "      <th>Function Result</th>\n",
       "    </tr>\n",
       "  </thead>\n",
       "  <tbody>\n",
       "    <tr>\n",
       "      <th>Min Variance</th>\n",
       "      <td>0.02</td>\n",
       "      <td>0.12</td>\n",
       "      <td>0.00</td>\n",
       "      <td>0.06</td>\n",
       "      <td>0.12</td>\n",
       "      <td>-0.29</td>\n",
       "      <td>0.0</td>\n",
       "      <td>-0.59</td>\n",
       "      <td>0.00</td>\n",
       "      <td>0.12</td>\n",
       "      <td>0.0</td>\n",
       "      <td>0.19</td>\n",
       "      <td>0.24</td>\n",
       "      <td>0.00</td>\n",
       "      <td>0.00</td>\n",
       "      <td>0.138756</td>\n",
       "    </tr>\n",
       "    <tr>\n",
       "      <th>Min VaR</th>\n",
       "      <td>-0.02</td>\n",
       "      <td>0.05</td>\n",
       "      <td>-0.12</td>\n",
       "      <td>-0.18</td>\n",
       "      <td>0.00</td>\n",
       "      <td>-0.01</td>\n",
       "      <td>0.0</td>\n",
       "      <td>0.02</td>\n",
       "      <td>-0.02</td>\n",
       "      <td>0.03</td>\n",
       "      <td>0.0</td>\n",
       "      <td>0.03</td>\n",
       "      <td>-0.02</td>\n",
       "      <td>0.30</td>\n",
       "      <td>-0.06</td>\n",
       "      <td>0.069396</td>\n",
       "    </tr>\n",
       "    <tr>\n",
       "      <th>Max Sharpe Ratio</th>\n",
       "      <td>0.00</td>\n",
       "      <td>0.23</td>\n",
       "      <td>0.00</td>\n",
       "      <td>0.00</td>\n",
       "      <td>0.00</td>\n",
       "      <td>0.00</td>\n",
       "      <td>0.0</td>\n",
       "      <td>-0.59</td>\n",
       "      <td>0.00</td>\n",
       "      <td>0.00</td>\n",
       "      <td>0.0</td>\n",
       "      <td>0.00</td>\n",
       "      <td>0.00</td>\n",
       "      <td>0.35</td>\n",
       "      <td>0.00</td>\n",
       "      <td>-inf</td>\n",
       "    </tr>\n",
       "  </tbody>\n",
       "</table>\n",
       "</div>"
      ],
      "text/plain": [
       "                   BTI   CHD   DTE   JNJ     K   LMT   MO   NVO   PEP  RELX  \\\n",
       "Min Variance      0.02  0.12  0.00  0.06  0.12 -0.29  0.0 -0.59  0.00  0.12   \n",
       "Min VaR          -0.02  0.05 -0.12 -0.18  0.00 -0.01  0.0  0.02 -0.02  0.03   \n",
       "Max Sharpe Ratio  0.00  0.23  0.00  0.00  0.00  0.00  0.0 -0.59  0.00  0.00   \n",
       "\n",
       "                    T    TM    VZ    WM   XOM  Function Result  \n",
       "Min Variance      0.0  0.19  0.24  0.00  0.00         0.138756  \n",
       "Min VaR           0.0  0.03 -0.02  0.30 -0.06         0.069396  \n",
       "Max Sharpe Ratio  0.0  0.00  0.00  0.35  0.00             -inf  "
      ]
     },
     "execution_count": 32,
     "metadata": {},
     "output_type": "execute_result"
    }
   ],
   "source": [
    "# Zusammenfassung der Portfolios in einem DataFrame\n",
    "outsample_portfolios = pd.concat([outsample_shorted_min_port_variance, outsample_shorted_min_port_VaR, outsample_shorted_max_port_SharpeRatio], axis=0)\n",
    "outsample_portfolios.index = ['Min Variance', 'Min VaR', 'Max Sharpe Ratio']\n",
    "\n",
    "# Gegenüberstellung der Gewichtungen (nachher - vorher)\n",
    "outsample_portfolios - insample_portfolios"
   ]
  },
  {
   "cell_type": "markdown",
   "id": "ef4e2991",
   "metadata": {},
   "source": [
    "Veränderungen in den Funktionsergebnissen: ..."
   ]
  },
  {
   "cell_type": "code",
   "execution_count": 33,
   "id": "03bb8c67",
   "metadata": {},
   "outputs": [],
   "source": [
    "# Dataframe nur mit Gewichtungen der Aktien\n",
    "outsample_weights = outsample_portfolios.drop(['Function Result'], axis=1)\n",
    "#outsample_weights"
   ]
  },
  {
   "cell_type": "code",
   "execution_count": 34,
   "id": "bce659ef",
   "metadata": {},
   "outputs": [
    {
     "data": {
      "image/png": "[encoded data removed]",
      "text/plain": [
       "<Figure size 1080x504 with 1 Axes>"
      ]
     },
     "metadata": {
      "needs_background": "light"
     },
     "output_type": "display_data"
    }
   ],
   "source": [
    "# Min Varinaz\n",
    "plt.figure(figsize=(15,7))\n",
    "plt.plot(insample_weights.iloc[0].T, label='1997-2001')\n",
    "plt.plot(outsample_weights.iloc[0].T, label='2017-2021')\n",
    "plt.xlabel('asset')\n",
    "plt.ylabel('weight')\n",
    "plt.legend();"
   ]
  },
  {
   "cell_type": "code",
   "execution_count": 35,
   "id": "97b6f563",
   "metadata": {},
   "outputs": [
    {
     "data": {
      "image/png": "[encoded data removed]",
      "text/plain": [
       "<Figure size 1080x504 with 1 Axes>"
      ]
     },
     "metadata": {
      "needs_background": "light"
     },
     "output_type": "display_data"
    }
   ],
   "source": [
    "# Min Value at Risk\n",
    "plt.figure(figsize=(15,7))\n",
    "plt.plot(insample_weights.iloc[1].T, label='1997-2001')\n",
    "plt.plot(outsample_weights.iloc[1].T, label='2017-2021')\n",
    "plt.xlabel('asset')\n",
    "plt.ylabel('weight')\n",
    "plt.legend();"
   ]
  },
  {
   "cell_type": "code",
   "execution_count": 36,
   "id": "4a8c9702",
   "metadata": {},
   "outputs": [
    {
     "data": {
      "image/png": "[encoded data removed]",
      "text/plain": [
       "<Figure size 1080x504 with 1 Axes>"
      ]
     },
     "metadata": {
      "needs_background": "light"
     },
     "output_type": "display_data"
    }
   ],
   "source": [
    "# Max Sharpe Ratio\n",
    "plt.figure(figsize=(15,7))\n",
    "plt.plot(insample_weights.iloc[2].T, label='1997-2001')\n",
    "plt.plot(outsample_weights.iloc[2].T, label='2017-2021')\n",
    "plt.xlabel('asset')\n",
    "plt.ylabel('weight')\n",
    "plt.legend();"
   ]
  },
  {
   "cell_type": "code",
   "execution_count": 37,
   "id": "6897ff91",
   "metadata": {
    "scrolled": false
   },
   "outputs": [
    {
     "data": {
      "image/png": "[encoded data removed]",
      "text/plain": [
       "<Figure size 1080x504 with 1 Axes>"
      ]
     },
     "metadata": {
      "needs_background": "light"
     },
     "output_type": "display_data"
    }
   ],
   "source": [
    "# 2017-2021\n",
    "plt.figure(figsize=(15,7))\n",
    "plt.plot(outsample_weights.iloc[0].T, label='Min Variance')\n",
    "plt.plot(outsample_weights.iloc[1].T, label='Value at Risk')\n",
    "plt.plot(outsample_weights.iloc[2].T, label='Sharpe Ratio')\n",
    "plt.xlabel('asset')\n",
    "plt.ylabel('weight')\n",
    "plt.legend();"
   ]
  },
  {
   "cell_type": "markdown",
   "id": "44d18b2f",
   "metadata": {},
   "source": [
    "Veränderungen in den Gewichtungen je Strategie: ..."
   ]
  },
  {
   "cell_type": "markdown",
   "id": "181b296f",
   "metadata": {},
   "source": [
    "# 6 Verbesserungsmöglichkeiten der Strategien"
   ]
  },
  {
   "cell_type": "markdown",
   "id": "f6af9e48",
   "metadata": {},
   "source": [
    "Aufgabenstellung: Wie würden Sie die Implementierung Ihrer Portfoliostrategie noch verbessern? Was \n",
    "könnten Sie noch beachten?"
   ]
  },
  {
   "cell_type": "markdown",
   "id": "cf671f62",
   "metadata": {},
   "source": [
    "- verschiedene Asset-Klassen (Assets mit minimaler Covarianz - am besten Null)\n",
    "- Aus 30 Assets die 15 mit den geringsten Covarianzen auswählen\n",
    "- anderes alpha-Quantil bei min VaR-Strategie\n",
    "- Benchmark einführen (z.B. S&P500) - Gleichgewichtetes Portfolio bereits als Benchmark\n",
    "- Semivarianz bzw. Downside-Risk anstelle der Standardabweichung (evtl hier ausführen)\n",
    "- Sortino-Ratio anstelle Sharpe \n",
    "Ratio (evtl hier ausführen)\n",
    "- Für kurze Prognosehorizonte Mean Reversion (evtl hier ausführen) oder für lange Prognosehorizonte Moving Average\n",
    "  Crossover (Master-Aufgabe) anstelle einer Buy-and-Hold-Strategie\n",
    "- Rebalancing der Portfoliogewichte\n",
    "- 𝜇 und 𝜎 nicht auf Basis historischer Daten schätzen\n",
    "\n",
    "Vereinfachende Annahmen\n",
    "- Risikolosen Zins beachten\n",
    "- keine Standardnormalverteilung bei Value at Risk"
   ]
  },
  {
   "cell_type": "code",
   "execution_count": null,
   "id": "0847180d",
   "metadata": {},
   "outputs": [],
   "source": []
  },
  {
   "cell_type": "code",
   "execution_count": null,
   "id": "5b322711",
   "metadata": {},
   "outputs": [],
   "source": []
  },
  {
   "cell_type": "markdown",
   "id": "94514ee7",
   "metadata": {},
   "source": [
    "# MA-Alternative 1:\n",
    "# 7.1 Momentum-Strategie"
   ]
  },
  {
   "cell_type": "markdown",
   "id": "7c1b953b",
   "metadata": {},
   "source": [
    "MA-Alternative 1: Entwickeln Sie für Ihre 15 Aktien eine Momentum Strategie auf Monats\u0002ebene. Diese ist wie folgt aufgebaut: Sie investieren in das Terzil der Unternehmen mit der \n",
    "höchsten Rendite des Vormonats. Diese 5 Unternehmen halten Sie bis zum Ende des darauffol\u0002genden Monats. Zum Monatsende erfolgt somit immer eine Portfolioumschichtung, wobei die \n",
    "Unternehmen mit der höchsten Rendite im vergangen Monat gekauft werden. Funktioniert \n",
    "diese Strategie? Beurteilen Sie die Performance. Ihre Präsentation sollte 30 Minuten dauern (20 \n",
    "Minuten Präsentation + 10 Minuten Q&A)."
   ]
  },
  {
   "cell_type": "code",
   "execution_count": 38,
   "id": "2b6d6471",
   "metadata": {},
   "outputs": [],
   "source": [
    "# Frequency im Zeitindex auf 'Businessdays' festlegen\n",
    "Adj_Close = Adj_Close.asfreq('B')\n",
    "returns = returns.asfreq('B')"
   ]
  },
  {
   "cell_type": "code",
   "execution_count": 39,
   "id": "0f1adfc2",
   "metadata": {},
   "outputs": [],
   "source": [
    "# Max Return optimales Portfolio des Terzils mit der höchsten Rendite im Vormonat berechnen\n",
    "# Funktion 1\n",
    "def calc_neg_return(weights, mean_returns):\n",
    "    portfolio_return = np.sum(weights * mean_returns) * 252\n",
    "    return -portfolio_return\n",
    "\n",
    "# Funktion 2\n",
    "def max_return(mean_returns):\n",
    "    num_assets = len(mean_returns)\n",
    "    args = (mean_returns)\n",
    "    constraints = ({'type': 'eq', 'fun': lambda x: np.sum(x) -1})\n",
    "    bound = (0.0, 1.0)\n",
    "    bounds = tuple(bound for asset in range(num_assets))\n",
    "    result = sco.minimize(calc_neg_return, num_assets*[1/num_assets], args=args, \n",
    "                          method='SLSQP', bounds=bounds, constraints=constraints)\n",
    "    return result.x\n",
    "\n",
    "# Ausführen der Funktionen\n",
    "#function_result = max_return(insample_mean_returns)\n",
    "#function_result"
   ]
  },
  {
   "cell_type": "code",
   "execution_count": 40,
   "id": "1e58f18a",
   "metadata": {},
   "outputs": [
    {
     "data": {
      "text/plain": [
       "'1997-01-31'"
      ]
     },
     "execution_count": 40,
     "metadata": {},
     "output_type": "execute_result"
    }
   ],
   "source": [
    "monthly_returns = returns.resample('M').sum()\n",
    "str(monthly_returns.index.tolist()[0])[0:10]"
   ]
  },
  {
   "cell_type": "code",
   "execution_count": 41,
   "id": "4b9d2c19",
   "metadata": {
    "scrolled": false
   },
   "outputs": [
    {
     "name": "stdout",
     "output_type": "stream",
     "text": [
      "[-0.1010031  -0.09301001 -0.0352285  -0.01949402  0.01479859  0.03315253\n",
      "  0.03547457  0.05199259  0.05517716  0.06404848  0.06489723  0.11962323\n",
      "  0.1491124   0.16736521  0.16737982]\n"
     ]
    }
   ],
   "source": [
    "current_month_returns = np.array(monthly_returns.iloc[0])\n",
    "print(np.sort(current_month_returns))\n",
    "sort_index = np.argsort(current_month_returns)\n",
    "sort_index\n",
    "locations = sort_index[-5:].tolist()\n",
    "locations\n",
    "tickers_top5 = [tickers[i] for i in locations]"
   ]
  },
  {
   "cell_type": "code",
   "execution_count": 42,
   "id": "2df72fb6",
   "metadata": {},
   "outputs": [
    {
     "data": {
      "text/html": [
       "<div>\n",
       "<style scoped>\n",
       "    .dataframe tbody tr th:only-of-type {\n",
       "        vertical-align: middle;\n",
       "    }\n",
       "\n",
       "    .dataframe tbody tr th {\n",
       "        vertical-align: top;\n",
       "    }\n",
       "\n",
       "    .dataframe thead th {\n",
       "        text-align: right;\n",
       "    }\n",
       "</style>\n",
       "<table border=\"1\" class=\"dataframe\">\n",
       "  <thead>\n",
       "    <tr style=\"text-align: right;\">\n",
       "      <th></th>\n",
       "      <th>K</th>\n",
       "      <th>CHD</th>\n",
       "      <th>JNJ</th>\n",
       "      <th>WM</th>\n",
       "      <th>PEP</th>\n",
       "    </tr>\n",
       "    <tr>\n",
       "      <th>Date</th>\n",
       "      <th></th>\n",
       "      <th></th>\n",
       "      <th></th>\n",
       "      <th></th>\n",
       "      <th></th>\n",
       "    </tr>\n",
       "  </thead>\n",
       "  <tbody>\n",
       "    <tr>\n",
       "      <th>1997-01-03</th>\n",
       "      <td>0.011428</td>\n",
       "      <td>-0.005540</td>\n",
       "      <td>0.010000</td>\n",
       "      <td>-0.024592</td>\n",
       "      <td>0.008439</td>\n",
       "    </tr>\n",
       "    <tr>\n",
       "      <th>1997-01-06</th>\n",
       "      <td>-0.005698</td>\n",
       "      <td>0.005540</td>\n",
       "      <td>0.007435</td>\n",
       "      <td>-0.012526</td>\n",
       "      <td>-0.016949</td>\n",
       "    </tr>\n",
       "    <tr>\n",
       "      <th>1997-01-07</th>\n",
       "      <td>-0.007648</td>\n",
       "      <td>-0.005540</td>\n",
       "      <td>0.002466</td>\n",
       "      <td>0.049190</td>\n",
       "      <td>0.008510</td>\n",
       "    </tr>\n",
       "    <tr>\n",
       "      <th>1997-01-08</th>\n",
       "      <td>-0.005774</td>\n",
       "      <td>0.000000</td>\n",
       "      <td>0.007362</td>\n",
       "      <td>0.027615</td>\n",
       "      <td>0.004228</td>\n",
       "    </tr>\n",
       "    <tr>\n",
       "      <th>1997-01-09</th>\n",
       "      <td>0.000000</td>\n",
       "      <td>0.005540</td>\n",
       "      <td>0.007308</td>\n",
       "      <td>-0.015687</td>\n",
       "      <td>-0.012739</td>\n",
       "    </tr>\n",
       "    <tr>\n",
       "      <th>...</th>\n",
       "      <td>...</td>\n",
       "      <td>...</td>\n",
       "      <td>...</td>\n",
       "      <td>...</td>\n",
       "      <td>...</td>\n",
       "    </tr>\n",
       "    <tr>\n",
       "      <th>2021-12-24</th>\n",
       "      <td>NaN</td>\n",
       "      <td>NaN</td>\n",
       "      <td>NaN</td>\n",
       "      <td>NaN</td>\n",
       "      <td>NaN</td>\n",
       "    </tr>\n",
       "    <tr>\n",
       "      <th>2021-12-27</th>\n",
       "      <td>0.006184</td>\n",
       "      <td>0.008305</td>\n",
       "      <td>0.008404</td>\n",
       "      <td>0.011359</td>\n",
       "      <td>0.009905</td>\n",
       "    </tr>\n",
       "    <tr>\n",
       "      <th>2021-12-28</th>\n",
       "      <td>0.010848</td>\n",
       "      <td>-0.001795</td>\n",
       "      <td>0.004000</td>\n",
       "      <td>0.008209</td>\n",
       "      <td>0.005177</td>\n",
       "    </tr>\n",
       "    <tr>\n",
       "      <th>2021-12-29</th>\n",
       "      <td>-0.000939</td>\n",
       "      <td>0.007954</td>\n",
       "      <td>0.007020</td>\n",
       "      <td>0.007481</td>\n",
       "      <td>0.003533</td>\n",
       "    </tr>\n",
       "    <tr>\n",
       "      <th>2021-12-30</th>\n",
       "      <td>0.000626</td>\n",
       "      <td>0.004348</td>\n",
       "      <td>0.004420</td>\n",
       "      <td>-0.003914</td>\n",
       "      <td>-0.001736</td>\n",
       "    </tr>\n",
       "  </tbody>\n",
       "</table>\n",
       "<p>6520 rows × 5 columns</p>\n",
       "</div>"
      ],
      "text/plain": [
       "                   K       CHD       JNJ        WM       PEP\n",
       "Date                                                        \n",
       "1997-01-03  0.011428 -0.005540  0.010000 -0.024592  0.008439\n",
       "1997-01-06 -0.005698  0.005540  0.007435 -0.012526 -0.016949\n",
       "1997-01-07 -0.007648 -0.005540  0.002466  0.049190  0.008510\n",
       "1997-01-08 -0.005774  0.000000  0.007362  0.027615  0.004228\n",
       "1997-01-09  0.000000  0.005540  0.007308 -0.015687 -0.012739\n",
       "...              ...       ...       ...       ...       ...\n",
       "2021-12-24       NaN       NaN       NaN       NaN       NaN\n",
       "2021-12-27  0.006184  0.008305  0.008404  0.011359  0.009905\n",
       "2021-12-28  0.010848 -0.001795  0.004000  0.008209  0.005177\n",
       "2021-12-29 -0.000939  0.007954  0.007020  0.007481  0.003533\n",
       "2021-12-30  0.000626  0.004348  0.004420 -0.003914 -0.001736\n",
       "\n",
       "[6520 rows x 5 columns]"
      ]
     },
     "execution_count": 42,
     "metadata": {},
     "output_type": "execute_result"
    }
   ],
   "source": [
    "monthly_top5_cov = returns[tickers_top5]#.iloc[1,]\n",
    "monthly_top5_cov"
   ]
  },
  {
   "cell_type": "code",
   "execution_count": 43,
   "id": "1a4bb2a0",
   "metadata": {},
   "outputs": [
    {
     "data": {
      "text/html": [
       "<div>\n",
       "<style scoped>\n",
       "    .dataframe tbody tr th:only-of-type {\n",
       "        vertical-align: middle;\n",
       "    }\n",
       "\n",
       "    .dataframe tbody tr th {\n",
       "        vertical-align: top;\n",
       "    }\n",
       "\n",
       "    .dataframe thead th {\n",
       "        text-align: right;\n",
       "    }\n",
       "</style>\n",
       "<table border=\"1\" class=\"dataframe\">\n",
       "  <thead>\n",
       "    <tr style=\"text-align: right;\">\n",
       "      <th></th>\n",
       "      <th>K</th>\n",
       "      <th>CHD</th>\n",
       "      <th>JNJ</th>\n",
       "      <th>WM</th>\n",
       "      <th>PEP</th>\n",
       "    </tr>\n",
       "  </thead>\n",
       "  <tbody>\n",
       "    <tr>\n",
       "      <th>K</th>\n",
       "      <td>0.000124</td>\n",
       "      <td>-0.000107</td>\n",
       "      <td>0.000093</td>\n",
       "      <td>-0.000093</td>\n",
       "      <td>-0.000003</td>\n",
       "    </tr>\n",
       "    <tr>\n",
       "      <th>CHD</th>\n",
       "      <td>-0.000107</td>\n",
       "      <td>0.000528</td>\n",
       "      <td>-0.000144</td>\n",
       "      <td>0.000077</td>\n",
       "      <td>0.000351</td>\n",
       "    </tr>\n",
       "    <tr>\n",
       "      <th>JNJ</th>\n",
       "      <td>0.000093</td>\n",
       "      <td>-0.000144</td>\n",
       "      <td>0.000499</td>\n",
       "      <td>0.000049</td>\n",
       "      <td>-0.000086</td>\n",
       "    </tr>\n",
       "    <tr>\n",
       "      <th>WM</th>\n",
       "      <td>-0.000093</td>\n",
       "      <td>0.000077</td>\n",
       "      <td>0.000049</td>\n",
       "      <td>0.000538</td>\n",
       "      <td>0.000206</td>\n",
       "    </tr>\n",
       "    <tr>\n",
       "      <th>PEP</th>\n",
       "      <td>-0.000003</td>\n",
       "      <td>0.000351</td>\n",
       "      <td>-0.000086</td>\n",
       "      <td>0.000206</td>\n",
       "      <td>0.000716</td>\n",
       "    </tr>\n",
       "  </tbody>\n",
       "</table>\n",
       "</div>"
      ],
      "text/plain": [
       "            K       CHD       JNJ        WM       PEP\n",
       "K    0.000124 -0.000107  0.000093 -0.000093 -0.000003\n",
       "CHD -0.000107  0.000528 -0.000144  0.000077  0.000351\n",
       "JNJ  0.000093 -0.000144  0.000499  0.000049 -0.000086\n",
       "WM  -0.000093  0.000077  0.000049  0.000538  0.000206\n",
       "PEP -0.000003  0.000351 -0.000086  0.000206  0.000716"
      ]
     },
     "execution_count": 43,
     "metadata": {},
     "output_type": "execute_result"
    }
   ],
   "source": [
    "monthly_top5_returns = returns[tickers_top5]\n",
    "monthly_top5_returns.loc['1997-01-03':str(monthly_returns.index.tolist()[0])[0:10]].cov()"
   ]
  },
  {
   "cell_type": "code",
   "execution_count": 44,
   "id": "4b0c66c9",
   "metadata": {
    "scrolled": true
   },
   "outputs": [
    {
     "data": {
      "text/plain": [
       "<bound method Series.cov of K      0.003090\n",
       "CHD    0.005696\n",
       "JNJ    0.007101\n",
       "WM     0.007970\n",
       "PEP    0.007970\n",
       "Name: 1997-01-31 00:00:00, dtype: float64>"
      ]
     },
     "execution_count": 44,
     "metadata": {},
     "output_type": "execute_result"
    }
   ],
   "source": [
    "monthly_top5_mean_returns = returns[tickers_top5].resample('M').mean().iloc[0]\n",
    "monthly_top5_mean_returns.cov"
   ]
  },
  {
   "cell_type": "code",
   "execution_count": null,
   "id": "125d5912",
   "metadata": {},
   "outputs": [],
   "source": [
    "current_month_returns = np.array(monthly_returns.iloc[0])\n",
    "sort_index = np.argsort(current_month_returns)\n",
    "locations = sort_index[-5:].tolist()\n",
    "tickers_top5 = [tickers[i] for i in locations]\n",
    "monthly_top5_mean_returns = monthly_returns[tickers_top5]\n",
    "\n",
    "weights_top5 = max_return(monthly_top5_mean_returns)\n",
    "\n",
    "weights = np.zeros(len(tickers))\n",
    "weights[locations] = weights_top5\n",
    "empty_list.append(weights)"
   ]
  },
  {
   "cell_type": "code",
   "execution_count": null,
   "id": "940d82d0",
   "metadata": {
    "scrolled": true
   },
   "outputs": [],
   "source": [
    "monthly_returns.iloc[0].nlargest(5)\n",
    "#np.array(monthly_returns.iloc[0].nlargest(5))"
   ]
  },
  {
   "cell_type": "code",
   "execution_count": null,
   "id": "a64930e9",
   "metadata": {},
   "outputs": [],
   "source": [
    "# Monatliche Logreturns berechnen\n",
    "montly_returns = returns.resample('M').sum()\n",
    "\n",
    "def monthly_weights(monthly_returns):\n",
    "    empty_list = list()\n",
    "    for i in range(len(monthly_returns)):\n",
    "        \n",
    "        current_month_returns = np.array(monthly_returns.iloc[0])\n",
    "        sort_index = np.argsort(current_month_returns)\n",
    "        locations = sort_index[-5:].tolist()\n",
    "        x = np.zeros(len(tickers))\n",
    "        x[:] = np.nan\n",
    "        x[locations] = 1\n",
    "        current_month_returns * x\n",
    "        \n",
    "        \n",
    "        \n",
    "        monthly_top5_returns = [monthly_returns.iloc[i].idxmax(5)\n",
    "        #monthly_top5_tickers = tickers[monthly_top5_returns]\n",
    "        monthly_top5_mean_returns = [returns * x]\n",
    "        # Max Return Portfolio Funktion ausführen\n",
    "        w = max_return(monthly_top5_mean_returns)\n",
    "        empty_list.append(w)\n",
    "\n",
    "# Oberes Terzil der 15 Aktien pro Monat herausfiltern\n",
    "monthly_returns.sort(axis=1) for i in range(len(monthly_returns))"
   ]
  },
  {
   "cell_type": "code",
   "execution_count": null,
   "id": "62fc44f9",
   "metadata": {},
   "outputs": [],
   "source": [
    "# Tägliche Gewichte berechnen\n",
    "np.zeros(len(tickers)) #min 5 Aktien immer mit 0 gewichtet und Max Return opt. Portfolio auf oberes Terzil der beiden vergangenen Monate\n",
    "\n",
    "\n",
    "# Optimale Gewichte in täglichen Gewichtsvektor eintragen"
   ]
  },
  {
   "cell_type": "code",
   "execution_count": null,
   "id": "14c5b78c",
   "metadata": {},
   "outputs": [],
   "source": []
  },
  {
   "cell_type": "code",
   "execution_count": null,
   "id": "7f28794e",
   "metadata": {},
   "outputs": [],
   "source": []
  },
  {
   "cell_type": "code",
   "execution_count": null,
   "id": "cc3dae0c",
   "metadata": {},
   "outputs": [],
   "source": []
  },
  {
   "cell_type": "markdown",
   "id": "c8797f98",
   "metadata": {},
   "source": [
    "- Strategie basiert auf Max der Rendite, hohes Risiko\n",
    "- Brutto Renditen, monatliches Traden"
   ]
  },
  {
   "cell_type": "markdown",
   "id": "a5881c88",
   "metadata": {},
   "source": [
    "# MA-Alternative 2: \n",
    "# 7.2 Short-Selling"
   ]
  },
  {
   "cell_type": "markdown",
   "id": "3a64f508",
   "metadata": {},
   "source": [
    "MA-Alternative 2: Erlauben Sie nun bei der Festlegung der Gewichte im Zeitraum 1997-2001 \n",
    "auch Short-Selling. Wie beurteilen Sie die Performance der Portfolios für den Zeitraum von \n",
    "2002-2021. Ist Short-Selling in diesem Zusammenhang und über solch einen Zeitraum sinn\u0002voll? Ihre Präsentation sollte 30 Minuten dauern (20 Minuten Präsentation + 10 Minuten Q&A). "
   ]
  },
  {
   "cell_type": "code",
   "execution_count": null,
   "id": "3574bb2d",
   "metadata": {},
   "outputs": [],
   "source": [
    "# Parameter wie in Kapiel 1\n",
    "insample_cov = insample.cov()\n",
    "insample_mean_returns = insample.mean()\n",
    "alpha = 0.05\n",
    "days = 252\n",
    "rf = 0"
   ]
  },
  {
   "cell_type": "code",
   "execution_count": null,
   "id": "f8ebf8f6",
   "metadata": {
    "scrolled": true
   },
   "outputs": [],
   "source": [
    "#insample_cov"
   ]
  },
  {
   "cell_type": "markdown",
   "id": "569049bd",
   "metadata": {},
   "source": [
    "**7.2.1 Bestimmung des Portfolios mit minimaler Varianz**"
   ]
  },
  {
   "cell_type": "code",
   "execution_count": null,
   "id": "f2d112a6",
   "metadata": {
    "scrolled": false
   },
   "outputs": [],
   "source": [
    "# Funktion 1\n",
    "def calc_portfolio_std(weights, cov):\n",
    "    portfolio_std = np.sqrt(np.dot(np.dot(weights.T, cov), weights)) * np.sqrt(252) #h=15x1 Matrix-> [h.transpose * cov] * h = [1x15 * 15x15] * 15x1 = 1x15 * 15x1 = 1x1\n",
    "    return portfolio_std\n",
    "\n",
    "# Funktion 2\n",
    "def min_variance(cov):\n",
    "    num_assets = len(cov)\n",
    "    args = cov\n",
    "    constraints = ({'type': 'eq', 'fun': lambda x: np.sum(x) - 1}) #Nebenbedingung; ; eq für equality -> Gleichung != 0; np.sum(weights) - 1 = 0 (Summe der Gewichte müssen 1 ergeben und Gleichung muss gleich Null sein!)\n",
    "    bound = (-1.0, 1.0)\n",
    "    bounds = tuple(bound for assets in range(num_assets))\n",
    "    result = sco.minimize(calc_portfolio_std, num_assets*[1/num_assets], args=args, \n",
    "                         method='SLSQP', bounds=bounds, constraints=constraints)\n",
    "    return result\n",
    "\n",
    "# Ausführen der Funktionen\n",
    "function_result = min_variance(insample_cov) #fun: gibt den ZF-wert (Min Varinaz) an & x: gibt die Gewichtungen der einzelnen Aktien im Portfolio an\n",
    "#function_result#['x']"
   ]
  },
  {
   "cell_type": "code",
   "execution_count": null,
   "id": "91f78754",
   "metadata": {
    "scrolled": true
   },
   "outputs": [],
   "source": [
    "# Ergebnisse der Optimierung in DataFrame abspeichern\n",
    "insample_min_port_variance_shortselling = pd.DataFrame([round(x,2) for x in function_result['x']], index=tickers).T\n",
    "insample_min_port_variance_shortselling['Function Result'] = function_result['fun']"
   ]
  },
  {
   "cell_type": "markdown",
   "id": "5f9e11d7",
   "metadata": {},
   "source": [
    "**7.2.2 Bestimmung des Portfolios mit minimalem Value at Risk (VaR)**"
   ]
  },
  {
   "cell_type": "code",
   "execution_count": null,
   "id": "d854155b",
   "metadata": {
    "scrolled": true
   },
   "outputs": [],
   "source": [
    "# Funktion 1\n",
    "def calc_portfolio_VaR(weights, mean_returns, cov, alpha, days):\n",
    "    portfolio_return = np.sum(weights * mean_returns) * days #nur bei Logrenditen Addition möglich\n",
    "    portfolio_std = np.sqrt(np.dot(np.dot(weights.T, cov), weights)) * np.sqrt(days)\n",
    "    portfolio_VaR = abs(portfolio_return - (portfolio_std * stats.norm.ppf(1 - alpha))) #Erklären\n",
    "    return portfolio_VaR\n",
    "\n",
    "# Funktion 2\n",
    "def min_VaR(mean_returns, cov, alpha, days):\n",
    "    num_assets = len(mean_returns)\n",
    "    args = (mean_returns, cov, alpha ,days)\n",
    "    constraints = ({'type': 'eq', 'fun': lambda x: np.sum(x) - 1})\n",
    "    bound = (-1.0, 1.0)\n",
    "    bounds = tuple(bound for asset in range(num_assets))\n",
    "    result = sco.minimize(calc_portfolio_VaR, num_assets*[1/num_assets], args=args, \n",
    "                         method='SLSQP', bounds=bounds, constraints=constraints)\n",
    "    return result\n",
    "\n",
    "# Ausführen der Funktionen\n",
    "function_result = min_VaR(insample_mean_returns, insample_cov, alpha, days)\n",
    "#function_result"
   ]
  },
  {
   "cell_type": "code",
   "execution_count": null,
   "id": "1b02676e",
   "metadata": {},
   "outputs": [],
   "source": [
    "# Ergebnisse der Optimierung in DataFrame abspeichern\n",
    "insample_min_port_VaR_shortselling = pd.DataFrame([round(x,2) for x in function_result['x']], index=tickers).T\n",
    "insample_min_port_VaR_shortselling['Function Result'] = function_result['fun']"
   ]
  },
  {
   "cell_type": "markdown",
   "id": "2b6d65b7",
   "metadata": {},
   "source": [
    "**7.2.3 Bestimmung des Portfolios mit maximaler Sharpe Ratio (𝜇 - 𝜎 effizientes Portfolio)**"
   ]
  },
  {
   "cell_type": "code",
   "execution_count": null,
   "id": "d041e23d",
   "metadata": {
    "scrolled": true
   },
   "outputs": [],
   "source": [
    "# Funktion 1\n",
    "def calc_neg_sharpe(weights, mean_returns, cov, rf):\n",
    "    portfolio_return = np.sum(weights * mean_returns) * 252\n",
    "    portfolio_std = np.sqrt(np.dot(np.dot(weights.T, cov), weights)) * np.sqrt(252)\n",
    "    sharpe_ratio = (portfolio_return - rf) / portfolio_std\n",
    "    return -sharpe_ratio\n",
    "\n",
    "# Funktion 2\n",
    "def max_sharpe_ratio(mean_returns, cov, rf):\n",
    "    num_assets = len(mean_returns)\n",
    "    args = (mean_returns, cov, rf)\n",
    "    constraints = ({'type': 'eq', 'fun': lambda x: np.sum(x) -1})\n",
    "    bound = (-1.0, 1.0)\n",
    "    bounds = tuple(bound for asset in range(num_assets))\n",
    "    result = sco.minimize(calc_neg_sharpe, num_assets*[1/num_assets], args=args, \n",
    "                          method='SLSQP', bounds=bounds, constraints=constraints)\n",
    "    return result\n",
    "\n",
    "# Ausführen der Funktionen\n",
    "function_result = max_sharpe_ratio(insample_mean_returns, insample_cov, rf)\n",
    "#function_result"
   ]
  },
  {
   "cell_type": "code",
   "execution_count": null,
   "id": "688739f4",
   "metadata": {
    "scrolled": false
   },
   "outputs": [],
   "source": [
    "# Ergebnisse der Optimierung in DataFrame abspeichern\n",
    "insample_max_port_SharpeRatio_shortselling = pd.DataFrame([round(x,2) for x in function_result['x']], index=tickers).T\n",
    "insample_max_port_SharpeRatio_shortselling['Function Result'] = -function_result['fun'] #hier Vorzeichen wieder umkehren!"
   ]
  },
  {
   "cell_type": "markdown",
   "id": "ff0522ab",
   "metadata": {},
   "source": [
    "**7.2.4 Vergleich der Gewichtungen der drei Strategien**"
   ]
  },
  {
   "cell_type": "code",
   "execution_count": null,
   "id": "67ac338f",
   "metadata": {
    "scrolled": false
   },
   "outputs": [],
   "source": [
    "# Zusammenfassung der Portfolios in einem DataFrame\n",
    "insample_portfolios_shortselling = pd.concat([insample_min_port_variance_shortselling, insample_min_port_VaR_shortselling, insample_max_port_SharpeRatio_shortselling], axis=0)\n",
    "insample_portfolios_shortselling.index = ['Min Variance', 'Min VaR', 'Max Sharpe Ratio']\n",
    "insample_portfolios_shortselling"
   ]
  },
  {
   "cell_type": "code",
   "execution_count": null,
   "id": "c9809bf4",
   "metadata": {
    "scrolled": true
   },
   "outputs": [],
   "source": [
    "# Dataframe nur mit Gewichtungen der Aktien\n",
    "insample_weights_shortselling = insample_portfolios_shortselling.drop(['Function Result'], axis=1)"
   ]
  },
  {
   "cell_type": "code",
   "execution_count": null,
   "id": "9dddad22",
   "metadata": {
    "scrolled": false
   },
   "outputs": [],
   "source": [
    "# 1997-2001\n",
    "plt.figure(figsize=(15,7))\n",
    "plt.plot(insample_weights_shortselling.iloc[0].T, label='Min Variance')\n",
    "plt.plot(insample_weights_shortselling.iloc[1].T, label='Value at Risk')\n",
    "plt.plot(insample_weights_shortselling.iloc[2].T, label='Sharpe Ratio')\n",
    "plt.xlabel('asset')\n",
    "plt.ylabel('weight')\n",
    "plt.legend();"
   ]
  },
  {
   "cell_type": "markdown",
   "id": "87c6a2eb",
   "metadata": {},
   "source": [
    "bla bla bla..."
   ]
  },
  {
   "cell_type": "markdown",
   "id": "925eddfa",
   "metadata": {},
   "source": [
    "**7.2.5 Bewertung der Performance der drei Strategien gegenüber Aufgabe 1 (ohne Short-Selling)**"
   ]
  },
  {
   "cell_type": "code",
   "execution_count": null,
   "id": "a627c728",
   "metadata": {
    "scrolled": false
   },
   "outputs": [],
   "source": [
    "# Returns der Strategien berechnen\n",
    "BaH_returns_shortselling = pd.DataFrame(columns = ['Min Variance', 'Min VaR', 'Max Sharpe Ratio'], index=['Returns'])\n",
    "BaH_returns_shortselling.loc['Returns'] = [np.sum(outsample_cumulated.iloc[-1] * insample_weights_shortselling.iloc[i]) for i in range(len(insample_weights_shortselling))]\n",
    "BaH_returns_shortselling - BaH_returns"
   ]
  },
  {
   "cell_type": "markdown",
   "id": "041afc10",
   "metadata": {},
   "source": [
    "Verbesserung/Verschlechterung der Returns in der BaH-Strategie..."
   ]
  },
  {
   "cell_type": "markdown",
   "id": "0ac70af7",
   "metadata": {},
   "source": [
    "**7.2.6 Short-Selling über diesen Zeitraum sinnvoll?**"
   ]
  },
  {
   "cell_type": "markdown",
   "id": "924a3360",
   "metadata": {},
   "source": [
    "..."
   ]
  },
  {
   "cell_type": "code",
   "execution_count": null,
   "id": "739f604b",
   "metadata": {},
   "outputs": [],
   "source": []
  },
  {
   "cell_type": "code",
   "execution_count": null,
   "id": "f080c19b",
   "metadata": {},
   "outputs": [],
   "source": []
  }
 ],
 "metadata": {
  "kernelspec": {
   "display_name": "Python 3 (ipykernel)",
   "language": "python",
   "name": "python3"
  },
  "language_info": {
   "codemirror_mode": {
    "name": "ipython",
    "version": 3
   },
   "file_extension": ".py",
   "mimetype": "text/x-python",
   "name": "python",
   "nbconvert_exporter": "python",
   "pygments_lexer": "ipython3",
   "version": "3.9.7"
  }
 },
 "nbformat": 4,
 "nbformat_minor": 5
}
