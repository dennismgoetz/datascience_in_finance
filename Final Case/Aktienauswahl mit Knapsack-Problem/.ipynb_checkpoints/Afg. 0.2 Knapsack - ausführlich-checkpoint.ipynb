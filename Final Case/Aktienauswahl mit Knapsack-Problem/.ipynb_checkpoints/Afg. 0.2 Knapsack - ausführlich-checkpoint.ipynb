{
 "cells": [
  {
   "cell_type": "code",
   "execution_count": 1,
   "id": "5f368bd2",
   "metadata": {},
   "outputs": [],
   "source": [
    "import pandas as pd\n",
    "import numpy as np\n",
    "import pandas_datareader.data as web\n",
    "import scipy.optimize as sco\n",
    "from scipy import stats\n",
    "import matplotlib.pyplot as plt\n",
    "%matplotlib inline\n",
    "\n",
    "import yfinance as yf"
   ]
  },
  {
   "cell_type": "code",
   "execution_count": 2,
   "id": "f522f2ac",
   "metadata": {},
   "outputs": [
    {
     "name": "stdout",
     "output_type": "stream",
     "text": [
      "[*********************100%***********************]  105 of 105 completed\n"
     ]
    },
    {
     "data": {
      "text/html": [
       "<div>\n",
       "<style scoped>\n",
       "    .dataframe tbody tr th:only-of-type {\n",
       "        vertical-align: middle;\n",
       "    }\n",
       "\n",
       "    .dataframe tbody tr th {\n",
       "        vertical-align: top;\n",
       "    }\n",
       "\n",
       "    .dataframe thead th {\n",
       "        text-align: right;\n",
       "    }\n",
       "</style>\n",
       "<table border=\"1\" class=\"dataframe\">\n",
       "  <thead>\n",
       "    <tr style=\"text-align: right;\">\n",
       "      <th></th>\n",
       "      <th>AAPL</th>\n",
       "      <th>ABC</th>\n",
       "      <th>ABT</th>\n",
       "      <th>ADBE</th>\n",
       "      <th>ADM</th>\n",
       "      <th>ADP</th>\n",
       "      <th>ADSK</th>\n",
       "      <th>AEP</th>\n",
       "      <th>AIR</th>\n",
       "      <th>AMD</th>\n",
       "      <th>...</th>\n",
       "      <th>TXN</th>\n",
       "      <th>UL</th>\n",
       "      <th>VOD</th>\n",
       "      <th>VZ</th>\n",
       "      <th>WBA</th>\n",
       "      <th>WHR</th>\n",
       "      <th>WM</th>\n",
       "      <th>WMT</th>\n",
       "      <th>WPP</th>\n",
       "      <th>XOM</th>\n",
       "    </tr>\n",
       "    <tr>\n",
       "      <th>Date</th>\n",
       "      <th></th>\n",
       "      <th></th>\n",
       "      <th></th>\n",
       "      <th></th>\n",
       "      <th></th>\n",
       "      <th></th>\n",
       "      <th></th>\n",
       "      <th></th>\n",
       "      <th></th>\n",
       "      <th></th>\n",
       "      <th></th>\n",
       "      <th></th>\n",
       "      <th></th>\n",
       "      <th></th>\n",
       "      <th></th>\n",
       "      <th></th>\n",
       "      <th></th>\n",
       "      <th></th>\n",
       "      <th></th>\n",
       "      <th></th>\n",
       "      <th></th>\n",
       "    </tr>\n",
       "  </thead>\n",
       "  <tbody>\n",
       "    <tr>\n",
       "      <th>1997-01-02</th>\n",
       "      <td>0.159828</td>\n",
       "      <td>4.382779</td>\n",
       "      <td>6.301042</td>\n",
       "      <td>4.734612</td>\n",
       "      <td>9.933488</td>\n",
       "      <td>10.192073</td>\n",
       "      <td>6.731961</td>\n",
       "      <td>12.661549</td>\n",
       "      <td>15.871889</td>\n",
       "      <td>13.562500</td>\n",
       "      <td>...</td>\n",
       "      <td>5.260987</td>\n",
       "      <td>5.736646</td>\n",
       "      <td>3.180114</td>\n",
       "      <td>9.580031</td>\n",
       "      <td>6.376993</td>\n",
       "      <td>23.870764</td>\n",
       "      <td>18.013683</td>\n",
       "      <td>7.482738</td>\n",
       "      <td>11.266986</td>\n",
       "      <td>11.161176</td>\n",
       "    </tr>\n",
       "    <tr>\n",
       "      <th>1997-01-03</th>\n",
       "      <td>0.165536</td>\n",
       "      <td>4.406859</td>\n",
       "      <td>6.441758</td>\n",
       "      <td>4.795903</td>\n",
       "      <td>9.933488</td>\n",
       "      <td>10.401296</td>\n",
       "      <td>6.968171</td>\n",
       "      <td>12.584580</td>\n",
       "      <td>15.736229</td>\n",
       "      <td>14.000000</td>\n",
       "      <td>...</td>\n",
       "      <td>5.540057</td>\n",
       "      <td>5.751684</td>\n",
       "      <td>3.259123</td>\n",
       "      <td>9.544279</td>\n",
       "      <td>6.457458</td>\n",
       "      <td>25.019613</td>\n",
       "      <td>17.576097</td>\n",
       "      <td>7.360739</td>\n",
       "      <td>11.234043</td>\n",
       "      <td>11.189545</td>\n",
       "    </tr>\n",
       "    <tr>\n",
       "      <th>1997-01-06</th>\n",
       "      <td>0.136044</td>\n",
       "      <td>4.418901</td>\n",
       "      <td>6.363581</td>\n",
       "      <td>4.964447</td>\n",
       "      <td>9.820610</td>\n",
       "      <td>10.311631</td>\n",
       "      <td>7.115802</td>\n",
       "      <td>12.507606</td>\n",
       "      <td>15.600580</td>\n",
       "      <td>14.250000</td>\n",
       "      <td>...</td>\n",
       "      <td>5.591738</td>\n",
       "      <td>5.736646</td>\n",
       "      <td>3.318379</td>\n",
       "      <td>9.508537</td>\n",
       "      <td>6.437343</td>\n",
       "      <td>25.019613</td>\n",
       "      <td>17.357309</td>\n",
       "      <td>7.198066</td>\n",
       "      <td>10.970489</td>\n",
       "      <td>11.345544</td>\n",
       "    </tr>\n",
       "    <tr>\n",
       "      <th>1997-01-07</th>\n",
       "      <td>0.133190</td>\n",
       "      <td>4.418901</td>\n",
       "      <td>6.504298</td>\n",
       "      <td>5.163639</td>\n",
       "      <td>10.046365</td>\n",
       "      <td>10.401296</td>\n",
       "      <td>7.588220</td>\n",
       "      <td>12.623060</td>\n",
       "      <td>15.600580</td>\n",
       "      <td>14.937500</td>\n",
       "      <td>...</td>\n",
       "      <td>5.664087</td>\n",
       "      <td>5.653943</td>\n",
       "      <td>3.318379</td>\n",
       "      <td>9.347683</td>\n",
       "      <td>6.417226</td>\n",
       "      <td>24.828150</td>\n",
       "      <td>18.232471</td>\n",
       "      <td>7.767408</td>\n",
       "      <td>10.838715</td>\n",
       "      <td>11.373909</td>\n",
       "    </tr>\n",
       "    <tr>\n",
       "      <th>1997-01-08</th>\n",
       "      <td>0.134142</td>\n",
       "      <td>4.346655</td>\n",
       "      <td>6.410487</td>\n",
       "      <td>5.178962</td>\n",
       "      <td>10.046365</td>\n",
       "      <td>10.401296</td>\n",
       "      <td>7.217862</td>\n",
       "      <td>12.623060</td>\n",
       "      <td>15.532740</td>\n",
       "      <td>14.437500</td>\n",
       "      <td>...</td>\n",
       "      <td>5.622746</td>\n",
       "      <td>5.653943</td>\n",
       "      <td>3.328257</td>\n",
       "      <td>9.198765</td>\n",
       "      <td>6.316643</td>\n",
       "      <td>24.636662</td>\n",
       "      <td>18.742983</td>\n",
       "      <td>7.686074</td>\n",
       "      <td>10.739876</td>\n",
       "      <td>11.288820</td>\n",
       "    </tr>\n",
       "    <tr>\n",
       "      <th>...</th>\n",
       "      <td>...</td>\n",
       "      <td>...</td>\n",
       "      <td>...</td>\n",
       "      <td>...</td>\n",
       "      <td>...</td>\n",
       "      <td>...</td>\n",
       "      <td>...</td>\n",
       "      <td>...</td>\n",
       "      <td>...</td>\n",
       "      <td>...</td>\n",
       "      <td>...</td>\n",
       "      <td>...</td>\n",
       "      <td>...</td>\n",
       "      <td>...</td>\n",
       "      <td>...</td>\n",
       "      <td>...</td>\n",
       "      <td>...</td>\n",
       "      <td>...</td>\n",
       "      <td>...</td>\n",
       "      <td>...</td>\n",
       "      <td>...</td>\n",
       "    </tr>\n",
       "    <tr>\n",
       "      <th>2021-12-23</th>\n",
       "      <td>175.262802</td>\n",
       "      <td>127.924416</td>\n",
       "      <td>136.246521</td>\n",
       "      <td>569.619995</td>\n",
       "      <td>64.221039</td>\n",
       "      <td>237.479584</td>\n",
       "      <td>280.989990</td>\n",
       "      <td>83.651955</td>\n",
       "      <td>38.500000</td>\n",
       "      <td>146.139999</td>\n",
       "      <td>...</td>\n",
       "      <td>182.246841</td>\n",
       "      <td>50.875423</td>\n",
       "      <td>14.174837</td>\n",
       "      <td>49.172920</td>\n",
       "      <td>48.247768</td>\n",
       "      <td>218.013992</td>\n",
       "      <td>159.379501</td>\n",
       "      <td>137.331238</td>\n",
       "      <td>71.278763</td>\n",
       "      <td>58.691692</td>\n",
       "    </tr>\n",
       "    <tr>\n",
       "      <th>2021-12-27</th>\n",
       "      <td>179.289444</td>\n",
       "      <td>130.265045</td>\n",
       "      <td>138.498352</td>\n",
       "      <td>577.679993</td>\n",
       "      <td>64.839317</td>\n",
       "      <td>241.689453</td>\n",
       "      <td>284.299988</td>\n",
       "      <td>84.193405</td>\n",
       "      <td>38.700001</td>\n",
       "      <td>154.360001</td>\n",
       "      <td>...</td>\n",
       "      <td>186.564743</td>\n",
       "      <td>51.289589</td>\n",
       "      <td>14.118958</td>\n",
       "      <td>49.172920</td>\n",
       "      <td>48.486713</td>\n",
       "      <td>221.227539</td>\n",
       "      <td>161.200226</td>\n",
       "      <td>138.581589</td>\n",
       "      <td>72.627258</td>\n",
       "      <td>59.528496</td>\n",
       "    </tr>\n",
       "    <tr>\n",
       "      <th>2021-12-28</th>\n",
       "      <td>178.255432</td>\n",
       "      <td>130.719330</td>\n",
       "      <td>137.529068</td>\n",
       "      <td>569.359985</td>\n",
       "      <td>65.683281</td>\n",
       "      <td>241.473572</td>\n",
       "      <td>282.769989</td>\n",
       "      <td>85.285934</td>\n",
       "      <td>38.990002</td>\n",
       "      <td>153.149994</td>\n",
       "      <td>...</td>\n",
       "      <td>185.845093</td>\n",
       "      <td>51.559277</td>\n",
       "      <td>14.212090</td>\n",
       "      <td>49.210251</td>\n",
       "      <td>49.155762</td>\n",
       "      <td>221.333054</td>\n",
       "      <td>162.528900</td>\n",
       "      <td>140.570328</td>\n",
       "      <td>72.502930</td>\n",
       "      <td>59.336128</td>\n",
       "    </tr>\n",
       "    <tr>\n",
       "      <th>2021-12-29</th>\n",
       "      <td>178.344925</td>\n",
       "      <td>131.687180</td>\n",
       "      <td>138.234009</td>\n",
       "      <td>569.289978</td>\n",
       "      <td>65.761810</td>\n",
       "      <td>243.377304</td>\n",
       "      <td>282.570007</td>\n",
       "      <td>85.643677</td>\n",
       "      <td>39.080002</td>\n",
       "      <td>148.259995</td>\n",
       "      <td>...</td>\n",
       "      <td>185.563080</td>\n",
       "      <td>51.645962</td>\n",
       "      <td>14.240030</td>\n",
       "      <td>48.874218</td>\n",
       "      <td>49.939499</td>\n",
       "      <td>223.587341</td>\n",
       "      <td>163.749283</td>\n",
       "      <td>140.501419</td>\n",
       "      <td>72.875908</td>\n",
       "      <td>58.816734</td>\n",
       "    </tr>\n",
       "    <tr>\n",
       "      <th>2021-12-30</th>\n",
       "      <td>177.171738</td>\n",
       "      <td>132.111862</td>\n",
       "      <td>138.047974</td>\n",
       "      <td>570.530029</td>\n",
       "      <td>65.614594</td>\n",
       "      <td>240.973083</td>\n",
       "      <td>281.709991</td>\n",
       "      <td>85.750031</td>\n",
       "      <td>38.549999</td>\n",
       "      <td>145.149994</td>\n",
       "      <td>...</td>\n",
       "      <td>184.201584</td>\n",
       "      <td>51.607441</td>\n",
       "      <td>14.109644</td>\n",
       "      <td>48.771542</td>\n",
       "      <td>49.691002</td>\n",
       "      <td>223.107712</td>\n",
       "      <td>163.109573</td>\n",
       "      <td>140.954300</td>\n",
       "      <td>72.397720</td>\n",
       "      <td>58.470470</td>\n",
       "    </tr>\n",
       "  </tbody>\n",
       "</table>\n",
       "<p>6292 rows × 105 columns</p>\n",
       "</div>"
      ],
      "text/plain": [
       "                  AAPL         ABC         ABT        ADBE        ADM  \\\n",
       "Date                                                                    \n",
       "1997-01-02    0.159828    4.382779    6.301042    4.734612   9.933488   \n",
       "1997-01-03    0.165536    4.406859    6.441758    4.795903   9.933488   \n",
       "1997-01-06    0.136044    4.418901    6.363581    4.964447   9.820610   \n",
       "1997-01-07    0.133190    4.418901    6.504298    5.163639  10.046365   \n",
       "1997-01-08    0.134142    4.346655    6.410487    5.178962  10.046365   \n",
       "...                ...         ...         ...         ...        ...   \n",
       "2021-12-23  175.262802  127.924416  136.246521  569.619995  64.221039   \n",
       "2021-12-27  179.289444  130.265045  138.498352  577.679993  64.839317   \n",
       "2021-12-28  178.255432  130.719330  137.529068  569.359985  65.683281   \n",
       "2021-12-29  178.344925  131.687180  138.234009  569.289978  65.761810   \n",
       "2021-12-30  177.171738  132.111862  138.047974  570.530029  65.614594   \n",
       "\n",
       "                   ADP        ADSK        AEP        AIR         AMD  ...  \\\n",
       "Date                                                                  ...   \n",
       "1997-01-02   10.192073    6.731961  12.661549  15.871889   13.562500  ...   \n",
       "1997-01-03   10.401296    6.968171  12.584580  15.736229   14.000000  ...   \n",
       "1997-01-06   10.311631    7.115802  12.507606  15.600580   14.250000  ...   \n",
       "1997-01-07   10.401296    7.588220  12.623060  15.600580   14.937500  ...   \n",
       "1997-01-08   10.401296    7.217862  12.623060  15.532740   14.437500  ...   \n",
       "...                ...         ...        ...        ...         ...  ...   \n",
       "2021-12-23  237.479584  280.989990  83.651955  38.500000  146.139999  ...   \n",
       "2021-12-27  241.689453  284.299988  84.193405  38.700001  154.360001  ...   \n",
       "2021-12-28  241.473572  282.769989  85.285934  38.990002  153.149994  ...   \n",
       "2021-12-29  243.377304  282.570007  85.643677  39.080002  148.259995  ...   \n",
       "2021-12-30  240.973083  281.709991  85.750031  38.549999  145.149994  ...   \n",
       "\n",
       "                   TXN         UL        VOD         VZ        WBA  \\\n",
       "Date                                                                 \n",
       "1997-01-02    5.260987   5.736646   3.180114   9.580031   6.376993   \n",
       "1997-01-03    5.540057   5.751684   3.259123   9.544279   6.457458   \n",
       "1997-01-06    5.591738   5.736646   3.318379   9.508537   6.437343   \n",
       "1997-01-07    5.664087   5.653943   3.318379   9.347683   6.417226   \n",
       "1997-01-08    5.622746   5.653943   3.328257   9.198765   6.316643   \n",
       "...                ...        ...        ...        ...        ...   \n",
       "2021-12-23  182.246841  50.875423  14.174837  49.172920  48.247768   \n",
       "2021-12-27  186.564743  51.289589  14.118958  49.172920  48.486713   \n",
       "2021-12-28  185.845093  51.559277  14.212090  49.210251  49.155762   \n",
       "2021-12-29  185.563080  51.645962  14.240030  48.874218  49.939499   \n",
       "2021-12-30  184.201584  51.607441  14.109644  48.771542  49.691002   \n",
       "\n",
       "                   WHR          WM         WMT        WPP        XOM  \n",
       "Date                                                                  \n",
       "1997-01-02   23.870764   18.013683    7.482738  11.266986  11.161176  \n",
       "1997-01-03   25.019613   17.576097    7.360739  11.234043  11.189545  \n",
       "1997-01-06   25.019613   17.357309    7.198066  10.970489  11.345544  \n",
       "1997-01-07   24.828150   18.232471    7.767408  10.838715  11.373909  \n",
       "1997-01-08   24.636662   18.742983    7.686074  10.739876  11.288820  \n",
       "...                ...         ...         ...        ...        ...  \n",
       "2021-12-23  218.013992  159.379501  137.331238  71.278763  58.691692  \n",
       "2021-12-27  221.227539  161.200226  138.581589  72.627258  59.528496  \n",
       "2021-12-28  221.333054  162.528900  140.570328  72.502930  59.336128  \n",
       "2021-12-29  223.587341  163.749283  140.501419  72.875908  58.816734  \n",
       "2021-12-30  223.107712  163.109573  140.954300  72.397720  58.470470  \n",
       "\n",
       "[6292 rows x 105 columns]"
      ]
     },
     "execution_count": 2,
     "metadata": {},
     "output_type": "execute_result"
    }
   ],
   "source": [
    "yf.pdr_override()\n",
    "tickers = ['AAPL', 'ABC', 'ABT', 'ADBE', 'ADM', 'ADP', 'ADSK', 'AEP', 'AIR',\n",
    "       'AMD', 'AMGN', 'ATVI', 'AXP', 'AZN', 'BA', 'BAX', 'BCE', 'BMY',\n",
    "       'BSX', 'BTI', 'C', 'CAT', 'CHD', 'CL', 'CLX', 'CMCSA', 'COST',\n",
    "       'CSCO', 'CVS', 'DD', 'DE', 'DIS', 'DTE', 'DUK', 'DVN', 'EA', 'ED',\n",
    "       'EFX', 'EMR', 'ETN', 'F', 'FCX', 'FDX', 'FISV', 'GD', 'GE', 'GIS',\n",
    "       'HAL', 'HD', 'HOG', 'HON', 'HRL', 'HSIC', 'HTHIY', 'HUM', 'IBM',\n",
    "       'INTC', 'INTU', 'IP', 'ITW', 'JNJ', 'JPM', 'K', 'KO', 'LLY', 'LMT',\n",
    "       'LUV', 'MCD', 'MDT', 'MMM', 'MO', 'MRK', 'MSFT', 'NKE', 'NVO',\n",
    "       'NYT', 'OMC', 'ORCL', 'PCRFY', 'PEP', 'PFE', 'PG', 'PHG', 'RELX',\n",
    "       'RTX', 'SAP', 'SBUX', 'SCHW', 'SLB', 'SO', 'SONY', 'T', 'TJX',\n",
    "       'TM', 'TRV', 'TXN', 'UL', 'VOD', 'VZ', 'WBA', 'WHR', 'WM', 'WMT',\n",
    "       'WPP', 'XOM']\n",
    "start = '1997-01-01'\n",
    "end = '2021-12-31'\n",
    "\n",
    "# DataFrame mit den Adj Close Preisen der Ticker erstellen\n",
    "Adj_Close = web.get_data_yahoo(tickers, start, end)['Adj Close']\n",
    "Adj_Close = pd.DataFrame(Adj_Close)\n",
    "\n",
    "# Anzahl fehlender Werte sollte 0 sein\n",
    "Adj_Close.isna().sum().sum()"
   ]
  },
  {
   "cell_type": "code",
   "execution_count": 20,
   "id": "4161e09b",
   "metadata": {},
   "outputs": [
    {
     "data": {
      "text/plain": [
       "0"
      ]
     },
     "execution_count": 20,
     "metadata": {},
     "output_type": "execute_result"
    }
   ],
   "source": [
    "# Anzahl fehlender Werte sollte 0 sein\n",
    "Adj_Close.isna().sum().sum()"
   ]
  },
  {
   "cell_type": "code",
   "execution_count": 4,
   "id": "874d4942",
   "metadata": {
    "scrolled": false
   },
   "outputs": [],
   "source": [
    "returns = np.log(Adj_Close/Adj_Close.shift(1))\n",
    "returns = returns.dropna()"
   ]
  },
  {
   "cell_type": "code",
   "execution_count": 5,
   "id": "2d46f896",
   "metadata": {},
   "outputs": [],
   "source": [
    "# Dataframe kürzen 1997-2001\n",
    "insample = returns.loc['1997-01-01':'2001-12-31']\n",
    "\n",
    "# Varianz-Covarianz-Matrix berechnen\n",
    "cov_matrix = insample.cov()\n",
    "\n",
    "# Varianzen löschen (Hauptdiagonale = 0)\n",
    "for i in range(len(cov_matrix)):\n",
    "    cov_matrix.iloc[i,i] = 0\n",
    "\n",
    "#cov_matrix"
   ]
  },
  {
   "cell_type": "code",
   "execution_count": 6,
   "id": "4a9a7468",
   "metadata": {
    "scrolled": false
   },
   "outputs": [
    {
     "name": "stdout",
     "output_type": "stream",
     "text": [
      "0.18177454805411306\n"
     ]
    }
   ],
   "source": [
    "# Mean der Covarianzen unter den Aktien berechnet werden: dieser soll im Portfolio minimiert werden! (Benchmark)\n",
    "#np.sum(cov_matrix, axis=1).mean()*15 #alternativ\n",
    "mean_portfolio_covariance = (np.sum(np.sum(cov_matrix))/len(tickers))*15\n",
    "print(mean_portfolio_covariance)\n",
    "\n",
    "mean_portfolio_covariance_61 = 0.11378283828050288"
   ]
  },
  {
   "cell_type": "code",
   "execution_count": 7,
   "id": "d4c6b88f",
   "metadata": {
    "scrolled": false
   },
   "outputs": [
    {
     "name": "stdout",
     "output_type": "stream",
     "text": [
      "0.07768239400121114\n"
     ]
    },
    {
     "data": {
      "text/plain": [
       "array([0.  , 0.  , 0.  , 0.  , 0.46, 0.  , 0.  , 1.  , 0.  , 0.  , 0.  ,\n",
       "       0.  , 0.  , 0.88, 0.  , 0.  , 0.  , 0.  , 0.  , 1.  , 0.  , 0.  ,\n",
       "       0.  , 0.  , 0.  , 0.  , 0.  , 0.  , 0.  , 0.  , 0.  , 0.  , 1.  ,\n",
       "       1.  , 1.  , 0.  , 1.  , 0.  , 0.  , 0.  , 0.  , 1.  , 0.  , 0.  ,\n",
       "       0.  , 0.  , 1.  , 0.  , 0.  , 0.  , 0.  , 1.  , 0.  , 0.  , 0.  ,\n",
       "       0.  , 0.  , 0.  , 0.  , 0.  , 0.  , 0.  , 0.  , 0.  , 0.  , 1.  ,\n",
       "       0.  , 0.  , 0.  , 0.  , 0.  , 0.  , 0.  , 0.  , 1.  , 0.  , 0.  ,\n",
       "       0.  , 0.  , 0.  , 0.  , 0.  , 0.  , 1.  , 0.  , 0.  , 0.  , 0.  ,\n",
       "       0.  , 1.  , 0.  , 0.  , 0.  , 0.12, 0.  , 0.  , 0.  , 0.  , 0.03,\n",
       "       0.  , 0.  , 0.  , 0.  , 0.  , 0.5 ])"
      ]
     },
     "execution_count": 7,
     "metadata": {},
     "output_type": "execute_result"
    }
   ],
   "source": [
    "# Funktion 1\n",
    "def calc_min_covariance(selected_assets, num_assets, cov_matrix):\n",
    "    covariances = selected_assets * cov_matrix\n",
    "    portfolio_covariance = np.sum(np.sum(covariances))\n",
    "    return portfolio_covariance\n",
    "\n",
    "# Funktion 2\n",
    "def min_port_covariance(num_assets, cov_matrix):\n",
    "    args = (num_assets, cov_matrix)\n",
    "    constraints = ({'type': 'eq', 'fun': lambda x: np.sum(x) - num_assets})\n",
    "    start = np.concatenate((np.ones(num_assets), np.zeros(len(tickers) - num_assets)), axis=0)\n",
    "    bound = (0, 1)\n",
    "    bounds = tuple(bound for asset in range(len(tickers)))\n",
    "    result = sco.minimize(calc_min_covariance, start, args=args, \n",
    "                          method='SLSQP', bounds=bounds, constraints=constraints)\n",
    "    return result\n",
    "\n",
    "# Ausführen der Funktionen\n",
    "function_result = min_port_covariance(15, cov_matrix)\n",
    "print(function_result['fun'])\n",
    "x = np.round(function_result['x'],2)\n",
    "x\n",
    "#np.sum(x)"
   ]
  },
  {
   "cell_type": "code",
   "execution_count": 8,
   "id": "8a2a4392",
   "metadata": {},
   "outputs": [
    {
     "data": {
      "text/plain": [
       "0.07760802919936549"
      ]
     },
     "execution_count": 8,
     "metadata": {},
     "output_type": "execute_result"
    }
   ],
   "source": [
    "cov_matrix*x\n",
    "np.sum(np.sum(cov_matrix*x))"
   ]
  },
  {
   "cell_type": "code",
   "execution_count": 9,
   "id": "26d823b7",
   "metadata": {},
   "outputs": [
    {
     "name": "stdout",
     "output_type": "stream",
     "text": [
      "15\n"
     ]
    },
    {
     "data": {
      "text/plain": [
       "array([0., 0., 0., 0., 0., 0., 0., 1., 0., 0., 0., 0., 0., 1., 0., 0., 0.,\n",
       "       0., 0., 1., 0., 0., 0., 0., 0., 0., 0., 0., 0., 0., 0., 0., 1., 1.,\n",
       "       1., 0., 1., 0., 0., 0., 0., 1., 0., 0., 0., 0., 1., 0., 0., 0., 0.,\n",
       "       1., 0., 0., 0., 0., 0., 0., 0., 0., 0., 0., 0., 0., 0., 1., 0., 0.,\n",
       "       0., 0., 0., 0., 0., 0., 1., 0., 0., 0., 0., 0., 0., 0., 0., 1., 0.,\n",
       "       0., 0., 0., 0., 1., 0., 0., 0., 0., 0., 0., 0., 0., 0., 0., 0., 0.,\n",
       "       0., 0., 1.])"
      ]
     },
     "execution_count": 9,
     "metadata": {},
     "output_type": "execute_result"
    }
   ],
   "source": [
    "# Gewichtungen auf 0 bzw. 1 runden\n",
    "x = np.round(function_result['x'])\n",
    "print(np.sum(x==1))\n",
    "x"
   ]
  },
  {
   "cell_type": "code",
   "execution_count": 10,
   "id": "8196a638",
   "metadata": {},
   "outputs": [],
   "source": [
    "# Gewichtungen auf 0 bzw. 1 runden\n",
    "#for i in range(len(x)):\n",
    "#    if x[i] > 0.5:\n",
    "#        x[i] = int(1)\n",
    "#    else:\n",
    "#        x[i] = int(0)\n",
    "#x\n",
    "#np.sum(x==1)"
   ]
  },
  {
   "cell_type": "code",
   "execution_count": 11,
   "id": "94df899d",
   "metadata": {},
   "outputs": [],
   "source": [
    "# Gewichtungen auf 0 bzw. 1 runden\n",
    "#x = np.array([int(i) for i in x]) #rundet nur auf 13 Aktien...\n",
    "#np.sum(x==1)\n",
    "#x"
   ]
  },
  {
   "cell_type": "code",
   "execution_count": 12,
   "id": "670c5885",
   "metadata": {},
   "outputs": [
    {
     "name": "stdout",
     "output_type": "stream",
     "text": [
      "['AAPL', 'ABC', 'ABT', 'ADBE', 'ADM', 'ADP', 'ADSK', 'AEP', 'AIR', 'AMD', 'AMGN', 'ATVI', 'AXP', 'AZN', 'BA', 'BAX', 'BCE', 'BMY', 'BSX', 'BTI', 'C', 'CAT', 'CHD', 'CL', 'CLX', 'CMCSA', 'COST', 'CSCO', 'CVS', 'DD', 'DE', 'DIS', 'DTE', 'DUK', 'DVN', 'EA', 'ED', 'EFX', 'EMR', 'ETN', 'F', 'FCX', 'FDX', 'FISV', 'GD', 'GE', 'GIS', 'HAL', 'HD', 'HOG', 'HON', 'HRL', 'HSIC', 'HTHIY', 'HUM', 'IBM', 'INTC', 'INTU', 'IP', 'ITW', 'JNJ', 'JPM', 'K', 'KO', 'LLY', 'LMT', 'LUV', 'MCD', 'MDT', 'MMM', 'MO', 'MRK', 'MSFT', 'NKE', 'NVO', 'NYT', 'OMC', 'ORCL', 'PCRFY', 'PEP', 'PFE', 'PG', 'PHG', 'RELX', 'RTX', 'SAP', 'SBUX', 'SCHW', 'SLB', 'SO', 'SONY', 'T', 'TJX', 'TM', 'TRV', 'TXN', 'UL', 'VOD', 'VZ', 'WBA', 'WHR', 'WM', 'WMT', 'WPP', 'XOM']\n"
     ]
    }
   ],
   "source": [
    "# Ansicht aller Ticker\n",
    "#tickers\n",
    "print(tickers)"
   ]
  },
  {
   "cell_type": "code",
   "execution_count": 13,
   "id": "2ba3234a",
   "metadata": {},
   "outputs": [
    {
     "name": "stdout",
     "output_type": "stream",
     "text": [
      "['AEP', 'AZN', 'BTI', 'DTE', 'DUK', 'DVN', 'ED', 'FCX', 'GIS', 'HRL', 'LMT', 'NVO', 'RELX', 'SO', 'XOM']\n"
     ]
    },
    {
     "data": {
      "text/plain": [
       "15"
      ]
     },
     "execution_count": 13,
     "metadata": {},
     "output_type": "execute_result"
    }
   ],
   "source": [
    "# Min Covariance Portfolio aus allen Tickern extrahieren\n",
    "tickers_np = np.array(tickers)\n",
    "portfolio_tickers = tickers_np[x==1].tolist()\n",
    "print(portfolio_tickers)\n",
    "len(portfolio_tickers)"
   ]
  },
  {
   "cell_type": "code",
   "execution_count": 14,
   "id": "0fdfc9ec",
   "metadata": {},
   "outputs": [
    {
     "name": "stdout",
     "output_type": "stream",
     "text": [
      "0.010313814157448906\n"
     ]
    },
    {
     "data": {
      "text/plain": [
       "-0.17146073389666416"
      ]
     },
     "execution_count": 14,
     "metadata": {},
     "output_type": "execute_result"
    }
   ],
   "source": [
    "# Covariance des Portfolio berechnen und mit Optimum und Benchmark vergleichen\n",
    "portfolio_returns = insample[portfolio_tickers]\n",
    "portfolio_cov = portfolio_returns.cov()\n",
    "\n",
    "# Varianzen löschen (Hauptdiagonale = 0)\n",
    "for i in range(len(portfolio_cov)):\n",
    "    portfolio_cov.iloc[i,i] = 0\n",
    "\n",
    "# Summe der Covarianzen im Portfolio\n",
    "portfolio_covariance = np.sum(np.sum(portfolio_cov))\n",
    "print(portfolio_covariance)\n",
    "\n",
    "# Vergleich mit Mean Covariance von 15 Aktien\n",
    "portfolio_covariance - mean_portfolio_covariance"
   ]
  },
  {
   "cell_type": "code",
   "execution_count": 15,
   "id": "a0c99d7a",
   "metadata": {},
   "outputs": [
    {
     "data": {
      "text/plain": [
       "-0.0010382895275539358"
      ]
     },
     "execution_count": 15,
     "metadata": {},
     "output_type": "execute_result"
    }
   ],
   "source": [
    "# Optimales Portfolio aus 61 Aktien\n",
    "portfolio_covariance_61 = 0.011352103685002841\n",
    "\n",
    "# Differenz neues opt. Portfolio - altes opt. Portfolio\n",
    "portfolio_covariance - portfolio_covariance_61"
   ]
  },
  {
   "cell_type": "code",
   "execution_count": 16,
   "id": "34ce5a21",
   "metadata": {},
   "outputs": [
    {
     "name": "stdout",
     "output_type": "stream",
     "text": [
      "0.1956406423618667\n",
      "0.1874792599712908\n",
      "0.19115049596589173\n",
      "0.1937119885919026\n",
      "0.18505731601908074\n",
      "0.18149591736133053\n",
      "0.18925157236861345\n",
      "0.1864057429652747\n",
      "0.15133395141194553\n",
      "0.1558100667584439\n",
      "0.1480929635741178\n",
      "0.15521063745348068\n",
      "0.16848954106775818\n",
      "0.17628057702612093\n",
      "0.17779220002903603\n",
      "0.1924108666209489\n",
      "0.20527754143474733\n",
      "0.20055752049097503\n",
      "0.2045370466441073\n",
      "0.19627549421530457\n"
     ]
    }
   ],
   "source": [
    "# Summe der Covarianzen für beispielhafte 15-Aktien-Portfolios berechnen (Covarianz-Arry)\n",
    "covariances = np.sum(cov_matrix, axis=1)\n",
    "print(np.sum(covariances.iloc[:15])) #die ersten 15 Aktien\n",
    "print(np.sum(covariances.iloc[1:16]))\n",
    "print(np.sum(covariances.iloc[2:17]))\n",
    "print(np.sum(covariances.iloc[3:18]))\n",
    "print(np.sum(covariances.iloc[4:19]))\n",
    "print(np.sum(covariances.iloc[5:20]))\n",
    "print(np.sum(covariances.iloc[6:21]))\n",
    "print(np.sum(covariances.iloc[7:22]))\n",
    "print(np.sum(covariances.iloc[30:45]))\n",
    "print(np.sum(covariances.iloc[31:46]))\n",
    "print(np.sum(covariances.iloc[32:47]))\n",
    "print(np.sum(covariances.iloc[33:48]))\n",
    "print(np.sum(covariances.iloc[34:49]))\n",
    "print(np.sum(covariances.iloc[40:55]))\n",
    "print(np.sum(covariances.iloc[41:56]))\n",
    "print(np.sum(covariances.iloc[42:57]))\n",
    "print(np.sum(covariances.iloc[43:58]))\n",
    "print(np.sum(covariances.iloc[44:59]))\n",
    "print(np.sum(covariances.iloc[45:60]))\n",
    "print(np.sum(covariances.iloc[46:61]))"
   ]
  },
  {
   "cell_type": "code",
   "execution_count": 17,
   "id": "dfca956d",
   "metadata": {},
   "outputs": [
    {
     "data": {
      "text/plain": [
       "0.11299742080366129"
      ]
     },
     "execution_count": 17,
     "metadata": {},
     "output_type": "execute_result"
    }
   ],
   "source": [
    "# Mean der obigen Beispiele\n",
    "x = [0.12080844326640522,\n",
    "0.11161086176273458,\n",
    "0.11855617788369038,\n",
    "0.11291940631040971,\n",
    "0.11355552563370784,\n",
    "0.11783517026844056,\n",
    "0.11835470039367858,\n",
    "0.11604335555600827,\n",
    "0.10821405485574799,\n",
    "0.10337506160572751,\n",
    "0.10476076858737711,\n",
    "0.11363826106773287,\n",
    "0.11763061439391512,\n",
    "0.11201357850083563,\n",
    "0.11110610896343334,\n",
    "0.1134388641728371,\n",
    "0.11163535407474924,\n",
    "0.11511015713523481,\n",
    "0.10955781247192065,\n",
    "0.1097841391686394]\n",
    "np.array(x).mean()"
   ]
  },
  {
   "cell_type": "code",
   "execution_count": 18,
   "id": "6eabd81f",
   "metadata": {},
   "outputs": [
    {
     "name": "stdout",
     "output_type": "stream",
     "text": [
      "0.02955169676025603\n"
     ]
    },
    {
     "data": {
      "text/plain": [
       "-0.019237882602807125"
      ]
     },
     "execution_count": 18,
     "metadata": {},
     "output_type": "execute_result"
    }
   ],
   "source": [
    "# Vergleich mit altem Portfolio\n",
    "old_tickers = ['AIR', 'DTE', 'FDX', 'NKE', 'SAP', 'SONY', 'VOD', 'WM', 'ORCL', 'MSFT', 'INTC', 'PCRFY', 'COST', 'VZ', 'MO']\n",
    "\n",
    "# Covariance des Portfolio berechnen und mit Optimum und Benchmark vergleichen\n",
    "old_portfolio_returns = insample[old_tickers]\n",
    "old_portfolio_cov = old_portfolio_returns.cov()\n",
    "\n",
    "# Varianzen löschen (Hauptdiagonale = 0)\n",
    "for i in range(len(old_portfolio_cov)):\n",
    "    old_portfolio_cov.iloc[i,i] = 0\n",
    "\n",
    "# Summe der Covarianzen im Portfolio\n",
    "old_portfolio_covariance = np.sum(np.sum(old_portfolio_cov))\n",
    "print(old_portfolio_covariance)\n",
    "\n",
    "# Vergleich mit Mean Covariance von 15 Aktien\n",
    "portfolio_covariance - old_portfolio_covariance"
   ]
  },
  {
   "cell_type": "code",
   "execution_count": 19,
   "id": "308991a6",
   "metadata": {},
   "outputs": [
    {
     "name": "stdout",
     "output_type": "stream",
     "text": [
      "['AEP', 'AZN', 'BTI', 'DTE', 'DUK', 'DVN', 'ED', 'FCX', 'GIS', 'HRL', 'LMT', 'NVO', 'RELX', 'SO', 'XOM']\n"
     ]
    }
   ],
   "source": [
    "print(portfolio_tickers)"
   ]
  }
 ],
 "metadata": {
  "kernelspec": {
   "display_name": "Python 3 (ipykernel)",
   "language": "python",
   "name": "python3"
  },
  "language_info": {
   "codemirror_mode": {
    "name": "ipython",
    "version": 3
   },
   "file_extension": ".py",
   "mimetype": "text/x-python",
   "name": "python",
   "nbconvert_exporter": "python",
   "pygments_lexer": "ipython3",
   "version": "3.9.7"
  }
 },
 "nbformat": 4,
 "nbformat_minor": 5
}
