{
 "cells": [
  {
   "cell_type": "markdown",
   "metadata": {
    "toc": true
   },
   "source": [
    "<h1>Inhaltsverzeichnis<span class=\"tocSkip\"></span></h1>\n",
    "<div class=\"toc\"><ul class=\"toc-item\"><li><span><a href=\"#Monte-Carlo-Simulationen:-Maximum-Sharpe,--Minimum-Variance-und-Value-at-Risk\" data-toc-modified-id=\"Monte-Carlo-Simulationen:-Maximum-Sharpe,--Minimum-Variance-und-Value-at-Risk-1\"><span class=\"toc-item-num\">1&nbsp;&nbsp;</span>Monte-Carlo Simulationen: Maximum Sharpe,  Minimum Variance und Value-at-Risk</a></span><ul class=\"toc-item\"><li><span><a href=\"#Download\" data-toc-modified-id=\"Download-1.1\"><span class=\"toc-item-num\">1.1&nbsp;&nbsp;</span>Download</a></span></li><li><span><a href=\"#Simulation\" data-toc-modified-id=\"Simulation-1.2\"><span class=\"toc-item-num\">1.2&nbsp;&nbsp;</span>Simulation</a></span></li><li><span><a href=\"#Betrachtung-der-Ergebnisse\" data-toc-modified-id=\"Betrachtung-der-Ergebnisse-1.3\"><span class=\"toc-item-num\">1.3&nbsp;&nbsp;</span>Betrachtung der Ergebnisse</a></span></li></ul></li></ul></div>"
   ]
  },
  {
   "cell_type": "markdown",
   "metadata": {},
   "source": [
    "Willkommen zur zweiten Case-Study. Diese beinhaltet Aufgaben zu den Notebooks C.1 und insbesondere C.2. Nach der Installation aller relevanten Pakete beschäftigen wir uns mit optimalen Portfolios. Mittels einer Monte-Carlo Simulation finden wir die Portfolios mit der maximalen Sharpe-Ratio, der minimalen Varianz und dem minimalen Value-at-Risk für unsere Beispielaktien. Dabei implementieren wir auch Short-Selling.\n",
    "\n",
    "Achten Sie darauf, dass Ihr Code in einem Setting läuft (Kernel > Restart & Run All).\n",
    "\n",
    "Bitte nutzen Sie die vorgesehenen Felder für Ihren Code und Ihre Antworten. Es gibt neun Code-Felder und drei Fragen. \n",
    "\n",
    "Zusätzlich zur Abgabe dieses Notebooks geben Sie bitte das Excel-Sheet mit Ihren Lösungen ab. Benennen Sie das Excel und das Notebook bitte nach dem Prinzip: Case2_Nachname_Vorname.\n",
    "\n",
    "HAPPY CODING!"
   ]
  },
  {
   "cell_type": "markdown",
   "metadata": {},
   "source": [
    "Tragen Sie in der folgenden Markdown Zeile den Namen Ihres Teampartners ein bzw. im Falle einer Einzelarbeit bitte dies vermerken."
   ]
  },
  {
   "cell_type": "markdown",
   "metadata": {},
   "source": [
    "    Betz Michael"
   ]
  },
  {
   "cell_type": "markdown",
   "metadata": {},
   "source": [
    "Tragen Sie in der folgenden Markdown Zeile Ihre Matrikelnummer ein."
   ]
  },
  {
   "cell_type": "markdown",
   "metadata": {},
   "source": [
    "272038"
   ]
  },
  {
   "cell_type": "markdown",
   "metadata": {},
   "source": [
    "**Installation aller relevanten Pakete:**"
   ]
  },
  {
   "cell_type": "code",
   "execution_count": 1,
   "metadata": {},
   "outputs": [],
   "source": [
    "import pandas as pd\n",
    "import numpy as np\n",
    "import pandas_datareader.data as web\n",
    "from datetime import datetime\n",
    "import scipy.optimize as sco\n",
    "import matplotlib.pyplot as plt\n",
    "%matplotlib inline\n",
    "from scipy import stats"
   ]
  },
  {
   "cell_type": "markdown",
   "metadata": {},
   "source": [
    "# Monte-Carlo Simulationen: Maximum Sharpe,  Minimum Variance und Value-at-Risk"
   ]
  },
  {
   "cell_type": "markdown",
   "metadata": {},
   "source": [
    "## Download"
   ]
  },
  {
   "cell_type": "markdown",
   "metadata": {},
   "source": [
    "Wir erstellen ein Portfolio aus sechs Aktien für den Zeitraum vom 01.01.2018 - 31.12.2021. Die Aktien haben die Ticker ['MMM', 'TSLA', 'CSCO', 'V', 'GE', 'AMZN'].\n",
    "Laden Sie bitte den Adjusted Close für die Aktien und speichern Sie sie in einem DataFrame *df*. Index sollte das Datum sein, die Spaltennamen die Ticker."
   ]
  },
  {
   "cell_type": "code",
   "execution_count": 2,
   "metadata": {},
   "outputs": [
    {
     "data": {
      "text/html": [
       "<div>\n",
       "<style scoped>\n",
       "    .dataframe tbody tr th:only-of-type {\n",
       "        vertical-align: middle;\n",
       "    }\n",
       "\n",
       "    .dataframe tbody tr th {\n",
       "        vertical-align: top;\n",
       "    }\n",
       "\n",
       "    .dataframe thead th {\n",
       "        text-align: right;\n",
       "    }\n",
       "</style>\n",
       "<table border=\"1\" class=\"dataframe\">\n",
       "  <thead>\n",
       "    <tr style=\"text-align: right;\">\n",
       "      <th>Symbols</th>\n",
       "      <th>MMM</th>\n",
       "      <th>TSLA</th>\n",
       "      <th>CSCO</th>\n",
       "      <th>V</th>\n",
       "      <th>GE</th>\n",
       "      <th>AMZN</th>\n",
       "    </tr>\n",
       "    <tr>\n",
       "      <th>Date</th>\n",
       "      <th></th>\n",
       "      <th></th>\n",
       "      <th></th>\n",
       "      <th></th>\n",
       "      <th></th>\n",
       "      <th></th>\n",
       "    </tr>\n",
       "  </thead>\n",
       "  <tbody>\n",
       "    <tr>\n",
       "      <th>2018-01-02</th>\n",
       "      <td>199.068924</td>\n",
       "      <td>21.368668</td>\n",
       "      <td>33.400394</td>\n",
       "      <td>110.811310</td>\n",
       "      <td>132.421570</td>\n",
       "      <td>59.450500</td>\n",
       "    </tr>\n",
       "    <tr>\n",
       "      <th>2018-01-03</th>\n",
       "      <td>199.060440</td>\n",
       "      <td>21.150000</td>\n",
       "      <td>33.666851</td>\n",
       "      <td>111.914482</td>\n",
       "      <td>133.673599</td>\n",
       "      <td>60.209999</td>\n",
       "    </tr>\n",
       "    <tr>\n",
       "      <th>2018-01-04</th>\n",
       "      <td>201.662460</td>\n",
       "      <td>20.974667</td>\n",
       "      <td>33.762100</td>\n",
       "      <td>112.330574</td>\n",
       "      <td>136.472336</td>\n",
       "      <td>60.479500</td>\n",
       "    </tr>\n",
       "    <tr>\n",
       "      <th>2018-01-05</th>\n",
       "      <td>203.233780</td>\n",
       "      <td>21.105333</td>\n",
       "      <td>34.229687</td>\n",
       "      <td>115.020782</td>\n",
       "      <td>136.545929</td>\n",
       "      <td>61.457001</td>\n",
       "    </tr>\n",
       "    <tr>\n",
       "      <th>2018-01-08</th>\n",
       "      <td>202.574860</td>\n",
       "      <td>22.427334</td>\n",
       "      <td>34.584724</td>\n",
       "      <td>115.485283</td>\n",
       "      <td>134.631088</td>\n",
       "      <td>62.343498</td>\n",
       "    </tr>\n",
       "    <tr>\n",
       "      <th>...</th>\n",
       "      <td>...</td>\n",
       "      <td>...</td>\n",
       "      <td>...</td>\n",
       "      <td>...</td>\n",
       "      <td>...</td>\n",
       "      <td>...</td>\n",
       "    </tr>\n",
       "    <tr>\n",
       "      <th>2021-12-27</th>\n",
       "      <td>169.512527</td>\n",
       "      <td>364.646667</td>\n",
       "      <td>61.489910</td>\n",
       "      <td>215.996109</td>\n",
       "      <td>94.305313</td>\n",
       "      <td>169.669495</td>\n",
       "    </tr>\n",
       "    <tr>\n",
       "      <th>2021-12-28</th>\n",
       "      <td>170.414276</td>\n",
       "      <td>362.823334</td>\n",
       "      <td>61.596565</td>\n",
       "      <td>216.412964</td>\n",
       "      <td>94.983047</td>\n",
       "      <td>170.660995</td>\n",
       "    </tr>\n",
       "    <tr>\n",
       "      <th>2021-12-29</th>\n",
       "      <td>171.152969</td>\n",
       "      <td>362.063324</td>\n",
       "      <td>62.013485</td>\n",
       "      <td>216.532043</td>\n",
       "      <td>94.474747</td>\n",
       "      <td>169.201004</td>\n",
       "    </tr>\n",
       "    <tr>\n",
       "      <th>2021-12-30</th>\n",
       "      <td>170.414276</td>\n",
       "      <td>356.779999</td>\n",
       "      <td>61.683830</td>\n",
       "      <td>216.234299</td>\n",
       "      <td>94.385040</td>\n",
       "      <td>168.644501</td>\n",
       "    </tr>\n",
       "    <tr>\n",
       "      <th>2021-12-31</th>\n",
       "      <td>170.404709</td>\n",
       "      <td>352.260010</td>\n",
       "      <td>61.441437</td>\n",
       "      <td>215.083008</td>\n",
       "      <td>94.155815</td>\n",
       "      <td>166.716995</td>\n",
       "    </tr>\n",
       "  </tbody>\n",
       "</table>\n",
       "<p>1008 rows × 6 columns</p>\n",
       "</div>"
      ],
      "text/plain": [
       "Symbols            MMM        TSLA       CSCO           V          GE  \\\n",
       "Date                                                                    \n",
       "2018-01-02  199.068924   21.368668  33.400394  110.811310  132.421570   \n",
       "2018-01-03  199.060440   21.150000  33.666851  111.914482  133.673599   \n",
       "2018-01-04  201.662460   20.974667  33.762100  112.330574  136.472336   \n",
       "2018-01-05  203.233780   21.105333  34.229687  115.020782  136.545929   \n",
       "2018-01-08  202.574860   22.427334  34.584724  115.485283  134.631088   \n",
       "...                ...         ...        ...         ...         ...   \n",
       "2021-12-27  169.512527  364.646667  61.489910  215.996109   94.305313   \n",
       "2021-12-28  170.414276  362.823334  61.596565  216.412964   94.983047   \n",
       "2021-12-29  171.152969  362.063324  62.013485  216.532043   94.474747   \n",
       "2021-12-30  170.414276  356.779999  61.683830  216.234299   94.385040   \n",
       "2021-12-31  170.404709  352.260010  61.441437  215.083008   94.155815   \n",
       "\n",
       "Symbols           AMZN  \n",
       "Date                    \n",
       "2018-01-02   59.450500  \n",
       "2018-01-03   60.209999  \n",
       "2018-01-04   60.479500  \n",
       "2018-01-05   61.457001  \n",
       "2018-01-08   62.343498  \n",
       "...                ...  \n",
       "2021-12-27  169.669495  \n",
       "2021-12-28  170.660995  \n",
       "2021-12-29  169.201004  \n",
       "2021-12-30  168.644501  \n",
       "2021-12-31  166.716995  \n",
       "\n",
       "[1008 rows x 6 columns]"
      ]
     },
     "execution_count": 2,
     "metadata": {},
     "output_type": "execute_result"
    }
   ],
   "source": [
    "#download stock portfolio data\n",
    "tickers = ['MMM', 'TSLA', 'CSCO', 'V', 'GE', 'AMZN']\n",
    "start = datetime(2018, 1, 1)\n",
    "end = datetime(2021, 12, 31)\n",
    "\n",
    "df = web.get_data_yahoo(tickers, start, end)['Adj Close']\n",
    "df\n",
    "\n",
    "# Alternativ\n",
    "#df = pd.DataFrame([web.get_data_yahoo(ticker, start, end)['Adj Close'] for ticker in tickers]).T\n",
    "#df.columns = tickers"
   ]
  },
  {
   "cell_type": "markdown",
   "metadata": {},
   "source": [
    "**Frage 1:** Wie heißen die Unternehmen?"
   ]
  },
  {
   "cell_type": "markdown",
   "metadata": {},
   "source": [
    "MMM = 3M Company <br>\n",
    "TSLA = Tesla, Inc. <br>\n",
    "CSCO = Cisco Systems, Inc. <br>\n",
    "V = Visa, Inc. <br>\n",
    "GE = General Electric Company <br>\n",
    "AMZN = Amazon.com, Inc"
   ]
  },
  {
   "cell_type": "markdown",
   "metadata": {},
   "source": [
    "## Simulation"
   ]
  },
  {
   "cell_type": "markdown",
   "metadata": {},
   "source": [
    "Für unsere Portfoliooptimierung wollen wir die Monte-Carlo Simulation aus der Vorlesung in zwei Punkten verändern. \n",
    "1. Wir wollen nun mittels einer Monte-Carlo Simulation direkt **drei** Portfolios ermitteln: Das mit der optimalen Sharpe-Ratio, das mit der minimalen Varianz und das mit dem minimalen Value-at-Risk. \n",
    "2. Wir wollen in unserer Simulation auch Short-Selling ermöglichen. "
   ]
  },
  {
   "cell_type": "markdown",
   "metadata": {},
   "source": [
    "Analog zur Vorgehensweise im Noteboook C.2 erstellen wir zuerst eine Funktion, *calc_portfolio_perf*, mit den Eingabeparametern *weights, mean_returns, cov, rf, alpha, days*. Die Funktion berechnet mithilfe der Eingabeparameter für ein Portfolio die Rendite, Standardabweichung, Sharpe-Ratio und den Value-at-Risk für den Zeitraum days. Die Funktion hat entsprechend die Ausgabeparameter *portfolio_return, portfolio_std, sharpe_ratio, portfolio_VaR*. "
   ]
  },
  {
   "cell_type": "code",
   "execution_count": 3,
   "metadata": {},
   "outputs": [],
   "source": [
    "# Definition calc_portfolio_perf\n",
    "def calc_portfolio_perf(weights, mean_returns, cov, rf, alpha, days, short):\n",
    "    portfolio_return = np.sum(mean_returns * weights) * days\n",
    "    portfolio_std = np.sqrt(np.dot(weights.T, np.dot(cov, weights))) * np.sqrt(days)\n",
    "    sharpe_ratio = (portfolio_return - rf) / portfolio_std\n",
    "    portfolio_VaR = abs(portfolio_return - (portfolio_std * stats.norm.ppf(1 - alpha)))\n",
    "    return portfolio_return, portfolio_std, sharpe_ratio, portfolio_VaR"
   ]
  },
  {
   "cell_type": "markdown",
   "metadata": {},
   "source": [
    "Nun erstellen wir die Funktion *simulate_random_portfolios* mit den Eingabeparametern *num_portfolios, mean_returns, cov, rf, alpha, days, short*. Neu für Sie ist vor allem der Eingabeparameter *short*. Er kann die String-Werte 'yes' und 'no' annehmen. Die Funktion simuliert dann entweder Portfolios mit oder ohne Short-Selling. \n",
    "\n",
    "Die Funktion gibt ein DataFrame *results_df* mit den Spalten *portfolio_return, portfolio_std, sharpe_ratio, portfolio_VaR* und den jeweiligen Gewichten der Aktien aus. \n",
    "\n",
    "Wir generieren analog zur Vorlesung als erstes die leere *results_matrix*. Im zweiten Schritt fragen wir mit einer If-Abfrage ab, ob Short-Selling implementiert werden soll. Wenn *no* können wir die *results_matrix* analog zur Vorlesung definieren. Wenn *yes* müssen wir auch negative Gewichte zulassen. Die wichtigste Veränderung des Codes im Vergleich zur Vorlesung geschieht also im Vektor *weights*. Die Gewichte müssen jetzt im Intervall [-1;1] liegen. Je nach If-Abfrage wird ein anderes *results_df* generiert.\n",
    "\n",
    "Eine Implementierungshilfe zu den Gewichten für das Short-Selling: Wir wollen jetzt auch negative Gewichte zulassen. Um die Ergebnisse etwas einzuschränken sollen die Zahlen nun zwischen -1 und 1 liegen. Dafür kann man die Funktion np.random.randint nutzen. Um von Integer auf Dezimahlzahlen mit fünf Nachkommastellen zwischen -1 und 1 zu kommen, müssen Sie eine entsprechende Division durchführen.\n"
   ]
  },
  {
   "cell_type": "code",
   "execution_count": 4,
   "metadata": {},
   "outputs": [],
   "source": [
    "# simulate_random_portfolios\n",
    "def simulate_random_portfolios(num_portfolios, mean_returns, cov, rf, alpha, days, short):\n",
    "    results_matrix = np.zeros((len(mean_returns)+4, num_portfolios))\n",
    "    for i in range(num_portfolios):\n",
    "        if short == 'no':\n",
    "            weights = np.random.random(len(mean_returns))\n",
    "            weights /= np.sum(weights)\n",
    "        elif short == 'yes':\n",
    "            while True:\n",
    "                weights = np.random.uniform(low = -1, high = 1, size = 5)\n",
    "                if 1-np.sum(weights) <= 1 and 1 - np.sum(weights) >= -1:\n",
    "                    weights = np.insert(weights, 0, [1-np.sum(weights)])\n",
    "                    break\n",
    "        portfolio_return, portfolio_std, sharpe_ratio, portfolio_VaR = calc_portfolio_perf(weights, mean_returns, cov, rf, alpha, days, short)\n",
    "        results_matrix[0,i] = portfolio_return\n",
    "        results_matrix[1,i] = portfolio_std\n",
    "        results_matrix[2,i] = sharpe_ratio\n",
    "        results_matrix[3,i] = portfolio_VaR\n",
    "        for j in range(len(mean_returns)):\n",
    "            results_matrix[j+4,i] = weights[j]\n",
    "    \n",
    "    results_df = pd.DataFrame(results_matrix.T, columns=['portfolio_return', 'portfolio_std', 'sharpe_ratio', 'portfolio_VaR'] + [ticker for ticker in tickers])\n",
    "    return results_df"
   ]
  },
  {
   "cell_type": "markdown",
   "metadata": {},
   "source": [
    "Führen Sie anhand der Funktion *simulate_random_portfolios* bitte zwei Simulationen durch und speichern Sie die Ergebnisse in DataFrames. Simulieren Sie jeweils 100,000 Portfolios. In der ersten Simulation gibt es kein Short-Selling. Nennen Sie das DataFrame *results_frame_l* (l = long). In der zweiten Simulation gibt es  Short-Selling. Nennen Sie das DataFrame *results_frame_s* (s = short). Setzen Sie *rf* = 0, *days* = 252 und *alpha* = 0.05. \n",
    "\n",
    "Tipp: Damit Sie nicht solange warten müssen, können Sie zum ausprobieren ja auch ein wesentlich kleineres Portfolio nutzen."
   ]
  },
  {
   "cell_type": "code",
   "execution_count": 5,
   "metadata": {},
   "outputs": [
    {
     "data": {
      "text/html": [
       "<div>\n",
       "<style scoped>\n",
       "    .dataframe tbody tr th:only-of-type {\n",
       "        vertical-align: middle;\n",
       "    }\n",
       "\n",
       "    .dataframe tbody tr th {\n",
       "        vertical-align: top;\n",
       "    }\n",
       "\n",
       "    .dataframe thead th {\n",
       "        text-align: right;\n",
       "    }\n",
       "</style>\n",
       "<table border=\"1\" class=\"dataframe\">\n",
       "  <thead>\n",
       "    <tr style=\"text-align: right;\">\n",
       "      <th></th>\n",
       "      <th>portfolio_return</th>\n",
       "      <th>portfolio_std</th>\n",
       "      <th>sharpe_ratio</th>\n",
       "      <th>portfolio_VaR</th>\n",
       "      <th>MMM</th>\n",
       "      <th>TSLA</th>\n",
       "      <th>CSCO</th>\n",
       "      <th>V</th>\n",
       "      <th>GE</th>\n",
       "      <th>AMZN</th>\n",
       "    </tr>\n",
       "  </thead>\n",
       "  <tbody>\n",
       "    <tr>\n",
       "      <th>0</th>\n",
       "      <td>0.241841</td>\n",
       "      <td>0.251492</td>\n",
       "      <td>0.961625</td>\n",
       "      <td>0.171826</td>\n",
       "      <td>0.182773</td>\n",
       "      <td>0.119034</td>\n",
       "      <td>0.118564</td>\n",
       "      <td>0.255734</td>\n",
       "      <td>0.146339</td>\n",
       "      <td>0.177557</td>\n",
       "    </tr>\n",
       "    <tr>\n",
       "      <th>1</th>\n",
       "      <td>0.297419</td>\n",
       "      <td>0.263981</td>\n",
       "      <td>1.126669</td>\n",
       "      <td>0.136791</td>\n",
       "      <td>0.236229</td>\n",
       "      <td>0.199204</td>\n",
       "      <td>0.268655</td>\n",
       "      <td>0.190985</td>\n",
       "      <td>0.029168</td>\n",
       "      <td>0.075759</td>\n",
       "    </tr>\n",
       "    <tr>\n",
       "      <th>2</th>\n",
       "      <td>0.344001</td>\n",
       "      <td>0.272222</td>\n",
       "      <td>1.263680</td>\n",
       "      <td>0.103764</td>\n",
       "      <td>0.190355</td>\n",
       "      <td>0.224086</td>\n",
       "      <td>0.130003</td>\n",
       "      <td>0.195180</td>\n",
       "      <td>0.021149</td>\n",
       "      <td>0.239226</td>\n",
       "    </tr>\n",
       "    <tr>\n",
       "      <th>3</th>\n",
       "      <td>0.229726</td>\n",
       "      <td>0.271020</td>\n",
       "      <td>0.847634</td>\n",
       "      <td>0.216062</td>\n",
       "      <td>0.176754</td>\n",
       "      <td>0.147218</td>\n",
       "      <td>0.261581</td>\n",
       "      <td>0.082934</td>\n",
       "      <td>0.257868</td>\n",
       "      <td>0.073645</td>\n",
       "    </tr>\n",
       "    <tr>\n",
       "      <th>4</th>\n",
       "      <td>0.311049</td>\n",
       "      <td>0.269526</td>\n",
       "      <td>1.154057</td>\n",
       "      <td>0.132282</td>\n",
       "      <td>0.194907</td>\n",
       "      <td>0.213451</td>\n",
       "      <td>0.184869</td>\n",
       "      <td>0.175407</td>\n",
       "      <td>0.093736</td>\n",
       "      <td>0.137630</td>\n",
       "    </tr>\n",
       "    <tr>\n",
       "      <th>...</th>\n",
       "      <td>...</td>\n",
       "      <td>...</td>\n",
       "      <td>...</td>\n",
       "      <td>...</td>\n",
       "      <td>...</td>\n",
       "      <td>...</td>\n",
       "      <td>...</td>\n",
       "      <td>...</td>\n",
       "      <td>...</td>\n",
       "      <td>...</td>\n",
       "    </tr>\n",
       "    <tr>\n",
       "      <th>99995</th>\n",
       "      <td>0.251127</td>\n",
       "      <td>0.284741</td>\n",
       "      <td>0.881951</td>\n",
       "      <td>0.217230</td>\n",
       "      <td>0.272824</td>\n",
       "      <td>0.204361</td>\n",
       "      <td>0.000126</td>\n",
       "      <td>0.246737</td>\n",
       "      <td>0.245883</td>\n",
       "      <td>0.030069</td>\n",
       "    </tr>\n",
       "    <tr>\n",
       "      <th>99996</th>\n",
       "      <td>0.385733</td>\n",
       "      <td>0.307678</td>\n",
       "      <td>1.253691</td>\n",
       "      <td>0.120352</td>\n",
       "      <td>0.160216</td>\n",
       "      <td>0.321695</td>\n",
       "      <td>0.269317</td>\n",
       "      <td>0.154023</td>\n",
       "      <td>0.074148</td>\n",
       "      <td>0.020601</td>\n",
       "    </tr>\n",
       "    <tr>\n",
       "      <th>99997</th>\n",
       "      <td>0.275332</td>\n",
       "      <td>0.271746</td>\n",
       "      <td>1.013196</td>\n",
       "      <td>0.171651</td>\n",
       "      <td>0.218191</td>\n",
       "      <td>0.196067</td>\n",
       "      <td>0.114788</td>\n",
       "      <td>0.122065</td>\n",
       "      <td>0.201377</td>\n",
       "      <td>0.147511</td>\n",
       "    </tr>\n",
       "    <tr>\n",
       "      <th>99998</th>\n",
       "      <td>0.224951</td>\n",
       "      <td>0.264937</td>\n",
       "      <td>0.849072</td>\n",
       "      <td>0.210832</td>\n",
       "      <td>0.239312</td>\n",
       "      <td>0.146699</td>\n",
       "      <td>0.125603</td>\n",
       "      <td>0.221247</td>\n",
       "      <td>0.211594</td>\n",
       "      <td>0.055546</td>\n",
       "    </tr>\n",
       "    <tr>\n",
       "      <th>99999</th>\n",
       "      <td>0.358850</td>\n",
       "      <td>0.297829</td>\n",
       "      <td>1.204886</td>\n",
       "      <td>0.131035</td>\n",
       "      <td>0.138671</td>\n",
       "      <td>0.286811</td>\n",
       "      <td>0.278065</td>\n",
       "      <td>0.157978</td>\n",
       "      <td>0.112353</td>\n",
       "      <td>0.026121</td>\n",
       "    </tr>\n",
       "  </tbody>\n",
       "</table>\n",
       "<p>100000 rows × 10 columns</p>\n",
       "</div>"
      ],
      "text/plain": [
       "       portfolio_return  portfolio_std  sharpe_ratio  portfolio_VaR       MMM  \\\n",
       "0              0.241841       0.251492      0.961625       0.171826  0.182773   \n",
       "1              0.297419       0.263981      1.126669       0.136791  0.236229   \n",
       "2              0.344001       0.272222      1.263680       0.103764  0.190355   \n",
       "3              0.229726       0.271020      0.847634       0.216062  0.176754   \n",
       "4              0.311049       0.269526      1.154057       0.132282  0.194907   \n",
       "...                 ...            ...           ...            ...       ...   \n",
       "99995          0.251127       0.284741      0.881951       0.217230  0.272824   \n",
       "99996          0.385733       0.307678      1.253691       0.120352  0.160216   \n",
       "99997          0.275332       0.271746      1.013196       0.171651  0.218191   \n",
       "99998          0.224951       0.264937      0.849072       0.210832  0.239312   \n",
       "99999          0.358850       0.297829      1.204886       0.131035  0.138671   \n",
       "\n",
       "           TSLA      CSCO         V        GE      AMZN  \n",
       "0      0.119034  0.118564  0.255734  0.146339  0.177557  \n",
       "1      0.199204  0.268655  0.190985  0.029168  0.075759  \n",
       "2      0.224086  0.130003  0.195180  0.021149  0.239226  \n",
       "3      0.147218  0.261581  0.082934  0.257868  0.073645  \n",
       "4      0.213451  0.184869  0.175407  0.093736  0.137630  \n",
       "...         ...       ...       ...       ...       ...  \n",
       "99995  0.204361  0.000126  0.246737  0.245883  0.030069  \n",
       "99996  0.321695  0.269317  0.154023  0.074148  0.020601  \n",
       "99997  0.196067  0.114788  0.122065  0.201377  0.147511  \n",
       "99998  0.146699  0.125603  0.221247  0.211594  0.055546  \n",
       "99999  0.286811  0.278065  0.157978  0.112353  0.026121  \n",
       "\n",
       "[100000 rows x 10 columns]"
      ]
     },
     "execution_count": 5,
     "metadata": {},
     "output_type": "execute_result"
    }
   ],
   "source": [
    "# Define Parameters\n",
    "num_portfolios = 100000\n",
    "mean_returns = df.pct_change().mean()\n",
    "cov = df.pct_change().cov()\n",
    "rf = 0.0\n",
    "days = 252\n",
    "alpha = 0.05\n",
    "short = 'no'\n",
    "\n",
    "# Simulation ohne Shortselling\n",
    "results_frame_l = simulate_random_portfolios(num_portfolios, mean_returns, cov, rf, alpha, days, short)\n",
    "results_frame_l"
   ]
  },
  {
   "cell_type": "code",
   "execution_count": null,
   "metadata": {},
   "outputs": [],
   "source": [
    "# Define Parameters\n",
    "short = 'yes'\n",
    "\n",
    "# Simulation 2 mit Shortselling\n",
    "results_frame_s = simulate_random_portfolios(num_portfolios, mean_returns, cov, rf, alpha, days, short)\n",
    "results_frame_s"
   ]
  },
  {
   "cell_type": "markdown",
   "metadata": {},
   "source": [
    "## Betrachtung der Ergebnisse "
   ]
  },
  {
   "cell_type": "markdown",
   "metadata": {},
   "source": [
    "Für *results_frame_l* und *results_frame_s* wollen wir jeweils das Portfolio mit der höchsten Sharpe-Ratio, der niedrigsten Standardabweichung und dem minimalen Value-at-Risk finden. Diese wollen wir in einem DataFrame *portfolios* speichern. Extrahieren Sie die gesuchten Zeilen aus *results_frame_l* und *results_frame_s* (z.B. mit *iloc*) und speichern Sie die sechs Zeilen in einem DataFrame *portfolios* (z.B. mit append oder pd.concat). *portfoliosP soll dieselben Spaltenbezeichnungen haben wie *results_frame_l* und *results_frame_s*. Der Index nummeriert die Spalten des DataFrames beginnend mit Null.\n"
   ]
  },
  {
   "cell_type": "code",
   "execution_count": null,
   "metadata": {},
   "outputs": [],
   "source": [
    "# Max Sharpe Ratio\n",
    "max_sharpe_ratio_l = results_frame_l.iloc[results_frame_l['sharpe_ratio'].idxmax()].to_frame().T\n",
    "max_sharpe_ratio_s = results_frame_s.iloc[results_frame_s['sharpe_ratio'].idxmax()].to_frame().T\n",
    "\n",
    "# Min Standardabweichung\n",
    "min_std_l = results_frame_l.iloc[results_frame_l['portfolio_std'].idxmin()].to_frame().T\n",
    "min_std_s = results_frame_s.iloc[results_frame_s['portfolio_std'].idxmin()].to_frame().T\n",
    "\n",
    "# Min Value at Risk\n",
    "min_VaR_l = results_frame_l.iloc[results_frame_l['portfolio_VaR'].idxmin()].to_frame().T\n",
    "min_VaR_s = results_frame_s.iloc[results_frame_s['portfolio_VaR'].idxmin()].to_frame().T\n",
    "\n",
    "portfolios = pd.DataFrame().append([max_sharpe_ratio_l, max_sharpe_ratio_s, min_std_l, min_std_s, min_VaR_l, min_VaR_s])\n",
    "portfolios = portfolios.reset_index()\n",
    "portfolios"
   ]
  },
  {
   "cell_type": "markdown",
   "metadata": {},
   "source": [
    "Erstellen Sie für das Portfolio drei zusätzliche Spalten. Die Spalte *long* hat den Wert *1* wenn das Portfolio nur Long-Selling implementiert hat und *0*, wenn es auch Short-Selling gibt. Die Spalte *char* gibt das Charakteristikum des Portfolios an, also *max_sharpe, min_vol* oder *min_VaR*."
   ]
  },
  {
   "cell_type": "code",
   "execution_count": null,
   "metadata": {
    "scrolled": true
   },
   "outputs": [],
   "source": [
    "portfolios.insert(1, \"long\", [1, 0, 1, 0, 1, 0], True)\n",
    "portfolios.insert(2, \"char\", ['max_sharpe', 'max_sharpe', 'min_vol', 'min_vol', 'min_VaR', 'min_VaR'], True)\n",
    "\n",
    "portfolios"
   ]
  },
  {
   "cell_type": "markdown",
   "metadata": {},
   "source": [
    "**Frage 2:** Vergleichen Sie die Portfolios beider Simulationen. Was fällt Ihnen auf? Welche der optimalen Portfolios verändern sich signifikant, wenn Short-Selling implementiert ist?"
   ]
  },
  {
   "cell_type": "markdown",
   "metadata": {},
   "source": [
    "Die Portfolios mit den Indexen 0,1 und 4,5 verändern sich signifikant wenn shortselling implementiert ist. Hierbei ist ein starker Unterschied des Returns, der Standardabweichung und der sharpe ratio zu erkennen, wenn shortselling implementiert ist im Vergleich zu dem Longportfolio. Vor allem beim Return kann eine massive Steigerung erzielt werden. Die Portfolios 2,3 bleiben relativ konstant.\n",
    "\n",
    "Bei Betrachtung der sharpe ratio erhalten wir im optimalen Portfolio mit erlaubtem shortselling einen wert von 1.6. Dieser liegt somit 0.12 höher als des Longportfolios. Somit liefern die Leerverkäufe eine bessere Performance. Ursache hierfür sind eine schlechte Longperformance der Aktien 3M und General Electrics. Leerverkäufe auf diese Aktien sorgen für eine bessere Performance im shortselling portfolio.\n",
    "\n",
    "Der Value at Risk gibt an, welcher Werverlust bei einem gegebenen Kofindenzniveau (hier 95%) in einem gegebenen Zeitraum (hier 252 Handelstage) unter üblichen Marktbedingungen nicht überschritten wird.  Die optimalen Longportfolios weisen einen viel geringeren VaR-Wert auf als mit erlaubtem shortselling. Der geringste Wert liegt bei 0.06 bei long und bei 0,02 bei shortselling. Daraus ist schlusszufolgern, dass Leerverkäufe ein niedrigern VaR erzielen, der insgesamt die schlechte Performance von 3M und General Electrics wieder ausgleicht."
   ]
  },
  {
   "cell_type": "markdown",
   "metadata": {},
   "source": [
    "Für beide Simulationen generieren wir ein Scatterplot. \n",
    "\n",
    "Hinweis:\n",
    "Falls Sie es als sinnvoll erachten, können Sie mit dem Code 'ax.set(xlim=(), ylim=())' die Achsen der Graphen verändern. Dafür müssen Sie die Achsen zuvor mit fig, ax = plt.subplots(figsize=(15,10)) definieren. "
   ]
  },
  {
   "cell_type": "code",
   "execution_count": null,
   "metadata": {},
   "outputs": [],
   "source": [
    "# scatter plot for long portfolio\n",
    "# create scatter plot coloured by Sharpe Ratio\n",
    "\n",
    "fig, ax=plt.subplots(figsize=(15,10))\n",
    "ax.set(xlim=([0.2, 1.2]),ylim=([-1.2, 1.5]))\n",
    "plt.scatter(results_frame_l.portfolio_std,results_frame_l.portfolio_return,c=results_frame_l.sharpe_ratio,cmap='RdYlBu')\n",
    "plt.xlabel('Standard Deviation')\n",
    "plt.ylabel('Returns')\n",
    "plt.colorbar()"
   ]
  },
  {
   "cell_type": "code",
   "execution_count": null,
   "metadata": {},
   "outputs": [],
   "source": [
    "# scatter plot for short portfolio\n",
    "# create scatter plot coloured by Sharpe Ratio\n",
    "\n",
    "fig, ax=plt.subplots(figsize=(15,10))\n",
    "ax.set(xlim=([0.2, 1.2]),ylim=([-1.2, 1.5]))\n",
    "plt.scatter(results_frame_s.portfolio_std,results_frame_s.portfolio_return,c=results_frame_s.sharpe_ratio,cmap='RdYlBu')\n",
    "plt.xlabel('Standard Deviation')\n",
    "plt.ylabel('Returns')\n",
    "plt.colorbar()"
   ]
  },
  {
   "cell_type": "markdown",
   "metadata": {},
   "source": [
    "**Frage 3:** Vergleichen Sie die beiden Graphen. Was fällt Ihnen auf?"
   ]
  },
  {
   "cell_type": "markdown",
   "metadata": {},
   "source": [
    "Wenn shortselling etabliert wird (siehe unteres Streuungsdiagramm), steigt die Diversifikation der Portfolios hinsichtlich der sharpe ratio . Die Differenzen der Renditen der einzelnen Portfolios  gehen viel weiter auseinander mit zunehmender Standardabweichung. Daraus lässt sich schlussfolgern, dass mit shortselling größere positive aber auch negative Renditen mit den Portfolios erwirtschaftet werden können. Für Anleger kann dies interessant sein, wenn sie ihre Rendite vergrößern möchten. Zugleich erhöht dies aber auch das eingegangene Risiko.\n",
    "\n",
    "Mit den Assets in unseren Portfolios und ohne shortselling wird fast ausschließlich eine positive Rendite erwirtschaft, wohingegen mit shortselling ein eher 60/40 Verhältnis zu Gunsten einer positiven Rendite besteht. Somit ist auch ohne Shortselling das Risiko der Portfolios geringer. Zudem ist die Streuungsbreite der sharp ratio ohne shortselling augenscheinlich kleiner.\n",
    "\n",
    "->Die Simulation zeigt, dass es mit shortselling für den Anleger mehr Möglichkeiten gibt das Portfolio zu gestalten. Man kann eine höhere Volatilität erzielen, welche wiederum mit einer höheren Rendite entschädigt wird. Für risikofreudigere Anleger bietet es somit mehr Optionen, da man mehr Risiko eingehen kann und mehr Rendite erwarten kann."
   ]
  }
 ],
 "metadata": {
  "kernelspec": {
   "display_name": "Python 3 (ipykernel)",
   "language": "python",
   "name": "python3"
  },
  "language_info": {
   "codemirror_mode": {
    "name": "ipython",
    "version": 3
   },
   "file_extension": ".py",
   "mimetype": "text/x-python",
   "name": "python",
   "nbconvert_exporter": "python",
   "pygments_lexer": "ipython3",
   "version": "3.9.7"
  },
  "toc": {
   "base_numbering": 1,
   "nav_menu": {},
   "number_sections": true,
   "sideBar": true,
   "skip_h1_title": false,
   "title_cell": "Inhaltsverzeichnis",
   "title_sidebar": "Inhalt",
   "toc_cell": true,
   "toc_position": {},
   "toc_section_display": true,
   "toc_window_display": false
  },
  "varInspector": {
   "cols": {
    "lenName": 16,
    "lenType": 16,
    "lenVar": 40
   },
   "kernels_config": {
    "python": {
     "delete_cmd_postfix": "",
     "delete_cmd_prefix": "del ",
     "library": "var_list.py",
     "varRefreshCmd": "print(var_dic_list())"
    },
    "r": {
     "delete_cmd_postfix": ") ",
     "delete_cmd_prefix": "rm(",
     "library": "var_list.r",
     "varRefreshCmd": "cat(var_dic_list()) "
    }
   },
   "types_to_exclude": [
    "module",
    "function",
    "builtin_function_or_method",
    "instance",
    "_Feature"
   ],
   "window_display": false
  }
 },
 "nbformat": 4,
 "nbformat_minor": 2
}
