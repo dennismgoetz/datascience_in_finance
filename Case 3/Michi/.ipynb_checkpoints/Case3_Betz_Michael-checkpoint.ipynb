{
 "cells": [
  {
   "cell_type": "markdown",
   "metadata": {
    "id": "biYOPiX1YKsl",
    "toc": true
   },
   "source": [
    "<h1>Inhaltsverzeichnis<span class=\"tocSkip\"></span></h1>\n",
    "<div class=\"toc\"><ul class=\"toc-item\"><li><span><a href=\"#Check-out-Adidas!\" data-toc-modified-id=\"Check-out-Adidas!-1\"><span class=\"toc-item-num\">1&nbsp;&nbsp;</span>Check out Adidas!</a></span><ul class=\"toc-item\"><li><span><a href=\"#Grafiken\" data-toc-modified-id=\"Grafiken-1.1\"><span class=\"toc-item-num\">1.1&nbsp;&nbsp;</span>Grafiken</a></span></li></ul></li><li><span><a href=\"#Implementierung-Mean-Reversion\" data-toc-modified-id=\"Implementierung-Mean-Reversion-2\"><span class=\"toc-item-num\">2&nbsp;&nbsp;</span>Implementierung Mean Reversion</a></span><ul class=\"toc-item\"><li><span><a href=\"#Parameter-berechnen-bzw.-festlegen\" data-toc-modified-id=\"Parameter-berechnen-bzw.-festlegen-2.1\"><span class=\"toc-item-num\">2.1&nbsp;&nbsp;</span>Parameter berechnen bzw. festlegen</a></span></li><li><span><a href=\"#Position-festlegen\" data-toc-modified-id=\"Position-festlegen-2.2\"><span class=\"toc-item-num\">2.2&nbsp;&nbsp;</span>Position festlegen</a></span></li></ul></li><li><span><a href=\"#Implementierung-Moving-Average-Crossover\" data-toc-modified-id=\"Implementierung-Moving-Average-Crossover-3\"><span class=\"toc-item-num\">3&nbsp;&nbsp;</span>Implementierung Moving Average Crossover</a></span><ul class=\"toc-item\"><li><span><a href=\"#Parameter-berechnen-bzw.-festlegen\" data-toc-modified-id=\"Parameter-berechnen-bzw.-festlegen-3.1\"><span class=\"toc-item-num\">3.1&nbsp;&nbsp;</span>Parameter berechnen bzw. festlegen</a></span></li><li><span><a href=\"#Position-festlegen\" data-toc-modified-id=\"Position-festlegen-3.2\"><span class=\"toc-item-num\">3.2&nbsp;&nbsp;</span>Position festlegen</a></span></li></ul></li><li><span><a href=\"#Implementierung-Buy-and-Hold-Strategy\" data-toc-modified-id=\"Implementierung-Buy-and-Hold-Strategy-4\"><span class=\"toc-item-num\">4&nbsp;&nbsp;</span>Implementierung Buy-and-Hold Strategy</a></span></li><li><span><a href=\"#Vergleich-der-Strategien\" data-toc-modified-id=\"Vergleich-der-Strategien-5\"><span class=\"toc-item-num\">5&nbsp;&nbsp;</span>Vergleich der Strategien</a></span></li></ul></div>"
   ]
  },
  {
   "cell_type": "markdown",
   "metadata": {
    "id": "6DFjXP4cYKst"
   },
   "source": [
    "Willkommen zur dritten Case Study. Wir beschäftigen uns in dieser Case Study nur mit einer Aktie.\n",
    "\n",
    "Wir werden drei verschiedene Handelsstrategien testen und vergleichen: Mean Reversion, Moving Average Crossover und eine klassische Buy-and-Hold Strategie. Relevant sind insbesondere die Notebooks, D.1.1. - D.1.2..\n",
    "\n",
    "Bitte nutzen Sie die vorgesehenen Felder für Ihren Code und Ihre Antworten. Es gibt 18 Code-Felder und 5 Fragen.\n",
    "\n",
    "Achten Sie darauf, dass Ihr Code in einem Setting läuft (Kernel > Restart & Run All).\n",
    "\n",
    "Zusätzlich zur Abgabe dieses Notebooks geben Sie bitte das Excel-Sheet mit Ihren Lösungen ab. Benennen Sie das Excel und das Notebook bitte nach dem Prinzip: Case3_Nachname_Vorname.\n",
    "\n",
    "HAPPY CODING!\n"
   ]
  },
  {
   "cell_type": "markdown",
   "metadata": {
    "id": "Il9O26tKYKsy"
   },
   "source": [
    "Tragen Sie in der folgenden Markdown Zeile den Namen Ihres Teampartners ein bzw. im Falle einer Einzelarbeit bitte dies vermerken."
   ]
  },
  {
   "cell_type": "markdown",
   "metadata": {
    "id": "VNNXBugIYKs0"
   },
   "source": [
    "> Götz, Dennis"
   ]
  },
  {
   "cell_type": "markdown",
   "metadata": {
    "id": "Tztp4M5lYKs0"
   },
   "source": [
    "Tragen Sie in der folgenden Markdown Zeile Ihre Matrikelnummer ein."
   ]
  },
  {
   "cell_type": "markdown",
   "metadata": {
    "id": "4k3nIJvdYKs1"
   },
   "source": [
    "> 272753"
   ]
  },
  {
   "cell_type": "markdown",
   "metadata": {
    "id": "c520wQNWYKs1"
   },
   "source": [
    "**Installation aller relevanten Pakete:**"
   ]
  },
  {
   "cell_type": "code",
   "execution_count": 1,
   "metadata": {
    "colab": {
     "base_uri": "https://localhost:8080/"
    },
    "executionInfo": {
     "elapsed": 8896,
     "status": "ok",
     "timestamp": 1671819053428,
     "user": {
      "displayName": "Kc Migo",
      "userId": "14954445946106221058"
     },
     "user_tz": -60
    },
    "id": "-3ib92N2YKs2",
    "outputId": "bbf26a13-8793-4745-e4a0-547e75f06d85"
   },
   "outputs": [
    {
     "name": "stdout",
     "output_type": "stream",
     "text": [
      "Requirement already satisfied: yfinance in c:\\users\\dennis\\anaconda3\\lib\\site-packages (0.2.3)\n",
      "Requirement already satisfied: beautifulsoup4>=4.11.1 in c:\\users\\dennis\\anaconda3\\lib\\site-packages (from yfinance) (4.11.1)\n",
      "Requirement already satisfied: requests>=2.26 in c:\\users\\dennis\\anaconda3\\lib\\site-packages (from yfinance) (2.26.0)\n",
      "Requirement already satisfied: html5lib>=1.1 in c:\\users\\dennis\\anaconda3\\lib\\site-packages (from yfinance) (1.1)\n",
      "Requirement already satisfied: appdirs>=1.4.4 in c:\\users\\dennis\\anaconda3\\lib\\site-packages (from yfinance) (1.4.4)\n",
      "Requirement already satisfied: pandas>=1.3.0 in c:\\users\\dennis\\anaconda3\\lib\\site-packages (from yfinance) (1.3.4)\n",
      "Requirement already satisfied: pytz>=2022.5 in c:\\users\\dennis\\anaconda3\\lib\\site-packages (from yfinance) (2022.7)\n",
      "Requirement already satisfied: frozendict>=2.3.4 in c:\\users\\dennis\\anaconda3\\lib\\site-packages (from yfinance) (2.3.4)\n",
      "Requirement already satisfied: lxml>=4.9.1 in c:\\users\\dennis\\anaconda3\\lib\\site-packages (from yfinance) (4.9.2)\n",
      "Requirement already satisfied: numpy>=1.16.5 in c:\\users\\dennis\\anaconda3\\lib\\site-packages (from yfinance) (1.20.3)\n",
      "Requirement already satisfied: cryptography>=3.3.2 in c:\\users\\dennis\\anaconda3\\lib\\site-packages (from yfinance) (3.4.8)\n",
      "Requirement already satisfied: multitasking>=0.0.7 in c:\\users\\dennis\\anaconda3\\lib\\site-packages (from yfinance) (0.0.11)\n",
      "Requirement already satisfied: soupsieve>1.2 in c:\\users\\dennis\\anaconda3\\lib\\site-packages (from beautifulsoup4>=4.11.1->yfinance) (2.2.1)\n",
      "Requirement already satisfied: cffi>=1.12 in c:\\users\\dennis\\anaconda3\\lib\\site-packages (from cryptography>=3.3.2->yfinance) (1.14.6)\n",
      "Requirement already satisfied: pycparser in c:\\users\\dennis\\anaconda3\\lib\\site-packages (from cffi>=1.12->cryptography>=3.3.2->yfinance) (2.20)\n",
      "Requirement already satisfied: webencodings in c:\\users\\dennis\\anaconda3\\lib\\site-packages (from html5lib>=1.1->yfinance) (0.5.1)\n",
      "Requirement already satisfied: six>=1.9 in c:\\users\\dennis\\anaconda3\\lib\\site-packages (from html5lib>=1.1->yfinance) (1.16.0)\n",
      "Requirement already satisfied: python-dateutil>=2.7.3 in c:\\users\\dennis\\anaconda3\\lib\\site-packages (from pandas>=1.3.0->yfinance) (2.8.2)\n",
      "Requirement already satisfied: urllib3<1.27,>=1.21.1 in c:\\users\\dennis\\anaconda3\\lib\\site-packages (from requests>=2.26->yfinance) (1.26.7)\n",
      "Requirement already satisfied: charset-normalizer~=2.0.0 in c:\\users\\dennis\\anaconda3\\lib\\site-packages (from requests>=2.26->yfinance) (2.0.4)\n",
      "Requirement already satisfied: idna<4,>=2.5 in c:\\users\\dennis\\anaconda3\\lib\\site-packages (from requests>=2.26->yfinance) (3.2)\n",
      "Requirement already satisfied: certifi>=2017.4.17 in c:\\users\\dennis\\anaconda3\\lib\\site-packages (from requests>=2.26->yfinance) (2021.10.8)\n"
     ]
    }
   ],
   "source": [
    "# Import necessary libaries\n",
    "%matplotlib inline\n",
    "\n",
    "# numpy, matplotlib, pandas, datareader\n",
    "import numpy as np\n",
    "import matplotlib.pyplot as plt\n",
    "import pandas as pd\n",
    "import pandas_datareader.data as web\n",
    "\n",
    "!pip install yfinance\n",
    "import yfinance as yf\n",
    "\n",
    "# statsmodels, regression\n",
    "from statsmodels import regression\n",
    "import statsmodels.api as sm"
   ]
  },
  {
   "cell_type": "markdown",
   "metadata": {
    "id": "QzhmNdriYKs5"
   },
   "source": [
    "# Check out Adidas!\n",
    "Wir betrachten die Adidas-Aktie über den Zeitraum vom 1.1.2001 bis zum 31.12.2021. Bitte laden Sie die entsprechenden Daten. Die Adidas-Aktie hat den Ticker ADS.DE. Generieren Sie ein DataFrame *prices* mit den Spalten *Adj Close* und *return*. *return* enthält die logarithmierte Tagesrendite des adjustierten Schlusskurses von ADS.DE."
   ]
  },
  {
   "cell_type": "code",
   "execution_count": 2,
   "metadata": {
    "colab": {
     "base_uri": "https://localhost:8080/",
     "height": 472
    },
    "executionInfo": {
     "elapsed": 634,
     "status": "ok",
     "timestamp": 1671819054055,
     "user": {
      "displayName": "Kc Migo",
      "userId": "14954445946106221058"
     },
     "user_tz": -60
    },
    "id": "mNXTqOpVYKs6",
    "outputId": "5fb77a87-54c5-4f57-8aa3-373096b3a80a"
   },
   "outputs": [
    {
     "name": "stdout",
     "output_type": "stream",
     "text": [
      "[*********************100%***********************]  1 of 1 completed\n"
     ]
    },
    {
     "data": {
      "text/html": [
       "<div>\n",
       "<style scoped>\n",
       "    .dataframe tbody tr th:only-of-type {\n",
       "        vertical-align: middle;\n",
       "    }\n",
       "\n",
       "    .dataframe tbody tr th {\n",
       "        vertical-align: top;\n",
       "    }\n",
       "\n",
       "    .dataframe thead th {\n",
       "        text-align: right;\n",
       "    }\n",
       "</style>\n",
       "<table border=\"1\" class=\"dataframe\">\n",
       "  <thead>\n",
       "    <tr style=\"text-align: right;\">\n",
       "      <th></th>\n",
       "      <th>Adj Close</th>\n",
       "      <th>return</th>\n",
       "    </tr>\n",
       "    <tr>\n",
       "      <th>Date</th>\n",
       "      <th></th>\n",
       "      <th></th>\n",
       "    </tr>\n",
       "  </thead>\n",
       "  <tbody>\n",
       "    <tr>\n",
       "      <th>2001-01-01</th>\n",
       "      <td>12.005581</td>\n",
       "      <td>NaN</td>\n",
       "    </tr>\n",
       "    <tr>\n",
       "      <th>2001-01-02</th>\n",
       "      <td>11.823679</td>\n",
       "      <td>-0.015267</td>\n",
       "    </tr>\n",
       "    <tr>\n",
       "      <th>2001-01-03</th>\n",
       "      <td>11.569013</td>\n",
       "      <td>-0.021774</td>\n",
       "    </tr>\n",
       "    <tr>\n",
       "      <th>2001-01-04</th>\n",
       "      <td>12.005581</td>\n",
       "      <td>0.037041</td>\n",
       "    </tr>\n",
       "    <tr>\n",
       "      <th>2001-01-05</th>\n",
       "      <td>12.005581</td>\n",
       "      <td>0.000000</td>\n",
       "    </tr>\n",
       "    <tr>\n",
       "      <th>...</th>\n",
       "      <td>...</td>\n",
       "      <td>...</td>\n",
       "    </tr>\n",
       "    <tr>\n",
       "      <th>2021-12-23</th>\n",
       "      <td>247.294113</td>\n",
       "      <td>0.008972</td>\n",
       "    </tr>\n",
       "    <tr>\n",
       "      <th>2021-12-27</th>\n",
       "      <td>248.324921</td>\n",
       "      <td>0.004160</td>\n",
       "    </tr>\n",
       "    <tr>\n",
       "      <th>2021-12-28</th>\n",
       "      <td>250.337433</td>\n",
       "      <td>0.008072</td>\n",
       "    </tr>\n",
       "    <tr>\n",
       "      <th>2021-12-29</th>\n",
       "      <td>249.453903</td>\n",
       "      <td>-0.003536</td>\n",
       "    </tr>\n",
       "    <tr>\n",
       "      <th>2021-12-30</th>\n",
       "      <td>248.570343</td>\n",
       "      <td>-0.003548</td>\n",
       "    </tr>\n",
       "  </tbody>\n",
       "</table>\n",
       "<p>5365 rows × 2 columns</p>\n",
       "</div>"
      ],
      "text/plain": [
       "             Adj Close    return\n",
       "Date                            \n",
       "2001-01-01   12.005581       NaN\n",
       "2001-01-02   11.823679 -0.015267\n",
       "2001-01-03   11.569013 -0.021774\n",
       "2001-01-04   12.005581  0.037041\n",
       "2001-01-05   12.005581  0.000000\n",
       "...                ...       ...\n",
       "2021-12-23  247.294113  0.008972\n",
       "2021-12-27  248.324921  0.004160\n",
       "2021-12-28  250.337433  0.008072\n",
       "2021-12-29  249.453903 -0.003536\n",
       "2021-12-30  248.570343 -0.003548\n",
       "\n",
       "[5365 rows x 2 columns]"
      ]
     },
     "execution_count": 2,
     "metadata": {},
     "output_type": "execute_result"
    }
   ],
   "source": [
    "# Load the prices data from 2001/1/1 - 2021/12/31\n",
    "\n",
    "yf.pdr_override()\n",
    "\n",
    "start = '2001-01-01'\n",
    "end = '2021-12-31'\n",
    "m = 'ADS.DE'\n",
    "\n",
    "prices = web.get_data_yahoo(m, start, end)['Adj Close']\n",
    "prices = pd.DataFrame(prices)\n",
    "prices['return'] = np.log1p(prices['Adj Close'].pct_change())\n",
    "prices"
   ]
  },
  {
   "cell_type": "markdown",
   "metadata": {
    "id": "IEywWVmOYKs9"
   },
   "source": [
    "## Grafiken\n"
   ]
  },
  {
   "cell_type": "markdown",
   "metadata": {
    "id": "M4XgpBuzYKs_"
   },
   "source": [
    "Als erstes berechnen wir einen rollierenden Durchschnitt des Aktienkurses über 126 Handelstage, 252 Handelstage und 1260 Handelstage. Wir speichern die Werte in *prices*. Die Spalten tragen die Namen *mu_126d*, *mu_252d* und *mu_d1260*."
   ]
  },
  {
   "cell_type": "code",
   "execution_count": 3,
   "metadata": {
    "colab": {
     "base_uri": "https://localhost:8080/",
     "height": 455
    },
    "executionInfo": {
     "elapsed": 17,
     "status": "ok",
     "timestamp": 1671819054057,
     "user": {
      "displayName": "Kc Migo",
      "userId": "14954445946106221058"
     },
     "user_tz": -60
    },
    "id": "rAyX_iggYKtA",
    "outputId": "9b42e8e6-0e4c-4e79-b5ab-9b21f2c30e78"
   },
   "outputs": [
    {
     "data": {
      "text/html": [
       "<div>\n",
       "<style scoped>\n",
       "    .dataframe tbody tr th:only-of-type {\n",
       "        vertical-align: middle;\n",
       "    }\n",
       "\n",
       "    .dataframe tbody tr th {\n",
       "        vertical-align: top;\n",
       "    }\n",
       "\n",
       "    .dataframe thead th {\n",
       "        text-align: right;\n",
       "    }\n",
       "</style>\n",
       "<table border=\"1\" class=\"dataframe\">\n",
       "  <thead>\n",
       "    <tr style=\"text-align: right;\">\n",
       "      <th></th>\n",
       "      <th>Adj Close</th>\n",
       "      <th>return</th>\n",
       "      <th>mu_126d</th>\n",
       "      <th>mu_252d</th>\n",
       "      <th>mu_1260d</th>\n",
       "    </tr>\n",
       "    <tr>\n",
       "      <th>Date</th>\n",
       "      <th></th>\n",
       "      <th></th>\n",
       "      <th></th>\n",
       "      <th></th>\n",
       "      <th></th>\n",
       "    </tr>\n",
       "  </thead>\n",
       "  <tbody>\n",
       "    <tr>\n",
       "      <th>2001-01-01</th>\n",
       "      <td>12.005581</td>\n",
       "      <td>NaN</td>\n",
       "      <td>NaN</td>\n",
       "      <td>NaN</td>\n",
       "      <td>NaN</td>\n",
       "    </tr>\n",
       "    <tr>\n",
       "      <th>2001-01-02</th>\n",
       "      <td>11.823679</td>\n",
       "      <td>-0.015267</td>\n",
       "      <td>NaN</td>\n",
       "      <td>NaN</td>\n",
       "      <td>NaN</td>\n",
       "    </tr>\n",
       "    <tr>\n",
       "      <th>2001-01-03</th>\n",
       "      <td>11.569013</td>\n",
       "      <td>-0.021774</td>\n",
       "      <td>NaN</td>\n",
       "      <td>NaN</td>\n",
       "      <td>NaN</td>\n",
       "    </tr>\n",
       "    <tr>\n",
       "      <th>2001-01-04</th>\n",
       "      <td>12.005581</td>\n",
       "      <td>0.037041</td>\n",
       "      <td>NaN</td>\n",
       "      <td>NaN</td>\n",
       "      <td>NaN</td>\n",
       "    </tr>\n",
       "    <tr>\n",
       "      <th>2001-01-05</th>\n",
       "      <td>12.005581</td>\n",
       "      <td>0.000000</td>\n",
       "      <td>NaN</td>\n",
       "      <td>NaN</td>\n",
       "      <td>NaN</td>\n",
       "    </tr>\n",
       "    <tr>\n",
       "      <th>...</th>\n",
       "      <td>...</td>\n",
       "      <td>...</td>\n",
       "      <td>...</td>\n",
       "      <td>...</td>\n",
       "      <td>...</td>\n",
       "    </tr>\n",
       "    <tr>\n",
       "      <th>2021-12-23</th>\n",
       "      <td>247.294113</td>\n",
       "      <td>0.008972</td>\n",
       "      <td>282.164886</td>\n",
       "      <td>279.682620</td>\n",
       "      <td>221.171114</td>\n",
       "    </tr>\n",
       "    <tr>\n",
       "      <th>2021-12-27</th>\n",
       "      <td>248.324921</td>\n",
       "      <td>0.004160</td>\n",
       "      <td>281.686884</td>\n",
       "      <td>279.519658</td>\n",
       "      <td>221.264687</td>\n",
       "    </tr>\n",
       "    <tr>\n",
       "      <th>2021-12-28</th>\n",
       "      <td>250.337433</td>\n",
       "      <td>0.008072</td>\n",
       "      <td>281.206934</td>\n",
       "      <td>279.374320</td>\n",
       "      <td>221.359499</td>\n",
       "    </tr>\n",
       "    <tr>\n",
       "      <th>2021-12-29</th>\n",
       "      <td>249.453903</td>\n",
       "      <td>-0.003536</td>\n",
       "      <td>280.730490</td>\n",
       "      <td>279.247834</td>\n",
       "      <td>221.453825</td>\n",
       "    </tr>\n",
       "    <tr>\n",
       "      <th>2021-12-30</th>\n",
       "      <td>248.570343</td>\n",
       "      <td>-0.003548</td>\n",
       "      <td>280.271577</td>\n",
       "      <td>279.109747</td>\n",
       "      <td>221.547235</td>\n",
       "    </tr>\n",
       "  </tbody>\n",
       "</table>\n",
       "<p>5365 rows × 5 columns</p>\n",
       "</div>"
      ],
      "text/plain": [
       "             Adj Close    return     mu_126d     mu_252d    mu_1260d\n",
       "Date                                                                \n",
       "2001-01-01   12.005581       NaN         NaN         NaN         NaN\n",
       "2001-01-02   11.823679 -0.015267         NaN         NaN         NaN\n",
       "2001-01-03   11.569013 -0.021774         NaN         NaN         NaN\n",
       "2001-01-04   12.005581  0.037041         NaN         NaN         NaN\n",
       "2001-01-05   12.005581  0.000000         NaN         NaN         NaN\n",
       "...                ...       ...         ...         ...         ...\n",
       "2021-12-23  247.294113  0.008972  282.164886  279.682620  221.171114\n",
       "2021-12-27  248.324921  0.004160  281.686884  279.519658  221.264687\n",
       "2021-12-28  250.337433  0.008072  281.206934  279.374320  221.359499\n",
       "2021-12-29  249.453903 -0.003536  280.730490  279.247834  221.453825\n",
       "2021-12-30  248.570343 -0.003548  280.271577  279.109747  221.547235\n",
       "\n",
       "[5365 rows x 5 columns]"
      ]
     },
     "execution_count": 3,
     "metadata": {},
     "output_type": "execute_result"
    }
   ],
   "source": [
    "# Compute rolling averages for various window lengths\n",
    "\n",
    "asset = prices.iloc[:, 0]\n",
    "\n",
    "#moving averages\n",
    "mu_126d = asset.rolling(window=126, center=False).mean()\n",
    "mu_252d = asset.rolling(window=252, center=False).mean()\n",
    "mu_1260d = asset.rolling(window=1260, center=False).mean()\n",
    "\n",
    "prices['mu_126d'] = mu_126d\n",
    "prices['mu_252d'] = mu_252d\n",
    "prices['mu_1260d'] =mu_1260d\n",
    "\n",
    "prices"
   ]
  },
  {
   "cell_type": "markdown",
   "metadata": {
    "id": "M7xq1yIVYKtB"
   },
   "source": [
    "Außerdem berechnen wir noch eine Trendlinie mittels einer linearen Regression."
   ]
  },
  {
   "cell_type": "code",
   "execution_count": 4,
   "metadata": {
    "executionInfo": {
     "elapsed": 14,
     "status": "ok",
     "timestamp": 1671819054058,
     "user": {
      "displayName": "Kc Migo",
      "userId": "14954445946106221058"
     },
     "user_tz": -60
    },
    "id": "Gys3_AMbYKtB"
   },
   "outputs": [],
   "source": [
    "# Find the line of best fit to illustrate the trend\n",
    "X = np.arange(len(asset)) #arange() generiert Arry von 0:5364; range() generiert range(0, 5365)\n",
    "x = sm.add_constant(X)\n",
    "model = regression.linear_model.OLS(asset, x).fit()\n",
    "a = model.params[0]\n",
    "b = model.params[1]\n",
    "prices['trend'] = X * b + a"
   ]
  },
  {
   "cell_type": "markdown",
   "metadata": {
    "id": "MezSum9gYKtC"
   },
   "source": [
    "Zeigen Sie den Aktienkurs, die gleitenden Durchschnitte und die Trendlinie in einer Grafik. Fügen Sie auch eine Legende ein. "
   ]
  },
  {
   "cell_type": "code",
   "execution_count": 5,
   "metadata": {
    "colab": {
     "base_uri": "https://localhost:8080/",
     "height": 442
    },
    "executionInfo": {
     "elapsed": 763,
     "status": "ok",
     "timestamp": 1671819054808,
     "user": {
      "displayName": "Kc Migo",
      "userId": "14954445946106221058"
     },
     "user_tz": -60
    },
    "id": "A57EOOLRYKtC",
    "outputId": "23696fb1-61f9-4d7c-8c75-4711fdd0e7a5"
   },
   "outputs": [
    {
     "data": {
      "image/png": "[encoded data removed]",
      "text/plain": [
       "<Figure size 1080x504 with 1 Axes>"
      ]
     },
     "metadata": {
      "needs_background": "light"
     },
     "output_type": "display_data"
    }
   ],
   "source": [
    "#Plot\n",
    "plt.figure(figsize=(15,7))\n",
    "plt.plot(prices['Adj Close'])\n",
    "plt.plot(prices['mu_126d'])\n",
    "plt.plot(prices['mu_252d'])\n",
    "plt.plot(prices['mu_1260d'])\n",
    "plt.plot(prices['trend'], 'k', alpha=0.9)\n",
    "plt.xlabel('Year')\n",
    "plt.ylabel('Price')\n",
    "plt.legend(['Adj Close','mu_126d','mu_252d','mu_1260d','Trendline'])\n",
    "plt.show()"
   ]
  },
  {
   "cell_type": "markdown",
   "metadata": {
    "id": "wh10Cf6GYKtD"
   },
   "source": [
    "**Frage 1:** Wir wollen drei verschiedene Handelsstrategien testen. Erläutern Sie jeweils mit einem Satz, welche Annahme hinter den Strategien Mean Reversion, Moving Average Crossover und Buy-and-Hold steckt."
   ]
  },
  {
   "cell_type": "markdown",
   "metadata": {
    "id": "Wxar4B-4YKtD"
   },
   "source": [
    "> - Mean Reversion:\n",
    "Die Mean-Reversion-Strategien nehmen an, dass der Preis eines Assets zwar random Fluktuationen besitzt, diese sich aber um einen stabilen Basistrend bewegen. Werte, die stark vom Mittelwert abweichen, werden dazu neigen die Richtung zu wechseln. Dies gilt sowohl für Werte überhalb als auch unterhalb des Mittelwerts. Das heißt Schwankungen gleichen sich langfristig wieder aus und korrigieren sich. \n",
    "> - Moving Average Crossover: \n",
    "Ein einfacher Weg ein Momentumsignal zu erhalten, ist die Suche nach einem Moving Average Crossover. Dies bedeutet, dass zwei gleitende Mittelwerte unterschiedlicher Länge berechnet werden und darauf gewettet wird, dass sie sich kreuzen, wobei die Art und Richtung der Kreuzung die Richtung des Momentums angibt.\n",
    "> - Buy-and-Hold:\n",
    "Der Fokus bei dieser Strategie liegt auf dem langfristigen Trend, weshalb der Anleger die Aktie über einen langen Zeitraum behält sowie auf eine gute Performance des Assets in der Zukunft setzt und der langfristige positive Trend kurzfristige negative Schwankungen ausgleichen soll."
   ]
  },
  {
   "cell_type": "markdown",
   "metadata": {
    "id": "mRtdEirHYKtE"
   },
   "source": [
    "**Frage 2:** Erläutern Sie in einem Satz, ob es grundsätzlich Sinn macht die gegenläufigen Strategien Mean Reversion und Moving Average Crossover auf eine Aktie anzuwenden."
   ]
  },
  {
   "cell_type": "markdown",
   "metadata": {
    "id": "lugYXp73YKtF"
   },
   "source": [
    "> Im Ein-Asset Fall setzt man sich dem Marktrisiko aus und ist nicht abgesichert im Gegensatz zu einem Portfolio.\n",
    "\n",
    "Dies kann bei der MR-Strategie dazu führen, dass man einen langen Aufwärtstrend immer wieder unterbewertet und einen langen Abwärtstrend immer wieder überbewertet.\n",
    "\n",
    "Bei der MAC-Strategie besteht die Gefahr, dass man in eine Aktie investiert, dessen vergangene Preise keinen signifikanten Einfluss auf seine zukünftigen Preise hat (Stichwort: Autokorrelation). Vor allem ist die Gefahr umso größer, wenn die Intensität des Zufallsrauschens größer ist als die der Trends. Den Zufallsrauschen von Aktienpreisen beruhen nicht auf Fundementaldaten, die man mithilfe von Kennzahlen identifizieren könnte. Zudem könnte die Gefahr groß sein, in eine Aktie zu investieren, deren Preise sich 'seitwärts' verhalten. Auch hier wäre es nicht möglich von der MAC-Strategie zu profitieren."
   ]
  },
  {
   "cell_type": "markdown",
   "metadata": {
    "id": "PIUPWVY2YKtF"
   },
   "source": [
    "# Implementierung Mean Reversion"
   ]
  },
  {
   "cell_type": "markdown",
   "metadata": {
    "id": "Kzang_rTYKtF"
   },
   "source": [
    "## Parameter berechnen bzw. festlegen"
   ]
  },
  {
   "cell_type": "markdown",
   "metadata": {
    "id": "JKOGofxcYKtG"
   },
   "source": [
    "Als erstes testen wir die Mean Reversion Strategie. Dafür orientieren wir uns am rollierenden 1-Jahres Durchschnitt. Generieren Sie ein Dataframe *MR* aus dem Dataframe *prices* mit den Spalten *Adj Close*, *return*, und *mu_252d*. "
   ]
  },
  {
   "cell_type": "code",
   "execution_count": 6,
   "metadata": {
    "colab": {
     "base_uri": "https://localhost:8080/",
     "height": 455
    },
    "executionInfo": {
     "elapsed": 24,
     "status": "ok",
     "timestamp": 1671819054810,
     "user": {
      "displayName": "Kc Migo",
      "userId": "14954445946106221058"
     },
     "user_tz": -60
    },
    "id": "H8y6KRZXYKtH",
    "outputId": "dbc0065e-0b54-42ff-c38a-623e754cbaff"
   },
   "outputs": [
    {
     "data": {
      "text/html": [
       "<div>\n",
       "<style scoped>\n",
       "    .dataframe tbody tr th:only-of-type {\n",
       "        vertical-align: middle;\n",
       "    }\n",
       "\n",
       "    .dataframe tbody tr th {\n",
       "        vertical-align: top;\n",
       "    }\n",
       "\n",
       "    .dataframe thead th {\n",
       "        text-align: right;\n",
       "    }\n",
       "</style>\n",
       "<table border=\"1\" class=\"dataframe\">\n",
       "  <thead>\n",
       "    <tr style=\"text-align: right;\">\n",
       "      <th></th>\n",
       "      <th>Adj Close</th>\n",
       "      <th>return</th>\n",
       "      <th>mu_252d</th>\n",
       "    </tr>\n",
       "    <tr>\n",
       "      <th>Date</th>\n",
       "      <th></th>\n",
       "      <th></th>\n",
       "      <th></th>\n",
       "    </tr>\n",
       "  </thead>\n",
       "  <tbody>\n",
       "    <tr>\n",
       "      <th>2001-01-01</th>\n",
       "      <td>12.005581</td>\n",
       "      <td>NaN</td>\n",
       "      <td>NaN</td>\n",
       "    </tr>\n",
       "    <tr>\n",
       "      <th>2001-01-02</th>\n",
       "      <td>11.823679</td>\n",
       "      <td>-0.015267</td>\n",
       "      <td>NaN</td>\n",
       "    </tr>\n",
       "    <tr>\n",
       "      <th>2001-01-03</th>\n",
       "      <td>11.569013</td>\n",
       "      <td>-0.021774</td>\n",
       "      <td>NaN</td>\n",
       "    </tr>\n",
       "    <tr>\n",
       "      <th>2001-01-04</th>\n",
       "      <td>12.005581</td>\n",
       "      <td>0.037041</td>\n",
       "      <td>NaN</td>\n",
       "    </tr>\n",
       "    <tr>\n",
       "      <th>2001-01-05</th>\n",
       "      <td>12.005581</td>\n",
       "      <td>0.000000</td>\n",
       "      <td>NaN</td>\n",
       "    </tr>\n",
       "    <tr>\n",
       "      <th>...</th>\n",
       "      <td>...</td>\n",
       "      <td>...</td>\n",
       "      <td>...</td>\n",
       "    </tr>\n",
       "    <tr>\n",
       "      <th>2021-12-23</th>\n",
       "      <td>247.294113</td>\n",
       "      <td>0.008972</td>\n",
       "      <td>279.682620</td>\n",
       "    </tr>\n",
       "    <tr>\n",
       "      <th>2021-12-27</th>\n",
       "      <td>248.324921</td>\n",
       "      <td>0.004160</td>\n",
       "      <td>279.519658</td>\n",
       "    </tr>\n",
       "    <tr>\n",
       "      <th>2021-12-28</th>\n",
       "      <td>250.337433</td>\n",
       "      <td>0.008072</td>\n",
       "      <td>279.374320</td>\n",
       "    </tr>\n",
       "    <tr>\n",
       "      <th>2021-12-29</th>\n",
       "      <td>249.453903</td>\n",
       "      <td>-0.003536</td>\n",
       "      <td>279.247834</td>\n",
       "    </tr>\n",
       "    <tr>\n",
       "      <th>2021-12-30</th>\n",
       "      <td>248.570343</td>\n",
       "      <td>-0.003548</td>\n",
       "      <td>279.109747</td>\n",
       "    </tr>\n",
       "  </tbody>\n",
       "</table>\n",
       "<p>5365 rows × 3 columns</p>\n",
       "</div>"
      ],
      "text/plain": [
       "             Adj Close    return     mu_252d\n",
       "Date                                        \n",
       "2001-01-01   12.005581       NaN         NaN\n",
       "2001-01-02   11.823679 -0.015267         NaN\n",
       "2001-01-03   11.569013 -0.021774         NaN\n",
       "2001-01-04   12.005581  0.037041         NaN\n",
       "2001-01-05   12.005581  0.000000         NaN\n",
       "...                ...       ...         ...\n",
       "2021-12-23  247.294113  0.008972  279.682620\n",
       "2021-12-27  248.324921  0.004160  279.519658\n",
       "2021-12-28  250.337433  0.008072  279.374320\n",
       "2021-12-29  249.453903 -0.003536  279.247834\n",
       "2021-12-30  248.570343 -0.003548  279.109747\n",
       "\n",
       "[5365 rows x 3 columns]"
      ]
     },
     "execution_count": 6,
     "metadata": {},
     "output_type": "execute_result"
    }
   ],
   "source": [
    "MR = prices[['Adj Close','return','mu_252d']]\n",
    "MR"
   ]
  },
  {
   "cell_type": "markdown",
   "metadata": {
    "id": "En8cT2FTYKtH"
   },
   "source": [
    "Wir wollen uns bei unserer Strategie am z-score orientieren. Generieren Sie die Spalte *std*, die die rollierende 252-Tages Standardabweichung enthält. Generieren Sie aus *mu_252d* und *std* die Spalte *zscores*, die für jeden Tag den z-score enthält."
   ]
  },
  {
   "cell_type": "code",
   "execution_count": 7,
   "metadata": {
    "colab": {
     "base_uri": "https://localhost:8080/",
     "height": 663
    },
    "executionInfo": {
     "elapsed": 23,
     "status": "ok",
     "timestamp": 1671819054811,
     "user": {
      "displayName": "Kc Migo",
      "userId": "14954445946106221058"
     },
     "user_tz": -60
    },
    "id": "6wrp4kT9YKtH",
    "outputId": "4913b17a-51fb-412b-f459-e5cb637625ec"
   },
   "outputs": [
    {
     "name": "stderr",
     "output_type": "stream",
     "text": [
      "C:\\Users\\Dennis\\AppData\\Local\\Temp/ipykernel_176/497147471.py:4: SettingWithCopyWarning: \n",
      "A value is trying to be set on a copy of a slice from a DataFrame.\n",
      "Try using .loc[row_indexer,col_indexer] = value instead\n",
      "\n",
      "See the caveats in the documentation: https://pandas.pydata.org/pandas-docs/stable/user_guide/indexing.html#returning-a-view-versus-a-copy\n",
      "  MR['std'] = std\n",
      "C:\\Users\\Dennis\\AppData\\Local\\Temp/ipykernel_176/497147471.py:5: SettingWithCopyWarning: \n",
      "A value is trying to be set on a copy of a slice from a DataFrame.\n",
      "Try using .loc[row_indexer,col_indexer] = value instead\n",
      "\n",
      "See the caveats in the documentation: https://pandas.pydata.org/pandas-docs/stable/user_guide/indexing.html#returning-a-view-versus-a-copy\n",
      "  MR['zscores'] = zscores\n"
     ]
    },
    {
     "data": {
      "text/html": [
       "<div>\n",
       "<style scoped>\n",
       "    .dataframe tbody tr th:only-of-type {\n",
       "        vertical-align: middle;\n",
       "    }\n",
       "\n",
       "    .dataframe tbody tr th {\n",
       "        vertical-align: top;\n",
       "    }\n",
       "\n",
       "    .dataframe thead th {\n",
       "        text-align: right;\n",
       "    }\n",
       "</style>\n",
       "<table border=\"1\" class=\"dataframe\">\n",
       "  <thead>\n",
       "    <tr style=\"text-align: right;\">\n",
       "      <th></th>\n",
       "      <th>Adj Close</th>\n",
       "      <th>return</th>\n",
       "      <th>mu_252d</th>\n",
       "      <th>std</th>\n",
       "      <th>zscores</th>\n",
       "    </tr>\n",
       "    <tr>\n",
       "      <th>Date</th>\n",
       "      <th></th>\n",
       "      <th></th>\n",
       "      <th></th>\n",
       "      <th></th>\n",
       "      <th></th>\n",
       "    </tr>\n",
       "  </thead>\n",
       "  <tbody>\n",
       "    <tr>\n",
       "      <th>2001-01-01</th>\n",
       "      <td>12.005581</td>\n",
       "      <td>NaN</td>\n",
       "      <td>NaN</td>\n",
       "      <td>NaN</td>\n",
       "      <td>NaN</td>\n",
       "    </tr>\n",
       "    <tr>\n",
       "      <th>2001-01-02</th>\n",
       "      <td>11.823679</td>\n",
       "      <td>-0.015267</td>\n",
       "      <td>NaN</td>\n",
       "      <td>NaN</td>\n",
       "      <td>NaN</td>\n",
       "    </tr>\n",
       "    <tr>\n",
       "      <th>2001-01-03</th>\n",
       "      <td>11.569013</td>\n",
       "      <td>-0.021774</td>\n",
       "      <td>NaN</td>\n",
       "      <td>NaN</td>\n",
       "      <td>NaN</td>\n",
       "    </tr>\n",
       "    <tr>\n",
       "      <th>2001-01-04</th>\n",
       "      <td>12.005581</td>\n",
       "      <td>0.037041</td>\n",
       "      <td>NaN</td>\n",
       "      <td>NaN</td>\n",
       "      <td>NaN</td>\n",
       "    </tr>\n",
       "    <tr>\n",
       "      <th>2001-01-05</th>\n",
       "      <td>12.005581</td>\n",
       "      <td>0.000000</td>\n",
       "      <td>NaN</td>\n",
       "      <td>NaN</td>\n",
       "      <td>NaN</td>\n",
       "    </tr>\n",
       "    <tr>\n",
       "      <th>...</th>\n",
       "      <td>...</td>\n",
       "      <td>...</td>\n",
       "      <td>...</td>\n",
       "      <td>...</td>\n",
       "      <td>...</td>\n",
       "    </tr>\n",
       "    <tr>\n",
       "      <th>2021-12-23</th>\n",
       "      <td>247.294113</td>\n",
       "      <td>0.008972</td>\n",
       "      <td>279.682620</td>\n",
       "      <td>18.423548</td>\n",
       "      <td>-1.757995</td>\n",
       "    </tr>\n",
       "    <tr>\n",
       "      <th>2021-12-27</th>\n",
       "      <td>248.324921</td>\n",
       "      <td>0.004160</td>\n",
       "      <td>279.519658</td>\n",
       "      <td>18.518706</td>\n",
       "      <td>-1.684499</td>\n",
       "    </tr>\n",
       "    <tr>\n",
       "      <th>2021-12-28</th>\n",
       "      <td>250.337433</td>\n",
       "      <td>0.008072</td>\n",
       "      <td>279.374320</td>\n",
       "      <td>18.603586</td>\n",
       "      <td>-1.560822</td>\n",
       "    </tr>\n",
       "    <tr>\n",
       "      <th>2021-12-29</th>\n",
       "      <td>249.453903</td>\n",
       "      <td>-0.003536</td>\n",
       "      <td>279.247834</td>\n",
       "      <td>18.698363</td>\n",
       "      <td>-1.593398</td>\n",
       "    </tr>\n",
       "    <tr>\n",
       "      <th>2021-12-30</th>\n",
       "      <td>248.570343</td>\n",
       "      <td>-0.003548</td>\n",
       "      <td>279.109747</td>\n",
       "      <td>18.796048</td>\n",
       "      <td>-1.624778</td>\n",
       "    </tr>\n",
       "  </tbody>\n",
       "</table>\n",
       "<p>5365 rows × 5 columns</p>\n",
       "</div>"
      ],
      "text/plain": [
       "             Adj Close    return     mu_252d        std   zscores\n",
       "Date                                                             \n",
       "2001-01-01   12.005581       NaN         NaN        NaN       NaN\n",
       "2001-01-02   11.823679 -0.015267         NaN        NaN       NaN\n",
       "2001-01-03   11.569013 -0.021774         NaN        NaN       NaN\n",
       "2001-01-04   12.005581  0.037041         NaN        NaN       NaN\n",
       "2001-01-05   12.005581  0.000000         NaN        NaN       NaN\n",
       "...                ...       ...         ...        ...       ...\n",
       "2021-12-23  247.294113  0.008972  279.682620  18.423548 -1.757995\n",
       "2021-12-27  248.324921  0.004160  279.519658  18.518706 -1.684499\n",
       "2021-12-28  250.337433  0.008072  279.374320  18.603586 -1.560822\n",
       "2021-12-29  249.453903 -0.003536  279.247834  18.698363 -1.593398\n",
       "2021-12-30  248.570343 -0.003548  279.109747  18.796048 -1.624778\n",
       "\n",
       "[5365 rows x 5 columns]"
      ]
     },
     "execution_count": 7,
     "metadata": {},
     "output_type": "execute_result"
    }
   ],
   "source": [
    "std = prices['Adj Close'].rolling(window=252, center=False).std()\n",
    "zscores = (prices['Adj Close'] - mu_252d)/std\n",
    "\n",
    "MR['std'] = std\n",
    "MR['zscores'] = zscores\n",
    "MR"
   ]
  },
  {
   "cell_type": "markdown",
   "metadata": {
    "id": "PldHFt0fYKtI"
   },
   "source": [
    "**Frage 3:** Warum nehmen wir nicht einfach die Trendlinie um zu sehen, ob der Kurs über oder unter dem langfristigen Trend ist?"
   ]
  },
  {
   "cell_type": "markdown",
   "metadata": {
    "id": "_vd4YcOxYKtI"
   },
   "source": [
    " Die MeanReversion-Strategie ist auf kurzfristige Zeiträume ausgelegt (short-term-reversal). Eine Trendlinie/ Regressionsgerade würde jedoch nur den globalen Trend abbilden, nicht aber lokale Trends, um welche der Aktienkurs herum schwankt. Durch das rollierende Fenster passt sich der MovingAverage viel schneller an kurzfristige Trends bzw. Schwankungen an und gibt somit kurzfristige Handelssignale.\n",
    "\n",
    "Weiterhin gibt der z-score an, wie viele Standardabweichungen der aktuelle Kurs vom Mittelwert entfernt ist und nicht nur, ob dieser über oder unter der Trendlinie liegt. Dies ist wiederum bei der Festlegung von Handlungsempfehlungen hilfreich.\n"
   ]
  },
  {
   "cell_type": "markdown",
   "metadata": {
    "id": "5bRUlmUjYKtJ"
   },
   "source": [
    "## Position festlegen"
   ]
  },
  {
   "cell_type": "markdown",
   "metadata": {
    "id": "Ow0irPETYKtJ"
   },
   "source": [
    "Unsere Mean Reversion Strategie unterscheidet sich von der Vorlesung darin, dass wir nur eine Aktie kaufen beziehungsweise verkaufen. Unser Portfolio beinhaltet somit entweder eine Aktienposition, keine Aktie oder eine negative Position. \n",
    "\n",
    "Wir bauen die Strategie wie folgt auf: \n",
    "- Wenn der Aktienkurs mehr als eine Standardabweichung über dem 252-Tages Durchschnitt liegt, dann wollen wir die Aktie verkaufen (short-selling).\n",
    "- Wenn der Aktienkurs mehr als eine Standardabweichung unter dem 252-Tages Durchschnitt liegt, dann wollen wir die Aktie kaufen.\n",
    "- Wenn der Aktienkurs und der gleitende Durchschnitt nahe zusammenliegen (zwischen -0.5 und 0.5), dann wollen wir unsere Position aufgeben: Wir kaufen, wenn wir short sind und verkaufen, wenn wir long sind.\n",
    "- In allen anderen Fällen halten wir unsere Position weiter.\n",
    "- Wir starten ohne eine Position (d.h. Stance = 0), bis wir ein entsprechendes Kauf- bzw. Verkaufsignal bekommen. \n",
    "\n",
    "Folgendes fiktives Beispiel soll die Funktionsweise der Strategie verdeutlichen:\n",
    "\n",
    "> Der Aktienkurs steigt am 01.10.2022 eine Standardabweichung über den 252-Tages Durchschnitt. Nun gehen wir eine short Position ein. Am 10.10.2022 steigt der z-score auf 1.5. Da wir bereits eine short Position eingegangen sind, bleibt unsere Position (stance) auf -1. Am 15.10.2022 fällt der z-score auf 0.75, da wir die Verkaufsschwelle von 0.5 noch nicht erreicht haben, bleibt die Position weiter auf -1. Diese eine short Position halten wir nun weiter bis zum 20.10.2022, da an diesem Tag der z-score unter 0.5 fällt. Am 20.10.2022 geben wir daher unserer eine short Position wieder auf. Für den Zeitraum 01.10.2022 bis 19.10.2022 soll daher stance -1 sein."
   ]
  },
  {
   "cell_type": "markdown",
   "metadata": {
    "id": "0Gtc9vDUYKtK"
   },
   "source": [
    "Generieren Sie die Spalte *Stance*, die folgende Werte annehmen kann:\n",
    "- *Stance* = 1, long Position.\n",
    "- *Stance* = -1, short Position.\n",
    "- *Stance* = 0, keine Position.\n",
    "\n",
    "Tipp: Es bietet sich an die Strategie über eine for-Schleife aufzubauen, die über jeden z-score läuft. Somit kann für jeden z-score mit entsprechenden if/elif/else Bedingungen geprüft werden, ob stance den Wert 1, 0 oder -1 annehmen soll."
   ]
  },
  {
   "cell_type": "code",
   "execution_count": 8,
   "metadata": {
    "colab": {
     "base_uri": "https://localhost:8080/",
     "height": 455
    },
    "executionInfo": {
     "elapsed": 1796,
     "status": "ok",
     "timestamp": 1671819056591,
     "user": {
      "displayName": "Kc Migo",
      "userId": "14954445946106221058"
     },
     "user_tz": -60
    },
    "id": "F45YjusiYKtK",
    "outputId": "05eedb3c-ab03-4061-9631-78be29c87eca",
    "scrolled": true
   },
   "outputs": [
    {
     "data": {
      "text/html": [
       "<div>\n",
       "<style scoped>\n",
       "    .dataframe tbody tr th:only-of-type {\n",
       "        vertical-align: middle;\n",
       "    }\n",
       "\n",
       "    .dataframe tbody tr th {\n",
       "        vertical-align: top;\n",
       "    }\n",
       "\n",
       "    .dataframe thead th {\n",
       "        text-align: right;\n",
       "    }\n",
       "</style>\n",
       "<table border=\"1\" class=\"dataframe\">\n",
       "  <thead>\n",
       "    <tr style=\"text-align: right;\">\n",
       "      <th></th>\n",
       "      <th>Adj Close</th>\n",
       "      <th>return</th>\n",
       "      <th>mu_252d</th>\n",
       "      <th>std</th>\n",
       "      <th>zscores</th>\n",
       "      <th>Stance</th>\n",
       "    </tr>\n",
       "    <tr>\n",
       "      <th>Date</th>\n",
       "      <th></th>\n",
       "      <th></th>\n",
       "      <th></th>\n",
       "      <th></th>\n",
       "      <th></th>\n",
       "      <th></th>\n",
       "    </tr>\n",
       "  </thead>\n",
       "  <tbody>\n",
       "    <tr>\n",
       "      <th>2001-01-01</th>\n",
       "      <td>12.005581</td>\n",
       "      <td>NaN</td>\n",
       "      <td>NaN</td>\n",
       "      <td>NaN</td>\n",
       "      <td>NaN</td>\n",
       "      <td>0.0</td>\n",
       "    </tr>\n",
       "    <tr>\n",
       "      <th>2001-01-02</th>\n",
       "      <td>11.823679</td>\n",
       "      <td>-0.015267</td>\n",
       "      <td>NaN</td>\n",
       "      <td>NaN</td>\n",
       "      <td>NaN</td>\n",
       "      <td>0.0</td>\n",
       "    </tr>\n",
       "    <tr>\n",
       "      <th>2001-01-03</th>\n",
       "      <td>11.569013</td>\n",
       "      <td>-0.021774</td>\n",
       "      <td>NaN</td>\n",
       "      <td>NaN</td>\n",
       "      <td>NaN</td>\n",
       "      <td>0.0</td>\n",
       "    </tr>\n",
       "    <tr>\n",
       "      <th>2001-01-04</th>\n",
       "      <td>12.005581</td>\n",
       "      <td>0.037041</td>\n",
       "      <td>NaN</td>\n",
       "      <td>NaN</td>\n",
       "      <td>NaN</td>\n",
       "      <td>0.0</td>\n",
       "    </tr>\n",
       "    <tr>\n",
       "      <th>2001-01-05</th>\n",
       "      <td>12.005581</td>\n",
       "      <td>0.000000</td>\n",
       "      <td>NaN</td>\n",
       "      <td>NaN</td>\n",
       "      <td>NaN</td>\n",
       "      <td>0.0</td>\n",
       "    </tr>\n",
       "    <tr>\n",
       "      <th>...</th>\n",
       "      <td>...</td>\n",
       "      <td>...</td>\n",
       "      <td>...</td>\n",
       "      <td>...</td>\n",
       "      <td>...</td>\n",
       "      <td>...</td>\n",
       "    </tr>\n",
       "    <tr>\n",
       "      <th>2021-12-23</th>\n",
       "      <td>247.294113</td>\n",
       "      <td>0.008972</td>\n",
       "      <td>279.682620</td>\n",
       "      <td>18.423548</td>\n",
       "      <td>-1.757995</td>\n",
       "      <td>1.0</td>\n",
       "    </tr>\n",
       "    <tr>\n",
       "      <th>2021-12-27</th>\n",
       "      <td>248.324921</td>\n",
       "      <td>0.004160</td>\n",
       "      <td>279.519658</td>\n",
       "      <td>18.518706</td>\n",
       "      <td>-1.684499</td>\n",
       "      <td>1.0</td>\n",
       "    </tr>\n",
       "    <tr>\n",
       "      <th>2021-12-28</th>\n",
       "      <td>250.337433</td>\n",
       "      <td>0.008072</td>\n",
       "      <td>279.374320</td>\n",
       "      <td>18.603586</td>\n",
       "      <td>-1.560822</td>\n",
       "      <td>1.0</td>\n",
       "    </tr>\n",
       "    <tr>\n",
       "      <th>2021-12-29</th>\n",
       "      <td>249.453903</td>\n",
       "      <td>-0.003536</td>\n",
       "      <td>279.247834</td>\n",
       "      <td>18.698363</td>\n",
       "      <td>-1.593398</td>\n",
       "      <td>1.0</td>\n",
       "    </tr>\n",
       "    <tr>\n",
       "      <th>2021-12-30</th>\n",
       "      <td>248.570343</td>\n",
       "      <td>-0.003548</td>\n",
       "      <td>279.109747</td>\n",
       "      <td>18.796048</td>\n",
       "      <td>-1.624778</td>\n",
       "      <td>1.0</td>\n",
       "    </tr>\n",
       "  </tbody>\n",
       "</table>\n",
       "<p>5365 rows × 6 columns</p>\n",
       "</div>"
      ],
      "text/plain": [
       "             Adj Close    return     mu_252d        std   zscores  Stance\n",
       "Date                                                                     \n",
       "2001-01-01   12.005581       NaN         NaN        NaN       NaN     0.0\n",
       "2001-01-02   11.823679 -0.015267         NaN        NaN       NaN     0.0\n",
       "2001-01-03   11.569013 -0.021774         NaN        NaN       NaN     0.0\n",
       "2001-01-04   12.005581  0.037041         NaN        NaN       NaN     0.0\n",
       "2001-01-05   12.005581  0.000000         NaN        NaN       NaN     0.0\n",
       "...                ...       ...         ...        ...       ...     ...\n",
       "2021-12-23  247.294113  0.008972  279.682620  18.423548 -1.757995     1.0\n",
       "2021-12-27  248.324921  0.004160  279.519658  18.518706 -1.684499     1.0\n",
       "2021-12-28  250.337433  0.008072  279.374320  18.603586 -1.560822     1.0\n",
       "2021-12-29  249.453903 -0.003536  279.247834  18.698363 -1.593398     1.0\n",
       "2021-12-30  248.570343 -0.003548  279.109747  18.796048 -1.624778     1.0\n",
       "\n",
       "[5365 rows x 6 columns]"
      ]
     },
     "execution_count": 8,
     "metadata": {},
     "output_type": "execute_result"
    }
   ],
   "source": [
    "# Initialize stance\n",
    "MR['Stance'] = np.zeros(len(asset))\n",
    "\n",
    "# Define possible stances\n",
    "for i in range(len(asset)):\n",
    "    # Sell short if the z-score is > 1\n",
    "    if zscores[i] > 1:\n",
    "        MR['Stance'][i] = -1\n",
    "    # Buy long if the z-score is < -1\n",
    "    elif zscores[i] < -1:\n",
    "        MR['Stance'][i] = 1\n",
    "    # Clear positions if the z-score between -.5 and .5 \n",
    "    elif abs(zscores[i]) < 0.5:\n",
    "        MR['Stance'][i] = 0\n",
    "    # Do nothing at all, keep position as it was the day before in [i-1]\n",
    "    else:\n",
    "        MR['Stance'][i] = MR['Stance'][i-1]\n",
    "MR\n"
   ]
  },
  {
   "cell_type": "markdown",
   "metadata": {
    "id": "_OMaVFOlYKtL"
   },
   "source": [
    "Generieren Sie nun die Spalten *Strategy* und *Strategy Equity*. *Strategy* sagt uns welche Rendite wir bei Ausführen der Signale *Stance* erhalten. Dabei gehen wir davon aus, dass wir das Signal immer erst einen Tag später ausführen können. *Strategy Equity* gibt uns die kummulierte Veränderung unseres Kapitals an. "
   ]
  },
  {
   "cell_type": "code",
   "execution_count": 9,
   "metadata": {
    "colab": {
     "base_uri": "https://localhost:8080/",
     "height": 445
    },
    "executionInfo": {
     "elapsed": 31,
     "status": "ok",
     "timestamp": 1671819056592,
     "user": {
      "displayName": "Kc Migo",
      "userId": "14954445946106221058"
     },
     "user_tz": -60
    },
    "id": "fmXHA2EIYKtM",
    "outputId": "06faa9e5-6f38-4381-c240-895772512e6f"
   },
   "outputs": [
    {
     "data": {
      "text/html": [
       "<div>\n",
       "<style scoped>\n",
       "    .dataframe tbody tr th:only-of-type {\n",
       "        vertical-align: middle;\n",
       "    }\n",
       "\n",
       "    .dataframe tbody tr th {\n",
       "        vertical-align: top;\n",
       "    }\n",
       "\n",
       "    .dataframe thead th {\n",
       "        text-align: right;\n",
       "    }\n",
       "</style>\n",
       "<table border=\"1\" class=\"dataframe\">\n",
       "  <thead>\n",
       "    <tr style=\"text-align: right;\">\n",
       "      <th></th>\n",
       "      <th>Adj Close</th>\n",
       "      <th>return</th>\n",
       "      <th>mu_252d</th>\n",
       "      <th>std</th>\n",
       "      <th>zscores</th>\n",
       "      <th>Stance</th>\n",
       "      <th>Market Returns</th>\n",
       "      <th>Strategy</th>\n",
       "      <th>Strategy Equity</th>\n",
       "    </tr>\n",
       "    <tr>\n",
       "      <th>Date</th>\n",
       "      <th></th>\n",
       "      <th></th>\n",
       "      <th></th>\n",
       "      <th></th>\n",
       "      <th></th>\n",
       "      <th></th>\n",
       "      <th></th>\n",
       "      <th></th>\n",
       "      <th></th>\n",
       "    </tr>\n",
       "  </thead>\n",
       "  <tbody>\n",
       "    <tr>\n",
       "      <th>2001-01-01</th>\n",
       "      <td>12.005581</td>\n",
       "      <td>NaN</td>\n",
       "      <td>NaN</td>\n",
       "      <td>NaN</td>\n",
       "      <td>NaN</td>\n",
       "      <td>0.0</td>\n",
       "      <td>NaN</td>\n",
       "      <td>NaN</td>\n",
       "      <td>NaN</td>\n",
       "    </tr>\n",
       "    <tr>\n",
       "      <th>2001-01-02</th>\n",
       "      <td>11.823679</td>\n",
       "      <td>-0.015267</td>\n",
       "      <td>NaN</td>\n",
       "      <td>NaN</td>\n",
       "      <td>NaN</td>\n",
       "      <td>0.0</td>\n",
       "      <td>-0.015267</td>\n",
       "      <td>-0.000000</td>\n",
       "      <td>1.000000</td>\n",
       "    </tr>\n",
       "    <tr>\n",
       "      <th>2001-01-03</th>\n",
       "      <td>11.569013</td>\n",
       "      <td>-0.021774</td>\n",
       "      <td>NaN</td>\n",
       "      <td>NaN</td>\n",
       "      <td>NaN</td>\n",
       "      <td>0.0</td>\n",
       "      <td>-0.021774</td>\n",
       "      <td>-0.000000</td>\n",
       "      <td>1.000000</td>\n",
       "    </tr>\n",
       "    <tr>\n",
       "      <th>2001-01-04</th>\n",
       "      <td>12.005581</td>\n",
       "      <td>0.037041</td>\n",
       "      <td>NaN</td>\n",
       "      <td>NaN</td>\n",
       "      <td>NaN</td>\n",
       "      <td>0.0</td>\n",
       "      <td>0.037041</td>\n",
       "      <td>0.000000</td>\n",
       "      <td>1.000000</td>\n",
       "    </tr>\n",
       "    <tr>\n",
       "      <th>2001-01-05</th>\n",
       "      <td>12.005581</td>\n",
       "      <td>0.000000</td>\n",
       "      <td>NaN</td>\n",
       "      <td>NaN</td>\n",
       "      <td>NaN</td>\n",
       "      <td>0.0</td>\n",
       "      <td>0.000000</td>\n",
       "      <td>0.000000</td>\n",
       "      <td>1.000000</td>\n",
       "    </tr>\n",
       "    <tr>\n",
       "      <th>...</th>\n",
       "      <td>...</td>\n",
       "      <td>...</td>\n",
       "      <td>...</td>\n",
       "      <td>...</td>\n",
       "      <td>...</td>\n",
       "      <td>...</td>\n",
       "      <td>...</td>\n",
       "      <td>...</td>\n",
       "      <td>...</td>\n",
       "    </tr>\n",
       "    <tr>\n",
       "      <th>2021-12-23</th>\n",
       "      <td>247.294113</td>\n",
       "      <td>0.008972</td>\n",
       "      <td>279.682620</td>\n",
       "      <td>18.423548</td>\n",
       "      <td>-1.757995</td>\n",
       "      <td>1.0</td>\n",
       "      <td>0.008972</td>\n",
       "      <td>0.008972</td>\n",
       "      <td>0.532252</td>\n",
       "    </tr>\n",
       "    <tr>\n",
       "      <th>2021-12-27</th>\n",
       "      <td>248.324921</td>\n",
       "      <td>0.004160</td>\n",
       "      <td>279.519658</td>\n",
       "      <td>18.518706</td>\n",
       "      <td>-1.684499</td>\n",
       "      <td>1.0</td>\n",
       "      <td>0.004160</td>\n",
       "      <td>0.004160</td>\n",
       "      <td>0.536412</td>\n",
       "    </tr>\n",
       "    <tr>\n",
       "      <th>2021-12-28</th>\n",
       "      <td>250.337433</td>\n",
       "      <td>0.008072</td>\n",
       "      <td>279.374320</td>\n",
       "      <td>18.603586</td>\n",
       "      <td>-1.560822</td>\n",
       "      <td>1.0</td>\n",
       "      <td>0.008072</td>\n",
       "      <td>0.008072</td>\n",
       "      <td>0.544483</td>\n",
       "    </tr>\n",
       "    <tr>\n",
       "      <th>2021-12-29</th>\n",
       "      <td>249.453903</td>\n",
       "      <td>-0.003536</td>\n",
       "      <td>279.247834</td>\n",
       "      <td>18.698363</td>\n",
       "      <td>-1.593398</td>\n",
       "      <td>1.0</td>\n",
       "      <td>-0.003536</td>\n",
       "      <td>-0.003536</td>\n",
       "      <td>0.540948</td>\n",
       "    </tr>\n",
       "    <tr>\n",
       "      <th>2021-12-30</th>\n",
       "      <td>248.570343</td>\n",
       "      <td>-0.003548</td>\n",
       "      <td>279.109747</td>\n",
       "      <td>18.796048</td>\n",
       "      <td>-1.624778</td>\n",
       "      <td>1.0</td>\n",
       "      <td>-0.003548</td>\n",
       "      <td>-0.003548</td>\n",
       "      <td>0.537399</td>\n",
       "    </tr>\n",
       "  </tbody>\n",
       "</table>\n",
       "<p>5365 rows × 9 columns</p>\n",
       "</div>"
      ],
      "text/plain": [
       "             Adj Close    return     mu_252d        std   zscores  Stance  \\\n",
       "Date                                                                        \n",
       "2001-01-01   12.005581       NaN         NaN        NaN       NaN     0.0   \n",
       "2001-01-02   11.823679 -0.015267         NaN        NaN       NaN     0.0   \n",
       "2001-01-03   11.569013 -0.021774         NaN        NaN       NaN     0.0   \n",
       "2001-01-04   12.005581  0.037041         NaN        NaN       NaN     0.0   \n",
       "2001-01-05   12.005581  0.000000         NaN        NaN       NaN     0.0   \n",
       "...                ...       ...         ...        ...       ...     ...   \n",
       "2021-12-23  247.294113  0.008972  279.682620  18.423548 -1.757995     1.0   \n",
       "2021-12-27  248.324921  0.004160  279.519658  18.518706 -1.684499     1.0   \n",
       "2021-12-28  250.337433  0.008072  279.374320  18.603586 -1.560822     1.0   \n",
       "2021-12-29  249.453903 -0.003536  279.247834  18.698363 -1.593398     1.0   \n",
       "2021-12-30  248.570343 -0.003548  279.109747  18.796048 -1.624778     1.0   \n",
       "\n",
       "            Market Returns  Strategy  Strategy Equity  \n",
       "Date                                                   \n",
       "2001-01-01             NaN       NaN              NaN  \n",
       "2001-01-02       -0.015267 -0.000000         1.000000  \n",
       "2001-01-03       -0.021774 -0.000000         1.000000  \n",
       "2001-01-04        0.037041  0.000000         1.000000  \n",
       "2001-01-05        0.000000  0.000000         1.000000  \n",
       "...                    ...       ...              ...  \n",
       "2021-12-23        0.008972  0.008972         0.532252  \n",
       "2021-12-27        0.004160  0.004160         0.536412  \n",
       "2021-12-28        0.008072  0.008072         0.544483  \n",
       "2021-12-29       -0.003536 -0.003536         0.540948  \n",
       "2021-12-30       -0.003548 -0.003548         0.537399  \n",
       "\n",
       "[5365 rows x 9 columns]"
      ]
     },
     "execution_count": 9,
     "metadata": {},
     "output_type": "execute_result"
    },
    {
     "data": {
      "image/png": "[encoded data removed]",
      "text/plain": [
       "<Figure size 1080x504 with 1 Axes>"
      ]
     },
     "metadata": {
      "needs_background": "light"
     },
     "output_type": "display_data"
    }
   ],
   "source": [
    "# Create columns containing daily market log returns and strategy daily log returns\n",
    "MR['Market Returns'] = np.log(MR['Adj Close'] / MR['Adj Close'].shift(1))\n",
    "MR['Strategy'] = MR['Market Returns'] * MR['Stance'].shift(1)\n",
    "\n",
    "\n",
    "# Set strategy starting equity to 1 (i.e. 100%) and generate equity curve\n",
    "MR['Strategy Equity'] = MR['Strategy'].cumsum() + 1\n",
    "MR\n",
    "\n",
    "plt.figure(figsize=(15,7))\n",
    "plt.plot(MR['Strategy Equity'])\n",
    "MR"
   ]
  },
  {
   "cell_type": "markdown",
   "metadata": {
    "id": "1tl1SuGYYKtN"
   },
   "source": [
    "Berechnen Sie die Anzahl der Tage an denen die Strategie short, long oder keine Position annimmt. Nutzten Sie dafür beispielsweise die Funktion \".value_counts()\"."
   ]
  },
  {
   "cell_type": "code",
   "execution_count": 10,
   "metadata": {
    "colab": {
     "base_uri": "https://localhost:8080/"
    },
    "executionInfo": {
     "elapsed": 25,
     "status": "ok",
     "timestamp": 1671819056593,
     "user": {
      "displayName": "Kc Migo",
      "userId": "14954445946106221058"
     },
     "user_tz": -60
    },
    "id": "NfLT4xuWYKtN",
    "outputId": "ad322e3b-2582-48d4-d56b-a75b472d179b"
   },
   "outputs": [
    {
     "data": {
      "text/plain": [
       "-1.0    3205\n",
       " 0.0    1414\n",
       " 1.0     746\n",
       "Name: Stance, dtype: int64"
      ]
     },
     "execution_count": 10,
     "metadata": {},
     "output_type": "execute_result"
    }
   ],
   "source": [
    "MR['Stance'].value_counts()"
   ]
  },
  {
   "cell_type": "markdown",
   "metadata": {
    "id": "xVZjYspsYKtO"
   },
   "source": [
    "# Implementierung Moving Average Crossover"
   ]
  },
  {
   "cell_type": "markdown",
   "metadata": {
    "id": "AlSgL3L2YKtP"
   },
   "source": [
    "## Parameter berechnen bzw. festlegen"
   ]
  },
  {
   "cell_type": "markdown",
   "metadata": {
    "id": "n1YsPY47YKtP"
   },
   "source": [
    "Für die Moving Average Crossover Strategie betrachten wir den rollierenden 126-Tages und den rollierenden 1260-Tages Durchschnitt. Generieren Sie das Dataframe *MAC* aus dem Dataframe *prices* mit den Spalten *Adj Close*, *return*, *mu_126d* und *mu_1260d* . "
   ]
  },
  {
   "cell_type": "code",
   "execution_count": 11,
   "metadata": {
    "colab": {
     "base_uri": "https://localhost:8080/",
     "height": 455
    },
    "executionInfo": {
     "elapsed": 23,
     "status": "ok",
     "timestamp": 1671819056593,
     "user": {
      "displayName": "Kc Migo",
      "userId": "14954445946106221058"
     },
     "user_tz": -60
    },
    "id": "TCv1nhTaYKtQ",
    "outputId": "654cd052-7825-4f1f-fa28-4f64d6ffc5b5"
   },
   "outputs": [
    {
     "data": {
      "text/html": [
       "<div>\n",
       "<style scoped>\n",
       "    .dataframe tbody tr th:only-of-type {\n",
       "        vertical-align: middle;\n",
       "    }\n",
       "\n",
       "    .dataframe tbody tr th {\n",
       "        vertical-align: top;\n",
       "    }\n",
       "\n",
       "    .dataframe thead th {\n",
       "        text-align: right;\n",
       "    }\n",
       "</style>\n",
       "<table border=\"1\" class=\"dataframe\">\n",
       "  <thead>\n",
       "    <tr style=\"text-align: right;\">\n",
       "      <th></th>\n",
       "      <th>Adj Close</th>\n",
       "      <th>return</th>\n",
       "      <th>mu_126d</th>\n",
       "      <th>mu_1260d</th>\n",
       "    </tr>\n",
       "    <tr>\n",
       "      <th>Date</th>\n",
       "      <th></th>\n",
       "      <th></th>\n",
       "      <th></th>\n",
       "      <th></th>\n",
       "    </tr>\n",
       "  </thead>\n",
       "  <tbody>\n",
       "    <tr>\n",
       "      <th>2001-01-01</th>\n",
       "      <td>12.005581</td>\n",
       "      <td>NaN</td>\n",
       "      <td>NaN</td>\n",
       "      <td>NaN</td>\n",
       "    </tr>\n",
       "    <tr>\n",
       "      <th>2001-01-02</th>\n",
       "      <td>11.823679</td>\n",
       "      <td>-0.015267</td>\n",
       "      <td>NaN</td>\n",
       "      <td>NaN</td>\n",
       "    </tr>\n",
       "    <tr>\n",
       "      <th>2001-01-03</th>\n",
       "      <td>11.569013</td>\n",
       "      <td>-0.021774</td>\n",
       "      <td>NaN</td>\n",
       "      <td>NaN</td>\n",
       "    </tr>\n",
       "    <tr>\n",
       "      <th>2001-01-04</th>\n",
       "      <td>12.005581</td>\n",
       "      <td>0.037041</td>\n",
       "      <td>NaN</td>\n",
       "      <td>NaN</td>\n",
       "    </tr>\n",
       "    <tr>\n",
       "      <th>2001-01-05</th>\n",
       "      <td>12.005581</td>\n",
       "      <td>0.000000</td>\n",
       "      <td>NaN</td>\n",
       "      <td>NaN</td>\n",
       "    </tr>\n",
       "    <tr>\n",
       "      <th>...</th>\n",
       "      <td>...</td>\n",
       "      <td>...</td>\n",
       "      <td>...</td>\n",
       "      <td>...</td>\n",
       "    </tr>\n",
       "    <tr>\n",
       "      <th>2021-12-23</th>\n",
       "      <td>247.294113</td>\n",
       "      <td>0.008972</td>\n",
       "      <td>282.164886</td>\n",
       "      <td>221.171114</td>\n",
       "    </tr>\n",
       "    <tr>\n",
       "      <th>2021-12-27</th>\n",
       "      <td>248.324921</td>\n",
       "      <td>0.004160</td>\n",
       "      <td>281.686884</td>\n",
       "      <td>221.264687</td>\n",
       "    </tr>\n",
       "    <tr>\n",
       "      <th>2021-12-28</th>\n",
       "      <td>250.337433</td>\n",
       "      <td>0.008072</td>\n",
       "      <td>281.206934</td>\n",
       "      <td>221.359499</td>\n",
       "    </tr>\n",
       "    <tr>\n",
       "      <th>2021-12-29</th>\n",
       "      <td>249.453903</td>\n",
       "      <td>-0.003536</td>\n",
       "      <td>280.730490</td>\n",
       "      <td>221.453825</td>\n",
       "    </tr>\n",
       "    <tr>\n",
       "      <th>2021-12-30</th>\n",
       "      <td>248.570343</td>\n",
       "      <td>-0.003548</td>\n",
       "      <td>280.271577</td>\n",
       "      <td>221.547235</td>\n",
       "    </tr>\n",
       "  </tbody>\n",
       "</table>\n",
       "<p>5365 rows × 4 columns</p>\n",
       "</div>"
      ],
      "text/plain": [
       "             Adj Close    return     mu_126d    mu_1260d\n",
       "Date                                                    \n",
       "2001-01-01   12.005581       NaN         NaN         NaN\n",
       "2001-01-02   11.823679 -0.015267         NaN         NaN\n",
       "2001-01-03   11.569013 -0.021774         NaN         NaN\n",
       "2001-01-04   12.005581  0.037041         NaN         NaN\n",
       "2001-01-05   12.005581  0.000000         NaN         NaN\n",
       "...                ...       ...         ...         ...\n",
       "2021-12-23  247.294113  0.008972  282.164886  221.171114\n",
       "2021-12-27  248.324921  0.004160  281.686884  221.264687\n",
       "2021-12-28  250.337433  0.008072  281.206934  221.359499\n",
       "2021-12-29  249.453903 -0.003536  280.730490  221.453825\n",
       "2021-12-30  248.570343 -0.003548  280.271577  221.547235\n",
       "\n",
       "[5365 rows x 4 columns]"
      ]
     },
     "execution_count": 11,
     "metadata": {},
     "output_type": "execute_result"
    }
   ],
   "source": [
    "# Generate MAC\n",
    "MAC = prices[['Adj Close','return','mu_126d', 'mu_1260d']]\n",
    "MAC"
   ]
  },
  {
   "cell_type": "markdown",
   "metadata": {
    "id": "r-ejs1MHYKtR"
   },
   "source": [
    "Sehen Sie sich zuerst nochmal beide Durchschnitte in einer Grafik an und verdeutlichen Sie sich unsere Strategie. Unser Signal beruht also auf dem Unterschied zwischen dem lang- und kurzfristigen Trend. "
   ]
  },
  {
   "cell_type": "code",
   "execution_count": 12,
   "metadata": {
    "colab": {
     "base_uri": "https://localhost:8080/",
     "height": 459
    },
    "executionInfo": {
     "elapsed": 643,
     "status": "ok",
     "timestamp": 1671819057215,
     "user": {
      "displayName": "Kc Migo",
      "userId": "14954445946106221058"
     },
     "user_tz": -60
    },
    "id": "byRmX8U7YKtR",
    "outputId": "92e5fa0f-412e-4767-f36c-64b0457216d6"
   },
   "outputs": [
    {
     "data": {
      "text/plain": [
       "<matplotlib.legend.Legend at 0x1f869257bb0>"
      ]
     },
     "execution_count": 12,
     "metadata": {},
     "output_type": "execute_result"
    },
    {
     "data": {
      "image/png": "[encoded data removed]",
      "text/plain": [
       "<Figure size 1080x504 with 1 Axes>"
      ]
     },
     "metadata": {
      "needs_background": "light"
     },
     "output_type": "display_data"
    }
   ],
   "source": [
    "# Plot mu_126d and mu_1260d\n",
    "plt.figure(figsize=(15,7))\n",
    "plt.plot(prices['mu_126d'])\n",
    "plt.plot(prices['mu_1260d'])\n",
    "plt.xlabel('Year')\n",
    "plt.ylabel('Price')\n",
    "plt.legend(['MA 126d', 'MA 1260d'])"
   ]
  },
  {
   "cell_type": "markdown",
   "metadata": {
    "id": "vM5q7xHtYKtS"
   },
   "source": [
    "Generieren Sie die Spalte *MAC['126-1260']*, die den Unterschied zwischen beiden Trends angibt. "
   ]
  },
  {
   "cell_type": "code",
   "execution_count": 13,
   "metadata": {
    "colab": {
     "base_uri": "https://localhost:8080/",
     "height": 559
    },
    "executionInfo": {
     "elapsed": 17,
     "status": "ok",
     "timestamp": 1671819057216,
     "user": {
      "displayName": "Kc Migo",
      "userId": "14954445946106221058"
     },
     "user_tz": -60
    },
    "id": "tKYdPIJCYKtS",
    "outputId": "faadbf2e-01c9-46f5-cfa0-291cd8f98342"
   },
   "outputs": [
    {
     "name": "stderr",
     "output_type": "stream",
     "text": [
      "C:\\Users\\Dennis\\AppData\\Local\\Temp/ipykernel_176/3250662222.py:2: SettingWithCopyWarning: \n",
      "A value is trying to be set on a copy of a slice from a DataFrame.\n",
      "Try using .loc[row_indexer,col_indexer] = value instead\n",
      "\n",
      "See the caveats in the documentation: https://pandas.pydata.org/pandas-docs/stable/user_guide/indexing.html#returning-a-view-versus-a-copy\n",
      "  MAC['126-1260'] = MAC['mu_126d'] - MAC['mu_1260d']\n"
     ]
    },
    {
     "data": {
      "text/html": [
       "<div>\n",
       "<style scoped>\n",
       "    .dataframe tbody tr th:only-of-type {\n",
       "        vertical-align: middle;\n",
       "    }\n",
       "\n",
       "    .dataframe tbody tr th {\n",
       "        vertical-align: top;\n",
       "    }\n",
       "\n",
       "    .dataframe thead th {\n",
       "        text-align: right;\n",
       "    }\n",
       "</style>\n",
       "<table border=\"1\" class=\"dataframe\">\n",
       "  <thead>\n",
       "    <tr style=\"text-align: right;\">\n",
       "      <th></th>\n",
       "      <th>Adj Close</th>\n",
       "      <th>return</th>\n",
       "      <th>mu_126d</th>\n",
       "      <th>mu_1260d</th>\n",
       "      <th>126-1260</th>\n",
       "    </tr>\n",
       "    <tr>\n",
       "      <th>Date</th>\n",
       "      <th></th>\n",
       "      <th></th>\n",
       "      <th></th>\n",
       "      <th></th>\n",
       "      <th></th>\n",
       "    </tr>\n",
       "  </thead>\n",
       "  <tbody>\n",
       "    <tr>\n",
       "      <th>2001-01-01</th>\n",
       "      <td>12.005581</td>\n",
       "      <td>NaN</td>\n",
       "      <td>NaN</td>\n",
       "      <td>NaN</td>\n",
       "      <td>NaN</td>\n",
       "    </tr>\n",
       "    <tr>\n",
       "      <th>2001-01-02</th>\n",
       "      <td>11.823679</td>\n",
       "      <td>-0.015267</td>\n",
       "      <td>NaN</td>\n",
       "      <td>NaN</td>\n",
       "      <td>NaN</td>\n",
       "    </tr>\n",
       "    <tr>\n",
       "      <th>2001-01-03</th>\n",
       "      <td>11.569013</td>\n",
       "      <td>-0.021774</td>\n",
       "      <td>NaN</td>\n",
       "      <td>NaN</td>\n",
       "      <td>NaN</td>\n",
       "    </tr>\n",
       "    <tr>\n",
       "      <th>2001-01-04</th>\n",
       "      <td>12.005581</td>\n",
       "      <td>0.037041</td>\n",
       "      <td>NaN</td>\n",
       "      <td>NaN</td>\n",
       "      <td>NaN</td>\n",
       "    </tr>\n",
       "    <tr>\n",
       "      <th>2001-01-05</th>\n",
       "      <td>12.005581</td>\n",
       "      <td>0.000000</td>\n",
       "      <td>NaN</td>\n",
       "      <td>NaN</td>\n",
       "      <td>NaN</td>\n",
       "    </tr>\n",
       "    <tr>\n",
       "      <th>...</th>\n",
       "      <td>...</td>\n",
       "      <td>...</td>\n",
       "      <td>...</td>\n",
       "      <td>...</td>\n",
       "      <td>...</td>\n",
       "    </tr>\n",
       "    <tr>\n",
       "      <th>2021-12-23</th>\n",
       "      <td>247.294113</td>\n",
       "      <td>0.008972</td>\n",
       "      <td>282.164886</td>\n",
       "      <td>221.171114</td>\n",
       "      <td>60.993772</td>\n",
       "    </tr>\n",
       "    <tr>\n",
       "      <th>2021-12-27</th>\n",
       "      <td>248.324921</td>\n",
       "      <td>0.004160</td>\n",
       "      <td>281.686884</td>\n",
       "      <td>221.264687</td>\n",
       "      <td>60.422196</td>\n",
       "    </tr>\n",
       "    <tr>\n",
       "      <th>2021-12-28</th>\n",
       "      <td>250.337433</td>\n",
       "      <td>0.008072</td>\n",
       "      <td>281.206934</td>\n",
       "      <td>221.359499</td>\n",
       "      <td>59.847434</td>\n",
       "    </tr>\n",
       "    <tr>\n",
       "      <th>2021-12-29</th>\n",
       "      <td>249.453903</td>\n",
       "      <td>-0.003536</td>\n",
       "      <td>280.730490</td>\n",
       "      <td>221.453825</td>\n",
       "      <td>59.276665</td>\n",
       "    </tr>\n",
       "    <tr>\n",
       "      <th>2021-12-30</th>\n",
       "      <td>248.570343</td>\n",
       "      <td>-0.003548</td>\n",
       "      <td>280.271577</td>\n",
       "      <td>221.547235</td>\n",
       "      <td>58.724342</td>\n",
       "    </tr>\n",
       "  </tbody>\n",
       "</table>\n",
       "<p>5365 rows × 5 columns</p>\n",
       "</div>"
      ],
      "text/plain": [
       "             Adj Close    return     mu_126d    mu_1260d   126-1260\n",
       "Date                                                               \n",
       "2001-01-01   12.005581       NaN         NaN         NaN        NaN\n",
       "2001-01-02   11.823679 -0.015267         NaN         NaN        NaN\n",
       "2001-01-03   11.569013 -0.021774         NaN         NaN        NaN\n",
       "2001-01-04   12.005581  0.037041         NaN         NaN        NaN\n",
       "2001-01-05   12.005581  0.000000         NaN         NaN        NaN\n",
       "...                ...       ...         ...         ...        ...\n",
       "2021-12-23  247.294113  0.008972  282.164886  221.171114  60.993772\n",
       "2021-12-27  248.324921  0.004160  281.686884  221.264687  60.422196\n",
       "2021-12-28  250.337433  0.008072  281.206934  221.359499  59.847434\n",
       "2021-12-29  249.453903 -0.003536  280.730490  221.453825  59.276665\n",
       "2021-12-30  248.570343 -0.003548  280.271577  221.547235  58.724342\n",
       "\n",
       "[5365 rows x 5 columns]"
      ]
     },
     "execution_count": 13,
     "metadata": {},
     "output_type": "execute_result"
    }
   ],
   "source": [
    "# Create column with moving average spread differential\n",
    "MAC['126-1260'] = MAC['mu_126d'] - MAC['mu_1260d']\n",
    "MAC"
   ]
  },
  {
   "cell_type": "markdown",
   "metadata": {
    "id": "Wuvy6hquYKtT"
   },
   "source": [
    "## Position festlegen"
   ]
  },
  {
   "cell_type": "markdown",
   "metadata": {
    "id": "0feXcjNUYKtT"
   },
   "source": [
    "Wir bauen die Strategie wie folgt auf: \n",
    "- Wenn der kurzfristige Trend mindestens 11 EUR über dem langfristigen Trend liegt, dann kaufen wir die Aktie.\n",
    "- Wenn der kurzfristige Trend mindestens 11 EUR unter dem langfristigen Trend liegt, dann verkaufen wir die Aktie.\n",
    "- In allen anderen Fällen halten wir keine Position.  \n",
    "\n",
    "Generieren Sie die Spalte *Stance*, die folgende Werte annehmen kann:\n",
    "- *Stance* = 1, long Position.\n",
    "- *Stance* = -1, short Position.\n",
    "- *Stance* = 0, keine Position."
   ]
  },
  {
   "cell_type": "code",
   "execution_count": 14,
   "metadata": {
    "executionInfo": {
     "elapsed": 1466,
     "status": "ok",
     "timestamp": 1671819058670,
     "user": {
      "displayName": "Kc Migo",
      "userId": "14954445946106221058"
     },
     "user_tz": -60
    },
    "id": "hqHHazBjYKtU"
   },
   "outputs": [],
   "source": [
    "# Set desired number of points as threshold for spread difference and \n",
    "# Create column containing strategy 'Stance'\n",
    "\n",
    "\n",
    "MAC['Stance'] = np.zeros(len(MAC['126-1260']))\n",
    "\n",
    "# Define possible stances\n",
    "for i in range(len(MAC['126-1260'])):\n",
    "    # Buy long if the difference is > 11\n",
    "    if MAC['126-1260'][i] > 11:\n",
    "        MAC['Stance'][i] = 1\n",
    "    # Sell short if the difference ist < -11\n",
    "    elif MAC['126-1260'][i] < -11:\n",
    "        MAC['Stance'][i] = -1\n",
    "    # Do nothing at all\n",
    "    else:\n",
    "        MAC['Stance'][i] = 0\n",
    "\n"
   ]
  },
  {
   "cell_type": "markdown",
   "metadata": {
    "id": "cPFFGZ43YKtU"
   },
   "source": [
    "Generieren Sie außerdem die Spalten *Strategy* und *Strategy Equity*, analog zu 3.2."
   ]
  },
  {
   "cell_type": "code",
   "execution_count": 15,
   "metadata": {
    "colab": {
     "base_uri": "https://localhost:8080/",
     "height": 455
    },
    "executionInfo": {
     "elapsed": 46,
     "status": "ok",
     "timestamp": 1671819058672,
     "user": {
      "displayName": "Kc Migo",
      "userId": "14954445946106221058"
     },
     "user_tz": -60
    },
    "id": "8qotRFHQYKtU",
    "outputId": "65bcc748-bbb5-4ae9-9592-2be085d68ee4"
   },
   "outputs": [
    {
     "data": {
      "text/html": [
       "<div>\n",
       "<style scoped>\n",
       "    .dataframe tbody tr th:only-of-type {\n",
       "        vertical-align: middle;\n",
       "    }\n",
       "\n",
       "    .dataframe tbody tr th {\n",
       "        vertical-align: top;\n",
       "    }\n",
       "\n",
       "    .dataframe thead th {\n",
       "        text-align: right;\n",
       "    }\n",
       "</style>\n",
       "<table border=\"1\" class=\"dataframe\">\n",
       "  <thead>\n",
       "    <tr style=\"text-align: right;\">\n",
       "      <th></th>\n",
       "      <th>Adj Close</th>\n",
       "      <th>return</th>\n",
       "      <th>mu_126d</th>\n",
       "      <th>mu_1260d</th>\n",
       "      <th>126-1260</th>\n",
       "      <th>Stance</th>\n",
       "      <th>Market Returns</th>\n",
       "      <th>Strategy</th>\n",
       "      <th>Strategy Equity</th>\n",
       "    </tr>\n",
       "    <tr>\n",
       "      <th>Date</th>\n",
       "      <th></th>\n",
       "      <th></th>\n",
       "      <th></th>\n",
       "      <th></th>\n",
       "      <th></th>\n",
       "      <th></th>\n",
       "      <th></th>\n",
       "      <th></th>\n",
       "      <th></th>\n",
       "    </tr>\n",
       "  </thead>\n",
       "  <tbody>\n",
       "    <tr>\n",
       "      <th>2001-01-01</th>\n",
       "      <td>12.005581</td>\n",
       "      <td>NaN</td>\n",
       "      <td>NaN</td>\n",
       "      <td>NaN</td>\n",
       "      <td>NaN</td>\n",
       "      <td>0.0</td>\n",
       "      <td>NaN</td>\n",
       "      <td>NaN</td>\n",
       "      <td>NaN</td>\n",
       "    </tr>\n",
       "    <tr>\n",
       "      <th>2001-01-02</th>\n",
       "      <td>11.823679</td>\n",
       "      <td>-0.015267</td>\n",
       "      <td>NaN</td>\n",
       "      <td>NaN</td>\n",
       "      <td>NaN</td>\n",
       "      <td>0.0</td>\n",
       "      <td>-0.015267</td>\n",
       "      <td>-0.000000</td>\n",
       "      <td>1.000000</td>\n",
       "    </tr>\n",
       "    <tr>\n",
       "      <th>2001-01-03</th>\n",
       "      <td>11.569013</td>\n",
       "      <td>-0.021774</td>\n",
       "      <td>NaN</td>\n",
       "      <td>NaN</td>\n",
       "      <td>NaN</td>\n",
       "      <td>0.0</td>\n",
       "      <td>-0.021774</td>\n",
       "      <td>-0.000000</td>\n",
       "      <td>1.000000</td>\n",
       "    </tr>\n",
       "    <tr>\n",
       "      <th>2001-01-04</th>\n",
       "      <td>12.005581</td>\n",
       "      <td>0.037041</td>\n",
       "      <td>NaN</td>\n",
       "      <td>NaN</td>\n",
       "      <td>NaN</td>\n",
       "      <td>0.0</td>\n",
       "      <td>0.037041</td>\n",
       "      <td>0.000000</td>\n",
       "      <td>1.000000</td>\n",
       "    </tr>\n",
       "    <tr>\n",
       "      <th>2001-01-05</th>\n",
       "      <td>12.005581</td>\n",
       "      <td>0.000000</td>\n",
       "      <td>NaN</td>\n",
       "      <td>NaN</td>\n",
       "      <td>NaN</td>\n",
       "      <td>0.0</td>\n",
       "      <td>0.000000</td>\n",
       "      <td>0.000000</td>\n",
       "      <td>1.000000</td>\n",
       "    </tr>\n",
       "    <tr>\n",
       "      <th>...</th>\n",
       "      <td>...</td>\n",
       "      <td>...</td>\n",
       "      <td>...</td>\n",
       "      <td>...</td>\n",
       "      <td>...</td>\n",
       "      <td>...</td>\n",
       "      <td>...</td>\n",
       "      <td>...</td>\n",
       "      <td>...</td>\n",
       "    </tr>\n",
       "    <tr>\n",
       "      <th>2021-12-23</th>\n",
       "      <td>247.294113</td>\n",
       "      <td>0.008972</td>\n",
       "      <td>282.164886</td>\n",
       "      <td>221.171114</td>\n",
       "      <td>60.993772</td>\n",
       "      <td>1.0</td>\n",
       "      <td>0.008972</td>\n",
       "      <td>0.008972</td>\n",
       "      <td>2.069600</td>\n",
       "    </tr>\n",
       "    <tr>\n",
       "      <th>2021-12-27</th>\n",
       "      <td>248.324921</td>\n",
       "      <td>0.004160</td>\n",
       "      <td>281.686884</td>\n",
       "      <td>221.264687</td>\n",
       "      <td>60.422196</td>\n",
       "      <td>1.0</td>\n",
       "      <td>0.004160</td>\n",
       "      <td>0.004160</td>\n",
       "      <td>2.073760</td>\n",
       "    </tr>\n",
       "    <tr>\n",
       "      <th>2021-12-28</th>\n",
       "      <td>250.337433</td>\n",
       "      <td>0.008072</td>\n",
       "      <td>281.206934</td>\n",
       "      <td>221.359499</td>\n",
       "      <td>59.847434</td>\n",
       "      <td>1.0</td>\n",
       "      <td>0.008072</td>\n",
       "      <td>0.008072</td>\n",
       "      <td>2.081832</td>\n",
       "    </tr>\n",
       "    <tr>\n",
       "      <th>2021-12-29</th>\n",
       "      <td>249.453903</td>\n",
       "      <td>-0.003536</td>\n",
       "      <td>280.730490</td>\n",
       "      <td>221.453825</td>\n",
       "      <td>59.276665</td>\n",
       "      <td>1.0</td>\n",
       "      <td>-0.003536</td>\n",
       "      <td>-0.003536</td>\n",
       "      <td>2.078296</td>\n",
       "    </tr>\n",
       "    <tr>\n",
       "      <th>2021-12-30</th>\n",
       "      <td>248.570343</td>\n",
       "      <td>-0.003548</td>\n",
       "      <td>280.271577</td>\n",
       "      <td>221.547235</td>\n",
       "      <td>58.724342</td>\n",
       "      <td>1.0</td>\n",
       "      <td>-0.003548</td>\n",
       "      <td>-0.003548</td>\n",
       "      <td>2.074748</td>\n",
       "    </tr>\n",
       "  </tbody>\n",
       "</table>\n",
       "<p>5365 rows × 9 columns</p>\n",
       "</div>"
      ],
      "text/plain": [
       "             Adj Close    return     mu_126d    mu_1260d   126-1260  Stance  \\\n",
       "Date                                                                          \n",
       "2001-01-01   12.005581       NaN         NaN         NaN        NaN     0.0   \n",
       "2001-01-02   11.823679 -0.015267         NaN         NaN        NaN     0.0   \n",
       "2001-01-03   11.569013 -0.021774         NaN         NaN        NaN     0.0   \n",
       "2001-01-04   12.005581  0.037041         NaN         NaN        NaN     0.0   \n",
       "2001-01-05   12.005581  0.000000         NaN         NaN        NaN     0.0   \n",
       "...                ...       ...         ...         ...        ...     ...   \n",
       "2021-12-23  247.294113  0.008972  282.164886  221.171114  60.993772     1.0   \n",
       "2021-12-27  248.324921  0.004160  281.686884  221.264687  60.422196     1.0   \n",
       "2021-12-28  250.337433  0.008072  281.206934  221.359499  59.847434     1.0   \n",
       "2021-12-29  249.453903 -0.003536  280.730490  221.453825  59.276665     1.0   \n",
       "2021-12-30  248.570343 -0.003548  280.271577  221.547235  58.724342     1.0   \n",
       "\n",
       "            Market Returns  Strategy  Strategy Equity  \n",
       "Date                                                   \n",
       "2001-01-01             NaN       NaN              NaN  \n",
       "2001-01-02       -0.015267 -0.000000         1.000000  \n",
       "2001-01-03       -0.021774 -0.000000         1.000000  \n",
       "2001-01-04        0.037041  0.000000         1.000000  \n",
       "2001-01-05        0.000000  0.000000         1.000000  \n",
       "...                    ...       ...              ...  \n",
       "2021-12-23        0.008972  0.008972         2.069600  \n",
       "2021-12-27        0.004160  0.004160         2.073760  \n",
       "2021-12-28        0.008072  0.008072         2.081832  \n",
       "2021-12-29       -0.003536 -0.003536         2.078296  \n",
       "2021-12-30       -0.003548 -0.003548         2.074748  \n",
       "\n",
       "[5365 rows x 9 columns]"
      ]
     },
     "execution_count": 15,
     "metadata": {},
     "output_type": "execute_result"
    }
   ],
   "source": [
    "# Create columns containing daily market log returns and strategy daily log returns\n",
    "MAC['Market Returns'] = np.log(MAC['Adj Close'] / MAC['Adj Close'].shift(1))\n",
    "MAC['Strategy'] = MAC['Market Returns'] * MAC['Stance'].shift(1)\n",
    "\n",
    "# Set strategy starting equity to 1 (i.e. 100%) and generate equity curve\n",
    "MAC['Strategy Equity'] = MAC['Strategy'].cumsum() + 1\n",
    "\n",
    "MAC"
   ]
  },
  {
   "cell_type": "markdown",
   "metadata": {
    "id": "q2CA_kizYKtV"
   },
   "source": [
    "Berechnen Sie die Anzahl der Tage an denen die Strategie short, long oder keine Position annimmt."
   ]
  },
  {
   "cell_type": "code",
   "execution_count": 16,
   "metadata": {
    "colab": {
     "base_uri": "https://localhost:8080/"
    },
    "executionInfo": {
     "elapsed": 43,
     "status": "ok",
     "timestamp": 1671819058673,
     "user": {
      "displayName": "Kc Migo",
      "userId": "14954445946106221058"
     },
     "user_tz": -60
    },
    "id": "vxx0AGqBYKtV",
    "outputId": "030cec4b-85c0-4264-cd28-347e670e4e27"
   },
   "outputs": [
    {
     "data": {
      "text/plain": [
       "0.0    3075\n",
       "1.0    2290\n",
       "Name: Stance, dtype: int64"
      ]
     },
     "execution_count": 16,
     "metadata": {},
     "output_type": "execute_result"
    }
   ],
   "source": [
    "MAC['Stance'].value_counts()"
   ]
  },
  {
   "cell_type": "markdown",
   "metadata": {
    "id": "6qU1cmuYYKtV"
   },
   "source": [
    "# Implementierung Buy-and-Hold Strategy"
   ]
  },
  {
   "cell_type": "markdown",
   "metadata": {
    "id": "zdaBKp8yYKtW"
   },
   "source": [
    "Zuletzt wollen wir noch eine simple Buy-and-Hold Strategie implementieren. Wir kaufen am ersten Handelstag in 2001 und halten bis zum letzten Handelstag von 2021. Generieren Sie entsprechend das Dataframe *BAH* mit den Spalten *Adj Close*, *return*, *Strategy* und *Strategy Equity*."
   ]
  },
  {
   "cell_type": "code",
   "execution_count": 17,
   "metadata": {
    "colab": {
     "base_uri": "https://localhost:8080/",
     "height": 663
    },
    "executionInfo": {
     "elapsed": 39,
     "status": "ok",
     "timestamp": 1671819058675,
     "user": {
      "displayName": "Kc Migo",
      "userId": "14954445946106221058"
     },
     "user_tz": -60
    },
    "id": "HQUTD8tIYKtW",
    "outputId": "f06ff74c-017d-4897-b2e9-45c478de7726"
   },
   "outputs": [
    {
     "name": "stderr",
     "output_type": "stream",
     "text": [
      "C:\\Users\\Dennis\\AppData\\Local\\Temp/ipykernel_176/3411170038.py:4: SettingWithCopyWarning: \n",
      "A value is trying to be set on a copy of a slice from a DataFrame.\n",
      "Try using .loc[row_indexer,col_indexer] = value instead\n",
      "\n",
      "See the caveats in the documentation: https://pandas.pydata.org/pandas-docs/stable/user_guide/indexing.html#returning-a-view-versus-a-copy\n",
      "  BAH['Strategy'] = np.log(BAH['Adj Close'] / BAH['Adj Close'].shift(1))\n",
      "C:\\Users\\Dennis\\AppData\\Local\\Temp/ipykernel_176/3411170038.py:6: SettingWithCopyWarning: \n",
      "A value is trying to be set on a copy of a slice from a DataFrame.\n",
      "Try using .loc[row_indexer,col_indexer] = value instead\n",
      "\n",
      "See the caveats in the documentation: https://pandas.pydata.org/pandas-docs/stable/user_guide/indexing.html#returning-a-view-versus-a-copy\n",
      "  BAH['Strategy Equity'] = BAH['Strategy'].cumsum() + 1\n"
     ]
    },
    {
     "data": {
      "text/html": [
       "<div>\n",
       "<style scoped>\n",
       "    .dataframe tbody tr th:only-of-type {\n",
       "        vertical-align: middle;\n",
       "    }\n",
       "\n",
       "    .dataframe tbody tr th {\n",
       "        vertical-align: top;\n",
       "    }\n",
       "\n",
       "    .dataframe thead th {\n",
       "        text-align: right;\n",
       "    }\n",
       "</style>\n",
       "<table border=\"1\" class=\"dataframe\">\n",
       "  <thead>\n",
       "    <tr style=\"text-align: right;\">\n",
       "      <th></th>\n",
       "      <th>Adj Close</th>\n",
       "      <th>return</th>\n",
       "      <th>Strategy</th>\n",
       "      <th>Strategy Equity</th>\n",
       "    </tr>\n",
       "    <tr>\n",
       "      <th>Date</th>\n",
       "      <th></th>\n",
       "      <th></th>\n",
       "      <th></th>\n",
       "      <th></th>\n",
       "    </tr>\n",
       "  </thead>\n",
       "  <tbody>\n",
       "    <tr>\n",
       "      <th>2001-01-01</th>\n",
       "      <td>12.005581</td>\n",
       "      <td>NaN</td>\n",
       "      <td>NaN</td>\n",
       "      <td>NaN</td>\n",
       "    </tr>\n",
       "    <tr>\n",
       "      <th>2001-01-02</th>\n",
       "      <td>11.823679</td>\n",
       "      <td>-0.015267</td>\n",
       "      <td>-0.015267</td>\n",
       "      <td>0.984733</td>\n",
       "    </tr>\n",
       "    <tr>\n",
       "      <th>2001-01-03</th>\n",
       "      <td>11.569013</td>\n",
       "      <td>-0.021774</td>\n",
       "      <td>-0.021774</td>\n",
       "      <td>0.962959</td>\n",
       "    </tr>\n",
       "    <tr>\n",
       "      <th>2001-01-04</th>\n",
       "      <td>12.005581</td>\n",
       "      <td>0.037041</td>\n",
       "      <td>0.037041</td>\n",
       "      <td>1.000000</td>\n",
       "    </tr>\n",
       "    <tr>\n",
       "      <th>2001-01-05</th>\n",
       "      <td>12.005581</td>\n",
       "      <td>0.000000</td>\n",
       "      <td>0.000000</td>\n",
       "      <td>1.000000</td>\n",
       "    </tr>\n",
       "    <tr>\n",
       "      <th>...</th>\n",
       "      <td>...</td>\n",
       "      <td>...</td>\n",
       "      <td>...</td>\n",
       "      <td>...</td>\n",
       "    </tr>\n",
       "    <tr>\n",
       "      <th>2021-12-23</th>\n",
       "      <td>247.294113</td>\n",
       "      <td>0.008972</td>\n",
       "      <td>0.008972</td>\n",
       "      <td>4.025207</td>\n",
       "    </tr>\n",
       "    <tr>\n",
       "      <th>2021-12-27</th>\n",
       "      <td>248.324921</td>\n",
       "      <td>0.004160</td>\n",
       "      <td>0.004160</td>\n",
       "      <td>4.029366</td>\n",
       "    </tr>\n",
       "    <tr>\n",
       "      <th>2021-12-28</th>\n",
       "      <td>250.337433</td>\n",
       "      <td>0.008072</td>\n",
       "      <td>0.008072</td>\n",
       "      <td>4.037438</td>\n",
       "    </tr>\n",
       "    <tr>\n",
       "      <th>2021-12-29</th>\n",
       "      <td>249.453903</td>\n",
       "      <td>-0.003536</td>\n",
       "      <td>-0.003536</td>\n",
       "      <td>4.033903</td>\n",
       "    </tr>\n",
       "    <tr>\n",
       "      <th>2021-12-30</th>\n",
       "      <td>248.570343</td>\n",
       "      <td>-0.003548</td>\n",
       "      <td>-0.003548</td>\n",
       "      <td>4.030354</td>\n",
       "    </tr>\n",
       "  </tbody>\n",
       "</table>\n",
       "<p>5365 rows × 4 columns</p>\n",
       "</div>"
      ],
      "text/plain": [
       "             Adj Close    return  Strategy  Strategy Equity\n",
       "Date                                                       \n",
       "2001-01-01   12.005581       NaN       NaN              NaN\n",
       "2001-01-02   11.823679 -0.015267 -0.015267         0.984733\n",
       "2001-01-03   11.569013 -0.021774 -0.021774         0.962959\n",
       "2001-01-04   12.005581  0.037041  0.037041         1.000000\n",
       "2001-01-05   12.005581  0.000000  0.000000         1.000000\n",
       "...                ...       ...       ...              ...\n",
       "2021-12-23  247.294113  0.008972  0.008972         4.025207\n",
       "2021-12-27  248.324921  0.004160  0.004160         4.029366\n",
       "2021-12-28  250.337433  0.008072  0.008072         4.037438\n",
       "2021-12-29  249.453903 -0.003536 -0.003536         4.033903\n",
       "2021-12-30  248.570343 -0.003548 -0.003548         4.030354\n",
       "\n",
       "[5365 rows x 4 columns]"
      ]
     },
     "execution_count": 17,
     "metadata": {},
     "output_type": "execute_result"
    }
   ],
   "source": [
    "# Generate the dataframe BAH from the prices dataframe\n",
    "BAH = prices[['Adj Close', 'return']]\n",
    "# Create columns containing daily market log returns and strategy daily log returns\n",
    "BAH['Strategy'] = np.log(BAH['Adj Close'] / BAH['Adj Close'].shift(1))\n",
    "# Set strategy starting equity to 1 (i.e. 100%) and generate equity curve\n",
    "BAH['Strategy Equity'] = BAH['Strategy'].cumsum() + 1\n",
    "\n",
    "BAH"
   ]
  },
  {
   "cell_type": "markdown",
   "metadata": {
    "id": "c1_4DEIrYKtW"
   },
   "source": [
    "# Vergleich der Strategien"
   ]
  },
  {
   "cell_type": "markdown",
   "metadata": {
    "id": "zK0m_5MrYKtX"
   },
   "source": [
    "Sehen Sie sich die drei Equity Curves in einer Grafik an."
   ]
  },
  {
   "cell_type": "code",
   "execution_count": 18,
   "metadata": {
    "colab": {
     "base_uri": "https://localhost:8080/",
     "height": 459
    },
    "executionInfo": {
     "elapsed": 32,
     "status": "ok",
     "timestamp": 1671819058676,
     "user": {
      "displayName": "Kc Migo",
      "userId": "14954445946106221058"
     },
     "user_tz": -60
    },
    "id": "JVUDtbSHYKtX",
    "outputId": "62fcba78-c60f-4b35-a3ad-8e513df1002c"
   },
   "outputs": [
    {
     "data": {
      "text/plain": [
       "<matplotlib.legend.Legend at 0x1f86930d2e0>"
      ]
     },
     "execution_count": 18,
     "metadata": {},
     "output_type": "execute_result"
    },
    {
     "data": {
      "image/png": "[encoded data removed]",
      "text/plain": [
       "<Figure size 1080x504 with 1 Axes>"
      ]
     },
     "metadata": {
      "needs_background": "light"
     },
     "output_type": "display_data"
    }
   ],
   "source": [
    "# Equity Curves\n",
    "plt.figure(figsize=(15,7))\n",
    "plt.plot(MR['Strategy Equity'],label = 'Mean Reversion')\n",
    "plt.plot(MAC['Strategy Equity'],label = 'Moving Average Crossover')\n",
    "plt.plot(BAH['Strategy Equity'],label = 'Buy and Hold')\n",
    "\n",
    "\n",
    "plt.ylabel('Strategy Equity')\n",
    "plt.xlabel('Year')\n",
    "plt.legend()"
   ]
  },
  {
   "cell_type": "markdown",
   "metadata": {
    "id": "NxluBcwQYKtX"
   },
   "source": [
    " **Frage 4:** Wie bewerten Sie die drei Strategien anhand der Equity Curve?"
   ]
  },
  {
   "cell_type": "code",
   "execution_count": 19,
   "metadata": {
    "colab": {
     "base_uri": "https://localhost:8080/",
     "height": 112
    },
    "executionInfo": {
     "elapsed": 27,
     "status": "ok",
     "timestamp": 1671819058678,
     "user": {
      "displayName": "Kc Migo",
      "userId": "14954445946106221058"
     },
     "user_tz": -60
    },
    "id": "59mo9kFrqYwV",
    "outputId": "579c8ff1-9d36-496e-c948-f6236d5711c1"
   },
   "outputs": [
    {
     "data": {
      "text/html": [
       "<div>\n",
       "<style scoped>\n",
       "    .dataframe tbody tr th:only-of-type {\n",
       "        vertical-align: middle;\n",
       "    }\n",
       "\n",
       "    .dataframe tbody tr th {\n",
       "        vertical-align: top;\n",
       "    }\n",
       "\n",
       "    .dataframe thead th {\n",
       "        text-align: right;\n",
       "    }\n",
       "</style>\n",
       "<table border=\"1\" class=\"dataframe\">\n",
       "  <thead>\n",
       "    <tr style=\"text-align: right;\">\n",
       "      <th></th>\n",
       "      <th>Adj Close</th>\n",
       "      <th>return</th>\n",
       "      <th>mu_252d</th>\n",
       "      <th>std</th>\n",
       "      <th>zscores</th>\n",
       "      <th>Stance</th>\n",
       "      <th>Market Returns</th>\n",
       "      <th>Strategy</th>\n",
       "      <th>Strategy Equity</th>\n",
       "    </tr>\n",
       "    <tr>\n",
       "      <th>Date</th>\n",
       "      <th></th>\n",
       "      <th></th>\n",
       "      <th></th>\n",
       "      <th></th>\n",
       "      <th></th>\n",
       "      <th></th>\n",
       "      <th></th>\n",
       "      <th></th>\n",
       "      <th></th>\n",
       "    </tr>\n",
       "  </thead>\n",
       "  <tbody>\n",
       "    <tr>\n",
       "      <th>2021-12-30</th>\n",
       "      <td>248.570343</td>\n",
       "      <td>-0.003548</td>\n",
       "      <td>279.109747</td>\n",
       "      <td>18.796048</td>\n",
       "      <td>-1.624778</td>\n",
       "      <td>1.0</td>\n",
       "      <td>-0.003548</td>\n",
       "      <td>-0.003548</td>\n",
       "      <td>0.537399</td>\n",
       "    </tr>\n",
       "  </tbody>\n",
       "</table>\n",
       "</div>"
      ],
      "text/plain": [
       "             Adj Close    return     mu_252d        std   zscores  Stance  \\\n",
       "Date                                                                        \n",
       "2021-12-30  248.570343 -0.003548  279.109747  18.796048 -1.624778     1.0   \n",
       "\n",
       "            Market Returns  Strategy  Strategy Equity  \n",
       "Date                                                   \n",
       "2021-12-30       -0.003548 -0.003548         0.537399  "
      ]
     },
     "execution_count": 19,
     "metadata": {},
     "output_type": "execute_result"
    }
   ],
   "source": [
    "MR.tail(1)\n",
    "#MAC.tail(1)\n",
    "#BAH.tail(1)"
   ]
  },
  {
   "cell_type": "markdown",
   "metadata": {
    "id": "aUEmKxqvYKtY"
   },
   "source": [
    "Anhand der Grafik zur Equity Curve ist deutlich zu erkennen, dass die Strategie \"Buy and Hold\" am besten abschneidet. Der Endwert liegt bei 4,03. Der Wert von \"Moving Average Crossover\" beträgt 2,07 und der Wert von \"Mean Reversion\" Strategy liegt bei 0,54. \n",
    "\n",
    " Bei BAH wird die Adidas Aktie erworben und bis zum Ende gehalten, ohne auf die Kursschwankungen aktiv zu reagieren. Dies zeigt sich für unseren Zeitraum als die beste Strategie Rendite zu erwirtschaften.\n",
    "\n",
    " Die MAC-Strategie beginnt erst 1260 Tagen. Somit hat diese Strategie viel weniger Zeit Rendite zu erwirtschaften als die beiden anderen. 2006 bis 2012 ist ein starker Seitwärtstrend zu erkennen, der auf eine geringe Volatilität zurückzuführen ist. Denn es ist zu berücksichtigen, dass bei der Berechnung eine sehr große Periodenlänge zwischen dem langfristigen Trend von 1260 Tagen und dem kurzfristigen Trend von 126 Tagen gewählt wurde. Je größer diese Periodenlänge gewählt wird, desto langsamer wird auf eine Veränderung des Trends reagiert. Die Adidasaktie verfolgt einen langfristigen positiven Trend, wobei wir erst spät auf diesen reagieren. Wie wir auch in der Vorlesung gelernt haben, beeinflusst die Wahl der Fensterlängen zur Berechnung der gleitenden Durchschnitte das Handelssignal stark, welches wir von unserer Cross-Over Strategie erhalten. \n",
    "\n",
    "Die MR-Strategie erweist sich als nicht besonders effektiv für hohe Renditen.\n",
    "Die Gefahr von Mean-Reversion-Strategien bei einzelnen Aktien besteht darin, dass wir bei unserer Adidas Aktie einen anhaltenden langfristigen positiven Trend haben, welcher sich auf den Kurs der Aktie auswirkt und wir somit immer wieder die Aktie überbewerten und darauf spekulieren, dass wir uns dem langfristigen Mittelwert wieder annähern bzw. der Kurs nachgibt. Für unseren Z-Score haben wir auch die Standardabweichung auf Jahresebene verwendet. Dies wird dadurch bestätigt, dass wir bei der Auswertung unserer Handelssignale über 3200 Short-Selling Signale erhalten haben. Im Vergleich dazu haben wir bei Moving Average Crossover kein einziges. Die Wette auf fallende Kurse geht somit nicht besonders gut auf, weshalb wir am Ende lediglich einen Strategy Equity Wert von 0,54 aufweisen\n",
    "\n",
    "-> die klassische Buy and Hold Strategie wäre bei der Einzelaktie Adidas für unseren benannten Zeitraum und die Fensterlängen die beste Variante gewesen. "
   ]
  },
  {
   "cell_type": "markdown",
   "metadata": {
    "id": "8VOIpkbnYKtY"
   },
   "source": [
    "**Frage 5:** Unter Berücksichtigung von Transaktionskosten, würde sich Ihre Meinung ändern?"
   ]
  },
  {
   "cell_type": "markdown",
   "metadata": {
    "id": "G3i51bkFYKtY"
   },
   "source": [
    "Die Meinung würde sich nicht ändern. Bei Buy and Hold fallen lediglich beim einmaligen Kauf und beim einmaligen Verkauf Transaktionskosten an. Hierbei kann auch außer Acht gelassen werden, in welcher Höhe sich diese befinden, wenn man dies mit den Anzahlen der Trades der beiden anderen Strategien vergleicht.\n",
    "\n",
    "Denn für unsere MR-Strategie erhielten wir insgesamt:\n",
    "\n",
    "(-1.0 ==  3205)\n",
    "\n",
    " (0.0  ==  1414)\n",
    "\n",
    " (1.0   ==  746)\n",
    "\n",
    " 3951 Handelssignale.\n",
    "\n",
    " Diese sind alle mit Transaktionskosten für den Kauf und den Verkauf der Aktien verbunden.\n",
    "\n",
    " Bei MAC sieht es ähnlich aus:\n",
    "\n",
    " (0.0  ==  3075)\n",
    "\n",
    "(1.0   == 2290)\n",
    "\n",
    "Hier erhielten wir 2290 Handelssignale für Longpositionen. Shortpositionen konnten hierfür keine ermittelt werden.\n"
   ]
  }
 ],
 "metadata": {
  "colab": {
   "provenance": []
  },
  "kernelspec": {
   "display_name": "Python 3 (ipykernel)",
   "language": "python",
   "name": "python3"
  },
  "language_info": {
   "codemirror_mode": {
    "name": "ipython",
    "version": 3
   },
   "file_extension": ".py",
   "mimetype": "text/x-python",
   "name": "python",
   "nbconvert_exporter": "python",
   "pygments_lexer": "ipython3",
   "version": "3.9.7"
  },
  "toc": {
   "base_numbering": 1,
   "nav_menu": {},
   "number_sections": true,
   "sideBar": true,
   "skip_h1_title": false,
   "title_cell": "Inhaltsverzeichnis",
   "title_sidebar": "Inhalt",
   "toc_cell": true,
   "toc_position": {},
   "toc_section_display": true,
   "toc_window_display": false
  },
  "varInspector": {
   "cols": {
    "lenName": 16,
    "lenType": 16,
    "lenVar": 40
   },
   "kernels_config": {
    "python": {
     "delete_cmd_postfix": "",
     "delete_cmd_prefix": "del ",
     "library": "var_list.py",
     "varRefreshCmd": "print(var_dic_list())"
    },
    "r": {
     "delete_cmd_postfix": ") ",
     "delete_cmd_prefix": "rm(",
     "library": "var_list.r",
     "varRefreshCmd": "cat(var_dic_list()) "
    }
   },
   "types_to_exclude": [
    "module",
    "function",
    "builtin_function_or_method",
    "instance",
    "_Feature"
   ],
   "window_display": false
  }
 },
 "nbformat": 4,
 "nbformat_minor": 1
}
