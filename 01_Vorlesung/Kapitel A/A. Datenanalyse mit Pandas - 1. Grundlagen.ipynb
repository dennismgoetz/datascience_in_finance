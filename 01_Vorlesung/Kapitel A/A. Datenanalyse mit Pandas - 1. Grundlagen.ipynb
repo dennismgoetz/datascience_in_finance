{
 "cells": [
  {
   "cell_type": "markdown",
   "metadata": {
    "toc": true
   },
   "source": [
    "<h1>Inhaltsverzeichnis<span class=\"tocSkip\"></span></h1>\n",
    "<div class=\"toc\"><ul class=\"toc-item\"><li><span><a href=\"#A.-Datenanalyse-mit-Pandas---1.-Grundlagen\" data-toc-modified-id=\"A.-Datenanalyse-mit-Pandas---1.-Grundlagen-1\">A. Datenanalyse mit Pandas - 1. Grundlagen</a></span><ul class=\"toc-item\"><li><span><a href=\"#Einlesen-von-csv-Dateien-als-Pandas-Dataframe\" data-toc-modified-id=\"Einlesen-von-csv-Dateien-als-Pandas-Dataframe-1.1\">Einlesen von csv-Dateien als Pandas <code>Dataframe</code></a></span></li><li><span><a href=\"#Dataframes-verstehen-am-Beispiel-des-LendingClub-Datensatzes\" data-toc-modified-id=\"Dataframes-verstehen-am-Beispiel-des-LendingClub-Datensatzes-1.2\"><code>Dataframes</code> verstehen am Beispiel des <code>LendingClub</code> Datensatzes</a></span><ul class=\"toc-item\"><li><span><a href=\"#Auswahl-einiger-wichtiger-Spalten\" data-toc-modified-id=\"Auswahl-einiger-wichtiger-Spalten-1.2.1\">Auswahl einiger wichtiger Spalten</a></span></li><li><span><a href=\"#Überblick-über-die-Variablen-im-Datensatz\" data-toc-modified-id=\"Überblick-über-die-Variablen-im-Datensatz-1.2.2\">Überblick über die Variablen im Datensatz</a></span></li><li><span><a href=\"#Zugreifen-auf-die-Werte-einer-Spalte-als-Serie\" data-toc-modified-id=\"Zugreifen-auf-die-Werte-einer-Spalte-als-Serie-1.2.3\">Zugreifen auf die Werte einer Spalte als <code>Serie</code></a></span></li><li><span><a href=\"#Zugriff-auf-Werte-durch-numerische-Indizierung\" data-toc-modified-id=\"Zugriff-auf-Werte-durch-numerische-Indizierung-1.2.4\">Zugriff auf Werte durch numerische Indizierung</a></span></li><li><span><a href=\"#Eindeutige-Werte-und-Aggregationen-für-kategoriale-Variablen\" data-toc-modified-id=\"Eindeutige-Werte-und-Aggregationen-für-kategoriale-Variablen-1.2.5\">Eindeutige Werte und Aggregationen für kategoriale Variablen</a></span></li><li><span><a href=\"#Filtern-von-Zeilen-anhand-von-Bedingungen\" data-toc-modified-id=\"Filtern-von-Zeilen-anhand-von-Bedingungen-1.2.6\">Filtern von Zeilen anhand von Bedingungen</a></span></li></ul></li><li><span><a href=\"#Fehlende-Werte-(Missing-Values)\" data-toc-modified-id=\"Fehlende-Werte-(Missing-Values)-1.3\">Fehlende Werte (Missing Values)</a></span><ul class=\"toc-item\"><li><span><a href=\"#Prüfen-auf-fehlende-Werte\" data-toc-modified-id=\"Prüfen-auf-fehlende-Werte-1.3.1\">Prüfen auf fehlende Werte</a></span></li><li><span><a href=\"#Entfernen-von-hardship_loan_status-aus-dem-Dataframe\" data-toc-modified-id=\"Entfernen-von-hardship_loan_status-aus-dem-Dataframe-1.3.2\">Entfernen von hardship_loan_status aus dem Dataframe</a></span></li><li><span><a href=\"#Entfernen-Sie-alle-Zeilen-mit-fehlenden-Werten\" data-toc-modified-id=\"Entfernen-Sie-alle-Zeilen-mit-fehlenden-Werten-1.3.3\">Entfernen Sie alle Zeilen mit fehlenden Werten</a></span></li></ul></li><li><span><a href=\"#Duplikate\" data-toc-modified-id=\"Duplikate-1.4\">Duplikate</a></span></li><li><span><a href=\"#Transformieren-und-Bereinigen-einzelner-Spalten\" data-toc-modified-id=\"Transformieren-und-Bereinigen-einzelner-Spalten-1.5\">Transformieren und Bereinigen einzelner Spalten</a></span><ul class=\"toc-item\"><li><span><a href=\"#Erstellen-einer-neuen-binären-numerischen-Spalte-für-die-Vorhersage\" data-toc-modified-id=\"Erstellen-einer-neuen-binären-numerischen-Spalte-für-die-Vorhersage-1.5.1\">Erstellen einer neuen binären numerischen Spalte für die Vorhersage</a></span></li><li><span><a href=\"#Erstellen-einer-numerischen-Variable-aus-emp_length\" data-toc-modified-id=\"Erstellen-einer-numerischen-Variable-aus-emp_length-1.5.2\">Erstellen einer numerischen Variable aus <code>emp_length</code></a></span></li><li><span><a href=\"#Übung:-Erstellen-Sie-eine-numerische-Variable-aus-grade\" data-toc-modified-id=\"Übung:-Erstellen-Sie-eine-numerische-Variable-aus-grade-1.5.3\">Übung: Erstellen Sie eine numerische Variable aus <code>grade</code></a></span></li><li><span><a href=\"#Erstellen-einer-numerischen-Variable-aus-term\" data-toc-modified-id=\"Erstellen-einer-numerischen-Variable-aus-term-1.5.4\">Erstellen einer numerischen Variable aus <code>term</code></a></span></li><li><span><a href=\"#Erstellen-einer-numerischen-Variable-aus-int_rate\" data-toc-modified-id=\"Erstellen-einer-numerischen-Variable-aus-int_rate-1.5.5\">Erstellen einer numerischen Variable aus <code>int_rate</code></a></span></li></ul></li></ul></li></ul></div>"
   ]
  },
  {
   "cell_type": "markdown",
   "metadata": {},
   "source": [
    "# A. Datenanalyse mit Pandas - 1. Grundlagen"
   ]
  },
  {
   "cell_type": "markdown",
   "metadata": {
    "collapsed": true
   },
   "source": [
    "## Einlesen von csv-Dateien als Pandas `Dataframe`"
   ]
  },
  {
   "cell_type": "markdown",
   "metadata": {},
   "source": [
    "Immer der erste Schritt: Import erforderlicher Bibliotheken/Module!"
   ]
  },
  {
   "cell_type": "code",
   "execution_count": 1,
   "metadata": {},
   "outputs": [],
   "source": [
    "# Import packages ('matplotlib inline' für Grafiken)\n",
    "import matplotlib.pyplot as plt\n",
    "%matplotlib inline\n",
    "import numpy as np\n",
    "import pandas as pd\n",
    "from datetime import datetime"
   ]
  },
  {
   "cell_type": "code",
   "execution_count": 2,
   "metadata": {},
   "outputs": [
    {
     "name": "stdout",
     "output_type": "stream",
     "text": [
      "[WinError 3] Das System kann den angegebenen Pfad nicht finden: 'C:\\\\Users\\\\Dennis\\\\OneDrive\\\\Dokumente\\\\03_Master BWL BAOR - KU Eichstaett-Ingolstadt\\\\05_Kurse\\\\06_Wahlfaecher\\\\03_Data Science in Finance mit Python\\\\01_Vorlesung\\\\Kapitel A'\n",
      "C:\\Users\\Dennis\\OneDrive\\Dokumente\\03_Master BWL BAOR - KUEI\\05_Kurse\\06_Wahlfaecher\\03_Data Science in Finance mit Python\\01_Vorlesung\\Kapitel A\n"
     ]
    }
   ],
   "source": [
    "#change directory\n",
    "%cd \"C:\\Users\\Dennis\\OneDrive\\Dokumente\\03_Master BWL BAOR - KU Eichstaett-Ingolstadt\\05_Kurse\\06_Wahlfaecher\\03_Data Science in Finance mit Python\\01_Vorlesung\\Kapitel A\""
   ]
  },
  {
   "cell_type": "code",
   "execution_count": 3,
   "metadata": {},
   "outputs": [],
   "source": [
    "# Read in the dataset\n",
    "filename = 'LendingClub.csv' # muss sich im selben Ordner wie das Notebook befinden\n",
    "raw_data_all = pd.read_csv(filename, low_memory=False) # pd für pandas"
   ]
  },
  {
   "cell_type": "code",
   "execution_count": 4,
   "metadata": {
    "scrolled": true
   },
   "outputs": [
    {
     "data": {
      "text/html": [
       "<div>\n",
       "<style scoped>\n",
       "    .dataframe tbody tr th:only-of-type {\n",
       "        vertical-align: middle;\n",
       "    }\n",
       "\n",
       "    .dataframe tbody tr th {\n",
       "        vertical-align: top;\n",
       "    }\n",
       "\n",
       "    .dataframe thead th {\n",
       "        text-align: right;\n",
       "    }\n",
       "</style>\n",
       "<table border=\"1\" class=\"dataframe\">\n",
       "  <thead>\n",
       "    <tr style=\"text-align: right;\">\n",
       "      <th></th>\n",
       "      <th>id</th>\n",
       "      <th>member_id</th>\n",
       "      <th>loan_amnt</th>\n",
       "      <th>funded_amnt</th>\n",
       "      <th>funded_amnt_inv</th>\n",
       "      <th>term</th>\n",
       "      <th>int_rate</th>\n",
       "      <th>installment</th>\n",
       "      <th>grade</th>\n",
       "      <th>sub_grade</th>\n",
       "      <th>...</th>\n",
       "      <th>hardship_payoff_balance_amount</th>\n",
       "      <th>hardship_last_payment_amount</th>\n",
       "      <th>disbursement_method</th>\n",
       "      <th>debt_settlement_flag</th>\n",
       "      <th>debt_settlement_flag_date</th>\n",
       "      <th>settlement_status</th>\n",
       "      <th>settlement_date</th>\n",
       "      <th>settlement_amount</th>\n",
       "      <th>settlement_percentage</th>\n",
       "      <th>settlement_term</th>\n",
       "    </tr>\n",
       "  </thead>\n",
       "  <tbody>\n",
       "    <tr>\n",
       "      <th>0</th>\n",
       "      <td>NaN</td>\n",
       "      <td>NaN</td>\n",
       "      <td>5000.0</td>\n",
       "      <td>5000.0</td>\n",
       "      <td>4975.0</td>\n",
       "      <td>36 months</td>\n",
       "      <td>10.65%</td>\n",
       "      <td>162.87</td>\n",
       "      <td>B</td>\n",
       "      <td>B2</td>\n",
       "      <td>...</td>\n",
       "      <td>NaN</td>\n",
       "      <td>NaN</td>\n",
       "      <td>Cash</td>\n",
       "      <td>N</td>\n",
       "      <td>NaN</td>\n",
       "      <td>NaN</td>\n",
       "      <td>NaN</td>\n",
       "      <td>NaN</td>\n",
       "      <td>NaN</td>\n",
       "      <td>NaN</td>\n",
       "    </tr>\n",
       "    <tr>\n",
       "      <th>1</th>\n",
       "      <td>NaN</td>\n",
       "      <td>NaN</td>\n",
       "      <td>2500.0</td>\n",
       "      <td>2500.0</td>\n",
       "      <td>2500.0</td>\n",
       "      <td>60 months</td>\n",
       "      <td>15.27%</td>\n",
       "      <td>59.83</td>\n",
       "      <td>C</td>\n",
       "      <td>C4</td>\n",
       "      <td>...</td>\n",
       "      <td>NaN</td>\n",
       "      <td>NaN</td>\n",
       "      <td>Cash</td>\n",
       "      <td>N</td>\n",
       "      <td>NaN</td>\n",
       "      <td>NaN</td>\n",
       "      <td>NaN</td>\n",
       "      <td>NaN</td>\n",
       "      <td>NaN</td>\n",
       "      <td>NaN</td>\n",
       "    </tr>\n",
       "    <tr>\n",
       "      <th>2</th>\n",
       "      <td>NaN</td>\n",
       "      <td>NaN</td>\n",
       "      <td>2400.0</td>\n",
       "      <td>2400.0</td>\n",
       "      <td>2400.0</td>\n",
       "      <td>36 months</td>\n",
       "      <td>15.96%</td>\n",
       "      <td>84.33</td>\n",
       "      <td>C</td>\n",
       "      <td>C5</td>\n",
       "      <td>...</td>\n",
       "      <td>NaN</td>\n",
       "      <td>NaN</td>\n",
       "      <td>Cash</td>\n",
       "      <td>N</td>\n",
       "      <td>NaN</td>\n",
       "      <td>NaN</td>\n",
       "      <td>NaN</td>\n",
       "      <td>NaN</td>\n",
       "      <td>NaN</td>\n",
       "      <td>NaN</td>\n",
       "    </tr>\n",
       "    <tr>\n",
       "      <th>3</th>\n",
       "      <td>NaN</td>\n",
       "      <td>NaN</td>\n",
       "      <td>10000.0</td>\n",
       "      <td>10000.0</td>\n",
       "      <td>10000.0</td>\n",
       "      <td>36 months</td>\n",
       "      <td>13.49%</td>\n",
       "      <td>339.31</td>\n",
       "      <td>C</td>\n",
       "      <td>C1</td>\n",
       "      <td>...</td>\n",
       "      <td>NaN</td>\n",
       "      <td>NaN</td>\n",
       "      <td>Cash</td>\n",
       "      <td>N</td>\n",
       "      <td>NaN</td>\n",
       "      <td>NaN</td>\n",
       "      <td>NaN</td>\n",
       "      <td>NaN</td>\n",
       "      <td>NaN</td>\n",
       "      <td>NaN</td>\n",
       "    </tr>\n",
       "    <tr>\n",
       "      <th>4</th>\n",
       "      <td>NaN</td>\n",
       "      <td>NaN</td>\n",
       "      <td>3000.0</td>\n",
       "      <td>3000.0</td>\n",
       "      <td>3000.0</td>\n",
       "      <td>60 months</td>\n",
       "      <td>12.69%</td>\n",
       "      <td>67.79</td>\n",
       "      <td>B</td>\n",
       "      <td>B5</td>\n",
       "      <td>...</td>\n",
       "      <td>NaN</td>\n",
       "      <td>NaN</td>\n",
       "      <td>Cash</td>\n",
       "      <td>N</td>\n",
       "      <td>NaN</td>\n",
       "      <td>NaN</td>\n",
       "      <td>NaN</td>\n",
       "      <td>NaN</td>\n",
       "      <td>NaN</td>\n",
       "      <td>NaN</td>\n",
       "    </tr>\n",
       "    <tr>\n",
       "      <th>5</th>\n",
       "      <td>NaN</td>\n",
       "      <td>NaN</td>\n",
       "      <td>5000.0</td>\n",
       "      <td>5000.0</td>\n",
       "      <td>5000.0</td>\n",
       "      <td>36 months</td>\n",
       "      <td>7.90%</td>\n",
       "      <td>156.46</td>\n",
       "      <td>A</td>\n",
       "      <td>A4</td>\n",
       "      <td>...</td>\n",
       "      <td>NaN</td>\n",
       "      <td>NaN</td>\n",
       "      <td>Cash</td>\n",
       "      <td>N</td>\n",
       "      <td>NaN</td>\n",
       "      <td>NaN</td>\n",
       "      <td>NaN</td>\n",
       "      <td>NaN</td>\n",
       "      <td>NaN</td>\n",
       "      <td>NaN</td>\n",
       "    </tr>\n",
       "    <tr>\n",
       "      <th>6</th>\n",
       "      <td>NaN</td>\n",
       "      <td>NaN</td>\n",
       "      <td>7000.0</td>\n",
       "      <td>7000.0</td>\n",
       "      <td>7000.0</td>\n",
       "      <td>60 months</td>\n",
       "      <td>15.96%</td>\n",
       "      <td>170.08</td>\n",
       "      <td>C</td>\n",
       "      <td>C5</td>\n",
       "      <td>...</td>\n",
       "      <td>NaN</td>\n",
       "      <td>NaN</td>\n",
       "      <td>Cash</td>\n",
       "      <td>N</td>\n",
       "      <td>NaN</td>\n",
       "      <td>NaN</td>\n",
       "      <td>NaN</td>\n",
       "      <td>NaN</td>\n",
       "      <td>NaN</td>\n",
       "      <td>NaN</td>\n",
       "    </tr>\n",
       "    <tr>\n",
       "      <th>7</th>\n",
       "      <td>NaN</td>\n",
       "      <td>NaN</td>\n",
       "      <td>3000.0</td>\n",
       "      <td>3000.0</td>\n",
       "      <td>3000.0</td>\n",
       "      <td>36 months</td>\n",
       "      <td>18.64%</td>\n",
       "      <td>109.43</td>\n",
       "      <td>E</td>\n",
       "      <td>E1</td>\n",
       "      <td>...</td>\n",
       "      <td>NaN</td>\n",
       "      <td>NaN</td>\n",
       "      <td>Cash</td>\n",
       "      <td>N</td>\n",
       "      <td>NaN</td>\n",
       "      <td>NaN</td>\n",
       "      <td>NaN</td>\n",
       "      <td>NaN</td>\n",
       "      <td>NaN</td>\n",
       "      <td>NaN</td>\n",
       "    </tr>\n",
       "    <tr>\n",
       "      <th>8</th>\n",
       "      <td>NaN</td>\n",
       "      <td>NaN</td>\n",
       "      <td>5600.0</td>\n",
       "      <td>5600.0</td>\n",
       "      <td>5600.0</td>\n",
       "      <td>60 months</td>\n",
       "      <td>21.28%</td>\n",
       "      <td>152.39</td>\n",
       "      <td>F</td>\n",
       "      <td>F2</td>\n",
       "      <td>...</td>\n",
       "      <td>NaN</td>\n",
       "      <td>NaN</td>\n",
       "      <td>Cash</td>\n",
       "      <td>N</td>\n",
       "      <td>NaN</td>\n",
       "      <td>NaN</td>\n",
       "      <td>NaN</td>\n",
       "      <td>NaN</td>\n",
       "      <td>NaN</td>\n",
       "      <td>NaN</td>\n",
       "    </tr>\n",
       "    <tr>\n",
       "      <th>9</th>\n",
       "      <td>NaN</td>\n",
       "      <td>NaN</td>\n",
       "      <td>5375.0</td>\n",
       "      <td>5375.0</td>\n",
       "      <td>5350.0</td>\n",
       "      <td>60 months</td>\n",
       "      <td>12.69%</td>\n",
       "      <td>121.45</td>\n",
       "      <td>B</td>\n",
       "      <td>B5</td>\n",
       "      <td>...</td>\n",
       "      <td>NaN</td>\n",
       "      <td>NaN</td>\n",
       "      <td>Cash</td>\n",
       "      <td>N</td>\n",
       "      <td>NaN</td>\n",
       "      <td>NaN</td>\n",
       "      <td>NaN</td>\n",
       "      <td>NaN</td>\n",
       "      <td>NaN</td>\n",
       "      <td>NaN</td>\n",
       "    </tr>\n",
       "  </tbody>\n",
       "</table>\n",
       "<p>10 rows × 145 columns</p>\n",
       "</div>"
      ],
      "text/plain": [
       "    id  member_id  loan_amnt  funded_amnt  funded_amnt_inv        term  \\\n",
       "0  NaN        NaN     5000.0       5000.0           4975.0   36 months   \n",
       "1  NaN        NaN     2500.0       2500.0           2500.0   60 months   \n",
       "2  NaN        NaN     2400.0       2400.0           2400.0   36 months   \n",
       "3  NaN        NaN    10000.0      10000.0          10000.0   36 months   \n",
       "4  NaN        NaN     3000.0       3000.0           3000.0   60 months   \n",
       "5  NaN        NaN     5000.0       5000.0           5000.0   36 months   \n",
       "6  NaN        NaN     7000.0       7000.0           7000.0   60 months   \n",
       "7  NaN        NaN     3000.0       3000.0           3000.0   36 months   \n",
       "8  NaN        NaN     5600.0       5600.0           5600.0   60 months   \n",
       "9  NaN        NaN     5375.0       5375.0           5350.0   60 months   \n",
       "\n",
       "  int_rate  installment grade sub_grade  ... hardship_payoff_balance_amount  \\\n",
       "0   10.65%       162.87     B        B2  ...                            NaN   \n",
       "1   15.27%        59.83     C        C4  ...                            NaN   \n",
       "2   15.96%        84.33     C        C5  ...                            NaN   \n",
       "3   13.49%       339.31     C        C1  ...                            NaN   \n",
       "4   12.69%        67.79     B        B5  ...                            NaN   \n",
       "5    7.90%       156.46     A        A4  ...                            NaN   \n",
       "6   15.96%       170.08     C        C5  ...                            NaN   \n",
       "7   18.64%       109.43     E        E1  ...                            NaN   \n",
       "8   21.28%       152.39     F        F2  ...                            NaN   \n",
       "9   12.69%       121.45     B        B5  ...                            NaN   \n",
       "\n",
       "  hardship_last_payment_amount disbursement_method  debt_settlement_flag  \\\n",
       "0                          NaN                Cash                     N   \n",
       "1                          NaN                Cash                     N   \n",
       "2                          NaN                Cash                     N   \n",
       "3                          NaN                Cash                     N   \n",
       "4                          NaN                Cash                     N   \n",
       "5                          NaN                Cash                     N   \n",
       "6                          NaN                Cash                     N   \n",
       "7                          NaN                Cash                     N   \n",
       "8                          NaN                Cash                     N   \n",
       "9                          NaN                Cash                     N   \n",
       "\n",
       "  debt_settlement_flag_date settlement_status settlement_date  \\\n",
       "0                       NaN               NaN             NaN   \n",
       "1                       NaN               NaN             NaN   \n",
       "2                       NaN               NaN             NaN   \n",
       "3                       NaN               NaN             NaN   \n",
       "4                       NaN               NaN             NaN   \n",
       "5                       NaN               NaN             NaN   \n",
       "6                       NaN               NaN             NaN   \n",
       "7                       NaN               NaN             NaN   \n",
       "8                       NaN               NaN             NaN   \n",
       "9                       NaN               NaN             NaN   \n",
       "\n",
       "  settlement_amount  settlement_percentage settlement_term  \n",
       "0               NaN                    NaN             NaN  \n",
       "1               NaN                    NaN             NaN  \n",
       "2               NaN                    NaN             NaN  \n",
       "3               NaN                    NaN             NaN  \n",
       "4               NaN                    NaN             NaN  \n",
       "5               NaN                    NaN             NaN  \n",
       "6               NaN                    NaN             NaN  \n",
       "7               NaN                    NaN             NaN  \n",
       "8               NaN                    NaN             NaN  \n",
       "9               NaN                    NaN             NaN  \n",
       "\n",
       "[10 rows x 145 columns]"
      ]
     },
     "execution_count": 4,
     "metadata": {},
     "output_type": "execute_result"
    }
   ],
   "source": [
    "# Check the data\n",
    "raw_data_all\n",
    "raw_data_all.head(10) #standardmäßig 5 (default Wert)\n",
    "# Not all columns showing.. too many of them... check separately for field names"
   ]
  },
  {
   "cell_type": "markdown",
   "metadata": {},
   "source": [
    "Schauen wir uns die Liste aller Spalten in dem Dataframe an."
   ]
  },
  {
   "cell_type": "code",
   "execution_count": 5,
   "metadata": {},
   "outputs": [
    {
     "data": {
      "text/plain": [
       "['id',\n",
       " 'member_id',\n",
       " 'loan_amnt',\n",
       " 'funded_amnt',\n",
       " 'funded_amnt_inv',\n",
       " 'term',\n",
       " 'int_rate',\n",
       " 'installment',\n",
       " 'grade',\n",
       " 'sub_grade',\n",
       " 'emp_title',\n",
       " 'emp_length',\n",
       " 'home_ownership',\n",
       " 'annual_inc',\n",
       " 'verification_status',\n",
       " 'issue_d',\n",
       " 'loan_status',\n",
       " 'pymnt_plan',\n",
       " 'url',\n",
       " 'desc',\n",
       " 'purpose',\n",
       " 'title',\n",
       " 'zip_code',\n",
       " 'addr_state',\n",
       " 'dti',\n",
       " 'delinq_2yrs',\n",
       " 'earliest_cr_line',\n",
       " 'inq_last_6mths',\n",
       " 'mths_since_last_delinq',\n",
       " 'mths_since_last_record',\n",
       " 'open_acc',\n",
       " 'pub_rec',\n",
       " 'revol_bal',\n",
       " 'revol_util',\n",
       " 'total_acc',\n",
       " 'initial_list_status',\n",
       " 'out_prncp',\n",
       " 'out_prncp_inv',\n",
       " 'total_pymnt',\n",
       " 'total_pymnt_inv',\n",
       " 'total_rec_prncp',\n",
       " 'total_rec_int',\n",
       " 'total_rec_late_fee',\n",
       " 'recoveries',\n",
       " 'collection_recovery_fee',\n",
       " 'last_pymnt_d',\n",
       " 'last_pymnt_amnt',\n",
       " 'next_pymnt_d',\n",
       " 'last_credit_pull_d',\n",
       " 'collections_12_mths_ex_med',\n",
       " 'mths_since_last_major_derog',\n",
       " 'policy_code',\n",
       " 'application_type',\n",
       " 'annual_inc_joint',\n",
       " 'dti_joint',\n",
       " 'verification_status_joint',\n",
       " 'acc_now_delinq',\n",
       " 'tot_coll_amt',\n",
       " 'tot_cur_bal',\n",
       " 'open_acc_6m',\n",
       " 'open_act_il',\n",
       " 'open_il_12m',\n",
       " 'open_il_24m',\n",
       " 'mths_since_rcnt_il',\n",
       " 'total_bal_il',\n",
       " 'il_util',\n",
       " 'open_rv_12m',\n",
       " 'open_rv_24m',\n",
       " 'max_bal_bc',\n",
       " 'all_util',\n",
       " 'total_rev_hi_lim',\n",
       " 'inq_fi',\n",
       " 'total_cu_tl',\n",
       " 'inq_last_12m',\n",
       " 'acc_open_past_24mths',\n",
       " 'avg_cur_bal',\n",
       " 'bc_open_to_buy',\n",
       " 'bc_util',\n",
       " 'chargeoff_within_12_mths',\n",
       " 'delinq_amnt',\n",
       " 'mo_sin_old_il_acct',\n",
       " 'mo_sin_old_rev_tl_op',\n",
       " 'mo_sin_rcnt_rev_tl_op',\n",
       " 'mo_sin_rcnt_tl',\n",
       " 'mort_acc',\n",
       " 'mths_since_recent_bc',\n",
       " 'mths_since_recent_bc_dlq',\n",
       " 'mths_since_recent_inq',\n",
       " 'mths_since_recent_revol_delinq',\n",
       " 'num_accts_ever_120_pd',\n",
       " 'num_actv_bc_tl',\n",
       " 'num_actv_rev_tl',\n",
       " 'num_bc_sats',\n",
       " 'num_bc_tl',\n",
       " 'num_il_tl',\n",
       " 'num_op_rev_tl',\n",
       " 'num_rev_accts',\n",
       " 'num_rev_tl_bal_gt_0',\n",
       " 'num_sats',\n",
       " 'num_tl_120dpd_2m',\n",
       " 'num_tl_30dpd',\n",
       " 'num_tl_90g_dpd_24m',\n",
       " 'num_tl_op_past_12m',\n",
       " 'pct_tl_nvr_dlq',\n",
       " 'percent_bc_gt_75',\n",
       " 'pub_rec_bankruptcies',\n",
       " 'tax_liens',\n",
       " 'tot_hi_cred_lim',\n",
       " 'total_bal_ex_mort',\n",
       " 'total_bc_limit',\n",
       " 'total_il_high_credit_limit',\n",
       " 'revol_bal_joint',\n",
       " 'sec_app_earliest_cr_line',\n",
       " 'sec_app_inq_last_6mths',\n",
       " 'sec_app_mort_acc',\n",
       " 'sec_app_open_acc',\n",
       " 'sec_app_revol_util',\n",
       " 'sec_app_open_act_il',\n",
       " 'sec_app_num_rev_accts',\n",
       " 'sec_app_chargeoff_within_12_mths',\n",
       " 'sec_app_collections_12_mths_ex_med',\n",
       " 'sec_app_mths_since_last_major_derog',\n",
       " 'hardship_flag',\n",
       " 'hardship_type',\n",
       " 'hardship_reason',\n",
       " 'hardship_status',\n",
       " 'deferral_term',\n",
       " 'hardship_amount',\n",
       " 'hardship_start_date',\n",
       " 'hardship_end_date',\n",
       " 'payment_plan_start_date',\n",
       " 'hardship_length',\n",
       " 'hardship_dpd',\n",
       " 'hardship_loan_status',\n",
       " 'orig_projected_additional_accrued_interest',\n",
       " 'hardship_payoff_balance_amount',\n",
       " 'hardship_last_payment_amount',\n",
       " 'disbursement_method',\n",
       " 'debt_settlement_flag',\n",
       " 'debt_settlement_flag_date',\n",
       " 'settlement_status',\n",
       " 'settlement_date',\n",
       " 'settlement_amount',\n",
       " 'settlement_percentage',\n",
       " 'settlement_term']"
      ]
     },
     "execution_count": 5,
     "metadata": {},
     "output_type": "execute_result"
    }
   ],
   "source": [
    "spalten = raw_data_all.columns.tolist()\n",
    "spalten #Liste immer eckige Klammern"
   ]
  },
  {
   "cell_type": "markdown",
   "metadata": {},
   "source": [
    "## `Dataframes` verstehen am Beispiel des `LendingClub` Datensatzes\n",
    "Da wir im Folgenden häufig mit Pandas Dataframes arbeiten, ist ein grundlegendes Verständnis der zentralen Konzepte essentiell. "
   ]
  },
  {
   "cell_type": "markdown",
   "metadata": {},
   "source": [
    "### Auswahl einiger wichtiger Spalten\n",
    "Da unser Beispiel-Dataframe eine Vielzahl von Spalten enthält, wählen wir zunächst einige wichtige aus, die wir für die spätere Betrachtung behalten wollen.\n",
    "\n",
    "- Zunächst generieren wir eine Liste, die die Namen der Spalten enthält, die wir behalten wollen.\n",
    "- Die rechte Seite des folgenden Codes generiert ein neues Dataframe durch Selektion einer Liste von Spalten aus einem existierenden Dataframe."
   ]
  },
  {
   "cell_type": "code",
   "execution_count": 6,
   "metadata": {
    "code_folding": []
   },
   "outputs": [],
   "source": [
    "# List of columns to keep\n",
    "cols = ['loan_amnt', 'term', 'int_rate', 'funded_amnt', 'grade', 'annual_inc', 'dti', 'hardship_loan_status', 'delinq_2yrs', 'last_pymnt_amnt', 'emp_length','loan_status','home_ownership','tax_liens']\n",
    "# Dataframe with selected columns\n",
    "raw_data = raw_data_all[cols] # nur die selektierten Spalten werden übernommen"
   ]
  },
  {
   "cell_type": "code",
   "execution_count": 7,
   "metadata": {
    "scrolled": true
   },
   "outputs": [
    {
     "data": {
      "text/html": [
       "<div>\n",
       "<style scoped>\n",
       "    .dataframe tbody tr th:only-of-type {\n",
       "        vertical-align: middle;\n",
       "    }\n",
       "\n",
       "    .dataframe tbody tr th {\n",
       "        vertical-align: top;\n",
       "    }\n",
       "\n",
       "    .dataframe thead th {\n",
       "        text-align: right;\n",
       "    }\n",
       "</style>\n",
       "<table border=\"1\" class=\"dataframe\">\n",
       "  <thead>\n",
       "    <tr style=\"text-align: right;\">\n",
       "      <th></th>\n",
       "      <th>loan_amnt</th>\n",
       "      <th>term</th>\n",
       "      <th>int_rate</th>\n",
       "      <th>funded_amnt</th>\n",
       "      <th>grade</th>\n",
       "      <th>annual_inc</th>\n",
       "      <th>dti</th>\n",
       "      <th>hardship_loan_status</th>\n",
       "      <th>delinq_2yrs</th>\n",
       "      <th>last_pymnt_amnt</th>\n",
       "      <th>emp_length</th>\n",
       "      <th>loan_status</th>\n",
       "      <th>home_ownership</th>\n",
       "      <th>tax_liens</th>\n",
       "    </tr>\n",
       "  </thead>\n",
       "  <tbody>\n",
       "    <tr>\n",
       "      <th>0</th>\n",
       "      <td>5000.0</td>\n",
       "      <td>36 months</td>\n",
       "      <td>10.65%</td>\n",
       "      <td>5000.0</td>\n",
       "      <td>B</td>\n",
       "      <td>24000.0</td>\n",
       "      <td>27.65</td>\n",
       "      <td>NaN</td>\n",
       "      <td>0.0</td>\n",
       "      <td>171.62</td>\n",
       "      <td>10+ years</td>\n",
       "      <td>Fully Paid</td>\n",
       "      <td>RENT</td>\n",
       "      <td>0.0</td>\n",
       "    </tr>\n",
       "    <tr>\n",
       "      <th>1</th>\n",
       "      <td>2500.0</td>\n",
       "      <td>60 months</td>\n",
       "      <td>15.27%</td>\n",
       "      <td>2500.0</td>\n",
       "      <td>C</td>\n",
       "      <td>30000.0</td>\n",
       "      <td>1.00</td>\n",
       "      <td>NaN</td>\n",
       "      <td>0.0</td>\n",
       "      <td>119.66</td>\n",
       "      <td>&lt; 1 year</td>\n",
       "      <td>Charged Off</td>\n",
       "      <td>RENT</td>\n",
       "      <td>0.0</td>\n",
       "    </tr>\n",
       "    <tr>\n",
       "      <th>2</th>\n",
       "      <td>2400.0</td>\n",
       "      <td>36 months</td>\n",
       "      <td>15.96%</td>\n",
       "      <td>2400.0</td>\n",
       "      <td>C</td>\n",
       "      <td>12252.0</td>\n",
       "      <td>8.72</td>\n",
       "      <td>NaN</td>\n",
       "      <td>0.0</td>\n",
       "      <td>649.91</td>\n",
       "      <td>10+ years</td>\n",
       "      <td>Fully Paid</td>\n",
       "      <td>RENT</td>\n",
       "      <td>0.0</td>\n",
       "    </tr>\n",
       "    <tr>\n",
       "      <th>3</th>\n",
       "      <td>10000.0</td>\n",
       "      <td>36 months</td>\n",
       "      <td>13.49%</td>\n",
       "      <td>10000.0</td>\n",
       "      <td>C</td>\n",
       "      <td>49200.0</td>\n",
       "      <td>20.00</td>\n",
       "      <td>NaN</td>\n",
       "      <td>0.0</td>\n",
       "      <td>357.48</td>\n",
       "      <td>10+ years</td>\n",
       "      <td>Fully Paid</td>\n",
       "      <td>RENT</td>\n",
       "      <td>0.0</td>\n",
       "    </tr>\n",
       "    <tr>\n",
       "      <th>4</th>\n",
       "      <td>3000.0</td>\n",
       "      <td>60 months</td>\n",
       "      <td>12.69%</td>\n",
       "      <td>3000.0</td>\n",
       "      <td>B</td>\n",
       "      <td>80000.0</td>\n",
       "      <td>17.94</td>\n",
       "      <td>NaN</td>\n",
       "      <td>0.0</td>\n",
       "      <td>67.30</td>\n",
       "      <td>1 year</td>\n",
       "      <td>Fully Paid</td>\n",
       "      <td>RENT</td>\n",
       "      <td>0.0</td>\n",
       "    </tr>\n",
       "  </tbody>\n",
       "</table>\n",
       "</div>"
      ],
      "text/plain": [
       "   loan_amnt        term int_rate  funded_amnt grade  annual_inc    dti  \\\n",
       "0     5000.0   36 months   10.65%       5000.0     B     24000.0  27.65   \n",
       "1     2500.0   60 months   15.27%       2500.0     C     30000.0   1.00   \n",
       "2     2400.0   36 months   15.96%       2400.0     C     12252.0   8.72   \n",
       "3    10000.0   36 months   13.49%      10000.0     C     49200.0  20.00   \n",
       "4     3000.0   60 months   12.69%       3000.0     B     80000.0  17.94   \n",
       "\n",
       "   hardship_loan_status  delinq_2yrs  last_pymnt_amnt emp_length  loan_status  \\\n",
       "0                   NaN          0.0           171.62  10+ years   Fully Paid   \n",
       "1                   NaN          0.0           119.66   < 1 year  Charged Off   \n",
       "2                   NaN          0.0           649.91  10+ years   Fully Paid   \n",
       "3                   NaN          0.0           357.48  10+ years   Fully Paid   \n",
       "4                   NaN          0.0            67.30     1 year   Fully Paid   \n",
       "\n",
       "  home_ownership  tax_liens  \n",
       "0           RENT        0.0  \n",
       "1           RENT        0.0  \n",
       "2           RENT        0.0  \n",
       "3           RENT        0.0  \n",
       "4           RENT        0.0  "
      ]
     },
     "execution_count": 7,
     "metadata": {},
     "output_type": "execute_result"
    }
   ],
   "source": [
    "#Let's check the top rows\n",
    "raw_data.head()"
   ]
  },
  {
   "cell_type": "markdown",
   "metadata": {},
   "source": [
    "**Was ist der \"Typ\" des Objekts das wir gerade erstellt haben?**\n",
    "\n",
    "Lassen Sie uns einfach zwei Spalten auswählen und die `type` Funktion verwenden:"
   ]
  },
  {
   "cell_type": "code",
   "execution_count": 8,
   "metadata": {},
   "outputs": [
    {
     "data": {
      "text/plain": [
       "pandas.core.frame.DataFrame"
      ]
     },
     "execution_count": 8,
     "metadata": {},
     "output_type": "execute_result"
    }
   ],
   "source": [
    "type(raw_data[['loan_amnt', 'term']]) #['loan_amnt'] direkt als Liste eingefügt\n",
    "#typ ist ein Data frame (Matrix mit Spalten und Zeilen)"
   ]
  },
  {
   "cell_type": "code",
   "execution_count": 9,
   "metadata": {},
   "outputs": [
    {
     "data": {
      "text/html": [
       "<div>\n",
       "<style scoped>\n",
       "    .dataframe tbody tr th:only-of-type {\n",
       "        vertical-align: middle;\n",
       "    }\n",
       "\n",
       "    .dataframe tbody tr th {\n",
       "        vertical-align: top;\n",
       "    }\n",
       "\n",
       "    .dataframe thead th {\n",
       "        text-align: right;\n",
       "    }\n",
       "</style>\n",
       "<table border=\"1\" class=\"dataframe\">\n",
       "  <thead>\n",
       "    <tr style=\"text-align: right;\">\n",
       "      <th></th>\n",
       "      <th>loan_amnt</th>\n",
       "      <th>term</th>\n",
       "    </tr>\n",
       "  </thead>\n",
       "  <tbody>\n",
       "    <tr>\n",
       "      <th>0</th>\n",
       "      <td>5000.0</td>\n",
       "      <td>36 months</td>\n",
       "    </tr>\n",
       "    <tr>\n",
       "      <th>1</th>\n",
       "      <td>2500.0</td>\n",
       "      <td>60 months</td>\n",
       "    </tr>\n",
       "    <tr>\n",
       "      <th>2</th>\n",
       "      <td>2400.0</td>\n",
       "      <td>36 months</td>\n",
       "    </tr>\n",
       "    <tr>\n",
       "      <th>3</th>\n",
       "      <td>10000.0</td>\n",
       "      <td>36 months</td>\n",
       "    </tr>\n",
       "    <tr>\n",
       "      <th>4</th>\n",
       "      <td>3000.0</td>\n",
       "      <td>60 months</td>\n",
       "    </tr>\n",
       "  </tbody>\n",
       "</table>\n",
       "</div>"
      ],
      "text/plain": [
       "   loan_amnt        term\n",
       "0     5000.0   36 months\n",
       "1     2500.0   60 months\n",
       "2     2400.0   36 months\n",
       "3    10000.0   36 months\n",
       "4     3000.0   60 months"
      ]
     },
     "execution_count": 9,
     "metadata": {},
     "output_type": "execute_result"
    }
   ],
   "source": [
    "raw_data[['loan_amnt', 'term']].head()"
   ]
  },
  {
   "cell_type": "markdown",
   "metadata": {},
   "source": [
    "Die obige Vorgehensweise funktioniert auch wenn wir ein Dataframe mit nur einer Spalte erstellen wollen. Damit Pandas weiß dass wir ein Objekt des Typs `Dataframe` generieren wollen, müssen wir eine Liste verwenden. "
   ]
  },
  {
   "cell_type": "code",
   "execution_count": 10,
   "metadata": {},
   "outputs": [
    {
     "data": {
      "text/plain": [
       "pandas.core.frame.DataFrame"
      ]
     },
     "execution_count": 10,
     "metadata": {},
     "output_type": "execute_result"
    }
   ],
   "source": [
    "type(raw_data[['loan_amnt']]) #DataFrame\n",
    "#type(raw_data['loan_amnt']) #Series"
   ]
  },
  {
   "cell_type": "code",
   "execution_count": 11,
   "metadata": {},
   "outputs": [
    {
     "data": {
      "text/html": [
       "<div>\n",
       "<style scoped>\n",
       "    .dataframe tbody tr th:only-of-type {\n",
       "        vertical-align: middle;\n",
       "    }\n",
       "\n",
       "    .dataframe tbody tr th {\n",
       "        vertical-align: top;\n",
       "    }\n",
       "\n",
       "    .dataframe thead th {\n",
       "        text-align: right;\n",
       "    }\n",
       "</style>\n",
       "<table border=\"1\" class=\"dataframe\">\n",
       "  <thead>\n",
       "    <tr style=\"text-align: right;\">\n",
       "      <th></th>\n",
       "      <th>loan_amnt</th>\n",
       "    </tr>\n",
       "  </thead>\n",
       "  <tbody>\n",
       "    <tr>\n",
       "      <th>0</th>\n",
       "      <td>5000.0</td>\n",
       "    </tr>\n",
       "    <tr>\n",
       "      <th>1</th>\n",
       "      <td>2500.0</td>\n",
       "    </tr>\n",
       "    <tr>\n",
       "      <th>2</th>\n",
       "      <td>2400.0</td>\n",
       "    </tr>\n",
       "    <tr>\n",
       "      <th>3</th>\n",
       "      <td>10000.0</td>\n",
       "    </tr>\n",
       "    <tr>\n",
       "      <th>4</th>\n",
       "      <td>3000.0</td>\n",
       "    </tr>\n",
       "  </tbody>\n",
       "</table>\n",
       "</div>"
      ],
      "text/plain": [
       "   loan_amnt\n",
       "0     5000.0\n",
       "1     2500.0\n",
       "2     2400.0\n",
       "3    10000.0\n",
       "4     3000.0"
      ]
     },
     "execution_count": 11,
     "metadata": {},
     "output_type": "execute_result"
    }
   ],
   "source": [
    "raw_data[['loan_amnt']].head()"
   ]
  },
  {
   "cell_type": "markdown",
   "metadata": {},
   "source": [
    "### Überblick über die Variablen im Datensatz\n",
    "Wir können die Typ-Info für alle Variablen im Datensatz in kompakter Form erhalten:"
   ]
  },
  {
   "cell_type": "code",
   "execution_count": 12,
   "metadata": {},
   "outputs": [
    {
     "name": "stdout",
     "output_type": "stream",
     "text": [
      "<class 'pandas.core.frame.DataFrame'>\n",
      "RangeIndex: 42538 entries, 0 to 42537\n",
      "Data columns (total 14 columns):\n",
      " #   Column                Non-Null Count  Dtype  \n",
      "---  ------                --------------  -----  \n",
      " 0   loan_amnt             42535 non-null  float64\n",
      " 1   term                  42535 non-null  object \n",
      " 2   int_rate              42535 non-null  object \n",
      " 3   funded_amnt           42535 non-null  float64\n",
      " 4   grade                 42535 non-null  object \n",
      " 5   annual_inc            42531 non-null  float64\n",
      " 6   dti                   42535 non-null  float64\n",
      " 7   hardship_loan_status  0 non-null      float64\n",
      " 8   delinq_2yrs           42506 non-null  float64\n",
      " 9   last_pymnt_amnt       42535 non-null  float64\n",
      " 10  emp_length            41423 non-null  object \n",
      " 11  loan_status           42535 non-null  object \n",
      " 12  home_ownership        42535 non-null  object \n",
      " 13  tax_liens             42430 non-null  float64\n",
      "dtypes: float64(8), object(6)\n",
      "memory usage: 4.5+ MB\n"
     ]
    }
   ],
   "source": [
    "#Check field types\n",
    "raw_data.info() #42538 Zeilen; bei Spalte loan_amnt fehlen 3 Werte etc.\n",
    "                #Datentypen: float=Dezimalzahl & object=Zeichenkette(String)"
   ]
  },
  {
   "cell_type": "markdown",
   "metadata": {},
   "source": [
    "Wir können auch einen Überblick über die deskriptive Statistik der numerischen Variablen bekommen:"
   ]
  },
  {
   "cell_type": "code",
   "execution_count": 13,
   "metadata": {},
   "outputs": [
    {
     "data": {
      "text/html": [
       "<div>\n",
       "<style scoped>\n",
       "    .dataframe tbody tr th:only-of-type {\n",
       "        vertical-align: middle;\n",
       "    }\n",
       "\n",
       "    .dataframe tbody tr th {\n",
       "        vertical-align: top;\n",
       "    }\n",
       "\n",
       "    .dataframe thead th {\n",
       "        text-align: right;\n",
       "    }\n",
       "</style>\n",
       "<table border=\"1\" class=\"dataframe\">\n",
       "  <thead>\n",
       "    <tr style=\"text-align: right;\">\n",
       "      <th></th>\n",
       "      <th>loan_amnt</th>\n",
       "      <th>funded_amnt</th>\n",
       "      <th>annual_inc</th>\n",
       "      <th>dti</th>\n",
       "      <th>hardship_loan_status</th>\n",
       "      <th>delinq_2yrs</th>\n",
       "      <th>last_pymnt_amnt</th>\n",
       "      <th>tax_liens</th>\n",
       "    </tr>\n",
       "  </thead>\n",
       "  <tbody>\n",
       "    <tr>\n",
       "      <th>count</th>\n",
       "      <td>42535.000000</td>\n",
       "      <td>42535.000000</td>\n",
       "      <td>4.253100e+04</td>\n",
       "      <td>42535.000000</td>\n",
       "      <td>0.0</td>\n",
       "      <td>42506.000000</td>\n",
       "      <td>42535.000000</td>\n",
       "      <td>42430.000000</td>\n",
       "    </tr>\n",
       "    <tr>\n",
       "      <th>mean</th>\n",
       "      <td>11089.722581</td>\n",
       "      <td>10821.585753</td>\n",
       "      <td>6.913656e+04</td>\n",
       "      <td>13.373043</td>\n",
       "      <td>NaN</td>\n",
       "      <td>0.152449</td>\n",
       "      <td>2613.245652</td>\n",
       "      <td>0.000024</td>\n",
       "    </tr>\n",
       "    <tr>\n",
       "      <th>std</th>\n",
       "      <td>7410.938391</td>\n",
       "      <td>7146.914675</td>\n",
       "      <td>6.409635e+04</td>\n",
       "      <td>6.726315</td>\n",
       "      <td>NaN</td>\n",
       "      <td>0.512406</td>\n",
       "      <td>4385.066535</td>\n",
       "      <td>0.004855</td>\n",
       "    </tr>\n",
       "    <tr>\n",
       "      <th>min</th>\n",
       "      <td>500.000000</td>\n",
       "      <td>500.000000</td>\n",
       "      <td>1.896000e+03</td>\n",
       "      <td>0.000000</td>\n",
       "      <td>NaN</td>\n",
       "      <td>0.000000</td>\n",
       "      <td>0.000000</td>\n",
       "      <td>0.000000</td>\n",
       "    </tr>\n",
       "    <tr>\n",
       "      <th>25%</th>\n",
       "      <td>5200.000000</td>\n",
       "      <td>5000.000000</td>\n",
       "      <td>4.000000e+04</td>\n",
       "      <td>8.200000</td>\n",
       "      <td>NaN</td>\n",
       "      <td>0.000000</td>\n",
       "      <td>211.050000</td>\n",
       "      <td>0.000000</td>\n",
       "    </tr>\n",
       "    <tr>\n",
       "      <th>50%</th>\n",
       "      <td>9700.000000</td>\n",
       "      <td>9600.000000</td>\n",
       "      <td>5.900000e+04</td>\n",
       "      <td>13.470000</td>\n",
       "      <td>NaN</td>\n",
       "      <td>0.000000</td>\n",
       "      <td>528.360000</td>\n",
       "      <td>0.000000</td>\n",
       "    </tr>\n",
       "    <tr>\n",
       "      <th>75%</th>\n",
       "      <td>15000.000000</td>\n",
       "      <td>15000.000000</td>\n",
       "      <td>8.250000e+04</td>\n",
       "      <td>18.680000</td>\n",
       "      <td>NaN</td>\n",
       "      <td>0.000000</td>\n",
       "      <td>3170.220000</td>\n",
       "      <td>0.000000</td>\n",
       "    </tr>\n",
       "    <tr>\n",
       "      <th>max</th>\n",
       "      <td>35000.000000</td>\n",
       "      <td>35000.000000</td>\n",
       "      <td>6.000000e+06</td>\n",
       "      <td>29.990000</td>\n",
       "      <td>NaN</td>\n",
       "      <td>13.000000</td>\n",
       "      <td>36115.200000</td>\n",
       "      <td>1.000000</td>\n",
       "    </tr>\n",
       "  </tbody>\n",
       "</table>\n",
       "</div>"
      ],
      "text/plain": [
       "          loan_amnt   funded_amnt    annual_inc           dti  \\\n",
       "count  42535.000000  42535.000000  4.253100e+04  42535.000000   \n",
       "mean   11089.722581  10821.585753  6.913656e+04     13.373043   \n",
       "std     7410.938391   7146.914675  6.409635e+04      6.726315   \n",
       "min      500.000000    500.000000  1.896000e+03      0.000000   \n",
       "25%     5200.000000   5000.000000  4.000000e+04      8.200000   \n",
       "50%     9700.000000   9600.000000  5.900000e+04     13.470000   \n",
       "75%    15000.000000  15000.000000  8.250000e+04     18.680000   \n",
       "max    35000.000000  35000.000000  6.000000e+06     29.990000   \n",
       "\n",
       "       hardship_loan_status   delinq_2yrs  last_pymnt_amnt     tax_liens  \n",
       "count                   0.0  42506.000000     42535.000000  42430.000000  \n",
       "mean                    NaN      0.152449      2613.245652      0.000024  \n",
       "std                     NaN      0.512406      4385.066535      0.004855  \n",
       "min                     NaN      0.000000         0.000000      0.000000  \n",
       "25%                     NaN      0.000000       211.050000      0.000000  \n",
       "50%                     NaN      0.000000       528.360000      0.000000  \n",
       "75%                     NaN      0.000000      3170.220000      0.000000  \n",
       "max                     NaN     13.000000     36115.200000      1.000000  "
      ]
     },
     "execution_count": 13,
     "metadata": {},
     "output_type": "execute_result"
    }
   ],
   "source": [
    "raw_data.describe() #Anzahl, Mean, Std, Min, 25%, 50%, 75%, Max"
   ]
  },
  {
   "cell_type": "markdown",
   "metadata": {},
   "source": [
    "### Zugreifen auf die Werte einer Spalte als `Serie`\n",
    "\n",
    "Eine Serie (\"Series\") ist ein 1-dimensionales Objekt, kein Dataframe!\n",
    "\n",
    "Der Zweck eines Dataframes besteht darin, Daten eines Tabellenformats mit mehreren Spalten und Zeilen, d. h. zweidimensional, zu speichern. Während ein Dataframe, das eine einzelne Spalte enthält, möglich und manchmal angemessen ist, wäre es in vielen Fällen besser, eine Spalte nicht als Tabelle, sondern in der Art und Weise zu referenzieren, wie sie wirklich ist: eine Reihe von Werten. Beispielsweise kann eine Serie ähnlich wie einfache Python-Arrays indiziert werden, um Elemente auszuwählen.\n",
    "\n",
    "Es gibt mehrere Möglichkeiten, die Werte einer Spalte als Serie zu extrahieren. Wir zeigen die beiden wohl am häufigsten verwendeten Wege unten."
   ]
  },
  {
   "cell_type": "markdown",
   "metadata": {},
   "source": [
    "**Referenzierung einer Spalte als Serie, nach ihrem Namen**"
   ]
  },
  {
   "cell_type": "code",
   "execution_count": 14,
   "metadata": {},
   "outputs": [
    {
     "data": {
      "text/plain": [
       "0     5000.0\n",
       "1     2500.0\n",
       "2     2400.0\n",
       "3    10000.0\n",
       "4     3000.0\n",
       "Name: funded_amnt, dtype: float64"
      ]
     },
     "execution_count": 14,
     "metadata": {},
     "output_type": "execute_result"
    }
   ],
   "source": [
    "# Select top 5 rows of column \"funded_amnt\"\n",
    "raw_data['funded_amnt'][:5] #generiert Serie über Zeile/Index 0 bis 4"
   ]
  },
  {
   "cell_type": "code",
   "execution_count": 15,
   "metadata": {},
   "outputs": [
    {
     "data": {
      "text/plain": [
       "pandas.core.series.Series"
      ]
     },
     "execution_count": 15,
     "metadata": {},
     "output_type": "execute_result"
    }
   ],
   "source": [
    "type(raw_data['funded_amnt']) #Serie"
   ]
  },
  {
   "cell_type": "code",
   "execution_count": 16,
   "metadata": {},
   "outputs": [
    {
     "data": {
      "text/plain": [
       "pandas.core.frame.DataFrame"
      ]
     },
     "execution_count": 16,
     "metadata": {},
     "output_type": "execute_result"
    }
   ],
   "source": [
    "type(raw_data[['funded_amnt']]) #Data Frame mit Hilfe einer Liste"
   ]
  },
  {
   "cell_type": "markdown",
   "metadata": {},
   "source": [
    "**Referenzieren einer Spalte als Serie unter Verwendung der Punktnotation**"
   ]
  },
  {
   "cell_type": "code",
   "execution_count": 17,
   "metadata": {
    "scrolled": true
   },
   "outputs": [
    {
     "data": {
      "text/plain": [
       "0     5000.0\n",
       "1     2500.0\n",
       "2     2400.0\n",
       "3    10000.0\n",
       "4     3000.0\n",
       "Name: funded_amnt, dtype: float64"
      ]
     },
     "execution_count": 17,
     "metadata": {},
     "output_type": "execute_result"
    }
   ],
   "source": [
    "# Select top 5 rows of column \"funded_amnt\"\n",
    "raw_data.funded_amnt[0:5] # 2. Möglichkeit eine Spalte anzusprechen"
   ]
  },
  {
   "cell_type": "markdown",
   "metadata": {},
   "source": [
    "### Zugriff auf Werte durch numerische Indizierung\n",
    "Es gibt eine Möglichkeit, auf den Dataframe so zuzugreifen, wie wir auf Elemente einer Matrix mit numerischen Indizes zugreifen würden.\n",
    "\n",
    "Hinweis: Der erste Index ist der Zeilenindex und der zweite Index der Spaltenindex:\n",
    "\n",
    "`data.iloc[row,column]` # i für integer; Zeilen- und Spaltenindex"
   ]
  },
  {
   "cell_type": "code",
   "execution_count": 18,
   "metadata": {},
   "outputs": [
    {
     "data": {
      "text/plain": [
       "['loan_amnt',\n",
       " 'term',\n",
       " 'int_rate',\n",
       " 'funded_amnt',\n",
       " 'grade',\n",
       " 'annual_inc',\n",
       " 'dti',\n",
       " 'hardship_loan_status',\n",
       " 'delinq_2yrs',\n",
       " 'last_pymnt_amnt',\n",
       " 'emp_length',\n",
       " 'loan_status',\n",
       " 'home_ownership',\n",
       " 'tax_liens']"
      ]
     },
     "execution_count": 18,
     "metadata": {},
     "output_type": "execute_result"
    }
   ],
   "source": [
    "raw_data.columns.tolist()"
   ]
  },
  {
   "cell_type": "code",
   "execution_count": 19,
   "metadata": {},
   "outputs": [
    {
     "data": {
      "text/plain": [
       "0     5000.0\n",
       "1     2500.0\n",
       "2     2400.0\n",
       "3    10000.0\n",
       "4     3000.0\n",
       "Name: funded_amnt, dtype: float64"
      ]
     },
     "execution_count": 19,
     "metadata": {},
     "output_type": "execute_result"
    }
   ],
   "source": [
    "# Select top 5 rows of the column with the index 3. \n",
    "#Note: indexing starts with 0, so this is the \"funded_amnt\" column.\n",
    "raw_data.iloc[:5,3] #iloc = integer location; ersten 5 Zeilen der 3. Spalte"
   ]
  },
  {
   "cell_type": "markdown",
   "metadata": {},
   "source": [
    "Lassen Sie uns einige Berechnungen mit der Serie durchführen. Da sie numerisch ist, können wir numerische Operationen durchführen, z.B. die Berechnung des Mittelwerts, Multiplikation mit 2 usw."
   ]
  },
  {
   "cell_type": "code",
   "execution_count": 20,
   "metadata": {},
   "outputs": [
    {
     "data": {
      "text/plain": [
       "10821.585752909368"
      ]
     },
     "execution_count": 20,
     "metadata": {},
     "output_type": "execute_result"
    }
   ],
   "source": [
    "raw_data.funded_amnt.mean() #Mean über die Spalte funded.amnt"
   ]
  },
  {
   "cell_type": "code",
   "execution_count": 21,
   "metadata": {},
   "outputs": [
    {
     "data": {
      "text/plain": [
       "0    10000.0\n",
       "1     5000.0\n",
       "2     4800.0\n",
       "3    20000.0\n",
       "4     6000.0\n",
       "Name: funded_amnt, dtype: float64"
      ]
     },
     "execution_count": 21,
     "metadata": {},
     "output_type": "execute_result"
    }
   ],
   "source": [
    "raw_data.funded_amnt[:5] * 2"
   ]
  },
  {
   "cell_type": "markdown",
   "metadata": {},
   "source": [
    "### Eindeutige Werte und Aggregationen für kategoriale Variablen\n",
    "Sehen wir uns zunächst die eindeutigen Werte (\"unique values\") an. Beachten Sie, dass das Ergebnis keine Serie, sondern ein `numpy Array` ist."
   ]
  },
  {
   "cell_type": "code",
   "execution_count": 22,
   "metadata": {},
   "outputs": [
    {
     "data": {
      "text/plain": [
       "array(['B', 'C', 'A', 'E', 'F', 'D', 'G', nan], dtype=object)"
      ]
     },
     "execution_count": 22,
     "metadata": {},
     "output_type": "execute_result"
    }
   ],
   "source": [
    "raw_data.grade.unique() #unique values von Spalte 'grade'"
   ]
  },
  {
   "cell_type": "markdown",
   "metadata": {},
   "source": [
    "Sehen wir uns an, wie oft jeder Wert in dieser Serie vorkommt. Wir verwenden dafür die integrierte Methode `value_counts()` einer Serie."
   ]
  },
  {
   "cell_type": "code",
   "execution_count": 23,
   "metadata": {},
   "outputs": [
    {
     "data": {
      "text/plain": [
       "B    12389\n",
       "A    10183\n",
       "C     8740\n",
       "D     6016\n",
       "E     3394\n",
       "F     1301\n",
       "G      512\n",
       "Name: grade, dtype: int64"
      ]
     },
     "execution_count": 23,
     "metadata": {},
     "output_type": "execute_result"
    }
   ],
   "source": [
    "raw_data.grade.value_counts() # Anzahl der unique values"
   ]
  },
  {
   "cell_type": "markdown",
   "metadata": {},
   "source": [
    "**Group by**\n",
    "\n",
    "Das gleiche können wir tun, indem wir den vollständigen Dataframe mit einem Gruppenausdruck verwenden."
   ]
  },
  {
   "cell_type": "code",
   "execution_count": 24,
   "metadata": {},
   "outputs": [
    {
     "data": {
      "text/html": [
       "<div>\n",
       "<style scoped>\n",
       "    .dataframe tbody tr th:only-of-type {\n",
       "        vertical-align: middle;\n",
       "    }\n",
       "\n",
       "    .dataframe tbody tr th {\n",
       "        vertical-align: top;\n",
       "    }\n",
       "\n",
       "    .dataframe thead th {\n",
       "        text-align: right;\n",
       "    }\n",
       "</style>\n",
       "<table border=\"1\" class=\"dataframe\">\n",
       "  <thead>\n",
       "    <tr style=\"text-align: right;\">\n",
       "      <th></th>\n",
       "      <th>loan_amnt</th>\n",
       "      <th>term</th>\n",
       "      <th>int_rate</th>\n",
       "      <th>funded_amnt</th>\n",
       "      <th>annual_inc</th>\n",
       "      <th>dti</th>\n",
       "      <th>hardship_loan_status</th>\n",
       "      <th>delinq_2yrs</th>\n",
       "      <th>last_pymnt_amnt</th>\n",
       "      <th>emp_length</th>\n",
       "      <th>loan_status</th>\n",
       "      <th>home_ownership</th>\n",
       "      <th>tax_liens</th>\n",
       "    </tr>\n",
       "    <tr>\n",
       "      <th>grade</th>\n",
       "      <th></th>\n",
       "      <th></th>\n",
       "      <th></th>\n",
       "      <th></th>\n",
       "      <th></th>\n",
       "      <th></th>\n",
       "      <th></th>\n",
       "      <th></th>\n",
       "      <th></th>\n",
       "      <th></th>\n",
       "      <th></th>\n",
       "      <th></th>\n",
       "      <th></th>\n",
       "    </tr>\n",
       "  </thead>\n",
       "  <tbody>\n",
       "    <tr>\n",
       "      <th>A</th>\n",
       "      <td>10183</td>\n",
       "      <td>10183</td>\n",
       "      <td>10183</td>\n",
       "      <td>10183</td>\n",
       "      <td>10179</td>\n",
       "      <td>10183</td>\n",
       "      <td>0</td>\n",
       "      <td>10172</td>\n",
       "      <td>10183</td>\n",
       "      <td>9790</td>\n",
       "      <td>10183</td>\n",
       "      <td>10183</td>\n",
       "      <td>10153</td>\n",
       "    </tr>\n",
       "    <tr>\n",
       "      <th>B</th>\n",
       "      <td>12389</td>\n",
       "      <td>12389</td>\n",
       "      <td>12389</td>\n",
       "      <td>12389</td>\n",
       "      <td>12389</td>\n",
       "      <td>12389</td>\n",
       "      <td>0</td>\n",
       "      <td>12379</td>\n",
       "      <td>12389</td>\n",
       "      <td>12045</td>\n",
       "      <td>12389</td>\n",
       "      <td>12389</td>\n",
       "      <td>12367</td>\n",
       "    </tr>\n",
       "    <tr>\n",
       "      <th>C</th>\n",
       "      <td>8740</td>\n",
       "      <td>8740</td>\n",
       "      <td>8740</td>\n",
       "      <td>8740</td>\n",
       "      <td>8740</td>\n",
       "      <td>8740</td>\n",
       "      <td>0</td>\n",
       "      <td>8734</td>\n",
       "      <td>8740</td>\n",
       "      <td>8558</td>\n",
       "      <td>8740</td>\n",
       "      <td>8740</td>\n",
       "      <td>8719</td>\n",
       "    </tr>\n",
       "    <tr>\n",
       "      <th>D</th>\n",
       "      <td>6016</td>\n",
       "      <td>6016</td>\n",
       "      <td>6016</td>\n",
       "      <td>6016</td>\n",
       "      <td>6016</td>\n",
       "      <td>6016</td>\n",
       "      <td>0</td>\n",
       "      <td>6015</td>\n",
       "      <td>6016</td>\n",
       "      <td>5896</td>\n",
       "      <td>6016</td>\n",
       "      <td>6016</td>\n",
       "      <td>6003</td>\n",
       "    </tr>\n",
       "    <tr>\n",
       "      <th>E</th>\n",
       "      <td>3394</td>\n",
       "      <td>3394</td>\n",
       "      <td>3394</td>\n",
       "      <td>3394</td>\n",
       "      <td>3394</td>\n",
       "      <td>3394</td>\n",
       "      <td>0</td>\n",
       "      <td>3393</td>\n",
       "      <td>3394</td>\n",
       "      <td>3345</td>\n",
       "      <td>3394</td>\n",
       "      <td>3394</td>\n",
       "      <td>3383</td>\n",
       "    </tr>\n",
       "    <tr>\n",
       "      <th>F</th>\n",
       "      <td>1301</td>\n",
       "      <td>1301</td>\n",
       "      <td>1301</td>\n",
       "      <td>1301</td>\n",
       "      <td>1301</td>\n",
       "      <td>1301</td>\n",
       "      <td>0</td>\n",
       "      <td>1301</td>\n",
       "      <td>1301</td>\n",
       "      <td>1279</td>\n",
       "      <td>1301</td>\n",
       "      <td>1301</td>\n",
       "      <td>1295</td>\n",
       "    </tr>\n",
       "    <tr>\n",
       "      <th>G</th>\n",
       "      <td>512</td>\n",
       "      <td>512</td>\n",
       "      <td>512</td>\n",
       "      <td>512</td>\n",
       "      <td>512</td>\n",
       "      <td>512</td>\n",
       "      <td>0</td>\n",
       "      <td>512</td>\n",
       "      <td>512</td>\n",
       "      <td>510</td>\n",
       "      <td>512</td>\n",
       "      <td>512</td>\n",
       "      <td>510</td>\n",
       "    </tr>\n",
       "  </tbody>\n",
       "</table>\n",
       "</div>"
      ],
      "text/plain": [
       "       loan_amnt   term  int_rate  funded_amnt  annual_inc    dti  \\\n",
       "grade                                                               \n",
       "A          10183  10183     10183        10183       10179  10183   \n",
       "B          12389  12389     12389        12389       12389  12389   \n",
       "C           8740   8740      8740         8740        8740   8740   \n",
       "D           6016   6016      6016         6016        6016   6016   \n",
       "E           3394   3394      3394         3394        3394   3394   \n",
       "F           1301   1301      1301         1301        1301   1301   \n",
       "G            512    512       512          512         512    512   \n",
       "\n",
       "       hardship_loan_status  delinq_2yrs  last_pymnt_amnt  emp_length  \\\n",
       "grade                                                                   \n",
       "A                         0        10172            10183        9790   \n",
       "B                         0        12379            12389       12045   \n",
       "C                         0         8734             8740        8558   \n",
       "D                         0         6015             6016        5896   \n",
       "E                         0         3393             3394        3345   \n",
       "F                         0         1301             1301        1279   \n",
       "G                         0          512              512         510   \n",
       "\n",
       "       loan_status  home_ownership  tax_liens  \n",
       "grade                                          \n",
       "A            10183           10183      10153  \n",
       "B            12389           12389      12367  \n",
       "C             8740            8740       8719  \n",
       "D             6016            6016       6003  \n",
       "E             3394            3394       3383  \n",
       "F             1301            1301       1295  \n",
       "G              512             512        510  "
      ]
     },
     "execution_count": 24,
     "metadata": {},
     "output_type": "execute_result"
    }
   ],
   "source": [
    "raw_data.groupby(by='grade').agg('count') #gruppiert Datensatz nach unique values von Spalte 'grade' und zählt die Anzahl\n",
    "                                          #summiert pro Spalte\n",
    "#Alternativen\n",
    "#raw_data.groupby(by='grade').agg('mean')\n",
    "#raw_data.groupby(by='grade').agg('sum')"
   ]
  },
  {
   "cell_type": "markdown",
   "metadata": {},
   "source": [
    "Hinweis: Der Funktionsname `agg` bedeutet, dass wir für jede Gruppe einen Vorgang in aggregierter Weise ausführen."
   ]
  },
  {
   "cell_type": "code",
   "execution_count": 25,
   "metadata": {},
   "outputs": [
    {
     "data": {
      "text/plain": [
       "grade\n",
       "A    10183\n",
       "B    12389\n",
       "C     8740\n",
       "D     6016\n",
       "E     3394\n",
       "F     1301\n",
       "G      512\n",
       "Name: loan_amnt, dtype: int64"
      ]
     },
     "execution_count": 25,
     "metadata": {},
     "output_type": "execute_result"
    }
   ],
   "source": [
    "raw_data.groupby(by='grade').loan_amnt.agg('count') # nur Spalte 'loan_amnt'"
   ]
  },
  {
   "cell_type": "markdown",
   "metadata": {},
   "source": [
    "Natürlich können wir andere Arten von Aggregationen anwenden, wie Summierung, Mittelung, wir können sogar benutzerdefinierte Aggregationsfunktionen anwenden. Darüber hinaus können wir mehr als eine von ihnen gleichzeitig anwenden!"
   ]
  },
  {
   "cell_type": "code",
   "execution_count": 26,
   "metadata": {},
   "outputs": [
    {
     "data": {
      "text/html": [
       "<div>\n",
       "<style scoped>\n",
       "    .dataframe tbody tr th:only-of-type {\n",
       "        vertical-align: middle;\n",
       "    }\n",
       "\n",
       "    .dataframe tbody tr th {\n",
       "        vertical-align: top;\n",
       "    }\n",
       "\n",
       "    .dataframe thead th {\n",
       "        text-align: right;\n",
       "    }\n",
       "</style>\n",
       "<table border=\"1\" class=\"dataframe\">\n",
       "  <thead>\n",
       "    <tr style=\"text-align: right;\">\n",
       "      <th></th>\n",
       "      <th>min</th>\n",
       "      <th>max</th>\n",
       "      <th>sum</th>\n",
       "      <th>mean</th>\n",
       "    </tr>\n",
       "    <tr>\n",
       "      <th>grade</th>\n",
       "      <th></th>\n",
       "      <th></th>\n",
       "      <th></th>\n",
       "      <th></th>\n",
       "    </tr>\n",
       "  </thead>\n",
       "  <tbody>\n",
       "    <tr>\n",
       "      <th>A</th>\n",
       "      <td>500.0</td>\n",
       "      <td>35000.0</td>\n",
       "      <td>85295150.0</td>\n",
       "      <td>8376.229991</td>\n",
       "    </tr>\n",
       "    <tr>\n",
       "      <th>B</th>\n",
       "      <td>500.0</td>\n",
       "      <td>35000.0</td>\n",
       "      <td>133714950.0</td>\n",
       "      <td>10793.038179</td>\n",
       "    </tr>\n",
       "    <tr>\n",
       "      <th>C</th>\n",
       "      <td>500.0</td>\n",
       "      <td>35000.0</td>\n",
       "      <td>93102750.0</td>\n",
       "      <td>10652.488558</td>\n",
       "    </tr>\n",
       "    <tr>\n",
       "      <th>D</th>\n",
       "      <td>500.0</td>\n",
       "      <td>35000.0</td>\n",
       "      <td>70068700.0</td>\n",
       "      <td>11647.057846</td>\n",
       "    </tr>\n",
       "    <tr>\n",
       "      <th>E</th>\n",
       "      <td>600.0</td>\n",
       "      <td>35000.0</td>\n",
       "      <td>48061025.0</td>\n",
       "      <td>14160.584856</td>\n",
       "    </tr>\n",
       "    <tr>\n",
       "      <th>F</th>\n",
       "      <td>1000.0</td>\n",
       "      <td>35000.0</td>\n",
       "      <td>21511400.0</td>\n",
       "      <td>16534.511914</td>\n",
       "    </tr>\n",
       "    <tr>\n",
       "      <th>G</th>\n",
       "      <td>600.0</td>\n",
       "      <td>35000.0</td>\n",
       "      <td>8542175.0</td>\n",
       "      <td>16683.935547</td>\n",
       "    </tr>\n",
       "  </tbody>\n",
       "</table>\n",
       "</div>"
      ],
      "text/plain": [
       "          min      max          sum          mean\n",
       "grade                                            \n",
       "A       500.0  35000.0   85295150.0   8376.229991\n",
       "B       500.0  35000.0  133714950.0  10793.038179\n",
       "C       500.0  35000.0   93102750.0  10652.488558\n",
       "D       500.0  35000.0   70068700.0  11647.057846\n",
       "E       600.0  35000.0   48061025.0  14160.584856\n",
       "F      1000.0  35000.0   21511400.0  16534.511914\n",
       "G       600.0  35000.0    8542175.0  16683.935547"
      ]
     },
     "execution_count": 26,
     "metadata": {},
     "output_type": "execute_result"
    }
   ],
   "source": [
    "raw_data.groupby(by='grade').funded_amnt.agg(['min', 'max', 'sum', 'mean'])"
   ]
  },
  {
   "cell_type": "markdown",
   "metadata": {},
   "source": [
    "### Filtern von Zeilen anhand von Bedingungen\n",
    "Sehen wir uns an, wie wir Zeilen basierend auf Spaltenwerten filtern können.\n",
    "Wir wählen nur die Darlehen aus, bei denen das Einkommen des Kreditnehmers größer als 1.000.000 USD ist."
   ]
  },
  {
   "cell_type": "code",
   "execution_count": 27,
   "metadata": {},
   "outputs": [
    {
     "data": {
      "text/html": [
       "<div>\n",
       "<style scoped>\n",
       "    .dataframe tbody tr th:only-of-type {\n",
       "        vertical-align: middle;\n",
       "    }\n",
       "\n",
       "    .dataframe tbody tr th {\n",
       "        vertical-align: top;\n",
       "    }\n",
       "\n",
       "    .dataframe thead th {\n",
       "        text-align: right;\n",
       "    }\n",
       "</style>\n",
       "<table border=\"1\" class=\"dataframe\">\n",
       "  <thead>\n",
       "    <tr style=\"text-align: right;\">\n",
       "      <th></th>\n",
       "      <th>loan_amnt</th>\n",
       "      <th>term</th>\n",
       "      <th>int_rate</th>\n",
       "      <th>funded_amnt</th>\n",
       "      <th>grade</th>\n",
       "      <th>annual_inc</th>\n",
       "      <th>dti</th>\n",
       "      <th>hardship_loan_status</th>\n",
       "      <th>delinq_2yrs</th>\n",
       "      <th>last_pymnt_amnt</th>\n",
       "      <th>emp_length</th>\n",
       "      <th>loan_status</th>\n",
       "      <th>home_ownership</th>\n",
       "      <th>tax_liens</th>\n",
       "    </tr>\n",
       "  </thead>\n",
       "  <tbody>\n",
       "    <tr>\n",
       "      <th>7268</th>\n",
       "      <td>12025.0</td>\n",
       "      <td>36 months</td>\n",
       "      <td>14.27%</td>\n",
       "      <td>12025.0</td>\n",
       "      <td>C</td>\n",
       "      <td>1782000.0</td>\n",
       "      <td>1.31</td>\n",
       "      <td>NaN</td>\n",
       "      <td>0.0</td>\n",
       "      <td>842.91</td>\n",
       "      <td>10+ years</td>\n",
       "      <td>Fully Paid</td>\n",
       "      <td>RENT</td>\n",
       "      <td>0.0</td>\n",
       "    </tr>\n",
       "    <tr>\n",
       "      <th>10650</th>\n",
       "      <td>15775.0</td>\n",
       "      <td>60 months</td>\n",
       "      <td>12.99%</td>\n",
       "      <td>15775.0</td>\n",
       "      <td>C</td>\n",
       "      <td>1250000.0</td>\n",
       "      <td>21.81</td>\n",
       "      <td>NaN</td>\n",
       "      <td>0.0</td>\n",
       "      <td>358.85</td>\n",
       "      <td>2 years</td>\n",
       "      <td>Charged Off</td>\n",
       "      <td>MORTGAGE</td>\n",
       "      <td>0.0</td>\n",
       "    </tr>\n",
       "    <tr>\n",
       "      <th>21477</th>\n",
       "      <td>10000.0</td>\n",
       "      <td>36 months</td>\n",
       "      <td>6.54%</td>\n",
       "      <td>10000.0</td>\n",
       "      <td>A</td>\n",
       "      <td>1200000.0</td>\n",
       "      <td>1.46</td>\n",
       "      <td>NaN</td>\n",
       "      <td>0.0</td>\n",
       "      <td>222.14</td>\n",
       "      <td>10+ years</td>\n",
       "      <td>Fully Paid</td>\n",
       "      <td>OWN</td>\n",
       "      <td>0.0</td>\n",
       "    </tr>\n",
       "    <tr>\n",
       "      <th>23618</th>\n",
       "      <td>1500.0</td>\n",
       "      <td>36 months</td>\n",
       "      <td>6.17%</td>\n",
       "      <td>1500.0</td>\n",
       "      <td>A</td>\n",
       "      <td>1900000.0</td>\n",
       "      <td>0.57</td>\n",
       "      <td>NaN</td>\n",
       "      <td>0.0</td>\n",
       "      <td>1197.34</td>\n",
       "      <td>5 years</td>\n",
       "      <td>Fully Paid</td>\n",
       "      <td>MORTGAGE</td>\n",
       "      <td>0.0</td>\n",
       "    </tr>\n",
       "    <tr>\n",
       "      <th>24233</th>\n",
       "      <td>25000.0</td>\n",
       "      <td>60 months</td>\n",
       "      <td>15.20%</td>\n",
       "      <td>25000.0</td>\n",
       "      <td>D</td>\n",
       "      <td>1200000.0</td>\n",
       "      <td>0.41</td>\n",
       "      <td>NaN</td>\n",
       "      <td>0.0</td>\n",
       "      <td>14624.78</td>\n",
       "      <td>10+ years</td>\n",
       "      <td>Fully Paid</td>\n",
       "      <td>RENT</td>\n",
       "      <td>0.0</td>\n",
       "    </tr>\n",
       "    <tr>\n",
       "      <th>25831</th>\n",
       "      <td>12000.0</td>\n",
       "      <td>36 months</td>\n",
       "      <td>7.51%</td>\n",
       "      <td>12000.0</td>\n",
       "      <td>A</td>\n",
       "      <td>1200000.0</td>\n",
       "      <td>9.17</td>\n",
       "      <td>NaN</td>\n",
       "      <td>0.0</td>\n",
       "      <td>407.64</td>\n",
       "      <td>1 year</td>\n",
       "      <td>Fully Paid</td>\n",
       "      <td>MORTGAGE</td>\n",
       "      <td>0.0</td>\n",
       "    </tr>\n",
       "    <tr>\n",
       "      <th>27633</th>\n",
       "      <td>5600.0</td>\n",
       "      <td>60 months</td>\n",
       "      <td>13.61%</td>\n",
       "      <td>5600.0</td>\n",
       "      <td>C</td>\n",
       "      <td>1176000.0</td>\n",
       "      <td>1.22</td>\n",
       "      <td>NaN</td>\n",
       "      <td>1.0</td>\n",
       "      <td>137.79</td>\n",
       "      <td>10+ years</td>\n",
       "      <td>Fully Paid</td>\n",
       "      <td>MORTGAGE</td>\n",
       "      <td>0.0</td>\n",
       "    </tr>\n",
       "    <tr>\n",
       "      <th>28975</th>\n",
       "      <td>4500.0</td>\n",
       "      <td>60 months</td>\n",
       "      <td>7.88%</td>\n",
       "      <td>4500.0</td>\n",
       "      <td>A</td>\n",
       "      <td>1080000.0</td>\n",
       "      <td>0.57</td>\n",
       "      <td>NaN</td>\n",
       "      <td>0.0</td>\n",
       "      <td>2269.27</td>\n",
       "      <td>8 years</td>\n",
       "      <td>Fully Paid</td>\n",
       "      <td>MORTGAGE</td>\n",
       "      <td>0.0</td>\n",
       "    </tr>\n",
       "    <tr>\n",
       "      <th>29708</th>\n",
       "      <td>25000.0</td>\n",
       "      <td>60 months</td>\n",
       "      <td>10.62%</td>\n",
       "      <td>15500.0</td>\n",
       "      <td>B</td>\n",
       "      <td>3900000.0</td>\n",
       "      <td>0.20</td>\n",
       "      <td>NaN</td>\n",
       "      <td>0.0</td>\n",
       "      <td>353.14</td>\n",
       "      <td>3 years</td>\n",
       "      <td>Fully Paid</td>\n",
       "      <td>MORTGAGE</td>\n",
       "      <td>0.0</td>\n",
       "    </tr>\n",
       "    <tr>\n",
       "      <th>30176</th>\n",
       "      <td>5000.0</td>\n",
       "      <td>36 months</td>\n",
       "      <td>12.73%</td>\n",
       "      <td>5000.0</td>\n",
       "      <td>C</td>\n",
       "      <td>6000000.0</td>\n",
       "      <td>0.01</td>\n",
       "      <td>NaN</td>\n",
       "      <td>0.0</td>\n",
       "      <td>3845.25</td>\n",
       "      <td>10+ years</td>\n",
       "      <td>Fully Paid</td>\n",
       "      <td>MORTGAGE</td>\n",
       "      <td>0.0</td>\n",
       "    </tr>\n",
       "    <tr>\n",
       "      <th>33501</th>\n",
       "      <td>10000.0</td>\n",
       "      <td>36 months</td>\n",
       "      <td>7.74%</td>\n",
       "      <td>10000.0</td>\n",
       "      <td>A</td>\n",
       "      <td>1200000.0</td>\n",
       "      <td>0.80</td>\n",
       "      <td>NaN</td>\n",
       "      <td>0.0</td>\n",
       "      <td>199.75</td>\n",
       "      <td>1 year</td>\n",
       "      <td>Fully Paid</td>\n",
       "      <td>MORTGAGE</td>\n",
       "      <td>0.0</td>\n",
       "    </tr>\n",
       "    <tr>\n",
       "      <th>34051</th>\n",
       "      <td>6400.0</td>\n",
       "      <td>36 months</td>\n",
       "      <td>7.40%</td>\n",
       "      <td>6400.0</td>\n",
       "      <td>A</td>\n",
       "      <td>1440000.0</td>\n",
       "      <td>0.00</td>\n",
       "      <td>NaN</td>\n",
       "      <td>0.0</td>\n",
       "      <td>2503.47</td>\n",
       "      <td>7 years</td>\n",
       "      <td>Fully Paid</td>\n",
       "      <td>MORTGAGE</td>\n",
       "      <td>0.0</td>\n",
       "    </tr>\n",
       "    <tr>\n",
       "      <th>34373</th>\n",
       "      <td>6600.0</td>\n",
       "      <td>36 months</td>\n",
       "      <td>7.74%</td>\n",
       "      <td>6600.0</td>\n",
       "      <td>A</td>\n",
       "      <td>1362000.0</td>\n",
       "      <td>0.62</td>\n",
       "      <td>NaN</td>\n",
       "      <td>0.0</td>\n",
       "      <td>5470.14</td>\n",
       "      <td>9 years</td>\n",
       "      <td>Fully Paid</td>\n",
       "      <td>MORTGAGE</td>\n",
       "      <td>0.0</td>\n",
       "    </tr>\n",
       "    <tr>\n",
       "      <th>39158</th>\n",
       "      <td>8450.0</td>\n",
       "      <td>36 months</td>\n",
       "      <td>12.29%</td>\n",
       "      <td>8450.0</td>\n",
       "      <td>C</td>\n",
       "      <td>2039784.0</td>\n",
       "      <td>0.13</td>\n",
       "      <td>NaN</td>\n",
       "      <td>0.0</td>\n",
       "      <td>293.01</td>\n",
       "      <td>&lt; 1 year</td>\n",
       "      <td>Fully Paid</td>\n",
       "      <td>RENT</td>\n",
       "      <td>0.0</td>\n",
       "    </tr>\n",
       "    <tr>\n",
       "      <th>40530</th>\n",
       "      <td>25000.0</td>\n",
       "      <td>36 months</td>\n",
       "      <td>19.79%</td>\n",
       "      <td>25000.0</td>\n",
       "      <td>F</td>\n",
       "      <td>1440000.0</td>\n",
       "      <td>3.26</td>\n",
       "      <td>NaN</td>\n",
       "      <td>1.0</td>\n",
       "      <td>987.45</td>\n",
       "      <td>10+ years</td>\n",
       "      <td>Does not meet the credit policy. Status:Fully ...</td>\n",
       "      <td>MORTGAGE</td>\n",
       "      <td>0.0</td>\n",
       "    </tr>\n",
       "  </tbody>\n",
       "</table>\n",
       "</div>"
      ],
      "text/plain": [
       "       loan_amnt        term int_rate  funded_amnt grade  annual_inc    dti  \\\n",
       "7268     12025.0   36 months   14.27%      12025.0     C   1782000.0   1.31   \n",
       "10650    15775.0   60 months   12.99%      15775.0     C   1250000.0  21.81   \n",
       "21477    10000.0   36 months    6.54%      10000.0     A   1200000.0   1.46   \n",
       "23618     1500.0   36 months    6.17%       1500.0     A   1900000.0   0.57   \n",
       "24233    25000.0   60 months   15.20%      25000.0     D   1200000.0   0.41   \n",
       "25831    12000.0   36 months    7.51%      12000.0     A   1200000.0   9.17   \n",
       "27633     5600.0   60 months   13.61%       5600.0     C   1176000.0   1.22   \n",
       "28975     4500.0   60 months    7.88%       4500.0     A   1080000.0   0.57   \n",
       "29708    25000.0   60 months   10.62%      15500.0     B   3900000.0   0.20   \n",
       "30176     5000.0   36 months   12.73%       5000.0     C   6000000.0   0.01   \n",
       "33501    10000.0   36 months    7.74%      10000.0     A   1200000.0   0.80   \n",
       "34051     6400.0   36 months    7.40%       6400.0     A   1440000.0   0.00   \n",
       "34373     6600.0   36 months    7.74%       6600.0     A   1362000.0   0.62   \n",
       "39158     8450.0   36 months   12.29%       8450.0     C   2039784.0   0.13   \n",
       "40530    25000.0   36 months   19.79%      25000.0     F   1440000.0   3.26   \n",
       "\n",
       "       hardship_loan_status  delinq_2yrs  last_pymnt_amnt emp_length  \\\n",
       "7268                    NaN          0.0           842.91  10+ years   \n",
       "10650                   NaN          0.0           358.85    2 years   \n",
       "21477                   NaN          0.0           222.14  10+ years   \n",
       "23618                   NaN          0.0          1197.34    5 years   \n",
       "24233                   NaN          0.0         14624.78  10+ years   \n",
       "25831                   NaN          0.0           407.64     1 year   \n",
       "27633                   NaN          1.0           137.79  10+ years   \n",
       "28975                   NaN          0.0          2269.27    8 years   \n",
       "29708                   NaN          0.0           353.14    3 years   \n",
       "30176                   NaN          0.0          3845.25  10+ years   \n",
       "33501                   NaN          0.0           199.75     1 year   \n",
       "34051                   NaN          0.0          2503.47    7 years   \n",
       "34373                   NaN          0.0          5470.14    9 years   \n",
       "39158                   NaN          0.0           293.01   < 1 year   \n",
       "40530                   NaN          1.0           987.45  10+ years   \n",
       "\n",
       "                                             loan_status home_ownership  \\\n",
       "7268                                          Fully Paid           RENT   \n",
       "10650                                        Charged Off       MORTGAGE   \n",
       "21477                                         Fully Paid            OWN   \n",
       "23618                                         Fully Paid       MORTGAGE   \n",
       "24233                                         Fully Paid           RENT   \n",
       "25831                                         Fully Paid       MORTGAGE   \n",
       "27633                                         Fully Paid       MORTGAGE   \n",
       "28975                                         Fully Paid       MORTGAGE   \n",
       "29708                                         Fully Paid       MORTGAGE   \n",
       "30176                                         Fully Paid       MORTGAGE   \n",
       "33501                                         Fully Paid       MORTGAGE   \n",
       "34051                                         Fully Paid       MORTGAGE   \n",
       "34373                                         Fully Paid       MORTGAGE   \n",
       "39158                                         Fully Paid           RENT   \n",
       "40530  Does not meet the credit policy. Status:Fully ...       MORTGAGE   \n",
       "\n",
       "       tax_liens  \n",
       "7268         0.0  \n",
       "10650        0.0  \n",
       "21477        0.0  \n",
       "23618        0.0  \n",
       "24233        0.0  \n",
       "25831        0.0  \n",
       "27633        0.0  \n",
       "28975        0.0  \n",
       "29708        0.0  \n",
       "30176        0.0  \n",
       "33501        0.0  \n",
       "34051        0.0  \n",
       "34373        0.0  \n",
       "39158        0.0  \n",
       "40530        0.0  "
      ]
     },
     "execution_count": 27,
     "metadata": {},
     "output_type": "execute_result"
    }
   ],
   "source": [
    "raw_data[raw_data.annual_inc > 1000000] # alle Zeilen mit annual income größer als 1 Mio"
   ]
  },
  {
   "cell_type": "markdown",
   "metadata": {},
   "source": [
    "**Wie funktioniert das?**\n",
    "\n",
    "Der Filter erstellt eine boolesche Serie, die anzeigt, welche Zeile die Filterbedingung erfüllt und welche nicht. Die boolesche Serie wird dann verwendet, um den Dataframe zu indizieren.\n",
    "\n",
    "Erstellen wir einen Filter für die Note \"A\"."
   ]
  },
  {
   "cell_type": "code",
   "execution_count": 28,
   "metadata": {
    "scrolled": true
   },
   "outputs": [
    {
     "name": "stdout",
     "output_type": "stream",
     "text": [
      "<class 'pandas.core.series.Series'>\n",
      "0        False\n",
      "1        False\n",
      "2        False\n",
      "3        False\n",
      "4        False\n",
      "         ...  \n",
      "42533    False\n",
      "42534     True\n",
      "42535     True\n",
      "42536    False\n",
      "42537    False\n",
      "Name: grade, Length: 42538, dtype: bool\n"
     ]
    }
   ],
   "source": [
    "grade_filter = raw_data.grade == 'A'\n",
    "print(type(grade_filter))\n",
    "print(grade_filter)"
   ]
  },
  {
   "cell_type": "code",
   "execution_count": 29,
   "metadata": {},
   "outputs": [
    {
     "data": {
      "text/html": [
       "<div>\n",
       "<style scoped>\n",
       "    .dataframe tbody tr th:only-of-type {\n",
       "        vertical-align: middle;\n",
       "    }\n",
       "\n",
       "    .dataframe tbody tr th {\n",
       "        vertical-align: top;\n",
       "    }\n",
       "\n",
       "    .dataframe thead th {\n",
       "        text-align: right;\n",
       "    }\n",
       "</style>\n",
       "<table border=\"1\" class=\"dataframe\">\n",
       "  <thead>\n",
       "    <tr style=\"text-align: right;\">\n",
       "      <th></th>\n",
       "      <th>loan_amnt</th>\n",
       "      <th>term</th>\n",
       "      <th>int_rate</th>\n",
       "      <th>funded_amnt</th>\n",
       "      <th>grade</th>\n",
       "      <th>annual_inc</th>\n",
       "      <th>dti</th>\n",
       "      <th>hardship_loan_status</th>\n",
       "      <th>delinq_2yrs</th>\n",
       "      <th>last_pymnt_amnt</th>\n",
       "      <th>emp_length</th>\n",
       "      <th>loan_status</th>\n",
       "      <th>home_ownership</th>\n",
       "      <th>tax_liens</th>\n",
       "    </tr>\n",
       "  </thead>\n",
       "  <tbody>\n",
       "    <tr>\n",
       "      <th>5</th>\n",
       "      <td>5000.0</td>\n",
       "      <td>36 months</td>\n",
       "      <td>7.90%</td>\n",
       "      <td>5000.0</td>\n",
       "      <td>A</td>\n",
       "      <td>36000.00</td>\n",
       "      <td>11.20</td>\n",
       "      <td>NaN</td>\n",
       "      <td>0.0</td>\n",
       "      <td>161.03</td>\n",
       "      <td>3 years</td>\n",
       "      <td>Fully Paid</td>\n",
       "      <td>RENT</td>\n",
       "      <td>0.0</td>\n",
       "    </tr>\n",
       "    <tr>\n",
       "      <th>17</th>\n",
       "      <td>3600.0</td>\n",
       "      <td>36 months</td>\n",
       "      <td>6.03%</td>\n",
       "      <td>3600.0</td>\n",
       "      <td>A</td>\n",
       "      <td>110000.00</td>\n",
       "      <td>10.52</td>\n",
       "      <td>NaN</td>\n",
       "      <td>0.0</td>\n",
       "      <td>583.45</td>\n",
       "      <td>10+ years</td>\n",
       "      <td>Fully Paid</td>\n",
       "      <td>MORTGAGE</td>\n",
       "      <td>0.0</td>\n",
       "    </tr>\n",
       "    <tr>\n",
       "      <th>19</th>\n",
       "      <td>9200.0</td>\n",
       "      <td>36 months</td>\n",
       "      <td>6.03%</td>\n",
       "      <td>9200.0</td>\n",
       "      <td>A</td>\n",
       "      <td>77385.19</td>\n",
       "      <td>9.86</td>\n",
       "      <td>NaN</td>\n",
       "      <td>0.0</td>\n",
       "      <td>8061.10</td>\n",
       "      <td>6 years</td>\n",
       "      <td>Fully Paid</td>\n",
       "      <td>RENT</td>\n",
       "      <td>0.0</td>\n",
       "    </tr>\n",
       "    <tr>\n",
       "      <th>30</th>\n",
       "      <td>4375.0</td>\n",
       "      <td>36 months</td>\n",
       "      <td>7.51%</td>\n",
       "      <td>4375.0</td>\n",
       "      <td>A</td>\n",
       "      <td>17108.00</td>\n",
       "      <td>20.34</td>\n",
       "      <td>NaN</td>\n",
       "      <td>0.0</td>\n",
       "      <td>144.94</td>\n",
       "      <td>7 years</td>\n",
       "      <td>Fully Paid</td>\n",
       "      <td>MORTGAGE</td>\n",
       "      <td>0.0</td>\n",
       "    </tr>\n",
       "    <tr>\n",
       "      <th>31</th>\n",
       "      <td>31825.0</td>\n",
       "      <td>36 months</td>\n",
       "      <td>7.90%</td>\n",
       "      <td>31825.0</td>\n",
       "      <td>A</td>\n",
       "      <td>75000.00</td>\n",
       "      <td>14.03</td>\n",
       "      <td>NaN</td>\n",
       "      <td>0.0</td>\n",
       "      <td>16966.70</td>\n",
       "      <td>5 years</td>\n",
       "      <td>Fully Paid</td>\n",
       "      <td>MORTGAGE</td>\n",
       "      <td>0.0</td>\n",
       "    </tr>\n",
       "  </tbody>\n",
       "</table>\n",
       "</div>"
      ],
      "text/plain": [
       "    loan_amnt        term int_rate  funded_amnt grade  annual_inc    dti  \\\n",
       "5      5000.0   36 months    7.90%       5000.0     A    36000.00  11.20   \n",
       "17     3600.0   36 months    6.03%       3600.0     A   110000.00  10.52   \n",
       "19     9200.0   36 months    6.03%       9200.0     A    77385.19   9.86   \n",
       "30     4375.0   36 months    7.51%       4375.0     A    17108.00  20.34   \n",
       "31    31825.0   36 months    7.90%      31825.0     A    75000.00  14.03   \n",
       "\n",
       "    hardship_loan_status  delinq_2yrs  last_pymnt_amnt emp_length loan_status  \\\n",
       "5                    NaN          0.0           161.03    3 years  Fully Paid   \n",
       "17                   NaN          0.0           583.45  10+ years  Fully Paid   \n",
       "19                   NaN          0.0          8061.10    6 years  Fully Paid   \n",
       "30                   NaN          0.0           144.94    7 years  Fully Paid   \n",
       "31                   NaN          0.0         16966.70    5 years  Fully Paid   \n",
       "\n",
       "   home_ownership  tax_liens  \n",
       "5            RENT        0.0  \n",
       "17       MORTGAGE        0.0  \n",
       "19           RENT        0.0  \n",
       "30       MORTGAGE        0.0  \n",
       "31       MORTGAGE        0.0  "
      ]
     },
     "execution_count": 29,
     "metadata": {},
     "output_type": "execute_result"
    }
   ],
   "source": [
    "raw_data[grade_filter].head() # ersten 5 Werte\n",
    "# raw_data[grade_filter].tail() # letzten 5 Werte"
   ]
  },
  {
   "cell_type": "markdown",
   "metadata": {},
   "source": [
    "<center><i>**Congratulations! At this point you've mastered the most important pieces for working with data in Pandas!**<i></center>"
   ]
  },
  {
   "cell_type": "markdown",
   "metadata": {},
   "source": [
    "## Fehlende Werte (Missing Values)\n",
    "Die meisten Algorithmen gehen davon aus, dass alle Werte verfügbar sind und können fehlende Daten nicht verarbeiten. Die Vorgehensweise, die für fehlende Werte zu ergreifen ist, hängt sowohl vom Verhältnis fehlender zu den Gesamtwerten als auch von der Anwendungs-/Variablenbedeutung ab.\n",
    "\n",
    "Für Variablen mit hoher Missingquote: \n",
    "- Lassen Sie die Variable fallen, da sie wahrscheinlich nutzlos ist, da so viele Werte fehlen;\n",
    "        \n",
    "Für Variablen mit geringer Missingquote können wir mehrere Ansätze verfolgen:\n",
    "- Zeilen mit fehlenden Werten löschen;\n",
    "- fehlende Werte ersetzen durch\n",
    "  - Mittelwert\n",
    "  - Median (besser als Mean)\n",
    "  - Extremwerte für den Fall, dass wir konservativ sein müssen (prüfen Sie den Anwendungsfall)\n",
    "  - Vorhersage der fehlenden Werte anhand anderer Variablen"
   ]
  },
  {
   "cell_type": "markdown",
   "metadata": {},
   "source": [
    "### Prüfen auf fehlende Werte\n",
    "\n",
    "Überprüfen wir Null-Werte - fehlende Datenzellen für einzelne Kredite. \n",
    "Gibt es Variablen, die wir verwerfen würden?"
   ]
  },
  {
   "cell_type": "code",
   "execution_count": 30,
   "metadata": {
    "scrolled": true
   },
   "outputs": [
    {
     "data": {
      "text/plain": [
       "loan_amnt                   3\n",
       "term                        3\n",
       "int_rate                    3\n",
       "funded_amnt                 3\n",
       "grade                       3\n",
       "annual_inc                  7\n",
       "dti                         3\n",
       "hardship_loan_status    42538\n",
       "delinq_2yrs                32\n",
       "last_pymnt_amnt             3\n",
       "emp_length               1115\n",
       "loan_status                 3\n",
       "home_ownership              3\n",
       "tax_liens                 108\n",
       "dtype: int64"
      ]
     },
     "execution_count": 30,
     "metadata": {},
     "output_type": "execute_result"
    }
   ],
   "source": [
    "raw_data.isnull().sum(axis=0) #Summe der fehlenden Werte pro Spalte (axis=0 für Zeilen) -> Summe über die Zeilen"
   ]
  },
  {
   "cell_type": "markdown",
   "metadata": {},
   "source": [
    "### Entfernen von hardship_loan_status aus dem Dataframe\n",
    "Hinweis: Überprüfen Sie den Befehl `.drop()` in einem Pandas-Dataframe\n",
    "\n",
    "Beachten Sie, dass sich das Argument `axis=0` auf Zeilenindizes bezieht, sodass es beim Entfernen einer Zeile verwendet wird,\n",
    "<br/>\n",
    "und `axis=1` bedeutet Spaltenindizes, sodass es beim Entfernen einer Spalte verwendet wird."
   ]
  },
  {
   "cell_type": "code",
   "execution_count": 31,
   "metadata": {},
   "outputs": [],
   "source": [
    "raw_data = raw_data.drop(['hardship_loan_status'], axis=1) #axis=1 droppt Spalten und axis=0 droppt Zeilen"
   ]
  },
  {
   "cell_type": "code",
   "execution_count": 32,
   "metadata": {},
   "outputs": [
    {
     "data": {
      "text/plain": [
       "loan_amnt             3\n",
       "term                  3\n",
       "int_rate              3\n",
       "funded_amnt           3\n",
       "grade                 3\n",
       "annual_inc            7\n",
       "dti                   3\n",
       "delinq_2yrs          32\n",
       "last_pymnt_amnt       3\n",
       "emp_length         1115\n",
       "loan_status           3\n",
       "home_ownership        3\n",
       "tax_liens           108\n",
       "dtype: int64"
      ]
     },
     "execution_count": 32,
     "metadata": {},
     "output_type": "execute_result"
    }
   ],
   "source": [
    "raw_data.isnull().sum(axis=0) #Spalte wurde entfernt"
   ]
  },
  {
   "cell_type": "markdown",
   "metadata": {},
   "source": [
    "### Entfernen Sie alle Zeilen mit fehlenden Werten"
   ]
  },
  {
   "cell_type": "code",
   "execution_count": 33,
   "metadata": {},
   "outputs": [],
   "source": [
    "raw_data = raw_data.dropna() # alle NAs werden gelöscht"
   ]
  },
  {
   "cell_type": "code",
   "execution_count": 34,
   "metadata": {},
   "outputs": [
    {
     "data": {
      "text/plain": [
       "loan_amnt          0\n",
       "term               0\n",
       "int_rate           0\n",
       "funded_amnt        0\n",
       "grade              0\n",
       "annual_inc         0\n",
       "dti                0\n",
       "delinq_2yrs        0\n",
       "last_pymnt_amnt    0\n",
       "emp_length         0\n",
       "loan_status        0\n",
       "home_ownership     0\n",
       "tax_liens          0\n",
       "dtype: int64"
      ]
     },
     "execution_count": 34,
     "metadata": {},
     "output_type": "execute_result"
    }
   ],
   "source": [
    "#Check null values again\n",
    "raw_data.isnull().sum(axis=0) #alle NAs sind weg"
   ]
  },
  {
   "cell_type": "code",
   "execution_count": 35,
   "metadata": {},
   "outputs": [
    {
     "name": "stdout",
     "output_type": "stream",
     "text": [
      "<class 'pandas.core.frame.DataFrame'>\n",
      "Int64Index: 41318 entries, 0 to 42478\n",
      "Data columns (total 13 columns):\n",
      " #   Column           Non-Null Count  Dtype  \n",
      "---  ------           --------------  -----  \n",
      " 0   loan_amnt        41318 non-null  float64\n",
      " 1   term             41318 non-null  object \n",
      " 2   int_rate         41318 non-null  object \n",
      " 3   funded_amnt      41318 non-null  float64\n",
      " 4   grade            41318 non-null  object \n",
      " 5   annual_inc       41318 non-null  float64\n",
      " 6   dti              41318 non-null  float64\n",
      " 7   delinq_2yrs      41318 non-null  float64\n",
      " 8   last_pymnt_amnt  41318 non-null  float64\n",
      " 9   emp_length       41318 non-null  object \n",
      " 10  loan_status      41318 non-null  object \n",
      " 11  home_ownership   41318 non-null  object \n",
      " 12  tax_liens        41318 non-null  float64\n",
      "dtypes: float64(7), object(6)\n",
      "memory usage: 4.4+ MB\n"
     ]
    }
   ],
   "source": [
    "raw_data.info() #Zeilen wurden gelöscht"
   ]
  },
  {
   "cell_type": "markdown",
   "metadata": {},
   "source": [
    "## Duplikate\n",
    "\n",
    "Es kann verschiedene Gründe für doppelte/mehrere Datensätze für ein Darlehen geben:\n",
    "    - doppelte Zeilen\n",
    "    - Kredithistorie wird über die Zeit verfolgt\n",
    "\n",
    "Für unseren Datensatz trifft der letzte Fall nicht zu, d.h., wenn es mehrere Datensätze gibt, kann dies nur auf Duplizierung zurückzuführen sein. In diesem Fall gibt es jedoch einen eindeutigen Datensatz für jeden Kredit,\n",
    "wir müssen uns also in unserem Fall keine Sorgen um diesen Schritt machen.\n",
    "\n",
    "Um Duplikate zu entfernen, schauen Sie sich die `drop_duplicates()` Methode an."
   ]
  },
  {
   "cell_type": "markdown",
   "metadata": {},
   "source": [
    "## Transformieren und Bereinigen einzelner Spalten"
   ]
  },
  {
   "cell_type": "markdown",
   "metadata": {},
   "source": [
    "### Erstellen einer neuen binären numerischen Spalte für die Vorhersage\n",
    "Nehmen wir an, dass wir den Datensatz verwenden möchten um ein Modell zur Prognose von Kreditausfällen zu erstellen. Wir benötigen dafür eine Variable mit zwei Werten, die angibt, ob das spezifische Darlehen zurückgezahlt wurde oder in Verzug ist. Am besten ist es in diesem Fall mit numerischen Spalten zu arbeiten, d.h., die beiden Werte in einer 1:0-Spalte darzustellen. Verwenden wir die Spalte \"`loan_status`\"."
   ]
  },
  {
   "cell_type": "markdown",
   "metadata": {},
   "source": [
    "**Prüfen Sie die Werte der Kreditstatusvariablen und behalten Sie nur relevante Werte**"
   ]
  },
  {
   "cell_type": "code",
   "execution_count": 36,
   "metadata": {},
   "outputs": [
    {
     "data": {
      "text/plain": [
       "Fully Paid                                             33230\n",
       "Charged Off                                             5439\n",
       "Does not meet the credit policy. Status:Fully Paid      1913\n",
       "Does not meet the credit policy. Status:Charged Off      736\n",
       "Name: loan_status, dtype: int64"
      ]
     },
     "execution_count": 36,
     "metadata": {},
     "output_type": "execute_result"
    }
   ],
   "source": [
    "raw_data.loan_status.value_counts() #charged off = abgeschrieben/nicht bezahlt"
   ]
  },
  {
   "cell_type": "markdown",
   "metadata": {},
   "source": [
    "Lassen Sie uns nur die Kredite mit dem Status `Vollständig bezahlt` und `Abgeschrieben` behalten, da die anderen Sonderfälle sind und für diese Analyse nicht von Interesse sind.\n",
    "Um dies zu erreichen, filtern wir die Daten so, dass sie nur Kredite mit diesen beiden Ausprägungen enthalten."
   ]
  },
  {
   "cell_type": "code",
   "execution_count": 37,
   "metadata": {},
   "outputs": [],
   "source": [
    "raw_data = raw_data[(raw_data['loan_status'] == 'Fully Paid') | (raw_data['loan_status'] == 'Charged Off')]\n",
    "# Nur die Stati 'fully paid' und 'charged off' von Bedeutung"
   ]
  },
  {
   "cell_type": "code",
   "execution_count": 38,
   "metadata": {},
   "outputs": [
    {
     "data": {
      "text/plain": [
       "Fully Paid     33230\n",
       "Charged Off     5439\n",
       "Name: loan_status, dtype: int64"
      ]
     },
     "execution_count": 38,
     "metadata": {},
     "output_type": "execute_result"
    }
   ],
   "source": [
    "raw_data.loan_status.value_counts()"
   ]
  },
  {
   "cell_type": "markdown",
   "metadata": {},
   "source": [
    "**Zuordnen von Kategoriewerten zu einer neu erstellten 1:0-Spalte**"
   ]
  },
  {
   "cell_type": "code",
   "execution_count": 39,
   "metadata": {},
   "outputs": [
    {
     "data": {
      "text/plain": [
       "0     Fully Paid\n",
       "1    Charged Off\n",
       "2     Fully Paid\n",
       "3     Fully Paid\n",
       "4     Fully Paid\n",
       "5     Fully Paid\n",
       "6     Fully Paid\n",
       "7     Fully Paid\n",
       "8    Charged Off\n",
       "9    Charged Off\n",
       "Name: loan_status, dtype: object"
      ]
     },
     "execution_count": 39,
     "metadata": {},
     "output_type": "execute_result"
    }
   ],
   "source": [
    "#Let's check the first 10 loans\n",
    "raw_data.loan_status[:10]"
   ]
  },
  {
   "cell_type": "markdown",
   "metadata": {},
   "source": [
    "Wir können ein Wörterbuch (Objekttyp `Dictionary`) erstellen und es für die Übersetzung verwenden."
   ]
  },
  {
   "cell_type": "code",
   "execution_count": 40,
   "metadata": {},
   "outputs": [
    {
     "data": {
      "text/plain": [
       "{'Fully Paid': 0, 'Charged Off': 1}"
      ]
     },
     "execution_count": 40,
     "metadata": {},
     "output_type": "execute_result"
    }
   ],
   "source": [
    "#Create a dictionary to use for translation\n",
    "def_map = {'Fully Paid': 0, 'Charged Off': 1} # Zeichenkette/Schlüssel 'fully paid' wird Wert 0 zugewiesen und ...\n",
    "def_map"
   ]
  },
  {
   "cell_type": "markdown",
   "metadata": {},
   "source": [
    "Wir können den Befehl `.map()` verwenden, um eine Funktion oder ein Zuordnungswörterbuch auf jede Zeile des Dataframes anzuwenden."
   ]
  },
  {
   "cell_type": "code",
   "execution_count": 41,
   "metadata": {
    "scrolled": true
   },
   "outputs": [
    {
     "data": {
      "text/plain": [
       "0    0\n",
       "1    1\n",
       "2    0\n",
       "3    0\n",
       "4    0\n",
       "5    0\n",
       "6    0\n",
       "7    0\n",
       "8    1\n",
       "9    1\n",
       "Name: loan_status, dtype: int64"
      ]
     },
     "execution_count": 41,
     "metadata": {},
     "output_type": "execute_result"
    }
   ],
   "source": [
    "#Check how mapping the values works\n",
    "raw_data.loan_status.map(def_map)[:10] # binäre Zielvariablen"
   ]
  },
  {
   "cell_type": "code",
   "execution_count": 42,
   "metadata": {},
   "outputs": [],
   "source": [
    "#Create the new column\n",
    "raw_data['defaulted'] = raw_data.loan_status.map(def_map)\n",
    "# raw_data"
   ]
  },
  {
   "cell_type": "markdown",
   "metadata": {},
   "source": [
    "Entfernen wir die ursprüngliche Spalte `loan_status`"
   ]
  },
  {
   "cell_type": "code",
   "execution_count": 43,
   "metadata": {},
   "outputs": [],
   "source": [
    "raw_data = raw_data.drop('loan_status', axis=1)"
   ]
  },
  {
   "cell_type": "code",
   "execution_count": 44,
   "metadata": {
    "scrolled": true
   },
   "outputs": [
    {
     "data": {
      "text/html": [
       "<div>\n",
       "<style scoped>\n",
       "    .dataframe tbody tr th:only-of-type {\n",
       "        vertical-align: middle;\n",
       "    }\n",
       "\n",
       "    .dataframe tbody tr th {\n",
       "        vertical-align: top;\n",
       "    }\n",
       "\n",
       "    .dataframe thead th {\n",
       "        text-align: right;\n",
       "    }\n",
       "</style>\n",
       "<table border=\"1\" class=\"dataframe\">\n",
       "  <thead>\n",
       "    <tr style=\"text-align: right;\">\n",
       "      <th></th>\n",
       "      <th>loan_amnt</th>\n",
       "      <th>term</th>\n",
       "      <th>int_rate</th>\n",
       "      <th>funded_amnt</th>\n",
       "      <th>grade</th>\n",
       "      <th>annual_inc</th>\n",
       "      <th>dti</th>\n",
       "      <th>delinq_2yrs</th>\n",
       "      <th>last_pymnt_amnt</th>\n",
       "      <th>emp_length</th>\n",
       "      <th>home_ownership</th>\n",
       "      <th>tax_liens</th>\n",
       "      <th>defaulted</th>\n",
       "    </tr>\n",
       "  </thead>\n",
       "  <tbody>\n",
       "    <tr>\n",
       "      <th>0</th>\n",
       "      <td>5000.0</td>\n",
       "      <td>36 months</td>\n",
       "      <td>10.65%</td>\n",
       "      <td>5000.0</td>\n",
       "      <td>B</td>\n",
       "      <td>24000.0</td>\n",
       "      <td>27.65</td>\n",
       "      <td>0.0</td>\n",
       "      <td>171.62</td>\n",
       "      <td>10+ years</td>\n",
       "      <td>RENT</td>\n",
       "      <td>0.0</td>\n",
       "      <td>0</td>\n",
       "    </tr>\n",
       "    <tr>\n",
       "      <th>1</th>\n",
       "      <td>2500.0</td>\n",
       "      <td>60 months</td>\n",
       "      <td>15.27%</td>\n",
       "      <td>2500.0</td>\n",
       "      <td>C</td>\n",
       "      <td>30000.0</td>\n",
       "      <td>1.00</td>\n",
       "      <td>0.0</td>\n",
       "      <td>119.66</td>\n",
       "      <td>&lt; 1 year</td>\n",
       "      <td>RENT</td>\n",
       "      <td>0.0</td>\n",
       "      <td>1</td>\n",
       "    </tr>\n",
       "    <tr>\n",
       "      <th>2</th>\n",
       "      <td>2400.0</td>\n",
       "      <td>36 months</td>\n",
       "      <td>15.96%</td>\n",
       "      <td>2400.0</td>\n",
       "      <td>C</td>\n",
       "      <td>12252.0</td>\n",
       "      <td>8.72</td>\n",
       "      <td>0.0</td>\n",
       "      <td>649.91</td>\n",
       "      <td>10+ years</td>\n",
       "      <td>RENT</td>\n",
       "      <td>0.0</td>\n",
       "      <td>0</td>\n",
       "    </tr>\n",
       "    <tr>\n",
       "      <th>3</th>\n",
       "      <td>10000.0</td>\n",
       "      <td>36 months</td>\n",
       "      <td>13.49%</td>\n",
       "      <td>10000.0</td>\n",
       "      <td>C</td>\n",
       "      <td>49200.0</td>\n",
       "      <td>20.00</td>\n",
       "      <td>0.0</td>\n",
       "      <td>357.48</td>\n",
       "      <td>10+ years</td>\n",
       "      <td>RENT</td>\n",
       "      <td>0.0</td>\n",
       "      <td>0</td>\n",
       "    </tr>\n",
       "    <tr>\n",
       "      <th>4</th>\n",
       "      <td>3000.0</td>\n",
       "      <td>60 months</td>\n",
       "      <td>12.69%</td>\n",
       "      <td>3000.0</td>\n",
       "      <td>B</td>\n",
       "      <td>80000.0</td>\n",
       "      <td>17.94</td>\n",
       "      <td>0.0</td>\n",
       "      <td>67.30</td>\n",
       "      <td>1 year</td>\n",
       "      <td>RENT</td>\n",
       "      <td>0.0</td>\n",
       "      <td>0</td>\n",
       "    </tr>\n",
       "  </tbody>\n",
       "</table>\n",
       "</div>"
      ],
      "text/plain": [
       "   loan_amnt        term int_rate  funded_amnt grade  annual_inc    dti  \\\n",
       "0     5000.0   36 months   10.65%       5000.0     B     24000.0  27.65   \n",
       "1     2500.0   60 months   15.27%       2500.0     C     30000.0   1.00   \n",
       "2     2400.0   36 months   15.96%       2400.0     C     12252.0   8.72   \n",
       "3    10000.0   36 months   13.49%      10000.0     C     49200.0  20.00   \n",
       "4     3000.0   60 months   12.69%       3000.0     B     80000.0  17.94   \n",
       "\n",
       "   delinq_2yrs  last_pymnt_amnt emp_length home_ownership  tax_liens  \\\n",
       "0          0.0           171.62  10+ years           RENT        0.0   \n",
       "1          0.0           119.66   < 1 year           RENT        0.0   \n",
       "2          0.0           649.91  10+ years           RENT        0.0   \n",
       "3          0.0           357.48  10+ years           RENT        0.0   \n",
       "4          0.0            67.30     1 year           RENT        0.0   \n",
       "\n",
       "   defaulted  \n",
       "0          0  \n",
       "1          1  \n",
       "2          0  \n",
       "3          0  \n",
       "4          0  "
      ]
     },
     "execution_count": 44,
     "metadata": {},
     "output_type": "execute_result"
    }
   ],
   "source": [
    "raw_data.head()"
   ]
  },
  {
   "cell_type": "markdown",
   "metadata": {
    "collapsed": true
   },
   "source": [
    "### Erstellen einer numerischen Variable aus `emp_length`"
   ]
  },
  {
   "cell_type": "markdown",
   "metadata": {},
   "source": [
    "Lassen Sie uns die Vorbereitungen für die Entwicklung eines Modells zur Prognose von Kreditausfällen fortsetzen. Wir haben immer noch kategoriale Variablen, von denen wir glauben, dass sie für die Vorhersage von Ausfällen sinnvoll sein könnten. Wir stellen diese Informationen nun in numerischen Spalten dar."
   ]
  },
  {
   "cell_type": "code",
   "execution_count": 45,
   "metadata": {},
   "outputs": [
    {
     "data": {
      "text/plain": [
       "array(['10+ years', '< 1 year', '1 year', '3 years', '8 years', '9 years',\n",
       "       '4 years', '5 years', '6 years', '2 years', '7 years'],\n",
       "      dtype=object)"
      ]
     },
     "execution_count": 45,
     "metadata": {},
     "output_type": "execute_result"
    }
   ],
   "source": [
    "raw_data.emp_length.unique()"
   ]
  },
  {
   "cell_type": "code",
   "execution_count": 46,
   "metadata": {},
   "outputs": [],
   "source": [
    "emp_map1 = {} #leeres dictionary\n",
    "for i in range (2,10):\n",
    "    key = str(i) + ' years'\n",
    "    value = i\n",
    "    emp_map1[key] = value"
   ]
  },
  {
   "cell_type": "code",
   "execution_count": 47,
   "metadata": {},
   "outputs": [
    {
     "data": {
      "text/plain": [
       "{'2 years': 2,\n",
       " '3 years': 3,\n",
       " '4 years': 4,\n",
       " '5 years': 5,\n",
       " '6 years': 6,\n",
       " '7 years': 7,\n",
       " '8 years': 8,\n",
       " '9 years': 9}"
      ]
     },
     "execution_count": 47,
     "metadata": {},
     "output_type": "execute_result"
    }
   ],
   "source": [
    "emp_map1"
   ]
  },
  {
   "cell_type": "code",
   "execution_count": 48,
   "metadata": {},
   "outputs": [
    {
     "data": {
      "text/plain": [
       "{'2 years': 2,\n",
       " '3 years': 3,\n",
       " '4 years': 4,\n",
       " '5 years': 5,\n",
       " '6 years': 6,\n",
       " '7 years': 7,\n",
       " '8 years': 8,\n",
       " '9 years': 9}"
      ]
     },
     "execution_count": 48,
     "metadata": {},
     "output_type": "execute_result"
    }
   ],
   "source": [
    "emp_map = {str(i) + ' years' : i for i in range(2,10)} # alles in einer Zeile; nicht nötig\n",
    "emp_map"
   ]
  },
  {
   "cell_type": "code",
   "execution_count": 49,
   "metadata": {
    "scrolled": true
   },
   "outputs": [
    {
     "data": {
      "text/plain": [
       "{'2 years': 2,\n",
       " '3 years': 3,\n",
       " '4 years': 4,\n",
       " '5 years': 5,\n",
       " '6 years': 6,\n",
       " '7 years': 7,\n",
       " '8 years': 8,\n",
       " '9 years': 9,\n",
       " '< 1 year': 0,\n",
       " 'n/a': 0,\n",
       " '10+ years': 10,\n",
       " '1 year': 1}"
      ]
     },
     "execution_count": 49,
     "metadata": {},
     "output_type": "execute_result"
    }
   ],
   "source": [
    "emp_map['< 1 year'] = 0\n",
    "emp_map['n/a'] = 0\n",
    "emp_map['10+ years'] = 10\n",
    "emp_map['1 year'] = 1\n",
    "emp_map"
   ]
  },
  {
   "cell_type": "code",
   "execution_count": 50,
   "metadata": {},
   "outputs": [
    {
     "data": {
      "text/plain": [
       "0    10+ years\n",
       "1     < 1 year\n",
       "2    10+ years\n",
       "3    10+ years\n",
       "4       1 year\n",
       "5      3 years\n",
       "6      8 years\n",
       "7      9 years\n",
       "8      4 years\n",
       "9     < 1 year\n",
       "Name: emp_length, dtype: object"
      ]
     },
     "execution_count": 50,
     "metadata": {},
     "output_type": "execute_result"
    }
   ],
   "source": [
    "raw_data.emp_length[:10]"
   ]
  },
  {
   "cell_type": "code",
   "execution_count": 51,
   "metadata": {},
   "outputs": [
    {
     "data": {
      "text/plain": [
       "0    10\n",
       "1     0\n",
       "2    10\n",
       "3    10\n",
       "4     1\n",
       "5     3\n",
       "6     8\n",
       "7     9\n",
       "8     4\n",
       "9     0\n",
       "Name: emp_length, dtype: int64"
      ]
     },
     "execution_count": 51,
     "metadata": {},
     "output_type": "execute_result"
    }
   ],
   "source": [
    "raw_data.emp_length.map(emp_map)[:10]"
   ]
  },
  {
   "cell_type": "code",
   "execution_count": 52,
   "metadata": {},
   "outputs": [
    {
     "data": {
      "text/plain": [
       "array([10,  0,  1,  3,  8,  9,  4,  5,  6,  2,  7], dtype=int64)"
      ]
     },
     "execution_count": 52,
     "metadata": {},
     "output_type": "execute_result"
    }
   ],
   "source": [
    "#Overwrite the column\n",
    "raw_data.emp_length = raw_data.emp_length.map(emp_map)\n",
    "raw_data.emp_length.unique()"
   ]
  },
  {
   "cell_type": "code",
   "execution_count": 53,
   "metadata": {
    "scrolled": true
   },
   "outputs": [
    {
     "data": {
      "text/html": [
       "<div>\n",
       "<style scoped>\n",
       "    .dataframe tbody tr th:only-of-type {\n",
       "        vertical-align: middle;\n",
       "    }\n",
       "\n",
       "    .dataframe tbody tr th {\n",
       "        vertical-align: top;\n",
       "    }\n",
       "\n",
       "    .dataframe thead th {\n",
       "        text-align: right;\n",
       "    }\n",
       "</style>\n",
       "<table border=\"1\" class=\"dataframe\">\n",
       "  <thead>\n",
       "    <tr style=\"text-align: right;\">\n",
       "      <th></th>\n",
       "      <th>loan_amnt</th>\n",
       "      <th>term</th>\n",
       "      <th>int_rate</th>\n",
       "      <th>funded_amnt</th>\n",
       "      <th>grade</th>\n",
       "      <th>annual_inc</th>\n",
       "      <th>dti</th>\n",
       "      <th>delinq_2yrs</th>\n",
       "      <th>last_pymnt_amnt</th>\n",
       "      <th>emp_length</th>\n",
       "      <th>home_ownership</th>\n",
       "      <th>tax_liens</th>\n",
       "      <th>defaulted</th>\n",
       "    </tr>\n",
       "  </thead>\n",
       "  <tbody>\n",
       "    <tr>\n",
       "      <th>0</th>\n",
       "      <td>5000.0</td>\n",
       "      <td>36 months</td>\n",
       "      <td>10.65%</td>\n",
       "      <td>5000.0</td>\n",
       "      <td>B</td>\n",
       "      <td>24000.0</td>\n",
       "      <td>27.65</td>\n",
       "      <td>0.0</td>\n",
       "      <td>171.62</td>\n",
       "      <td>10</td>\n",
       "      <td>RENT</td>\n",
       "      <td>0.0</td>\n",
       "      <td>0</td>\n",
       "    </tr>\n",
       "    <tr>\n",
       "      <th>1</th>\n",
       "      <td>2500.0</td>\n",
       "      <td>60 months</td>\n",
       "      <td>15.27%</td>\n",
       "      <td>2500.0</td>\n",
       "      <td>C</td>\n",
       "      <td>30000.0</td>\n",
       "      <td>1.00</td>\n",
       "      <td>0.0</td>\n",
       "      <td>119.66</td>\n",
       "      <td>0</td>\n",
       "      <td>RENT</td>\n",
       "      <td>0.0</td>\n",
       "      <td>1</td>\n",
       "    </tr>\n",
       "    <tr>\n",
       "      <th>2</th>\n",
       "      <td>2400.0</td>\n",
       "      <td>36 months</td>\n",
       "      <td>15.96%</td>\n",
       "      <td>2400.0</td>\n",
       "      <td>C</td>\n",
       "      <td>12252.0</td>\n",
       "      <td>8.72</td>\n",
       "      <td>0.0</td>\n",
       "      <td>649.91</td>\n",
       "      <td>10</td>\n",
       "      <td>RENT</td>\n",
       "      <td>0.0</td>\n",
       "      <td>0</td>\n",
       "    </tr>\n",
       "    <tr>\n",
       "      <th>3</th>\n",
       "      <td>10000.0</td>\n",
       "      <td>36 months</td>\n",
       "      <td>13.49%</td>\n",
       "      <td>10000.0</td>\n",
       "      <td>C</td>\n",
       "      <td>49200.0</td>\n",
       "      <td>20.00</td>\n",
       "      <td>0.0</td>\n",
       "      <td>357.48</td>\n",
       "      <td>10</td>\n",
       "      <td>RENT</td>\n",
       "      <td>0.0</td>\n",
       "      <td>0</td>\n",
       "    </tr>\n",
       "    <tr>\n",
       "      <th>4</th>\n",
       "      <td>3000.0</td>\n",
       "      <td>60 months</td>\n",
       "      <td>12.69%</td>\n",
       "      <td>3000.0</td>\n",
       "      <td>B</td>\n",
       "      <td>80000.0</td>\n",
       "      <td>17.94</td>\n",
       "      <td>0.0</td>\n",
       "      <td>67.30</td>\n",
       "      <td>1</td>\n",
       "      <td>RENT</td>\n",
       "      <td>0.0</td>\n",
       "      <td>0</td>\n",
       "    </tr>\n",
       "  </tbody>\n",
       "</table>\n",
       "</div>"
      ],
      "text/plain": [
       "   loan_amnt        term int_rate  funded_amnt grade  annual_inc    dti  \\\n",
       "0     5000.0   36 months   10.65%       5000.0     B     24000.0  27.65   \n",
       "1     2500.0   60 months   15.27%       2500.0     C     30000.0   1.00   \n",
       "2     2400.0   36 months   15.96%       2400.0     C     12252.0   8.72   \n",
       "3    10000.0   36 months   13.49%      10000.0     C     49200.0  20.00   \n",
       "4     3000.0   60 months   12.69%       3000.0     B     80000.0  17.94   \n",
       "\n",
       "   delinq_2yrs  last_pymnt_amnt  emp_length home_ownership  tax_liens  \\\n",
       "0          0.0           171.62          10           RENT        0.0   \n",
       "1          0.0           119.66           0           RENT        0.0   \n",
       "2          0.0           649.91          10           RENT        0.0   \n",
       "3          0.0           357.48          10           RENT        0.0   \n",
       "4          0.0            67.30           1           RENT        0.0   \n",
       "\n",
       "   defaulted  \n",
       "0          0  \n",
       "1          1  \n",
       "2          0  \n",
       "3          0  \n",
       "4          0  "
      ]
     },
     "execution_count": 53,
     "metadata": {},
     "output_type": "execute_result"
    }
   ],
   "source": [
    "raw_data.head()"
   ]
  },
  {
   "cell_type": "markdown",
   "metadata": {},
   "source": [
    "### Übung: Erstellen Sie eine numerische Variable aus `grade`\n",
    "\n",
    "Lassen Sie uns den gleichen Prozess für `grade` durchführen. Hier können wir die Ordinalstruktur der Grades verwenden, um eine numerische Spalte zu erstellen."
   ]
  },
  {
   "cell_type": "code",
   "execution_count": 54,
   "metadata": {
    "code_folding": []
   },
   "outputs": [
    {
     "data": {
      "text/plain": [
       "array(['B', 'C', 'A', 'E', 'F', 'D', 'G'], dtype=object)"
      ]
     },
     "execution_count": 54,
     "metadata": {},
     "output_type": "execute_result"
    }
   ],
   "source": [
    "#Check unique values\n",
    "raw_data.grade.unique()"
   ]
  },
  {
   "cell_type": "code",
   "execution_count": 55,
   "metadata": {},
   "outputs": [
    {
     "data": {
      "text/plain": [
       "{'A': 1, 'B': 2, 'C': 3, 'D': 4, 'E': 5, 'F': 6, 'G': 7}"
      ]
     },
     "execution_count": 55,
     "metadata": {},
     "output_type": "execute_result"
    }
   ],
   "source": [
    "#Create a dictionary to use for translation\n",
    "grade_map = {'A': 1, 'B': 2, 'C': 3, 'D': 4, 'E': 5, 'F': 6, 'G': 7}\n",
    "grade_map"
   ]
  },
  {
   "cell_type": "code",
   "execution_count": 56,
   "metadata": {},
   "outputs": [
    {
     "data": {
      "text/plain": [
       "0    B\n",
       "1    C\n",
       "2    C\n",
       "3    C\n",
       "4    B\n",
       "5    A\n",
       "6    C\n",
       "7    E\n",
       "8    F\n",
       "9    B\n",
       "Name: grade, dtype: object"
      ]
     },
     "execution_count": 56,
     "metadata": {},
     "output_type": "execute_result"
    }
   ],
   "source": [
    "#Check first 10 elements of column `grade`\n",
    "raw_data.grade[:10]"
   ]
  },
  {
   "cell_type": "code",
   "execution_count": 57,
   "metadata": {},
   "outputs": [],
   "source": [
    "#Overwrite the column, use the `map` function\n",
    "raw_data.grade = raw_data.grade.map(grade_map)"
   ]
  },
  {
   "cell_type": "code",
   "execution_count": 58,
   "metadata": {
    "scrolled": true
   },
   "outputs": [
    {
     "data": {
      "text/html": [
       "<div>\n",
       "<style scoped>\n",
       "    .dataframe tbody tr th:only-of-type {\n",
       "        vertical-align: middle;\n",
       "    }\n",
       "\n",
       "    .dataframe tbody tr th {\n",
       "        vertical-align: top;\n",
       "    }\n",
       "\n",
       "    .dataframe thead th {\n",
       "        text-align: right;\n",
       "    }\n",
       "</style>\n",
       "<table border=\"1\" class=\"dataframe\">\n",
       "  <thead>\n",
       "    <tr style=\"text-align: right;\">\n",
       "      <th></th>\n",
       "      <th>loan_amnt</th>\n",
       "      <th>term</th>\n",
       "      <th>int_rate</th>\n",
       "      <th>funded_amnt</th>\n",
       "      <th>grade</th>\n",
       "      <th>annual_inc</th>\n",
       "      <th>dti</th>\n",
       "      <th>delinq_2yrs</th>\n",
       "      <th>last_pymnt_amnt</th>\n",
       "      <th>emp_length</th>\n",
       "      <th>home_ownership</th>\n",
       "      <th>tax_liens</th>\n",
       "      <th>defaulted</th>\n",
       "    </tr>\n",
       "  </thead>\n",
       "  <tbody>\n",
       "    <tr>\n",
       "      <th>0</th>\n",
       "      <td>5000.0</td>\n",
       "      <td>36 months</td>\n",
       "      <td>10.65%</td>\n",
       "      <td>5000.0</td>\n",
       "      <td>2</td>\n",
       "      <td>24000.0</td>\n",
       "      <td>27.65</td>\n",
       "      <td>0.0</td>\n",
       "      <td>171.62</td>\n",
       "      <td>10</td>\n",
       "      <td>RENT</td>\n",
       "      <td>0.0</td>\n",
       "      <td>0</td>\n",
       "    </tr>\n",
       "    <tr>\n",
       "      <th>1</th>\n",
       "      <td>2500.0</td>\n",
       "      <td>60 months</td>\n",
       "      <td>15.27%</td>\n",
       "      <td>2500.0</td>\n",
       "      <td>3</td>\n",
       "      <td>30000.0</td>\n",
       "      <td>1.00</td>\n",
       "      <td>0.0</td>\n",
       "      <td>119.66</td>\n",
       "      <td>0</td>\n",
       "      <td>RENT</td>\n",
       "      <td>0.0</td>\n",
       "      <td>1</td>\n",
       "    </tr>\n",
       "    <tr>\n",
       "      <th>2</th>\n",
       "      <td>2400.0</td>\n",
       "      <td>36 months</td>\n",
       "      <td>15.96%</td>\n",
       "      <td>2400.0</td>\n",
       "      <td>3</td>\n",
       "      <td>12252.0</td>\n",
       "      <td>8.72</td>\n",
       "      <td>0.0</td>\n",
       "      <td>649.91</td>\n",
       "      <td>10</td>\n",
       "      <td>RENT</td>\n",
       "      <td>0.0</td>\n",
       "      <td>0</td>\n",
       "    </tr>\n",
       "    <tr>\n",
       "      <th>3</th>\n",
       "      <td>10000.0</td>\n",
       "      <td>36 months</td>\n",
       "      <td>13.49%</td>\n",
       "      <td>10000.0</td>\n",
       "      <td>3</td>\n",
       "      <td>49200.0</td>\n",
       "      <td>20.00</td>\n",
       "      <td>0.0</td>\n",
       "      <td>357.48</td>\n",
       "      <td>10</td>\n",
       "      <td>RENT</td>\n",
       "      <td>0.0</td>\n",
       "      <td>0</td>\n",
       "    </tr>\n",
       "    <tr>\n",
       "      <th>4</th>\n",
       "      <td>3000.0</td>\n",
       "      <td>60 months</td>\n",
       "      <td>12.69%</td>\n",
       "      <td>3000.0</td>\n",
       "      <td>2</td>\n",
       "      <td>80000.0</td>\n",
       "      <td>17.94</td>\n",
       "      <td>0.0</td>\n",
       "      <td>67.30</td>\n",
       "      <td>1</td>\n",
       "      <td>RENT</td>\n",
       "      <td>0.0</td>\n",
       "      <td>0</td>\n",
       "    </tr>\n",
       "  </tbody>\n",
       "</table>\n",
       "</div>"
      ],
      "text/plain": [
       "   loan_amnt        term int_rate  funded_amnt  grade  annual_inc    dti  \\\n",
       "0     5000.0   36 months   10.65%       5000.0      2     24000.0  27.65   \n",
       "1     2500.0   60 months   15.27%       2500.0      3     30000.0   1.00   \n",
       "2     2400.0   36 months   15.96%       2400.0      3     12252.0   8.72   \n",
       "3    10000.0   36 months   13.49%      10000.0      3     49200.0  20.00   \n",
       "4     3000.0   60 months   12.69%       3000.0      2     80000.0  17.94   \n",
       "\n",
       "   delinq_2yrs  last_pymnt_amnt  emp_length home_ownership  tax_liens  \\\n",
       "0          0.0           171.62          10           RENT        0.0   \n",
       "1          0.0           119.66           0           RENT        0.0   \n",
       "2          0.0           649.91          10           RENT        0.0   \n",
       "3          0.0           357.48          10           RENT        0.0   \n",
       "4          0.0            67.30           1           RENT        0.0   \n",
       "\n",
       "   defaulted  \n",
       "0          0  \n",
       "1          1  \n",
       "2          0  \n",
       "3          0  \n",
       "4          0  "
      ]
     },
     "execution_count": 58,
     "metadata": {},
     "output_type": "execute_result"
    }
   ],
   "source": [
    "#Check the first few rows of the dataframe\n",
    "raw_data.head()"
   ]
  },
  {
   "cell_type": "markdown",
   "metadata": {},
   "source": [
    "### Erstellen einer numerischen Variable aus `term`\n",
    "\n",
    "Überprüfen wir die eindeutigen Werte der Termspalte und extrahieren die Zahlenwerte."
   ]
  },
  {
   "cell_type": "code",
   "execution_count": 59,
   "metadata": {},
   "outputs": [
    {
     "data": {
      "text/plain": [
       "array([' 36 months', ' 60 months'], dtype=object)"
      ]
     },
     "execution_count": 59,
     "metadata": {},
     "output_type": "execute_result"
    }
   ],
   "source": [
    "raw_data.term.unique()"
   ]
  },
  {
   "cell_type": "markdown",
   "metadata": {},
   "source": [
    "Da die numerischen Werte immer im 2. und 3. Zeichen der Zeichenfolge (String Variable) enthalten sind, können wir diese Teilzeichenfolge einfach mit der `slice()`-Indizierung extrahieren und in einen ganzzahligen Typ konvertieren.\n",
    "\n",
    "Glücklicherweise gibt es eine Funktion in Pandas mit dem Namen `pd.to_numeric()`, die numerische Werte, die als Zeichenfolge (String) gespeichert sind, in numerische Typen konvertieren kann."
   ]
  },
  {
   "cell_type": "code",
   "execution_count": 60,
   "metadata": {
    "scrolled": true
   },
   "outputs": [],
   "source": [
    "raw_data.term = pd.to_numeric(raw_data.term.str.slice(1,3)) #nur Werte 2 bis 3 werden übernommen aus der Spalte term"
   ]
  },
  {
   "cell_type": "code",
   "execution_count": 61,
   "metadata": {},
   "outputs": [
    {
     "data": {
      "text/plain": [
       "0    36\n",
       "1    60\n",
       "2    36\n",
       "3    36\n",
       "4    60\n",
       "Name: term, dtype: int64"
      ]
     },
     "execution_count": 61,
     "metadata": {},
     "output_type": "execute_result"
    }
   ],
   "source": [
    "raw_data.term.head()"
   ]
  },
  {
   "cell_type": "markdown",
   "metadata": {},
   "source": [
    "Überprüfen wir den resultierenden Datentyp."
   ]
  },
  {
   "cell_type": "code",
   "execution_count": 62,
   "metadata": {},
   "outputs": [
    {
     "data": {
      "text/plain": [
       "numpy.int64"
      ]
     },
     "execution_count": 62,
     "metadata": {},
     "output_type": "execute_result"
    }
   ],
   "source": [
    "type(raw_data.term[0])"
   ]
  },
  {
   "cell_type": "code",
   "execution_count": 63,
   "metadata": {
    "scrolled": true
   },
   "outputs": [
    {
     "data": {
      "text/html": [
       "<div>\n",
       "<style scoped>\n",
       "    .dataframe tbody tr th:only-of-type {\n",
       "        vertical-align: middle;\n",
       "    }\n",
       "\n",
       "    .dataframe tbody tr th {\n",
       "        vertical-align: top;\n",
       "    }\n",
       "\n",
       "    .dataframe thead th {\n",
       "        text-align: right;\n",
       "    }\n",
       "</style>\n",
       "<table border=\"1\" class=\"dataframe\">\n",
       "  <thead>\n",
       "    <tr style=\"text-align: right;\">\n",
       "      <th></th>\n",
       "      <th>loan_amnt</th>\n",
       "      <th>term</th>\n",
       "      <th>int_rate</th>\n",
       "      <th>funded_amnt</th>\n",
       "      <th>grade</th>\n",
       "      <th>annual_inc</th>\n",
       "      <th>dti</th>\n",
       "      <th>delinq_2yrs</th>\n",
       "      <th>last_pymnt_amnt</th>\n",
       "      <th>emp_length</th>\n",
       "      <th>home_ownership</th>\n",
       "      <th>tax_liens</th>\n",
       "      <th>defaulted</th>\n",
       "    </tr>\n",
       "  </thead>\n",
       "  <tbody>\n",
       "    <tr>\n",
       "      <th>0</th>\n",
       "      <td>5000.0</td>\n",
       "      <td>36</td>\n",
       "      <td>10.65%</td>\n",
       "      <td>5000.0</td>\n",
       "      <td>2</td>\n",
       "      <td>24000.0</td>\n",
       "      <td>27.65</td>\n",
       "      <td>0.0</td>\n",
       "      <td>171.62</td>\n",
       "      <td>10</td>\n",
       "      <td>RENT</td>\n",
       "      <td>0.0</td>\n",
       "      <td>0</td>\n",
       "    </tr>\n",
       "    <tr>\n",
       "      <th>1</th>\n",
       "      <td>2500.0</td>\n",
       "      <td>60</td>\n",
       "      <td>15.27%</td>\n",
       "      <td>2500.0</td>\n",
       "      <td>3</td>\n",
       "      <td>30000.0</td>\n",
       "      <td>1.00</td>\n",
       "      <td>0.0</td>\n",
       "      <td>119.66</td>\n",
       "      <td>0</td>\n",
       "      <td>RENT</td>\n",
       "      <td>0.0</td>\n",
       "      <td>1</td>\n",
       "    </tr>\n",
       "    <tr>\n",
       "      <th>2</th>\n",
       "      <td>2400.0</td>\n",
       "      <td>36</td>\n",
       "      <td>15.96%</td>\n",
       "      <td>2400.0</td>\n",
       "      <td>3</td>\n",
       "      <td>12252.0</td>\n",
       "      <td>8.72</td>\n",
       "      <td>0.0</td>\n",
       "      <td>649.91</td>\n",
       "      <td>10</td>\n",
       "      <td>RENT</td>\n",
       "      <td>0.0</td>\n",
       "      <td>0</td>\n",
       "    </tr>\n",
       "    <tr>\n",
       "      <th>3</th>\n",
       "      <td>10000.0</td>\n",
       "      <td>36</td>\n",
       "      <td>13.49%</td>\n",
       "      <td>10000.0</td>\n",
       "      <td>3</td>\n",
       "      <td>49200.0</td>\n",
       "      <td>20.00</td>\n",
       "      <td>0.0</td>\n",
       "      <td>357.48</td>\n",
       "      <td>10</td>\n",
       "      <td>RENT</td>\n",
       "      <td>0.0</td>\n",
       "      <td>0</td>\n",
       "    </tr>\n",
       "    <tr>\n",
       "      <th>4</th>\n",
       "      <td>3000.0</td>\n",
       "      <td>60</td>\n",
       "      <td>12.69%</td>\n",
       "      <td>3000.0</td>\n",
       "      <td>2</td>\n",
       "      <td>80000.0</td>\n",
       "      <td>17.94</td>\n",
       "      <td>0.0</td>\n",
       "      <td>67.30</td>\n",
       "      <td>1</td>\n",
       "      <td>RENT</td>\n",
       "      <td>0.0</td>\n",
       "      <td>0</td>\n",
       "    </tr>\n",
       "  </tbody>\n",
       "</table>\n",
       "</div>"
      ],
      "text/plain": [
       "   loan_amnt  term int_rate  funded_amnt  grade  annual_inc    dti  \\\n",
       "0     5000.0    36   10.65%       5000.0      2     24000.0  27.65   \n",
       "1     2500.0    60   15.27%       2500.0      3     30000.0   1.00   \n",
       "2     2400.0    36   15.96%       2400.0      3     12252.0   8.72   \n",
       "3    10000.0    36   13.49%      10000.0      3     49200.0  20.00   \n",
       "4     3000.0    60   12.69%       3000.0      2     80000.0  17.94   \n",
       "\n",
       "   delinq_2yrs  last_pymnt_amnt  emp_length home_ownership  tax_liens  \\\n",
       "0          0.0           171.62          10           RENT        0.0   \n",
       "1          0.0           119.66           0           RENT        0.0   \n",
       "2          0.0           649.91          10           RENT        0.0   \n",
       "3          0.0           357.48          10           RENT        0.0   \n",
       "4          0.0            67.30           1           RENT        0.0   \n",
       "\n",
       "   defaulted  \n",
       "0          0  \n",
       "1          1  \n",
       "2          0  \n",
       "3          0  \n",
       "4          0  "
      ]
     },
     "execution_count": 63,
     "metadata": {},
     "output_type": "execute_result"
    }
   ],
   "source": [
    "raw_data.head()"
   ]
  },
  {
   "cell_type": "markdown",
   "metadata": {},
   "source": [
    "### Erstellen einer numerischen Variable aus `int_rate`\n",
    "\n",
    "Die Spalte `int_rate` sieht gut aus, wenn man nur auf die Tabelle schaut, aber lassen Sie uns sehen, welche Art von Werten sie enthält."
   ]
  },
  {
   "cell_type": "code",
   "execution_count": 64,
   "metadata": {},
   "outputs": [
    {
     "name": "stdout",
     "output_type": "stream",
     "text": [
      "<class 'str'>\n"
     ]
    },
    {
     "data": {
      "text/plain": [
       "' 10.65%'"
      ]
     },
     "execution_count": 64,
     "metadata": {},
     "output_type": "execute_result"
    }
   ],
   "source": [
    "print(type(raw_data.int_rate[0]))\n",
    "raw_data.int_rate[0]"
   ]
  },
  {
   "cell_type": "markdown",
   "metadata": {},
   "source": [
    "Die `pd.to_numeric()` Methode funktioniert hier nicht, raten Sie warum..."
   ]
  },
  {
   "cell_type": "code",
   "execution_count": 65,
   "metadata": {},
   "outputs": [],
   "source": [
    "raw_data.int_rate = pd.to_numeric(raw_data.int_rate.map(lambda s: s.replace('%', ''))) #lambda-Fkt; Array s mit Fkt. replace"
   ]
  },
  {
   "cell_type": "code",
   "execution_count": 66,
   "metadata": {},
   "outputs": [
    {
     "data": {
      "text/plain": [
       "0    10.65\n",
       "1    15.27\n",
       "2    15.96\n",
       "Name: int_rate, dtype: float64"
      ]
     },
     "execution_count": 66,
     "metadata": {},
     "output_type": "execute_result"
    }
   ],
   "source": [
    "raw_data.int_rate[:3]"
   ]
  },
  {
   "cell_type": "code",
   "execution_count": 67,
   "metadata": {},
   "outputs": [
    {
     "data": {
      "text/html": [
       "<div>\n",
       "<style scoped>\n",
       "    .dataframe tbody tr th:only-of-type {\n",
       "        vertical-align: middle;\n",
       "    }\n",
       "\n",
       "    .dataframe tbody tr th {\n",
       "        vertical-align: top;\n",
       "    }\n",
       "\n",
       "    .dataframe thead th {\n",
       "        text-align: right;\n",
       "    }\n",
       "</style>\n",
       "<table border=\"1\" class=\"dataframe\">\n",
       "  <thead>\n",
       "    <tr style=\"text-align: right;\">\n",
       "      <th></th>\n",
       "      <th>loan_amnt</th>\n",
       "      <th>term</th>\n",
       "      <th>int_rate</th>\n",
       "      <th>funded_amnt</th>\n",
       "      <th>grade</th>\n",
       "      <th>annual_inc</th>\n",
       "      <th>dti</th>\n",
       "      <th>delinq_2yrs</th>\n",
       "      <th>last_pymnt_amnt</th>\n",
       "      <th>emp_length</th>\n",
       "      <th>home_ownership</th>\n",
       "      <th>tax_liens</th>\n",
       "      <th>defaulted</th>\n",
       "    </tr>\n",
       "  </thead>\n",
       "  <tbody>\n",
       "    <tr>\n",
       "      <th>0</th>\n",
       "      <td>5000.0</td>\n",
       "      <td>36</td>\n",
       "      <td>10.65</td>\n",
       "      <td>5000.0</td>\n",
       "      <td>2</td>\n",
       "      <td>24000.0</td>\n",
       "      <td>27.65</td>\n",
       "      <td>0.0</td>\n",
       "      <td>171.62</td>\n",
       "      <td>10</td>\n",
       "      <td>RENT</td>\n",
       "      <td>0.0</td>\n",
       "      <td>0</td>\n",
       "    </tr>\n",
       "    <tr>\n",
       "      <th>1</th>\n",
       "      <td>2500.0</td>\n",
       "      <td>60</td>\n",
       "      <td>15.27</td>\n",
       "      <td>2500.0</td>\n",
       "      <td>3</td>\n",
       "      <td>30000.0</td>\n",
       "      <td>1.00</td>\n",
       "      <td>0.0</td>\n",
       "      <td>119.66</td>\n",
       "      <td>0</td>\n",
       "      <td>RENT</td>\n",
       "      <td>0.0</td>\n",
       "      <td>1</td>\n",
       "    </tr>\n",
       "    <tr>\n",
       "      <th>2</th>\n",
       "      <td>2400.0</td>\n",
       "      <td>36</td>\n",
       "      <td>15.96</td>\n",
       "      <td>2400.0</td>\n",
       "      <td>3</td>\n",
       "      <td>12252.0</td>\n",
       "      <td>8.72</td>\n",
       "      <td>0.0</td>\n",
       "      <td>649.91</td>\n",
       "      <td>10</td>\n",
       "      <td>RENT</td>\n",
       "      <td>0.0</td>\n",
       "      <td>0</td>\n",
       "    </tr>\n",
       "    <tr>\n",
       "      <th>3</th>\n",
       "      <td>10000.0</td>\n",
       "      <td>36</td>\n",
       "      <td>13.49</td>\n",
       "      <td>10000.0</td>\n",
       "      <td>3</td>\n",
       "      <td>49200.0</td>\n",
       "      <td>20.00</td>\n",
       "      <td>0.0</td>\n",
       "      <td>357.48</td>\n",
       "      <td>10</td>\n",
       "      <td>RENT</td>\n",
       "      <td>0.0</td>\n",
       "      <td>0</td>\n",
       "    </tr>\n",
       "    <tr>\n",
       "      <th>4</th>\n",
       "      <td>3000.0</td>\n",
       "      <td>60</td>\n",
       "      <td>12.69</td>\n",
       "      <td>3000.0</td>\n",
       "      <td>2</td>\n",
       "      <td>80000.0</td>\n",
       "      <td>17.94</td>\n",
       "      <td>0.0</td>\n",
       "      <td>67.30</td>\n",
       "      <td>1</td>\n",
       "      <td>RENT</td>\n",
       "      <td>0.0</td>\n",
       "      <td>0</td>\n",
       "    </tr>\n",
       "  </tbody>\n",
       "</table>\n",
       "</div>"
      ],
      "text/plain": [
       "   loan_amnt  term  int_rate  funded_amnt  grade  annual_inc    dti  \\\n",
       "0     5000.0    36     10.65       5000.0      2     24000.0  27.65   \n",
       "1     2500.0    60     15.27       2500.0      3     30000.0   1.00   \n",
       "2     2400.0    36     15.96       2400.0      3     12252.0   8.72   \n",
       "3    10000.0    36     13.49      10000.0      3     49200.0  20.00   \n",
       "4     3000.0    60     12.69       3000.0      2     80000.0  17.94   \n",
       "\n",
       "   delinq_2yrs  last_pymnt_amnt  emp_length home_ownership  tax_liens  \\\n",
       "0          0.0           171.62          10           RENT        0.0   \n",
       "1          0.0           119.66           0           RENT        0.0   \n",
       "2          0.0           649.91          10           RENT        0.0   \n",
       "3          0.0           357.48          10           RENT        0.0   \n",
       "4          0.0            67.30           1           RENT        0.0   \n",
       "\n",
       "   defaulted  \n",
       "0          0  \n",
       "1          1  \n",
       "2          0  \n",
       "3          0  \n",
       "4          0  "
      ]
     },
     "execution_count": 67,
     "metadata": {},
     "output_type": "execute_result"
    }
   ],
   "source": [
    "raw_data.head()"
   ]
  }
 ],
 "metadata": {
  "kernelspec": {
   "display_name": "Python 3 (ipykernel)",
   "language": "python",
   "name": "python3"
  },
  "language_info": {
   "codemirror_mode": {
    "name": "ipython",
    "version": 3
   },
   "file_extension": ".py",
   "mimetype": "text/x-python",
   "name": "python",
   "nbconvert_exporter": "python",
   "pygments_lexer": "ipython3",
   "version": "3.9.7"
  },
  "toc": {
   "base_numbering": 1,
   "nav_menu": {
    "height": "613px",
    "width": "771px"
   },
   "number_sections": false,
   "sideBar": true,
   "skip_h1_title": false,
   "title_cell": "Inhaltsverzeichnis",
   "title_sidebar": "Inhalt",
   "toc_cell": true,
   "toc_position": {
    "height": "193px",
    "left": "814px",
    "top": "287.5px",
    "width": "493px"
   },
   "toc_section_display": false,
   "toc_window_display": false
  },
  "varInspector": {
   "cols": {
    "lenName": 16,
    "lenType": 16,
    "lenVar": 40
   },
   "kernels_config": {
    "python": {
     "delete_cmd_postfix": "",
     "delete_cmd_prefix": "del ",
     "library": "var_list.py",
     "varRefreshCmd": "print(var_dic_list())"
    },
    "r": {
     "delete_cmd_postfix": ") ",
     "delete_cmd_prefix": "rm(",
     "library": "var_list.r",
     "varRefreshCmd": "cat(var_dic_list()) "
    }
   },
   "types_to_exclude": [
    "module",
    "function",
    "builtin_function_or_method",
    "instance",
    "_Feature"
   ],
   "window_display": false
  }
 },
 "nbformat": 4,
 "nbformat_minor": 2
}
