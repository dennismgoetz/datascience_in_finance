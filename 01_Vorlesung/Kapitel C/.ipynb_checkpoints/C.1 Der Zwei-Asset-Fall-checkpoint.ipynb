{
 "cells": [
  {
   "cell_type": "markdown",
   "metadata": {
    "toc": true
   },
   "source": [
    "<h1>Inhaltsverzeichnis<span class=\"tocSkip\"></span></h1>\n",
    "<div class=\"toc\"><ul class=\"toc-item\"><li><span><a href=\"#C.-Portfolio-Management\" data-toc-modified-id=\"C.-Portfolio-Management-1\">C. Portfolio Management</a></span></li><li><span><a href=\"#C.1-Der-Zwei-Asset-Fall\" data-toc-modified-id=\"C.1-Der-Zwei-Asset-Fall-2\">C.1 Der Zwei-Asset-Fall</a></span><ul class=\"toc-item\"><li><ul class=\"toc-item\"><li><span><a href=\"#Der-Effekt-der-Diversifikation\" data-toc-modified-id=\"Der-Effekt-der-Diversifikation-2.0.1\">Der Effekt der Diversifikation</a></span></li><li><span><a href=\"#Die-Effizienzkurve\" data-toc-modified-id=\"Die-Effizienzkurve-2.0.2\">Die Effizienzkurve</a></span></li></ul></li></ul></li></ul></div>"
   ]
  },
  {
   "cell_type": "markdown",
   "metadata": {},
   "source": [
    "# C. Portfolio Management\n",
    "# C.1 Der Zwei-Asset-Fall\n",
    "### Der Effekt der Diversifikation"
   ]
  },
  {
   "cell_type": "code",
   "execution_count": null,
   "metadata": {},
   "outputs": [],
   "source": [
    "import matplotlib.pyplot as plt\n",
    "def investmentSet(ret1,ret2,SD1,SD2,cor):\n",
    "    var1 = SD1**2\n",
    "    var2 = SD2**2\n",
    "    cov = cor*SD1*SD2\n",
    "    returns = [(x/100)*ret1+(1-x/100)*ret2 for x in range(0,101)]\n",
    "    variances = [(x/100)**2*var1+(1-x/100)**2*var2+2*(x/100)*(1-x/100)*cov for x in range(0,101)]\n",
    "    standardDevs = [x**.5 for x in variances]\n",
    "    allocations = [(x/100) for x in range(0,101)]\n",
    "    \n",
    "    plt.plot(allocations,standardDevs)\n",
    "    plt.gca().set_ylim(bottom=0)\n",
    "    plt.xlabel(\"Amount in Asset 1\")\n",
    "    plt.ylabel(\"Standard Deviation\")\n",
    "    plt.title(\"Portfolio Standard Deviation vs. Allocation\")\n",
    "    plt.show()"
   ]
  },
  {
   "cell_type": "code",
   "execution_count": null,
   "metadata": {},
   "outputs": [],
   "source": [
    "investmentSet(.06,.09,.2,.3,1)"
   ]
  },
  {
   "cell_type": "code",
   "execution_count": null,
   "metadata": {},
   "outputs": [],
   "source": [
    "investmentSet(.06,.09,.2,.3,.5)"
   ]
  },
  {
   "cell_type": "code",
   "execution_count": null,
   "metadata": {},
   "outputs": [],
   "source": [
    "investmentSet(.06,.09,.2,.3,0)"
   ]
  },
  {
   "cell_type": "code",
   "execution_count": null,
   "metadata": {},
   "outputs": [],
   "source": [
    "investmentSet(.06,.09,.2,.3,-.5)"
   ]
  },
  {
   "cell_type": "code",
   "execution_count": null,
   "metadata": {},
   "outputs": [],
   "source": [
    "investmentSet(.06,.09,.2,.3,-1)"
   ]
  },
  {
   "cell_type": "markdown",
   "metadata": {},
   "source": [
    "### Die Effizienzkurve"
   ]
  },
  {
   "cell_type": "code",
   "execution_count": null,
   "metadata": {},
   "outputs": [],
   "source": [
    "def investmentSet(ret1,ret2,SD1,SD2,cor):\n",
    "    var1 = SD1**2\n",
    "    var2 = SD2**2\n",
    "    cov = cor*SD1*SD2\n",
    "    returns = [(x/100)*ret1+(1-x/100)*ret2 for x in range(0,101)]\n",
    "    variances = [(x/100)**2*var1+(1-x/100)**2*var2+2*(x/100)*(1-x/100)*cov for x in range(0,101)]\n",
    "    standardDevs = [x**.5 for x in variances]\n",
    "    allocations = [(x/100) for x in range(0,101)]\n",
    "    \n",
    "    plt.plot(allocations,standardDevs)\n",
    "    plt.xlabel(\"Amount in Asset 1\")\n",
    "    plt.ylabel(\"Standard Deviation\")\n",
    "    plt.title(\"Portfolio Standard Deviation vs. Allocation\")\n",
    "    plt.show()\n",
    "    plt.plot(standardDevs,returns)\n",
    "    plt.xlabel(\"Standard Deviation\")\n",
    "    plt.ylabel(\"Expected Return\")\n",
    "    plt.title(\"The Efficient Frontier\")\n",
    "    plt.show()"
   ]
  },
  {
   "cell_type": "code",
   "execution_count": null,
   "metadata": {},
   "outputs": [],
   "source": [
    "investmentSet(.06,.09,.2,.3,.2)"
   ]
  },
  {
   "cell_type": "code",
   "execution_count": null,
   "metadata": {},
   "outputs": [],
   "source": [
    "def investmentSet(ret1,ret2,SD1,SD2,corAr):\n",
    "    returns = []\n",
    "    variances = []\n",
    "    standardDevs = []\n",
    "    allocations = []\n",
    "    for cor in corAr:\n",
    "        var1 = SD1**2\n",
    "        var2 = SD2**2\n",
    "        cov = cor*SD1*SD2\n",
    "        returns.append([(x/100)*ret1+(1-x/100)*ret2 for x in range(0,101)])\n",
    "        varAr = [(x/100)**2*var1+(1-x/100)**2*var2+2*(x/100)*(1-x/100)*cov for x in range(0,101)]\n",
    "        variances.append(varAr)\n",
    "        standardDevs.append([x**.5 for x in varAr])\n",
    "        allocations.append([(x/100) for x in range(0,101)])\n",
    "    for i in range(len(returns)):\n",
    "        plt.plot(allocations[i],standardDevs[i],label=str(corAr[i]))\n",
    "        plt.xlabel(\"Amount in Asset 1\")\n",
    "        plt.ylabel(\"Standard Deviation\")\n",
    "        plt.title(\"Portfolio Standard Deviation vs. Allocation\")\n",
    "        plt.legend()\n",
    "    plt.show()\n",
    "    for i in range(len(returns)):\n",
    "        plt.plot(standardDevs[i],returns[i],label=str(corAr[i]))\n",
    "        plt.xlabel(\"Standard Deviation\")\n",
    "        plt.ylabel(\"Expected Return\")\n",
    "        plt.title(\"The Efficient Frontier\")\n",
    "        plt.legend()\n",
    "    plt.show()"
   ]
  },
  {
   "cell_type": "code",
   "execution_count": null,
   "metadata": {},
   "outputs": [],
   "source": [
    "investmentSet(.06,.09,.2,.3,[1,.5,.2,0,-.2,-.5,-1])"
   ]
  }
 ],
 "metadata": {
  "kernelspec": {
   "display_name": "Python 3 (ipykernel)",
   "language": "python",
   "name": "python3"
  },
  "language_info": {
   "codemirror_mode": {
    "name": "ipython",
    "version": 3
   },
   "file_extension": ".py",
   "mimetype": "text/x-python",
   "name": "python",
   "nbconvert_exporter": "python",
   "pygments_lexer": "ipython3",
   "version": "3.9.7"
  },
  "toc": {
   "base_numbering": 1,
   "nav_menu": {},
   "number_sections": false,
   "sideBar": false,
   "skip_h1_title": false,
   "title_cell": "Inhaltsverzeichnis",
   "title_sidebar": "Inhalt",
   "toc_cell": true,
   "toc_position": {},
   "toc_section_display": true,
   "toc_window_display": false
  },
  "varInspector": {
   "cols": {
    "lenName": 16,
    "lenType": 16,
    "lenVar": 40
   },
   "kernels_config": {
    "python": {
     "delete_cmd_postfix": "",
     "delete_cmd_prefix": "del ",
     "library": "var_list.py",
     "varRefreshCmd": "print(var_dic_list())"
    },
    "r": {
     "delete_cmd_postfix": ") ",
     "delete_cmd_prefix": "rm(",
     "library": "var_list.r",
     "varRefreshCmd": "cat(var_dic_list()) "
    }
   },
   "types_to_exclude": [
    "module",
    "function",
    "builtin_function_or_method",
    "instance",
    "_Feature"
   ],
   "window_display": false
  }
 },
 "nbformat": 4,
 "nbformat_minor": 2
}
