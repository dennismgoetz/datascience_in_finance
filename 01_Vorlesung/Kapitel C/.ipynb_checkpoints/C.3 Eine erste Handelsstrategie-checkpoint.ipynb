{
 "cells": [
  {
   "cell_type": "markdown",
   "metadata": {
    "toc": true
   },
   "source": [
    "<h1>Inhaltsverzeichnis<span class=\"tocSkip\"></span></h1>\n",
    "<div class=\"toc\"><ul class=\"toc-item\"><li><span><a href=\"#C.-Portfolio-Management\" data-toc-modified-id=\"C.-Portfolio-Management-1\">C. Portfolio Management</a></span></li><li><span><a href=\"#C.3-Eine-erste-Handelsstrategie:-Low-Risk\" data-toc-modified-id=\"C.3-Eine-erste-Handelsstrategie:-Low-Risk-2\">C.3 Eine erste Handelsstrategie: Low Risk</a></span></li></ul></div>"
   ]
  },
  {
   "cell_type": "markdown",
   "metadata": {},
   "source": [
    "# C. Portfolio Management\n",
    "# C.3 Eine erste Handelsstrategie: Low Risk\n",
    "Bei der Konstruktion jeder regelgebundenen, quantitativen Handelsstrategie sind die folgenden drei Aspekte von zentraler Bedeutung:\n",
    "- Was ist die mit der Festlegung der Portfoliogewichte zu optimierende **Zielfunktion (Target Function)**? Mögliche Zielfunktionen können eindimensional sein, d.h., nur auf die Minimierung von Risiko oder die Maximierung von Rendite abstellen, oder eine Kombination beider Kriterien beinhalten (z.B. Maximierung der Sharpe-Ratio);\n",
    "- Zur Bestimmung der unbekannten Parameter der Zielfunktion werden in der Regel historische Kurszeitreihen verwendet. Hier stellt sich die Frage nach der **optimalen Länge der Zeitreihen (Window Length)**. D.h., wie alt dürfen die Daten maximal sein, um noch als repräsentativ für die Zukunft zu gelten? Obwohl eine größere Anzahl an Datenpunkten ceteris paribus eine genauere Schätzung erlaubt, können Strukturbrüche in den Daten Parameterschätzungen verzerren.\n",
    "- Die eine Zielfunktion optimierenden Portfoliogewichte verändern sich dynamisch mit den Daten die in die Zielfunktion eingehen. D.h., Gewichte sind immer nur in Bezug auf die gerade vorliegenden Daten optimal. Zudem verändern sich die einmal optimierten Portfoliogewichte mit den Kursveränderungen der im Portfolio enthaltenen Aktien. Es stellt sich daher die Frage nach der **optimalen Halteperiode (Rebalancing Frequency)** eines Portfolios, d.h., nach welchem Zeitraum sollten die aktuellen Portfoliogewichte wieder an die optimalen Gewichte, gegeben die dann aktuellen Datenzeitreihen, angepasst werden.  \n",
    "\n",
    "In diesem Kapitel werden die beiden letzten Aspekte im Rahmen einer einfachen, aber in der Praxis weit verbreiteten Strategie betrachtet. Die Zielfunktion dieser Strategie ist eindimensional: das Portfoliorisiko, gemessen über die Varianz der Portfoliorendite, soll minimiert werden. Die erwartete Rendite geht nicht in die Zielfunktion ein. Solche Strategien nennt man allgemein **Low Risk Strategien.** \n",
    "\n",
    "Im nachfolgenden Code der Fallstudie greifen wir auf die im Notebook C.2 eingeführte Funktion `min_variance` zurück, um die Gewichte des varianzminimalen (oder vola-minimalen) Portfolios mit Hilfe von `scipy.optimize` zu bestimmen.   \n",
    "\n",
    "Hinsichtlich der Länge der verwendeten Datenhistorie werden wir einen Ansatz mit rollierenden Zeitfenstern implementieren. Die Halteperiode ist ein einzustellender Parameter (Argument) in der Funktion `strat_sr`, die die Strategie implementiert. "
   ]
  },
  {
   "cell_type": "markdown",
   "metadata": {},
   "source": [
    "Beginnen wir wie üblich zunächst mit dem Laden der notwendigen Pakete."
   ]
  },
  {
   "cell_type": "code",
   "execution_count": null,
   "metadata": {},
   "outputs": [],
   "source": [
    "import numpy as np\n",
    "import pandas as pd\n",
    "import pandas_datareader.data as web\n",
    "import scipy.optimize as sco\n",
    "from datetime import datetime"
   ]
  },
  {
   "cell_type": "markdown",
   "metadata": {},
   "source": [
    "Laden der Kurshistorie für unser 5 Aktien-Universum."
   ]
  },
  {
   "cell_type": "code",
   "execution_count": null,
   "metadata": {},
   "outputs": [],
   "source": [
    "#download stock portfolio data\n",
    "tickers = ['AAPL', 'AMZN', 'GOOG', 'MSFT', 'NFLX']\n",
    "start = datetime(2010, 1, 1)\n",
    "end = datetime(2018, 12, 31)\n",
    "\n",
    "df = pd.DataFrame([web.get_data_yahoo(ticker, start, end)['Adj Close'] for ticker in tickers]).T\n",
    "df.columns = tickers\n",
    "\n",
    "df = df.asfreq('B').fillna(method='pad')"
   ]
  },
  {
   "cell_type": "code",
   "execution_count": null,
   "metadata": {},
   "outputs": [],
   "source": [
    "df.index"
   ]
  },
  {
   "cell_type": "code",
   "execution_count": null,
   "metadata": {},
   "outputs": [],
   "source": [
    "df.head(6)"
   ]
  },
  {
   "cell_type": "markdown",
   "metadata": {},
   "source": [
    "Wir werden im Folgenden mehrere Hilfsfunktionen definieren: \n",
    "- Die Funktion `daily_weights` berechnet mit Hilfe von `scipy.minimize` Funktionalität auf Tagesebene die optimalen Portfoliogewichte und implementiert den Ansatz eines rollierenden Zeitfensters über eine for-Schleife. Das Argument *window* legt die Länge des Zeitfensters fest.\n",
    "- Zwei sogenannte `lambda` Funktionen zur Berechnung kumulativer Renditen und der täglichen Sharpe-Ratio. Lambda Funktionen sind anonyme Funktionen, die nur aus einer Zeile Code bestehen.\n",
    "- Die Hauptfunktion `strat_sr` berechnet die annualisierte Sharpe-Ratio der Strategie. Das Argument *hold* legt die Länge der Halteperiode fest."
   ]
  },
  {
   "cell_type": "markdown",
   "metadata": {},
   "source": [
    "Zunächst schreiben wir die Funktion zur Berechnung der Portfoliostandardabweichung und die Zielfunktion `min_variance` zur Bestimmung der Gewichte des Minimum Varianz Portfolios mit Hilfe der numerischen Optimierung. Beide Funktionen wurden im **Notebook C.2** eingeführt. "
   ]
  },
  {
   "cell_type": "code",
   "execution_count": null,
   "metadata": {},
   "outputs": [],
   "source": [
    "# helper functions to calculate the weights of the minimum variance\n",
    "# portfolio (see notebook C.2)\n",
    "def calc_portfolio_std(weights, cov):\n",
    "    portfolio_std = np.sqrt(np.dot(weights.T, np.dot(cov, weights))) * np.sqrt(252)\n",
    "    return portfolio_std\n",
    "\n",
    "def min_variance(cov):\n",
    "    num_assets = len(cov)\n",
    "    args = cov\n",
    "    constraints = ({'type': 'eq', 'fun': lambda x: np.sum(x) - 1})\n",
    "    bound = (0.0,1.0)\n",
    "    bounds = tuple(bound for asset in range(num_assets))\n",
    "    result = sco.minimize(calc_portfolio_std, num_assets*[1./num_assets,], args=args,\n",
    "                        method='SLSQP', bounds=bounds, constraints=constraints)\n",
    "    return result.x"
   ]
  },
  {
   "cell_type": "markdown",
   "metadata": {},
   "source": [
    "Und nun die oben erwähnten Hilfsfunktionen:"
   ]
  },
  {
   "cell_type": "code",
   "execution_count": null,
   "metadata": {},
   "outputs": [],
   "source": [
    "# helper functions: weights, compound returns, sharpe ratio\n",
    "def daily_weights(df, window=100):\n",
    "    empty_list = list()\n",
    "    for iStart in range(0, len(df)-window):        \n",
    "        iEnd = iStart+window        \n",
    "        # Calculate annualized sample covariance matrix\n",
    "        Sigma = df[iStart:iEnd].pct_change().cov()*252\n",
    "        # Calculate weights of minimum variance portfolio\n",
    "        w = min_variance(Sigma)\n",
    "        empty_list.append(w)\n",
    "                \n",
    "    weights0 = pd.DataFrame(empty_list, columns=df.columns)\n",
    "    df_new = df[window:len(df)].reset_index('Date')\n",
    "    weights = pd.concat([df_new['Date'], weights0], axis=1)\n",
    "    weights = weights.set_index('Date')               \n",
    "    return weights\n",
    "\n",
    "# cumulative returns\n",
    "compound = lambda x: (1 + x).prod() - 1\n",
    "\n",
    "# daily sharpe ratio\n",
    "daily_sr = lambda x: x.mean() / x.std()\n",
    "\n",
    "# strategie returns (main function)\n",
    "def strat_sr(prices, hold, window=100):\n",
    "    # weights = port\n",
    "    freq = '%dB' % hold # holding period in number of business days\n",
    "    port = daily_weights(prices) # daily security weights \n",
    "    \n",
    "    # daily returns\n",
    "    daily_rets = prices.pct_change()\n",
    "    daily_rets = daily_rets[window:len(prices)]\n",
    "    \n",
    "    # calculation of portfolio returns\n",
    "    port = port.shift(1).resample(freq).first() # time series with 'freq' as frequency\n",
    "    returns = daily_rets.resample(freq).apply(compound)\n",
    "    port_rets = (port * returns).sum(axis=1) # sum of weighted security returns\n",
    "    \n",
    "    return daily_sr(port_rets) * np.sqrt(252/hold)\n",
    "    "
   ]
  },
  {
   "cell_type": "markdown",
   "metadata": {},
   "source": [
    "Führen wir beispielhaft die Strategie mit einer Halteperiode von 20 Handelstagen aus. D.h., alle 20 Tage erfolgt ein Rebalancing des Portfolios an die dann jeweils optimalen Gewichte."
   ]
  },
  {
   "cell_type": "code",
   "execution_count": null,
   "metadata": {},
   "outputs": [],
   "source": [
    "strat_sr(df,20)"
   ]
  }
 ],
 "metadata": {
  "kernelspec": {
   "display_name": "Python 3 (ipykernel)",
   "language": "python",
   "name": "python3"
  },
  "language_info": {
   "codemirror_mode": {
    "name": "ipython",
    "version": 3
   },
   "file_extension": ".py",
   "mimetype": "text/x-python",
   "name": "python",
   "nbconvert_exporter": "python",
   "pygments_lexer": "ipython3",
   "version": "3.9.7"
  },
  "toc": {
   "base_numbering": 1,
   "nav_menu": {},
   "number_sections": false,
   "sideBar": false,
   "skip_h1_title": false,
   "title_cell": "Inhaltsverzeichnis",
   "title_sidebar": "Inhalt",
   "toc_cell": true,
   "toc_position": {},
   "toc_section_display": true,
   "toc_window_display": false
  },
  "varInspector": {
   "cols": {
    "lenName": 16,
    "lenType": 16,
    "lenVar": 40
   },
   "kernels_config": {
    "python": {
     "delete_cmd_postfix": "",
     "delete_cmd_prefix": "del ",
     "library": "var_list.py",
     "varRefreshCmd": "print(var_dic_list())"
    },
    "r": {
     "delete_cmd_postfix": ") ",
     "delete_cmd_prefix": "rm(",
     "library": "var_list.r",
     "varRefreshCmd": "cat(var_dic_list()) "
    }
   },
   "types_to_exclude": [
    "module",
    "function",
    "builtin_function_or_method",
    "instance",
    "_Feature"
   ],
   "window_display": false
  }
 },
 "nbformat": 4,
 "nbformat_minor": 2
}
