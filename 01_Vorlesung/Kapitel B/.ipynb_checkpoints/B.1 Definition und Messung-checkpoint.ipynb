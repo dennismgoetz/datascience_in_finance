{
 "cells": [
  {
   "cell_type": "markdown",
   "metadata": {
    "toc": true
   },
   "source": [
    "<h1>Inhaltsverzeichnis<span class=\"tocSkip\"></span></h1>\n",
    "<div class=\"toc\"><ul class=\"toc-item\"><li><span><a href=\"#B.-Risiko-und-Renditen\" data-toc-modified-id=\"B.-Risiko-und-Renditen-1\">B. Risiko und Renditen</a></span></li><li><span><a href=\"#B.1-Definition-und-Messung\" data-toc-modified-id=\"B.1-Definition-und-Messung-2\">B.1 Definition und Messung</a></span></li><li><span><a href=\"#B.1.1-Renditen\" data-toc-modified-id=\"B.1.1-Renditen-3\">B.1.1 Renditen</a></span><ul class=\"toc-item\"><li><span><a href=\"#Einfache-vs.-Logarithmische-Renditen\" data-toc-modified-id=\"Einfache-vs.-Logarithmische-Renditen-3.1\">Einfache vs. Logarithmische Renditen</a></span></li><li><span><a href=\"#Geometrisches-vs.-arithmetisches-Mittel-und-Annualisierung\" data-toc-modified-id=\"Geometrisches-vs.-arithmetisches-Mittel-und-Annualisierung-3.2\">Geometrisches vs. arithmetisches Mittel und Annualisierung</a></span><ul class=\"toc-item\"><li><span><a href=\"#Tägliche-Renditen\" data-toc-modified-id=\"Tägliche-Renditen-3.2.1\">Tägliche Renditen</a></span><ul class=\"toc-item\"><li><span><a href=\"#Annualisierte-geometrische-Tagesmittelwerte-der-Renditen\" data-toc-modified-id=\"Annualisierte-geometrische-Tagesmittelwerte-der-Renditen-3.2.1.1\">Annualisierte geometrische Tagesmittelwerte der Renditen</a></span></li><li><span><a href=\"#Annualisierte-arithmetische-Tagesmittelwert-der-Renditen\" data-toc-modified-id=\"Annualisierte-arithmetische-Tagesmittelwert-der-Renditen-3.2.1.2\">Annualisierte arithmetische Tagesmittelwert der Renditen</a></span></li></ul></li><li><span><a href=\"#Monatliche-Renditen\" data-toc-modified-id=\"Monatliche-Renditen-3.2.2\">Monatliche Renditen</a></span><ul class=\"toc-item\"><li><span><a href=\"#Annualisierte-monatliche-geometrische-Mittelwerte-der-Renditen\" data-toc-modified-id=\"Annualisierte-monatliche-geometrische-Mittelwerte-der-Renditen-3.2.2.1\">Annualisierte monatliche geometrische Mittelwerte der Renditen</a></span></li><li><span><a href=\"#Annualisierte-monatliche-arithmetrische-Mittelwerte-der-Renditen\" data-toc-modified-id=\"Annualisierte-monatliche-arithmetrische-Mittelwerte-der-Renditen-3.2.2.2\">Annualisierte monatliche arithmetrische Mittelwerte der Renditen</a></span></li></ul></li><li><span><a href=\"#Jährliche-Renditen\" data-toc-modified-id=\"Jährliche-Renditen-3.2.3\">Jährliche Renditen</a></span><ul class=\"toc-item\"><li><span><a href=\"#Geometrischer-Jahresmittelwert-der-Renditen\" data-toc-modified-id=\"Geometrischer-Jahresmittelwert-der-Renditen-3.2.3.1\">Geometrischer Jahresmittelwert der Renditen</a></span></li><li><span><a href=\"#Arithmetrischer-Jahresmittelwert-der-Renditen\" data-toc-modified-id=\"Arithmetrischer-Jahresmittelwert-der-Renditen-3.2.3.2\">Arithmetrischer Jahresmittelwert der Renditen</a></span></li></ul></li><li><span><a href=\"#5-Jahres-Rendite\" data-toc-modified-id=\"5-Jahres-Rendite-3.2.4\">5-Jahres-Rendite</a></span></li></ul></li></ul></li><li><span><a href=\"#B.1.2-Risiko\" data-toc-modified-id=\"B.1.2-Risiko-4\">B.1.2 Risiko</a></span><ul class=\"toc-item\"><li><span><a href=\"#Die-wichtigsten-Lektionen\" data-toc-modified-id=\"Die-wichtigsten-Lektionen-4.1\">Die wichtigsten Lektionen</a></span></li><li><span><a href=\"#Eigenschaften-des-Risikos\" data-toc-modified-id=\"Eigenschaften-des-Risikos-4.2\">Eigenschaften des Risikos</a></span><ul class=\"toc-item\"><li><span><a href=\"#Die-Quelle-des-Risikos\" data-toc-modified-id=\"Die-Quelle-des-Risikos-4.2.1\">Die Quelle des Risikos</a></span></li><li><span><a href=\"#Risiko:-Definition\" data-toc-modified-id=\"Risiko:-Definition-4.2.2\">Risiko: Definition</a></span></li><li><span><a href=\"#Kritik-an-der-Verwendung-der-Standardabweichung\" data-toc-modified-id=\"Kritik-an-der-Verwendung-der-Standardabweichung-4.2.3\">Kritik an der Verwendung der Standardabweichung</a></span></li><li><span><a href=\"#Eigenschaften-der-Standardabweichung\" data-toc-modified-id=\"Eigenschaften-der-Standardabweichung-4.2.4\">Eigenschaften der Standardabweichung</a></span></li></ul></li><li><span><a href=\"#Relatives-und-Aktives-Risiko\" data-toc-modified-id=\"Relatives-und-Aktives-Risiko-4.3\">Relatives und Aktives Risiko</a></span><ul class=\"toc-item\"><li><span><a href=\"#Aktives-Risiko\" data-toc-modified-id=\"Aktives-Risiko-4.3.1\">Aktives Risiko</a></span></li><li><span><a href=\"#Residual--oder-Restrisiko\" data-toc-modified-id=\"Residual--oder-Restrisiko-4.3.2\">Residual- oder Restrisiko</a></span></li></ul></li><li><span><a href=\"#Elementare-Risikomodelle\" data-toc-modified-id=\"Elementare-Risikomodelle-4.4\">Elementare Risikomodelle</a></span><ul class=\"toc-item\"><li><span><a href=\"#Das-Ein-Faktor-Diagonalmodell\" data-toc-modified-id=\"Das-Ein-Faktor-Diagonalmodell-4.4.1\">Das Ein-Faktor-Diagonalmodell</a></span></li><li><span><a href=\"#Das-Modell-mit-einer-einheitlichen-Korrelation\" data-toc-modified-id=\"Das-Modell-mit-einer-einheitlichen-Korrelation-4.4.2\">Das Modell mit einer einheitlichen Korrelation</a></span></li><li><span><a href=\"#Das-Modell-auf-Basis-historischer-Renditen\" data-toc-modified-id=\"Das-Modell-auf-Basis-historischer-Renditen-4.4.3\">Das Modell auf Basis historischer Renditen</a></span></li><li><span><a href=\"#Welches-Modell-ist-besser-&quot;out-of-sample&quot;?\" data-toc-modified-id=\"Welches-Modell-ist-besser-&quot;out-of-sample&quot;?-4.4.4\">Welches Modell ist besser \"out-of-sample\"?</a></span></li></ul></li></ul></li></ul></div>"
   ]
  },
  {
   "cell_type": "markdown",
   "metadata": {},
   "source": [
    "# B. Risiko und Renditen\n",
    "\n",
    "# B.1 Definition und Messung\n",
    "\n",
    "# B.1.1 Renditen\n",
    "\n",
    "## Einfache vs. Logarithmische Renditen\n",
    "\n",
    "Einfache oder diskrete Renditen (ohne Dividenden): $$ r_{i,01} = \\frac{P_{i1} - P_{i0}}{P_{i0}} = \\frac{P_{i1}}{P_{i0}} -1$$\n",
    "\n",
    "wobei $P_{it}$ den Preis des Vermögenswertes $i$ zum Zeitpunkt $t$ bezeichnet.\n",
    "\n",
    "Die logarithmische Rendite $R_{it}$ ist gleich dem Logarithmus von 1 plus der entsprechenden einfachen Rendite: \n",
    "\n",
    "$$R_{i,01} = \\log(1 + r_{i,01}) = \\log(\\frac{P_{i1}}{P_{i0}}) $$ \n",
    "\n",
    "**Wichtig**: Während sich logarithmische Renditen über die Zeit aufsummieren (zeitadditiv!), gilt dies nicht für einfache Renditen. Daher ist die einfache Zwei-Perioden-Rendite nicht gleich der Summe der beiden Ein-Perioden-Renditen:\n",
    "\n",
    "$$r_{i,01} + r_{i,12} \\neq r_{i,02} $$\n",
    "\n",
    "Logarithmische Renditen mit langem Horizont können jedoch als Summe der entsprechenden Log-Renditen mit kurzem Horizont dargestellt werden:\n",
    "\n",
    "\n",
    "$$(1 + r_{i,01}) * (1 + r_{i,12}) = (1 + r_{i,02}) $$\n",
    "\n",
    "$$R_{i,01} + R_{i,12} = R_{i,02}$$ \n"
   ]
  },
  {
   "cell_type": "code",
   "execution_count": 1,
   "metadata": {},
   "outputs": [],
   "source": [
    "# Function to convert prices to simple or logarithmic returns\n",
    "def price2ret(prices,retType='simple'):\n",
    "    if retType == 'simple':\n",
    "        ret = (prices/prices.shift(1))-1 #einfache Rendite; shift(1) eine Periode zurück\n",
    "    else:\n",
    "        ret = np.log(prices/prices.shift(1)) #stetige Rendite\n",
    "    return ret"
   ]
  },
  {
   "cell_type": "markdown",
   "metadata": {},
   "source": [
    "## Geometrisches vs. arithmetrisches Mittel und Annualisierung\n",
    "### Tägliche Renditen\n",
    "\n",
    "#### Annualisierte geometrische Tagesmittelwerte der Renditen\n",
    "\n",
    "Das tägliche geometrische Mittel kann wie folgt ermittelt werden\n",
    "\n",
    "$$ r_{geometric} = [(1 + r_1)(1 + r_2)\\cdots(1 + r_{n_{days}})] ^{\\frac{1}{n_{days}}} - 1$$\n",
    "\n",
    "$n_{days}$ steht für die Anzahl der Tage in der Stichprobe.\n",
    "\n",
    "Annualisierte geometrische Tagesmittelrenditen: $r_{annualized} = (1 + r_{daily}) ^ {252} - 1$\n"
   ]
  },
  {
   "cell_type": "markdown",
   "metadata": {},
   "source": [
    "#### Annualisierte arithmetische Tagesmittelwert der Renditen\n",
    "Das tägliche arithmetische Mittel kann wie folgt ermittelt werden (nur bei stetigen Renditen richtig)\n",
    "\n",
    "$$ r_{arithmetric} = \\frac{r_1 + r_2 + r_3 + \\cdots + r_{n_{days}}}{n_{days}}$$\n",
    "\n",
    "Annualisierte arithmetische Tagesmittelrenditen: $r_{annualized} =  r_{daily} \\times 252$"
   ]
  },
  {
   "cell_type": "markdown",
   "metadata": {},
   "source": [
    "### Monatliche Renditen\n",
    "#### Annualisierte monatliche geometrische Mittelwerte der Renditen \n",
    "Der monatliche geometrische Mittelwert lässt sich berechnen als \n",
    "\n",
    "$$ r_{geometric} = [(1 + r_1)(1 + r_2)\\cdots(1 + r_{n_{months}})] ^{\\frac{1}{n_{months}}} - 1$$\n",
    "\n",
    "$n_{months}$ repräsentiert dabei die Anzahl der Monate im Datensatz.\n",
    "\n",
    "Annualisierte geometrische Monatsmittelwerte der Renditen: $r_{annualized} = (1 + r_{monthly}) ^ {12} - 1$\n",
    "\n",
    "#### Annualisierte monatliche arithmetrische Mittelwerte der Renditen\n",
    "\n",
    "Das monatliche arithmetrische Mittel kann wie folgt berechnet werden\n",
    "\n",
    "$$ r_{arithmetric} = \\frac{r_1 + r_2 + r_3 + \\cdots + r_{n_{motnhs}}}{n_{months}}$$ \n",
    "\n",
    "Wir können den gleichen Datensatz mit monatlichen Renditen verwenden, der zur Berechnung des monatlichen geometrischen Mittels benutzt wurde.\n",
    "\n",
    "\n",
    "Annualisierte monatliche arithmetrische Mittelwerte der Renditen: $r_{annualized} =  r_{monthly} \\times 12$"
   ]
  },
  {
   "cell_type": "markdown",
   "metadata": {},
   "source": [
    "### Jährliche Renditen\n",
    "#### Geometrischer Jahresmittelwert der Renditen \n",
    "Die jährlichen geometrischen Mittelwerte können wie folgt berechnet werden\n",
    "\n",
    "$$ r_{geometric} = [(1 + r_1)(1 + r_2)\\cdots(1 + r_{n_{years}})] ^{\\frac{1}{n_{years}}} - 1 $$\n",
    "\n",
    "$n_{years}$ repräsentiert die Anzahl der Jahre in der Stichprobe. Wir müssen die Daten zunächst in Jahreshäufigkeiten umrechnen, eine Annualisierung ist nicht mehr erforderlich.\n",
    "\n"
   ]
  },
  {
   "cell_type": "markdown",
   "metadata": {},
   "source": [
    "#### Arithmetrischer Jahresmittelwert der Renditen\n",
    "\n",
    "Das arithmetische Mittel kann wie folgt berechnet werden \n",
    "\n",
    "$$ r_{arithmetic} = \\frac{r_1 + r_2 + r_3 + \\cdots + r_{n_{years}}}{n_{years}}$$ \n",
    "\n"
   ]
  },
  {
   "cell_type": "markdown",
   "metadata": {},
   "source": [
    "### 5-Jahres-Rendite \n",
    "\n",
    "Das geometrische 5-Jahres-Mittel kann wie folgt berechnet werden\n",
    "\n",
    "$$ r_{geometric} = [(1 + r_1)(1 + r_2)\\cdots(1 + r_{n_{5\\_years}})] ^{\\frac{1}{n_{5\\_years}}} - 1$$\n",
    "\n",
    "$n_{5\\_years}$ repräsentiert die Anzahl von überschneidungsfreien 5-Jahres-Intervallen in der Stichprobe. Wir müssen die Daten zunächst in 5-Jahres-Intervalle umrechnen.\n",
    "\n",
    "Annualisierte geometrische 5-Jahres-Mittelwerte der Renditen: $r_{annualized} = (1 + r_{5\\_year}) ^ {\\frac{1}{5}} - 1$"
   ]
  },
  {
   "cell_type": "markdown",
   "metadata": {},
   "source": [
    "Das arithmetrische 5-Jahres-Mittel kann wie folgt berechnet werden\n",
    "\n",
    "$$ r_{arithmetic} = \\frac{r_1 + r_2 + r_3 + \\cdots + r_{n_{5\\_years}}}{n_{5\\_years}}$$ \n",
    "\n",
    "Annualisierte arithmetrische 5-Jahres-Mittelwerte der Renditen: $r_{annualized} =  r_{5\\_year}\\times \\frac{1}{5}$"
   ]
  },
  {
   "cell_type": "markdown",
   "metadata": {},
   "source": [
    "**Wichtig**: Die arithmetischen Mittelwerte sind immer größer als die geometrischen Mittelwerte, unabhängig von der Periode, die als Basis für die Berechnungen gewählt wurde!"
   ]
  },
  {
   "cell_type": "markdown",
   "metadata": {},
   "source": [
    "# B.1.2 Risiko"
   ]
  },
  {
   "cell_type": "markdown",
   "metadata": {},
   "source": [
    "## Die wichtigsten Lektionen"
   ]
  },
  {
   "cell_type": "markdown",
   "metadata": {},
   "source": [
    "- Risiko wird häufig als Standardabweichung der Rendite definiert;\n",
    "- Risiken sind nicht additiv;\n",
    "- Viele institutionelle Anleger interessieren sich mehr für das aktive Risiko und das Residualrisiko als für das Gesamtrisiko;\n",
    "- Das aktive Risiko hängt in erster Linie von der Größe der aktiven Position und nicht von der Größe der Benchmark-Position ab;\n",
    "- Risikomodelle identifizieren die wichtigsten Risikoquellen und ihre Komponenten;"
   ]
  },
  {
   "cell_type": "markdown",
   "metadata": {},
   "source": [
    "## Eigenschaften des Risikos"
   ]
  },
  {
   "cell_type": "markdown",
   "metadata": {},
   "source": [
    "### Die Quelle des Risikos\n",
    "\n",
    "Das Risiko ergibt sich aus der Wahrscheinlichkeitsverteilung der Renditen. Wir können uns einen Eindruck der Verteilung über ein Histogramm verschaffen."
   ]
  },
  {
   "cell_type": "markdown",
   "metadata": {},
   "source": [
    "**Wichtig**: Im weiteren Verlauf der Vorlesung werden wir immer wieder auf den sogenannten `pandas-datareader`zurückgreifen, um Finanzdaten direkt aus dem Internet zu laden. Der datareader wird nicht im Anaconda3 Paket automatisch mitinstalliert, sondern muß separat über `pip` installiert werden. Mehr Informationen zum datareader finden Sie in der Dokumentation (https://pandas-datareader.readthedocs.io/en/latest/)"
   ]
  },
  {
   "cell_type": "code",
   "execution_count": 2,
   "metadata": {},
   "outputs": [],
   "source": [
    "# Install pandas-datareader first (using pip)!\n",
    "#pip install pandas-datareader"
   ]
  },
  {
   "cell_type": "code",
   "execution_count": 3,
   "metadata": {},
   "outputs": [],
   "source": [
    "import numpy as np #lineare Algebra\n",
    "import pandas as pd\n",
    "import pandas_datareader.data as web #web nur Beispielname\n",
    "from datetime import datetime #Zeitvariablen\n",
    "import matplotlib.pyplot as plt #Grafiken\n",
    "import statsmodels.api as sm #Statistikmodul\n",
    "%matplotlib inline"
   ]
  },
  {
   "cell_type": "code",
   "execution_count": 4,
   "metadata": {},
   "outputs": [
    {
     "data": {
      "text/html": [
       "<div>\n",
       "<style scoped>\n",
       "    .dataframe tbody tr th:only-of-type {\n",
       "        vertical-align: middle;\n",
       "    }\n",
       "\n",
       "    .dataframe tbody tr th {\n",
       "        vertical-align: top;\n",
       "    }\n",
       "\n",
       "    .dataframe thead th {\n",
       "        text-align: right;\n",
       "    }\n",
       "</style>\n",
       "<table border=\"1\" class=\"dataframe\">\n",
       "  <thead>\n",
       "    <tr style=\"text-align: right;\">\n",
       "      <th></th>\n",
       "      <th>High</th>\n",
       "      <th>Low</th>\n",
       "      <th>Open</th>\n",
       "      <th>Close</th>\n",
       "      <th>Volume</th>\n",
       "      <th>Adj Close</th>\n",
       "    </tr>\n",
       "    <tr>\n",
       "      <th>Date</th>\n",
       "      <th></th>\n",
       "      <th></th>\n",
       "      <th></th>\n",
       "      <th></th>\n",
       "      <th></th>\n",
       "      <th></th>\n",
       "    </tr>\n",
       "  </thead>\n",
       "  <tbody>\n",
       "    <tr>\n",
       "      <th>2006-01-03</th>\n",
       "      <td>40.360001</td>\n",
       "      <td>39.299999</td>\n",
       "      <td>39.830002</td>\n",
       "      <td>40.189999</td>\n",
       "      <td>12838600.0</td>\n",
       "      <td>25.692463</td>\n",
       "    </tr>\n",
       "    <tr>\n",
       "      <th>2006-01-04</th>\n",
       "      <td>40.139999</td>\n",
       "      <td>39.419998</td>\n",
       "      <td>39.779999</td>\n",
       "      <td>39.619999</td>\n",
       "      <td>13491500.0</td>\n",
       "      <td>25.544180</td>\n",
       "    </tr>\n",
       "    <tr>\n",
       "      <th>2006-01-05</th>\n",
       "      <td>39.810001</td>\n",
       "      <td>39.500000</td>\n",
       "      <td>39.610001</td>\n",
       "      <td>39.740002</td>\n",
       "      <td>8109400.0</td>\n",
       "      <td>25.621540</td>\n",
       "    </tr>\n",
       "    <tr>\n",
       "      <th>2006-01-06</th>\n",
       "      <td>40.240002</td>\n",
       "      <td>39.549999</td>\n",
       "      <td>39.919998</td>\n",
       "      <td>40.020000</td>\n",
       "      <td>7966900.0</td>\n",
       "      <td>25.802076</td>\n",
       "    </tr>\n",
       "    <tr>\n",
       "      <th>2006-01-09</th>\n",
       "      <td>40.720001</td>\n",
       "      <td>39.880001</td>\n",
       "      <td>39.880001</td>\n",
       "      <td>40.669998</td>\n",
       "      <td>16575200.0</td>\n",
       "      <td>26.221142</td>\n",
       "    </tr>\n",
       "    <tr>\n",
       "      <th>...</th>\n",
       "      <td>...</td>\n",
       "      <td>...</td>\n",
       "      <td>...</td>\n",
       "      <td>...</td>\n",
       "      <td>...</td>\n",
       "      <td>...</td>\n",
       "    </tr>\n",
       "    <tr>\n",
       "      <th>2014-12-24</th>\n",
       "      <td>62.869999</td>\n",
       "      <td>62.270000</td>\n",
       "      <td>62.740002</td>\n",
       "      <td>62.480000</td>\n",
       "      <td>7412500.0</td>\n",
       "      <td>49.975822</td>\n",
       "    </tr>\n",
       "    <tr>\n",
       "      <th>2014-12-26</th>\n",
       "      <td>62.889999</td>\n",
       "      <td>62.410000</td>\n",
       "      <td>62.669998</td>\n",
       "      <td>62.549999</td>\n",
       "      <td>6086500.0</td>\n",
       "      <td>50.031815</td>\n",
       "    </tr>\n",
       "    <tr>\n",
       "      <th>2014-12-29</th>\n",
       "      <td>63.340000</td>\n",
       "      <td>62.250000</td>\n",
       "      <td>62.419998</td>\n",
       "      <td>62.959999</td>\n",
       "      <td>10601200.0</td>\n",
       "      <td>50.359760</td>\n",
       "    </tr>\n",
       "    <tr>\n",
       "      <th>2014-12-30</th>\n",
       "      <td>63.279999</td>\n",
       "      <td>62.570000</td>\n",
       "      <td>62.720001</td>\n",
       "      <td>63.150002</td>\n",
       "      <td>7518100.0</td>\n",
       "      <td>50.511742</td>\n",
       "    </tr>\n",
       "    <tr>\n",
       "      <th>2014-12-31</th>\n",
       "      <td>63.490002</td>\n",
       "      <td>62.580002</td>\n",
       "      <td>63.299999</td>\n",
       "      <td>62.580002</td>\n",
       "      <td>18529400.0</td>\n",
       "      <td>50.055809</td>\n",
       "    </tr>\n",
       "  </tbody>\n",
       "</table>\n",
       "<p>2265 rows × 6 columns</p>\n",
       "</div>"
      ],
      "text/plain": [
       "                 High        Low       Open      Close      Volume  Adj Close\n",
       "Date                                                                         \n",
       "2006-01-03  40.360001  39.299999  39.830002  40.189999  12838600.0  25.692463\n",
       "2006-01-04  40.139999  39.419998  39.779999  39.619999  13491500.0  25.544180\n",
       "2006-01-05  39.810001  39.500000  39.610001  39.740002   8109400.0  25.621540\n",
       "2006-01-06  40.240002  39.549999  39.919998  40.020000   7966900.0  25.802076\n",
       "2006-01-09  40.720001  39.880001  39.880001  40.669998  16575200.0  26.221142\n",
       "...               ...        ...        ...        ...         ...        ...\n",
       "2014-12-24  62.869999  62.270000  62.740002  62.480000   7412500.0  49.975822\n",
       "2014-12-26  62.889999  62.410000  62.669998  62.549999   6086500.0  50.031815\n",
       "2014-12-29  63.340000  62.250000  62.419998  62.959999  10601200.0  50.359760\n",
       "2014-12-30  63.279999  62.570000  62.720001  63.150002   7518100.0  50.511742\n",
       "2014-12-31  63.490002  62.580002  63.299999  62.580002  18529400.0  50.055809\n",
       "\n",
       "[2265 rows x 6 columns]"
      ]
     },
     "execution_count": 4,
     "metadata": {},
     "output_type": "execute_result"
    }
   ],
   "source": [
    "# Load the prices data for a stock (JPM = Ticker)\n",
    "jpm = web.get_data_yahoo('JPM', datetime(2006,1,1), #datareader\n",
    "                         datetime(2015,1,1))\n",
    "jpm"
   ]
  },
  {
   "cell_type": "code",
   "execution_count": 5,
   "metadata": {},
   "outputs": [
    {
     "data": {
      "text/plain": [
       "Date\n",
       "2006-01-03    25.692459\n",
       "2006-01-04    25.544172\n",
       "2006-01-05    25.621534\n",
       "2006-01-06    25.802067\n",
       "2006-01-09    26.221136\n",
       "                ...    \n",
       "2014-12-24    49.975819\n",
       "2014-12-26    50.031811\n",
       "2014-12-29    50.359772\n",
       "2014-12-30    50.511730\n",
       "2014-12-31    50.055817\n",
       "Name: Adj Close, Length: 2265, dtype: float64"
      ]
     },
     "execution_count": 5,
     "metadata": {},
     "output_type": "execute_result"
    }
   ],
   "source": [
    "# Load the prices data for a stock (JPM)\n",
    "jpm = web.get_data_yahoo('JPM', datetime(2006,1,1), \n",
    "                         datetime(2015,1,1))['Adj Close']\n",
    "jpm #nur Spalte 'Adj Close'"
   ]
  },
  {
   "cell_type": "code",
   "execution_count": 35,
   "metadata": {},
   "outputs": [
    {
     "data": {
      "text/plain": [
       "DatetimeIndex(['2006-01-03', '2006-01-04', '2006-01-05', '2006-01-06',\n",
       "               '2006-01-09', '2006-01-10', '2006-01-11', '2006-01-12',\n",
       "               '2006-01-13', '2006-01-17',\n",
       "               ...\n",
       "               '2014-12-17', '2014-12-18', '2014-12-19', '2014-12-22',\n",
       "               '2014-12-23', '2014-12-24', '2014-12-26', '2014-12-29',\n",
       "               '2014-12-30', '2014-12-31'],\n",
       "              dtype='datetime64[ns]', name='Date', length=2265, freq=None)"
      ]
     },
     "execution_count": 35,
     "metadata": {},
     "output_type": "execute_result"
    }
   ],
   "source": [
    "jpm.index"
   ]
  },
  {
   "cell_type": "code",
   "execution_count": 36,
   "metadata": {},
   "outputs": [
    {
     "data": {
      "text/plain": [
       "array([25.69245911, 25.54417229, 25.62153435, ..., 50.35977173,\n",
       "       50.51173019, 50.05581665])"
      ]
     },
     "execution_count": 36,
     "metadata": {},
     "output_type": "execute_result"
    }
   ],
   "source": [
    "jpm.values #enthält die Aktienwerte als Array"
   ]
  },
  {
   "cell_type": "code",
   "execution_count": 40,
   "metadata": {},
   "outputs": [
    {
     "data": {
      "text/html": [
       "<div>\n",
       "<style scoped>\n",
       "    .dataframe tbody tr th:only-of-type {\n",
       "        vertical-align: middle;\n",
       "    }\n",
       "\n",
       "    .dataframe tbody tr th {\n",
       "        vertical-align: top;\n",
       "    }\n",
       "\n",
       "    .dataframe thead th {\n",
       "        text-align: right;\n",
       "    }\n",
       "</style>\n",
       "<table border=\"1\" class=\"dataframe\">\n",
       "  <thead>\n",
       "    <tr style=\"text-align: right;\">\n",
       "      <th></th>\n",
       "      <th>JPMorgan Returns</th>\n",
       "    </tr>\n",
       "  </thead>\n",
       "  <tbody>\n",
       "    <tr>\n",
       "      <th>2006-01-04</th>\n",
       "      <td>-0.005788</td>\n",
       "    </tr>\n",
       "    <tr>\n",
       "      <th>2006-01-05</th>\n",
       "      <td>0.003024</td>\n",
       "    </tr>\n",
       "    <tr>\n",
       "      <th>2006-01-06</th>\n",
       "      <td>0.007021</td>\n",
       "    </tr>\n",
       "    <tr>\n",
       "      <th>2006-01-09</th>\n",
       "      <td>0.016111</td>\n",
       "    </tr>\n",
       "    <tr>\n",
       "      <th>2006-01-10</th>\n",
       "      <td>0.001474</td>\n",
       "    </tr>\n",
       "    <tr>\n",
       "      <th>...</th>\n",
       "      <td>...</td>\n",
       "    </tr>\n",
       "    <tr>\n",
       "      <th>2014-12-24</th>\n",
       "      <td>0.000000</td>\n",
       "    </tr>\n",
       "    <tr>\n",
       "      <th>2014-12-26</th>\n",
       "      <td>0.001120</td>\n",
       "    </tr>\n",
       "    <tr>\n",
       "      <th>2014-12-29</th>\n",
       "      <td>0.006534</td>\n",
       "    </tr>\n",
       "    <tr>\n",
       "      <th>2014-12-30</th>\n",
       "      <td>0.003013</td>\n",
       "    </tr>\n",
       "    <tr>\n",
       "      <th>2014-12-31</th>\n",
       "      <td>-0.009067</td>\n",
       "    </tr>\n",
       "  </tbody>\n",
       "</table>\n",
       "<p>2264 rows × 1 columns</p>\n",
       "</div>"
      ],
      "text/plain": [
       "            JPMorgan Returns\n",
       "2006-01-04         -0.005788\n",
       "2006-01-05          0.003024\n",
       "2006-01-06          0.007021\n",
       "2006-01-09          0.016111\n",
       "2006-01-10          0.001474\n",
       "...                      ...\n",
       "2014-12-24          0.000000\n",
       "2014-12-26          0.001120\n",
       "2014-12-29          0.006534\n",
       "2014-12-30          0.003013\n",
       "2014-12-31         -0.009067\n",
       "\n",
       "[2264 rows x 1 columns]"
      ]
     },
     "execution_count": 40,
     "metadata": {},
     "output_type": "execute_result"
    }
   ],
   "source": [
    "jpm_returns = pd.DataFrame(np.diff(np.log(jpm.values)), columns=['jpm']) #stetige Rendite (Differenz der logarithmierten Kurse)\n",
    "jpm_returns.index = jpm.index.values[1:jpm.index.values.shape[0]] #Index von 1 bis Ende; bei 0 keine Rendite\n",
    "jpm_returns.columns = ['JPMorgan Returns']\n",
    "jpm_returns\n",
    "\n",
    "#Alternativ\n",
    "#jpm_returns.index = jpm.index.values[1:]"
   ]
  },
  {
   "cell_type": "code",
   "execution_count": 41,
   "metadata": {},
   "outputs": [
    {
     "data": {
      "image/png": "[encoded data removed]",
      "text/plain": [
       "<Figure size 1080x360 with 1 Axes>"
      ]
     },
     "metadata": {
      "needs_background": "light"
     },
     "output_type": "display_data"
    }
   ],
   "source": [
    "plt.figure(figsize=(15,5)); #Objekt vom typ figure erstellen\n",
    "plt.plot(jpm_returns); #dem Objekt eine Grafik zuweisen\n",
    "plt.ylabel('Returns'); #y-Achsenname hinzufügen\n",
    "plt.title('JPMorgan Returns'); #Grafiktitel hinzufügen\n",
    "plt.show(); #Grafik anzeigen\n",
    "\n",
    "#hohe Volatilität, da tägliche Renditen!\n",
    "#Finanzkrise 2009 erkennbar"
   ]
  },
  {
   "cell_type": "code",
   "execution_count": 45,
   "metadata": {},
   "outputs": [
    {
     "data": {
      "image/png": "[encoded data removed]",
      "text/plain": [
       "<Figure size 1080x360 with 1 Axes>"
      ]
     },
     "metadata": {
      "needs_background": "light"
     },
     "output_type": "display_data"
    }
   ],
   "source": [
    "jpm_returns.hist(figsize=(15,5),bins=20) #Intervallgröße 20\n",
    "plt.ylabel(\"Frequency\")\n",
    "plt.xlabel(\"Daily Returns\");\n",
    "#Histogramm: Verteilung um 0, da kein Trend o.ä.\n",
    "#linksschief (neg Schiefe): mehr extremere Werte bei neg. Werten\n",
    "                            #mehr Werte links des Mean"
   ]
  },
  {
   "cell_type": "markdown",
   "metadata": {},
   "source": [
    "### Risiko: Definition\n",
    "\n",
    "Anstatt die gesamte Wahrscheinlichkeitsverteilung zur Risikoinformation zu verwenden, wird oft versucht, nur die Hauptaspekte des Risikos zu erfassen. Dies führt jedoch in der Regel zu Unzulänglichkeiten. Wenn wir von normalverteilten Renditen ausgehen, dann sind alle Risikomaße (höhere Momente) Produkte des Mittelwerts und der Standardabweichung.\n",
    "\n",
    "Markowitz (1952, 1959) definiert Risiko über die Standardabweichung. Wenn wir die Standardabweichungen und Kovarianzen einzelner Assets kennen, können wir die Portfolio-Standardabweichung berechnen."
   ]
  },
  {
   "cell_type": "markdown",
   "metadata": {},
   "source": [
    "### Kritik an der Verwendung der Standardabweichung\n",
    "\n",
    "Ein Kritikpunkt ist, dass die Standardabweichung die Abweichungen der Renditen über und unter dem Mittelwert misst. Die meisten Anleger würden Risiko jedoch als kleine oder negative Renditen definieren. Ein alternatives Maß ist daher die **Semivarianz** oder das **Downside Risk**.\n",
    "\n",
    "Die Semivarianz wird ähnlich wie die Varianz berechnet, jedoch nur unter Verwendung von Renditen unterhalb des Mittelwertes. Wenn die Renditen symmetrisch sind, beträgt die Semivarianz genau die Hälfte der Varianz. Für das Downside Risk gibt es unterschiedliche Definitionen, aber es wird meist angenommen, dass es die Quadratwurzel der Semivarianz ist, um eine Analogie zur Standardabweichung zu erhalten."
   ]
  },
  {
   "cell_type": "code",
   "execution_count": 51,
   "metadata": {},
   "outputs": [],
   "source": [
    "def semivariance(data):\n",
    "    mean = data.mean()\n",
    "    semi_variance = ((data[data<=mean]-mean)**2).sum()/len(data) #(Werte kleiner als Mean - Mean)^2/Anzahl Beobachtungen\n",
    "    return semi_variance"
   ]
  },
  {
   "cell_type": "code",
   "execution_count": 53,
   "metadata": {},
   "outputs": [
    {
     "name": "stdout",
     "output_type": "stream",
     "text": [
      "JPMorgan Returns    0.000815\n",
      "dtype: float64\n",
      "JPMorgan Returns    0.00039\n",
      "dtype: float64\n",
      "JPMorgan Returns    0.478257\n",
      "dtype: float64\n"
     ]
    }
   ],
   "source": [
    "jpm_variance = (jpm_returns.var())\n",
    "jpm_semivariance = semivariance(jpm_returns)\n",
    "print(jpm_variance)\n",
    "print(jpm_semivariance)\n",
    "print(jpm_semivariance/jpm_variance)"
   ]
  },
  {
   "cell_type": "markdown",
   "metadata": {},
   "source": [
    "Für JPMorgan-Renditen beträgt die Semivarianz 48% der Varianz. Dies spricht für eine annähernd symmetrische Verteilung der JPMorgan-Renditen. 48% liegt links/downside vom Mean.\n",
    "\n",
    "Eine Variante der Semivarianz ist die Target-Semivarianz, die sich auf Renditen unterhalb eines Zielwertes bezieht.\n",
    "\n",
    "Es gibt einige Probleme mit Downside Risikomaßen: Die Definition ist nicht so eindeutig wie die der Standardabweichung oder der Varianz, und die statistischen Eigenschaften sind nicht immer ausreichend gut bekannt. \n",
    "Zudem ist es schwierig, die Semivarianz (oder andere Downside Risikomaße) einzelner Assets auf Portfolioebene hoch zu aggregieren. Falls symmetrische Renditen vorliegen, verhalten sich die meisten Downside Risikomaße proportional zur Standardabweichung und enthalten somit keine zusätzlichen Informationen. Aktive Renditen (relativ zu einer Benchmark) sind konstruktionsbedingt symmetrisch. Renditeasymmetrien sind zudem nicht über die Zeit hinweg konstant und lassen sich daher nur schwer vorhersagen - das vergangene Downside Risiko ist häufig kein guter Indikator für das zukünftige Downside Risiko.\n",
    "\n",
    "**Shortfall probability** ist ein weiteres Downside Risikomaß. Es gibt die Wahrscheinlichkeit an, dass die Rendite unter einem bestimmten Zielbetrag liegen wird."
   ]
  },
  {
   "cell_type": "code",
   "execution_count": 10,
   "metadata": {
    "scrolled": true
   },
   "outputs": [
    {
     "name": "stdout",
     "output_type": "stream",
     "text": [
      "Probability of daily return below -1% is 25.53%\n"
     ]
    }
   ],
   "source": [
    "shortfall_prob = jpm_returns.values[jpm_returns.values<-0.01].shape[0] /jpm_returns.values.shape[0] #shape(0) gibt die Länge an und funktioniert nur mit einem np.array daher die Funktion .values\n",
    "print(\"Probability of daily return below -1% is \" + str(round(shortfall_prob*100,2)) + \"%\")"
   ]
  },
  {
   "cell_type": "markdown",
   "metadata": {},
   "source": [
    "Vor allem für niedrige Zielvorgaben kann eine Wahrscheinlichkeits-Vorhersage schwierig sein, da die Unterschreitung nur durch einige wenige Beobachtungen beeinflusst wird.\n",
    "\n",
    "**Value at risk** (unteres alpha-quantil der Werteverteilung) ist ähnlich wie die Shortfall Probability, aber er beginnt mit einer Zielwahrscheinlichkeit (z.B. 5% der niedrigsten Renditen) und setzt diese mit einer zugehörigen Rendite gleich:"
   ]
  },
  {
   "cell_type": "code",
   "execution_count": 54,
   "metadata": {},
   "outputs": [
    {
     "name": "stdout",
     "output_type": "stream",
     "text": [
      "The worst 5% of JPM daily returns exceeded a -3.91% return\n"
     ]
    }
   ],
   "source": [
    "print(\"The worst 5% of JPM daily returns exceeded a \"\n",
    "      + str(round(np.percentile(jpm_returns.values,5)*100,2)) \n",
    "      + \"% return\")\n",
    "#bei 100 Werten der 5. schlechteste Wert\n",
    "#numpy funkioniert nur mit Arrays, daher Fkt. .values"
   ]
  },
  {
   "cell_type": "markdown",
   "metadata": {},
   "source": [
    "Eine Normalverteilung wird vollständig durch ihren Mittelwert und ihre Varianz (1. & 2. Moment) definiert. Viele reale Finanzzeitreihen weisen jedoch sogenannte **Fat Tails** (d.h., relativ mehr Masse auf den Flanken der Verteilung) auf, die nicht mit einer Normalverteilung kompatibel sind. Es ist daher häufig sinnvoll über die Standardabweichung als Risikomaß hinauszublicken.\n",
    "\n",
    "In dieser Vorlesung konzentrieren wir uns aus Gründen der Vereinfachung zumeist auf die Normalverteilung und die Standardabweichung als Risikomaß."
   ]
  },
  {
   "cell_type": "markdown",
   "metadata": {},
   "source": [
    "### Eigenschaften der Standardabweichung"
   ]
  },
  {
   "cell_type": "markdown",
   "metadata": {},
   "source": [
    "- Standardabweichungen sind nicht additiv: Die Standardabweichung eines Portfolios ist nicht der gewichtete Durchschnitt der Standardabweichungen der im Portfolio enthaltenen Assets!\n",
    "\n",
    "Laden wir Daten für eine andere Aktie:"
   ]
  },
  {
   "cell_type": "code",
   "execution_count": 12,
   "metadata": {},
   "outputs": [
    {
     "data": {
      "text/html": [
       "<div>\n",
       "<style scoped>\n",
       "    .dataframe tbody tr th:only-of-type {\n",
       "        vertical-align: middle;\n",
       "    }\n",
       "\n",
       "    .dataframe tbody tr th {\n",
       "        vertical-align: top;\n",
       "    }\n",
       "\n",
       "    .dataframe thead th {\n",
       "        text-align: right;\n",
       "    }\n",
       "</style>\n",
       "<table border=\"1\" class=\"dataframe\">\n",
       "  <thead>\n",
       "    <tr style=\"text-align: right;\">\n",
       "      <th></th>\n",
       "      <th>High</th>\n",
       "      <th>Low</th>\n",
       "      <th>Open</th>\n",
       "      <th>Close</th>\n",
       "      <th>Volume</th>\n",
       "      <th>Adj Close</th>\n",
       "    </tr>\n",
       "    <tr>\n",
       "      <th>Date</th>\n",
       "      <th></th>\n",
       "      <th></th>\n",
       "      <th></th>\n",
       "      <th></th>\n",
       "      <th></th>\n",
       "      <th></th>\n",
       "    </tr>\n",
       "  </thead>\n",
       "  <tbody>\n",
       "    <tr>\n",
       "      <th>2006-01-03</th>\n",
       "      <td>129.440002</td>\n",
       "      <td>124.230003</td>\n",
       "      <td>126.699997</td>\n",
       "      <td>128.869995</td>\n",
       "      <td>6188700.0</td>\n",
       "      <td>101.857803</td>\n",
       "    </tr>\n",
       "    <tr>\n",
       "      <th>2006-01-04</th>\n",
       "      <td>128.910004</td>\n",
       "      <td>126.379997</td>\n",
       "      <td>127.349998</td>\n",
       "      <td>127.089996</td>\n",
       "      <td>4861600.0</td>\n",
       "      <td>100.450905</td>\n",
       "    </tr>\n",
       "    <tr>\n",
       "      <th>2006-01-05</th>\n",
       "      <td>127.320000</td>\n",
       "      <td>125.610001</td>\n",
       "      <td>126.000000</td>\n",
       "      <td>127.040001</td>\n",
       "      <td>3717400.0</td>\n",
       "      <td>100.411415</td>\n",
       "    </tr>\n",
       "    <tr>\n",
       "      <th>2006-01-06</th>\n",
       "      <td>129.250000</td>\n",
       "      <td>127.290001</td>\n",
       "      <td>127.290001</td>\n",
       "      <td>128.839996</td>\n",
       "      <td>4319600.0</td>\n",
       "      <td>101.834106</td>\n",
       "    </tr>\n",
       "    <tr>\n",
       "      <th>2006-01-09</th>\n",
       "      <td>130.619995</td>\n",
       "      <td>128.000000</td>\n",
       "      <td>128.500000</td>\n",
       "      <td>130.389999</td>\n",
       "      <td>4723500.0</td>\n",
       "      <td>103.059212</td>\n",
       "    </tr>\n",
       "    <tr>\n",
       "      <th>...</th>\n",
       "      <td>...</td>\n",
       "      <td>...</td>\n",
       "      <td>...</td>\n",
       "      <td>...</td>\n",
       "      <td>...</td>\n",
       "      <td>...</td>\n",
       "    </tr>\n",
       "    <tr>\n",
       "      <th>2014-12-24</th>\n",
       "      <td>196.750000</td>\n",
       "      <td>195.009995</td>\n",
       "      <td>196.610001</td>\n",
       "      <td>195.889999</td>\n",
       "      <td>694200.0</td>\n",
       "      <td>171.007919</td>\n",
       "    </tr>\n",
       "    <tr>\n",
       "      <th>2014-12-26</th>\n",
       "      <td>196.490005</td>\n",
       "      <td>195.399994</td>\n",
       "      <td>196.089996</td>\n",
       "      <td>195.449997</td>\n",
       "      <td>1016300.0</td>\n",
       "      <td>170.623825</td>\n",
       "    </tr>\n",
       "    <tr>\n",
       "      <th>2014-12-29</th>\n",
       "      <td>196.960007</td>\n",
       "      <td>194.820007</td>\n",
       "      <td>195.570007</td>\n",
       "      <td>196.190002</td>\n",
       "      <td>1219900.0</td>\n",
       "      <td>171.269836</td>\n",
       "    </tr>\n",
       "    <tr>\n",
       "      <th>2014-12-30</th>\n",
       "      <td>196.500000</td>\n",
       "      <td>194.580002</td>\n",
       "      <td>195.500000</td>\n",
       "      <td>195.710007</td>\n",
       "      <td>1136200.0</td>\n",
       "      <td>170.850800</td>\n",
       "    </tr>\n",
       "    <tr>\n",
       "      <th>2014-12-31</th>\n",
       "      <td>196.830002</td>\n",
       "      <td>193.770004</td>\n",
       "      <td>196.649994</td>\n",
       "      <td>193.830002</td>\n",
       "      <td>1566800.0</td>\n",
       "      <td>169.209625</td>\n",
       "    </tr>\n",
       "  </tbody>\n",
       "</table>\n",
       "<p>2265 rows × 6 columns</p>\n",
       "</div>"
      ],
      "text/plain": [
       "                  High         Low        Open       Close     Volume  \\\n",
       "Date                                                                    \n",
       "2006-01-03  129.440002  124.230003  126.699997  128.869995  6188700.0   \n",
       "2006-01-04  128.910004  126.379997  127.349998  127.089996  4861600.0   \n",
       "2006-01-05  127.320000  125.610001  126.000000  127.040001  3717400.0   \n",
       "2006-01-06  129.250000  127.290001  127.290001  128.839996  4319600.0   \n",
       "2006-01-09  130.619995  128.000000  128.500000  130.389999  4723500.0   \n",
       "...                ...         ...         ...         ...        ...   \n",
       "2014-12-24  196.750000  195.009995  196.610001  195.889999   694200.0   \n",
       "2014-12-26  196.490005  195.399994  196.089996  195.449997  1016300.0   \n",
       "2014-12-29  196.960007  194.820007  195.570007  196.190002  1219900.0   \n",
       "2014-12-30  196.500000  194.580002  195.500000  195.710007  1136200.0   \n",
       "2014-12-31  196.830002  193.770004  196.649994  193.830002  1566800.0   \n",
       "\n",
       "             Adj Close  \n",
       "Date                    \n",
       "2006-01-03  101.857803  \n",
       "2006-01-04  100.450905  \n",
       "2006-01-05  100.411415  \n",
       "2006-01-06  101.834106  \n",
       "2006-01-09  103.059212  \n",
       "...                ...  \n",
       "2014-12-24  171.007919  \n",
       "2014-12-26  170.623825  \n",
       "2014-12-29  171.269836  \n",
       "2014-12-30  170.850800  \n",
       "2014-12-31  169.209625  \n",
       "\n",
       "[2265 rows x 6 columns]"
      ]
     },
     "execution_count": 12,
     "metadata": {},
     "output_type": "execute_result"
    }
   ],
   "source": [
    "gs = web.get_data_yahoo('GS', datetime(2006,1,1), \n",
    "                         datetime(2015,1,1))\n",
    "gs"
   ]
  },
  {
   "cell_type": "code",
   "execution_count": 13,
   "metadata": {},
   "outputs": [
    {
     "data": {
      "image/png": "[encoded data removed]",
      "text/plain": [
       "<Figure size 1080x360 with 1 Axes>"
      ]
     },
     "metadata": {
      "needs_background": "light"
     },
     "output_type": "display_data"
    }
   ],
   "source": [
    "gs = web.get_data_yahoo('GS', datetime(2006,1,1), \n",
    "                         datetime(2015,1,1))['Adj Close']\n",
    "gs_returns = pd.DataFrame(np.diff(np.log(gs.values)))\n",
    "gs_returns.index = gs.index.values[1:gs.index.values.shape[0]] #Zeitindexwerte\n",
    "gs_returns.columns = ['Goldman Sachs Returns']\n",
    "\n",
    "plt.figure(figsize=(15,5));\n",
    "plt.plot(gs_returns);\n",
    "plt.ylabel('Returns');\n",
    "plt.title('Goldman Sachs Returns');\n",
    "plt.show();"
   ]
  },
  {
   "cell_type": "markdown",
   "metadata": {},
   "source": [
    "Berechnen wir nun die Varianz und die Korrelation zwischen dieser Aktie und unserer vorherigen Aktie:"
   ]
  },
  {
   "cell_type": "code",
   "execution_count": 14,
   "metadata": {},
   "outputs": [
    {
     "name": "stdout",
     "output_type": "stream",
     "text": [
      "Correlation is 0.7385171834556117\n",
      "Weighted average std is 0.027350820644752298\n",
      "Actual std is 0.025503961160309403\n"
     ]
    }
   ],
   "source": [
    "gs_std = (gs_returns.std()).values[0]\n",
    "jpm_std = (jpm_returns.std()).values[0]\n",
    "returns = pd.concat([jpm_returns,gs_returns],axis=1) #Serien als Spalten(axis=1) aneinanderhängen\n",
    "corr = returns.corr().iloc[0,1] #corr berechnet die Korrelationen der Spalten -> 2x2 Matrix\n",
    "\n",
    "weighted_average = 0.5*gs_std + 0.5*jpm_std\n",
    "\n",
    "actual = np.sqrt(np.power(0.5*gs_std,2) + np.power(0.5*jpm_std,2) + 2*(0.5*gs_std)*(0.5*jpm_std)*corr)\n",
    "\n",
    "print(\"Correlation is \" + str(corr))\n",
    "print(\"Weighted average std is \" + str(weighted_average))\n",
    "print(\"Actual std is \" + str(actual))"
   ]
  },
  {
   "cell_type": "code",
   "execution_count": 15,
   "metadata": {},
   "outputs": [],
   "source": [
    "# Korrelation < 1: Summe der Einzelrisiken (0.027) ist größer als das Gesamtrisiko (0.025)\n",
    "# Diversifikation"
   ]
  },
  {
   "cell_type": "markdown",
   "metadata": {},
   "source": [
    "Die beiden obigen Werte sind nur dann gleich, wenn die Renditen beider Aktien perfekt positiv korreliert sind. Sonst, $\\sigma_{p} \\leq 0.5\\sigma_{1} + 0.5\\sigma_{2}$. Dies ist der Kern des Diversifikations-Phänomens: Das Risiko eines Portfolios kann geringer sein als die Summe der Einzelrisiken. Wir können den Effekt der Diversifikation für ein Beispiel mit zwei Aktien wie folgt veranschaulichen:"
   ]
  },
  {
   "cell_type": "code",
   "execution_count": 16,
   "metadata": {},
   "outputs": [
    {
     "data": {
      "image/png": "[encoded data removed]",
      "text/plain": [
       "<Figure size 1080x360 with 1 Axes>"
      ]
     },
     "metadata": {
      "needs_background": "light"
     },
     "output_type": "display_data"
    }
   ],
   "source": [
    "def portfolio_std(s1_std,s2_std,corr,s1_h=0.5):\n",
    "    return np.sqrt(np.power(s1_h*gs_std,2) + np.power((1-s1_h)*jpm_std,2) \n",
    "                   + 2*(s1_h*gs_std)*((1-s1_h)*jpm_std)*corr)\n",
    "\n",
    "portfolio_risk = [portfolio_std(gs_std,jpm_std,corr,h/100) for h in range(0,100)]\n",
    "perfect_corr_risk = [portfolio_std(gs_std,jpm_std,1,h/100) for h in range(0,100)]\n",
    "\n",
    "plt.figure(figsize=(15,5))\n",
    "plt.plot(portfolio_risk,label=str(round(corr,2)) + \" correlation\")\n",
    "plt.plot(perfect_corr_risk,label=str(1.00) + \" correlation\")\n",
    "plt.xlabel(\"Goldman Sachs Holding (%)\");\n",
    "plt.ylabel(\"Standard deviation\");\n",
    "plt.legend();"
   ]
  },
  {
   "cell_type": "code",
   "execution_count": 17,
   "metadata": {},
   "outputs": [],
   "source": [
    "# Renditen sind immer identisch, aber das Risiko sinkt beim Portfolio (blaue Linie mit Corr = 0.74) durch Diversifikation"
   ]
  },
  {
   "cell_type": "markdown",
   "metadata": {},
   "source": [
    "Angenommen wir haben ein Portfolio mit $N$ Aktien, jede mit dem Risiko $\\sigma$ und unkorrelierten Renditen. Wie hoch ist das Risiko eines gleichgewichteten Portfolios aus diesen Aktien?"
   ]
  },
  {
   "cell_type": "markdown",
   "metadata": {},
   "source": [
    "$$\\sigma_{p} = \\sqrt{  \\sum_{i=1}^{N}(\\frac{1}{N}\\sigma)^{2} } = \\sqrt{  N(\\frac{1}{N}\\sigma)^{2} } = \\sqrt{  N} \\frac{1}{N}\\sigma = \\frac{\\sigma}{\\sqrt{N}}$$"
   ]
  },
  {
   "cell_type": "markdown",
   "metadata": {},
   "source": [
    "Leider ist es recht schwierig unkorrelierte Aktien zu finden. Nehmen wir an, die Korrelation zwischen den Renditen aller Aktienpaare beträgt $\\rho$. Die Varianz eines gleichgewichteten Portfolios ist:"
   ]
  },
  {
   "cell_type": "markdown",
   "metadata": {},
   "source": [
    "$$\\sigma_{p} = \\sqrt{  \\sum_{i=1}^{N}(\\frac{1}{N}\\sigma)^{2} + \\frac{N(N-1)}{2}2\\frac{1}{N^{2}}\\sigma^{2}\\rho}$$\n",
    "\n",
    "$$\\sigma_{p} = \\sqrt{    \\frac{1}{N}\\sigma^{2}  + \\frac{N(N-1)}{2}2\\frac{1}{N^{2}}\\sigma^{2}\\rho}$$\n",
    "\n",
    "$$\\sigma_{p} = \\sigma\\sqrt{    \\frac{1}{N}  + \\frac{N(N-1)}{2}2\\frac{1}{N^{2}}\\rho}$$\n",
    "\n",
    "$$\\sigma_{p} = \\sigma\\sqrt{    \\frac{1}{N}  + \\frac{N(N-1)}{2}2\\frac{1}{N^{2}}\\rho}$$\n",
    "$$\\sigma_{p} = \\sigma\\sqrt{ \\frac{1 + \\rho(N-1)}{N}}$$"
   ]
  },
  {
   "cell_type": "markdown",
   "metadata": {},
   "source": [
    "Mit $N \\to \\infty$, $\\sigma_{p} \\to \\sigma\\sqrt\\rho$. Um ein Gefühl dafür zu bekommen, betrachten wir nun eine große Anzahl von Aktien:"
   ]
  },
  {
   "cell_type": "code",
   "execution_count": 18,
   "metadata": {},
   "outputs": [
    {
     "data": {
      "image/png": "[encoded data removed]",
      "text/plain": [
       "<Figure size 1080x360 with 1 Axes>"
      ]
     },
     "metadata": {
      "needs_background": "light"
     },
     "output_type": "display_data"
    }
   ],
   "source": [
    "list = ['ACN','BA','BAC','CAT','HP','INTC','KMB','NVDA','UAA','XRX']\n",
    "stocks = web.get_data_yahoo(list, datetime(2010,1,1), datetime(2015,1,1))['Adj Close']\n",
    "return_df = pd.DataFrame(np.diff(np.log(stocks.values).T).T)\n",
    "return_df.index = stocks.index[1:] #index für Zeilen\n",
    "return_df.columns = stocks.columns\n",
    "plt.figure(figsize=(15,5));\n",
    "x = plt.plot(return_df);\n",
    "plt.ylabel('Returns');\n",
    "plt.legend(iter(x), return_df.columns, ncol=3);\n",
    "plt.show();"
   ]
  },
  {
   "cell_type": "markdown",
   "metadata": {},
   "source": [
    "Die historische Kovarianz-Varianz-Matrix können wir wie folgt erzeugen:"
   ]
  },
  {
   "cell_type": "code",
   "execution_count": 19,
   "metadata": {},
   "outputs": [
    {
     "data": {
      "text/html": [
       "<div>\n",
       "<style scoped>\n",
       "    .dataframe tbody tr th:only-of-type {\n",
       "        vertical-align: middle;\n",
       "    }\n",
       "\n",
       "    .dataframe tbody tr th {\n",
       "        vertical-align: top;\n",
       "    }\n",
       "\n",
       "    .dataframe thead th {\n",
       "        text-align: right;\n",
       "    }\n",
       "</style>\n",
       "<table border=\"1\" class=\"dataframe\">\n",
       "  <thead>\n",
       "    <tr style=\"text-align: right;\">\n",
       "      <th>Symbols</th>\n",
       "      <th>ACN</th>\n",
       "      <th>BA</th>\n",
       "      <th>BAC</th>\n",
       "      <th>CAT</th>\n",
       "      <th>HP</th>\n",
       "      <th>INTC</th>\n",
       "      <th>KMB</th>\n",
       "      <th>NVDA</th>\n",
       "      <th>UAA</th>\n",
       "      <th>XRX</th>\n",
       "    </tr>\n",
       "    <tr>\n",
       "      <th>Symbols</th>\n",
       "      <th></th>\n",
       "      <th></th>\n",
       "      <th></th>\n",
       "      <th></th>\n",
       "      <th></th>\n",
       "      <th></th>\n",
       "      <th></th>\n",
       "      <th></th>\n",
       "      <th></th>\n",
       "      <th></th>\n",
       "    </tr>\n",
       "  </thead>\n",
       "  <tbody>\n",
       "    <tr>\n",
       "      <th>ACN</th>\n",
       "      <td>0.000211</td>\n",
       "      <td>0.000115</td>\n",
       "      <td>0.000161</td>\n",
       "      <td>0.000134</td>\n",
       "      <td>0.000162</td>\n",
       "      <td>0.000100</td>\n",
       "      <td>0.000044</td>\n",
       "      <td>0.000150</td>\n",
       "      <td>0.000146</td>\n",
       "      <td>0.000142</td>\n",
       "    </tr>\n",
       "    <tr>\n",
       "      <th>BA</th>\n",
       "      <td>0.000115</td>\n",
       "      <td>0.000236</td>\n",
       "      <td>0.000194</td>\n",
       "      <td>0.000154</td>\n",
       "      <td>0.000176</td>\n",
       "      <td>0.000106</td>\n",
       "      <td>0.000054</td>\n",
       "      <td>0.000159</td>\n",
       "      <td>0.000153</td>\n",
       "      <td>0.000157</td>\n",
       "    </tr>\n",
       "    <tr>\n",
       "      <th>BAC</th>\n",
       "      <td>0.000161</td>\n",
       "      <td>0.000194</td>\n",
       "      <td>0.000581</td>\n",
       "      <td>0.000234</td>\n",
       "      <td>0.000275</td>\n",
       "      <td>0.000151</td>\n",
       "      <td>0.000061</td>\n",
       "      <td>0.000248</td>\n",
       "      <td>0.000230</td>\n",
       "      <td>0.000234</td>\n",
       "    </tr>\n",
       "    <tr>\n",
       "      <th>CAT</th>\n",
       "      <td>0.000134</td>\n",
       "      <td>0.000154</td>\n",
       "      <td>0.000234</td>\n",
       "      <td>0.000302</td>\n",
       "      <td>0.000250</td>\n",
       "      <td>0.000132</td>\n",
       "      <td>0.000052</td>\n",
       "      <td>0.000204</td>\n",
       "      <td>0.000191</td>\n",
       "      <td>0.000187</td>\n",
       "    </tr>\n",
       "    <tr>\n",
       "      <th>HP</th>\n",
       "      <td>0.000162</td>\n",
       "      <td>0.000176</td>\n",
       "      <td>0.000275</td>\n",
       "      <td>0.000250</td>\n",
       "      <td>0.000545</td>\n",
       "      <td>0.000150</td>\n",
       "      <td>0.000058</td>\n",
       "      <td>0.000256</td>\n",
       "      <td>0.000244</td>\n",
       "      <td>0.000226</td>\n",
       "    </tr>\n",
       "    <tr>\n",
       "      <th>INTC</th>\n",
       "      <td>0.000100</td>\n",
       "      <td>0.000106</td>\n",
       "      <td>0.000151</td>\n",
       "      <td>0.000132</td>\n",
       "      <td>0.000150</td>\n",
       "      <td>0.000217</td>\n",
       "      <td>0.000042</td>\n",
       "      <td>0.000174</td>\n",
       "      <td>0.000132</td>\n",
       "      <td>0.000141</td>\n",
       "    </tr>\n",
       "    <tr>\n",
       "      <th>KMB</th>\n",
       "      <td>0.000044</td>\n",
       "      <td>0.000054</td>\n",
       "      <td>0.000061</td>\n",
       "      <td>0.000052</td>\n",
       "      <td>0.000058</td>\n",
       "      <td>0.000042</td>\n",
       "      <td>0.000077</td>\n",
       "      <td>0.000045</td>\n",
       "      <td>0.000053</td>\n",
       "      <td>0.000059</td>\n",
       "    </tr>\n",
       "    <tr>\n",
       "      <th>NVDA</th>\n",
       "      <td>0.000150</td>\n",
       "      <td>0.000159</td>\n",
       "      <td>0.000248</td>\n",
       "      <td>0.000204</td>\n",
       "      <td>0.000256</td>\n",
       "      <td>0.000174</td>\n",
       "      <td>0.000045</td>\n",
       "      <td>0.000576</td>\n",
       "      <td>0.000230</td>\n",
       "      <td>0.000212</td>\n",
       "    </tr>\n",
       "    <tr>\n",
       "      <th>UAA</th>\n",
       "      <td>0.000146</td>\n",
       "      <td>0.000153</td>\n",
       "      <td>0.000230</td>\n",
       "      <td>0.000191</td>\n",
       "      <td>0.000244</td>\n",
       "      <td>0.000132</td>\n",
       "      <td>0.000053</td>\n",
       "      <td>0.000230</td>\n",
       "      <td>0.000612</td>\n",
       "      <td>0.000208</td>\n",
       "    </tr>\n",
       "    <tr>\n",
       "      <th>XRX</th>\n",
       "      <td>0.000142</td>\n",
       "      <td>0.000157</td>\n",
       "      <td>0.000234</td>\n",
       "      <td>0.000187</td>\n",
       "      <td>0.000226</td>\n",
       "      <td>0.000141</td>\n",
       "      <td>0.000059</td>\n",
       "      <td>0.000212</td>\n",
       "      <td>0.000208</td>\n",
       "      <td>0.000358</td>\n",
       "    </tr>\n",
       "  </tbody>\n",
       "</table>\n",
       "</div>"
      ],
      "text/plain": [
       "Symbols       ACN        BA       BAC       CAT        HP      INTC       KMB  \\\n",
       "Symbols                                                                         \n",
       "ACN      0.000211  0.000115  0.000161  0.000134  0.000162  0.000100  0.000044   \n",
       "BA       0.000115  0.000236  0.000194  0.000154  0.000176  0.000106  0.000054   \n",
       "BAC      0.000161  0.000194  0.000581  0.000234  0.000275  0.000151  0.000061   \n",
       "CAT      0.000134  0.000154  0.000234  0.000302  0.000250  0.000132  0.000052   \n",
       "HP       0.000162  0.000176  0.000275  0.000250  0.000545  0.000150  0.000058   \n",
       "INTC     0.000100  0.000106  0.000151  0.000132  0.000150  0.000217  0.000042   \n",
       "KMB      0.000044  0.000054  0.000061  0.000052  0.000058  0.000042  0.000077   \n",
       "NVDA     0.000150  0.000159  0.000248  0.000204  0.000256  0.000174  0.000045   \n",
       "UAA      0.000146  0.000153  0.000230  0.000191  0.000244  0.000132  0.000053   \n",
       "XRX      0.000142  0.000157  0.000234  0.000187  0.000226  0.000141  0.000059   \n",
       "\n",
       "Symbols      NVDA       UAA       XRX  \n",
       "Symbols                                \n",
       "ACN      0.000150  0.000146  0.000142  \n",
       "BA       0.000159  0.000153  0.000157  \n",
       "BAC      0.000248  0.000230  0.000234  \n",
       "CAT      0.000204  0.000191  0.000187  \n",
       "HP       0.000256  0.000244  0.000226  \n",
       "INTC     0.000174  0.000132  0.000141  \n",
       "KMB      0.000045  0.000053  0.000059  \n",
       "NVDA     0.000576  0.000230  0.000212  \n",
       "UAA      0.000230  0.000612  0.000208  \n",
       "XRX      0.000212  0.000208  0.000358  "
      ]
     },
     "execution_count": 19,
     "metadata": {},
     "output_type": "execute_result"
    }
   ],
   "source": [
    "cov = return_df.cov()\n",
    "cov #Varianzen auf der Hauptdiagonalen"
   ]
  },
  {
   "cell_type": "markdown",
   "metadata": {},
   "source": [
    "Die Varianz eines Portfolios wird als $h^{T}Vh$ berechnet wobei $h$ ein $(K,1)$ -Vektor der Portfoliogewichte ist. Wir nehmen ein gleichgewichtetes Portfolio an:"
   ]
  },
  {
   "cell_type": "code",
   "execution_count": 20,
   "metadata": {},
   "outputs": [
    {
     "name": "stdout",
     "output_type": "stream",
     "text": [
      "Portfolio standard deviation is 0.013300535190977516\n",
      "Equally weighted standard deviation is 0.018593355303338957\n"
     ]
    }
   ],
   "source": [
    "h = np.ones(len(list))*(1/len(list))\n",
    "p_std = np.sqrt(np.dot(np.dot(np.transpose(h),cov),h))\n",
    "equal_std = np.dot(h,np.sqrt(np.diag(cov)))\n",
    "print(\"Portfolio standard deviation is \" + str(p_std))\n",
    "print(\"Equally weighted standard deviation is \" + str(equal_std))"
   ]
  },
  {
   "cell_type": "markdown",
   "metadata": {},
   "source": [
    "Unsere Gleichung impliziert eine durchschnittliche Korrelation zwischen den Aktien von etwa:"
   ]
  },
  {
   "cell_type": "code",
   "execution_count": 21,
   "metadata": {},
   "outputs": [
    {
     "name": "stdout",
     "output_type": "stream",
     "text": [
      "0.5117085769719817\n"
     ]
    }
   ],
   "source": [
    "print(np.power(p_std/equal_std,2))"
   ]
  },
  {
   "cell_type": "markdown",
   "metadata": {},
   "source": [
    "Während sich Standardabweichungen (hier als Risiko definiert) nicht über Aktien oder die Zeit hinweg addieren lassen, addiert sich die Varianz über die Zeit, wenn die Renditen von einem Intervall zum nächsten unkorreliert sind. Daraus folgt, dass Varianzen mit der Länge des Prognosehorizonts wachsen und die Standardabweichung mit der Quadratwurzel des Prognosehorizonts. Ein jährliches aktives Risiko von 5% entspricht also einem aktiven Risiko von 2,5% im ersten Quartal oder einem aktiven Risiko von 10% über vier Jahre. Die Varianz (6,25; 25; 100) bleibt proportional zur Länge des Prognosehorizonts.\n",
    "\n",
    "Um das Risiko auf Jahresbasis zu berechnen, schreiben wir: \n",
    "\n",
    "$\\sigma_{annual} = \\sqrt{12}\\sigma_{monthly}$"
   ]
  },
  {
   "cell_type": "markdown",
   "metadata": {},
   "source": [
    "## Relatives und Aktives Risiko"
   ]
  },
  {
   "cell_type": "markdown",
   "metadata": {},
   "source": [
    "### Aktives Risiko"
   ]
  },
  {
   "cell_type": "markdown",
   "metadata": {},
   "source": [
    "In der Praxis werden Asset-Manager häufig nach den erwirtschafteten Renditen und dem eingegangenen Risiko *relativ* zu einer Benchmark beurteilt. Wir definieren:\n",
    "\n",
    "- Active return $r_{PA} = r_{P} - r_{B}$\n",
    "- Active risk $\\psi_{P} = Std\\left(r_{PA}\\right) = Std\\left(r_{P}-r_{B}\\right)$\n",
    "\n",
    "Dabei ist $r_{P}$ die Rendite des Managers und $r_{B}$ die Rendite der Benchmark. Das aktive Risiko wird manchmal auch als Tracking Error des Portfolios bezeichnet, da es beschreibt, wie gut das Portfolio die Benchmark nachbilden kann.\n",
    "\n",
    "Um ein Beispiel zu betrachten, gehen wir zurück zu unserem dualen JPM/GS-Beispiel und nehmen an, dass die Benchmark zu 60 Prozent in GS und zu 40 Prozent in JPM investiert ist."
   ]
  },
  {
   "cell_type": "code",
   "execution_count": 22,
   "metadata": {},
   "outputs": [
    {
     "data": {
      "image/png": "[encoded data removed]",
      "text/plain": [
       "<Figure size 1080x360 with 1 Axes>"
      ]
     },
     "metadata": {
      "needs_background": "light"
     },
     "output_type": "display_data"
    }
   ],
   "source": [
    "benchmark_weight = 0.6\n",
    "portfolio_risk = portfolio_std(gs_std,jpm_std,corr,benchmark_weight)\n",
    "benchmark_returns = benchmark_weight*gs_returns.values + (1-benchmark_weight)*jpm_returns.values\n",
    "active_risks = [(((h/100)*gs_returns.values+(1-(h/100))*jpm_returns.values) - benchmark_returns).std() \n",
    "                 for h in range(0,100)]\n",
    "\n",
    "plt.figure(figsize=(15,5))\n",
    "plt.plot(range(-60,40),active_risks,label=\"Benchmark: 60% Goldman\") #x-Achse ist h - 0.6\n",
    "plt.xlabel(\"Active Goldman Sachs Holding (%)\");\n",
    "plt.ylabel(\"Active risk\");\n",
    "plt.legend();"
   ]
  },
  {
   "cell_type": "markdown",
   "metadata": {},
   "source": [
    "### Residual- oder Restrisiko"
   ]
  },
  {
   "cell_type": "markdown",
   "metadata": {},
   "source": [
    "Das Residualrisiko ist das Risiko derjenigen Renditekomponente die orthogonal zur systematischen Renditekomponente ist. Das Residualrisiko des Portfolios $P$ relativ zum Portfolio $B$ wird mit $\\omega_{P}$ bezeichnet und definiert durch:"
   ]
  },
  {
   "cell_type": "markdown",
   "metadata": {},
   "source": [
    "$$\\omega_{P} = \\sqrt{\\sigma_{P}^{2} - \\beta_{P}^{2}\\sigma_{B}^{2}}$$"
   ]
  },
  {
   "cell_type": "markdown",
   "metadata": {},
   "source": [
    "Dies ergibt sich aus dem Modell $r_{P} = \\beta_{P}r_{B} + \\theta_{P}$ und der Unkorreliertheit zwischen den Residualrenditen $\\theta_{P}$ und den Markt- oder Benchmarkrenditen $r_{B}$. Berechnen wir nun die $\\beta$s für die uns vorliegenden Renditedaten. Zuerst müssen wir die Renditen in Überrenditen (Excess Returns) umrechnen, indem wir den risikofreien Zinssatz abziehen, und wir müssen die Benchmark (S&P500) laden:"
   ]
  },
  {
   "cell_type": "code",
   "execution_count": 23,
   "metadata": {},
   "outputs": [],
   "source": [
    "from pandas_datareader import DataReader\n",
    "\n",
    "one_mon = DataReader('DGS1MO', 'fred',datetime(2006,1,1), datetime(2015,1,1))\n",
    "one_day = np.log(1+one_mon)/365\n",
    "\n",
    "spy = DataReader('SPY',  'yahoo', datetime(2006,1,1), datetime(2015,1,1))\n",
    "spy_returns = pd.DataFrame(np.diff(np.log(spy['Adj Close'].values)))\n",
    "spy_returns.index = spy.index.values[1:spy.index.values.shape[0]]\n",
    "spy_returns.columns = ['S&P500']\n",
    "\n",
    "excess_returns = pd.concat([one_day,return_df,spy_returns],axis=1).dropna()\n",
    "excess_returns = excess_returns.subtract(excess_returns['DGS1MO'].values,axis=0)"
   ]
  },
  {
   "cell_type": "markdown",
   "metadata": {},
   "source": [
    "Als nächstes berechnen wir die Betas:"
   ]
  },
  {
   "cell_type": "code",
   "execution_count": 24,
   "metadata": {},
   "outputs": [
    {
     "name": "stderr",
     "output_type": "stream",
     "text": [
      "C:\\Users\\Dennis\\anaconda3\\lib\\site-packages\\statsmodels\\tsa\\tsatools.py:142: FutureWarning: In a future version of pandas all arguments of concat except for the argument 'objs' will be keyword-only\n",
      "  x = pd.concat(x[::order], 1)\n"
     ]
    },
    {
     "data": {
      "text/html": [
       "<div>\n",
       "<style scoped>\n",
       "    .dataframe tbody tr th:only-of-type {\n",
       "        vertical-align: middle;\n",
       "    }\n",
       "\n",
       "    .dataframe tbody tr th {\n",
       "        vertical-align: top;\n",
       "    }\n",
       "\n",
       "    .dataframe thead th {\n",
       "        text-align: right;\n",
       "    }\n",
       "</style>\n",
       "<table border=\"1\" class=\"dataframe\">\n",
       "  <thead>\n",
       "    <tr style=\"text-align: right;\">\n",
       "      <th></th>\n",
       "      <th>Betas</th>\n",
       "      <th>Total Risk</th>\n",
       "      <th>Residual Risk</th>\n",
       "    </tr>\n",
       "  </thead>\n",
       "  <tbody>\n",
       "    <tr>\n",
       "      <th>ACN</th>\n",
       "      <td>1.001261</td>\n",
       "      <td>0.014493</td>\n",
       "      <td>0.010495</td>\n",
       "    </tr>\n",
       "    <tr>\n",
       "      <th>BA</th>\n",
       "      <td>1.126469</td>\n",
       "      <td>0.015354</td>\n",
       "      <td>0.010454</td>\n",
       "    </tr>\n",
       "    <tr>\n",
       "      <th>BAC</th>\n",
       "      <td>1.746528</td>\n",
       "      <td>0.024121</td>\n",
       "      <td>0.016669</td>\n",
       "    </tr>\n",
       "    <tr>\n",
       "      <th>CAT</th>\n",
       "      <td>1.359793</td>\n",
       "      <td>0.017348</td>\n",
       "      <td>0.010802</td>\n",
       "    </tr>\n",
       "    <tr>\n",
       "      <th>HP</th>\n",
       "      <td>1.603449</td>\n",
       "      <td>0.023260</td>\n",
       "      <td>0.016876</td>\n",
       "    </tr>\n",
       "    <tr>\n",
       "      <th>INTC</th>\n",
       "      <td>0.971528</td>\n",
       "      <td>0.014755</td>\n",
       "      <td>0.011119</td>\n",
       "    </tr>\n",
       "    <tr>\n",
       "      <th>KMB</th>\n",
       "      <td>0.470336</td>\n",
       "      <td>0.008792</td>\n",
       "      <td>0.007434</td>\n",
       "    </tr>\n",
       "    <tr>\n",
       "      <th>NVDA</th>\n",
       "      <td>1.424610</td>\n",
       "      <td>0.024022</td>\n",
       "      <td>0.019360</td>\n",
       "    </tr>\n",
       "    <tr>\n",
       "      <th>UAA</th>\n",
       "      <td>1.377696</td>\n",
       "      <td>0.024729</td>\n",
       "      <td>0.020552</td>\n",
       "    </tr>\n",
       "    <tr>\n",
       "      <th>XRX</th>\n",
       "      <td>1.350761</td>\n",
       "      <td>0.018959</td>\n",
       "      <td>0.013327</td>\n",
       "    </tr>\n",
       "  </tbody>\n",
       "</table>\n",
       "</div>"
      ],
      "text/plain": [
       "         Betas  Total Risk  Residual Risk\n",
       "ACN   1.001261    0.014493       0.010495\n",
       "BA    1.126469    0.015354       0.010454\n",
       "BAC   1.746528    0.024121       0.016669\n",
       "CAT   1.359793    0.017348       0.010802\n",
       "HP    1.603449    0.023260       0.016876\n",
       "INTC  0.971528    0.014755       0.011119\n",
       "KMB   0.470336    0.008792       0.007434\n",
       "NVDA  1.424610    0.024022       0.019360\n",
       "UAA   1.377696    0.024729       0.020552\n",
       "XRX   1.350761    0.018959       0.013327"
      ]
     },
     "execution_count": 24,
     "metadata": {},
     "output_type": "execute_result"
    }
   ],
   "source": [
    "import statsmodels.api as sm\n",
    "\n",
    "def get_beta(stock,market):\n",
    "    exog = sm.add_constant(market, prepend=True)\n",
    "    mod = sm.OLS(stock, exog)\n",
    "    return mod.fit().params[1] \n",
    "\n",
    "def get_residual_risk(benchmark_std,stock_beta,stock_std):\n",
    "    return np.sqrt(np.power(stock_std,2) - np.power(stock_beta*benchmark_std,2))\n",
    "\n",
    "def get_risk_measures(excess_returns):\n",
    "    tickers,betas,total_risk,residual_risk = ([] for i in range(4)) #4 leere Listen\n",
    "    for stock in excess_returns.columns: #stock ist ein Platzhalter; alle Elemente\n",
    "        market_risk = excess_returns['S&P500'].std()\n",
    "        if stock not in ['DGS1MO','S&P500']:\n",
    "            beta = get_beta(excess_returns[stock],excess_returns['S&P500'])\n",
    "            stock_risk = excess_returns[stock].std()\n",
    "            total_risk.append(stock_risk)\n",
    "            residual_risk.append(get_residual_risk(market_risk,beta,stock_risk))\n",
    "            betas.append(beta)\n",
    "            tickers.append(stock)\n",
    "    results = pd.DataFrame(np.array([betas,total_risk,residual_risk]).T)\n",
    "    results.index = tickers\n",
    "    results.columns = ['Betas','Total Risk','Residual Risk']\n",
    "    return results\n",
    "\n",
    "risk_summary = get_risk_measures(excess_returns)\n",
    "risk_summary"
   ]
  },
  {
   "cell_type": "markdown",
   "metadata": {},
   "source": [
    "## Elementare Risikomodelle"
   ]
  },
  {
   "cell_type": "markdown",
   "metadata": {},
   "source": [
    "Es existiert ein signifikantes Problem bei der Berechnung des Portfoliorisikos. Wenn wir die Anzahl der Aktien im Portfolio erhöhen, steigt die Anzahl der erforderlichen Kovarianzschätzungen exponentiell an; insbesondere benötigen wir $N(N-1)/2$ Kovarianzen. Für die 505 Aktien des S&P500 sind somit 127.260 Kovarianzen zu schätzen."
   ]
  },
  {
   "cell_type": "code",
   "execution_count": 25,
   "metadata": {},
   "outputs": [
    {
     "data": {
      "image/png": "[encoded data removed]",
      "text/plain": [
       "<Figure size 1080x360 with 1 Axes>"
      ]
     },
     "metadata": {
      "needs_background": "light"
     },
     "output_type": "display_data"
    }
   ],
   "source": [
    "stock_no = np.array([i for i in range(0,600)])\n",
    "correlations = np.array([i*(i-1)/2 for i in range(0,600)])\n",
    "plt.figure(figsize=(15,5));\n",
    "plt.plot(stock_no,correlations);\n",
    "plt.title(\"So Many Covariances\");\n",
    "plt.xlabel(\"Stocks\");\n",
    "plt.ylabel(\"Number of Covariances\");\n",
    "plt.plot([505, 505], [0, 500000], 'k-', lw=2);\n",
    "plt.ylim(0,180000);"
   ]
  },
  {
   "cell_type": "markdown",
   "metadata": {},
   "source": [
    "Es stellt eine erhebliche Herausforderung dar, so viele Werte (= Modellparameter bei der Portfolio-Optimierung) genau zu schätzen. Selbst wenn nur ein kleiner Prozentsatz der Schätzungen ungenau ist, wird dies die Konstruktion optimaler Portfolios stark beeinflussen.\n",
    "\n",
    "** Das Ziel eines Risikomodells ist die genaue und effiziente Vorhersage der Kovarianzmatrix**\n",
    "\n",
    "Es gibt drei grundlegende Aktienrisikomodelle:\n",
    "- Das Ein-Faktor-Diagonalmodell\n",
    "- Das Modell mit einer einheitlichen Korrelation\n",
    "- Das Modell auf Basis historischer Renditen"
   ]
  },
  {
   "cell_type": "markdown",
   "metadata": {},
   "source": [
    "### Das Ein-Faktor-Diagonalmodell"
   ]
  },
  {
   "cell_type": "markdown",
   "metadata": {},
   "source": [
    "Das Ein-Faktor-Risikomodell war ein Vorläufer des CAPM, aber beide Modelle unterscheiden sich voneinander. Es unterstellt den folgenden Renditegenerierungsprozß:"
   ]
  },
  {
   "cell_type": "markdown",
   "metadata": {},
   "source": [
    "$$ r_{n} = \\beta_{n}r_{M} + \\theta_{n}  $$"
   ]
  },
  {
   "cell_type": "markdown",
   "metadata": {},
   "source": [
    "wobei $\\beta_{n}$ der Beta-Wert der Aktie *n* und $\\theta_{n}$ die Residualrendite ist. Das Ein-Faktor-Risikomodell geht davon aus, dass die Residualrenditen $\\theta_{n}$ unkorreliert sind:"
   ]
  },
  {
   "cell_type": "markdown",
   "metadata": {},
   "source": [
    "$$ Cov(r_{n},r_{m}) = \\beta_{n}\\beta_{m}\\sigma^{2}_{M} $$\n",
    "$$ \\sigma^{2}_{n} = \\beta^{2}_{n}\\sigma^{2}_{M} + \\omega^{2}_{n}$$"
   ]
  },
  {
   "cell_type": "markdown",
   "metadata": {},
   "source": [
    "Berechnen wir nun die Kovarianzmatrix für unsere Beispiel-Aktien:"
   ]
  },
  {
   "cell_type": "code",
   "execution_count": 26,
   "metadata": {},
   "outputs": [
    {
     "data": {
      "text/html": [
       "<div>\n",
       "<style scoped>\n",
       "    .dataframe tbody tr th:only-of-type {\n",
       "        vertical-align: middle;\n",
       "    }\n",
       "\n",
       "    .dataframe tbody tr th {\n",
       "        vertical-align: top;\n",
       "    }\n",
       "\n",
       "    .dataframe thead th {\n",
       "        text-align: right;\n",
       "    }\n",
       "</style>\n",
       "<table border=\"1\" class=\"dataframe\">\n",
       "  <thead>\n",
       "    <tr style=\"text-align: right;\">\n",
       "      <th></th>\n",
       "      <th>ACN</th>\n",
       "      <th>BA</th>\n",
       "      <th>BAC</th>\n",
       "      <th>CAT</th>\n",
       "      <th>HP</th>\n",
       "      <th>INTC</th>\n",
       "      <th>KMB</th>\n",
       "      <th>NVDA</th>\n",
       "      <th>UAA</th>\n",
       "      <th>XRX</th>\n",
       "    </tr>\n",
       "  </thead>\n",
       "  <tbody>\n",
       "    <tr>\n",
       "      <th>ACN</th>\n",
       "      <td>0.000210</td>\n",
       "      <td>0.000112</td>\n",
       "      <td>0.000174</td>\n",
       "      <td>0.000136</td>\n",
       "      <td>0.000160</td>\n",
       "      <td>0.000097</td>\n",
       "      <td>0.000047</td>\n",
       "      <td>0.000142</td>\n",
       "      <td>0.000137</td>\n",
       "      <td>0.000135</td>\n",
       "    </tr>\n",
       "    <tr>\n",
       "      <th>BA</th>\n",
       "      <td>0.000112</td>\n",
       "      <td>0.000236</td>\n",
       "      <td>0.000196</td>\n",
       "      <td>0.000153</td>\n",
       "      <td>0.000180</td>\n",
       "      <td>0.000109</td>\n",
       "      <td>0.000053</td>\n",
       "      <td>0.000160</td>\n",
       "      <td>0.000155</td>\n",
       "      <td>0.000152</td>\n",
       "    </tr>\n",
       "    <tr>\n",
       "      <th>BAC</th>\n",
       "      <td>0.000174</td>\n",
       "      <td>0.000196</td>\n",
       "      <td>0.000582</td>\n",
       "      <td>0.000237</td>\n",
       "      <td>0.000279</td>\n",
       "      <td>0.000169</td>\n",
       "      <td>0.000082</td>\n",
       "      <td>0.000248</td>\n",
       "      <td>0.000240</td>\n",
       "      <td>0.000235</td>\n",
       "    </tr>\n",
       "    <tr>\n",
       "      <th>CAT</th>\n",
       "      <td>0.000136</td>\n",
       "      <td>0.000153</td>\n",
       "      <td>0.000237</td>\n",
       "      <td>0.000301</td>\n",
       "      <td>0.000217</td>\n",
       "      <td>0.000132</td>\n",
       "      <td>0.000064</td>\n",
       "      <td>0.000193</td>\n",
       "      <td>0.000187</td>\n",
       "      <td>0.000183</td>\n",
       "    </tr>\n",
       "    <tr>\n",
       "      <th>HP</th>\n",
       "      <td>0.000160</td>\n",
       "      <td>0.000180</td>\n",
       "      <td>0.000279</td>\n",
       "      <td>0.000217</td>\n",
       "      <td>0.000541</td>\n",
       "      <td>0.000155</td>\n",
       "      <td>0.000075</td>\n",
       "      <td>0.000228</td>\n",
       "      <td>0.000220</td>\n",
       "      <td>0.000216</td>\n",
       "    </tr>\n",
       "    <tr>\n",
       "      <th>INTC</th>\n",
       "      <td>0.000097</td>\n",
       "      <td>0.000109</td>\n",
       "      <td>0.000169</td>\n",
       "      <td>0.000132</td>\n",
       "      <td>0.000155</td>\n",
       "      <td>0.000218</td>\n",
       "      <td>0.000046</td>\n",
       "      <td>0.000138</td>\n",
       "      <td>0.000133</td>\n",
       "      <td>0.000131</td>\n",
       "    </tr>\n",
       "    <tr>\n",
       "      <th>KMB</th>\n",
       "      <td>0.000047</td>\n",
       "      <td>0.000053</td>\n",
       "      <td>0.000082</td>\n",
       "      <td>0.000064</td>\n",
       "      <td>0.000075</td>\n",
       "      <td>0.000046</td>\n",
       "      <td>0.000077</td>\n",
       "      <td>0.000067</td>\n",
       "      <td>0.000065</td>\n",
       "      <td>0.000063</td>\n",
       "    </tr>\n",
       "    <tr>\n",
       "      <th>NVDA</th>\n",
       "      <td>0.000142</td>\n",
       "      <td>0.000160</td>\n",
       "      <td>0.000248</td>\n",
       "      <td>0.000193</td>\n",
       "      <td>0.000228</td>\n",
       "      <td>0.000138</td>\n",
       "      <td>0.000067</td>\n",
       "      <td>0.000577</td>\n",
       "      <td>0.000196</td>\n",
       "      <td>0.000192</td>\n",
       "    </tr>\n",
       "    <tr>\n",
       "      <th>UAA</th>\n",
       "      <td>0.000137</td>\n",
       "      <td>0.000155</td>\n",
       "      <td>0.000240</td>\n",
       "      <td>0.000187</td>\n",
       "      <td>0.000220</td>\n",
       "      <td>0.000133</td>\n",
       "      <td>0.000065</td>\n",
       "      <td>0.000196</td>\n",
       "      <td>0.000612</td>\n",
       "      <td>0.000185</td>\n",
       "    </tr>\n",
       "    <tr>\n",
       "      <th>XRX</th>\n",
       "      <td>0.000135</td>\n",
       "      <td>0.000152</td>\n",
       "      <td>0.000235</td>\n",
       "      <td>0.000183</td>\n",
       "      <td>0.000216</td>\n",
       "      <td>0.000131</td>\n",
       "      <td>0.000063</td>\n",
       "      <td>0.000192</td>\n",
       "      <td>0.000185</td>\n",
       "      <td>0.000359</td>\n",
       "    </tr>\n",
       "  </tbody>\n",
       "</table>\n",
       "</div>"
      ],
      "text/plain": [
       "           ACN        BA       BAC       CAT        HP      INTC       KMB  \\\n",
       "ACN   0.000210  0.000112  0.000174  0.000136  0.000160  0.000097  0.000047   \n",
       "BA    0.000112  0.000236  0.000196  0.000153  0.000180  0.000109  0.000053   \n",
       "BAC   0.000174  0.000196  0.000582  0.000237  0.000279  0.000169  0.000082   \n",
       "CAT   0.000136  0.000153  0.000237  0.000301  0.000217  0.000132  0.000064   \n",
       "HP    0.000160  0.000180  0.000279  0.000217  0.000541  0.000155  0.000075   \n",
       "INTC  0.000097  0.000109  0.000169  0.000132  0.000155  0.000218  0.000046   \n",
       "KMB   0.000047  0.000053  0.000082  0.000064  0.000075  0.000046  0.000077   \n",
       "NVDA  0.000142  0.000160  0.000248  0.000193  0.000228  0.000138  0.000067   \n",
       "UAA   0.000137  0.000155  0.000240  0.000187  0.000220  0.000133  0.000065   \n",
       "XRX   0.000135  0.000152  0.000235  0.000183  0.000216  0.000131  0.000063   \n",
       "\n",
       "          NVDA       UAA       XRX  \n",
       "ACN   0.000142  0.000137  0.000135  \n",
       "BA    0.000160  0.000155  0.000152  \n",
       "BAC   0.000248  0.000240  0.000235  \n",
       "CAT   0.000193  0.000187  0.000183  \n",
       "HP    0.000228  0.000220  0.000216  \n",
       "INTC  0.000138  0.000133  0.000131  \n",
       "KMB   0.000067  0.000065  0.000063  \n",
       "NVDA  0.000577  0.000196  0.000192  \n",
       "UAA   0.000196  0.000612  0.000185  \n",
       "XRX   0.000192  0.000185  0.000359  "
      ]
     },
     "execution_count": 26,
     "metadata": {},
     "output_type": "execute_result"
    }
   ],
   "source": [
    "betas = risk_summary['Betas'].values\n",
    "market_risk = excess_returns['S&P500'].std()\n",
    "residual_risks = risk_summary['Residual Risk'].values\n",
    "\n",
    "def single_factor_covariance(betas,market_risk,residual_risks,tickers=None):\n",
    "    beta_vector = np.array([betas])\n",
    "    cov_matrix = np.dot(beta_vector.T,beta_vector)\n",
    "    cov_matrix = cov_matrix*np.power(market_risk,2)\n",
    "    cov_matrix[np.diag_indices_from(cov_matrix)] = np.diag(cov_matrix)+np.power(residual_risks,2)\n",
    "    results = pd.DataFrame(cov_matrix)\n",
    "    \n",
    "    if tickers is not None:\n",
    "        results.index = tickers\n",
    "        results.columns = tickers\n",
    "        \n",
    "    return results\n",
    "\n",
    "sf_covmatrix = single_factor_covariance(betas,market_risk,residual_risks,risk_summary.index)\n",
    "sf_covmatrix"
   ]
  },
  {
   "cell_type": "markdown",
   "metadata": {},
   "source": [
    "Das Problem bei diesem Modell ist, dass entgegen der Annahme die Residualrenditen *korreliert* sind. Der marktgewichtete Durchschnitt der Residualrenditen ist genau null:"
   ]
  },
  {
   "cell_type": "markdown",
   "metadata": {},
   "source": [
    "$$ \\sum_{n}h_{M}(n)\\theta_{n} = 0 $$"
   ]
  },
  {
   "cell_type": "markdown",
   "metadata": {},
   "source": [
    "Infolgedessen muss die Korrelation der Residualrenditen zwischen Aktien im Allgemeinen negativ sein. Um dies zu sehen, unterstellen wir einfach, dass es zwei Aktien mit gleicher Marktkapitalisierung gibt. Die obige Gleichung impliziert $\\theta_{2} = -\\theta_{1}$, es besteht also eine 100% negative Korrelation. Wenn die Anzahl der Aktien $n$ steigt, sinkt die durchschnittliche negative Korrelation gegen 0. In der Praxis sollten wir eine positive Residualkorrelation zwischen Aktien derselben Branche erwarten. Einige Gründe, warum dieses einfache Modell immer noch attraktiv sein kann:\n",
    "\n",
    "\n",
    "- Es isoliert Markt- und Residualrisiko\n",
    "- Es gibt eine konservative Schätzung der Residualkovarianz zwischen Aktien an (0)"
   ]
  },
  {
   "cell_type": "markdown",
   "metadata": {},
   "source": [
    "### Das Modell mit einer einheitlichen Korrelation"
   ]
  },
  {
   "cell_type": "markdown",
   "metadata": {},
   "source": [
    "Dieses Modell erfordert eine Schätzung des Risikos jeder Aktie $\\sigma_{n}$ und einer durchschnittlichen Aktienkorrelation $\\rho$. Es unterstellt, dass die Kovarianz zwischen 2 beliebigen Aktien gegeben ist durch:"
   ]
  },
  {
   "cell_type": "markdown",
   "metadata": {},
   "source": [
    "$$ Cov(r_{n},r_{m}) = \\sigma_{m}\\sigma_{n}\\rho $$"
   ]
  },
  {
   "cell_type": "markdown",
   "metadata": {},
   "source": [
    "Verwenden wir einfach die Risikoschätzungen aus der historischen Kovarianzmatrix, die wir oben geschätzt haben, zusammen mit dem impliziten Wert für die durchschnittliche Korrelation:"
   ]
  },
  {
   "cell_type": "code",
   "execution_count": 27,
   "metadata": {},
   "outputs": [
    {
     "data": {
      "text/html": [
       "<div>\n",
       "<style scoped>\n",
       "    .dataframe tbody tr th:only-of-type {\n",
       "        vertical-align: middle;\n",
       "    }\n",
       "\n",
       "    .dataframe tbody tr th {\n",
       "        vertical-align: top;\n",
       "    }\n",
       "\n",
       "    .dataframe thead th {\n",
       "        text-align: right;\n",
       "    }\n",
       "</style>\n",
       "<table border=\"1\" class=\"dataframe\">\n",
       "  <thead>\n",
       "    <tr style=\"text-align: right;\">\n",
       "      <th></th>\n",
       "      <th>ACN</th>\n",
       "      <th>BA</th>\n",
       "      <th>BAC</th>\n",
       "      <th>CAT</th>\n",
       "      <th>HP</th>\n",
       "      <th>INTC</th>\n",
       "      <th>KMB</th>\n",
       "      <th>NVDA</th>\n",
       "      <th>UAA</th>\n",
       "      <th>XRX</th>\n",
       "    </tr>\n",
       "  </thead>\n",
       "  <tbody>\n",
       "    <tr>\n",
       "      <th>ACN</th>\n",
       "      <td>0.000210</td>\n",
       "      <td>0.000114</td>\n",
       "      <td>0.000179</td>\n",
       "      <td>0.000129</td>\n",
       "      <td>0.000173</td>\n",
       "      <td>0.000109</td>\n",
       "      <td>0.000065</td>\n",
       "      <td>0.000178</td>\n",
       "      <td>0.000183</td>\n",
       "      <td>0.000141</td>\n",
       "    </tr>\n",
       "    <tr>\n",
       "      <th>BA</th>\n",
       "      <td>0.000114</td>\n",
       "      <td>0.000236</td>\n",
       "      <td>0.000190</td>\n",
       "      <td>0.000136</td>\n",
       "      <td>0.000183</td>\n",
       "      <td>0.000116</td>\n",
       "      <td>0.000069</td>\n",
       "      <td>0.000189</td>\n",
       "      <td>0.000194</td>\n",
       "      <td>0.000149</td>\n",
       "    </tr>\n",
       "    <tr>\n",
       "      <th>BAC</th>\n",
       "      <td>0.000179</td>\n",
       "      <td>0.000190</td>\n",
       "      <td>0.000582</td>\n",
       "      <td>0.000214</td>\n",
       "      <td>0.000287</td>\n",
       "      <td>0.000182</td>\n",
       "      <td>0.000109</td>\n",
       "      <td>0.000297</td>\n",
       "      <td>0.000305</td>\n",
       "      <td>0.000234</td>\n",
       "    </tr>\n",
       "    <tr>\n",
       "      <th>CAT</th>\n",
       "      <td>0.000129</td>\n",
       "      <td>0.000136</td>\n",
       "      <td>0.000214</td>\n",
       "      <td>0.000301</td>\n",
       "      <td>0.000206</td>\n",
       "      <td>0.000131</td>\n",
       "      <td>0.000078</td>\n",
       "      <td>0.000213</td>\n",
       "      <td>0.000220</td>\n",
       "      <td>0.000168</td>\n",
       "    </tr>\n",
       "    <tr>\n",
       "      <th>HP</th>\n",
       "      <td>0.000173</td>\n",
       "      <td>0.000183</td>\n",
       "      <td>0.000287</td>\n",
       "      <td>0.000206</td>\n",
       "      <td>0.000541</td>\n",
       "      <td>0.000176</td>\n",
       "      <td>0.000105</td>\n",
       "      <td>0.000286</td>\n",
       "      <td>0.000294</td>\n",
       "      <td>0.000226</td>\n",
       "    </tr>\n",
       "    <tr>\n",
       "      <th>INTC</th>\n",
       "      <td>0.000109</td>\n",
       "      <td>0.000116</td>\n",
       "      <td>0.000182</td>\n",
       "      <td>0.000131</td>\n",
       "      <td>0.000176</td>\n",
       "      <td>0.000218</td>\n",
       "      <td>0.000066</td>\n",
       "      <td>0.000181</td>\n",
       "      <td>0.000187</td>\n",
       "      <td>0.000143</td>\n",
       "    </tr>\n",
       "    <tr>\n",
       "      <th>KMB</th>\n",
       "      <td>0.000065</td>\n",
       "      <td>0.000069</td>\n",
       "      <td>0.000109</td>\n",
       "      <td>0.000078</td>\n",
       "      <td>0.000105</td>\n",
       "      <td>0.000066</td>\n",
       "      <td>0.000077</td>\n",
       "      <td>0.000108</td>\n",
       "      <td>0.000111</td>\n",
       "      <td>0.000085</td>\n",
       "    </tr>\n",
       "    <tr>\n",
       "      <th>NVDA</th>\n",
       "      <td>0.000178</td>\n",
       "      <td>0.000189</td>\n",
       "      <td>0.000297</td>\n",
       "      <td>0.000213</td>\n",
       "      <td>0.000286</td>\n",
       "      <td>0.000181</td>\n",
       "      <td>0.000108</td>\n",
       "      <td>0.000577</td>\n",
       "      <td>0.000304</td>\n",
       "      <td>0.000233</td>\n",
       "    </tr>\n",
       "    <tr>\n",
       "      <th>UAA</th>\n",
       "      <td>0.000183</td>\n",
       "      <td>0.000194</td>\n",
       "      <td>0.000305</td>\n",
       "      <td>0.000220</td>\n",
       "      <td>0.000294</td>\n",
       "      <td>0.000187</td>\n",
       "      <td>0.000111</td>\n",
       "      <td>0.000304</td>\n",
       "      <td>0.000612</td>\n",
       "      <td>0.000240</td>\n",
       "    </tr>\n",
       "    <tr>\n",
       "      <th>XRX</th>\n",
       "      <td>0.000141</td>\n",
       "      <td>0.000149</td>\n",
       "      <td>0.000234</td>\n",
       "      <td>0.000168</td>\n",
       "      <td>0.000226</td>\n",
       "      <td>0.000143</td>\n",
       "      <td>0.000085</td>\n",
       "      <td>0.000233</td>\n",
       "      <td>0.000240</td>\n",
       "      <td>0.000359</td>\n",
       "    </tr>\n",
       "  </tbody>\n",
       "</table>\n",
       "</div>"
      ],
      "text/plain": [
       "           ACN        BA       BAC       CAT        HP      INTC       KMB  \\\n",
       "ACN   0.000210  0.000114  0.000179  0.000129  0.000173  0.000109  0.000065   \n",
       "BA    0.000114  0.000236  0.000190  0.000136  0.000183  0.000116  0.000069   \n",
       "BAC   0.000179  0.000190  0.000582  0.000214  0.000287  0.000182  0.000109   \n",
       "CAT   0.000129  0.000136  0.000214  0.000301  0.000206  0.000131  0.000078   \n",
       "HP    0.000173  0.000183  0.000287  0.000206  0.000541  0.000176  0.000105   \n",
       "INTC  0.000109  0.000116  0.000182  0.000131  0.000176  0.000218  0.000066   \n",
       "KMB   0.000065  0.000069  0.000109  0.000078  0.000105  0.000066  0.000077   \n",
       "NVDA  0.000178  0.000189  0.000297  0.000213  0.000286  0.000181  0.000108   \n",
       "UAA   0.000183  0.000194  0.000305  0.000220  0.000294  0.000187  0.000111   \n",
       "XRX   0.000141  0.000149  0.000234  0.000168  0.000226  0.000143  0.000085   \n",
       "\n",
       "          NVDA       UAA       XRX  \n",
       "ACN   0.000178  0.000183  0.000141  \n",
       "BA    0.000189  0.000194  0.000149  \n",
       "BAC   0.000297  0.000305  0.000234  \n",
       "CAT   0.000213  0.000220  0.000168  \n",
       "HP    0.000286  0.000294  0.000226  \n",
       "INTC  0.000181  0.000187  0.000143  \n",
       "KMB   0.000108  0.000111  0.000085  \n",
       "NVDA  0.000577  0.000304  0.000233  \n",
       "UAA   0.000304  0.000612  0.000240  \n",
       "XRX   0.000233  0.000240  0.000359  "
      ]
     },
     "execution_count": 27,
     "metadata": {},
     "output_type": "execute_result"
    }
   ],
   "source": [
    "residual_risks = risk_summary['Residual Risk'].values\n",
    "\n",
    "def common_correlation_covariance(stock_risks,correlation,tickers=None):\n",
    "    stock_risks = np.array([stock_risks])\n",
    "    cov_matrix = np.dot(stock_risks.T,stock_risks)\n",
    "    cov_matrix = cov_matrix*correlation\n",
    "    cov_matrix[np.diag_indices_from(cov_matrix)] = np.diag(cov_matrix)/correlation\n",
    "    results = pd.DataFrame(cov_matrix)\n",
    "    \n",
    "    if tickers is not None:\n",
    "        results.index = tickers\n",
    "        results.columns = tickers\n",
    "            \n",
    "    return results\n",
    "    \n",
    "cc_covmatrix = common_correlation_covariance(risk_summary['Total Risk'].values,0.511708472128,risk_summary.index)\n",
    "cc_covmatrix"
   ]
  },
  {
   "cell_type": "markdown",
   "metadata": {},
   "source": [
    "Dieses Modell ist \"quick and dirty\" - es ignoriert Beziehungen zwischen Aktien aus ähnlichen Branchen und solchen mit ähnlichen Eigenschaften."
   ]
  },
  {
   "cell_type": "markdown",
   "metadata": {},
   "source": [
    "### Das Modell auf Basis historischer Renditen"
   ]
  },
  {
   "cell_type": "markdown",
   "metadata": {},
   "source": [
    "Der Ansatz historischer Varianzen und Kovarianzen ist bei Vorliegen einer großen Anzahl von Aktien nicht robust. Wenn die Länge der Rendite-Zeitreihen $T\\leq{N}$ ist, können risikolose Positionen gefunden werden. Das liegt daran, dass eine $N x N$ Kovarianzmatrix mit $T$ Renditeperioden einen Rang gleich $\\min(N,T-1)$ hat. (Bei $N$ Aktien und $T$ Perioden haben wir $NT$ Beobachtungen, so dass wir für mindestens zwei Beobachtungen pro Schätzung ein $T\\geq(N+1)$ benötigen.) Wenn wir monatliche Renditen hätten, würden wir mehr als 40 Jahre an Rendite-Zeitreihen benötigen, um eine monatliche historische Kovarianzmatrix zu erstellen. Selbst wenn diese Bedingungen erfüllt sind, hat der historische Ansatz Probleme:\n",
    "\n",
    "- Historische Risiken können nicht mit der sich verändernden Natur eines Unternehmens aufgrund von Fusionen und Ausgliederungen (Spin Offs) umgehen.\n",
    "- Ein möglicher Selection Bias aufgrund von Übernahmen, LBOs und Konkursen bleibt unberücksichtigt.\n",
    "- Verzerrungen in der Stichprobe können zu groben Fehlschätzungen der Kovarianzen führen. Bei einer Kovarianzmatrix für 500 Aktien mit 124.750 Einträgen, wenn 5% davon falsch sind, entspricht dies 6.238 schlechten Schätzungen.\n",
    "\n",
    "Im Folgenden geben wir unsere historische Matrix wieder:"
   ]
  },
  {
   "cell_type": "code",
   "execution_count": 28,
   "metadata": {},
   "outputs": [
    {
     "data": {
      "text/html": [
       "<div>\n",
       "<style scoped>\n",
       "    .dataframe tbody tr th:only-of-type {\n",
       "        vertical-align: middle;\n",
       "    }\n",
       "\n",
       "    .dataframe tbody tr th {\n",
       "        vertical-align: top;\n",
       "    }\n",
       "\n",
       "    .dataframe thead th {\n",
       "        text-align: right;\n",
       "    }\n",
       "</style>\n",
       "<table border=\"1\" class=\"dataframe\">\n",
       "  <thead>\n",
       "    <tr style=\"text-align: right;\">\n",
       "      <th>Symbols</th>\n",
       "      <th>ACN</th>\n",
       "      <th>BA</th>\n",
       "      <th>BAC</th>\n",
       "      <th>CAT</th>\n",
       "      <th>HP</th>\n",
       "      <th>INTC</th>\n",
       "      <th>KMB</th>\n",
       "      <th>NVDA</th>\n",
       "      <th>UAA</th>\n",
       "      <th>XRX</th>\n",
       "    </tr>\n",
       "    <tr>\n",
       "      <th>Symbols</th>\n",
       "      <th></th>\n",
       "      <th></th>\n",
       "      <th></th>\n",
       "      <th></th>\n",
       "      <th></th>\n",
       "      <th></th>\n",
       "      <th></th>\n",
       "      <th></th>\n",
       "      <th></th>\n",
       "      <th></th>\n",
       "    </tr>\n",
       "  </thead>\n",
       "  <tbody>\n",
       "    <tr>\n",
       "      <th>ACN</th>\n",
       "      <td>0.000211</td>\n",
       "      <td>0.000115</td>\n",
       "      <td>0.000161</td>\n",
       "      <td>0.000134</td>\n",
       "      <td>0.000162</td>\n",
       "      <td>0.000100</td>\n",
       "      <td>0.000044</td>\n",
       "      <td>0.000150</td>\n",
       "      <td>0.000146</td>\n",
       "      <td>0.000142</td>\n",
       "    </tr>\n",
       "    <tr>\n",
       "      <th>BA</th>\n",
       "      <td>0.000115</td>\n",
       "      <td>0.000236</td>\n",
       "      <td>0.000194</td>\n",
       "      <td>0.000154</td>\n",
       "      <td>0.000176</td>\n",
       "      <td>0.000106</td>\n",
       "      <td>0.000054</td>\n",
       "      <td>0.000159</td>\n",
       "      <td>0.000153</td>\n",
       "      <td>0.000157</td>\n",
       "    </tr>\n",
       "    <tr>\n",
       "      <th>BAC</th>\n",
       "      <td>0.000161</td>\n",
       "      <td>0.000194</td>\n",
       "      <td>0.000581</td>\n",
       "      <td>0.000234</td>\n",
       "      <td>0.000275</td>\n",
       "      <td>0.000151</td>\n",
       "      <td>0.000061</td>\n",
       "      <td>0.000248</td>\n",
       "      <td>0.000230</td>\n",
       "      <td>0.000234</td>\n",
       "    </tr>\n",
       "    <tr>\n",
       "      <th>CAT</th>\n",
       "      <td>0.000134</td>\n",
       "      <td>0.000154</td>\n",
       "      <td>0.000234</td>\n",
       "      <td>0.000302</td>\n",
       "      <td>0.000250</td>\n",
       "      <td>0.000132</td>\n",
       "      <td>0.000052</td>\n",
       "      <td>0.000204</td>\n",
       "      <td>0.000191</td>\n",
       "      <td>0.000187</td>\n",
       "    </tr>\n",
       "    <tr>\n",
       "      <th>HP</th>\n",
       "      <td>0.000162</td>\n",
       "      <td>0.000176</td>\n",
       "      <td>0.000275</td>\n",
       "      <td>0.000250</td>\n",
       "      <td>0.000545</td>\n",
       "      <td>0.000150</td>\n",
       "      <td>0.000058</td>\n",
       "      <td>0.000256</td>\n",
       "      <td>0.000244</td>\n",
       "      <td>0.000226</td>\n",
       "    </tr>\n",
       "    <tr>\n",
       "      <th>INTC</th>\n",
       "      <td>0.000100</td>\n",
       "      <td>0.000106</td>\n",
       "      <td>0.000151</td>\n",
       "      <td>0.000132</td>\n",
       "      <td>0.000150</td>\n",
       "      <td>0.000217</td>\n",
       "      <td>0.000042</td>\n",
       "      <td>0.000174</td>\n",
       "      <td>0.000132</td>\n",
       "      <td>0.000141</td>\n",
       "    </tr>\n",
       "    <tr>\n",
       "      <th>KMB</th>\n",
       "      <td>0.000044</td>\n",
       "      <td>0.000054</td>\n",
       "      <td>0.000061</td>\n",
       "      <td>0.000052</td>\n",
       "      <td>0.000058</td>\n",
       "      <td>0.000042</td>\n",
       "      <td>0.000077</td>\n",
       "      <td>0.000045</td>\n",
       "      <td>0.000053</td>\n",
       "      <td>0.000059</td>\n",
       "    </tr>\n",
       "    <tr>\n",
       "      <th>NVDA</th>\n",
       "      <td>0.000150</td>\n",
       "      <td>0.000159</td>\n",
       "      <td>0.000248</td>\n",
       "      <td>0.000204</td>\n",
       "      <td>0.000256</td>\n",
       "      <td>0.000174</td>\n",
       "      <td>0.000045</td>\n",
       "      <td>0.000576</td>\n",
       "      <td>0.000230</td>\n",
       "      <td>0.000212</td>\n",
       "    </tr>\n",
       "    <tr>\n",
       "      <th>UAA</th>\n",
       "      <td>0.000146</td>\n",
       "      <td>0.000153</td>\n",
       "      <td>0.000230</td>\n",
       "      <td>0.000191</td>\n",
       "      <td>0.000244</td>\n",
       "      <td>0.000132</td>\n",
       "      <td>0.000053</td>\n",
       "      <td>0.000230</td>\n",
       "      <td>0.000612</td>\n",
       "      <td>0.000208</td>\n",
       "    </tr>\n",
       "    <tr>\n",
       "      <th>XRX</th>\n",
       "      <td>0.000142</td>\n",
       "      <td>0.000157</td>\n",
       "      <td>0.000234</td>\n",
       "      <td>0.000187</td>\n",
       "      <td>0.000226</td>\n",
       "      <td>0.000141</td>\n",
       "      <td>0.000059</td>\n",
       "      <td>0.000212</td>\n",
       "      <td>0.000208</td>\n",
       "      <td>0.000358</td>\n",
       "    </tr>\n",
       "  </tbody>\n",
       "</table>\n",
       "</div>"
      ],
      "text/plain": [
       "Symbols       ACN        BA       BAC       CAT        HP      INTC       KMB  \\\n",
       "Symbols                                                                         \n",
       "ACN      0.000211  0.000115  0.000161  0.000134  0.000162  0.000100  0.000044   \n",
       "BA       0.000115  0.000236  0.000194  0.000154  0.000176  0.000106  0.000054   \n",
       "BAC      0.000161  0.000194  0.000581  0.000234  0.000275  0.000151  0.000061   \n",
       "CAT      0.000134  0.000154  0.000234  0.000302  0.000250  0.000132  0.000052   \n",
       "HP       0.000162  0.000176  0.000275  0.000250  0.000545  0.000150  0.000058   \n",
       "INTC     0.000100  0.000106  0.000151  0.000132  0.000150  0.000217  0.000042   \n",
       "KMB      0.000044  0.000054  0.000061  0.000052  0.000058  0.000042  0.000077   \n",
       "NVDA     0.000150  0.000159  0.000248  0.000204  0.000256  0.000174  0.000045   \n",
       "UAA      0.000146  0.000153  0.000230  0.000191  0.000244  0.000132  0.000053   \n",
       "XRX      0.000142  0.000157  0.000234  0.000187  0.000226  0.000141  0.000059   \n",
       "\n",
       "Symbols      NVDA       UAA       XRX  \n",
       "Symbols                                \n",
       "ACN      0.000150  0.000146  0.000142  \n",
       "BA       0.000159  0.000153  0.000157  \n",
       "BAC      0.000248  0.000230  0.000234  \n",
       "CAT      0.000204  0.000191  0.000187  \n",
       "HP       0.000256  0.000244  0.000226  \n",
       "INTC     0.000174  0.000132  0.000141  \n",
       "KMB      0.000045  0.000053  0.000059  \n",
       "NVDA     0.000576  0.000230  0.000212  \n",
       "UAA      0.000230  0.000612  0.000208  \n",
       "XRX      0.000212  0.000208  0.000358  "
      ]
     },
     "execution_count": 28,
     "metadata": {},
     "output_type": "execute_result"
    }
   ],
   "source": [
    "cov"
   ]
  },
  {
   "cell_type": "markdown",
   "metadata": {},
   "source": [
    "### Welches Modell ist besser \"out-of-sample\"?"
   ]
  },
  {
   "cell_type": "markdown",
   "metadata": {},
   "source": [
    "Wir können uns für jede der drei Matrixschätzungen die quadrierten Abweichungen (Squared Losses) von der realisierten Kovarianzmatrix für einen zukünftigen (out-of-sample) Zeitraum (beispielhaft: 2015/2/1 - 2016/6/1) ansehen:"
   ]
  },
  {
   "cell_type": "code",
   "execution_count": 29,
   "metadata": {},
   "outputs": [
    {
     "data": {
      "image/png": "[encoded data removed]",
      "text/plain": [
       "<Figure size 1080x360 with 1 Axes>"
      ]
     },
     "metadata": {
      "needs_background": "light"
     },
     "output_type": "display_data"
    }
   ],
   "source": [
    "stocks_oos = DataReader(list,  'yahoo', datetime(2015,2,1), datetime(2016,6,1))\n",
    "return_df_oos = pd.DataFrame(np.diff(np.log(stocks_oos['Adj Close']).T).T)\n",
    "return_df_oos.index = stocks_oos['Adj Close'].index[1:]\n",
    "return_df_oos.columns = stocks_oos['Adj Close'].columns\n",
    "\n",
    "plt.figure(figsize=(15,5));\n",
    "x = plt.plot(return_df_oos);\n",
    "plt.ylabel('Returns');\n",
    "plt.legend(iter(x), return_df_oos.columns, ncol=5);\n",
    "plt.show();"
   ]
  },
  {
   "cell_type": "code",
   "execution_count": 30,
   "metadata": {},
   "outputs": [
    {
     "data": {
      "text/html": [
       "<div>\n",
       "<style scoped>\n",
       "    .dataframe tbody tr th:only-of-type {\n",
       "        vertical-align: middle;\n",
       "    }\n",
       "\n",
       "    .dataframe tbody tr th {\n",
       "        vertical-align: top;\n",
       "    }\n",
       "\n",
       "    .dataframe thead th {\n",
       "        text-align: right;\n",
       "    }\n",
       "</style>\n",
       "<table border=\"1\" class=\"dataframe\">\n",
       "  <thead>\n",
       "    <tr style=\"text-align: right;\">\n",
       "      <th>Symbols</th>\n",
       "      <th>ACN</th>\n",
       "      <th>BA</th>\n",
       "      <th>BAC</th>\n",
       "      <th>CAT</th>\n",
       "      <th>HP</th>\n",
       "      <th>INTC</th>\n",
       "      <th>KMB</th>\n",
       "      <th>NVDA</th>\n",
       "      <th>UAA</th>\n",
       "      <th>XRX</th>\n",
       "    </tr>\n",
       "    <tr>\n",
       "      <th>Symbols</th>\n",
       "      <th></th>\n",
       "      <th></th>\n",
       "      <th></th>\n",
       "      <th></th>\n",
       "      <th></th>\n",
       "      <th></th>\n",
       "      <th></th>\n",
       "      <th></th>\n",
       "      <th></th>\n",
       "      <th></th>\n",
       "    </tr>\n",
       "  </thead>\n",
       "  <tbody>\n",
       "    <tr>\n",
       "      <th>ACN</th>\n",
       "      <td>0.000178</td>\n",
       "      <td>0.000113</td>\n",
       "      <td>0.000141</td>\n",
       "      <td>0.000106</td>\n",
       "      <td>0.000125</td>\n",
       "      <td>0.000113</td>\n",
       "      <td>0.000072</td>\n",
       "      <td>0.000130</td>\n",
       "      <td>0.000113</td>\n",
       "      <td>0.000122</td>\n",
       "    </tr>\n",
       "    <tr>\n",
       "      <th>BA</th>\n",
       "      <td>0.000113</td>\n",
       "      <td>0.000230</td>\n",
       "      <td>0.000147</td>\n",
       "      <td>0.000127</td>\n",
       "      <td>0.000153</td>\n",
       "      <td>0.000114</td>\n",
       "      <td>0.000086</td>\n",
       "      <td>0.000114</td>\n",
       "      <td>0.000114</td>\n",
       "      <td>0.000142</td>\n",
       "    </tr>\n",
       "    <tr>\n",
       "      <th>BAC</th>\n",
       "      <td>0.000141</td>\n",
       "      <td>0.000147</td>\n",
       "      <td>0.000329</td>\n",
       "      <td>0.000161</td>\n",
       "      <td>0.000212</td>\n",
       "      <td>0.000144</td>\n",
       "      <td>0.000077</td>\n",
       "      <td>0.000162</td>\n",
       "      <td>0.000172</td>\n",
       "      <td>0.000172</td>\n",
       "    </tr>\n",
       "    <tr>\n",
       "      <th>CAT</th>\n",
       "      <td>0.000106</td>\n",
       "      <td>0.000127</td>\n",
       "      <td>0.000161</td>\n",
       "      <td>0.000277</td>\n",
       "      <td>0.000306</td>\n",
       "      <td>0.000124</td>\n",
       "      <td>0.000064</td>\n",
       "      <td>0.000089</td>\n",
       "      <td>0.000120</td>\n",
       "      <td>0.000153</td>\n",
       "    </tr>\n",
       "    <tr>\n",
       "      <th>HP</th>\n",
       "      <td>0.000125</td>\n",
       "      <td>0.000153</td>\n",
       "      <td>0.000212</td>\n",
       "      <td>0.000306</td>\n",
       "      <td>0.000769</td>\n",
       "      <td>0.000161</td>\n",
       "      <td>0.000069</td>\n",
       "      <td>0.000113</td>\n",
       "      <td>0.000178</td>\n",
       "      <td>0.000223</td>\n",
       "    </tr>\n",
       "    <tr>\n",
       "      <th>INTC</th>\n",
       "      <td>0.000113</td>\n",
       "      <td>0.000114</td>\n",
       "      <td>0.000144</td>\n",
       "      <td>0.000124</td>\n",
       "      <td>0.000161</td>\n",
       "      <td>0.000242</td>\n",
       "      <td>0.000067</td>\n",
       "      <td>0.000176</td>\n",
       "      <td>0.000084</td>\n",
       "      <td>0.000123</td>\n",
       "    </tr>\n",
       "    <tr>\n",
       "      <th>KMB</th>\n",
       "      <td>0.000072</td>\n",
       "      <td>0.000086</td>\n",
       "      <td>0.000077</td>\n",
       "      <td>0.000064</td>\n",
       "      <td>0.000069</td>\n",
       "      <td>0.000067</td>\n",
       "      <td>0.000116</td>\n",
       "      <td>0.000063</td>\n",
       "      <td>0.000065</td>\n",
       "      <td>0.000081</td>\n",
       "    </tr>\n",
       "    <tr>\n",
       "      <th>NVDA</th>\n",
       "      <td>0.000130</td>\n",
       "      <td>0.000114</td>\n",
       "      <td>0.000162</td>\n",
       "      <td>0.000089</td>\n",
       "      <td>0.000113</td>\n",
       "      <td>0.000176</td>\n",
       "      <td>0.000063</td>\n",
       "      <td>0.000509</td>\n",
       "      <td>0.000108</td>\n",
       "      <td>0.000141</td>\n",
       "    </tr>\n",
       "    <tr>\n",
       "      <th>UAA</th>\n",
       "      <td>0.000113</td>\n",
       "      <td>0.000114</td>\n",
       "      <td>0.000172</td>\n",
       "      <td>0.000120</td>\n",
       "      <td>0.000178</td>\n",
       "      <td>0.000084</td>\n",
       "      <td>0.000065</td>\n",
       "      <td>0.000108</td>\n",
       "      <td>0.000566</td>\n",
       "      <td>0.000137</td>\n",
       "    </tr>\n",
       "    <tr>\n",
       "      <th>XRX</th>\n",
       "      <td>0.000122</td>\n",
       "      <td>0.000142</td>\n",
       "      <td>0.000172</td>\n",
       "      <td>0.000153</td>\n",
       "      <td>0.000223</td>\n",
       "      <td>0.000123</td>\n",
       "      <td>0.000081</td>\n",
       "      <td>0.000141</td>\n",
       "      <td>0.000137</td>\n",
       "      <td>0.000392</td>\n",
       "    </tr>\n",
       "  </tbody>\n",
       "</table>\n",
       "</div>"
      ],
      "text/plain": [
       "Symbols       ACN        BA       BAC       CAT        HP      INTC       KMB  \\\n",
       "Symbols                                                                         \n",
       "ACN      0.000178  0.000113  0.000141  0.000106  0.000125  0.000113  0.000072   \n",
       "BA       0.000113  0.000230  0.000147  0.000127  0.000153  0.000114  0.000086   \n",
       "BAC      0.000141  0.000147  0.000329  0.000161  0.000212  0.000144  0.000077   \n",
       "CAT      0.000106  0.000127  0.000161  0.000277  0.000306  0.000124  0.000064   \n",
       "HP       0.000125  0.000153  0.000212  0.000306  0.000769  0.000161  0.000069   \n",
       "INTC     0.000113  0.000114  0.000144  0.000124  0.000161  0.000242  0.000067   \n",
       "KMB      0.000072  0.000086  0.000077  0.000064  0.000069  0.000067  0.000116   \n",
       "NVDA     0.000130  0.000114  0.000162  0.000089  0.000113  0.000176  0.000063   \n",
       "UAA      0.000113  0.000114  0.000172  0.000120  0.000178  0.000084  0.000065   \n",
       "XRX      0.000122  0.000142  0.000172  0.000153  0.000223  0.000123  0.000081   \n",
       "\n",
       "Symbols      NVDA       UAA       XRX  \n",
       "Symbols                                \n",
       "ACN      0.000130  0.000113  0.000122  \n",
       "BA       0.000114  0.000114  0.000142  \n",
       "BAC      0.000162  0.000172  0.000172  \n",
       "CAT      0.000089  0.000120  0.000153  \n",
       "HP       0.000113  0.000178  0.000223  \n",
       "INTC     0.000176  0.000084  0.000123  \n",
       "KMB      0.000063  0.000065  0.000081  \n",
       "NVDA     0.000509  0.000108  0.000141  \n",
       "UAA      0.000108  0.000566  0.000137  \n",
       "XRX      0.000141  0.000137  0.000392  "
      ]
     },
     "execution_count": 30,
     "metadata": {},
     "output_type": "execute_result"
    }
   ],
   "source": [
    "realized_cov = return_df_oos.cov()\n",
    "realized_cov"
   ]
  },
  {
   "cell_type": "code",
   "execution_count": 31,
   "metadata": {},
   "outputs": [
    {
     "data": {
      "text/html": [
       "<div>\n",
       "<style scoped>\n",
       "    .dataframe tbody tr th:only-of-type {\n",
       "        vertical-align: middle;\n",
       "    }\n",
       "\n",
       "    .dataframe tbody tr th {\n",
       "        vertical-align: top;\n",
       "    }\n",
       "\n",
       "    .dataframe thead th {\n",
       "        text-align: right;\n",
       "    }\n",
       "</style>\n",
       "<table border=\"1\" class=\"dataframe\">\n",
       "  <thead>\n",
       "    <tr style=\"text-align: right;\">\n",
       "      <th></th>\n",
       "      <th>Squared Loss</th>\n",
       "    </tr>\n",
       "  </thead>\n",
       "  <tbody>\n",
       "    <tr>\n",
       "      <th>Historical Covariance</th>\n",
       "      <td>3.557607e-07</td>\n",
       "    </tr>\n",
       "    <tr>\n",
       "      <th>Constant Correlation Covariance</th>\n",
       "      <td>5.893415e-07</td>\n",
       "    </tr>\n",
       "    <tr>\n",
       "      <th>Single Factor Covariance</th>\n",
       "      <td>3.219049e-07</td>\n",
       "    </tr>\n",
       "    <tr>\n",
       "      <th>Equal Ensemble Covariance</th>\n",
       "      <td>3.980485e-07</td>\n",
       "    </tr>\n",
       "  </tbody>\n",
       "</table>\n",
       "</div>"
      ],
      "text/plain": [
       "                                 Squared Loss\n",
       "Historical Covariance            3.557607e-07\n",
       "Constant Correlation Covariance  5.893415e-07\n",
       "Single Factor Covariance         3.219049e-07\n",
       "Equal Ensemble Covariance        3.980485e-07"
      ]
     },
     "execution_count": 31,
     "metadata": {},
     "output_type": "execute_result"
    }
   ],
   "source": [
    "equal_ensemble = (1/3)*cov + (1/3)*cc_covmatrix + (1/3)*sf_covmatrix\n",
    "\n",
    "historical_loss = np.power(realized_cov-cov,2).sum().sum()\n",
    "cc_loss = np.power(realized_cov-cc_covmatrix,2).sum().sum()\n",
    "sf_loss = np.power(realized_cov-sf_covmatrix,2).sum().sum()\n",
    "ens_loss = np.power(realized_cov-equal_ensemble,2).sum().sum()\n",
    "\n",
    "loss_results = pd.DataFrame([historical_loss,cc_loss,sf_loss,ens_loss])\n",
    "loss_results.index = ['Historical Covariance','Constant Correlation Covariance','Single Factor Covariance','Equal Ensemble Covariance']\n",
    "loss_results.columns = ['Squared Loss']\n",
    "loss_results"
   ]
  },
  {
   "cell_type": "markdown",
   "metadata": {},
   "source": [
    "Das **Ein-Faktor**-Modell hat die besten Ergebnisse geliefert!"
   ]
  }
 ],
 "metadata": {
  "kernelspec": {
   "display_name": "Python 3 (ipykernel)",
   "language": "python",
   "name": "python3"
  },
  "language_info": {
   "codemirror_mode": {
    "name": "ipython",
    "version": 3
   },
   "file_extension": ".py",
   "mimetype": "text/x-python",
   "name": "python",
   "nbconvert_exporter": "python",
   "pygments_lexer": "ipython3",
   "version": "3.9.7"
  },
  "toc": {
   "base_numbering": 1,
   "nav_menu": {},
   "number_sections": false,
   "sideBar": true,
   "skip_h1_title": false,
   "title_cell": "Inhaltsverzeichnis",
   "title_sidebar": "Inhalt",
   "toc_cell": true,
   "toc_position": {},
   "toc_section_display": false,
   "toc_window_display": false
  },
  "varInspector": {
   "cols": {
    "lenName": 16,
    "lenType": 16,
    "lenVar": 40
   },
   "kernels_config": {
    "python": {
     "delete_cmd_postfix": "",
     "delete_cmd_prefix": "del ",
     "library": "var_list.py",
     "varRefreshCmd": "print(var_dic_list())"
    },
    "r": {
     "delete_cmd_postfix": ") ",
     "delete_cmd_prefix": "rm(",
     "library": "var_list.r",
     "varRefreshCmd": "cat(var_dic_list()) "
    }
   },
   "types_to_exclude": [
    "module",
    "function",
    "builtin_function_or_method",
    "instance",
    "_Feature"
   ],
   "window_display": false
  }
 },
 "nbformat": 4,
 "nbformat_minor": 1
}
