{
 "cells": [
  {
   "cell_type": "markdown",
   "metadata": {
    "toc": true
   },
   "source": [
    "<h1>Inhaltsverzeichnis<span class=\"tocSkip\"></span></h1>\n",
    "<div class=\"toc\"><ul class=\"toc-item\"><li><span><a href=\"#B.-Risiko-und-Renditen\" data-toc-modified-id=\"B.-Risiko-und-Renditen-1\">B. Risiko und Renditen</a></span></li><li><span><a href=\"#B.2-Erwartete-Renditen:-Das-CAPM\" data-toc-modified-id=\"B.2-Erwartete-Renditen:-Das-CAPM-2\">B.2 Erwartete Renditen: Das CAPM</a></span><ul class=\"toc-item\"><li><ul class=\"toc-item\"><li><span><a href=\"#Renditezerlegung\" data-toc-modified-id=\"Renditezerlegung-2.0.1\">Renditezerlegung</a></span><ul class=\"toc-item\"><li><span><a href=\"#Beispiel\" data-toc-modified-id=\"Beispiel-2.0.1.1\">Beispiel</a></span></li></ul></li><li><span><a href=\"#Mehr-zum-CAPM\" data-toc-modified-id=\"Mehr-zum-CAPM-2.0.2\">Mehr zum CAPM</a></span></li><li><span><a href=\"#Ex-Post-und-Ex-Ante-CAPM\" data-toc-modified-id=\"Ex-Post-und-Ex-Ante-CAPM-2.0.3\">Ex Post und Ex Ante CAPM</a></span></li><li><span><a href=\"#CAPM-und-Relevanz-für-aktive-Manager\" data-toc-modified-id=\"CAPM-und-Relevanz-für-aktive-Manager-2.0.4\">CAPM und Relevanz für aktive Manager</a></span></li><li><span><a href=\"#CAPM-und-Vorhersagen\" data-toc-modified-id=\"CAPM-und-Vorhersagen-2.0.5\">CAPM und Vorhersagen</a></span></li></ul></li></ul></li></ul></div>"
   ]
  },
  {
   "cell_type": "markdown",
   "metadata": {},
   "source": [
    "# B. Risiko und Renditen \n",
    "# B.2 Erwartete Renditen: Das CAPM"
   ]
  },
  {
   "cell_type": "markdown",
   "metadata": {},
   "source": [
    "### Renditezerlegung"
   ]
  },
  {
   "cell_type": "markdown",
   "metadata": {},
   "source": [
    "- Das CAPM stützt sich auf zwei Konstrukte: ein Marktportfolio $M$ und Beta $\\beta$, welches das Portfolio mit dem Markt verbindet.\n",
    "- In der Theorie enthält $M$ alle risikobehafteten Assets, aber in der Praxis approximiert man das Marktportfolio in der Regel durch einen breiten wertgewichteten Index gehandelter inländischer Aktien.\n",
    "\n",
    "Angenommen, wir haben ein Portfolio $P$ mit Überschussrendite $r_{p}$ und das Marktportfolio $M$ mit Überschussrendite $r_{m}$. Dann ist das Beta des Portfolios $P$ gleich:\n",
    "\n",
    "$$ \\beta_{P} = \\frac{\\text{Cov}(r_{P},r_{M})}{\\text{Var}(r_{M})} $$\n",
    "\n",
    "Die einfachste Schätzung von $\\beta_{P}$ ergibt sich aus einer linearen Regression der Überschussrendite des Portfolios $r_{P}(t)$ auf die Überschussrendite des Marktes $r_{M}(t)$ im gleichen Zeitraum:\n",
    "\n",
    "$$ r_{P}(t) = \\alpha_{P} + \\beta_{P}r_{M}(t) + \\epsilon_{P}(t)  $$\n",
    "\n",
    "Dies sind realisierte oder historische Betas und Alphas. Sie können für praktikable Vorhersagen in der Zukunft verwendet werden.\n",
    "\n",
    "Beta ist eine Möglichkeit, Risiko und Rendite in zwei Teile zu zerlegen: eine Marktkomponente und eine Residualkomponente:\n",
    "\n",
    "\n",
    "$$ r_{P} = \\beta_{P}r_{M} + \\theta_{P} $$\n",
    "\n",
    "\n",
    "Die Residualrendite $\\theta_{P}$ ist mit der Marktrendite $r_{M}$ nicht korreliert, folglich gilt für die Varianz des Portfolios $P$:\n",
    "\n",
    "\n",
    "$$ \\sigma_{P}^{2} = \\beta^{2}_{P}\\sigma_{M}^{2} + \\omega_{P}^{2} $$\n",
    "\n",
    "\n",
    "wobei $\\omega_{P}^{2}$ die Residualvarianz des Portfolios ist.\n",
    "\n",
    "Das **CAPM** besagt, dass die erwartete Residualrendite für alle Aktien und jedes Portfolio gleich Null ist, d.h. $E[\\theta_{P}]=0$. Daher wird die erwartete Überrendite des Portfolios $E[r_{P}]=\\mu_{P}$ vollständig durch die erwartete Überrendite des Marktes, $E[r_{M}]=\\mu_{M}$ und durch das Portfolio $\\beta$ bestimmt:\n",
    "\n",
    "$$ E[r_{P}] = \\beta_{P}E[r_{M}] =  \\beta_{P}\\mu_{M} $$"
   ]
  },
  {
   "cell_type": "markdown",
   "metadata": {},
   "source": [
    "#### Beispiel\n",
    "\n",
    "Wir verwenden den S&P500 als \"Markt\", Macy's (**M**) als Beispiel für eine Aktie und die 1-Monats-Rendite des US Schatzbriefs (Treasury Bill) als risikofreien Zinssatz (wir rechnen den Zinssatz in Tagesrenditen um). Zuerst laden wir die Daten für den Zeitraum 2011-2014. "
   ]
  },
  {
   "cell_type": "code",
   "execution_count": null,
   "metadata": {},
   "outputs": [],
   "source": [
    "import numpy as np\n",
    "import pandas as pd\n",
    "from pandas_datareader import DataReader\n",
    "from datetime import datetime\n",
    "import matplotlib.pyplot as plt\n",
    "import statsmodels.api as sm\n",
    "import seaborn as sns\n",
    "%matplotlib inline "
   ]
  },
  {
   "cell_type": "markdown",
   "metadata": {},
   "source": [
    "Zuerst laden wir die Daten für den risikofreien Zinssatz (aus der Datenbank Fred - Federal Reserve Economic Data) und rechnen ihn in stetige Tageszinsen um:"
   ]
  },
  {
   "cell_type": "code",
   "execution_count": null,
   "metadata": {},
   "outputs": [],
   "source": [
    "one_mon = DataReader('DGS1MO', 'fred',datetime(2012,1,1), datetime(2015,1,1))\n",
    "one_day = np.log(1+one_mon)/365"
   ]
  },
  {
   "cell_type": "markdown",
   "metadata": {},
   "source": [
    "Dann laden und plotten wir die S&P500 Tagesrenditen."
   ]
  },
  {
   "cell_type": "code",
   "execution_count": null,
   "metadata": {},
   "outputs": [],
   "source": [
    "spy = DataReader('SPY',  'yahoo', datetime(2012,1,1), datetime(2015,1,1))\n",
    "spy_returns = pd.DataFrame(np.diff(np.log(spy['Adj Close'].values)))\n",
    "spy_returns.index = spy.index.values[1:spy.index.values.shape[0]]\n",
    "spy_returns.columns = ['S&P500 Returns']\n",
    "\n",
    "plt.figure(figsize=(15,5));\n",
    "plt.plot(spy_returns);\n",
    "plt.ylabel('Returns');\n",
    "plt.title('S&P500 Returns');\n",
    "plt.show();"
   ]
  },
  {
   "cell_type": "markdown",
   "metadata": {},
   "source": [
    "Wir berechnen die Rendite einer Beispielaktie, die in diesem Index gelistet ist - zum Beispiel Macy's (**M**):"
   ]
  },
  {
   "cell_type": "code",
   "execution_count": null,
   "metadata": {},
   "outputs": [],
   "source": [
    "m = DataReader('M',  'yahoo', datetime(2012,1,1), datetime(2015,1,1))\n",
    "m_returns = pd.DataFrame(np.diff(np.log(m['Adj Close'].values)))\n",
    "m_returns.index = spy.index.values[1:m.index.values.shape[0]]\n",
    "m_returns.columns = [\"Macy's Returns\"]\n",
    "\n",
    "plt.figure(figsize=(15,5));\n",
    "plt.plot(m_returns);\n",
    "plt.ylabel('Returns');\n",
    "plt.title(\"Macy's Returns\");\n",
    "plt.show();"
   ]
  },
  {
   "cell_type": "markdown",
   "metadata": {},
   "source": [
    "Als nächstes müssen wir die Zeitreihen zusammenführen, um sicherzustellen, dass sie im gleichen Zeitraum liegen und dann die Überrenditen berechnen."
   ]
  },
  {
   "cell_type": "code",
   "execution_count": null,
   "metadata": {},
   "outputs": [],
   "source": [
    "returns = pd.concat([one_day,m_returns,spy_returns],axis=1).dropna()\n",
    "excess_m = returns[\"Macy's Returns\"].values - returns['DGS1MO'].values\n",
    "excess_spy = returns[\"S&P500 Returns\"].values - returns['DGS1MO'].values\n",
    "final_returns = pd.DataFrame(np.transpose([excess_m,excess_spy, returns['DGS1MO'].values]))\n",
    "final_returns.columns=[\"Excess Macy's Returns\",\"Excess S&P500 Returns\",\"Risk-free rate\"]\n",
    "final_returns.index = returns.index\n",
    "\n",
    "plt.figure(figsize=(15,5))\n",
    "plt.title(\"Returns\")\n",
    "x = plt.plot(final_returns);\n",
    "plt.legend(iter(x), final_returns.columns);"
   ]
  },
  {
   "cell_type": "markdown",
   "metadata": {},
   "source": [
    "Nun werden wir eine lineare Regression unter Verwendung der beiden Zeitreihen durchführen."
   ]
  },
  {
   "cell_type": "code",
   "execution_count": null,
   "metadata": {},
   "outputs": [],
   "source": [
    "exog = excess_spy\n",
    "exog"
   ]
  },
  {
   "cell_type": "code",
   "execution_count": null,
   "metadata": {},
   "outputs": [],
   "source": [
    "exog = sm.add_constant(exog, prepend=True)\n",
    "exog"
   ]
  },
  {
   "cell_type": "code",
   "execution_count": null,
   "metadata": {},
   "outputs": [],
   "source": [
    "import statsmodels.api as sm\n",
    "\n",
    "exog = excess_spy\n",
    "exog = sm.add_constant(exog, prepend=True)\n",
    "mod = sm.OLS(excess_m, exog)\n",
    "res = mod.fit()\n",
    "print(res.summary())"
   ]
  },
  {
   "cell_type": "markdown",
   "metadata": {},
   "source": [
    "Es resultieren die Werte $\\beta_{M}=1,0324$ und $\\alpha=0,0003$, wobei Letzterer statistisch nicht signifikant ist - im Einklang mit dem CAPM, welches keine risikoadjustierten Überrenditen vorhersagt.\n",
    "\n",
    "Anhand dieser Ergebnisse können wir die Überschussrenditen in die Marktkomponente und die Residualkomponente aufteilen:"
   ]
  },
  {
   "cell_type": "code",
   "execution_count": null,
   "metadata": {},
   "outputs": [],
   "source": [
    "market_c = excess_spy*1.0324\n",
    "residual_c = excess_m - market_c\n",
    "\n",
    "plt.figure(figsize=(15,8))\n",
    "plt.subplot(211)\n",
    "plt.title(\"Market component of excess returns\");\n",
    "plt.plot(final_returns.index,market_c);\n",
    "plt.subplot(212)\n",
    "plt.title(\"Residual component of excess returns\");\n",
    "plt.plot(final_returns.index,residual_c);"
   ]
  },
  {
   "cell_type": "markdown",
   "metadata": {},
   "source": [
    "### Mehr zum CAPM"
   ]
  },
  {
   "cell_type": "markdown",
   "metadata": {},
   "source": [
    "Die \"sinnvollen\" Implikationen des CAPM:\n",
    "\n",
    "- Sofern das CAPM gilt, handelt es sich bei jedem Portfolio das vom Markt abweicht um ein Nullsummenspiel. Es verfügt über zusätzliches Risiko ohne zusätzliche Renditeerwartungen.\n",
    "- Wörtlich genommen impliziert das CAPM, dass passives Management optimal ist. Das Eingehen von Residualrisiko wird nicht in Form höherer Renditeerwartungen entlohnt, da es durch Diversifikation vermeidbar ist.\n",
    "\n",
    "\n",
    "Implikationen für das Portfoliomanagement:\n",
    "\n",
    "- Nimmt man die erwarteten Renditen aus dem CAPM und steckt sie in einen $\\mu$-$\\sigma$ Optimierer, erhält man das Marktportfolio.\n",
    "- Alternativ können wir vom Marktportfolio ausgehen und annehmen, dass es optimal ist, und dann die erwarteten Renditen, die mit dieser Annahme übereinstimmen, herausrechnen."
   ]
  },
  {
   "cell_type": "markdown",
   "metadata": {},
   "source": [
    "### Ex Post und Ex Ante CAPM"
   ]
  },
  {
   "cell_type": "markdown",
   "metadata": {},
   "source": [
    "Erweitern wir die Analyse um 2 weitere Aktien **AMZN** und **UAA** (Amazon und Under Armor):"
   ]
  },
  {
   "cell_type": "code",
   "execution_count": null,
   "metadata": {},
   "outputs": [],
   "source": [
    "a = DataReader('AMZN',  'yahoo', datetime(2012,1,1), datetime(2015,1,1))\n",
    "a_returns = pd.DataFrame(np.diff(np.log(a['Adj Close'].values)))\n",
    "a_returns.index = a.index.values[1:a.index.values.shape[0]]\n",
    "a_returns.columns = [\"Amazon Returns\"]\n",
    "\n",
    "ua = DataReader('UAA',  'yahoo', datetime(2012,1,1), datetime(2015,1,1))\n",
    "ua_returns = pd.DataFrame(np.diff(np.log(ua['Adj Close'].values)))\n",
    "ua_returns.index = ua.index.values[1:ua.index.values.shape[0]]\n",
    "ua_returns.columns = [\"Under Armor Returns\"]\n",
    "\n",
    "returns = pd.concat([one_day,a_returns,ua_returns],axis=1).dropna()\n",
    "excess_a = returns[\"Amazon Returns\"].values - returns['DGS1MO'].values\n",
    "excess_ua = returns[\"Under Armor Returns\"].values - returns['DGS1MO'].values\n"
   ]
  },
  {
   "cell_type": "markdown",
   "metadata": {},
   "source": [
    "Wir benötigen die Betas für beide Aktien:"
   ]
  },
  {
   "cell_type": "code",
   "execution_count": null,
   "metadata": {},
   "outputs": [],
   "source": [
    "mod = sm.OLS(excess_a, exog)\n",
    "res = mod.fit()\n",
    "print(res.summary())\n",
    "\n",
    "mod = sm.OLS(excess_ua, exog)\n",
    "res = mod.fit()\n",
    "print(res.summary())"
   ]
  },
  {
   "cell_type": "markdown",
   "metadata": {},
   "source": [
    "Wir berechnen nun die erwarteten Jahresrenditen für unsere drei Aktien und den Markt und zeichnen die ex ante **Security Market Line (SML)**:"
   ]
  },
  {
   "cell_type": "code",
   "execution_count": null,
   "metadata": {},
   "outputs": [],
   "source": [
    "expected_spy = np.log(1+np.mean(excess_spy))*365\n",
    "betas = np.array([0,1,1.0324,1.2319,1.2590])\n",
    "expected_rf = np.log(1+np.mean(returns['DGS1MO'].values))*365\n",
    "expected_returns = betas*expected_spy + expected_rf\n",
    "data_names = ['Risk-free rate', 'Market','Macys','Under Armor','Amazon']\n",
    "\n",
    "plt.figure(figsize=(15,5))\n",
    "plt.plot(betas,expected_returns);\n",
    "plt.plot(betas,expected_returns,'bo')\n",
    "\n",
    "for i, txt in enumerate(expected_returns):\n",
    "    plt.annotate(data_names[i], (betas[i],expected_returns[i]))\n",
    "\n",
    "plt.xlabel(\"Beta\")\n",
    "plt.ylabel(\"Expected Annual Return\")"
   ]
  },
  {
   "cell_type": "markdown",
   "metadata": {},
   "source": [
    "Hier ist der Achsenabschnitt der risikofreie Zinssatz und die Steigung entspricht der erwarteten Überrendite für den Markt. Betrachten wir nun die Ex-Post-Renditen für das nächste Jahr. Der Einfachheit halber nehmen wir an, dass die Betas und der risikofreie Zinssatz gleich bleiben:"
   ]
  },
  {
   "cell_type": "code",
   "execution_count": null,
   "metadata": {},
   "outputs": [],
   "source": [
    "a_new = DataReader('AMZN',  'yahoo', datetime(2015,1,2), datetime(2016,1,1))\n",
    "a_new_price = a_new['Adj Close'].values\n",
    "a_annual = (a_new_price[a_new_price.shape[0]-1]/a_new_price[0] - 1)\n",
    "      \n",
    "m_new = DataReader('M',  'yahoo', datetime(2015,1,2), datetime(2016,1,1))\n",
    "m_new_price = m_new['Adj Close'].values\n",
    "m_annual = (m_new_price[m_new_price.shape[0]-1]/m_new_price[0] - 1)\n",
    "\n",
    "ua_new = DataReader('UAA',  'yahoo', datetime(2015,1,2), datetime(2016,1,1))\n",
    "ua_new_price = ua_new['Adj Close'].values\n",
    "ua_annual = (ua_new_price[ua_new_price.shape[0]-1]/ua_new_price[0] - 1)\n",
    "\n",
    "spy_new = DataReader('SPY',  'yahoo', datetime(2015,1,2), datetime(2016,1,1))\n",
    "spy_new_price = spy_new['Adj Close'].values\n",
    "spy_annual = (spy_new_price[spy_new_price.shape[0]-1]/spy_new_price[0] - 1)\n",
    "\n",
    "expected_returns_real = [expected_returns[0],spy_annual,m_annual,ua_annual,a_annual]\n",
    "sml_real = np.array([0,1,1.0324,1.2319,1.2590])*spy_annual\n",
    "sml_real[0] = expected_returns[0]"
   ]
  },
  {
   "cell_type": "code",
   "execution_count": null,
   "metadata": {},
   "outputs": [],
   "source": [
    "\n",
    "print(expected_returns)\n",
    "print(sml_real)"
   ]
  },
  {
   "cell_type": "code",
   "execution_count": null,
   "metadata": {},
   "outputs": [],
   "source": [
    "plt.figure(figsize=(15,10))\n",
    "\n",
    "plt.plot(betas,expected_returns,label='Ex-ante security market line')\n",
    "plt.plot(betas,expected_returns,'bo')\n",
    "\n",
    "plt.plot(betas,expected_returns_real,'go', label='Realized Returns')\n",
    "\n",
    "plt.plot(betas,sml_real,c='r',label='Ex-post security market line')\n",
    "plt.plot(betas,sml_real,'ro')  \n",
    "\n",
    "for i, txt in enumerate(expected_returns):\n",
    "    plt.annotate(data_names[i], (betas[i],expected_returns[i]))\n",
    "  \n",
    "for i, txt in enumerate(expected_returns):\n",
    "    plt.annotate(data_names[i], (betas[i],sml_real[i]))    \n",
    "    \n",
    "for i, txt in enumerate(expected_returns):\n",
    "    plt.annotate(data_names[i], (betas[i],expected_returns_real[i]))\n",
    "    \n",
    "plt.xlabel(\"Beta\");\n",
    "plt.ylabel(\"Expected Annual Return\");\n",
    "plt.legend(loc=2);"
   ]
  },
  {
   "cell_type": "markdown",
   "metadata": {},
   "source": [
    "Die Ex-post-SML sagt uns die Renditekomponente, die das CAPM prognostiziert hätte, wenn wir gewusst hätten, wie sich das Marktportfolio entwickeln würde. Die Steigung ist negativ, da der Markt in diesem Zeitraum weniger als den risikofreien Zinssatz verdient hat.\n",
    "\n",
    "Eine weitere Möglichkeit, das CAPM zu visualisieren, ist die Darstellung der täglichen Überrenditen einer Aktie und des Marktes. Hier stellen wir für den Zeitraum 2012-2014 die Überrenditen für Amazon und S&P500 gegenüber:"
   ]
  },
  {
   "cell_type": "code",
   "execution_count": null,
   "metadata": {},
   "outputs": [],
   "source": [
    "plt.figure(figsize=(15,10))\n",
    "plt.plot(excess_a,excess_spy,'.')\n",
    "plt.grid(True)\n",
    "plt.ylabel(\"S&P500 Excess Returns\");\n",
    "plt.xlabel(\"Amazon Excess Returns\");"
   ]
  },
  {
   "cell_type": "code",
   "execution_count": null,
   "metadata": {},
   "outputs": [],
   "source": [
    "sns.lmplot(x = \"excess_a\", y = \"excess_spy\", \n",
    "            data = pd.DataFrame(data = np.transpose([excess_a, excess_spy]), columns = [\"excess_a\", \"excess_spy\"]))\n"
   ]
  },
  {
   "cell_type": "markdown",
   "metadata": {},
   "source": [
    "### CAPM und Relevanz für aktive Manager"
   ]
  },
  {
   "cell_type": "markdown",
   "metadata": {},
   "source": [
    "Das CAPM funktioniert gut im Vergleich zu der \"naiven\" Hypothese, dass die erwarteten Renditen für alle Aktien gleich sind, aber weniger gut, wenn wir die Hypothese testen, dass $\\alpha$ 0 ist. Was die Relevanz für aktive Manager betrifft, so sieht das CAPM oberflächlich betrachtet angesichts seiner Implikationen nicht besonders nützlich aus, aber es ist immer noch sinnvoll als Benchmark, anhand derer der Mehrwert des aktiven Managers bewertet werden kann. \n",
    "\n",
    "Das CAPM kann einem aktiven Manager auch dabei helfen, zwischen Markt- und Residualkomponenten der Rendite zu unterscheiden. Diese Zerlegung ermöglicht es Managern, das Einnehmen aktiver Marktpositionen zu vermeiden, indem sie Portfoliobetas nahe an 1 wählen (d.h. sie ermöglicht es ihnen, das Risiko des Market Timing zu vermeiden und ihr Augenmerk auf Residualrenditen zu richten, die einen Erwartungswert von Null haben)."
   ]
  },
  {
   "cell_type": "markdown",
   "metadata": {},
   "source": [
    "### CAPM und Vorhersagen"
   ]
  },
  {
   "cell_type": "markdown",
   "metadata": {},
   "source": [
    "- Wir benötigen Vorhersagen für die Betas! Am einfachsten ist die Schätzung auf Basis historischer Renditen.\n",
    "- Wir benötigen Prognosen über erwartete Überrenditen des Marktportfolios! Auch hier sind historisch-basierte Schätzungen die einfachste Option."
   ]
  }
 ],
 "metadata": {
  "kernelspec": {
   "display_name": "Python 3 (ipykernel)",
   "language": "python",
   "name": "python3"
  },
  "language_info": {
   "codemirror_mode": {
    "name": "ipython",
    "version": 3
   },
   "file_extension": ".py",
   "mimetype": "text/x-python",
   "name": "python",
   "nbconvert_exporter": "python",
   "pygments_lexer": "ipython3",
   "version": "3.9.7"
  },
  "toc": {
   "base_numbering": 1,
   "nav_menu": {},
   "number_sections": false,
   "sideBar": true,
   "skip_h1_title": false,
   "title_cell": "Inhaltsverzeichnis",
   "title_sidebar": "Inhalt",
   "toc_cell": true,
   "toc_position": {},
   "toc_section_display": true,
   "toc_window_display": false
  },
  "varInspector": {
   "cols": {
    "lenName": 16,
    "lenType": 16,
    "lenVar": 40
   },
   "kernels_config": {
    "python": {
     "delete_cmd_postfix": "",
     "delete_cmd_prefix": "del ",
     "library": "var_list.py",
     "varRefreshCmd": "print(var_dic_list())"
    },
    "r": {
     "delete_cmd_postfix": ") ",
     "delete_cmd_prefix": "rm(",
     "library": "var_list.r",
     "varRefreshCmd": "cat(var_dic_list()) "
    }
   },
   "types_to_exclude": [
    "module",
    "function",
    "builtin_function_or_method",
    "instance",
    "_Feature"
   ],
   "window_display": false
  }
 },
 "nbformat": 4,
 "nbformat_minor": 1
}
