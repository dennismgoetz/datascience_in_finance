{
 "cells": [
  {
   "cell_type": "markdown",
   "metadata": {
    "toc": true
   },
   "source": [
    "<h1>Inhaltsverzeichnis<span class=\"tocSkip\"></span></h1>\n",
    "<div class=\"toc\"><ul class=\"toc-item\"><li><span><a href=\"#D.-Systematische-Handelsstrategien\" data-toc-modified-id=\"D.-Systematische-Handelsstrategien-1\">D. Systematische Handelsstrategien</a></span></li><li><span><a href=\"#D.1-Ein-Asset-Strategien\" data-toc-modified-id=\"D.1-Ein-Asset-Strategien-2\">D.1 Ein-Asset-Strategien</a></span></li><li><span><a href=\"#D.1.1-Mean-Reversion\" data-toc-modified-id=\"D.1.1-Mean-Reversion-3\">D.1.1 Mean Reversion</a></span><ul class=\"toc-item\"><li><ul class=\"toc-item\"><li><span><a href=\"#1.-Grundlagen\" data-toc-modified-id=\"1.-Grundlagen-3.0.1\">1. Grundlagen</a></span></li><li><span><a href=\"#2.-Overfitting\" data-toc-modified-id=\"2.-Overfitting-3.0.2\">2. Overfitting</a></span><ul class=\"toc-item\"><li><span><a href=\"#Was-ist-Overfitting?\" data-toc-modified-id=\"Was-ist-Overfitting?-3.0.2.1\">Was ist Overfitting?</a></span></li><li><span><a href=\"#Beispiel:-Rollierende-Fenster-(Rolling-Windows)\" data-toc-modified-id=\"Beispiel:-Rollierende-Fenster-(Rolling-Windows)-3.0.2.2\">Beispiel: Rollierende Fenster (Rolling Windows)</a></span></li><li><span><a href=\"#Overfitting-vermeiden\" data-toc-modified-id=\"Overfitting-vermeiden-3.0.2.3\">Overfitting vermeiden</a></span></li></ul></li><li><span><a href=\"#3.-Mean-Reversion-Portfolio\" data-toc-modified-id=\"3.-Mean-Reversion-Portfolio-3.0.3\">3. Mean Reversion Portfolio</a></span><ul class=\"toc-item\"><li><span><a href=\"#Alternative-Ansätze\" data-toc-modified-id=\"Alternative-Ansätze-3.0.3.1\">Alternative Ansätze</a></span></li></ul></li></ul></li></ul></li></ul></div>"
   ]
  },
  {
   "cell_type": "markdown",
   "metadata": {},
   "source": [
    "# D. Systematische Handelsstrategien\n",
    "# D.1 Ein-Asset-Strategien\n",
    "# D.1.1 Mean Reversion\n",
    "### 1. Grundlagen\n",
    "Mean-Reversion-Strategien gehen von der Annahme aus, dass der Preis eines Assets zufälligen Fluktuationen um einen stabilen Basistrend herum unterliegt. Daher werden Werte, die weit vom Trend (dem beobachteten Mittelwert) abweichen, dazu neigen die Richtung zu wechseln und zum Mittelwert zurückzukehren. Wenn der momentane Assetpreis ungewöhnlich hoch ist, erwarten wir, dass er wieder sinkt und steigt, wenn er ungewöhnlich niedrig ist. "
   ]
  },
  {
   "cell_type": "markdown",
   "metadata": {},
   "source": [
    "Eine Mean Reversion im Zusammenhang mit einem Aktienkurs bedeutet, dass auf Perioden, in denen der Kurs weit unter dem Mittelwert liegt Perioden folgen, in denen der Kurs ansteigt und umgekehrt. Wir können dies ausnutzen, indem wir die Aktie kaufen (d.h., long gehen), wenn der Preis niedriger als erwartet ist und verkaufen (d.h., short gehen), wenn der Preis höher als erwartet ist. Lassen Sie uns die Idee am Beispiel der Aktie Procter & Gamble (Ticker: PG) verdeutlichen. Zunächst plotten wir den Aktienkurs zusammen mit seinem rollierenden Mittelwert, um zu sehen, ob der Kurs zum Mittelwert zurückkehrt."
   ]
  },
  {
   "cell_type": "code",
   "execution_count": 1,
   "metadata": {},
   "outputs": [],
   "source": [
    "#pip install pandas-datareader"
   ]
  },
  {
   "cell_type": "code",
   "execution_count": 2,
   "metadata": {},
   "outputs": [
    {
     "ename": "TypeError",
     "evalue": "string indices must be integers",
     "output_type": "error",
     "traceback": [
      "\u001b[1;31m---------------------------------------------------------------------------\u001b[0m",
      "\u001b[1;31mTypeError\u001b[0m                                 Traceback (most recent call last)",
      "\u001b[1;32m~\\AppData\\Local\\Temp/ipykernel_13844/1644449034.py\u001b[0m in \u001b[0;36m<module>\u001b[1;34m\u001b[0m\n\u001b[0;32m     11\u001b[0m \u001b[0mend\u001b[0m \u001b[1;33m=\u001b[0m \u001b[1;34m'2016-12-31'\u001b[0m\u001b[1;33m\u001b[0m\u001b[1;33m\u001b[0m\u001b[0m\n\u001b[0;32m     12\u001b[0m \u001b[0mm\u001b[0m\u001b[1;33m=\u001b[0m \u001b[1;34m'PG'\u001b[0m\u001b[1;33m\u001b[0m\u001b[1;33m\u001b[0m\u001b[0m\n\u001b[1;32m---> 13\u001b[1;33m \u001b[0mprices\u001b[0m \u001b[1;33m=\u001b[0m \u001b[0mweb\u001b[0m\u001b[1;33m.\u001b[0m\u001b[0mget_data_yahoo\u001b[0m\u001b[1;33m(\u001b[0m\u001b[0mm\u001b[0m\u001b[1;33m,\u001b[0m \u001b[0mstart\u001b[0m\u001b[1;33m,\u001b[0m \u001b[0mend\u001b[0m\u001b[1;33m)\u001b[0m\u001b[1;33m[\u001b[0m\u001b[1;34m'Adj Close'\u001b[0m\u001b[1;33m]\u001b[0m\u001b[1;33m\u001b[0m\u001b[1;33m\u001b[0m\u001b[0m\n\u001b[0m\u001b[0;32m     14\u001b[0m \u001b[0mprices\u001b[0m \u001b[1;33m=\u001b[0m \u001b[0mpd\u001b[0m\u001b[1;33m.\u001b[0m\u001b[0mDataFrame\u001b[0m\u001b[1;33m(\u001b[0m\u001b[0mprices\u001b[0m\u001b[1;33m)\u001b[0m\u001b[1;33m\u001b[0m\u001b[1;33m\u001b[0m\u001b[0m\n\u001b[0;32m     15\u001b[0m \u001b[1;33m\u001b[0m\u001b[0m\n",
      "\u001b[1;32m~\\anaconda3\\lib\\site-packages\\pandas_datareader\\data.py\u001b[0m in \u001b[0;36mget_data_yahoo\u001b[1;34m(*args, **kwargs)\u001b[0m\n\u001b[0;32m     78\u001b[0m \u001b[1;33m\u001b[0m\u001b[0m\n\u001b[0;32m     79\u001b[0m \u001b[1;32mdef\u001b[0m \u001b[0mget_data_yahoo\u001b[0m\u001b[1;33m(\u001b[0m\u001b[1;33m*\u001b[0m\u001b[0margs\u001b[0m\u001b[1;33m,\u001b[0m \u001b[1;33m**\u001b[0m\u001b[0mkwargs\u001b[0m\u001b[1;33m)\u001b[0m\u001b[1;33m:\u001b[0m\u001b[1;33m\u001b[0m\u001b[1;33m\u001b[0m\u001b[0m\n\u001b[1;32m---> 80\u001b[1;33m     \u001b[1;32mreturn\u001b[0m \u001b[0mYahooDailyReader\u001b[0m\u001b[1;33m(\u001b[0m\u001b[1;33m*\u001b[0m\u001b[0margs\u001b[0m\u001b[1;33m,\u001b[0m \u001b[1;33m**\u001b[0m\u001b[0mkwargs\u001b[0m\u001b[1;33m)\u001b[0m\u001b[1;33m.\u001b[0m\u001b[0mread\u001b[0m\u001b[1;33m(\u001b[0m\u001b[1;33m)\u001b[0m\u001b[1;33m\u001b[0m\u001b[1;33m\u001b[0m\u001b[0m\n\u001b[0m\u001b[0;32m     81\u001b[0m \u001b[1;33m\u001b[0m\u001b[0m\n\u001b[0;32m     82\u001b[0m \u001b[1;33m\u001b[0m\u001b[0m\n",
      "\u001b[1;32m~\\anaconda3\\lib\\site-packages\\pandas_datareader\\base.py\u001b[0m in \u001b[0;36mread\u001b[1;34m(self)\u001b[0m\n\u001b[0;32m    251\u001b[0m         \u001b[1;31m# If a single symbol, (e.g., 'GOOG')\u001b[0m\u001b[1;33m\u001b[0m\u001b[1;33m\u001b[0m\u001b[0m\n\u001b[0;32m    252\u001b[0m         \u001b[1;32mif\u001b[0m \u001b[0misinstance\u001b[0m\u001b[1;33m(\u001b[0m\u001b[0mself\u001b[0m\u001b[1;33m.\u001b[0m\u001b[0msymbols\u001b[0m\u001b[1;33m,\u001b[0m \u001b[1;33m(\u001b[0m\u001b[0mstring_types\u001b[0m\u001b[1;33m,\u001b[0m \u001b[0mint\u001b[0m\u001b[1;33m)\u001b[0m\u001b[1;33m)\u001b[0m\u001b[1;33m:\u001b[0m\u001b[1;33m\u001b[0m\u001b[1;33m\u001b[0m\u001b[0m\n\u001b[1;32m--> 253\u001b[1;33m             \u001b[0mdf\u001b[0m \u001b[1;33m=\u001b[0m \u001b[0mself\u001b[0m\u001b[1;33m.\u001b[0m\u001b[0m_read_one_data\u001b[0m\u001b[1;33m(\u001b[0m\u001b[0mself\u001b[0m\u001b[1;33m.\u001b[0m\u001b[0murl\u001b[0m\u001b[1;33m,\u001b[0m \u001b[0mparams\u001b[0m\u001b[1;33m=\u001b[0m\u001b[0mself\u001b[0m\u001b[1;33m.\u001b[0m\u001b[0m_get_params\u001b[0m\u001b[1;33m(\u001b[0m\u001b[0mself\u001b[0m\u001b[1;33m.\u001b[0m\u001b[0msymbols\u001b[0m\u001b[1;33m)\u001b[0m\u001b[1;33m)\u001b[0m\u001b[1;33m\u001b[0m\u001b[1;33m\u001b[0m\u001b[0m\n\u001b[0m\u001b[0;32m    254\u001b[0m         \u001b[1;31m# Or multiple symbols, (e.g., ['GOOG', 'AAPL', 'MSFT'])\u001b[0m\u001b[1;33m\u001b[0m\u001b[1;33m\u001b[0m\u001b[0m\n\u001b[0;32m    255\u001b[0m         \u001b[1;32melif\u001b[0m \u001b[0misinstance\u001b[0m\u001b[1;33m(\u001b[0m\u001b[0mself\u001b[0m\u001b[1;33m.\u001b[0m\u001b[0msymbols\u001b[0m\u001b[1;33m,\u001b[0m \u001b[0mDataFrame\u001b[0m\u001b[1;33m)\u001b[0m\u001b[1;33m:\u001b[0m\u001b[1;33m\u001b[0m\u001b[1;33m\u001b[0m\u001b[0m\n",
      "\u001b[1;32m~\\anaconda3\\lib\\site-packages\\pandas_datareader\\yahoo\\daily.py\u001b[0m in \u001b[0;36m_read_one_data\u001b[1;34m(self, url, params)\u001b[0m\n\u001b[0;32m    151\u001b[0m         \u001b[1;32mtry\u001b[0m\u001b[1;33m:\u001b[0m\u001b[1;33m\u001b[0m\u001b[1;33m\u001b[0m\u001b[0m\n\u001b[0;32m    152\u001b[0m             \u001b[0mj\u001b[0m \u001b[1;33m=\u001b[0m \u001b[0mjson\u001b[0m\u001b[1;33m.\u001b[0m\u001b[0mloads\u001b[0m\u001b[1;33m(\u001b[0m\u001b[0mre\u001b[0m\u001b[1;33m.\u001b[0m\u001b[0msearch\u001b[0m\u001b[1;33m(\u001b[0m\u001b[0mptrn\u001b[0m\u001b[1;33m,\u001b[0m \u001b[0mresp\u001b[0m\u001b[1;33m.\u001b[0m\u001b[0mtext\u001b[0m\u001b[1;33m,\u001b[0m \u001b[0mre\u001b[0m\u001b[1;33m.\u001b[0m\u001b[0mDOTALL\u001b[0m\u001b[1;33m)\u001b[0m\u001b[1;33m.\u001b[0m\u001b[0mgroup\u001b[0m\u001b[1;33m(\u001b[0m\u001b[1;36m1\u001b[0m\u001b[1;33m)\u001b[0m\u001b[1;33m)\u001b[0m\u001b[1;33m\u001b[0m\u001b[1;33m\u001b[0m\u001b[0m\n\u001b[1;32m--> 153\u001b[1;33m             \u001b[0mdata\u001b[0m \u001b[1;33m=\u001b[0m \u001b[0mj\u001b[0m\u001b[1;33m[\u001b[0m\u001b[1;34m\"context\"\u001b[0m\u001b[1;33m]\u001b[0m\u001b[1;33m[\u001b[0m\u001b[1;34m\"dispatcher\"\u001b[0m\u001b[1;33m]\u001b[0m\u001b[1;33m[\u001b[0m\u001b[1;34m\"stores\"\u001b[0m\u001b[1;33m]\u001b[0m\u001b[1;33m[\u001b[0m\u001b[1;34m\"HistoricalPriceStore\"\u001b[0m\u001b[1;33m]\u001b[0m\u001b[1;33m\u001b[0m\u001b[1;33m\u001b[0m\u001b[0m\n\u001b[0m\u001b[0;32m    154\u001b[0m         \u001b[1;32mexcept\u001b[0m \u001b[0mKeyError\u001b[0m\u001b[1;33m:\u001b[0m\u001b[1;33m\u001b[0m\u001b[1;33m\u001b[0m\u001b[0m\n\u001b[0;32m    155\u001b[0m             \u001b[0mmsg\u001b[0m \u001b[1;33m=\u001b[0m \u001b[1;34m\"No data fetched for symbol {} using {}\"\u001b[0m\u001b[1;33m\u001b[0m\u001b[1;33m\u001b[0m\u001b[0m\n",
      "\u001b[1;31mTypeError\u001b[0m: string indices must be integers"
     ]
    }
   ],
   "source": [
    "# Import necessary libaries\n",
    "%matplotlib inline\n",
    "import numpy as np\n",
    "import matplotlib.pyplot as plt\n",
    "import pandas as pd\n",
    "import pandas_datareader.data as web\n",
    "from datetime import datetime\n",
    "\n",
    "# Load the prices data for a stock\n",
    "start = '2013-06-01'\n",
    "end = '2016-12-31'\n",
    "m= 'PG'\n",
    "prices = web.get_data_yahoo(m, start, end)['Adj Close']\n",
    "prices = pd.DataFrame(prices)\n",
    "\n",
    "# Compute the cumulative moving average of the price\n",
    "prices['mu'] = [prices['Adj Close'][:i].mean() for i in range(len(prices))]\n",
    "# Plot the price and the moving average\n",
    "plt.figure(figsize=(15,7))\n",
    "plt.plot(prices['Adj Close'])\n",
    "plt.plot(prices['mu'])\n",
    "plt.show()"
   ]
  },
  {
   "cell_type": "markdown",
   "metadata": {},
   "source": [
    "Da wir den rollierenden Durchschnitt berechnen, ist zu beachten, dass die \"Rückkehr zum Mittelwert\" nicht unbedingt bedeutet, dass die bisherigen Höchst- und Niedrigwerte wieder erreicht werden.\n",
    "\n",
    "Um anhand dieser Strategie handeln zu können, müssen wir quantifizieren was es bedeutet, wenn der Preis höher oder niedriger als erwartet ausfällt. Hierfür ist es nützlich, den z-Score des Preises an jedem Tag zu berechnen, der uns sagt wie viele Standardabweichungen vom Mittelwert der aktuelle Aktienkurs entfernt ist:\n",
    "\n",
    "$$ z = \\frac{x - \\mu}{\\sigma} $$\n",
    "\n",
    "wobei $x$ der aktuelle Kurs, $\\mu$ der Stichprobenmittelwert des Kurses und $\\sigma$ seine Standardabweichung ist. Ein Preis mit einem z-Score $> 1$ liegt somit um mehr als eine Standardabweichung über dem Mittelwert. Dies ist ein mögliches Signal für einen Leerverkauf (Short Sale) der Aktie. Wenn der Preis an einem Tag einen z-Score $< -1$ hat, ist dies umgekehrt ein Signal für einen Aktienkauf (eine Long Position). Liegt der Preis innerhalb einer halben Standardabweichung um den Mittelwert, werden wir unsere Position glattstellen. Implementieren wir nun diese Strategie:"
   ]
  },
  {
   "cell_type": "code",
   "execution_count": null,
   "metadata": {},
   "outputs": [],
   "source": [
    "# Compute the z-scores for each day using the historical data up to that day\n",
    "zscores = [(prices['Adj Close'][i] - prices['mu'][i]) / np.std(prices['Adj Close'][:i]) for i in range(len(prices))]\n",
    "\n",
    "# Start with no money and no positions\n",
    "money = 0\n",
    "count = 0\n",
    "for i in range(len(prices)):\n",
    "    # Sell short if the z-score is > 1\n",
    "    if zscores[i] > 1:\n",
    "        money += prices['Adj Close'][i]\n",
    "        count -= 1\n",
    "    # Buy long if the z-score is < -1\n",
    "    elif zscores[i] < -1:\n",
    "        money -= prices['Adj Close'][i]\n",
    "        count += 1\n",
    "    # Clear positions if the z-score between -.5 and .5\n",
    "    elif abs(zscores[i]) < 0.5:\n",
    "        money += count*prices['Adj Close'][i]\n",
    "        count = 0\n",
    "print(money)"
   ]
  },
  {
   "cell_type": "markdown",
   "metadata": {},
   "source": [
    "### 2. Overfitting\n",
    "\n",
    "#### Was ist Overfitting?\n",
    "\n",
    "Jeder systematischen, regelgebundenen Handelsstrategie liegt ein Modell zugrunde, welches die Portfoliogewichte und Handelssignale liefert. Beim Konstruieren eines solchen Modells stimmen wir sowohl die Parameter als auch das Modell als solches ab, indem wir es mit Hilfe von Beispieldaten anpassen (d.h., parametrisieren). Dann verwenden wir das Modell und die Parameter, um zukünftige Daten (und damit Handelssignale) vorherzusagen, die wir noch nicht beobachtet haben. Ein Modell wird als *overfitted* bezeichnet, wenn es übermäßig empfindlich auf Noise (d.h., Zufallsrauschen - das Gegenteil von Information) in den Stichprobendaten reagiert und daher den zugrundeliegenden Datengenerierungs-Prozess nicht zutreffend widerspiegelt.\n",
    "\n",
    "Um zu verstehen, warum dies geschieht, muss man die in jedem Datensatz vorhandene Menge an Noise berücksichtigen. Man kann einen Datensatz betrachten als die Summe von Information ($D_{T}$), d.h., die wahren zugrundeliegenden Daten, die aus dem Prozess stammen, den wir zu modellieren versuchen, und Zufallsrauschen ($\\epsilon$). Was wir also tatsächlich sehen, ist $D = D_{T} + \\epsilon$. Durch den Aufbau eines komplexen Modells könnten wir es theoretisch so anpassen, dass es nicht nur die Information \"lernt\", sondern auch das Datenrauschen $\\epsilon$. Wenn wir dieses Modell jedoch an zukünftigen Daten aus einer neuen (Out-of-Sample) Stichprobe testen, wird es $D_{T}$ nicht mit großer Genauigkeit vorhersagen können.\n",
    "\n",
    "Im Kern ist für uns eine Parametrisierung unseres Modells an eine Stichprobe nur deshalb wichtig, um damit möglichst genau zukünftige Daten vorhersagen zu können. Wir wollen also nur die Information aus den Daten lernen, und nicht das zufällige Rauschen! Die beiden Hauptursachen für Overfitting sind:\n",
    "* Eine zu kleine Stichprobe, so dass Rauschen und Trend (Information) nicht unterscheidbar sind;\n",
    "* Die Auswahl eines übermäßig komplexen Modells, das den Datensatz perfekt auswendig lernt (fitted);\n",
    "\n",
    "Wenn man dies auf Aktien anwendet, so ist ein Modell, das viele spezifische Regeln auf der Grundlage bestimmter vergangener Ereignisse erlernt, fast immer overfitted. Aus diesem Grund ist das Black-Box Machine Learning (Entscheidungsbäume, Neuronale Netze, usw.) so gefährlich, wenn es nicht korrekt durchgeführt wird."
   ]
  },
  {
   "cell_type": "markdown",
   "metadata": {},
   "source": [
    "#### Beispiel: Rollierende Fenster (Rolling Windows)\n",
    "\n",
    "Eine der Herausforderungen bei der Erstellung eines Modells welches rollierende Parameterschätzungen verwendet, wie z.B. rollierende Mittelwerte oder rollierende Beta-Werte, ist die Wahl der Länge des Fensters (Window Length). Ein längeres Fenster wird langfristige Trends berücksichtigen und weniger volatil sein, aber es wird auch langsamer auf neue Beobachtungen reagieren. Die Wahl der Window Length wirkt sich stark auf die Schätzung der rollierenden Parameter aus und kann die Art und Weise verändern, wie wir die Daten sehen und behandeln. Zur Verdeutlichung  berechnen wir im Folgenden die rollierenden Durchschnitte eines Aktienpreises für verschiedene Window Lengths:"
   ]
  },
  {
   "cell_type": "code",
   "execution_count": null,
   "metadata": {},
   "outputs": [],
   "source": [
    "# Load the pricing data for a stock\n",
    "start = '2012-01-01'\n",
    "end = '2014-06-30'\n",
    "assets = ['MCD']\n",
    "\n",
    "prices = web.get_data_yahoo(assets, start, end)['Adj Close']\n",
    "prices = pd.DataFrame(prices)\n",
    "\n",
    "asset = prices.iloc[:, 0]\n",
    "# Compute rolling averages for various window lengths\n",
    "mu_30d = asset.rolling(window=30, center=False).mean()\n",
    "mu_60d = asset.rolling(window=60, center=False).mean()\n",
    "mu_100d = asset.rolling(window=100, center=False).mean()\n",
    "\n",
    "# Plot asset pricing data with rolling means from the 100th day, when all the means become available\n",
    "plt.figure(figsize=(15,7))\n",
    "plt.plot(asset[100:], label='Asset')\n",
    "plt.plot(mu_30d[100:], label='30d MA')\n",
    "plt.plot(mu_60d[100:], label='60d MA')\n",
    "plt.plot(mu_100d[100:], label='100d MA')\n",
    "plt.xlabel('Day')\n",
    "plt.ylabel('Price')\n",
    "plt.legend()\n",
    "plt.show()"
   ]
  },
  {
   "cell_type": "markdown",
   "metadata": {},
   "source": [
    "Wenn wir die Länge danach wählen wie gut unser Modell oder unser Algorithmus funktioniert, dann betreiben wir Overfitting. Nachfolgend implementieren wir einen einfachen Handelsalgorithmus, der darauf wettet, dass der Aktienkurs zum rollierenden Mittelwert zurückkehrt. Wir verwenden die Performance dieses Algorithmus, um die optimale (d.h., die Performance-maximierende) Window Length zu ermitteln. Wenn wir jedoch eine andere Analyseperiode in Betracht ziehen, ist diese Window Length mit großer Wahrscheinlichkeit nicht mehr optimal. Das liegt daran, dass unsere ursprüngliche Wahl an den Beispieldaten \"overfitted\" wurde."
   ]
  },
  {
   "cell_type": "code",
   "execution_count": null,
   "metadata": {},
   "outputs": [],
   "source": [
    "# Trade using a simple mean-reversion strategy\n",
    "def trade(stock, length):\n",
    "    \n",
    "    # If window length is 0, algorithm doesn't make sense, so exit\n",
    "    if length == 0:\n",
    "        return 0\n",
    "    \n",
    "    # Compute rolling mean and rolling standard deviation\n",
    "    mu = stock.rolling(window=length, center=False).mean()\n",
    "    std = stock.rolling(window=length, center=False).std()\n",
    "    \n",
    "    # Compute the z-scores for each day using the historical data up to that day\n",
    "    zscores = (stock - mu)/std\n",
    "    \n",
    "    # Simulate trading\n",
    "    # Start with no money and no positions\n",
    "    money = 0\n",
    "    count = 0\n",
    "    for i in range(len(stock)):\n",
    "        # Sell short if the z-score is > 1\n",
    "        if zscores[i] > 1:\n",
    "            money += stock[i]\n",
    "            count -= 1\n",
    "        # Buy long if the z-score is < -1\n",
    "        elif zscores[i] < -1:\n",
    "            money -= stock[i]\n",
    "            count += 1\n",
    "        # Clear positions if the z-score between -.5 and .5\n",
    "        elif abs(zscores[i]) < 0.5:\n",
    "            money += count*stock[i]\n",
    "            count = 0\n",
    "    return money"
   ]
  },
  {
   "cell_type": "code",
   "execution_count": null,
   "metadata": {},
   "outputs": [],
   "source": [
    "# Find the window length 0-254 that gives the highest returns using this strategy\n",
    "length_scores = [trade(asset, l) for l in range(255)]\n",
    "best_length = np.argmax(length_scores)\n",
    "print('Best window length:', best_length)"
   ]
  },
  {
   "cell_type": "code",
   "execution_count": null,
   "metadata": {},
   "outputs": [],
   "source": [
    "# Get pricing data for a different timeframe\n",
    "start2 = '2014-06-30'\n",
    "end2 = '2017-01-01'\n",
    "assets = ['MCD']\n",
    "\n",
    "prices2 = web.get_data_yahoo(assets, start2, end2)['Adj Close']\n",
    "prices2 = pd.DataFrame(prices2)\n",
    "asset2 = prices2.iloc[:, 0]\n",
    "\n",
    "# Find the returns during this period using what we think is the best window length\n",
    "length_scores2 = [trade(asset2, l) for l in range(255)]\n",
    "print(best_length, 'day window:', length_scores2[best_length])\n",
    "\n",
    "# Find the best window length based on this dataset, and the returns using this window length\n",
    "best_length2 = np.argmax(length_scores2)\n",
    "print(best_length2, 'day window:', length_scores2[best_length2])"
   ]
  },
  {
   "cell_type": "markdown",
   "metadata": {},
   "source": [
    "Es wird deutlich, dass eine Anpassung an unsere Beispieldaten nicht immer zu guten Ergebnissen in der Zukunft führt. Lassen Sie uns für beide Zeitperioden den Zusammenhang zwischen Performance und Window Length graphisch darstellen:"
   ]
  },
  {
   "cell_type": "code",
   "execution_count": null,
   "metadata": {},
   "outputs": [],
   "source": [
    "plt.figure(figsize=(15,7))\n",
    "plt.plot(length_scores)\n",
    "plt.plot(length_scores2)\n",
    "plt.xlabel('Window length')\n",
    "plt.ylabel('Score')\n",
    "plt.legend(['2012-2014', '2014-2016'])\n",
    "plt.show()"
   ]
  },
  {
   "cell_type": "markdown",
   "metadata": {},
   "source": [
    "#### Overfitting vermeiden\n",
    "\n",
    "Wir können versuchen Overfitting zu vermeiden, indem wir große Stichproben verwenden, vernünftige und einfache Modelle wählen und nicht die Parameterwerte herauspicken, die augenscheinlich am besten zu den Daten passen. Jedoch ist anzumerken, dass schon zwei Backtests zu einem Overfitting führen.\n",
    "\n",
    "##### - Out-of-Sample Testing\n",
    "\n",
    "Um sicherzugehen, dass wir unser Modell nicht durch Overfitting unbrauchbar machen, müssen wir es Out-of-Sample testen. Das heißt, wir müssen Daten sammeln, die wir bei der Konstruktion des Modells nicht verwendet haben, und testen, ob unser Modell weiterhin funktioniert. Wenn wir nicht nach Belieben große Mengen an zusätzlichen Daten sammeln können, sollten wir unsere Stichprobe in zwei Teilmengen separieren, von denen eine nur für das Out-of-Sample Testing reserviert wird.\n",
    "\n",
    "##### - Häufiger Fehler: Missbrauch von Out-of-Sample Daten\n",
    "\n",
    "Nehmen wir die folgende Situation an. Sie konstruieren ein Modell auf In-Sample Daten, testen es Out-of-Sample und kommen zu dem Schluss, dass es nicht funktioniert. Dann wiederholen Sie diesen Prozess, bis Sie ein Modell finden, das funktioniert. Bei diesem Vorgehen handelt es sich immer noch um Overfitting, da Sie das Modell an die Out-of-Sample Daten angepasst haben, indem sie diese Daten wiederholt verwendet haben, und wenn Sie tatsächlich mit echten Daten außerhalb der Stichprobe testen, wird Ihr Modell wahrscheinlich schlecht abschneiden.\n",
    "\n",
    "\n",
    "##### - Kreuzvalidierung\n",
    "\n",
    "Bei der Kreuzvalidierung (Cross Validation) werden die Daten in n Teilmengen zerlegt. Die optimalen Parameter werden für n-1 kombinierte Teilmengen geschätzt und an der zurückgehaltenen Teilmenge getestet. Indem wir diesen Prozeß n-mal durchführen, ein Mal für jede der n zurückgehaltenen Teilmengen, können wir feststellen, wie stabil unsere Parameterschätzungen sind und wie viel Vorhersagekraft sie für Daten haben, die nicht aus dem ursprünglichen Datensatz stammen."
   ]
  },
  {
   "cell_type": "markdown",
   "metadata": {},
   "source": [
    "### 3. Mean Reversion Portfolio\n",
    "\n",
    "Die Gefahr der Anwendung von Mean Reversion Strategien auf eine einzelne Aktie besteht darin, dass wir uns unter anderem den allgemeinen Bewegungen des Marktes und dem Erfolg oder Misserfolg eines einzelnen Unternehmens aussetzen. Wenn es einen anhaltenden Trend gibt, der sich auf den Kurs des Wertpapiers auswirkt, werden wir den Vermögenswert immer wieder unterbewerten (wenn sich der Kurs stetig nach oben bewegt) oder überbewerten (wenn der Kurs fällt). Nun lernen wir eine Strategie kennen, die dieses Risiko mindert.\n",
    "\n",
    "Anstatt den Mittelwert der historischen Renditen eines Vermögenswertes zu nehmen, können wir uns den Mittelwert der Renditen aller Aktien, z.B. des S&P 500 ansehen. Unter der Hypothese, dass die Aktien mit der schlechtesten Performance im vergangenen Zeitraum im aktuellen Zeitraum besser abschneiden werden (d.h., sie sind wahrscheinlich unterbewertet) und umgekehrt, setzen wir bei Aktien, die sich schlecht entwickelt haben, auf steigende Kurse und bei Aktien, die sich gut entwickelt haben, auf fallende Kurse.\n",
    "\n",
    "Dieser Ansatz hat den Vorteil, dass er marktneutral ist, so dass wir Aktien nicht als unterbewertet behandeln, nur weil der Markt als Ganzes fällt, oder als überbewertet, wenn der Markt steigt. Darüber hinaus werden wir durch die Aufnahme einer großen Anzahl von Wertpapieren in unser Portfolio wahrscheinlich auf viele Fälle stoßen, in denen unsere Vorhersage zutrifft.\n",
    "\n",
    "Um ein Portfolio zu konstruieren, das sich die Mean Reversion zunutze macht, wählen wir zunächst ein Universum aus, z.B. alle Aktien des S&P 500 oder die an der NYSE am meisten gehandelten Aktien. Auf Basis dieses Universums schichten wir unser Portfolio in jeder Periode (z.B. jede Woche) neu um (Rebalancing), indem wir bei den 20% der Aktien mit der geringsten Rendite (Past Loser Stocks) über die vergangene Periode Long gehen und die obersten 20% der Aktien mit der höchsten Rendite (Past Winner) shorten. Befindet sich eine Aktie des Universums in keinem dieser Quintile, nehmen wir sie nicht in unser Portfolio auf.\n",
    "\n",
    "Lassen Sie uns ein Beispiel mit nur 10 Aktien konstruieren:"
   ]
  },
  {
   "cell_type": "code",
   "execution_count": null,
   "metadata": {},
   "outputs": [],
   "source": [
    "# Fetch prices data for 10 stocks from different sectors and plot returns\n",
    "start = '2016-12-01'\n",
    "end = '2016-12-31'\n",
    "assets = ['AAPL', 'AIG', 'C', 'T', 'PG', 'JNJ', 'EOG', 'DD', 'MET', 'AMGN']\n",
    "\n",
    "prices_list = []\n",
    "for ticker in assets:\n",
    "    try:\n",
    "        prices = web.get_data_yahoo(ticker, start, end)['Adj Close']\n",
    "        prices = pd.DataFrame(prices)\n",
    "        prices.columns = [ticker]\n",
    "        prices_list.append(prices)\n",
    "    except:\n",
    "        pass\n",
    "    prices_df = pd.concat(prices_list,axis=1)\n",
    "\n",
    "returns = prices_df/prices_df.shift(-1) -1\n",
    "returns.plot(figsize=(15,7), color=['r', 'g', 'b', 'k', 'c', 'm', 'orange', 'chartreuse', 'slateblue', 'silver'])\n",
    "plt.legend(bbox_to_anchor=(1.05, 1), loc=2, borderaxespad=0.)\n",
    "plt.ylabel('Returns')\n",
    "\n",
    "# Convert to numpy array to make manipulation easier\n",
    "data = np.array(prices_df)\n"
   ]
  },
  {
   "cell_type": "markdown",
   "metadata": {},
   "source": [
    "Wir gehen davon aus, dass die Aktien, die sich in der ersten Woche eines Monats gut entwickeln, im restlichen Verlauf des Monat schlechter performen werden, während diejenigen, die sich anfangs schlecht entwickeln, an Wert gewinnen werden."
   ]
  },
  {
   "cell_type": "code",
   "execution_count": null,
   "metadata": {},
   "outputs": [],
   "source": [
    "# For each security, take the return for the first week\n",
    "wreturns = (data[4] - data[0])/data[0]\n",
    "# Rank securities by return, with 0 being the lowest return\n",
    "order = wreturns.argsort()\n",
    "ranks = order.argsort()\n",
    "\n",
    "# For each security, take the return for the month following the first week\n",
    "# Normalization for the time period doesn't matter since we're only using the returns to rank them\n",
    "mreturns = (data[-1] - data[5])/data[5]\n",
    "order2 = mreturns.argsort()\n",
    "ranks2 = order2.argsort()\n",
    "\n",
    "# Plot the returns for the first week vs returns for the next month to visualize them\n",
    "plt.figure(figsize=(15,7))\n",
    "plt.scatter(wreturns, mreturns)\n",
    "plt.xlabel('Returns for the first week')\n",
    "plt.ylabel('Returns for the following month')"
   ]
  },
  {
   "cell_type": "markdown",
   "metadata": {},
   "source": [
    "Die Renditen sehen aus als wären sie unkorreliert, aber was wäre passiert, wenn wir bei der Untersuchung der Renditen der vergangenen Woche die Strategie der Mean Reversion verfolgt hätten?"
   ]
  },
  {
   "cell_type": "code",
   "execution_count": null,
   "metadata": {},
   "outputs": [],
   "source": [
    "ranks"
   ]
  },
  {
   "cell_type": "code",
   "execution_count": null,
   "metadata": {},
   "outputs": [],
   "source": [
    "longs = np.array([int(x < 2)for x in ranks])\n",
    "longs\n",
    "shorts"
   ]
  },
  {
   "cell_type": "code",
   "execution_count": null,
   "metadata": {},
   "outputs": [],
   "source": [
    "# Go long (by one share each) in the bottom 20% of securities and short in the top 20%\n",
    "longs = np.array([int(x < 2)for x in ranks])\n",
    "shorts = np.array([int(x > 7) for x in ranks])\n",
    "print('Going long in:', [assets[i] for i in range(len(assets)) if longs[i]])\n",
    "print('Going short in:', [assets[i] for i in range(len(assets)) if shorts[i]])\n",
    "\n",
    "# Resolve all positions and calculate how much we would have earned\n",
    "print('Yield:', sum((data[-1] - data[4])*(longs - shorts)))"
   ]
  },
  {
   "cell_type": "markdown",
   "metadata": {},
   "source": [
    "#### Alternative Ansätze\n",
    "\n",
    "Mean Reversion Strategien gehen davon aus, dass sich die Preis- und/oder Renditetrends tendenziell umkehren. Am entgegengesetzten Ende des Spektrums stehen trendfolgende oder momentumbasierte Strategien. Diese gehen davon aus, dass sich die Preise trotz Schwankungen zumindest temporär weiter in die Richtung bewegen, in die sie sich zuvor bewegt haben. Diese werden in Abschnitt D.1.2 ausführlicher behandelt."
   ]
  }
 ],
 "metadata": {
  "kernelspec": {
   "display_name": "Python 3 (ipykernel)",
   "language": "python",
   "name": "python3"
  },
  "language_info": {
   "codemirror_mode": {
    "name": "ipython",
    "version": 3
   },
   "file_extension": ".py",
   "mimetype": "text/x-python",
   "name": "python",
   "nbconvert_exporter": "python",
   "pygments_lexer": "ipython3",
   "version": "3.9.7"
  },
  "toc": {
   "base_numbering": 1,
   "nav_menu": {},
   "number_sections": false,
   "sideBar": false,
   "skip_h1_title": false,
   "title_cell": "Inhaltsverzeichnis",
   "title_sidebar": "Inhalt",
   "toc_cell": true,
   "toc_position": {},
   "toc_section_display": true,
   "toc_window_display": false
  },
  "varInspector": {
   "cols": {
    "lenName": 16,
    "lenType": 16,
    "lenVar": 40
   },
   "kernels_config": {
    "python": {
     "delete_cmd_postfix": "",
     "delete_cmd_prefix": "del ",
     "library": "var_list.py",
     "varRefreshCmd": "print(var_dic_list())"
    },
    "r": {
     "delete_cmd_postfix": ") ",
     "delete_cmd_prefix": "rm(",
     "library": "var_list.r",
     "varRefreshCmd": "cat(var_dic_list()) "
    }
   },
   "types_to_exclude": [
    "module",
    "function",
    "builtin_function_or_method",
    "instance",
    "_Feature"
   ],
   "window_display": false
  }
 },
 "nbformat": 4,
 "nbformat_minor": 1
}
