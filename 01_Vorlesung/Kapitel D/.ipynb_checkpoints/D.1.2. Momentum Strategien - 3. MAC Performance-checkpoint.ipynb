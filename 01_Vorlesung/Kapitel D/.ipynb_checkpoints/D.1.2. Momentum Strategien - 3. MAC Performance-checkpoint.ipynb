{
 "cells": [
  {
   "cell_type": "markdown",
   "metadata": {
    "toc": true
   },
   "source": [
    "<h1>Inhaltsverzeichnis<span class=\"tocSkip\"></span></h1>\n",
    "<div class=\"toc\"><ul class=\"toc-item\"><li><span><a href=\"#D.-Systematische-Handelsstrategien\" data-toc-modified-id=\"D.-Systematische-Handelsstrategien-1\">D. Systematische Handelsstrategien</a></span></li><li><span><a href=\"#D.1-Ein-Asset-Strategien\" data-toc-modified-id=\"D.1-Ein-Asset-Strategien-2\">D.1 Ein-Asset-Strategien</a></span></li><li><span><a href=\"#D.1.2-Momentum-Strategien\" data-toc-modified-id=\"D.1.2-Momentum-Strategien-3\">D.1.2 Momentum-Strategien</a></span><ul class=\"toc-item\"><li><span><a href=\"#3.-Moving-Average-Crossover:-Performancemessung\" data-toc-modified-id=\"3.-Moving-Average-Crossover:-Performancemessung-3.1\">3. Moving Average Crossover: Performancemessung</a></span></li></ul></li></ul></div>"
   ]
  },
  {
   "cell_type": "markdown",
   "metadata": {},
   "source": [
    "# D. Systematische Handelsstrategien\n",
    "# D.1 Ein-Asset-Strategien\n",
    "# D.1.2 Momentum-Strategien\n",
    "\n",
    "## 3. Moving Average Crossover: Performancemessung\n",
    "In diesem Abschnitt machen wir uns die Ergebnisse zunutze, die wir im letzten Abschnitt aus dem Backtest zur Crossover-Strategie mit gleitenden Durchschnitten erhalten haben. Zudem verbringen wir etwas Zeit damit, die sogenannte Equity Curve einzuführen und tiefer in die Analyse einiger wichtiger Leistungsindikatoren einzusteigen."
   ]
  },
  {
   "cell_type": "code",
   "execution_count": 1,
   "metadata": {},
   "outputs": [],
   "source": [
    "#import relevant modules\n",
    "import pandas as pd\n",
    "import numpy as np\n",
    "import pandas_datareader.data as web\n",
    "from math import sqrt\n",
    "import matplotlib.pyplot as plt"
   ]
  },
  {
   "cell_type": "code",
   "execution_count": 2,
   "metadata": {},
   "outputs": [
    {
     "data": {
      "image/png": "[encoded data removed]",
      "text/plain": [
       "<Figure size 432x288 with 1 Axes>"
      ]
     },
     "metadata": {
      "needs_background": "light"
     },
     "output_type": "display_data"
    }
   ],
   "source": [
    "#download data into DataFrame and create moving averages columns\n",
    "sp500 = web.get_data_yahoo('^GSPC',start='1/1/2000',end='8/31/2019')\n",
    "\n",
    "sp500['42d'] = np.round(sp500['Close'].rolling(window=42).mean(),2)\n",
    "sp500['252d'] = np.round(sp500['Close'].rolling(window=252).mean(),2)\n",
    "\n",
    "#create column with moving average spread differential\n",
    "sp500['42-252'] = sp500['42d'] - sp500['252d']\n",
    "\n",
    "#set desired number of points as threshold for spread difference and \n",
    "#create column containing strategy 'Stance'\n",
    "X = 50\n",
    "sp500['Stance'] = np.where(sp500['42-252'] > X, 1, 0)\n",
    "sp500['Stance'] = np.where(sp500['42-252'] < -X, -1, sp500['Stance'])\n",
    "sp500['Stance'].value_counts()\n",
    "\n",
    "#create columns containing daily market log returns and strategy daily log returns\n",
    "sp500['Market Returns'] = np.log(sp500['Close'] / sp500['Close'].shift(1))\n",
    "sp500['Strategy'] = sp500['Market Returns'] * sp500['Stance'].shift(1)\n",
    "\n",
    "#set strategy starting equity to 1 (i.e. 100%) and generate equity curve\n",
    "sp500['Strategy Equity'] = sp500['Strategy'].cumsum() + 1\n",
    "\n",
    "#show chart of equity curve\n",
    "sp500['Strategy Equity'].plot();\n"
   ]
  },
  {
   "cell_type": "markdown",
   "metadata": {},
   "source": [
    "Beachten Sie, dass die Equity Curve einer Strategie die kumulierten Strategierenditen (um 1 erhöht) darstellt. Sie steht im DataFrame in der Spalte 'Strategy Equity'. "
   ]
  },
  {
   "cell_type": "markdown",
   "metadata": {},
   "source": [
    "Zur Struktur der nachfolgenden Inhalte: wir beginnen mit Diagrammen und besprechen dann zentrale Performancemaße.\n",
    "\n",
    "1) Abschnitt \"Diagramme\" - wir werden zunächst nützliche Diagramme zur Performanceanalyse einer Strategie erstellen:\n",
    "\n",
    "    a) Gleitende 1-Jahres annualisierte Volatilität\n",
    "    b) Gleitende 1-Jahres Trefferquote (Hit Ratio)\n",
    "    c) Gleitende 1-Jahres-Renditen\n",
    "    d) Tägliche Renditecharts\n",
    "    e) Histogramm der täglichen Renditeverteilung\n",
    "\n",
    "Unser erster Schritt besteht darin, ein neues DataFrame zu erstellen, das genau die Daten enthält, die wir benötigen, nämlich die Equity Curve der Strategie sowie die täglichen Strategierenditen. Dies geschieht wie folgt:"
   ]
  },
  {
   "cell_type": "code",
   "execution_count": 3,
   "metadata": {},
   "outputs": [],
   "source": [
    "strat = pd.DataFrame([sp500['Strategy Equity'], sp500['Strategy']]).T"
   ]
  },
  {
   "cell_type": "markdown",
   "metadata": {},
   "source": [
    "Jetzt müssen wir den DataFrame so aufbauen, dass er alle Rohdaten enthält, die wir für die Berechnung der oben skizzierten Datenreihen, die wir plotten wollen, benötigen. Der Code hierfür lautet:"
   ]
  },
  {
   "cell_type": "code",
   "execution_count": 4,
   "metadata": {},
   "outputs": [],
   "source": [
    "#create columns that indicate whether each days return was positive, \n",
    "#negative or flat.\n",
    "strat['win'] = (np.where(strat['Strategy'] > 0, 1,0)) \n",
    "strat['loss'] = (np.where(strat['Strategy'] < 0, 1,0)) \n",
    "strat['scratch'] = (np.where(strat['Strategy'] == 0, 1,0)) \n",
    "\n",
    "#create columns with a cumulative sum of each of the columns created above \n",
    "strat['wincum'] = (np.where(strat['Strategy'] > 0, 1,0)).cumsum() \n",
    "strat['losscum'] = (np.where(strat['Strategy'] < 0, 1,0)).cumsum() \n",
    "strat['scratchcum'] = (np.where(strat['Strategy'] == 0, 1,0)).cumsum() \n",
    "\n",
    "#create a column that holds a running sum of trading days - \n",
    "#we will use this to create our percentages later \n",
    "strat['days'] = (strat['wincum'] + strat['losscum'] + strat['scratchcum']) \n",
    "\n",
    "#create columns that show the 252 day rolling sum of the \n",
    "#winning/losing/flat days \n",
    "strat['rollwin'] = strat['win'].rolling(window=252).sum() \n",
    "strat['rollloss'] = strat['loss'].rolling(window=252).sum() \n",
    "strat['rollscratch'] = strat['scratch'].rolling(window=252).sum() \n",
    "\n",
    "#create columns with hit ratio and loss ratio data \n",
    "strat['hitratio'] = strat['wincum'] / (strat['wincum']+strat['losscum']) \n",
    "strat['lossratio'] = 1 - strat['hitratio'] \n",
    "\n",
    "#create columns with rolling 252 day hit ratio and loss ratio data \n",
    "strat['rollhitratio'] = strat['hitratio'].rolling(window=252).mean() \n",
    "strat['rolllossratio'] = 1 - strat['rollhitratio'] \n",
    "\n",
    "#create column with rolling 12 month return \n",
    "strat['roll12mret'] = strat['Strategy'].rolling(window=252).sum() \n",
    "\n",
    "#create column with average win, average loss and average daily return data \n",
    "strat['averagewin'] = strat['Strategy'][(strat['Strategy'] > 0)].mean() \n",
    "strat['averageloss'] = strat['Strategy'][(strat['Strategy'] < 0)].mean() \n",
    "strat['averagedailyret'] = strat['Strategy'].mean() \n",
    "\n",
    "#create column with rolling 1 year daily standard deviation and \n",
    "#rolling 1 year annualised standard deviation\n",
    "strat['roll12mstdev'] = strat['Strategy'].rolling(window=252).std() \n",
    "strat['roll12mannualisedvol'] = strat['roll12mstdev'] * sqrt(252)"
   ]
  },
  {
   "cell_type": "markdown",
   "metadata": {},
   "source": [
    "Gut, jetzt haben wir alle unsere Daten vorbereitet, um die verschiedenen, oben erwähnten Diagramme zu erstellen.\n",
    "\n",
    "Wir können dies wie folgt tun:"
   ]
  },
  {
   "cell_type": "code",
   "execution_count": 5,
   "metadata": {},
   "outputs": [
    {
     "data": {
      "image/png": "[encoded data removed]",
      "text/plain": [
       "<Figure size 576x360 with 1 Axes>"
      ]
     },
     "metadata": {
      "needs_background": "light"
     },
     "output_type": "display_data"
    }
   ],
   "source": [
    "strat['roll12mannualisedvol'].plot(grid=True, figsize=(8,5),\n",
    "title='Rolling 1 Year Annualised Volatility');"
   ]
  },
  {
   "cell_type": "code",
   "execution_count": 6,
   "metadata": {},
   "outputs": [
    {
     "data": {
      "image/png": "[encoded data removed]",
      "text/plain": [
       "<Figure size 576x360 with 1 Axes>"
      ]
     },
     "metadata": {
      "needs_background": "light"
     },
     "output_type": "display_data"
    }
   ],
   "source": [
    "strat['rollhitratio'].plot(grid=True, figsize=(8,5),\n",
    "title='Rolling 1 Year Hit Ratio');"
   ]
  },
  {
   "cell_type": "code",
   "execution_count": 7,
   "metadata": {},
   "outputs": [
    {
     "data": {
      "image/png": "[encoded data removed]",
      "text/plain": [
       "<Figure size 576x360 with 1 Axes>"
      ]
     },
     "metadata": {
      "needs_background": "light"
     },
     "output_type": "display_data"
    }
   ],
   "source": [
    "strat['roll12mret'].plot(grid=True, figsize=(8,5),\n",
    "title='Rolling 1 Year Returns');"
   ]
  },
  {
   "cell_type": "code",
   "execution_count": 8,
   "metadata": {},
   "outputs": [
    {
     "data": {
      "image/png": "[encoded data removed]",
      "text/plain": [
       "<Figure size 576x360 with 1 Axes>"
      ]
     },
     "metadata": {
      "needs_background": "light"
     },
     "output_type": "display_data"
    }
   ],
   "source": [
    "strat['Strategy'].plot(grid=True, figsize=(8,5),\n",
    "title='Daily Returns');"
   ]
  },
  {
   "cell_type": "code",
   "execution_count": 9,
   "metadata": {},
   "outputs": [
    {
     "data": {
      "image/png": "[encoded data removed]",
      "text/plain": [
       "<Figure size 576x360 with 1 Axes>"
      ]
     },
     "metadata": {
      "needs_background": "light"
     },
     "output_type": "display_data"
    }
   ],
   "source": [
    "strat['Strategy'].plot(kind='hist',figsize=(8,5),\n",
    "title='Daily Return Distribution',bins=100);"
   ]
  },
  {
   "cell_type": "markdown",
   "metadata": {},
   "source": [
    "Als Randnotiz könnten wir hier schnell einen Blick auf die Schiefe (Skewness) und Wölbung (Kurtosis) der täglichen Renditeverteilung werfen, und zwar wie folgt"
   ]
  },
  {
   "cell_type": "code",
   "execution_count": 10,
   "metadata": {},
   "outputs": [
    {
     "name": "stdout",
     "output_type": "stream",
     "text": [
      "Skew: -0.0967\n",
      "Kurtosis: 14.9604\n"
     ]
    }
   ],
   "source": [
    "print(\"Skew:\",round(strat['Strategy'].skew(),4))\n",
    "print(\"Kurtosis:\",round(strat['Strategy'].kurt(),4))"
   ]
  },
  {
   "cell_type": "markdown",
   "metadata": {},
   "source": [
    "Die Verteilung täglicher Strategierenditen ähnelt somit nicht einer Normalverteilung. Sie weist eine leicht negative Schiefe und eine hohe Kurtosis auf (die Schiefe der Normalverteilung ist 0 und die Kurtosis 3).\n",
    "\n",
    "Wir werden jetzt einige wichtige Leistungsindikatoren (KPIs) erstellen, die in der Praxis regelmäßig zusammen mit der Analyse der Rendite von Handelsstrategien vorzufinden sind. Die Auswahl der Indikatoren erhebt dabei nicht den Anspruch vollständig zu sein.\n",
    "\n",
    "Wir berechnen die folgenden KPIs:\n",
    "\n",
    "    1) Annualisierte Rendite\n",
    "    2) Rendite der letzten 12 Monate\n",
    "    3) Volatilität\n",
    "    4) Sharpe-Ratio\n",
    "    5) Maximum Drawdown\n",
    "    6) Calmar-Ratio (annualisierte Rendite / Maximum Drawdown)\n",
    "    7) Volatilität / Maximum Drawdown\n",
    "    8) Beste Monatsperformance\n",
    "    9) Schlechteste Monatsperformance\n",
    "    10) % gewinnbringender Monate & % der nicht gewinnbringenden Monate\n",
    "    11) Anzahl der gewinnbringenden Monate/Anzahl der nicht gewinnbringenden Monate\n",
    "    12) Durchschnittlicher monatlicher Gewinn\n",
    "    13) Durchschnittlicher monatlicher Verlust\n",
    "    14) Durchschnittlicher monatlicher Gewinn/durchschnittlicher monatlicher Verlust\n",
    "\n",
    "Bevor wir weitermachen, werden wir noch schnell einen neuen DataFrame erstellen, der unsere Strategieergebnisse auf monatlicher statt auf täglicher Basis enthält - dies wird später bestimmte Berechnungen erleichtern und es uns ermöglichen, eine monatliche Ergebnistabelle zu erzeugen; das neue DataFrame kann durch \"re-sampling\" der ursprünglichen DataFrame-Spalte der täglichen Strategieergebnisse erstellt werden."
   ]
  },
  {
   "cell_type": "code",
   "execution_count": 11,
   "metadata": {},
   "outputs": [],
   "source": [
    "#Create a new DataFrame to hold our monthly data and populate it with \n",
    "#the data from the daily returns column of our original DataFrame \n",
    "#and sum it by month\n",
    "stratm = pd.DataFrame(strat['Strategy'].resample('M').sum())\n",
    "\n",
    "#Build the monthly data equity curve\n",
    "stratm['Strategy Equity'] = stratm['Strategy'].cumsum()+1\n",
    "\n",
    "#Add a column that holds the numerical monthly index \n",
    "#(i.e. Jan = 1, Feb = 2 etc)\n",
    "stratm['month'] = stratm.index.month\n"
   ]
  },
  {
   "cell_type": "markdown",
   "metadata": {},
   "source": [
    "Schauen wir uns einen Ausschnitt aus dem monatlichen DataFrame an:"
   ]
  },
  {
   "cell_type": "code",
   "execution_count": 12,
   "metadata": {},
   "outputs": [
    {
     "data": {
      "text/html": [
       "<div>\n",
       "<style scoped>\n",
       "    .dataframe tbody tr th:only-of-type {\n",
       "        vertical-align: middle;\n",
       "    }\n",
       "\n",
       "    .dataframe tbody tr th {\n",
       "        vertical-align: top;\n",
       "    }\n",
       "\n",
       "    .dataframe thead th {\n",
       "        text-align: right;\n",
       "    }\n",
       "</style>\n",
       "<table border=\"1\" class=\"dataframe\">\n",
       "  <thead>\n",
       "    <tr style=\"text-align: right;\">\n",
       "      <th></th>\n",
       "      <th>Strategy</th>\n",
       "      <th>Strategy Equity</th>\n",
       "      <th>month</th>\n",
       "    </tr>\n",
       "    <tr>\n",
       "      <th>Date</th>\n",
       "      <th></th>\n",
       "      <th></th>\n",
       "      <th></th>\n",
       "    </tr>\n",
       "  </thead>\n",
       "  <tbody>\n",
       "    <tr>\n",
       "      <th>2000-01-31</th>\n",
       "      <td>0.000000</td>\n",
       "      <td>1.000000</td>\n",
       "      <td>1</td>\n",
       "    </tr>\n",
       "    <tr>\n",
       "      <th>2000-02-29</th>\n",
       "      <td>0.000000</td>\n",
       "      <td>1.000000</td>\n",
       "      <td>2</td>\n",
       "    </tr>\n",
       "    <tr>\n",
       "      <th>2000-03-31</th>\n",
       "      <td>0.000000</td>\n",
       "      <td>1.000000</td>\n",
       "      <td>3</td>\n",
       "    </tr>\n",
       "    <tr>\n",
       "      <th>2000-04-30</th>\n",
       "      <td>0.000000</td>\n",
       "      <td>1.000000</td>\n",
       "      <td>4</td>\n",
       "    </tr>\n",
       "    <tr>\n",
       "      <th>2000-05-31</th>\n",
       "      <td>0.000000</td>\n",
       "      <td>1.000000</td>\n",
       "      <td>5</td>\n",
       "    </tr>\n",
       "    <tr>\n",
       "      <th>2000-06-30</th>\n",
       "      <td>0.000000</td>\n",
       "      <td>1.000000</td>\n",
       "      <td>6</td>\n",
       "    </tr>\n",
       "    <tr>\n",
       "      <th>2000-07-31</th>\n",
       "      <td>0.000000</td>\n",
       "      <td>1.000000</td>\n",
       "      <td>7</td>\n",
       "    </tr>\n",
       "    <tr>\n",
       "      <th>2000-08-31</th>\n",
       "      <td>0.000000</td>\n",
       "      <td>1.000000</td>\n",
       "      <td>8</td>\n",
       "    </tr>\n",
       "    <tr>\n",
       "      <th>2000-09-30</th>\n",
       "      <td>0.000000</td>\n",
       "      <td>1.000000</td>\n",
       "      <td>9</td>\n",
       "    </tr>\n",
       "    <tr>\n",
       "      <th>2000-10-31</th>\n",
       "      <td>0.000000</td>\n",
       "      <td>1.000000</td>\n",
       "      <td>10</td>\n",
       "    </tr>\n",
       "    <tr>\n",
       "      <th>2000-11-30</th>\n",
       "      <td>0.000000</td>\n",
       "      <td>1.000000</td>\n",
       "      <td>11</td>\n",
       "    </tr>\n",
       "    <tr>\n",
       "      <th>2000-12-31</th>\n",
       "      <td>0.000000</td>\n",
       "      <td>1.000000</td>\n",
       "      <td>12</td>\n",
       "    </tr>\n",
       "    <tr>\n",
       "      <th>2001-01-31</th>\n",
       "      <td>-0.034050</td>\n",
       "      <td>0.965950</td>\n",
       "      <td>1</td>\n",
       "    </tr>\n",
       "    <tr>\n",
       "      <th>2001-02-28</th>\n",
       "      <td>0.096831</td>\n",
       "      <td>1.062781</td>\n",
       "      <td>2</td>\n",
       "    </tr>\n",
       "    <tr>\n",
       "      <th>2001-03-31</th>\n",
       "      <td>0.066359</td>\n",
       "      <td>1.129139</td>\n",
       "      <td>3</td>\n",
       "    </tr>\n",
       "  </tbody>\n",
       "</table>\n",
       "</div>"
      ],
      "text/plain": [
       "            Strategy  Strategy Equity  month\n",
       "Date                                        \n",
       "2000-01-31  0.000000         1.000000      1\n",
       "2000-02-29  0.000000         1.000000      2\n",
       "2000-03-31  0.000000         1.000000      3\n",
       "2000-04-30  0.000000         1.000000      4\n",
       "2000-05-31  0.000000         1.000000      5\n",
       "2000-06-30  0.000000         1.000000      6\n",
       "2000-07-31  0.000000         1.000000      7\n",
       "2000-08-31  0.000000         1.000000      8\n",
       "2000-09-30  0.000000         1.000000      9\n",
       "2000-10-31  0.000000         1.000000     10\n",
       "2000-11-30  0.000000         1.000000     11\n",
       "2000-12-31  0.000000         1.000000     12\n",
       "2001-01-31 -0.034050         0.965950      1\n",
       "2001-02-28  0.096831         1.062781      2\n",
       "2001-03-31  0.066359         1.129139      3"
      ]
     },
     "execution_count": 12,
     "metadata": {},
     "output_type": "execute_result"
    }
   ],
   "source": [
    "stratm.head(15)"
   ]
  },
  {
   "cell_type": "markdown",
   "metadata": {},
   "source": [
    "Beginnen wir damit, unsere Liste der KPIs durchzuarbeiten:"
   ]
  },
  {
   "cell_type": "code",
   "execution_count": 13,
   "metadata": {},
   "outputs": [
    {
     "name": "stdout",
     "output_type": "stream",
     "text": [
      "CAGR = 3.75%\n"
     ]
    }
   ],
   "source": [
    "#1) Annualised Return; 'cagr' stands for compound, annualised gross return\n",
    "    \n",
    "days = (strat.index[-1] - strat.index[0]).days\n",
    "cagr = ((((strat['Strategy Equity'][-1]) / strat['Strategy Equity'][1])) ** (365.0/days)) - 1\n",
    "print ('CAGR =',str(round(cagr,4)*100)+\"%\")"
   ]
  },
  {
   "cell_type": "code",
   "execution_count": 14,
   "metadata": {},
   "outputs": [
    {
     "name": "stdout",
     "output_type": "stream",
     "text": [
      "last 12 month return = -13.94%\n"
     ]
    }
   ],
   "source": [
    "#2) Last 12 months Return\n",
    "\n",
    "stratm['last12mret'] = stratm['Strategy'].rolling(window=12,center=False).sum()\n",
    "last12mret = stratm['last12mret'][-1]\n",
    "print('last 12 month return =',str(round(last12mret*100,2))+\"%\")"
   ]
  },
  {
   "cell_type": "code",
   "execution_count": 15,
   "metadata": {},
   "outputs": [
    {
     "name": "stdout",
     "output_type": "stream",
     "text": [
      "Annualised volatility using daily data = 16.53%\n",
      "Annualised volatility using monthly data = 12.73%\n"
     ]
    }
   ],
   "source": [
    "#3) Volatility\n",
    "voldaily = (strat['Strategy'].std()) * sqrt(252)\n",
    "volmonthly = (stratm['Strategy'].std()) * sqrt(12)\n",
    "print ('Annualised volatility using daily data =',str(round(voldaily,4)*100)+\"%\")\n",
    "print ('Annualised volatility using monthly data =',str(round(volmonthly,4)*100)+\"%\")"
   ]
  },
  {
   "cell_type": "code",
   "execution_count": 16,
   "metadata": {},
   "outputs": [
    {
     "name": "stdout",
     "output_type": "stream",
     "text": [
      "daily Sharpe = 0.23\n",
      "monthly Sharpe = 0.29\n"
     ]
    }
   ],
   "source": [
    "#4) Sharpe Ratio (assuming risk-free rate=0)\n",
    "dailysharpe = cagr/voldaily\n",
    "monthlysharpe = cagr/volmonthly\n",
    "print ('daily Sharpe =',round(dailysharpe,2))\n",
    "print ('monthly Sharpe =',round(monthlysharpe,2))"
   ]
  },
  {
   "cell_type": "code",
   "execution_count": 17,
   "metadata": {},
   "outputs": [
    {
     "name": "stdout",
     "output_type": "stream",
     "text": [
      "max drawdown daily data = 16.82%\n",
      "max drawdown monthly data = 11.700000000000001%\n"
     ]
    }
   ],
   "source": [
    "#5) Max drawdown (MDD): Is a measure of an asset's largest price drop\n",
    "# from a peak to a trough.\n",
    "\n",
    "#Create max drawdown function\n",
    "def max_drawdown(X):\n",
    "    mdd = 0\n",
    "    peak = X[0]\n",
    "    for x in X:\n",
    "        if x > peak: \n",
    "            peak = x\n",
    "        dd = (peak - x) / peak\n",
    "        if dd > mdd:\n",
    "            mdd = dd\n",
    "    return mdd  \n",
    "\n",
    "\n",
    "mdd_daily = max_drawdown(strat['Strategy Equity'][1:])\n",
    "mdd_monthly = max_drawdown(stratm['Strategy Equity'])\n",
    "print ('max drawdown daily data =',str(round(mdd_daily,4)*100)+\"%\")\n",
    "print ('max drawdown monthly data =',str(round(mdd_monthly,4)*100)+\"%\")"
   ]
  },
  {
   "cell_type": "code",
   "execution_count": 18,
   "metadata": {},
   "outputs": [
    {
     "name": "stdout",
     "output_type": "stream",
     "text": [
      "Calmar ratio = 0.22\n"
     ]
    }
   ],
   "source": [
    "#6) Calmar Ratio\n",
    "calmar = cagr/mdd_daily\n",
    "print ('Calmar ratio =',round(calmar,2))"
   ]
  },
  {
   "cell_type": "code",
   "execution_count": 19,
   "metadata": {},
   "outputs": [
    {
     "name": "stdout",
     "output_type": "stream",
     "text": [
      "Volatility / Max Drawdown = 0.76\n"
     ]
    }
   ],
   "source": [
    "#7) Volatility / Max Drawdown\n",
    "vol_dd = volmonthly / mdd_daily\n",
    "print ('Volatility / Max Drawdown =',round(vol_dd,2))"
   ]
  },
  {
   "cell_type": "code",
   "execution_count": 20,
   "metadata": {},
   "outputs": [
    {
     "name": "stdout",
     "output_type": "stream",
     "text": [
      "Best month = 19.0%\n"
     ]
    }
   ],
   "source": [
    "#8) Best Month Performance\n",
    "bestmonth = max(stratm['Strategy'])\n",
    "print ('Best month =',str(round(bestmonth,2)*100)+\"%\")"
   ]
  },
  {
   "cell_type": "code",
   "execution_count": 21,
   "metadata": {},
   "outputs": [
    {
     "name": "stdout",
     "output_type": "stream",
     "text": [
      "Worst month = -10.0%\n"
     ]
    }
   ],
   "source": [
    "#9) Worst Month Performance\n",
    "worstmonth = min(stratm['Strategy'])\n",
    "print ('Worst month =',str(round(worstmonth,2)*100)+\"%\")"
   ]
  },
  {
   "cell_type": "code",
   "execution_count": 22,
   "metadata": {},
   "outputs": [
    {
     "name": "stdout",
     "output_type": "stream",
     "text": [
      "% of Profitable Months = 48.0%\n",
      "% of Non-profitable Months = 33.0%\n"
     ]
    }
   ],
   "source": [
    "#10) % of Profitable Months & % Non-Profitable Months\n",
    "positive_months = len(stratm['Strategy'][stratm['Strategy'] > 0])\n",
    "negative_months = len(stratm['Strategy'][stratm['Strategy'] < 0])\n",
    "flatmonths = len(stratm['Strategy'][stratm['Strategy'] == 0])\n",
    "perc_positive_months = positive_months / (positive_months + negative_months + flatmonths)\n",
    "perc_negative_months = negative_months / (positive_months + negative_months + flatmonths)\n",
    "print ('% of Profitable Months =',str(round(perc_positive_months,2)*100)+\"%\")\n",
    "print ('% of Non-profitable Months =',str(round(perc_negative_months,2)*100)+\"%\")"
   ]
  },
  {
   "cell_type": "code",
   "execution_count": 23,
   "metadata": {},
   "outputs": [
    {
     "name": "stdout",
     "output_type": "stream",
     "text": [
      "Number of Profitable Months/Number of Non Profitable Months 1.47\n"
     ]
    }
   ],
   "source": [
    "#11) Number of Profitable Months/Number of Non Profitable Months\n",
    "prof_unprof_months = positive_months / negative_months\n",
    "print ('Number of Profitable Months/Number of Non Profitable Months',round(prof_unprof_months,2))"
   ]
  },
  {
   "cell_type": "code",
   "execution_count": 24,
   "metadata": {},
   "outputs": [
    {
     "name": "stdout",
     "output_type": "stream",
     "text": [
      "Average Monthly Profit = 2.9899999999999998%\n",
      "Average Monthly Loss = -3.01%\n",
      "Average Monthly Profit/Average Monthly Loss 0.9931\n"
     ]
    }
   ],
   "source": [
    "#12) Average Monthly Profit\n",
    "av_monthly_pos = (stratm['Strategy'][stratm['Strategy'] > 0]).mean()\n",
    "print ('Average Monthly Profit =',str(round(av_monthly_pos,4)*100)+\"%\")\n",
    "\n",
    "#13) Average Monthly Loss\n",
    "av_monthly_neg = (stratm['Strategy'][stratm['Strategy'] < 0]).mean()\n",
    "print ('Average Monthly Loss =',str(round(av_monthly_neg*100,2))+\"%\")\n",
    "\n",
    "#14) Average Monthly Profit/Average Monthly Loss\n",
    "pos_neg_month = abs(av_monthly_pos / av_monthly_neg)\n",
    "print ('Average Monthly Profit/Average Monthly Loss',round(pos_neg_month,4))"
   ]
  },
  {
   "cell_type": "markdown",
   "metadata": {},
   "source": [
    "Und nun zum Abschluss um ein wenig mehr Pandas DataFrame-Funktionalität zu nutzen, werden wir eine Tabelle mit monatlichen Renditen generieren.\n",
    "\n",
    "Der erste Schritt ist die Erstellung einer Pivot-Tabelle und deren Resampling, um ein so genanntes \"pandas.core.resample.DatetimeIndexResampler\"-Objekt zu erstellen."
   ]
  },
  {
   "cell_type": "code",
   "execution_count": 25,
   "metadata": {},
   "outputs": [],
   "source": [
    "monthly_table = stratm[['Strategy','month']].pivot_table(stratm[['Strategy','month']], index=stratm.index, columns='month', aggfunc=np.sum).resample('A')"
   ]
  },
  {
   "cell_type": "markdown",
   "metadata": {},
   "source": [
    "Damit wir es leichter modifizieren können, wird dieses Objekt mit der \".aggregate()\"-Funktion wieder in ein \"DataFrame\" konvertiert."
   ]
  },
  {
   "cell_type": "code",
   "execution_count": 26,
   "metadata": {},
   "outputs": [],
   "source": [
    "monthly_table = monthly_table.aggregate('sum')"
   ]
  },
  {
   "cell_type": "markdown",
   "metadata": {},
   "source": [
    "Wir \"verschönern\" die Tabelle indem wir die Indexdaten so umwandeln, dass nur das Jahr und nicht das vollständige Datum angezeigt wird, und dann auch die Spaltenüberschriften der Monate (derzeit im numerischen Format) durch das richtige \"MMM\"-Format ersetzt werden.\n",
    "\n",
    "Zuerst müssen wir die Indexebene \"Strategy\" entfernen - dann haben wir eine Tabelle mit nur einer Spaltenindexebene, die einer ganzzahligen Monatsdarstellung entspricht."
   ]
  },
  {
   "cell_type": "code",
   "execution_count": 27,
   "metadata": {},
   "outputs": [],
   "source": [
    "#Drop the top level column index which curently shows as \"Strategy\"\n",
    "monthly_table.columns = monthly_table.columns.droplevel()"
   ]
  },
  {
   "cell_type": "markdown",
   "metadata": {},
   "source": [
    "Jetzt müssen wir nur noch den Datumsindex so ändern, dass er im Jahresformat (YYYYY) und die übrigen Spaltenüberschriften im Monatsformat (MMM) angezeigt werden."
   ]
  },
  {
   "cell_type": "code",
   "execution_count": 28,
   "metadata": {},
   "outputs": [],
   "source": [
    "#replace full date in index column with just the correspnding year\n",
    "monthly_table.index = monthly_table.index.year\n",
    "\n",
    "#Replace integer column headings with MMM format\n",
    "monthly_table.columns = ['Jan','Feb','Mar','Apr','May','Jun','Jul','Aug','Sep','Oct','Nov','Dec']\n"
   ]
  },
  {
   "cell_type": "markdown",
   "metadata": {},
   "source": [
    "Wir haben jetzt eine monatliche Renditetabelle, die so aussieht:"
   ]
  },
  {
   "cell_type": "code",
   "execution_count": 29,
   "metadata": {},
   "outputs": [
    {
     "data": {
      "text/html": [
       "<div>\n",
       "<style scoped>\n",
       "    .dataframe tbody tr th:only-of-type {\n",
       "        vertical-align: middle;\n",
       "    }\n",
       "\n",
       "    .dataframe tbody tr th {\n",
       "        vertical-align: top;\n",
       "    }\n",
       "\n",
       "    .dataframe thead th {\n",
       "        text-align: right;\n",
       "    }\n",
       "</style>\n",
       "<table border=\"1\" class=\"dataframe\">\n",
       "  <thead>\n",
       "    <tr style=\"text-align: right;\">\n",
       "      <th></th>\n",
       "      <th>Jan</th>\n",
       "      <th>Feb</th>\n",
       "      <th>Mar</th>\n",
       "      <th>Apr</th>\n",
       "      <th>May</th>\n",
       "      <th>Jun</th>\n",
       "      <th>Jul</th>\n",
       "      <th>Aug</th>\n",
       "      <th>Sep</th>\n",
       "      <th>Oct</th>\n",
       "      <th>Nov</th>\n",
       "      <th>Dec</th>\n",
       "    </tr>\n",
       "    <tr>\n",
       "      <th>Date</th>\n",
       "      <th></th>\n",
       "      <th></th>\n",
       "      <th></th>\n",
       "      <th></th>\n",
       "      <th></th>\n",
       "      <th></th>\n",
       "      <th></th>\n",
       "      <th></th>\n",
       "      <th></th>\n",
       "      <th></th>\n",
       "      <th></th>\n",
       "      <th></th>\n",
       "    </tr>\n",
       "  </thead>\n",
       "  <tbody>\n",
       "    <tr>\n",
       "      <th>2000</th>\n",
       "      <td>0.000000</td>\n",
       "      <td>0.000000</td>\n",
       "      <td>0.000000</td>\n",
       "      <td>0.000000</td>\n",
       "      <td>0.000000</td>\n",
       "      <td>0.000000</td>\n",
       "      <td>0.000000</td>\n",
       "      <td>0.000000</td>\n",
       "      <td>0.000000</td>\n",
       "      <td>0.000000</td>\n",
       "      <td>0.000000</td>\n",
       "      <td>0.000000</td>\n",
       "    </tr>\n",
       "    <tr>\n",
       "      <th>2001</th>\n",
       "      <td>-0.034050</td>\n",
       "      <td>0.096831</td>\n",
       "      <td>0.066359</td>\n",
       "      <td>-0.074007</td>\n",
       "      <td>-0.005077</td>\n",
       "      <td>0.025354</td>\n",
       "      <td>0.010798</td>\n",
       "      <td>0.066256</td>\n",
       "      <td>0.085257</td>\n",
       "      <td>-0.017937</td>\n",
       "      <td>-0.072484</td>\n",
       "      <td>-0.007545</td>\n",
       "    </tr>\n",
       "    <tr>\n",
       "      <th>2002</th>\n",
       "      <td>-0.010941</td>\n",
       "      <td>0.000000</td>\n",
       "      <td>0.000000</td>\n",
       "      <td>0.000000</td>\n",
       "      <td>0.000000</td>\n",
       "      <td>0.040509</td>\n",
       "      <td>0.082300</td>\n",
       "      <td>-0.004870</td>\n",
       "      <td>0.116561</td>\n",
       "      <td>-0.082914</td>\n",
       "      <td>-0.055501</td>\n",
       "      <td>0.062229</td>\n",
       "    </tr>\n",
       "    <tr>\n",
       "      <th>2003</th>\n",
       "      <td>0.027797</td>\n",
       "      <td>0.017150</td>\n",
       "      <td>-0.008323</td>\n",
       "      <td>-0.057979</td>\n",
       "      <td>0.000000</td>\n",
       "      <td>-0.035870</td>\n",
       "      <td>0.016094</td>\n",
       "      <td>0.017715</td>\n",
       "      <td>-0.012016</td>\n",
       "      <td>0.053504</td>\n",
       "      <td>0.007103</td>\n",
       "      <td>0.049519</td>\n",
       "    </tr>\n",
       "    <tr>\n",
       "      <th>2004</th>\n",
       "      <td>0.017129</td>\n",
       "      <td>0.012135</td>\n",
       "      <td>-0.016494</td>\n",
       "      <td>-0.016933</td>\n",
       "      <td>0.012011</td>\n",
       "      <td>0.001623</td>\n",
       "      <td>0.000000</td>\n",
       "      <td>0.000000</td>\n",
       "      <td>0.000000</td>\n",
       "      <td>0.000000</td>\n",
       "      <td>0.000000</td>\n",
       "      <td>-0.001336</td>\n",
       "    </tr>\n",
       "    <tr>\n",
       "      <th>2005</th>\n",
       "      <td>-0.025616</td>\n",
       "      <td>0.018727</td>\n",
       "      <td>-0.019303</td>\n",
       "      <td>0.008897</td>\n",
       "      <td>0.000000</td>\n",
       "      <td>0.000000</td>\n",
       "      <td>0.000000</td>\n",
       "      <td>0.000000</td>\n",
       "      <td>0.000000</td>\n",
       "      <td>0.000000</td>\n",
       "      <td>0.000000</td>\n",
       "      <td>0.000000</td>\n",
       "    </tr>\n",
       "    <tr>\n",
       "      <th>2006</th>\n",
       "      <td>-0.010955</td>\n",
       "      <td>0.000453</td>\n",
       "      <td>0.011035</td>\n",
       "      <td>0.012082</td>\n",
       "      <td>-0.040517</td>\n",
       "      <td>0.000000</td>\n",
       "      <td>0.000000</td>\n",
       "      <td>0.000000</td>\n",
       "      <td>0.000000</td>\n",
       "      <td>0.000406</td>\n",
       "      <td>0.016333</td>\n",
       "      <td>0.012537</td>\n",
       "    </tr>\n",
       "    <tr>\n",
       "      <th>2007</th>\n",
       "      <td>0.013961</td>\n",
       "      <td>-0.022088</td>\n",
       "      <td>0.009931</td>\n",
       "      <td>0.042380</td>\n",
       "      <td>0.032031</td>\n",
       "      <td>-0.017977</td>\n",
       "      <td>-0.032504</td>\n",
       "      <td>0.012782</td>\n",
       "      <td>0.000000</td>\n",
       "      <td>0.009142</td>\n",
       "      <td>-0.060282</td>\n",
       "      <td>0.000000</td>\n",
       "    </tr>\n",
       "    <tr>\n",
       "      <th>2008</th>\n",
       "      <td>0.000000</td>\n",
       "      <td>0.004506</td>\n",
       "      <td>0.005977</td>\n",
       "      <td>-0.046451</td>\n",
       "      <td>-0.010618</td>\n",
       "      <td>0.062670</td>\n",
       "      <td>0.009908</td>\n",
       "      <td>-0.012117</td>\n",
       "      <td>0.095181</td>\n",
       "      <td>0.185636</td>\n",
       "      <td>0.077798</td>\n",
       "      <td>-0.007791</td>\n",
       "    </tr>\n",
       "    <tr>\n",
       "      <th>2009</th>\n",
       "      <td>0.089550</td>\n",
       "      <td>0.116457</td>\n",
       "      <td>-0.081953</td>\n",
       "      <td>-0.089772</td>\n",
       "      <td>-0.051721</td>\n",
       "      <td>-0.000196</td>\n",
       "      <td>0.025225</td>\n",
       "      <td>-0.008109</td>\n",
       "      <td>0.035100</td>\n",
       "      <td>-0.019960</td>\n",
       "      <td>0.055779</td>\n",
       "      <td>0.017615</td>\n",
       "    </tr>\n",
       "    <tr>\n",
       "      <th>2010</th>\n",
       "      <td>-0.037675</td>\n",
       "      <td>0.028115</td>\n",
       "      <td>0.057133</td>\n",
       "      <td>0.014651</td>\n",
       "      <td>-0.085532</td>\n",
       "      <td>0.025467</td>\n",
       "      <td>0.000000</td>\n",
       "      <td>0.000000</td>\n",
       "      <td>0.000000</td>\n",
       "      <td>0.000000</td>\n",
       "      <td>-0.013579</td>\n",
       "      <td>0.063256</td>\n",
       "    </tr>\n",
       "    <tr>\n",
       "      <th>2011</th>\n",
       "      <td>0.022393</td>\n",
       "      <td>0.031457</td>\n",
       "      <td>-0.001048</td>\n",
       "      <td>0.028097</td>\n",
       "      <td>-0.013593</td>\n",
       "      <td>-0.018426</td>\n",
       "      <td>-0.021708</td>\n",
       "      <td>-0.074028</td>\n",
       "      <td>0.072101</td>\n",
       "      <td>-0.102307</td>\n",
       "      <td>0.005072</td>\n",
       "      <td>0.001910</td>\n",
       "    </tr>\n",
       "    <tr>\n",
       "      <th>2012</th>\n",
       "      <td>0.000000</td>\n",
       "      <td>0.000000</td>\n",
       "      <td>0.030851</td>\n",
       "      <td>-0.007526</td>\n",
       "      <td>-0.064699</td>\n",
       "      <td>0.007345</td>\n",
       "      <td>-0.004326</td>\n",
       "      <td>0.019571</td>\n",
       "      <td>0.023947</td>\n",
       "      <td>-0.019988</td>\n",
       "      <td>0.002843</td>\n",
       "      <td>-0.006468</td>\n",
       "    </tr>\n",
       "    <tr>\n",
       "      <th>2013</th>\n",
       "      <td>-0.003232</td>\n",
       "      <td>0.011000</td>\n",
       "      <td>0.035355</td>\n",
       "      <td>0.017924</td>\n",
       "      <td>0.020550</td>\n",
       "      <td>-0.015113</td>\n",
       "      <td>0.048278</td>\n",
       "      <td>-0.031798</td>\n",
       "      <td>0.029316</td>\n",
       "      <td>0.043630</td>\n",
       "      <td>0.027663</td>\n",
       "      <td>0.023289</td>\n",
       "    </tr>\n",
       "    <tr>\n",
       "      <th>2014</th>\n",
       "      <td>-0.036231</td>\n",
       "      <td>0.042213</td>\n",
       "      <td>0.006908</td>\n",
       "      <td>0.006182</td>\n",
       "      <td>0.020812</td>\n",
       "      <td>0.018879</td>\n",
       "      <td>-0.015195</td>\n",
       "      <td>0.036964</td>\n",
       "      <td>-0.015635</td>\n",
       "      <td>0.022936</td>\n",
       "      <td>0.024237</td>\n",
       "      <td>-0.004197</td>\n",
       "    </tr>\n",
       "    <tr>\n",
       "      <th>2015</th>\n",
       "      <td>-0.031533</td>\n",
       "      <td>0.053439</td>\n",
       "      <td>-0.017549</td>\n",
       "      <td>0.008485</td>\n",
       "      <td>0.010437</td>\n",
       "      <td>-0.021236</td>\n",
       "      <td>0.021795</td>\n",
       "      <td>0.000000</td>\n",
       "      <td>-0.018896</td>\n",
       "      <td>-0.079719</td>\n",
       "      <td>-0.001134</td>\n",
       "      <td>0.000000</td>\n",
       "    </tr>\n",
       "    <tr>\n",
       "      <th>2016</th>\n",
       "      <td>-0.029972</td>\n",
       "      <td>0.004137</td>\n",
       "      <td>-0.063905</td>\n",
       "      <td>0.008694</td>\n",
       "      <td>0.000000</td>\n",
       "      <td>-0.037602</td>\n",
       "      <td>0.034576</td>\n",
       "      <td>-0.001220</td>\n",
       "      <td>-0.001235</td>\n",
       "      <td>-0.019617</td>\n",
       "      <td>0.033604</td>\n",
       "      <td>0.018037</td>\n",
       "    </tr>\n",
       "    <tr>\n",
       "      <th>2017</th>\n",
       "      <td>0.017726</td>\n",
       "      <td>0.036523</td>\n",
       "      <td>-0.000389</td>\n",
       "      <td>0.009050</td>\n",
       "      <td>0.011510</td>\n",
       "      <td>0.004802</td>\n",
       "      <td>0.019164</td>\n",
       "      <td>0.000546</td>\n",
       "      <td>0.019119</td>\n",
       "      <td>0.021946</td>\n",
       "      <td>0.027696</td>\n",
       "      <td>0.009784</td>\n",
       "    </tr>\n",
       "    <tr>\n",
       "      <th>2018</th>\n",
       "      <td>0.054657</td>\n",
       "      <td>-0.039726</td>\n",
       "      <td>-0.027252</td>\n",
       "      <td>0.002715</td>\n",
       "      <td>0.021378</td>\n",
       "      <td>0.004831</td>\n",
       "      <td>0.035388</td>\n",
       "      <td>0.029814</td>\n",
       "      <td>0.004285</td>\n",
       "      <td>-0.071929</td>\n",
       "      <td>0.009005</td>\n",
       "      <td>0.015559</td>\n",
       "    </tr>\n",
       "    <tr>\n",
       "      <th>2019</th>\n",
       "      <td>-0.075742</td>\n",
       "      <td>-0.029296</td>\n",
       "      <td>-0.001851</td>\n",
       "      <td>0.017140</td>\n",
       "      <td>-0.068041</td>\n",
       "      <td>0.066658</td>\n",
       "      <td>0.013043</td>\n",
       "      <td>-0.018257</td>\n",
       "      <td>0.000000</td>\n",
       "      <td>0.000000</td>\n",
       "      <td>0.000000</td>\n",
       "      <td>0.000000</td>\n",
       "    </tr>\n",
       "  </tbody>\n",
       "</table>\n",
       "</div>"
      ],
      "text/plain": [
       "           Jan       Feb       Mar       Apr       May       Jun       Jul  \\\n",
       "Date                                                                         \n",
       "2000  0.000000  0.000000  0.000000  0.000000  0.000000  0.000000  0.000000   \n",
       "2001 -0.034050  0.096831  0.066359 -0.074007 -0.005077  0.025354  0.010798   \n",
       "2002 -0.010941  0.000000  0.000000  0.000000  0.000000  0.040509  0.082300   \n",
       "2003  0.027797  0.017150 -0.008323 -0.057979  0.000000 -0.035870  0.016094   \n",
       "2004  0.017129  0.012135 -0.016494 -0.016933  0.012011  0.001623  0.000000   \n",
       "2005 -0.025616  0.018727 -0.019303  0.008897  0.000000  0.000000  0.000000   \n",
       "2006 -0.010955  0.000453  0.011035  0.012082 -0.040517  0.000000  0.000000   \n",
       "2007  0.013961 -0.022088  0.009931  0.042380  0.032031 -0.017977 -0.032504   \n",
       "2008  0.000000  0.004506  0.005977 -0.046451 -0.010618  0.062670  0.009908   \n",
       "2009  0.089550  0.116457 -0.081953 -0.089772 -0.051721 -0.000196  0.025225   \n",
       "2010 -0.037675  0.028115  0.057133  0.014651 -0.085532  0.025467  0.000000   \n",
       "2011  0.022393  0.031457 -0.001048  0.028097 -0.013593 -0.018426 -0.021708   \n",
       "2012  0.000000  0.000000  0.030851 -0.007526 -0.064699  0.007345 -0.004326   \n",
       "2013 -0.003232  0.011000  0.035355  0.017924  0.020550 -0.015113  0.048278   \n",
       "2014 -0.036231  0.042213  0.006908  0.006182  0.020812  0.018879 -0.015195   \n",
       "2015 -0.031533  0.053439 -0.017549  0.008485  0.010437 -0.021236  0.021795   \n",
       "2016 -0.029972  0.004137 -0.063905  0.008694  0.000000 -0.037602  0.034576   \n",
       "2017  0.017726  0.036523 -0.000389  0.009050  0.011510  0.004802  0.019164   \n",
       "2018  0.054657 -0.039726 -0.027252  0.002715  0.021378  0.004831  0.035388   \n",
       "2019 -0.075742 -0.029296 -0.001851  0.017140 -0.068041  0.066658  0.013043   \n",
       "\n",
       "           Aug       Sep       Oct       Nov       Dec  \n",
       "Date                                                    \n",
       "2000  0.000000  0.000000  0.000000  0.000000  0.000000  \n",
       "2001  0.066256  0.085257 -0.017937 -0.072484 -0.007545  \n",
       "2002 -0.004870  0.116561 -0.082914 -0.055501  0.062229  \n",
       "2003  0.017715 -0.012016  0.053504  0.007103  0.049519  \n",
       "2004  0.000000  0.000000  0.000000  0.000000 -0.001336  \n",
       "2005  0.000000  0.000000  0.000000  0.000000  0.000000  \n",
       "2006  0.000000  0.000000  0.000406  0.016333  0.012537  \n",
       "2007  0.012782  0.000000  0.009142 -0.060282  0.000000  \n",
       "2008 -0.012117  0.095181  0.185636  0.077798 -0.007791  \n",
       "2009 -0.008109  0.035100 -0.019960  0.055779  0.017615  \n",
       "2010  0.000000  0.000000  0.000000 -0.013579  0.063256  \n",
       "2011 -0.074028  0.072101 -0.102307  0.005072  0.001910  \n",
       "2012  0.019571  0.023947 -0.019988  0.002843 -0.006468  \n",
       "2013 -0.031798  0.029316  0.043630  0.027663  0.023289  \n",
       "2014  0.036964 -0.015635  0.022936  0.024237 -0.004197  \n",
       "2015  0.000000 -0.018896 -0.079719 -0.001134  0.000000  \n",
       "2016 -0.001220 -0.001235 -0.019617  0.033604  0.018037  \n",
       "2017  0.000546  0.019119  0.021946  0.027696  0.009784  \n",
       "2018  0.029814  0.004285 -0.071929  0.009005  0.015559  \n",
       "2019 -0.018257  0.000000  0.000000  0.000000  0.000000  "
      ]
     },
     "execution_count": 29,
     "metadata": {},
     "output_type": "execute_result"
    }
   ],
   "source": [
    "monthly_table"
   ]
  }
 ],
 "metadata": {
  "kernelspec": {
   "display_name": "Python 3 (ipykernel)",
   "language": "python",
   "name": "python3"
  },
  "language_info": {
   "codemirror_mode": {
    "name": "ipython",
    "version": 3
   },
   "file_extension": ".py",
   "mimetype": "text/x-python",
   "name": "python",
   "nbconvert_exporter": "python",
   "pygments_lexer": "ipython3",
   "version": "3.9.7"
  },
  "toc": {
   "base_numbering": 1,
   "nav_menu": {},
   "number_sections": false,
   "sideBar": false,
   "skip_h1_title": false,
   "title_cell": "Inhaltsverzeichnis",
   "title_sidebar": "Inhalt",
   "toc_cell": true,
   "toc_position": {},
   "toc_section_display": true,
   "toc_window_display": false
  },
  "varInspector": {
   "cols": {
    "lenName": 16,
    "lenType": 16,
    "lenVar": 40
   },
   "kernels_config": {
    "python": {
     "delete_cmd_postfix": "",
     "delete_cmd_prefix": "del ",
     "library": "var_list.py",
     "varRefreshCmd": "print(var_dic_list())"
    },
    "r": {
     "delete_cmd_postfix": ") ",
     "delete_cmd_prefix": "rm(",
     "library": "var_list.r",
     "varRefreshCmd": "cat(var_dic_list()) "
    }
   },
   "types_to_exclude": [
    "module",
    "function",
    "builtin_function_or_method",
    "instance",
    "_Feature"
   ],
   "window_display": false
  }
 },
 "nbformat": 4,
 "nbformat_minor": 2
}
