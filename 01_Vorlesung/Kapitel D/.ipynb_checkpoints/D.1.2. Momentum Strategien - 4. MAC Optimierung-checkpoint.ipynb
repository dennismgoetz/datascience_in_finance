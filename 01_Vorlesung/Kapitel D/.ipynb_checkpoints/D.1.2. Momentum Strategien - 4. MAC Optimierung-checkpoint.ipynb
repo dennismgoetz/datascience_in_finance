{
 "cells": [
  {
   "cell_type": "markdown",
   "metadata": {
    "toc": true
   },
   "source": [
    "<h1>Inhaltsverzeichnis<span class=\"tocSkip\"></span></h1>\n",
    "<div class=\"toc\"><ul class=\"toc-item\"><li><span><a href=\"#D.-Systematische-Handelsstrategien\" data-toc-modified-id=\"D.-Systematische-Handelsstrategien-1\">D. Systematische Handelsstrategien</a></span></li><li><span><a href=\"#D.1-Ein-Asset-Strategien\" data-toc-modified-id=\"D.1-Ein-Asset-Strategien-2\">D.1 Ein-Asset-Strategien</a></span></li><li><span><a href=\"#D.1.2-Momentum-Strategien\" data-toc-modified-id=\"D.1.2-Momentum-Strategien-3\">D.1.2 Momentum-Strategien</a></span><ul class=\"toc-item\"><li><span><a href=\"#4.-Moving-Average-Crossover:-Optimierung\" data-toc-modified-id=\"4.-Moving-Average-Crossover:-Optimierung-3.1\">4. Moving Average Crossover: Optimierung</a></span><ul class=\"toc-item\"><li><span><a href=\"#Auswahl-der-Fensterlänge-für-die-gleitenden-Durchschnitte\" data-toc-modified-id=\"Auswahl-der-Fensterlänge-für-die-gleitenden-Durchschnitte-3.1.1\">Auswahl der Fensterlänge für die gleitenden Durchschnitte</a></span><ul class=\"toc-item\"><li><span><a href=\"#WARNUNG:-Overfitting\" data-toc-modified-id=\"WARNUNG:-Overfitting-3.1.1.1\">WARNUNG: Overfitting</a></span></li></ul></li></ul></li></ul></li></ul></div>"
   ]
  },
  {
   "cell_type": "markdown",
   "metadata": {},
   "source": [
    "# D. Systematische Handelsstrategien\n",
    "# D.1 Ein-Asset-Strategien\n",
    "# D.1.2 Momentum-Strategien\n",
    "\n",
    "## 4. Moving Average Crossover: Optimierung\n",
    "In Abschnitt D.1.2.2 haben wir einen einfachen Strategie-Backtest durchgeführt, in dem die Anzahl der Tage für den kurzen gleitenden Durchschnitt und den langen gleitenden Durchschnitt auf 42 bzw. 252 Tage eingestellt war. Für einen ersten Schritt, um unseren Code zu testen und sicherzustellen, dass er korrekt läuft, ist das in Ordnung, aber wie hoch ist die Wahrscheinlichkeit, dass diese beiden, relativ zufällig gewählten Periodenlängen von allen möglichen (und vernünftigen) Variationen der Perioden des gleitenden Durchschnitts die höchsten Renditen oder die höchste Sharpe-Ratio erzielen?\n",
    "\n",
    "Nun, die einzige Möglichkeit, diese Frage zu beantworten, besteht darin mehrere Backtests mit jeweils unterschiedlichen gleitenden Durchschnittsperioden durchzuführen und die Ergebnisse zu speichern. Numpy-Arrays eignen sich hervorragend für diesen Zweck; wir können ein mehrdimensionales Array initiieren, bei dem alle Startwerte auf Null gesetzt werden, und dann, während wir durch unsere Backtests iterieren, können wir zunächst die Perioden des gleitenden Durchschnitts mit jedem Durchlauf ändern, und zusätzlich die Ergebnisse in der entsprechenden Numpy-Array-Zelle für eine spätere Analyse speichern.\n",
    "\n",
    "Lassen Sie uns den Code mit ein paar Funktionen umstrukturieren, die wir dann später aufrufen können:"
   ]
  },
  {
   "cell_type": "code",
   "execution_count": null,
   "metadata": {},
   "outputs": [],
   "source": [
    "#import relevant modules\n",
    "import pandas as pd\n",
    "import numpy as np\n",
    "import pandas_datareader.data as web\n",
    "from math import sqrt\n",
    "import matplotlib.pyplot as plt"
   ]
  },
  {
   "cell_type": "code",
   "execution_count": null,
   "metadata": {},
   "outputs": [],
   "source": [
    "#download data into DataFrame and create moving averages columns\n",
    "sp500 = web.get_data_yahoo('^GSPC',start='1/1/2000',end='8/31/2019')"
   ]
  },
  {
   "cell_type": "code",
   "execution_count": null,
   "metadata": {},
   "outputs": [],
   "source": [
    "#helper functions\n",
    "def ma_strat(short_ma,long_ma):\n",
    "    sp500['short_ma'] = np.round(sp500['Close'].rolling(window=short_ma).mean(),2)\n",
    "    sp500['long_ma'] = np.round(sp500['Close'].rolling(window=long_ma).mean(),2)\n",
    "     \n",
    "    #create column with moving average spread differential\n",
    "    sp500['short_ma-long_ma'] = sp500['short_ma'] - sp500['long_ma']\n",
    "     \n",
    "    #set desired number of points as threshold for spread difference and create column containing strategy 'Stance'\n",
    "    X = 50\n",
    "    sp500['Stance'] = np.where(sp500['short_ma-long_ma'] > X, 1, 0)\n",
    "    sp500['Stance'] = np.where(sp500['short_ma-long_ma'] < -X, -1, sp500['Stance'])\n",
    "    sp500['Stance'].value_counts()\n",
    "     \n",
    "    #create columns containing daily market log returns and strategy daily log returns\n",
    "    sp500['Market Returns'] = np.log(sp500['Close'] / sp500['Close'].shift(1))\n",
    "    sp500['Strategy'] = sp500['Market Returns'] * sp500['Stance'].shift(1)\n",
    "     \n",
    "    #set strategy starting equity to 1 (i.e. 100%) and generate equity curve\n",
    "    sp500['Strategy Equity'] = sp500['Strategy'].cumsum() + 1\n",
    "     \n",
    "    sharpe = annualised_sharpe(sp500['Strategy'])\n",
    "    \n",
    "    return (sp500['Strategy'].cumsum()[-1], sharpe)\n",
    "\n",
    "#function to calculate Sharpe Ratio - Risk free rate element excluded for simplicity\n",
    "def annualised_sharpe(returns, N=252):\n",
    "    return np.sqrt(N) * (returns.mean() / returns.std())\n"
   ]
  },
  {
   "cell_type": "markdown",
   "metadata": {},
   "source": [
    "Nun können wir die Funktion \"numpy.linspace()\" verwenden, um ein Array zu erstellen, dem wir die verschiedenen Werte des kurzen gleitenden Durchschnittsfensters und des langen gleitenden Durchschnittsfensters, über die wir die Tests laufen lassen möchten, wie folgt zuweisen:"
   ]
  },
  {
   "cell_type": "code",
   "execution_count": null,
   "metadata": {},
   "outputs": [],
   "source": [
    "short_ma = np.linspace(10,60,25,dtype=int)\n",
    "short_ma"
   ]
  },
  {
   "cell_type": "markdown",
   "metadata": {},
   "source": [
    "Da die Fensterlänge des gleitenden Durchschnitts eine ganze Zahl sein muss, fügen wir die Angabe \"dtype=int\" ein, die die Werte als ganze Zahlen darstellt. Was \"linspace\" bewirkt ist die Erzeugung eines Arrays, beginnend bei der ersten an die Funktion übergebenen Zahl und endend beim zweiten Wert, wobei die Anzahl der Zwischenschritte durch den dritten an die Funktion übergebenen Wert festgelegt wird - das obige Beispiel würde also ein Array von 25 ganzzahligen Werten mit identischem Abstand erzeugen, das bei 10 beginnt und bei 60 endet.\n",
    "\n",
    "Wir tun dies auch für das lange Zeitfenster des gleitenden Durchschnitts:"
   ]
  },
  {
   "cell_type": "code",
   "execution_count": null,
   "metadata": {},
   "outputs": [],
   "source": [
    "long_ma = np.linspace(220,270,25,dtype=int)\n",
    "long_ma"
   ]
  },
  {
   "cell_type": "markdown",
   "metadata": {},
   "source": [
    "Hier erzeugen wir ein Array aus 25 ganzen Zahlen mit gleichem Abstand, das bei 220 beginnt und bei 270 endet.\n",
    "\n",
    "Jetzt müssen wir noch 2 Numpy-Arrays initialisieren, die die Ergebnisse unserer verschiedenen Backtest-Iterationen enthalten; ein Array für den Gewinn/Verlust der Strategie und ein Array für die Sharpe-Ratio. Beide Arrays sind zweidimensional, mit Größen/Längen, die der jeweiligen Länge unserer beiden gleitenden Durchschnittswerte-Arrays entsprechen, über die wir iterieren möchten."
   ]
  },
  {
   "cell_type": "code",
   "execution_count": null,
   "metadata": {},
   "outputs": [],
   "source": [
    "results_pnl = np.zeros((len(short_ma),len(long_ma)))\n",
    "results_sharpe = np.zeros((len(short_ma),len(long_ma)))"
   ]
  },
  {
   "cell_type": "markdown",
   "metadata": {},
   "source": [
    "Kommen wir nun zum Kern des Codes, der es uns ermöglicht, alle verschiedenen Kombinationen von kurzen und langen gleitenden Durchschnittsfensterlängen durchlaufen zu lassen:"
   ]
  },
  {
   "cell_type": "code",
   "execution_count": null,
   "metadata": {},
   "outputs": [],
   "source": [
    "for i, shortma in enumerate(short_ma):\n",
    "    for j, longma in enumerate(long_ma):\n",
    "        pnl, sharpe = ma_strat(shortma,longma)\n",
    "        results_pnl[i,j] = pnl\n",
    "        results_sharpe[i,j] = sharpe"
   ]
  },
  {
   "cell_type": "markdown",
   "metadata": {},
   "source": [
    "Bitte beachten: Dieser Code benötigt ein wenig Zeit für die Ausführung. Wenn Sie also den Code durchlaufen lassen, geben Sie ihm 5 bis 10 Minuten Zeit - der Code ist nicht sonderlich effizient und die Permutationen möglicher Kombinationen gleitender Durchschnitte sind recht groß, so dass der Code einige Male durchlaufen muss, um alle Ergebnisse zu berechnen.\n",
    "\n",
    "Sobald der Code fertig ausgeführt ist, haben wir nun zwei Numpy Arrays \"results_pnl\" und \"results_sharpe\", die die entsprechenden Gewinn/Verlust-Daten und die Sharpe-Ratio für jeden Durchlauf des Backtests (mit entsprechenden Kombinationen aus langen und kurzen gleitenden Durchschnittsfenstern) enthalten.\n",
    "\n",
    "Arrays sind in ihrem Rohformat etwas schwer zu analysieren - lassen Sie uns daher die Ergebnisse mit einem Farbplot visualisieren, der es uns ermöglichen sollte, zu erkennen, welche Kombinationen der Fensterlängen die besten Ergebnisse liefern. Zunächst die Ergebnisse für den Gewinn/Verlust-Array:"
   ]
  },
  {
   "cell_type": "code",
   "execution_count": null,
   "metadata": {},
   "outputs": [],
   "source": [
    "#Colorplot for P&L\n",
    "plt.pcolor(short_ma,long_ma,results_pnl.T)\n",
    "plt.colorbar()\n",
    "plt.show()"
   ]
  },
  {
   "cell_type": "markdown",
   "metadata": {},
   "source": [
    "Wir können erkennen, dass es einen \"Sweet Spot\" etwas unterhalb von der Mitte zu geben scheint, was bedeutet, dass die Verwendung eines kurzen gleitenden Durchschnitts von etwa 37 Tagen und eines langen gleitenden Durchschnitts von etwa 240 Tagen die besten Ergebnisse liefert. Daneben deutet der tiefblaue Bereich auf der linken Seite an, dass die Verwendung einer Kombination von 18 Tagen und 250-260 Tagen eher nicht ratsam ist.\n",
    "\n",
    "Wenn wir die entsprechenden Sharpe-Ratios grafisch darstellen, sehen wir fast identische Ergebnisse. Die höchste Sharpe-Ratio liefert die Kombination von 37 und 240 Tagen. Das Sharpe-Ratio Farbdiagramm wird hier dargestellt:"
   ]
  },
  {
   "cell_type": "code",
   "execution_count": null,
   "metadata": {
    "scrolled": true
   },
   "outputs": [],
   "source": [
    "#Colorplot for Sharpe ratio\n",
    "plt.pcolor(short_ma,long_ma,results_sharpe.T)\n",
    "plt.colorbar()\n",
    "plt.show()"
   ]
  },
  {
   "cell_type": "markdown",
   "metadata": {},
   "source": [
    "Im obigen Beispiel hatten wir nur zwei Parameter zu optimieren, und trotzdem brauchte der Code ein wenig Zeit, um ausgeführt zu werden. Sie können also sehen, dass mit zunehmender Anzahl der zu optimierenden Parameter die für die Ausführung der Iterationen benötigte Zeit exponentiell zunimmt. Mit anderen Worten, das Optimieren von mehr als ein paar Parametern durch \"Brute-Force\"-Methoden wie diese kann sehr viel Zeit in Anspruch nehmen!"
   ]
  },
  {
   "cell_type": "markdown",
   "metadata": {},
   "source": [
    "### Auswahl der Fensterlänge für die gleitenden Durchschnitte\n",
    "\n",
    "#### WARNUNG: Overfitting\n",
    "\n",
    "Die Wahl der Fensterlängen wird das Handelssignal, das Sie von Ihrer Crossover-Strategie der gleitenden Durchschnitte erhalten, stark beeinflussen. Es kann bessere Fensterlängen geben, und diese können mit robusten Optimierungstechniken gefunden werden. Augenscheinlich ist es jedoch sehr einfach, die Längen der gleitenden Zeitfenster zu overfitten."
   ]
  }
 ],
 "metadata": {
  "kernelspec": {
   "display_name": "Python 3 (ipykernel)",
   "language": "python",
   "name": "python3"
  },
  "language_info": {
   "codemirror_mode": {
    "name": "ipython",
    "version": 3
   },
   "file_extension": ".py",
   "mimetype": "text/x-python",
   "name": "python",
   "nbconvert_exporter": "python",
   "pygments_lexer": "ipython3",
   "version": "3.9.7"
  },
  "toc": {
   "base_numbering": 1,
   "nav_menu": {},
   "number_sections": false,
   "sideBar": false,
   "skip_h1_title": false,
   "title_cell": "Inhaltsverzeichnis",
   "title_sidebar": "Inhalt",
   "toc_cell": true,
   "toc_position": {},
   "toc_section_display": true,
   "toc_window_display": false
  },
  "varInspector": {
   "cols": {
    "lenName": 16,
    "lenType": 16,
    "lenVar": 40
   },
   "kernels_config": {
    "python": {
     "delete_cmd_postfix": "",
     "delete_cmd_prefix": "del ",
     "library": "var_list.py",
     "varRefreshCmd": "print(var_dic_list())"
    },
    "r": {
     "delete_cmd_postfix": ") ",
     "delete_cmd_prefix": "rm(",
     "library": "var_list.r",
     "varRefreshCmd": "cat(var_dic_list()) "
    }
   },
   "types_to_exclude": [
    "module",
    "function",
    "builtin_function_or_method",
    "instance",
    "_Feature"
   ],
   "window_display": false
  }
 },
 "nbformat": 4,
 "nbformat_minor": 2
}
