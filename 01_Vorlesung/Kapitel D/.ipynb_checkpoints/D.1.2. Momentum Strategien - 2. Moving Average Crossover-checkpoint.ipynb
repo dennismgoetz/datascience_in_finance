{
 "cells": [
  {
   "cell_type": "markdown",
   "metadata": {
    "toc": true
   },
   "source": [
    "<h1>Inhaltsverzeichnis<span class=\"tocSkip\"></span></h1>\n",
    "<div class=\"toc\"><ul class=\"toc-item\"><li><span><a href=\"#D.-Systematische-Handelsstrategien\" data-toc-modified-id=\"D.-Systematische-Handelsstrategien-1\">D. Systematische Handelsstrategien</a></span></li><li><span><a href=\"#D.1-Ein-Asset-Strategien\" data-toc-modified-id=\"D.1-Ein-Asset-Strategien-2\">D.1 Ein-Asset-Strategien</a></span></li><li><span><a href=\"#D.1.2-Momentum-Strategien\" data-toc-modified-id=\"D.1.2-Momentum-Strategien-3\">D.1.2 Momentum-Strategien</a></span><ul class=\"toc-item\"><li><span><a href=\"#2.-Moving-Average-Crossover\" data-toc-modified-id=\"2.-Moving-Average-Crossover-3.1\">2. Moving Average Crossover</a></span></li></ul></li></ul></div>"
   ]
  },
  {
   "cell_type": "markdown",
   "metadata": {},
   "source": [
    "# D. Systematische Handelsstrategien\n",
    "# D.1 Ein-Asset-Strategien\n",
    "# D.1.2 Momentum-Strategien\n",
    "\n",
    "## 2. Moving Average Crossover\n",
    "Ein einfacher Weg ein Momentumsignal zu erhalten, ist die Suche nach  einem Moving Average Crossover. Dies bedeutet, dass zwei gleitende Mittelwerte unterschiedlicher Länge berechnet werden und darauf gewettet wird, dass sie sich kreuzen. Die Art und Richtung der Kreuzung gibt die Richtung des Momentums an.\n",
    "\n",
    "Im Folgenden demonstrieren wir die Strategie anhand des S&P500 als Testsetting."
   ]
  },
  {
   "cell_type": "code",
   "execution_count": 1,
   "metadata": {},
   "outputs": [],
   "source": [
    "#import necessary libaries\n",
    "import pandas as pd\n",
    "import numpy as np\n",
    "import pandas_datareader.data as web"
   ]
  },
  {
   "cell_type": "markdown",
   "metadata": {},
   "source": [
    "Wir werden zunächst die Pandas-Datareader-Funktionalität nutzen, um die Preisdaten vom ersten Handelstag im Jahr 2000 bis Ende August 2019 für den S&P500 von Yahoo Finance herunterzuladen:"
   ]
  },
  {
   "cell_type": "code",
   "execution_count": null,
   "metadata": {},
   "outputs": [],
   "source": [
    "sp500 = web.get_data_yahoo('^GSPC',start='1/1/2000', \n",
    "                        end='8/31/2019')"
   ]
  },
  {
   "cell_type": "markdown",
   "metadata": {},
   "source": [
    "Lassen Sie uns kurz überprüfen, in welchem Format die Daten heruntergeladen wurden."
   ]
  },
  {
   "cell_type": "code",
   "execution_count": null,
   "metadata": {},
   "outputs": [],
   "source": [
    "sp500.head(6)"
   ]
  },
  {
   "cell_type": "markdown",
   "metadata": {},
   "source": [
    "Lassen Sie uns nun die Schlusskurse plotten, um zu sehen, wie sich der S&P500 in diesem Zeitraum entwickelt hat."
   ]
  },
  {
   "cell_type": "code",
   "execution_count": null,
   "metadata": {},
   "outputs": [],
   "source": [
    "sp500['Close'].plot(grid=True,figsize=(8,5));"
   ]
  },
  {
   "cell_type": "markdown",
   "metadata": {},
   "source": [
    "Die Trendstrategie, die wir implementieren wollen, basiert auf dem Crossover zweier einfacher gleitender Durchschnitte; den gleitenden Durchschnitten für 2 Monate (42 Handelstage) und 1 Jahr (252 Handelstage).\n",
    "\n",
    "Unser erster Schritt besteht darin, die gleitenden Durchschnittswerte zu berechnen und sie gleichzeitig als neue Spalten in unserem bestehenden sp500 DataFrame hinzuzufügen."
   ]
  },
  {
   "cell_type": "code",
   "execution_count": null,
   "metadata": {},
   "outputs": [],
   "source": [
    "sp500['42d'] = np.round(sp500['Close'].rolling(window=42).mean(),2)\n",
    "sp500['252d'] = np.round(sp500['Close'].rolling(window=252).mean(),2)"
   ]
  },
  {
   "cell_type": "code",
   "execution_count": null,
   "metadata": {},
   "outputs": [],
   "source": [
    "sp500.tail(5)"
   ]
  },
  {
   "cell_type": "markdown",
   "metadata": {},
   "source": [
    "Und hier sehen wir, dass die Spalten für den gleitenden Durchschnitt korrekt hinzugefügt wurden.\n",
    "\n",
    "Fahren wir fort und stellen die Schlusskurse und gleitenden Durchschnitte zusammen in einem Chart dar."
   ]
  },
  {
   "cell_type": "code",
   "execution_count": null,
   "metadata": {},
   "outputs": [],
   "source": [
    "sp500[['Close','42d','252d']].plot(grid=True,figsize=(8,5));"
   ]
  },
  {
   "cell_type": "markdown",
   "metadata": {},
   "source": [
    "Unser Basisdatensatz ist jetzt so gut wie vollständig, wir müssen nur noch eine Regel ausarbeiten, um unsere Handelssignale zu erzeugen."
   ]
  },
  {
   "cell_type": "markdown",
   "metadata": {},
   "source": [
    "Wir definieren 3 Situationen/Regeln:\n",
    "\n",
    "1) Kaufsignal (Go Long) - der gleitende Durchschnitt von 42d liegt zum ersten Mal X Punkte über dem Trend von 252d.\n",
    "\n",
    "2) Halten von Cash - keine Position.\n",
    "\n",
    "3) Verkaufssignal (Go Short) - der 42d gleitende Durchschnitt liegt zum ersten Mal X Punkte unter dem 252d-Trend.\n",
    "\n",
    "Der erste Schritt bei der Erstellung dieser Signale ist das Hinzufügen einer neuen Spalte zu dem DataFrame, die die Differenz zwischen den beiden gleitenden Durchschnitten darstellt:"
   ]
  },
  {
   "cell_type": "code",
   "execution_count": null,
   "metadata": {},
   "outputs": [],
   "source": [
    "sp500['42-252'] = sp500['42d'] - sp500['252d']"
   ]
  },
  {
   "cell_type": "markdown",
   "metadata": {},
   "source": [
    "Der nächste Schritt besteht darin die Signale zu formalisieren, indem wir eine weitere Spalte hinzufügen, die wir \"Stance\" nennen. Wir setzen unsere Signalschwelle 'X' auf 50 (dies ist etwas willkürlich und kann später optimiert werden). Die letzte Zeile des Codes unten ergibt:"
   ]
  },
  {
   "cell_type": "code",
   "execution_count": null,
   "metadata": {},
   "outputs": [],
   "source": [
    "X = 50\n",
    "sp500['Stance'] = np.where(sp500['42-252'] > X, 1, 0)\n",
    "sp500['Stance'] = np.where(sp500['42-252'] < -X, -1, sp500['Stance'])\n",
    "sp500['Stance'].value_counts()"
   ]
  },
  {
   "cell_type": "markdown",
   "metadata": {},
   "source": [
    "Es zeigt sich, dass während des Zeitraums, den wir für das Backtesting gewählt haben, an 1001 Handelstagen der gleitende 42d-Durchschnitt mehr als 50 Punkte unter dem gleitenden 252d-Durchschnitt liegt, und an 2524 Tagen liegt der gleitende 42d-Durchschnitt mehr als 50 Punkte über dem gleitenden 252d-Durchschnitt.\n",
    "\n",
    "Das unten stehende Diagramm visualisiert 'Stance'. Das Argument 'ylim' (das sind die Grenzen der y-Achse) wurde dabei auf knapp über 1 und knapp unter -1 gesetzt, so dass wir die horizontalen Abschnitte der Linie tatsächlich sehen können."
   ]
  },
  {
   "cell_type": "code",
   "execution_count": null,
   "metadata": {},
   "outputs": [],
   "source": [
    "sp500['Stance'].plot(lw=1.5,ylim=[-1.1,1.1]);"
   ]
  },
  {
   "cell_type": "markdown",
   "metadata": {},
   "source": [
    "Jetzt sind wir soweit, um unsere Anlagestrategie auf der Grundlage der Signale, die wir erzeugt haben, zu testen. In diesem Fall gehen wir der Einfachheit halber davon aus, dass der S&P500-Index direkt gekauft oder verkauft werden kann und dass keine Transaktionskosten anfallen. In Wirklichkeit müssten wir ein Engagement in den Index über ETFs, Indexfonds oder Futures auf den Index erwerben... und natürlich wären Transaktionskosten zu zahlen! Das Weglassen von Transaktionskosten wird  keine allzu großen Auswirkungen haben, wenn wir nicht \"zu oft\" ein- und auszusteigen.\n",
    "\n",
    "Da in unserem Modell der Anleger entweder Long im Markt, Short im Markt oder Flat ist, können wir mit den Marktrenditen arbeiten und einfach die Marktrendite des Tages mit -1 multiplizieren, wenn er Short ist, 1, wenn er Long ist und 0, wenn er am Vortag Flat war.\n",
    "\n",
    "Wir fügen eine weitere Spalte zum DataFrame hinzu, um die täglichen Log-Returns des Index zu speichern, und multiplizieren diese Spalte dann mit der Spalte 'Stance', um Strategie-Returns zu erhalten:"
   ]
  },
  {
   "cell_type": "code",
   "execution_count": null,
   "metadata": {},
   "outputs": [],
   "source": [
    "#daily log returns and strategy returns\n",
    "sp500['Market Returns'] = np.log(sp500['Close'] / sp500['Close'].shift(1))\n",
    "sp500['Strategy'] = sp500['Market Returns'] * sp500['Stance'].shift(1)"
   ]
  },
  {
   "cell_type": "markdown",
   "metadata": {},
   "source": [
    "Beachten Sie, dass wir den 'Stance' am Ende des Vortages verwenden, um die Rendite am nächsten Tag zu berechnen.\n",
    "\n",
    "Jetzt können wir die kumulierten Renditen des S&P500 im Vergleich zu den Renditen der Crossover-Strategie mit gleitendem Durchschnitt im selben Diagramm darstellen:"
   ]
  },
  {
   "cell_type": "code",
   "execution_count": null,
   "metadata": {},
   "outputs": [],
   "source": [
    "sp500[['Market Returns','Strategy']].cumsum().plot(grid=True,figsize=(8,5));"
   ]
  },
  {
   "cell_type": "markdown",
   "metadata": {},
   "source": [
    "Es zeigt sich, dass die Strategie, obwohl sie bei Marktabschwüngen recht gut zu funktionieren scheint, bei Markterholungen oder längeren Aufwärtstrend, nicht so gut abschneidet.\n",
    "\n",
    "Während unserer Backtestingperiode übertrifft sie kaum eine einfache Buy-and-Hold-Strategie, sie kann deshalb in diesem Beispiel eher nicht als \"erfolgreiche\" Strategie bezeichnet werden."
   ]
  }
 ],
 "metadata": {
  "kernelspec": {
   "display_name": "Python 3 (ipykernel)",
   "language": "python",
   "name": "python3"
  },
  "language_info": {
   "codemirror_mode": {
    "name": "ipython",
    "version": 3
   },
   "file_extension": ".py",
   "mimetype": "text/x-python",
   "name": "python",
   "nbconvert_exporter": "python",
   "pygments_lexer": "ipython3",
   "version": "3.9.7"
  },
  "toc": {
   "base_numbering": 1,
   "nav_menu": {},
   "number_sections": false,
   "sideBar": false,
   "skip_h1_title": false,
   "title_cell": "Inhaltsverzeichnis",
   "title_sidebar": "Inhalt",
   "toc_cell": true,
   "toc_position": {},
   "toc_section_display": true,
   "toc_window_display": false
  },
  "varInspector": {
   "cols": {
    "lenName": 16,
    "lenType": 16,
    "lenVar": 40
   },
   "kernels_config": {
    "python": {
     "delete_cmd_postfix": "",
     "delete_cmd_prefix": "del ",
     "library": "var_list.py",
     "varRefreshCmd": "print(var_dic_list())"
    },
    "r": {
     "delete_cmd_postfix": ") ",
     "delete_cmd_prefix": "rm(",
     "library": "var_list.r",
     "varRefreshCmd": "cat(var_dic_list()) "
    }
   },
   "types_to_exclude": [
    "module",
    "function",
    "builtin_function_or_method",
    "instance",
    "_Feature"
   ],
   "window_display": false
  }
 },
 "nbformat": 4,
 "nbformat_minor": 2
}
