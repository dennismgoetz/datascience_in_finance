{
 "cells": [
  {
   "cell_type": "code",
   "execution_count": 1,
   "id": "9646e8b4",
   "metadata": {},
   "outputs": [],
   "source": [
    "import pandas as pd\n",
    "import numpy as np\n",
    "import pandas_datareader.data as web\n",
    "import scipy.optimize as sco\n",
    "from scipy import stats\n",
    "import matplotlib.pyplot as plt\n",
    "%matplotlib inline\n",
    "\n",
    "import yfinance as yf"
   ]
  },
  {
   "cell_type": "code",
   "execution_count": 2,
   "id": "845cba63",
   "metadata": {},
   "outputs": [
    {
     "name": "stdout",
     "output_type": "stream",
     "text": [
      "61 92\n",
      "153\n",
      "125\n"
     ]
    },
    {
     "data": {
      "text/plain": [
       "array(['AAPL', 'ABBV', 'ABC', 'ABT', 'ADBE', 'ADM', 'ADP', 'ADSK', 'AEP',\n",
       "       'AIR', 'AMD', 'AMGN', 'AMZN', 'APC', 'ATVI', 'AVGO', 'AXP', 'AZN',\n",
       "       'BA', 'BAX', 'BCE', 'BIDU', 'BLK', 'BMY', 'BSX', 'BTI', 'C', 'CA',\n",
       "       'CAT', 'CHD', 'CHK', 'CL', 'CLX', 'CMCSA', 'CME', 'COST', 'CSCO',\n",
       "       'CVS', 'DAL', 'DD', 'DE', 'DIS', 'DOW', 'DTE', 'DUK', 'DVN', 'EA',\n",
       "       'ED', 'EFX', 'EMR', 'ETFC', 'ETN', 'F', 'FCX', 'FDX', 'FISV', 'GD',\n",
       "       'GE', 'GIS', 'GM', 'GOOGL', 'GS', 'HAL', 'HD', 'HOG', 'HON', 'HPE',\n",
       "       'HRL', 'HSIC', 'HTHIY', 'HUM', 'IBM', 'INTC', 'INTU', 'IP', 'ITW',\n",
       "       'JNJ', 'JPM', 'K', 'KO', 'LLY', 'LMT', 'LUV', 'MCD', 'MDT', 'MMM',\n",
       "       'MO', 'MON', 'MRK', 'MSFT', 'NKE', 'NVO', 'NYT', 'OMC', 'ORCL',\n",
       "       'PCRFY', 'PEP', 'PFE', 'PG', 'PHG', 'RELX', 'RTX', 'SAP', 'SBUX',\n",
       "       'SCHW', 'SLB', 'SO', 'SONY', 'T', 'TJX', 'TM', 'TRV', 'TXN', 'UL',\n",
       "       'UPS', 'UTX', 'V', 'VOD', 'VZ', 'WBA', 'WHR', 'WM', 'WMT', 'WPP',\n",
       "       'XOM'], dtype='<U5')"
      ]
     },
     "execution_count": 2,
     "metadata": {},
     "output_type": "execute_result"
    }
   ],
   "source": [
    "tickers = ['AIR', 'DTE', 'FDX', 'NKE', 'SAP', 'COST', 'MSFT', 'INTC',\n",
    "           'WM', 'F', 'TM', 'AXP', 'JPM', 'NVO', 'PFE', 'WMT', 'XOM',\n",
    "           'WHR', 'AAPL', 'CSCO', 'IBM', 'ATVI', 'EA', 'OMC', 'WPP',\n",
    "           'PCRFY', 'SONY', 'UL', 'DD', 'K', 'PEP', 'SBUX', 'KO',\n",
    "           'LMT', 'BA', 'LUV', 'DIS', 'ABT', 'JNJ', 'PHG', 'MDT',\n",
    "           'IP', 'MRK', 'CHD', 'CLX', 'PG', 'RTX', 'ADBE', 'ADP', 'FISV',\n",
    "           'INTU', 'ORCL', 'MO', 'BTI', 'T', 'VZ', 'VOD', 'TJX', 'HTHIY',\n",
    "           'RELX', 'NYT']\n",
    "\n",
    "tickers_new = ['AAPL', 'ABBV', 'ABC', 'ADBE', 'ADM', 'ADP', 'ADSK', 'AEP', 'AMD',\n",
    "           'AMGN', 'AMZN', 'APC', 'AVGO', 'AXP', 'AZN', 'BA', 'BAX', 'BCE',\n",
    "           'BIDU', 'BLK', 'BMY', 'BSX', 'C', 'CA', 'CAT', 'CHK', 'CL',\n",
    "           'CMCSA', 'CME', 'COST', 'CSCO', 'CVS', 'DAL', 'DD', 'DE', 'DIS',\n",
    "           'DOW', 'DUK', 'DVN', 'ED', 'EFX', 'EMR', 'ETFC', 'ETN', 'F', 'FCX',\n",
    "           'FDX', 'GD', 'GE', 'GIS', 'GM', 'GOOGL', 'GS', 'HAL', 'HD', 'HOG',\n",
    "           'HON', 'HPE', 'HRL', 'HSIC', 'HUM', 'IBM', 'INTC', 'ITW', 'JNJ',\n",
    "           'JPM', 'KO', 'LLY', 'LMT', 'MCD', 'MMM', 'MON', 'MRK', 'MSFT',\n",
    "           'NKE', 'ORCL', 'PEP', 'PG', 'RTX', 'SCHW', 'SLB', 'SO', 'T', 'TRV',\n",
    "           'TXN', 'UPS', 'UTX', 'V', 'VZ', 'WBA', 'WMT', 'XOM']\n",
    "\n",
    "# Anzahl Tickers in den beiden Listen\n",
    "print(len(tickers), len(tickers_new))\n",
    "\n",
    "# Listen zusammenfügen, sortieren und Gesamtanzahl angeben\n",
    "[tickers.append(tickers_new[i]) for i in range(len(tickers_new))]\n",
    "tickers = np.sort(tickers)\n",
    "print(len(tickers))\n",
    "\n",
    "# Duplikate entfernen und Anzahl übriger Ticker in Liste angeben mit Liste der Ticker\n",
    "tickers = pd.DataFrame(tickers).drop_duplicates().T.iloc[0].tolist()\n",
    "print(len(tickers))\n",
    "np.array(tickers)"
   ]
  },
  {
   "cell_type": "code",
   "execution_count": 3,
   "id": "c98f915e",
   "metadata": {},
   "outputs": [
    {
     "name": "stdout",
     "output_type": "stream",
     "text": [
      "[*********************100%***********************]  122 of 122 completed\n",
      "105\n"
     ]
    },
    {
     "data": {
      "text/plain": [
       "array(['AAPL', 'ABC', 'ABT', 'ADBE', 'ADM', 'ADP', 'ADSK', 'AEP', 'AIR',\n",
       "       'AMD', 'AMGN', 'ATVI', 'AXP', 'AZN', 'BA', 'BAX', 'BCE', 'BMY',\n",
       "       'BSX', 'BTI', 'C', 'CAT', 'CHD', 'CL', 'CLX', 'CMCSA', 'COST',\n",
       "       'CSCO', 'CVS', 'DD', 'DE', 'DIS', 'DTE', 'DUK', 'DVN', 'EA', 'ED',\n",
       "       'EFX', 'EMR', 'ETN', 'F', 'FCX', 'FDX', 'FISV', 'GD', 'GE', 'GIS',\n",
       "       'HAL', 'HD', 'HOG', 'HON', 'HRL', 'HSIC', 'HTHIY', 'HUM', 'IBM',\n",
       "       'INTC', 'INTU', 'IP', 'ITW', 'JNJ', 'JPM', 'K', 'KO', 'LLY', 'LMT',\n",
       "       'LUV', 'MCD', 'MDT', 'MMM', 'MO', 'MRK', 'MSFT', 'NKE', 'NVO',\n",
       "       'NYT', 'OMC', 'ORCL', 'PCRFY', 'PEP', 'PFE', 'PG', 'PHG', 'RELX',\n",
       "       'RTX', 'SAP', 'SBUX', 'SCHW', 'SLB', 'SO', 'SONY', 'T', 'TJX',\n",
       "       'TM', 'TRV', 'TXN', 'UL', 'VOD', 'VZ', 'WBA', 'WHR', 'WM', 'WMT',\n",
       "       'WPP', 'XOM'], dtype=object)"
      ]
     },
     "execution_count": 3,
     "metadata": {},
     "output_type": "execute_result"
    }
   ],
   "source": [
    "# UTX, APC und ETFC löschen (failed download)\n",
    "# Ticker von obigem Output kopieren und Preise der 125 Aktien von 1997/01/01 - 2021/12/31 laden\n",
    "yf.pdr_override()\n",
    "tickers = ['AAPL', 'ABBV', 'ABC', 'ABT', 'ADBE', 'ADM', 'ADP', 'ADSK', 'AEP',\n",
    "       'AIR', 'AMD', 'AMGN', 'AMZN', 'ATVI', 'AVGO', 'AXP', 'AZN',\n",
    "       'BA', 'BAX', 'BCE', 'BIDU', 'BLK', 'BMY', 'BSX', 'BTI', 'C', 'CA',\n",
    "       'CAT', 'CHD', 'CHK', 'CL', 'CLX', 'CMCSA', 'CME', 'COST', 'CSCO',\n",
    "       'CVS', 'DAL', 'DD', 'DE', 'DIS', 'DOW', 'DTE', 'DUK', 'DVN', 'EA',\n",
    "       'ED', 'EFX', 'EMR', 'ETN', 'F', 'FCX', 'FDX', 'FISV', 'GD',\n",
    "       'GE', 'GIS', 'GM', 'GOOGL', 'GS', 'HAL', 'HD', 'HOG', 'HON', 'HPE',\n",
    "       'HRL', 'HSIC', 'HTHIY', 'HUM', 'IBM', 'INTC', 'INTU', 'IP', 'ITW',\n",
    "       'JNJ', 'JPM', 'K', 'KO', 'LLY', 'LMT', 'LUV', 'MCD', 'MDT', 'MMM',\n",
    "       'MO', 'MON', 'MRK', 'MSFT', 'NKE', 'NVO', 'NYT', 'OMC', 'ORCL',\n",
    "       'PCRFY', 'PEP', 'PFE', 'PG', 'PHG', 'RELX', 'RTX', 'SAP', 'SBUX',\n",
    "       'SCHW', 'SLB', 'SO', 'SONY', 'T', 'TJX', 'TM', 'TRV', 'TXN', 'UL',\n",
    "       'UPS', 'V', 'VOD', 'VZ', 'WBA', 'WHR', 'WM', 'WMT', 'WPP',\n",
    "       'XOM']\n",
    "start = '1997-01-01'\n",
    "end = '2021-12-31'\n",
    "\n",
    "# DataFrame mit den Adj Close Preisen der Ticker erstellen und Spalten der Ticker mit NaN Werten löschen\n",
    "Adj_Close = web.get_data_yahoo(tickers, start, end)['Adj Close']\n",
    "Adj_Close = pd.DataFrame(Adj_Close).dropna(axis=1)\n",
    "\n",
    "# Übrigen Spalten als Liste 'tickers' abspeichern und Restanzahl der Ticker ausgeben\n",
    "tickers = np.array(Adj_Close.columns)\n",
    "print(len(tickers))\n",
    "tickers #Liste für alle potentiellen Aktien im Portfolio"
   ]
  },
  {
   "cell_type": "code",
   "execution_count": 4,
   "id": "5257df8a",
   "metadata": {},
   "outputs": [
    {
     "data": {
      "text/plain": [
       "0"
      ]
     },
     "execution_count": 4,
     "metadata": {},
     "output_type": "execute_result"
    }
   ],
   "source": [
    "# Anzahl fehlender Werte sollte 0 sein\n",
    "Adj_Close.isna().sum().sum()"
   ]
  }
 ],
 "metadata": {
  "kernelspec": {
   "display_name": "Python 3 (ipykernel)",
   "language": "python",
   "name": "python3"
  },
  "language_info": {
   "codemirror_mode": {
    "name": "ipython",
    "version": 3
   },
   "file_extension": ".py",
   "mimetype": "text/x-python",
   "name": "python",
   "nbconvert_exporter": "python",
   "pygments_lexer": "ipython3",
   "version": "3.9.7"
  }
 },
 "nbformat": 4,
 "nbformat_minor": 5
}
