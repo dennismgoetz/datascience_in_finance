{
 "cells": [
  {
   "cell_type": "code",
   "execution_count": 1,
   "id": "5f368bd2",
   "metadata": {},
   "outputs": [],
   "source": [
    "import pandas as pd\n",
    "import numpy as np\n",
    "import pandas_datareader.data as web\n",
    "import scipy.optimize as sco\n",
    "from scipy import stats\n",
    "import matplotlib.pyplot as plt\n",
    "%matplotlib inline\n",
    "\n",
    "import yfinance as yf"
   ]
  },
  {
   "cell_type": "code",
   "execution_count": 2,
   "id": "f522f2ac",
   "metadata": {},
   "outputs": [
    {
     "name": "stdout",
     "output_type": "stream",
     "text": [
      "[*********************100%***********************]  105 of 105 completed\n",
      "0\n"
     ]
    }
   ],
   "source": [
    "yf.pdr_override()\n",
    "tickers = ['AAPL', 'ABC', 'ABT', 'ADBE', 'ADM', 'ADP', 'ADSK', 'AEP', 'AIR',\n",
    "       'AMD', 'AMGN', 'ATVI', 'AXP', 'AZN', 'BA', 'BAX', 'BCE', 'BMY',\n",
    "       'BSX', 'BTI', 'C', 'CAT', 'CHD', 'CL', 'CLX', 'CMCSA', 'COST',\n",
    "       'CSCO', 'CVS', 'DD', 'DE', 'DIS', 'DTE', 'DUK', 'DVN', 'EA', 'ED',\n",
    "       'EFX', 'EMR', 'ETN', 'F', 'FCX', 'FDX', 'FISV', 'GD', 'GE', 'GIS',\n",
    "       'HAL', 'HD', 'HOG', 'HON', 'HRL', 'HSIC', 'HTHIY', 'HUM', 'IBM',\n",
    "       'INTC', 'INTU', 'IP', 'ITW', 'JNJ', 'JPM', 'K', 'KO', 'LLY', 'LMT',\n",
    "       'LUV', 'MCD', 'MDT', 'MMM', 'MO', 'MRK', 'MSFT', 'NKE', 'NVO',\n",
    "       'NYT', 'OMC', 'ORCL', 'PCRFY', 'PEP', 'PFE', 'PG', 'PHG', 'RELX',\n",
    "       'RTX', 'SAP', 'SBUX', 'SCHW', 'SLB', 'SO', 'SONY', 'T', 'TJX',\n",
    "       'TM', 'TRV', 'TXN', 'UL', 'VOD', 'VZ', 'WBA', 'WHR', 'WM', 'WMT',\n",
    "       'WPP', 'XOM']\n",
    "start = '1997-01-01'\n",
    "end = '2021-12-31'\n",
    "\n",
    "# DataFrame mit den Adj Close Preisen der Ticker erstellen\n",
    "Adj_Close = web.get_data_yahoo(tickers, start, end)['Adj Close']\n",
    "Adj_Close = pd.DataFrame(Adj_Close)\n",
    "\n",
    "# Anzahl fehlender Werte sollte 0 sein\n",
    "print(Adj_Close.isna().sum().sum())\n",
    "\n",
    "# Logreturns berechnen\n",
    "returns = np.log(Adj_Close/Adj_Close.shift(1))\n",
    "returns = returns.dropna()"
   ]
  },
  {
   "cell_type": "code",
   "execution_count": 3,
   "id": "2d46f896",
   "metadata": {},
   "outputs": [],
   "source": [
    "# Dataframe kürzen 1997-2001\n",
    "insample = returns.loc['1997-01-01':'2001-12-31']\n",
    "\n",
    "# Varianz-Covarianz-Matrix berechnen\n",
    "cov_matrix = insample.cov()\n",
    "\n",
    "# Varianzen löschen (Hauptdiagonale = 0)\n",
    "for i in range(len(cov_matrix)):\n",
    "    cov_matrix.iloc[i,i] = 0"
   ]
  },
  {
   "cell_type": "code",
   "execution_count": 4,
   "id": "d4c6b88f",
   "metadata": {
    "scrolled": false
   },
   "outputs": [
    {
     "data": {
      "text/plain": [
       "array([0., 0., 0., 0., 0., 0., 0., 1., 0., 0., 0., 0., 0., 1., 0., 0., 0.,\n",
       "       0., 0., 1., 0., 0., 0., 0., 0., 0., 0., 0., 0., 0., 0., 0., 1., 1.,\n",
       "       1., 0., 1., 0., 0., 0., 0., 1., 0., 0., 0., 0., 1., 0., 0., 0., 0.,\n",
       "       1., 0., 0., 0., 0., 0., 0., 0., 0., 0., 0., 0., 0., 0., 1., 0., 0.,\n",
       "       0., 0., 0., 0., 0., 0., 1., 0., 0., 0., 0., 0., 0., 0., 0., 1., 0.,\n",
       "       0., 0., 0., 0., 1., 0., 0., 0., 0., 0., 0., 0., 0., 0., 0., 0., 0.,\n",
       "       0., 0., 1.])"
      ]
     },
     "execution_count": 4,
     "metadata": {},
     "output_type": "execute_result"
    }
   ],
   "source": [
    "# Minimierung der Summe der Covarianzen im Portfolio\n",
    "# Funktion 1\n",
    "def calc_min_covariance(selected_assets, num_assets, cov_matrix):\n",
    "    covariances = selected_assets * cov_matrix #slected_assets als freie Variable (alle möglichen 15-Asset-Portfolios) * Covarianz-Matrix aller Assets -> Covarianz-Matrix des aktuell betrachteten Portfolios\n",
    "    portfolio_covariance = np.sum(np.sum(covariances)) #Summe der Portfolio-Covarianz\n",
    "    return portfolio_covariance\n",
    "\n",
    "# Funktion 2\n",
    "def min_port_covariance(num_assets, cov_matrix):\n",
    "    args = (num_assets, cov_matrix)\n",
    "    constraints = ({'type': 'eq', 'fun': lambda x: np.sum(x) - num_assets})\n",
    "    start = np.concatenate((np.ones(num_assets), np.zeros(len(tickers) - num_assets)), axis=0)\n",
    "    bound = (0, 1)\n",
    "    bounds = tuple(bound for asset in range(len(tickers)))\n",
    "    result = sco.minimize(calc_min_covariance, start, args=args, \n",
    "                          method='SLSQP', bounds=bounds, constraints=constraints)\n",
    "    return result.x\n",
    "\n",
    "# Ausführen der Funktionen und runden der Gewichtungen auf 0 bzw. 1\n",
    "selected_assets = np.round(min_port_covariance(15, cov_matrix))\n",
    "selected_assets"
   ]
  },
  {
   "cell_type": "code",
   "execution_count": 5,
   "id": "2ba3234a",
   "metadata": {},
   "outputs": [
    {
     "name": "stdout",
     "output_type": "stream",
     "text": [
      "['AEP', 'AZN', 'BTI', 'DTE', 'DUK', 'DVN', 'ED', 'FCX', 'GIS', 'HRL', 'LMT', 'NVO', 'RELX', 'SO', 'XOM']\n"
     ]
    },
    {
     "data": {
      "text/plain": [
       "15"
      ]
     },
     "execution_count": 5,
     "metadata": {},
     "output_type": "execute_result"
    }
   ],
   "source": [
    "# Min Covariance Portfolio aus allen Tickern extrahieren\n",
    "tickers_np = np.array(tickers)\n",
    "portfolio_tickers = tickers_np[selected_assets==1].tolist()\n",
    "print(portfolio_tickers)\n",
    "len(portfolio_tickers)"
   ]
  },
  {
   "cell_type": "code",
   "execution_count": 18,
   "id": "0fdfc9ec",
   "metadata": {},
   "outputs": [
    {
     "name": "stdout",
     "output_type": "stream",
     "text": [
      "0.01031381084454732\n"
     ]
    }
   ],
   "source": [
    "# Summe der Covariancen des Portfolios berechnen und mit Beispielportfolios vergleichen\n",
    "#portfolio_returns = insample[0:15] #ersten 15 Aktien\n",
    "#portfolio_returns = insample[40:55]\n",
    "#portfolio_returns = insample[90:105]\n",
    "portfolio_returns = insample[portfolio_tickers] #Min Covariance Portfolio\n",
    "portfolio_cov = portfolio_returns.cov()\n",
    "\n",
    "# Varianzen löschen (Hauptdiagonale = 0)\n",
    "for i in range(len(portfolio_cov)):\n",
    "    portfolio_cov.iloc[i,i] = 0\n",
    "\n",
    "# Summe der Covarianzen im Portfolio\n",
    "portfolio_covariance = np.sum(np.sum(portfolio_cov))\n",
    "print(portfolio_covariance)"
   ]
  }
 ],
 "metadata": {
  "kernelspec": {
   "display_name": "Python 3 (ipykernel)",
   "language": "python",
   "name": "python3"
  },
  "language_info": {
   "codemirror_mode": {
    "name": "ipython",
    "version": 3
   },
   "file_extension": ".py",
   "mimetype": "text/x-python",
   "name": "python",
   "nbconvert_exporter": "python",
   "pygments_lexer": "ipython3",
   "version": "3.9.7"
  }
 },
 "nbformat": 4,
 "nbformat_minor": 5
}
