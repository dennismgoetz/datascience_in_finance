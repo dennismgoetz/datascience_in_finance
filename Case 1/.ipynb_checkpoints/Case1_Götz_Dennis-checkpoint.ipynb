{
 "cells": [
  {
   "cell_type": "markdown",
   "metadata": {
    "toc": true
   },
   "source": [
    "<h1>Inhaltsverzeichnis<span class=\"tocSkip\"></span></h1>\n",
    "<div class=\"toc\"><ul class=\"toc-item\"><li><span><a href=\"#Berechnung-annualisierter-Renditen\" data-toc-modified-id=\"Berechnung-annualisierter-Renditen-1\"><span class=\"toc-item-num\">1&nbsp;&nbsp;</span>Berechnung annualisierter Renditen</a></span><ul class=\"toc-item\"><li><span><a href=\"#Aktienkursdaten-laden\" data-toc-modified-id=\"Aktienkursdaten-laden-1.1\"><span class=\"toc-item-num\">1.1&nbsp;&nbsp;</span>Aktienkursdaten laden</a></span></li><li><span><a href=\"#Betrachtung-der-Daten\" data-toc-modified-id=\"Betrachtung-der-Daten-1.2\"><span class=\"toc-item-num\">1.2&nbsp;&nbsp;</span>Betrachtung der Daten</a></span></li><li><span><a href=\"#Berechnung-und-Annualisierung-von-täglichen-Renditen\" data-toc-modified-id=\"Berechnung-und-Annualisierung-von-täglichen-Renditen-1.3\"><span class=\"toc-item-num\">1.3&nbsp;&nbsp;</span>Berechnung und Annualisierung von täglichen Renditen</a></span></li><li><span><a href=\"#Berechnung-und-Annualisierung-von-Monatsrenditen\" data-toc-modified-id=\"Berechnung-und-Annualisierung-von-Monatsrenditen-1.4\"><span class=\"toc-item-num\">1.4&nbsp;&nbsp;</span>Berechnung und Annualisierung von Monatsrenditen</a></span></li><li><span><a href=\"#Berechnung-und-Annualisierung-von-Jahresrenditen\" data-toc-modified-id=\"Berechnung-und-Annualisierung-von-Jahresrenditen-1.5\"><span class=\"toc-item-num\">1.5&nbsp;&nbsp;</span>Berechnung und Annualisierung von Jahresrenditen</a></span></li><li><span><a href=\"#Berechnung-und-Annualisierung-von-5-Jahres-Renditen\" data-toc-modified-id=\"Berechnung-und-Annualisierung-von-5-Jahres-Renditen-1.6\"><span class=\"toc-item-num\">1.6&nbsp;&nbsp;</span>Berechnung und Annualisierung von 5-Jahres-Renditen</a></span></li><li><span><a href=\"#Vergleich-der-Ergebnisse\" data-toc-modified-id=\"Vergleich-der-Ergebnisse-1.7\"><span class=\"toc-item-num\">1.7&nbsp;&nbsp;</span>Vergleich der Ergebnisse</a></span></li></ul></li><li><span><a href=\"#Risiko\" data-toc-modified-id=\"Risiko-2\"><span class=\"toc-item-num\">2&nbsp;&nbsp;</span>Risiko</a></span><ul class=\"toc-item\"><li><span><a href=\"#Risikomaße\" data-toc-modified-id=\"Risikomaße-2.1\"><span class=\"toc-item-num\">2.1&nbsp;&nbsp;</span>Risikomaße</a></span></li><li><span><a href=\"#Risiken-von-Portfolios\" data-toc-modified-id=\"Risiken-von-Portfolios-2.2\"><span class=\"toc-item-num\">2.2&nbsp;&nbsp;</span>Risiken von Portfolios</a></span></li></ul></li></ul></div>"
   ]
  },
  {
   "cell_type": "markdown",
   "metadata": {},
   "source": [
    "Willkommen zur ersten Case-Study. Diese beinhaltet Aufgaben zu den Notebooks A.1-B.1. Nach der Installation aller relevanten Pakete analysieren wir zuerst den Kursverlauf einer Aktie. Anschließend berechnen Sie die Rendite und Risiko der Einzelaktie und abschließend für ein Portfolio. \n",
    "\n",
    "Bitte nutzen Sie die vorgesehenen Felder für Ihren Code und Ihre Antworten. Insgesamt gibt es 26 Code-Zeilen, und zwei Textfragen, die Sie bitte befüllen. Schriftliche Antworten in Form eines Markdowns kennzeichnen Sie bitte als Blockzitat (mit dem > Symbol). Falls keine Angabe zur Bezeichnung der zu erstellenden Variablen oder Dataframes gemacht werden, wählen Sie eigene sinnvolle Bezeichnungen.\n",
    "\n",
    "Achten Sie darauf, dass Ihr Code in einem Setting läuft (Kernel > Restart & Run All).\n",
    "\n",
    "Zusätzlich zur Abgabe dieses Notebooks geben Sie bitte das Excel-Sheet mit Ihren Lösungen ab. Benennen Sie das Excel-Sheet und das Notebook bitte nach dem Prinzip: Case1_Nachname_Vorname.\n",
    "\n",
    "\n",
    "\n",
    "HAPPY CODING!"
   ]
  },
  {
   "cell_type": "markdown",
   "metadata": {},
   "source": [
    "Tragen Sie in der folgenden Markdown Zeile den Namen Ihres Teampartners ein bzw. im Falle einer Einzelarbeit bitte dies vermerken."
   ]
  },
  {
   "cell_type": "markdown",
   "metadata": {},
   "source": [
    "> Michael Betz"
   ]
  },
  {
   "cell_type": "markdown",
   "metadata": {},
   "source": [
    "Tragen Sie in der folgenden Markdown Zeile Ihre Matrikelnummer ein."
   ]
  },
  {
   "cell_type": "markdown",
   "metadata": {},
   "source": [
    " > 272038"
   ]
  },
  {
   "cell_type": "markdown",
   "metadata": {},
   "source": [
    "**Installation aller relevanten Pakete:**"
   ]
  },
  {
   "cell_type": "code",
   "execution_count": 1,
   "metadata": {},
   "outputs": [],
   "source": [
    "import numpy as np\n",
    "import pandas as pd\n",
    "import pandas_datareader.data as web\n",
    "from datetime import datetime\n",
    "\n",
    "import matplotlib.pyplot as plt\n",
    "import statsmodels.api as sm\n",
    "%matplotlib inline"
   ]
  },
  {
   "cell_type": "markdown",
   "metadata": {},
   "source": [
    "# Berechnung annualisierter Renditen"
   ]
  },
  {
   "cell_type": "markdown",
   "metadata": {},
   "source": [
    "## Aktienkursdaten laden"
   ]
  },
  {
   "cell_type": "markdown",
   "metadata": {},
   "source": [
    "Bitte laden Sie mit dem Pandas Datareader die Schlusskurse der Adidas-Aktie aus Yahoo Finance von 2016 bis einschließlich 2021 in ein Dataframe. Den Ticker finden Sie auch über die Yahoo Finance Internetseite (Ticker: ADS.DE). Nennen Sie das Dataframe *adidas*. Der Index des Dataframe ist dabei das Datum der Kurswerte. Die Spalte mit den Kurswerten trägt den Namen *Adj Close*. <br>\n",
    "Erster Handelstag: 04.01.2016 <br>\n",
    "Letzter Handelstag: 31.12.2021"
   ]
  },
  {
   "cell_type": "code",
   "execution_count": 2,
   "metadata": {},
   "outputs": [
    {
     "data": {
      "text/html": [
       "<div>\n",
       "<style scoped>\n",
       "    .dataframe tbody tr th:only-of-type {\n",
       "        vertical-align: middle;\n",
       "    }\n",
       "\n",
       "    .dataframe tbody tr th {\n",
       "        vertical-align: top;\n",
       "    }\n",
       "\n",
       "    .dataframe thead th {\n",
       "        text-align: right;\n",
       "    }\n",
       "</style>\n",
       "<table border=\"1\" class=\"dataframe\">\n",
       "  <thead>\n",
       "    <tr style=\"text-align: right;\">\n",
       "      <th></th>\n",
       "      <th>Adj Close</th>\n",
       "    </tr>\n",
       "    <tr>\n",
       "      <th>Date</th>\n",
       "      <th></th>\n",
       "    </tr>\n",
       "  </thead>\n",
       "  <tbody>\n",
       "    <tr>\n",
       "      <th>2016-01-04</th>\n",
       "      <td>78.004707</td>\n",
       "    </tr>\n",
       "    <tr>\n",
       "      <th>2016-01-05</th>\n",
       "      <td>77.737396</td>\n",
       "    </tr>\n",
       "    <tr>\n",
       "      <th>2016-01-06</th>\n",
       "      <td>76.837410</td>\n",
       "    </tr>\n",
       "    <tr>\n",
       "      <th>2016-01-07</th>\n",
       "      <td>75.643364</td>\n",
       "    </tr>\n",
       "    <tr>\n",
       "      <th>2016-01-08</th>\n",
       "      <td>74.360214</td>\n",
       "    </tr>\n",
       "    <tr>\n",
       "      <th>...</th>\n",
       "      <td>...</td>\n",
       "    </tr>\n",
       "    <tr>\n",
       "      <th>2021-12-23</th>\n",
       "      <td>247.294113</td>\n",
       "    </tr>\n",
       "    <tr>\n",
       "      <th>2021-12-27</th>\n",
       "      <td>248.324921</td>\n",
       "    </tr>\n",
       "    <tr>\n",
       "      <th>2021-12-28</th>\n",
       "      <td>250.337433</td>\n",
       "    </tr>\n",
       "    <tr>\n",
       "      <th>2021-12-29</th>\n",
       "      <td>249.453903</td>\n",
       "    </tr>\n",
       "    <tr>\n",
       "      <th>2021-12-30</th>\n",
       "      <td>248.570343</td>\n",
       "    </tr>\n",
       "  </tbody>\n",
       "</table>\n",
       "<p>1522 rows × 1 columns</p>\n",
       "</div>"
      ],
      "text/plain": [
       "             Adj Close\n",
       "Date                  \n",
       "2016-01-04   78.004707\n",
       "2016-01-05   77.737396\n",
       "2016-01-06   76.837410\n",
       "2016-01-07   75.643364\n",
       "2016-01-08   74.360214\n",
       "...                ...\n",
       "2021-12-23  247.294113\n",
       "2021-12-27  248.324921\n",
       "2021-12-28  250.337433\n",
       "2021-12-29  249.453903\n",
       "2021-12-30  248.570343\n",
       "\n",
       "[1522 rows x 1 columns]"
      ]
     },
     "execution_count": 2,
     "metadata": {},
     "output_type": "execute_result"
    }
   ],
   "source": [
    "adidas = pd.DataFrame(web.get_data_yahoo('ADS.DE', datetime(2016,1,1),\n",
    "                            datetime(2021,12,31))['Adj Close']) #['Adj Close'] Filter für letzte Spalte\n",
    "adidas"
   ]
  },
  {
   "cell_type": "markdown",
   "metadata": {},
   "source": [
    "## Betrachtung der Daten"
   ]
  },
  {
   "cell_type": "markdown",
   "metadata": {},
   "source": [
    "Erstellen Sie eine Grafik (Line-Chart, Größe 15,5), welche den Verlauf des Aktienkurs darstellt. Die x-Achse soll den Zeitverlauf darstellen und die y-Achse den Kurs. Geben Sie der Grafik einen Titel und beschriften Sie die Achsen entsprechend."
   ]
  },
  {
   "cell_type": "code",
   "execution_count": 3,
   "metadata": {},
   "outputs": [
    {
     "data": {
      "image/png": "[encoded data removed]",
      "text/plain": [
       "<Figure size 1080x360 with 1 Axes>"
      ]
     },
     "metadata": {
      "needs_background": "light"
     },
     "output_type": "display_data"
    }
   ],
   "source": [
    "plt.figure(figsize=(15,5));\n",
    "plt.plot(adidas);\n",
    "plt.ylabel('Stock Price');\n",
    "plt.xlabel('Year');\n",
    "plt.title('Adidas Aktienkurs');\n",
    "plt.show();"
   ]
  },
  {
   "cell_type": "markdown",
   "metadata": {},
   "source": [
    "Lassen Sie sich den Aktienkurs am 100. Handelstag des Datensatzs ausgeben. Denken Sie daran Python nutzt *0-based indexing*, dementsprechend ist das 0. Element eines Dataframes deren erste Beobachtung."
   ]
  },
  {
   "cell_type": "code",
   "execution_count": 4,
   "metadata": {},
   "outputs": [
    {
     "data": {
      "text/plain": [
       "Adj Close    103.578629\n",
       "Name: 2016-05-25 00:00:00, dtype: float64"
      ]
     },
     "execution_count": 4,
     "metadata": {},
     "output_type": "execute_result"
    }
   ],
   "source": [
    "adidas.iloc[99]"
   ]
  },
  {
   "cell_type": "markdown",
   "metadata": {},
   "source": [
    "Um einen besseren Überblick über das Kursniveau der Aktie zu erhalten, berechnen Sie nun den Mittelwert für den Aktienkurs über den gesamten Zeitraum."
   ]
  },
  {
   "cell_type": "code",
   "execution_count": 5,
   "metadata": {},
   "outputs": [
    {
     "data": {
      "text/plain": [
       "Adj Close    202.861749\n",
       "dtype: float64"
      ]
     },
     "execution_count": 5,
     "metadata": {},
     "output_type": "execute_result"
    }
   ],
   "source": [
    "adidas.mean()"
   ]
  },
  {
   "cell_type": "markdown",
   "metadata": {},
   "source": [
    "Im nächsten Schritt wollen wir betrachten, an welchen Tagen der Aktienkurs über EUR 280 steigt. Berechnen Sie dafür den Vektor *higher_280* der immer dann den Wert 1 annimmt, wenn der Aktienkurs größer als EUR 280 ist und andernfalls den Wert 0 annimmt."
   ]
  },
  {
   "cell_type": "code",
   "execution_count": 6,
   "metadata": {},
   "outputs": [
    {
     "data": {
      "text/plain": [
       "Date\n",
       "2016-01-04    False\n",
       "2016-01-05    False\n",
       "2016-01-06    False\n",
       "2016-01-07    False\n",
       "2016-01-08    False\n",
       "              ...  \n",
       "2021-12-23    False\n",
       "2021-12-27    False\n",
       "2021-12-28    False\n",
       "2021-12-29    False\n",
       "2021-12-30    False\n",
       "Name: Adj Close, Length: 1522, dtype: bool"
      ]
     },
     "execution_count": 6,
     "metadata": {},
     "output_type": "execute_result"
    }
   ],
   "source": [
    "higher_280 = adidas['Adj Close'] > 280\n",
    "higher_280\n",
    "#type(higher_280)"
   ]
  },
  {
   "cell_type": "markdown",
   "metadata": {},
   "source": [
    "Geben Sie sich nun alle Daten aus an denen der Kurs größer als EUR 280 ist. Nehmen Sie dazu den Vektor *higher_280* zu Hilfe. "
   ]
  },
  {
   "cell_type": "code",
   "execution_count": 7,
   "metadata": {},
   "outputs": [
    {
     "data": {
      "text/plain": [
       "DatetimeIndex(['2019-08-01', '2020-01-07', '2020-01-08', '2020-01-09',\n",
       "               '2020-01-10', '2020-01-13', '2020-01-14', '2020-01-15',\n",
       "               '2020-01-16', '2020-01-17',\n",
       "               ...\n",
       "               '2021-09-14', '2021-09-16', '2021-09-23', '2021-11-02',\n",
       "               '2021-11-03', '2021-11-04', '2021-11-05', '2021-11-08',\n",
       "               '2021-11-09', '2021-11-16'],\n",
       "              dtype='datetime64[ns]', name='Date', length=151, freq=None)"
      ]
     },
     "execution_count": 7,
     "metadata": {},
     "output_type": "execute_result"
    }
   ],
   "source": [
    "adidas.index[higher_280 == 1]\n",
    "#adidas.index[higher_280].dropna()\n",
    "#adidas[higher_280 == True]"
   ]
  },
  {
   "cell_type": "markdown",
   "metadata": {},
   "source": [
    "Berechnen Sie nun die Anzahl der Tagen an denen der Aktienkurs über dieses Niveau steigt. Dafür können wir ganz einfach die Summe des Vektors *higher_280* kalkulieren."
   ]
  },
  {
   "cell_type": "code",
   "execution_count": 8,
   "metadata": {},
   "outputs": [
    {
     "data": {
      "text/plain": [
       "151"
      ]
     },
     "execution_count": 8,
     "metadata": {},
     "output_type": "execute_result"
    }
   ],
   "source": [
    "sum(higher_280)\n",
    "#adidas[higher_280].count()\n",
    "#higher_280.value_counts()"
   ]
  },
  {
   "cell_type": "markdown",
   "metadata": {},
   "source": [
    "## Berechnung und Annualisierung von täglichen Renditen"
   ]
  },
  {
   "cell_type": "markdown",
   "metadata": {},
   "source": [
    "Generieren Sie zwei weitere Spalten in *adidas*. Die Variablen *returns* und *logreturns* enthalten die täglichen Renditen, einfach und logaritmiert, als Dezimalzahlen. Ihre Zeitreihe sollte am 05.01.2016 starten, sodass sie keine Missing Values in Ihrem Datensatz haben (z.B. dropna() nutzen). "
   ]
  },
  {
   "cell_type": "code",
   "execution_count": 9,
   "metadata": {
    "scrolled": true
   },
   "outputs": [
    {
     "data": {
      "text/html": [
       "<div>\n",
       "<style scoped>\n",
       "    .dataframe tbody tr th:only-of-type {\n",
       "        vertical-align: middle;\n",
       "    }\n",
       "\n",
       "    .dataframe tbody tr th {\n",
       "        vertical-align: top;\n",
       "    }\n",
       "\n",
       "    .dataframe thead th {\n",
       "        text-align: right;\n",
       "    }\n",
       "</style>\n",
       "<table border=\"1\" class=\"dataframe\">\n",
       "  <thead>\n",
       "    <tr style=\"text-align: right;\">\n",
       "      <th></th>\n",
       "      <th>Adj Close</th>\n",
       "      <th>Returns</th>\n",
       "      <th>Logreturns</th>\n",
       "    </tr>\n",
       "    <tr>\n",
       "      <th>Date</th>\n",
       "      <th></th>\n",
       "      <th></th>\n",
       "      <th></th>\n",
       "    </tr>\n",
       "  </thead>\n",
       "  <tbody>\n",
       "    <tr>\n",
       "      <th>2016-01-05</th>\n",
       "      <td>77.737396</td>\n",
       "      <td>-0.003427</td>\n",
       "      <td>-0.003433</td>\n",
       "    </tr>\n",
       "    <tr>\n",
       "      <th>2016-01-06</th>\n",
       "      <td>76.837410</td>\n",
       "      <td>-0.011577</td>\n",
       "      <td>-0.011645</td>\n",
       "    </tr>\n",
       "    <tr>\n",
       "      <th>2016-01-07</th>\n",
       "      <td>75.643364</td>\n",
       "      <td>-0.015540</td>\n",
       "      <td>-0.015662</td>\n",
       "    </tr>\n",
       "    <tr>\n",
       "      <th>2016-01-08</th>\n",
       "      <td>74.360214</td>\n",
       "      <td>-0.016963</td>\n",
       "      <td>-0.017109</td>\n",
       "    </tr>\n",
       "    <tr>\n",
       "      <th>2016-01-11</th>\n",
       "      <td>75.973061</td>\n",
       "      <td>0.021690</td>\n",
       "      <td>0.021458</td>\n",
       "    </tr>\n",
       "    <tr>\n",
       "      <th>...</th>\n",
       "      <td>...</td>\n",
       "      <td>...</td>\n",
       "      <td>...</td>\n",
       "    </tr>\n",
       "    <tr>\n",
       "      <th>2021-12-23</th>\n",
       "      <td>247.294113</td>\n",
       "      <td>0.009013</td>\n",
       "      <td>0.008972</td>\n",
       "    </tr>\n",
       "    <tr>\n",
       "      <th>2021-12-27</th>\n",
       "      <td>248.324921</td>\n",
       "      <td>0.004168</td>\n",
       "      <td>0.004160</td>\n",
       "    </tr>\n",
       "    <tr>\n",
       "      <th>2021-12-28</th>\n",
       "      <td>250.337433</td>\n",
       "      <td>0.008104</td>\n",
       "      <td>0.008072</td>\n",
       "    </tr>\n",
       "    <tr>\n",
       "      <th>2021-12-29</th>\n",
       "      <td>249.453903</td>\n",
       "      <td>-0.003529</td>\n",
       "      <td>-0.003536</td>\n",
       "    </tr>\n",
       "    <tr>\n",
       "      <th>2021-12-30</th>\n",
       "      <td>248.570343</td>\n",
       "      <td>-0.003542</td>\n",
       "      <td>-0.003548</td>\n",
       "    </tr>\n",
       "  </tbody>\n",
       "</table>\n",
       "<p>1521 rows × 3 columns</p>\n",
       "</div>"
      ],
      "text/plain": [
       "             Adj Close   Returns  Logreturns\n",
       "Date                                        \n",
       "2016-01-05   77.737396 -0.003427   -0.003433\n",
       "2016-01-06   76.837410 -0.011577   -0.011645\n",
       "2016-01-07   75.643364 -0.015540   -0.015662\n",
       "2016-01-08   74.360214 -0.016963   -0.017109\n",
       "2016-01-11   75.973061  0.021690    0.021458\n",
       "...                ...       ...         ...\n",
       "2021-12-23  247.294113  0.009013    0.008972\n",
       "2021-12-27  248.324921  0.004168    0.004160\n",
       "2021-12-28  250.337433  0.008104    0.008072\n",
       "2021-12-29  249.453903 -0.003529   -0.003536\n",
       "2021-12-30  248.570343 -0.003542   -0.003548\n",
       "\n",
       "[1521 rows x 3 columns]"
      ]
     },
     "execution_count": 9,
     "metadata": {},
     "output_type": "execute_result"
    }
   ],
   "source": [
    "adidas_returns = adidas['Adj Close'].values/adidas['Adj Close'].shift(1)-1\n",
    "adidas_logreturns = np.log(adidas['Adj Close']/adidas['Adj Close'].shift(1))\n",
    "\n",
    "adidas['Returns'] = adidas_returns\n",
    "adidas['Logreturns'] = adidas_logreturns\n",
    "adidas.dropna()\n",
    "\n",
    "#Alternativ\n",
    "#adidas_returns = adidas['Adj Close'].pct_change()\n",
    "#adidas_logreturns = np.log1p(adidas['Adj Close'].pct_change())\n",
    "#adidas_returns = np.diff(adidas['Adj Close'])/adidas['Adj Close'].drop(['2016-01-04'])\n",
    "#adidas_logreturns = np.log(np.diff(adidas['Adj Close'])/adidas['Adj Close'].drop(['2016-01-04'])+1)"
   ]
  },
  {
   "cell_type": "markdown",
   "metadata": {},
   "source": [
    "Berechnen Sie das arithmetische Mittel für *returns* und für *logreturns*. Nennen Sie die Variablen *amean_returns* und *amean_logreturns*. <br>"
   ]
  },
  {
   "cell_type": "code",
   "execution_count": 10,
   "metadata": {},
   "outputs": [
    {
     "name": "stdout",
     "output_type": "stream",
     "text": [
      "0.000931622285262657 0.000761970217381654\n"
     ]
    }
   ],
   "source": [
    "amean_returns = adidas_returns.mean()\n",
    "amean_logreturns = adidas_logreturns.mean()\n",
    "\n",
    "print(amean_returns, amean_logreturns)"
   ]
  },
  {
   "cell_type": "markdown",
   "metadata": {},
   "source": [
    "Für weitere Berechnungen nutzen wir nur die einfachen *returns*, keine *logreturns*. <br>\n",
    "\n",
    "Berechnen Sie zunächst die annualisierten Tagesmittelrenditen für *returns* aus *amean_return*. Speichern Sie die Variablen *amean_return_annualized1*. Da es sich um Aktienkurse handelt, nutzen wir zum annualisieren den Faktor 252 für 252 Handelstage. "
   ]
  },
  {
   "cell_type": "code",
   "execution_count": 11,
   "metadata": {},
   "outputs": [
    {
     "data": {
      "text/plain": [
       "0.23476881588618959"
      ]
     },
     "execution_count": 11,
     "metadata": {},
     "output_type": "execute_result"
    }
   ],
   "source": [
    "amean_return_annualized1 = amean_returns*252\n",
    "amean_return_annualized1"
   ]
  },
  {
   "cell_type": "markdown",
   "metadata": {},
   "source": [
    "## Berechnung und Annualisierung von Monatsrenditen"
   ]
  },
  {
   "cell_type": "markdown",
   "metadata": {},
   "source": [
    "Generieren Sie aus dem Dataframe *adidas* ein Dataframe *adidas_monthly*, das die Werte des ersten Tages in jedem Monat enthält. (Hinweis: https://datascienceparichay.com/article/pandas-groupby-first-value/)"
   ]
  },
  {
   "cell_type": "code",
   "execution_count": 12,
   "metadata": {},
   "outputs": [
    {
     "data": {
      "text/html": [
       "<div>\n",
       "<style scoped>\n",
       "    .dataframe tbody tr th:only-of-type {\n",
       "        vertical-align: middle;\n",
       "    }\n",
       "\n",
       "    .dataframe tbody tr th {\n",
       "        vertical-align: top;\n",
       "    }\n",
       "\n",
       "    .dataframe thead th {\n",
       "        text-align: right;\n",
       "    }\n",
       "</style>\n",
       "<table border=\"1\" class=\"dataframe\">\n",
       "  <thead>\n",
       "    <tr style=\"text-align: right;\">\n",
       "      <th></th>\n",
       "      <th></th>\n",
       "      <th>Adj Close</th>\n",
       "    </tr>\n",
       "    <tr>\n",
       "      <th>Date</th>\n",
       "      <th>Date</th>\n",
       "      <th></th>\n",
       "    </tr>\n",
       "  </thead>\n",
       "  <tbody>\n",
       "    <tr>\n",
       "      <th rowspan=\"5\" valign=\"top\">2016</th>\n",
       "      <th>1</th>\n",
       "      <td>78.004707</td>\n",
       "    </tr>\n",
       "    <tr>\n",
       "      <th>2</th>\n",
       "      <td>85.151138</td>\n",
       "    </tr>\n",
       "    <tr>\n",
       "      <th>3</th>\n",
       "      <td>89.864914</td>\n",
       "    </tr>\n",
       "    <tr>\n",
       "      <th>4</th>\n",
       "      <td>91.290642</td>\n",
       "    </tr>\n",
       "    <tr>\n",
       "      <th>5</th>\n",
       "      <td>101.671661</td>\n",
       "    </tr>\n",
       "    <tr>\n",
       "      <th>...</th>\n",
       "      <th>...</th>\n",
       "      <td>...</td>\n",
       "    </tr>\n",
       "    <tr>\n",
       "      <th rowspan=\"5\" valign=\"top\">2021</th>\n",
       "      <th>8</th>\n",
       "      <td>311.891022</td>\n",
       "    </tr>\n",
       "    <tr>\n",
       "      <th>9</th>\n",
       "      <td>295.692688</td>\n",
       "    </tr>\n",
       "    <tr>\n",
       "      <th>10</th>\n",
       "      <td>265.308594</td>\n",
       "    </tr>\n",
       "    <tr>\n",
       "      <th>11</th>\n",
       "      <td>278.807190</td>\n",
       "    </tr>\n",
       "    <tr>\n",
       "      <th>12</th>\n",
       "      <td>256.865845</td>\n",
       "    </tr>\n",
       "  </tbody>\n",
       "</table>\n",
       "<p>72 rows × 1 columns</p>\n",
       "</div>"
      ],
      "text/plain": [
       "            Adj Close\n",
       "Date Date            \n",
       "2016 1      78.004707\n",
       "     2      85.151138\n",
       "     3      89.864914\n",
       "     4      91.290642\n",
       "     5     101.671661\n",
       "...               ...\n",
       "2021 8     311.891022\n",
       "     9     295.692688\n",
       "     10    265.308594\n",
       "     11    278.807190\n",
       "     12    256.865845\n",
       "\n",
       "[72 rows x 1 columns]"
      ]
     },
     "execution_count": 12,
     "metadata": {},
     "output_type": "execute_result"
    }
   ],
   "source": [
    "adidas_monthly = pd.DataFrame(adidas.groupby([adidas.index.year, adidas.index.month])[\"Adj Close\"].first())\n",
    "adidas_monthly"
   ]
  },
  {
   "cell_type": "markdown",
   "metadata": {},
   "source": [
    "Generieren Sie die Spalte *returns* für den Datensatz *adidas_monthly*, analog zum Dataframe *adidas* und löschen Sie alle Zeilen mit Missing Values. "
   ]
  },
  {
   "cell_type": "code",
   "execution_count": 13,
   "metadata": {},
   "outputs": [
    {
     "data": {
      "text/html": [
       "<div>\n",
       "<style scoped>\n",
       "    .dataframe tbody tr th:only-of-type {\n",
       "        vertical-align: middle;\n",
       "    }\n",
       "\n",
       "    .dataframe tbody tr th {\n",
       "        vertical-align: top;\n",
       "    }\n",
       "\n",
       "    .dataframe thead th {\n",
       "        text-align: right;\n",
       "    }\n",
       "</style>\n",
       "<table border=\"1\" class=\"dataframe\">\n",
       "  <thead>\n",
       "    <tr style=\"text-align: right;\">\n",
       "      <th></th>\n",
       "      <th></th>\n",
       "      <th>Adj Close</th>\n",
       "      <th>Returns</th>\n",
       "    </tr>\n",
       "    <tr>\n",
       "      <th>Date</th>\n",
       "      <th>Date</th>\n",
       "      <th></th>\n",
       "      <th></th>\n",
       "    </tr>\n",
       "  </thead>\n",
       "  <tbody>\n",
       "    <tr>\n",
       "      <th rowspan=\"5\" valign=\"top\">2016</th>\n",
       "      <th>2</th>\n",
       "      <td>85.151138</td>\n",
       "      <td>0.091615</td>\n",
       "    </tr>\n",
       "    <tr>\n",
       "      <th>3</th>\n",
       "      <td>89.864914</td>\n",
       "      <td>0.055358</td>\n",
       "    </tr>\n",
       "    <tr>\n",
       "      <th>4</th>\n",
       "      <td>91.290642</td>\n",
       "      <td>0.015865</td>\n",
       "    </tr>\n",
       "    <tr>\n",
       "      <th>5</th>\n",
       "      <td>101.671661</td>\n",
       "      <td>0.113714</td>\n",
       "    </tr>\n",
       "    <tr>\n",
       "      <th>6</th>\n",
       "      <td>104.979561</td>\n",
       "      <td>0.032535</td>\n",
       "    </tr>\n",
       "    <tr>\n",
       "      <th>...</th>\n",
       "      <th>...</th>\n",
       "      <td>...</td>\n",
       "      <td>...</td>\n",
       "    </tr>\n",
       "    <tr>\n",
       "      <th rowspan=\"5\" valign=\"top\">2021</th>\n",
       "      <th>8</th>\n",
       "      <td>311.891022</td>\n",
       "      <td>0.010818</td>\n",
       "    </tr>\n",
       "    <tr>\n",
       "      <th>9</th>\n",
       "      <td>295.692688</td>\n",
       "      <td>-0.051936</td>\n",
       "    </tr>\n",
       "    <tr>\n",
       "      <th>10</th>\n",
       "      <td>265.308594</td>\n",
       "      <td>-0.102756</td>\n",
       "    </tr>\n",
       "    <tr>\n",
       "      <th>11</th>\n",
       "      <td>278.807190</td>\n",
       "      <td>0.050879</td>\n",
       "    </tr>\n",
       "    <tr>\n",
       "      <th>12</th>\n",
       "      <td>256.865845</td>\n",
       "      <td>-0.078697</td>\n",
       "    </tr>\n",
       "  </tbody>\n",
       "</table>\n",
       "<p>71 rows × 2 columns</p>\n",
       "</div>"
      ],
      "text/plain": [
       "            Adj Close   Returns\n",
       "Date Date                      \n",
       "2016 2      85.151138  0.091615\n",
       "     3      89.864914  0.055358\n",
       "     4      91.290642  0.015865\n",
       "     5     101.671661  0.113714\n",
       "     6     104.979561  0.032535\n",
       "...               ...       ...\n",
       "2021 8     311.891022  0.010818\n",
       "     9     295.692688 -0.051936\n",
       "     10    265.308594 -0.102756\n",
       "     11    278.807190  0.050879\n",
       "     12    256.865845 -0.078697\n",
       "\n",
       "[71 rows x 2 columns]"
      ]
     },
     "execution_count": 13,
     "metadata": {},
     "output_type": "execute_result"
    }
   ],
   "source": [
    "adidas_monthly_returns = adidas_monthly['Adj Close']/adidas_monthly['Adj Close'].shift(1)-1\n",
    "adidas_monthly['Returns'] = adidas_monthly_returns\n",
    "adidas_monthly = adidas_monthly.dropna()\n",
    "adidas_monthly"
   ]
  },
  {
   "cell_type": "markdown",
   "metadata": {},
   "source": [
    "Berechnen Sie das aritmethische Mittel für die monatlichen Renditen. Annualisieren Sie dieses und speichern Sie die annualisierte Variable als *amean_return_annualized2*."
   ]
  },
  {
   "cell_type": "code",
   "execution_count": 14,
   "metadata": {},
   "outputs": [
    {
     "name": "stdout",
     "output_type": "stream",
     "text": [
      "0.020084925713169336 0.24101910855803205\n"
     ]
    }
   ],
   "source": [
    "amean_monthly_returns = adidas_monthly['Returns'].mean()\n",
    "amean_return_annualized2 = amean_monthly_returns*12\n",
    "print(amean_monthly_returns, amean_return_annualized2)"
   ]
  },
  {
   "cell_type": "markdown",
   "metadata": {},
   "source": [
    "## Berechnung und Annualisierung von Jahresrenditen"
   ]
  },
  {
   "cell_type": "markdown",
   "metadata": {},
   "source": [
    "Generieren Sie nun ein Dataframe *adidas_yearly* aus den ersten Beobachtungen in jedem Jahr und berechnen Sie daraus den aritmetischen Jahresmittelwert. Nennen Sie die Variable *amean_return_annualized3*. "
   ]
  },
  {
   "cell_type": "code",
   "execution_count": 15,
   "metadata": {},
   "outputs": [
    {
     "name": "stdout",
     "output_type": "stream",
     "text": [
      "       Adj Close   Returns\n",
      "Date                      \n",
      "2016   78.004707       NaN\n",
      "2017  136.749130  0.753088\n",
      "2018  152.781815  0.117242\n",
      "2019  173.246399  0.133946\n",
      "2020  277.637939  0.602561\n",
      "2021  286.962646  0.033586\n"
     ]
    },
    {
     "data": {
      "text/plain": [
       "0.32808463579731584"
      ]
     },
     "execution_count": 15,
     "metadata": {},
     "output_type": "execute_result"
    }
   ],
   "source": [
    "adidas_yearly = pd.DataFrame(adidas.groupby(adidas.index.year)[\"Adj Close\"].first())\n",
    "adidas_yearly_returns = adidas_yearly['Adj Close']/adidas_yearly['Adj Close'].shift(1)-1\n",
    "adidas_yearly['Returns'] = adidas_yearly_returns\n",
    "print(adidas_yearly)\n",
    "\n",
    "amean_return_annualized3 = adidas_yearly['Returns'].mean()\n",
    "amean_return_annualized3"
   ]
  },
  {
   "cell_type": "markdown",
   "metadata": {},
   "source": [
    "## Berechnung und Annualisierung von 5-Jahres-Renditen"
   ]
  },
  {
   "cell_type": "markdown",
   "metadata": {},
   "source": [
    "Generieren Sie analog die Variable *amean_return_annualized4* aus der 5-Jahres Rendite."
   ]
  },
  {
   "cell_type": "code",
   "execution_count": 16,
   "metadata": {},
   "outputs": [
    {
     "data": {
      "text/plain": [
       "0.5357572543583464"
      ]
     },
     "execution_count": 16,
     "metadata": {},
     "output_type": "execute_result"
    }
   ],
   "source": [
    "adidas_5yearly_return = adidas_yearly['Adj Close']/adidas_yearly['Adj Close'].shift(5)-1\n",
    "amean_return_annualized4 = adidas_5yearly_return.dropna().mean()/5\n",
    "amean_return_annualized4"
   ]
  },
  {
   "cell_type": "markdown",
   "metadata": {},
   "source": [
    "## Vergleich der Ergebnisse"
   ]
  },
  {
   "cell_type": "markdown",
   "metadata": {},
   "source": [
    "Generieren Sie eine Liste *ann_ar_ret*, die die Werte für die annualisierten Renditen in der behandelten Reihenfolge beinhalten. Generieren Sie aus dieser Liste ein Dataframe, mit dem Index *daily, monthly, yearly, 5-years* und dem Spaltennamen *arithmetic means*. Zum Beispiel können Sie aus den Listen ein Dictionary bilden und dieses dann in ein Dataframe transformieren."
   ]
  },
  {
   "cell_type": "code",
   "execution_count": 17,
   "metadata": {},
   "outputs": [
    {
     "name": "stdout",
     "output_type": "stream",
     "text": [
      "[0.23476881588618959, 0.24101910855803205, 0.32808463579731584, 0.5357572543583464]\n"
     ]
    },
    {
     "data": {
      "text/html": [
       "<div>\n",
       "<style scoped>\n",
       "    .dataframe tbody tr th:only-of-type {\n",
       "        vertical-align: middle;\n",
       "    }\n",
       "\n",
       "    .dataframe tbody tr th {\n",
       "        vertical-align: top;\n",
       "    }\n",
       "\n",
       "    .dataframe thead th {\n",
       "        text-align: right;\n",
       "    }\n",
       "</style>\n",
       "<table border=\"1\" class=\"dataframe\">\n",
       "  <thead>\n",
       "    <tr style=\"text-align: right;\">\n",
       "      <th></th>\n",
       "      <th>arithmetic means</th>\n",
       "    </tr>\n",
       "  </thead>\n",
       "  <tbody>\n",
       "    <tr>\n",
       "      <th>daily</th>\n",
       "      <td>0.234769</td>\n",
       "    </tr>\n",
       "    <tr>\n",
       "      <th>monthly</th>\n",
       "      <td>0.241019</td>\n",
       "    </tr>\n",
       "    <tr>\n",
       "      <th>yearly</th>\n",
       "      <td>0.328085</td>\n",
       "    </tr>\n",
       "    <tr>\n",
       "      <th>5-years</th>\n",
       "      <td>0.535757</td>\n",
       "    </tr>\n",
       "  </tbody>\n",
       "</table>\n",
       "</div>"
      ],
      "text/plain": [
       "         arithmetic means\n",
       "daily            0.234769\n",
       "monthly          0.241019\n",
       "yearly           0.328085\n",
       "5-years          0.535757"
      ]
     },
     "execution_count": 17,
     "metadata": {},
     "output_type": "execute_result"
    }
   ],
   "source": [
    "ann_ar_ret = [amean_return_annualized1, amean_return_annualized2, amean_return_annualized3, amean_return_annualized4]\n",
    "print(ann_ar_ret)\n",
    "\n",
    "ann_df = pd.DataFrame(ann_ar_ret, index =['daily', 'monthly', 'yearly', '5-years'], columns =['arithmetic means'])\n",
    "ann_df"
   ]
  },
  {
   "cell_type": "markdown",
   "metadata": {},
   "source": [
    "**Frage 1:** Diskutieren Sie kurz, welche der Methoden annualisierte Renditen zu berechnen wohl am sinnvollsten ist."
   ]
  },
  {
   "cell_type": "markdown",
   "metadata": {},
   "source": [
    "> Wir haben die annualisierte tägliche, monatliche, 5-jährige und die jährliche Rendite berechnet.\n",
    "Wir haben einfache Renditen verwendet. Im Gegensatz zu logarithmischen Renditen werden diese nicht über die Zeit aufsummiert. Deshalb kann nicht gesagt werden, dass die einfache zwei-Perioden-Rendite gleich der Summe der beiden Ein-Perioden-Renditen ist. Außerdem haben wir das arithmethische Mittel verwendet. Hierbei werden negative Renditen innerhalb der festgelegten Zeiträume nicht berücksichtigt. Außerdem  weisen Renditen üblicherweise eine exponentielle Entwicklung auf, welcher insbesondere auf den Zinseszins-Effekt zurückzuführen ist. Da aber das arithmetische Mittel mit seiner einfachen Durchschnittsbetrachtung eine Linearität unterstellt, führt dies zu einer Verzerrung.\n",
    "Bei unserer Berechnung fällt auf, dass die annualisierte Jährliche und die annualisierte 5-Jahres-Rendite  höher als  die Tägliche oder die Rendite auf Monatsbasis sind. Würde der Aktienkurs über die Dauer der Betrachtung linear ansteigen, würden die langfristigen und kurzfristigen Mittel näher beieinander liegen.\n",
    "Aus unserer Berechnung würden somit die tägliche und die monatliche annualisierte Rendite in Frage kommen, wobei wir uns hier für die monatliche Variante als beste Variante entscheiden.\n",
    "Dennoch wäre die Berechnung auf Basis des geometrischen Mittels aufgrund der oben genannten Punkte besser geeignet."
   ]
  },
  {
   "cell_type": "markdown",
   "metadata": {},
   "source": [
    "# Risiko"
   ]
  },
  {
   "cell_type": "markdown",
   "metadata": {},
   "source": [
    "## Risikomaße"
   ]
  },
  {
   "cell_type": "markdown",
   "metadata": {},
   "source": [
    "Berechnen Sie für den Aktienkurs von Adidas vom 04.01.2016 - 31.12.2021 die Standardabweichung. Nutzen Sie für Ihre Berechnung die Spalte *logreturns* aus der vorherigen Aufgabe."
   ]
  },
  {
   "cell_type": "code",
   "execution_count": 18,
   "metadata": {},
   "outputs": [
    {
     "data": {
      "text/plain": [
       "0.01839992796051691"
      ]
     },
     "execution_count": 18,
     "metadata": {},
     "output_type": "execute_result"
    }
   ],
   "source": [
    "std = adidas['Logreturns'].std()\n",
    "std"
   ]
  },
  {
   "cell_type": "markdown",
   "metadata": {},
   "source": [
    "Berechnen Sie nun die Semivarianz. Nutzen Sie dafür dieselben Daten."
   ]
  },
  {
   "cell_type": "code",
   "execution_count": 113,
   "metadata": {},
   "outputs": [
    {
     "data": {
      "text/plain": [
       "0.00016570409063943988"
      ]
     },
     "execution_count": 113,
     "metadata": {},
     "output_type": "execute_result"
    }
   ],
   "source": [
    "def semivariance(adidas):\n",
    "    mean = adidas['Logreturns'].mean()\n",
    "    semi_variance = ((adidas['Logreturns'][adidas['Logreturns']<mean]-mean)**2).sum()/len(adidas['Logreturns'])\n",
    "    return semi_variance\n",
    "\n",
    "semivariance(adidas)"
   ]
  },
  {
   "cell_type": "markdown",
   "metadata": {},
   "source": [
    "Berechnen Sie mit diesen Daten bitte auch die Shortfall Probability für den Wert 0.01, also die Wahrscheinlichkeit dafür, dass die Renditen den Wert von 0.01 unterschreiten ..."
   ]
  },
  {
   "cell_type": "code",
   "execution_count": 146,
   "metadata": {},
   "outputs": [
    {
     "name": "stdout",
     "output_type": "stream",
     "text": [
      "Probability of daily return below -1% is 75.81%\n"
     ]
    }
   ],
   "source": [
    "def shortfall_probability(adidas):\n",
    "    adidas_log = adidas['Logreturns'].dropna() #erstes Na wird nur in Fkt gelöscht; alle Zeilen in adidas bleiben erhalten\n",
    "    adidas_shortfall_prob = adidas_log[adidas_log<-0.01].shape[0]/adidas_log.shape[0]  #.shape[0] = .count()\n",
    "    return print(\"Probability of daily return below -1% is \" + str(round(adidas_shortfall_prob*100,2)) + \"%\")\n",
    "shortfall_probability(adidas)"
   ]
  },
  {
   "cell_type": "markdown",
   "metadata": {},
   "source": [
    "... und den Value at Risk für das 1% Level."
   ]
  },
  {
   "cell_type": "code",
   "execution_count": 160,
   "metadata": {},
   "outputs": [
    {
     "name": "stdout",
     "output_type": "stream",
     "text": [
      "The worst 1% of Adidas daily returns exceeded a -5.58% return\n"
     ]
    }
   ],
   "source": [
    "print(\"The worst 1% of Adidas daily returns exceeded a \" \n",
    "      + str(round(np.percentile(adidas['Logreturns'].dropna(),1)*100,2)) #str wandelt Zahl in String um\n",
    "      + \"% return\")"
   ]
  },
  {
   "cell_type": "markdown",
   "metadata": {},
   "source": [
    "## Risiken von Portfolios"
   ]
  },
  {
   "cell_type": "markdown",
   "metadata": {},
   "source": [
    "Nun wollen wir ein Aktienportfolio erstellen. Laden Sie dafür den Adjusted Closing Preis für die Aktien von Apple, Ford, Microsoft, Amazon und Ebay (Ticker: AAPL, F, MSFT, AMZN, EBAY) im Zeitraum von 01.01.2018 bis 31.12.2021 aus Yahoo Finance."
   ]
  },
  {
   "cell_type": "code",
   "execution_count": 161,
   "metadata": {},
   "outputs": [
    {
     "data": {
      "text/html": [
       "<div>\n",
       "<style scoped>\n",
       "    .dataframe tbody tr th:only-of-type {\n",
       "        vertical-align: middle;\n",
       "    }\n",
       "\n",
       "    .dataframe tbody tr th {\n",
       "        vertical-align: top;\n",
       "    }\n",
       "\n",
       "    .dataframe thead th {\n",
       "        text-align: right;\n",
       "    }\n",
       "</style>\n",
       "<table border=\"1\" class=\"dataframe\">\n",
       "  <thead>\n",
       "    <tr style=\"text-align: right;\">\n",
       "      <th>Symbols</th>\n",
       "      <th>AAPL</th>\n",
       "      <th>F</th>\n",
       "      <th>MSFT</th>\n",
       "      <th>AMZN</th>\n",
       "      <th>EBAY</th>\n",
       "    </tr>\n",
       "    <tr>\n",
       "      <th>Date</th>\n",
       "      <th></th>\n",
       "      <th></th>\n",
       "      <th></th>\n",
       "      <th></th>\n",
       "      <th></th>\n",
       "    </tr>\n",
       "  </thead>\n",
       "  <tbody>\n",
       "    <tr>\n",
       "      <th>2018-01-02</th>\n",
       "      <td>40.950497</td>\n",
       "      <td>10.493733</td>\n",
       "      <td>80.940392</td>\n",
       "      <td>59.450500</td>\n",
       "      <td>36.061035</td>\n",
       "    </tr>\n",
       "    <tr>\n",
       "      <th>2018-01-03</th>\n",
       "      <td>40.943359</td>\n",
       "      <td>10.576622</td>\n",
       "      <td>81.317093</td>\n",
       "      <td>60.209999</td>\n",
       "      <td>37.160114</td>\n",
       "    </tr>\n",
       "    <tr>\n",
       "      <th>2018-01-04</th>\n",
       "      <td>41.133549</td>\n",
       "      <td>10.758979</td>\n",
       "      <td>82.032784</td>\n",
       "      <td>60.479500</td>\n",
       "      <td>36.544247</td>\n",
       "    </tr>\n",
       "    <tr>\n",
       "      <th>2018-01-05</th>\n",
       "      <td>41.601868</td>\n",
       "      <td>10.941332</td>\n",
       "      <td>83.049835</td>\n",
       "      <td>61.457001</td>\n",
       "      <td>37.605431</td>\n",
       "    </tr>\n",
       "    <tr>\n",
       "      <th>2018-01-08</th>\n",
       "      <td>41.447342</td>\n",
       "      <td>10.899888</td>\n",
       "      <td>83.134583</td>\n",
       "      <td>62.343498</td>\n",
       "      <td>37.709660</td>\n",
       "    </tr>\n",
       "    <tr>\n",
       "      <th>...</th>\n",
       "      <td>...</td>\n",
       "      <td>...</td>\n",
       "      <td>...</td>\n",
       "      <td>...</td>\n",
       "      <td>...</td>\n",
       "    </tr>\n",
       "    <tr>\n",
       "      <th>2021-12-27</th>\n",
       "      <td>179.289444</td>\n",
       "      <td>20.143278</td>\n",
       "      <td>339.270996</td>\n",
       "      <td>169.669495</td>\n",
       "      <td>64.772202</td>\n",
       "    </tr>\n",
       "    <tr>\n",
       "      <th>2021-12-28</th>\n",
       "      <td>178.255432</td>\n",
       "      <td>20.104544</td>\n",
       "      <td>338.082123</td>\n",
       "      <td>170.660995</td>\n",
       "      <td>65.186516</td>\n",
       "    </tr>\n",
       "    <tr>\n",
       "      <th>2021-12-29</th>\n",
       "      <td>178.344925</td>\n",
       "      <td>19.910858</td>\n",
       "      <td>338.775604</td>\n",
       "      <td>169.201004</td>\n",
       "      <td>65.561371</td>\n",
       "    </tr>\n",
       "    <tr>\n",
       "      <th>2021-12-30</th>\n",
       "      <td>177.171738</td>\n",
       "      <td>19.823700</td>\n",
       "      <td>336.170044</td>\n",
       "      <td>168.644501</td>\n",
       "      <td>65.877045</td>\n",
       "    </tr>\n",
       "    <tr>\n",
       "      <th>2021-12-31</th>\n",
       "      <td>176.545364</td>\n",
       "      <td>20.114227</td>\n",
       "      <td>333.197906</td>\n",
       "      <td>166.716995</td>\n",
       "      <td>65.600830</td>\n",
       "    </tr>\n",
       "  </tbody>\n",
       "</table>\n",
       "<p>1008 rows × 5 columns</p>\n",
       "</div>"
      ],
      "text/plain": [
       "Symbols           AAPL          F        MSFT        AMZN       EBAY\n",
       "Date                                                                \n",
       "2018-01-02   40.950497  10.493733   80.940392   59.450500  36.061035\n",
       "2018-01-03   40.943359  10.576622   81.317093   60.209999  37.160114\n",
       "2018-01-04   41.133549  10.758979   82.032784   60.479500  36.544247\n",
       "2018-01-05   41.601868  10.941332   83.049835   61.457001  37.605431\n",
       "2018-01-08   41.447342  10.899888   83.134583   62.343498  37.709660\n",
       "...                ...        ...         ...         ...        ...\n",
       "2021-12-27  179.289444  20.143278  339.270996  169.669495  64.772202\n",
       "2021-12-28  178.255432  20.104544  338.082123  170.660995  65.186516\n",
       "2021-12-29  178.344925  19.910858  338.775604  169.201004  65.561371\n",
       "2021-12-30  177.171738  19.823700  336.170044  168.644501  65.877045\n",
       "2021-12-31  176.545364  20.114227  333.197906  166.716995  65.600830\n",
       "\n",
       "[1008 rows x 5 columns]"
      ]
     },
     "execution_count": 161,
     "metadata": {},
     "output_type": "execute_result"
    }
   ],
   "source": [
    "list = [\"AAPL\", \"F\", \"MSFT\", \"AMZN\", \"EBAY\"]\n",
    "portfolio = web.get_data_yahoo(list, datetime(2018,1,1), datetime(2021,12,31))['Adj Close']\n",
    "portfolio"
   ]
  },
  {
   "cell_type": "markdown",
   "metadata": {},
   "source": [
    "Generieren Sie ein Dataframe *portfolio* mit den logarithmierten Renditen, dabei entsprechen die Variablennamen dem Ticker. Löschen Sie Zeilen mit Missing Values."
   ]
  },
  {
   "cell_type": "code",
   "execution_count": 173,
   "metadata": {},
   "outputs": [
    {
     "data": {
      "text/html": [
       "<div>\n",
       "<style scoped>\n",
       "    .dataframe tbody tr th:only-of-type {\n",
       "        vertical-align: middle;\n",
       "    }\n",
       "\n",
       "    .dataframe tbody tr th {\n",
       "        vertical-align: top;\n",
       "    }\n",
       "\n",
       "    .dataframe thead th {\n",
       "        text-align: right;\n",
       "    }\n",
       "</style>\n",
       "<table border=\"1\" class=\"dataframe\">\n",
       "  <thead>\n",
       "    <tr style=\"text-align: right;\">\n",
       "      <th>Symbols</th>\n",
       "      <th>AAPL</th>\n",
       "      <th>F</th>\n",
       "      <th>MSFT</th>\n",
       "      <th>AMZN</th>\n",
       "      <th>EBAY</th>\n",
       "    </tr>\n",
       "    <tr>\n",
       "      <th>Date</th>\n",
       "      <th></th>\n",
       "      <th></th>\n",
       "      <th></th>\n",
       "      <th></th>\n",
       "      <th></th>\n",
       "    </tr>\n",
       "  </thead>\n",
       "  <tbody>\n",
       "    <tr>\n",
       "      <th>2018-01-03</th>\n",
       "      <td>-0.000174</td>\n",
       "      <td>0.007868</td>\n",
       "      <td>0.004643</td>\n",
       "      <td>0.012694</td>\n",
       "      <td>0.030023</td>\n",
       "    </tr>\n",
       "    <tr>\n",
       "      <th>2018-01-04</th>\n",
       "      <td>0.004634</td>\n",
       "      <td>0.017095</td>\n",
       "      <td>0.008763</td>\n",
       "      <td>0.004466</td>\n",
       "      <td>-0.016712</td>\n",
       "    </tr>\n",
       "    <tr>\n",
       "      <th>2018-01-05</th>\n",
       "      <td>0.011321</td>\n",
       "      <td>0.016807</td>\n",
       "      <td>0.012322</td>\n",
       "      <td>0.016033</td>\n",
       "      <td>0.028625</td>\n",
       "    </tr>\n",
       "    <tr>\n",
       "      <th>2018-01-08</th>\n",
       "      <td>-0.003721</td>\n",
       "      <td>-0.003795</td>\n",
       "      <td>0.001020</td>\n",
       "      <td>0.014322</td>\n",
       "      <td>0.002768</td>\n",
       "    </tr>\n",
       "    <tr>\n",
       "      <th>2018-01-09</th>\n",
       "      <td>-0.000115</td>\n",
       "      <td>-0.005337</td>\n",
       "      <td>-0.000680</td>\n",
       "      <td>0.004665</td>\n",
       "      <td>-0.006807</td>\n",
       "    </tr>\n",
       "    <tr>\n",
       "      <th>...</th>\n",
       "      <td>...</td>\n",
       "      <td>...</td>\n",
       "      <td>...</td>\n",
       "      <td>...</td>\n",
       "      <td>...</td>\n",
       "    </tr>\n",
       "    <tr>\n",
       "      <th>2021-12-27</th>\n",
       "      <td>0.022715</td>\n",
       "      <td>0.026798</td>\n",
       "      <td>0.022921</td>\n",
       "      <td>-0.008212</td>\n",
       "      <td>0.011797</td>\n",
       "    </tr>\n",
       "    <tr>\n",
       "      <th>2021-12-28</th>\n",
       "      <td>-0.005784</td>\n",
       "      <td>-0.001925</td>\n",
       "      <td>-0.003510</td>\n",
       "      <td>0.005827</td>\n",
       "      <td>0.006376</td>\n",
       "    </tr>\n",
       "    <tr>\n",
       "      <th>2021-12-29</th>\n",
       "      <td>0.000502</td>\n",
       "      <td>-0.009681</td>\n",
       "      <td>0.002049</td>\n",
       "      <td>-0.008592</td>\n",
       "      <td>0.005734</td>\n",
       "    </tr>\n",
       "    <tr>\n",
       "      <th>2021-12-30</th>\n",
       "      <td>-0.006600</td>\n",
       "      <td>-0.004387</td>\n",
       "      <td>-0.007721</td>\n",
       "      <td>-0.003294</td>\n",
       "      <td>0.004803</td>\n",
       "    </tr>\n",
       "    <tr>\n",
       "      <th>2021-12-31</th>\n",
       "      <td>-0.003542</td>\n",
       "      <td>0.014549</td>\n",
       "      <td>-0.008880</td>\n",
       "      <td>-0.011495</td>\n",
       "      <td>-0.004202</td>\n",
       "    </tr>\n",
       "  </tbody>\n",
       "</table>\n",
       "<p>1007 rows × 5 columns</p>\n",
       "</div>"
      ],
      "text/plain": [
       "Symbols         AAPL         F      MSFT      AMZN      EBAY\n",
       "Date                                                        \n",
       "2018-01-03 -0.000174  0.007868  0.004643  0.012694  0.030023\n",
       "2018-01-04  0.004634  0.017095  0.008763  0.004466 -0.016712\n",
       "2018-01-05  0.011321  0.016807  0.012322  0.016033  0.028625\n",
       "2018-01-08 -0.003721 -0.003795  0.001020  0.014322  0.002768\n",
       "2018-01-09 -0.000115 -0.005337 -0.000680  0.004665 -0.006807\n",
       "...              ...       ...       ...       ...       ...\n",
       "2021-12-27  0.022715  0.026798  0.022921 -0.008212  0.011797\n",
       "2021-12-28 -0.005784 -0.001925 -0.003510  0.005827  0.006376\n",
       "2021-12-29  0.000502 -0.009681  0.002049 -0.008592  0.005734\n",
       "2021-12-30 -0.006600 -0.004387 -0.007721 -0.003294  0.004803\n",
       "2021-12-31 -0.003542  0.014549 -0.008880 -0.011495 -0.004202\n",
       "\n",
       "[1007 rows x 5 columns]"
      ]
     },
     "execution_count": 173,
     "metadata": {},
     "output_type": "execute_result"
    }
   ],
   "source": [
    "portfolio_logreturns = pd.DataFrame(np.diff(np.log(portfolio.values).T).T,)\n",
    "portfolio_logreturns.index = portfolio.index[1:]\n",
    "portfolio_logreturns.columns = portfolio.columns\n",
    "\n",
    "portfolio_logreturns.dropna()"
   ]
  },
  {
   "cell_type": "markdown",
   "metadata": {},
   "source": [
    "Berechnen Sie die Standardabweichung der Renditen der fünf Wertpapiere und speichern Sie die Werte als Serie mit dem Namem *sds*.\n",
    "\n",
    "Tipp: Mit den Funktionen .var() oder .cov() können Sie ganz einfach eine Serie beziehungsweise Dataframe mit der Varianz/Varianz-Kovarianz Matrix eines Portfolios erstellen. "
   ]
  },
  {
   "cell_type": "code",
   "execution_count": 174,
   "metadata": {},
   "outputs": [
    {
     "data": {
      "text/plain": [
       "Symbols\n",
       "AAPL    0.020736\n",
       "F       0.025064\n",
       "MSFT    0.018809\n",
       "AMZN    0.019639\n",
       "EBAY    0.020060\n",
       "dtype: float64"
      ]
     },
     "execution_count": 174,
     "metadata": {},
     "output_type": "execute_result"
    }
   ],
   "source": [
    "sds = pd.Series(portfolio_logreturns.std())\n",
    "sds"
   ]
  },
  {
   "cell_type": "markdown",
   "metadata": {},
   "source": [
    "Nehmen Sie nun an, Risiko (in Form der Standardabweichung) sei additiv. Was wäre unter dieser Annahme das Risiko eines gleichgewichteten Portfolios aus diesen fünf Wertpapieren? "
   ]
  },
  {
   "cell_type": "code",
   "execution_count": 171,
   "metadata": {},
   "outputs": [
    {
     "data": {
      "text/plain": [
       "0.020861582340313673"
      ]
     },
     "execution_count": 171,
     "metadata": {},
     "output_type": "execute_result"
    }
   ],
   "source": [
    "sum(sds)/5"
   ]
  },
  {
   "cell_type": "markdown",
   "metadata": {},
   "source": [
    "In diesem Schritt wollen wir zeigen, dass obiger Wert nicht der Portfoliostandardabweichung entspricht. Dafür berechnen wir die tatsächliche Standardabweichung des gleichgewichteten Portfolios aus der Varianz-Kovarianz Matrix."
   ]
  },
  {
   "cell_type": "code",
   "execution_count": 220,
   "metadata": {
    "scrolled": true
   },
   "outputs": [
    {
     "name": "stdout",
     "output_type": "stream",
     "text": [
      "0.015477951351908764\n"
     ]
    }
   ],
   "source": [
    "cov = portfolio_logreturns.cov()\n",
    "h = np.ones(len(list))*(1/len(list)) #np.ones erstellt Array aus 1en\n",
    "#equal_std = np.dot(h,np.sqrt(np.diag(cov))) #np.dot multipliziert Array a mit b und bildet die Summe der Produkte (Matrizenmultiplikation)\n",
    "#print(equal_std)\n",
    "\n",
    "portfolio_std = np.sqrt(np.dot(np.dot(np.transpose(h),cov),h)) #h=5x1 Matrix-> [h.transpose * cov] * h =\n",
    "print(portfolio_std)                                           #               = [1x5 * 5x5] * 5x1 = 1x5 * 5x1 = 1x1 Matrix"
   ]
  },
  {
   "cell_type": "markdown",
   "metadata": {},
   "source": [
    "**Frage 2:** Wie unterscheiden sich die richtige und die falsche Berechnung der Portfoliostandardabweichung?"
   ]
  },
  {
   "cell_type": "markdown",
   "metadata": {},
   "source": [
    ">\n",
    "Richtige Berechnung der std:  \n",
    "Die Portfoliostandardabweichung berechnet sich bei der richtigen Berechnung aus  ℎ𝑇,𝑉,ℎ .\n",
    "ℎ𝑇  = der Gewichtsvektor transponiert \n",
    "𝑉  = die Varianz-Kovarianz-Matrix \n",
    "ℎ  = der Gewichtsvektor \n",
    "\n",
    "\n",
    "Falsche Berechnung der std:\n",
    "Man extrahiert zuerst die Hauptdiagonale der Varianz-Kovarianz-Matrix. \n",
    "Daraus erhält man die Varianzen.\n",
    "Aus diesen zieht man die Wurzel und multipliziert sie mit den Gewichtsvektoren.\n",
    "\n",
    "\n",
    "Wenn der Wert der richtigen Std kleiner als der der falschen Berechnung ist, dann haben wir einen Diversifikationseffekt.\n",
    "Bei der falschen Berechnung werden  Kovarianz und Korrelation nicht berücksichtig. Dabei dürfen die einzelnen Aktien nicht perfekt miteinander korrelieren (< 1). Wenn also im Portfolio die Korrelation/Kovarianz <1 ist, ist das tats. Risiko des Portfolios kleiner als die Summe seiner Einzelrisiken.\n",
    "Siehe auch in unserem Portfolio die Abweichung der gleichgewichteten Standardabweichung und der tatsächlichen Standardabweichung."
   ]
  }
 ],
 "metadata": {
  "kernelspec": {
   "display_name": "Python 3 (ipykernel)",
   "language": "python",
   "name": "python3"
  },
  "language_info": {
   "codemirror_mode": {
    "name": "ipython",
    "version": 3
   },
   "file_extension": ".py",
   "mimetype": "text/x-python",
   "name": "python",
   "nbconvert_exporter": "python",
   "pygments_lexer": "ipython3",
   "version": "3.9.7"
  },
  "toc": {
   "base_numbering": 1,
   "nav_menu": {},
   "number_sections": true,
   "sideBar": true,
   "skip_h1_title": false,
   "title_cell": "Inhaltsverzeichnis",
   "title_sidebar": "Inhalt",
   "toc_cell": true,
   "toc_position": {},
   "toc_section_display": true,
   "toc_window_display": false
  },
  "varInspector": {
   "cols": {
    "lenName": 16,
    "lenType": 16,
    "lenVar": 40
   },
   "kernels_config": {
    "python": {
     "delete_cmd_postfix": "",
     "delete_cmd_prefix": "del ",
     "library": "var_list.py",
     "varRefreshCmd": "print(var_dic_list())"
    },
    "r": {
     "delete_cmd_postfix": ") ",
     "delete_cmd_prefix": "rm(",
     "library": "var_list.r",
     "varRefreshCmd": "cat(var_dic_list()) "
    }
   },
   "types_to_exclude": [
    "module",
    "function",
    "builtin_function_or_method",
    "instance",
    "_Feature"
   ],
   "window_display": false
  }
 },
 "nbformat": 4,
 "nbformat_minor": 2
}
