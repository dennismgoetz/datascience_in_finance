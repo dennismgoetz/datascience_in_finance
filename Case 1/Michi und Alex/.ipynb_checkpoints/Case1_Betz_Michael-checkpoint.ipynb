{
 "cells": [
  {
   "cell_type": "markdown",
   "metadata": {
    "toc": true
   },
   "source": [
    "<h1>Inhaltsverzeichnis<span class=\"tocSkip\"></span></h1>\n",
    "<div class=\"toc\"><ul class=\"toc-item\"><li><span><a href=\"#Berechnung-annualisierter-Renditen\" data-toc-modified-id=\"Berechnung-annualisierter-Renditen-1\"><span class=\"toc-item-num\">1&nbsp;&nbsp;</span>Berechnung annualisierter Renditen</a></span><ul class=\"toc-item\"><li><span><a href=\"#Aktienkursdaten-laden\" data-toc-modified-id=\"Aktienkursdaten-laden-1.1\"><span class=\"toc-item-num\">1.1&nbsp;&nbsp;</span>Aktienkursdaten laden</a></span></li><li><span><a href=\"#Betrachtung-der-Daten\" data-toc-modified-id=\"Betrachtung-der-Daten-1.2\"><span class=\"toc-item-num\">1.2&nbsp;&nbsp;</span>Betrachtung der Daten</a></span></li><li><span><a href=\"#Berechnung-und-Annualisierung-von-täglichen-Renditen\" data-toc-modified-id=\"Berechnung-und-Annualisierung-von-täglichen-Renditen-1.3\"><span class=\"toc-item-num\">1.3&nbsp;&nbsp;</span>Berechnung und Annualisierung von täglichen Renditen</a></span></li><li><span><a href=\"#Berechnung-und-Annualisierung-von-Monatsrenditen\" data-toc-modified-id=\"Berechnung-und-Annualisierung-von-Monatsrenditen-1.4\"><span class=\"toc-item-num\">1.4&nbsp;&nbsp;</span>Berechnung und Annualisierung von Monatsrenditen</a></span></li><li><span><a href=\"#Berechnung-und-Annualisierung-von-Jahresrenditen\" data-toc-modified-id=\"Berechnung-und-Annualisierung-von-Jahresrenditen-1.5\"><span class=\"toc-item-num\">1.5&nbsp;&nbsp;</span>Berechnung und Annualisierung von Jahresrenditen</a></span></li><li><span><a href=\"#Berechnung-und-Annualisierung-von-5-Jahres-Renditen\" data-toc-modified-id=\"Berechnung-und-Annualisierung-von-5-Jahres-Renditen-1.6\"><span class=\"toc-item-num\">1.6&nbsp;&nbsp;</span>Berechnung und Annualisierung von 5-Jahres-Renditen</a></span></li><li><span><a href=\"#Vergleich-der-Ergebnisse\" data-toc-modified-id=\"Vergleich-der-Ergebnisse-1.7\"><span class=\"toc-item-num\">1.7&nbsp;&nbsp;</span>Vergleich der Ergebnisse</a></span></li></ul></li><li><span><a href=\"#Risiko\" data-toc-modified-id=\"Risiko-2\"><span class=\"toc-item-num\">2&nbsp;&nbsp;</span>Risiko</a></span><ul class=\"toc-item\"><li><span><a href=\"#Risikomaße\" data-toc-modified-id=\"Risikomaße-2.1\"><span class=\"toc-item-num\">2.1&nbsp;&nbsp;</span>Risikomaße</a></span></li><li><span><a href=\"#Risiken-von-Portfolios\" data-toc-modified-id=\"Risiken-von-Portfolios-2.2\"><span class=\"toc-item-num\">2.2&nbsp;&nbsp;</span>Risiken von Portfolios</a></span></li></ul></li></ul></div>"
   ]
  },
  {
   "cell_type": "markdown",
   "metadata": {},
   "source": [
    "Willkommen zur ersten Case-Study. Diese beinhaltet Aufgaben zu den Notebooks A.1-B.1. Nach der Installation aller relevanten Pakete analysieren wir zuerst den Kursverlauf einer Aktie. Anschließend berechnen Sie die Rendite und Risiko der Einzelaktie und abschließend für ein Portfolio. \n",
    "\n",
    "Bitte nutzen Sie die vorgesehenen Felder für Ihren Code und Ihre Antworten. Insgesamt gibt es 26 Code-Zeilen, und zwei Textfragen, die Sie bitte befüllen. Schriftliche Antworten in Form eines Markdowns kennzeichnen Sie bitte als Blockzitat (mit dem > Symbol). Falls keine Angabe zur Bezeichnung der zu erstellenden Variablen oder Dataframes gemacht werden, wählen Sie eigene sinnvolle Bezeichnungen.\n",
    "\n",
    "Achten Sie darauf, dass Ihr Code in einem Setting läuft (Kernel > Restart & Run All).\n",
    "\n",
    "Zusätzlich zur Abgabe dieses Notebooks geben Sie bitte das Excel-Sheet mit Ihren Lösungen ab. Benennen Sie das Excel-Sheet und das Notebook bitte nach dem Prinzip: Case1_Nachname_Vorname.\n",
    "\n",
    "\n",
    "\n",
    "HAPPY CODING!"
   ]
  },
  {
   "cell_type": "markdown",
   "metadata": {},
   "source": [
    "Tragen Sie in der folgenden Markdown Zeile den Namen Ihres Teampartners ein bzw. im Falle einer Einzelarbeit bitte dies vermerken."
   ]
  },
  {
   "cell_type": "markdown",
   "metadata": {},
   "source": [
    "> Dennis Götz"
   ]
  },
  {
   "cell_type": "markdown",
   "metadata": {},
   "source": [
    "Tragen Sie in der folgenden Markdown Zeile Ihre Matrikelnummer ein."
   ]
  },
  {
   "cell_type": "markdown",
   "metadata": {},
   "source": [
    " > 272753"
   ]
  },
  {
   "cell_type": "markdown",
   "metadata": {},
   "source": [
    "**Installation aller relevanten Pakete:**"
   ]
  },
  {
   "cell_type": "code",
   "execution_count": 107,
   "metadata": {},
   "outputs": [],
   "source": [
    "import numpy as np\n",
    "import pandas as pd\n",
    "import pandas_datareader.data as web\n",
    "from datetime import datetime\n",
    "import matplotlib.pyplot as plt\n",
    "import statsmodels.api as sm\n",
    "from scipy.stats.mstats import gmean\n",
    "%matplotlib inline"
   ]
  },
  {
   "cell_type": "markdown",
   "metadata": {},
   "source": [
    "# Berechnung annualisierter Renditen"
   ]
  },
  {
   "cell_type": "markdown",
   "metadata": {},
   "source": [
    "## Aktienkursdaten laden"
   ]
  },
  {
   "cell_type": "markdown",
   "metadata": {},
   "source": [
    "Bitte laden Sie mit dem Pandas Datareader die Schlusskurse der Adidas-Aktie aus Yahoo Finance von 2016 bis einschließlich 2021 in ein Dataframe. Den Ticker finden Sie auch über die Yahoo Finance Internetseite (Ticker: ADS.DE). Nennen Sie das Dataframe *adidas*. Der Index des Dataframe ist dabei das Datum der Kurswerte. Die Spalte mit den Kurswerten trägt den Namen *Adj Close*. <br>\n",
    "Erster Handelstag: 04.01.2016 <br>\n",
    "Letzter Handelstag: 31.12.2021"
   ]
  },
  {
   "cell_type": "code",
   "execution_count": 108,
   "metadata": {},
   "outputs": [
    {
     "data": {
      "text/html": [
       "<div>\n",
       "<style scoped>\n",
       "    .dataframe tbody tr th:only-of-type {\n",
       "        vertical-align: middle;\n",
       "    }\n",
       "\n",
       "    .dataframe tbody tr th {\n",
       "        vertical-align: top;\n",
       "    }\n",
       "\n",
       "    .dataframe thead th {\n",
       "        text-align: right;\n",
       "    }\n",
       "</style>\n",
       "<table border=\"1\" class=\"dataframe\">\n",
       "  <thead>\n",
       "    <tr style=\"text-align: right;\">\n",
       "      <th></th>\n",
       "      <th>Adj Close</th>\n",
       "    </tr>\n",
       "    <tr>\n",
       "      <th>Date</th>\n",
       "      <th></th>\n",
       "    </tr>\n",
       "  </thead>\n",
       "  <tbody>\n",
       "    <tr>\n",
       "      <th>2016-01-04</th>\n",
       "      <td>78.004715</td>\n",
       "    </tr>\n",
       "    <tr>\n",
       "      <th>2016-01-05</th>\n",
       "      <td>77.737396</td>\n",
       "    </tr>\n",
       "    <tr>\n",
       "      <th>2016-01-06</th>\n",
       "      <td>76.837410</td>\n",
       "    </tr>\n",
       "    <tr>\n",
       "      <th>2016-01-07</th>\n",
       "      <td>75.643372</td>\n",
       "    </tr>\n",
       "    <tr>\n",
       "      <th>2016-01-08</th>\n",
       "      <td>74.360214</td>\n",
       "    </tr>\n",
       "    <tr>\n",
       "      <th>...</th>\n",
       "      <td>...</td>\n",
       "    </tr>\n",
       "    <tr>\n",
       "      <th>2021-12-23</th>\n",
       "      <td>247.294113</td>\n",
       "    </tr>\n",
       "    <tr>\n",
       "      <th>2021-12-27</th>\n",
       "      <td>248.324921</td>\n",
       "    </tr>\n",
       "    <tr>\n",
       "      <th>2021-12-28</th>\n",
       "      <td>250.337433</td>\n",
       "    </tr>\n",
       "    <tr>\n",
       "      <th>2021-12-29</th>\n",
       "      <td>249.453903</td>\n",
       "    </tr>\n",
       "    <tr>\n",
       "      <th>2021-12-30</th>\n",
       "      <td>248.570343</td>\n",
       "    </tr>\n",
       "  </tbody>\n",
       "</table>\n",
       "<p>1522 rows × 1 columns</p>\n",
       "</div>"
      ],
      "text/plain": [
       "             Adj Close\n",
       "Date                  \n",
       "2016-01-04   78.004715\n",
       "2016-01-05   77.737396\n",
       "2016-01-06   76.837410\n",
       "2016-01-07   75.643372\n",
       "2016-01-08   74.360214\n",
       "...                ...\n",
       "2021-12-23  247.294113\n",
       "2021-12-27  248.324921\n",
       "2021-12-28  250.337433\n",
       "2021-12-29  249.453903\n",
       "2021-12-30  248.570343\n",
       "\n",
       "[1522 rows x 1 columns]"
      ]
     },
     "execution_count": 108,
     "metadata": {},
     "output_type": "execute_result"
    }
   ],
   "source": [
    "adidas = web.get_data_yahoo('ADS.DE', datetime(2016,1,4), \n",
    "                         datetime(2021,12,31))['Adj Close']\n",
    "adidas\n",
    "\n",
    "adidas_df = pd.DataFrame(data = adidas)\n",
    "adidas_df.columns = ['Adj Close']\n",
    "adidas_df"
   ]
  },
  {
   "cell_type": "markdown",
   "metadata": {},
   "source": [
    "## Betrachtung der Daten"
   ]
  },
  {
   "cell_type": "markdown",
   "metadata": {},
   "source": [
    "Erstellen Sie eine Grafik (Line-Chart, Größe 15,5), welche den Verlauf des Aktienkurs darstellt. Die x-Achse soll den Zeitverlauf darstellen und die y-Achse den Kurs. Geben Sie der Grafik einen Titel und beschriften Sie die Achsen entsprechend."
   ]
  },
  {
   "cell_type": "code",
   "execution_count": 109,
   "metadata": {},
   "outputs": [
    {
     "data": {
      "image/png": "[encoded data removed]",
      "text/plain": [
       "<Figure size 1080x360 with 1 Axes>"
      ]
     },
     "metadata": {
      "needs_background": "light"
     },
     "output_type": "display_data"
    }
   ],
   "source": [
    "plt.figure(figsize=(15,5));\n",
    "plt.plot(adidas_df);\n",
    "plt.ylabel('Stock Price');\n",
    "plt.xlabel('Year')\n",
    "plt.title('Adidas');\n",
    "plt.show();"
   ]
  },
  {
   "cell_type": "markdown",
   "metadata": {},
   "source": [
    "Lassen Sie sich den Aktienkurs am 100. Handelstag des Datensatzs ausgeben. Denken Sie daran Python nutzt *0-based indexing*, dementsprechend ist das 0. Element eines Dataframes deren erste Beobachtung."
   ]
  },
  {
   "cell_type": "code",
   "execution_count": 110,
   "metadata": {},
   "outputs": [
    {
     "data": {
      "text/plain": [
       "Adj Close    103.578629\n",
       "Name: 2016-05-25 00:00:00, dtype: float64"
      ]
     },
     "execution_count": 110,
     "metadata": {},
     "output_type": "execute_result"
    }
   ],
   "source": [
    "adidas_df.iloc[99]"
   ]
  },
  {
   "cell_type": "markdown",
   "metadata": {},
   "source": [
    "Um einen besseren Überblick über das Kursniveau der Aktie zu erhalten, berechnen Sie nun den Mittelwert für den Aktienkurs über den gesamten Zeitraum."
   ]
  },
  {
   "cell_type": "code",
   "execution_count": 111,
   "metadata": {},
   "outputs": [
    {
     "data": {
      "text/plain": [
       "Adj Close    202.86175\n",
       "dtype: float64"
      ]
     },
     "execution_count": 111,
     "metadata": {},
     "output_type": "execute_result"
    }
   ],
   "source": [
    "adidas_df.mean()"
   ]
  },
  {
   "cell_type": "markdown",
   "metadata": {},
   "source": [
    "Im nächsten Schritt wollen wir betrachten, an welchen Tagen der Aktienkurs über EUR 280 steigt. Berechnen Sie dafür den Vektor *higher_280* der immer dann den Wert 1 annimmt, wenn der Aktienkurs größer als EUR 280 ist und andernfalls den Wert 0 annimmt."
   ]
  },
  {
   "cell_type": "code",
   "execution_count": 112,
   "metadata": {},
   "outputs": [
    {
     "data": {
      "text/plain": [
       "Date\n",
       "2016-01-04    False\n",
       "2016-01-05    False\n",
       "2016-01-06    False\n",
       "2016-01-07    False\n",
       "2016-01-08    False\n",
       "              ...  \n",
       "2021-12-23    False\n",
       "2021-12-27    False\n",
       "2021-12-28    False\n",
       "2021-12-29    False\n",
       "2021-12-30    False\n",
       "Name: Adj Close, Length: 1522, dtype: bool"
      ]
     },
     "execution_count": 112,
     "metadata": {},
     "output_type": "execute_result"
    }
   ],
   "source": [
    "higher_280 = adidas_df['Adj Close'] > 280\n",
    "higher_280\n"
   ]
  },
  {
   "cell_type": "markdown",
   "metadata": {},
   "source": [
    "Geben Sie sich nun alle Daten aus an denen der Kurs größer als EUR 280 ist. Nehmen Sie dazu den Vektor *higher_280* zu Hilfe. "
   ]
  },
  {
   "cell_type": "code",
   "execution_count": 113,
   "metadata": {},
   "outputs": [
    {
     "data": {
      "text/html": [
       "<div>\n",
       "<style scoped>\n",
       "    .dataframe tbody tr th:only-of-type {\n",
       "        vertical-align: middle;\n",
       "    }\n",
       "\n",
       "    .dataframe tbody tr th {\n",
       "        vertical-align: top;\n",
       "    }\n",
       "\n",
       "    .dataframe thead th {\n",
       "        text-align: right;\n",
       "    }\n",
       "</style>\n",
       "<table border=\"1\" class=\"dataframe\">\n",
       "  <thead>\n",
       "    <tr style=\"text-align: right;\">\n",
       "      <th></th>\n",
       "      <th>Adj Close</th>\n",
       "    </tr>\n",
       "    <tr>\n",
       "      <th>Date</th>\n",
       "      <th></th>\n",
       "    </tr>\n",
       "  </thead>\n",
       "  <tbody>\n",
       "    <tr>\n",
       "      <th>2019-08-01</th>\n",
       "      <td>282.208893</td>\n",
       "    </tr>\n",
       "    <tr>\n",
       "      <th>2020-01-07</th>\n",
       "      <td>280.685242</td>\n",
       "    </tr>\n",
       "    <tr>\n",
       "      <th>2020-01-08</th>\n",
       "      <td>288.398743</td>\n",
       "    </tr>\n",
       "    <tr>\n",
       "      <th>2020-01-09</th>\n",
       "      <td>295.207550</td>\n",
       "    </tr>\n",
       "    <tr>\n",
       "      <th>2020-01-10</th>\n",
       "      <td>294.302856</td>\n",
       "    </tr>\n",
       "    <tr>\n",
       "      <th>...</th>\n",
       "      <td>...</td>\n",
       "    </tr>\n",
       "    <tr>\n",
       "      <th>2021-11-04</th>\n",
       "      <td>288.722504</td>\n",
       "    </tr>\n",
       "    <tr>\n",
       "      <th>2021-11-05</th>\n",
       "      <td>292.943878</td>\n",
       "    </tr>\n",
       "    <tr>\n",
       "      <th>2021-11-08</th>\n",
       "      <td>288.624329</td>\n",
       "    </tr>\n",
       "    <tr>\n",
       "      <th>2021-11-09</th>\n",
       "      <td>290.096924</td>\n",
       "    </tr>\n",
       "    <tr>\n",
       "      <th>2021-11-16</th>\n",
       "      <td>281.261475</td>\n",
       "    </tr>\n",
       "  </tbody>\n",
       "</table>\n",
       "<p>151 rows × 1 columns</p>\n",
       "</div>"
      ],
      "text/plain": [
       "             Adj Close\n",
       "Date                  \n",
       "2019-08-01  282.208893\n",
       "2020-01-07  280.685242\n",
       "2020-01-08  288.398743\n",
       "2020-01-09  295.207550\n",
       "2020-01-10  294.302856\n",
       "...                ...\n",
       "2021-11-04  288.722504\n",
       "2021-11-05  292.943878\n",
       "2021-11-08  288.624329\n",
       "2021-11-09  290.096924\n",
       "2021-11-16  281.261475\n",
       "\n",
       "[151 rows x 1 columns]"
      ]
     },
     "execution_count": 113,
     "metadata": {},
     "output_type": "execute_result"
    }
   ],
   "source": [
    "adidas_df[higher_280 == True]"
   ]
  },
  {
   "cell_type": "markdown",
   "metadata": {},
   "source": [
    "Berechnen Sie nun die Anzahl der Tagen an denen der Aktienkurs über dieses Niveau steigt. Dafür können wir ganz einfach die Summe des Vektors *higher_280* kalkulieren."
   ]
  },
  {
   "cell_type": "code",
   "execution_count": 114,
   "metadata": {},
   "outputs": [
    {
     "data": {
      "text/plain": [
       "Adj Close    151\n",
       "dtype: int64"
      ]
     },
     "execution_count": 114,
     "metadata": {},
     "output_type": "execute_result"
    }
   ],
   "source": [
    "adidas_df[higher_280 == True].count()\n"
   ]
  },
  {
   "cell_type": "markdown",
   "metadata": {},
   "source": [
    "## Berechnung und Annualisierung von täglichen Renditen"
   ]
  },
  {
   "cell_type": "markdown",
   "metadata": {},
   "source": [
    "Generieren Sie zwei weitere Spalten in *adidas*. Die Variablen *returns* und *logreturns* enthalten die täglichen Renditen, einfach und logaritmiert, als Dezimalzahlen. Ihre Zeitreihe sollte am 05.01.2016 starten, sodass sie keine Missing Values in Ihrem Datensatz haben (z.B. dropna() nuzen). "
   ]
  },
  {
   "cell_type": "code",
   "execution_count": 115,
   "metadata": {},
   "outputs": [
    {
     "data": {
      "text/html": [
       "<div>\n",
       "<style scoped>\n",
       "    .dataframe tbody tr th:only-of-type {\n",
       "        vertical-align: middle;\n",
       "    }\n",
       "\n",
       "    .dataframe tbody tr th {\n",
       "        vertical-align: top;\n",
       "    }\n",
       "\n",
       "    .dataframe thead th {\n",
       "        text-align: right;\n",
       "    }\n",
       "</style>\n",
       "<table border=\"1\" class=\"dataframe\">\n",
       "  <thead>\n",
       "    <tr style=\"text-align: right;\">\n",
       "      <th></th>\n",
       "      <th>Adj Close</th>\n",
       "      <th>returns</th>\n",
       "      <th>logreturns</th>\n",
       "    </tr>\n",
       "    <tr>\n",
       "      <th>Date</th>\n",
       "      <th></th>\n",
       "      <th></th>\n",
       "      <th></th>\n",
       "    </tr>\n",
       "  </thead>\n",
       "  <tbody>\n",
       "    <tr>\n",
       "      <th>2016-01-05</th>\n",
       "      <td>77.737396</td>\n",
       "      <td>-0.003427</td>\n",
       "      <td>-0.003433</td>\n",
       "    </tr>\n",
       "    <tr>\n",
       "      <th>2016-01-06</th>\n",
       "      <td>76.837410</td>\n",
       "      <td>-0.011577</td>\n",
       "      <td>-0.011645</td>\n",
       "    </tr>\n",
       "    <tr>\n",
       "      <th>2016-01-07</th>\n",
       "      <td>75.643372</td>\n",
       "      <td>-0.015540</td>\n",
       "      <td>-0.015662</td>\n",
       "    </tr>\n",
       "    <tr>\n",
       "      <th>2016-01-08</th>\n",
       "      <td>74.360214</td>\n",
       "      <td>-0.016963</td>\n",
       "      <td>-0.017109</td>\n",
       "    </tr>\n",
       "    <tr>\n",
       "      <th>2016-01-11</th>\n",
       "      <td>75.973068</td>\n",
       "      <td>0.021690</td>\n",
       "      <td>0.021458</td>\n",
       "    </tr>\n",
       "    <tr>\n",
       "      <th>...</th>\n",
       "      <td>...</td>\n",
       "      <td>...</td>\n",
       "      <td>...</td>\n",
       "    </tr>\n",
       "    <tr>\n",
       "      <th>2021-12-23</th>\n",
       "      <td>247.294113</td>\n",
       "      <td>0.009013</td>\n",
       "      <td>0.008972</td>\n",
       "    </tr>\n",
       "    <tr>\n",
       "      <th>2021-12-27</th>\n",
       "      <td>248.324921</td>\n",
       "      <td>0.004168</td>\n",
       "      <td>0.004160</td>\n",
       "    </tr>\n",
       "    <tr>\n",
       "      <th>2021-12-28</th>\n",
       "      <td>250.337433</td>\n",
       "      <td>0.008104</td>\n",
       "      <td>0.008072</td>\n",
       "    </tr>\n",
       "    <tr>\n",
       "      <th>2021-12-29</th>\n",
       "      <td>249.453903</td>\n",
       "      <td>-0.003529</td>\n",
       "      <td>-0.003536</td>\n",
       "    </tr>\n",
       "    <tr>\n",
       "      <th>2021-12-30</th>\n",
       "      <td>248.570343</td>\n",
       "      <td>-0.003542</td>\n",
       "      <td>-0.003548</td>\n",
       "    </tr>\n",
       "  </tbody>\n",
       "</table>\n",
       "<p>1521 rows × 3 columns</p>\n",
       "</div>"
      ],
      "text/plain": [
       "             Adj Close   returns  logreturns\n",
       "Date                                        \n",
       "2016-01-05   77.737396 -0.003427   -0.003433\n",
       "2016-01-06   76.837410 -0.011577   -0.011645\n",
       "2016-01-07   75.643372 -0.015540   -0.015662\n",
       "2016-01-08   74.360214 -0.016963   -0.017109\n",
       "2016-01-11   75.973068  0.021690    0.021458\n",
       "...                ...       ...         ...\n",
       "2021-12-23  247.294113  0.009013    0.008972\n",
       "2021-12-27  248.324921  0.004168    0.004160\n",
       "2021-12-28  250.337433  0.008104    0.008072\n",
       "2021-12-29  249.453903 -0.003529   -0.003536\n",
       "2021-12-30  248.570343 -0.003542   -0.003548\n",
       "\n",
       "[1521 rows x 3 columns]"
      ]
     },
     "execution_count": 115,
     "metadata": {},
     "output_type": "execute_result"
    }
   ],
   "source": [
    "returns = adidas_df['Adj Close'].pct_change()\n",
    "logreturns = np.log1p(adidas_df['Adj Close'].pct_change())\n",
    "\n",
    "adidas_df['returns'] = returns\n",
    "adidas_df['logreturns'] = logreturns\n",
    "\n",
    "adidas_df = adidas_df.dropna(axis=0)\n",
    "adidas_df"
   ]
  },
  {
   "cell_type": "markdown",
   "metadata": {},
   "source": [
    "Berechnen Sie das arithmetische Mittel für *returns* und für *logreturns*. Nennen Sie die Variablen *amean_returns* und *amean_logreturns*. <br>"
   ]
  },
  {
   "cell_type": "code",
   "execution_count": 116,
   "metadata": {},
   "outputs": [
    {
     "name": "stdout",
     "output_type": "stream",
     "text": [
      "0.0009316222139571142\n",
      "0.0007619701530773504\n"
     ]
    }
   ],
   "source": [
    "amean_returns = adidas_df.returns.mean()\n",
    "amean_logreturns = adidas_df.logreturns.mean()\n",
    "\n",
    "print(str (amean_returns))\n",
    "print(str(amean_logreturns))"
   ]
  },
  {
   "cell_type": "markdown",
   "metadata": {},
   "source": [
    "Für weitere Berechnungen nutzen wir nur die einfachen *returns*, keine *logreturns*. <br>\n",
    "\n",
    "Berechnen Sie zunächst die annualisierten Tagesmittelrendite für *returns* aus *amean_return*. Speichern Sie die Variablen *amean_return_annualized1*. Da es sich um Aktienkurse handelt, nutzen wir zum annualisieren den Faktor 252 für 252 Handelstage. "
   ]
  },
  {
   "cell_type": "code",
   "execution_count": 117,
   "metadata": {},
   "outputs": [
    {
     "data": {
      "text/plain": [
       "0.23476879791719277"
      ]
     },
     "execution_count": 117,
     "metadata": {},
     "output_type": "execute_result"
    }
   ],
   "source": [
    "amean_return_annualized1 = amean_returns*252\n",
    "amean_return_annualized1"
   ]
  },
  {
   "cell_type": "markdown",
   "metadata": {},
   "source": [
    "## Berechnung und Annualisierung von Monatsrenditen"
   ]
  },
  {
   "cell_type": "markdown",
   "metadata": {},
   "source": [
    "Generieren Sie aus dem Dataframe *adidas* ein Dataframe *adidas_monthly*, das die Werte des ersten Tages in jedem Monat enthält. (Hinweis: https://datascienceparichay.com/article/pandas-groupby-first-value/)"
   ]
  },
  {
   "cell_type": "code",
   "execution_count": 119,
   "metadata": {},
   "outputs": [
    {
     "data": {
      "text/html": [
       "<div>\n",
       "<style scoped>\n",
       "    .dataframe tbody tr th:only-of-type {\n",
       "        vertical-align: middle;\n",
       "    }\n",
       "\n",
       "    .dataframe tbody tr th {\n",
       "        vertical-align: top;\n",
       "    }\n",
       "\n",
       "    .dataframe thead th {\n",
       "        text-align: right;\n",
       "    }\n",
       "</style>\n",
       "<table border=\"1\" class=\"dataframe\">\n",
       "  <thead>\n",
       "    <tr style=\"text-align: right;\">\n",
       "      <th></th>\n",
       "      <th>Adj Close</th>\n",
       "    </tr>\n",
       "    <tr>\n",
       "      <th>Date</th>\n",
       "      <th></th>\n",
       "    </tr>\n",
       "  </thead>\n",
       "  <tbody>\n",
       "    <tr>\n",
       "      <th>2016-01</th>\n",
       "      <td>77.737396</td>\n",
       "    </tr>\n",
       "    <tr>\n",
       "      <th>2016-02</th>\n",
       "      <td>85.151146</td>\n",
       "    </tr>\n",
       "    <tr>\n",
       "      <th>2016-03</th>\n",
       "      <td>89.864922</td>\n",
       "    </tr>\n",
       "    <tr>\n",
       "      <th>2016-04</th>\n",
       "      <td>91.290649</td>\n",
       "    </tr>\n",
       "    <tr>\n",
       "      <th>2016-05</th>\n",
       "      <td>101.671669</td>\n",
       "    </tr>\n",
       "    <tr>\n",
       "      <th>...</th>\n",
       "      <td>...</td>\n",
       "    </tr>\n",
       "    <tr>\n",
       "      <th>2021-08</th>\n",
       "      <td>311.891022</td>\n",
       "    </tr>\n",
       "    <tr>\n",
       "      <th>2021-09</th>\n",
       "      <td>295.692688</td>\n",
       "    </tr>\n",
       "    <tr>\n",
       "      <th>2021-10</th>\n",
       "      <td>265.308594</td>\n",
       "    </tr>\n",
       "    <tr>\n",
       "      <th>2021-11</th>\n",
       "      <td>278.807190</td>\n",
       "    </tr>\n",
       "    <tr>\n",
       "      <th>2021-12</th>\n",
       "      <td>256.865845</td>\n",
       "    </tr>\n",
       "  </tbody>\n",
       "</table>\n",
       "<p>72 rows × 1 columns</p>\n",
       "</div>"
      ],
      "text/plain": [
       "          Adj Close\n",
       "Date               \n",
       "2016-01   77.737396\n",
       "2016-02   85.151146\n",
       "2016-03   89.864922\n",
       "2016-04   91.290649\n",
       "2016-05  101.671669\n",
       "...             ...\n",
       "2021-08  311.891022\n",
       "2021-09  295.692688\n",
       "2021-10  265.308594\n",
       "2021-11  278.807190\n",
       "2021-12  256.865845\n",
       "\n",
       "[72 rows x 1 columns]"
      ]
     },
     "execution_count": 119,
     "metadata": {},
     "output_type": "execute_result"
    }
   ],
   "source": [
    "adidas_monthly = adidas_df.resample('MS').first()\n",
    "adidas_monthly.index = adidas_monthly.index.strftime(\"%Y-%m\")\n",
    "\n",
    "adidas_monthly = adidas_monthly.drop(['returns','logreturns'], axis=1)\n",
    "\n",
    "adidas_monthly"
   ]
  },
  {
   "cell_type": "markdown",
   "metadata": {},
   "source": [
    "Generieren Sie die Spalte *returns* für den Datensatz *adidas_monthly*, analog zum Dataframe *adidas* und löschen Sie alle Zeilen mit Missing Values. "
   ]
  },
  {
   "cell_type": "code",
   "execution_count": 120,
   "metadata": {},
   "outputs": [
    {
     "data": {
      "text/html": [
       "<div>\n",
       "<style scoped>\n",
       "    .dataframe tbody tr th:only-of-type {\n",
       "        vertical-align: middle;\n",
       "    }\n",
       "\n",
       "    .dataframe tbody tr th {\n",
       "        vertical-align: top;\n",
       "    }\n",
       "\n",
       "    .dataframe thead th {\n",
       "        text-align: right;\n",
       "    }\n",
       "</style>\n",
       "<table border=\"1\" class=\"dataframe\">\n",
       "  <thead>\n",
       "    <tr style=\"text-align: right;\">\n",
       "      <th></th>\n",
       "      <th>Adj Close</th>\n",
       "      <th>returns</th>\n",
       "    </tr>\n",
       "    <tr>\n",
       "      <th>Date</th>\n",
       "      <th></th>\n",
       "      <th></th>\n",
       "    </tr>\n",
       "  </thead>\n",
       "  <tbody>\n",
       "    <tr>\n",
       "      <th>2016-02</th>\n",
       "      <td>85.151146</td>\n",
       "      <td>0.095369</td>\n",
       "    </tr>\n",
       "    <tr>\n",
       "      <th>2016-03</th>\n",
       "      <td>89.864922</td>\n",
       "      <td>0.055358</td>\n",
       "    </tr>\n",
       "    <tr>\n",
       "      <th>2016-04</th>\n",
       "      <td>91.290649</td>\n",
       "      <td>0.015865</td>\n",
       "    </tr>\n",
       "    <tr>\n",
       "      <th>2016-05</th>\n",
       "      <td>101.671669</td>\n",
       "      <td>0.113714</td>\n",
       "    </tr>\n",
       "    <tr>\n",
       "      <th>2016-06</th>\n",
       "      <td>104.979576</td>\n",
       "      <td>0.032535</td>\n",
       "    </tr>\n",
       "    <tr>\n",
       "      <th>...</th>\n",
       "      <td>...</td>\n",
       "      <td>...</td>\n",
       "    </tr>\n",
       "    <tr>\n",
       "      <th>2021-08</th>\n",
       "      <td>311.891022</td>\n",
       "      <td>0.010818</td>\n",
       "    </tr>\n",
       "    <tr>\n",
       "      <th>2021-09</th>\n",
       "      <td>295.692688</td>\n",
       "      <td>-0.051936</td>\n",
       "    </tr>\n",
       "    <tr>\n",
       "      <th>2021-10</th>\n",
       "      <td>265.308594</td>\n",
       "      <td>-0.102756</td>\n",
       "    </tr>\n",
       "    <tr>\n",
       "      <th>2021-11</th>\n",
       "      <td>278.807190</td>\n",
       "      <td>0.050879</td>\n",
       "    </tr>\n",
       "    <tr>\n",
       "      <th>2021-12</th>\n",
       "      <td>256.865845</td>\n",
       "      <td>-0.078697</td>\n",
       "    </tr>\n",
       "  </tbody>\n",
       "</table>\n",
       "<p>71 rows × 2 columns</p>\n",
       "</div>"
      ],
      "text/plain": [
       "          Adj Close   returns\n",
       "Date                         \n",
       "2016-02   85.151146  0.095369\n",
       "2016-03   89.864922  0.055358\n",
       "2016-04   91.290649  0.015865\n",
       "2016-05  101.671669  0.113714\n",
       "2016-06  104.979576  0.032535\n",
       "...             ...       ...\n",
       "2021-08  311.891022  0.010818\n",
       "2021-09  295.692688 -0.051936\n",
       "2021-10  265.308594 -0.102756\n",
       "2021-11  278.807190  0.050879\n",
       "2021-12  256.865845 -0.078697\n",
       "\n",
       "[71 rows x 2 columns]"
      ]
     },
     "execution_count": 120,
     "metadata": {},
     "output_type": "execute_result"
    }
   ],
   "source": [
    "adidas_monthly_return = adidas_monthly['Adj Close'].pct_change()\n",
    "adidas_monthly['returns'] = adidas_monthly_return\n",
    "\n",
    "adidas_monthly = adidas_monthly.dropna(axis=0)\n",
    "adidas_monthly"
   ]
  },
  {
   "cell_type": "markdown",
   "metadata": {},
   "source": [
    "Berechnen Sie das aritmethische Mittel für die monatlichen Renditen. Annualisieren Sie dieses und speichern Sie die annualisierte Variable als *amean_return_annualized2*."
   ]
  },
  {
   "cell_type": "code",
   "execution_count": 121,
   "metadata": {},
   "outputs": [
    {
     "data": {
      "text/plain": [
       "0.241653501126871"
      ]
     },
     "execution_count": 121,
     "metadata": {},
     "output_type": "execute_result"
    }
   ],
   "source": [
    "amean_return_annualized2 = adidas_monthly.returns.mean()*12\n",
    "amean_return_annualized2"
   ]
  },
  {
   "cell_type": "markdown",
   "metadata": {},
   "source": [
    "## Berechnung und Annualisierung von Jahresrenditen"
   ]
  },
  {
   "cell_type": "markdown",
   "metadata": {},
   "source": [
    "Generieren Sie nun ein Dataframe *adidas_yearly* aus den ersten Beobachtungen in jedem Jahr und berechnen Sie daraus den aritmetischen Jahresmittelwert. Nennen Sie die Variable *amean_return_annualized3*. "
   ]
  },
  {
   "cell_type": "code",
   "execution_count": 122,
   "metadata": {},
   "outputs": [
    {
     "data": {
      "text/html": [
       "<div>\n",
       "<style scoped>\n",
       "    .dataframe tbody tr th:only-of-type {\n",
       "        vertical-align: middle;\n",
       "    }\n",
       "\n",
       "    .dataframe tbody tr th {\n",
       "        vertical-align: top;\n",
       "    }\n",
       "\n",
       "    .dataframe thead th {\n",
       "        text-align: right;\n",
       "    }\n",
       "</style>\n",
       "<table border=\"1\" class=\"dataframe\">\n",
       "  <thead>\n",
       "    <tr style=\"text-align: right;\">\n",
       "      <th></th>\n",
       "      <th>Adj Close</th>\n",
       "      <th>returns</th>\n",
       "    </tr>\n",
       "    <tr>\n",
       "      <th>Date</th>\n",
       "      <th></th>\n",
       "      <th></th>\n",
       "    </tr>\n",
       "  </thead>\n",
       "  <tbody>\n",
       "    <tr>\n",
       "      <th>2017</th>\n",
       "      <td>136.749115</td>\n",
       "      <td>0.759116</td>\n",
       "    </tr>\n",
       "    <tr>\n",
       "      <th>2018</th>\n",
       "      <td>152.781830</td>\n",
       "      <td>0.117242</td>\n",
       "    </tr>\n",
       "    <tr>\n",
       "      <th>2019</th>\n",
       "      <td>173.246414</td>\n",
       "      <td>0.133946</td>\n",
       "    </tr>\n",
       "    <tr>\n",
       "      <th>2020</th>\n",
       "      <td>277.637939</td>\n",
       "      <td>0.602561</td>\n",
       "    </tr>\n",
       "    <tr>\n",
       "      <th>2021</th>\n",
       "      <td>286.962646</td>\n",
       "      <td>0.033586</td>\n",
       "    </tr>\n",
       "  </tbody>\n",
       "</table>\n",
       "</div>"
      ],
      "text/plain": [
       "       Adj Close   returns\n",
       "Date                      \n",
       "2017  136.749115  0.759116\n",
       "2018  152.781830  0.117242\n",
       "2019  173.246414  0.133946\n",
       "2020  277.637939  0.602561\n",
       "2021  286.962646  0.033586"
      ]
     },
     "execution_count": 122,
     "metadata": {},
     "output_type": "execute_result"
    }
   ],
   "source": [
    "adidas_yearly = adidas_df.resample('YS').first()\n",
    "adidas_yearly.index = adidas_yearly.index.strftime(\"%Y\")\n",
    "\n",
    "adidas_yearly = adidas_yearly.drop(['returns','logreturns'], axis=1)\n",
    "\n",
    "returns_adidas_yearly = adidas_yearly['Adj Close'].pct_change()\n",
    "adidas_yearly['returns'] = returns_adidas_yearly\n",
    "\n",
    "adidas_yearly = adidas_yearly.dropna(axis=0)\n",
    "adidas_yearly\n",
    "\n"
   ]
  },
  {
   "cell_type": "code",
   "execution_count": 123,
   "metadata": {},
   "outputs": [
    {
     "data": {
      "text/plain": [
       "0.32929026150468366"
      ]
     },
     "execution_count": 123,
     "metadata": {},
     "output_type": "execute_result"
    }
   ],
   "source": [
    "amean_return_annualized3 = adidas_yearly.returns.mean()\n",
    "amean_return_annualized3\n",
    "#amean_return_annualized3"
   ]
  },
  {
   "cell_type": "markdown",
   "metadata": {},
   "source": [
    "## Berechnung und Annualisierung von 5-Jahres-Renditen"
   ]
  },
  {
   "cell_type": "markdown",
   "metadata": {},
   "source": [
    "Generieren Sie analog die Variable *amean_return_annualized4* aus der 5-Jahres Rendite."
   ]
  },
  {
   "cell_type": "code",
   "execution_count": 124,
   "metadata": {},
   "outputs": [
    {
     "data": {
      "text/plain": [
       "0.5357572"
      ]
     },
     "execution_count": 124,
     "metadata": {},
     "output_type": "execute_result"
    }
   ],
   "source": [
    "\n",
    "adidas1 = web.get_data_yahoo('ADS.DE', datetime(2016,1,4), \n",
    "                         datetime(2021,12,31))['Adj Close']\n",
    "adidas_df1 = pd.DataFrame(adidas1)\n",
    "\n",
    "adidas_yearly = adidas_df1\n",
    "\n",
    "\n",
    "adidas_yearly.index = adidas_yearly.index.to_numpy().astype('datetime64[M]')\n",
    "adidas_yearly.index = adidas_yearly.index.strftime(\"%Y\")\n",
    "adidas_yearly = adidas_yearly.groupby(adidas_yearly.index)[['Adj Close']].nth(0)\n",
    "\n",
    "adidas_5year = adidas_yearly.drop(index=['2017','2018','2019','2020'])\n",
    "return_5year = adidas_5year['Adj Close'].pct_change()\n",
    "adidas_5year['returns'] = return_5year\n",
    "\n",
    "adidas_5year = adidas_5year.dropna()\n",
    "adidas_5year\n",
    "\n",
    "amean_return_annualized4 =  2.678786 * 1/5\n",
    "amean_return_annualized4\n",
    "\n",
    "\n",
    "#print('Annualisierte arith. 5-Jahres-Mittelwerte der Renditen '+str(amean_return_annualized4))\n"
   ]
  },
  {
   "cell_type": "markdown",
   "metadata": {},
   "source": [
    "## Vergleich der Ergebnisse"
   ]
  },
  {
   "cell_type": "markdown",
   "metadata": {},
   "source": [
    "Generieren Sie eine Liste *ann_ar_ret*, die die Werte für die annualisierten Renditen in der behandelten Reihenfolge beinhalten. Generieren Sie aus dieser Liste ein Dataframe, mit dem Index *daily, monthly, yearly, 5-years* und dem Spaltennamen *arithmetic means*. Zum Beispiel können Sie aus den Listen ein Dictionary bilden und dieses dann in ein Dataframe transformieren."
   ]
  },
  {
   "cell_type": "code",
   "execution_count": 125,
   "metadata": {},
   "outputs": [
    {
     "data": {
      "text/html": [
       "<div>\n",
       "<style scoped>\n",
       "    .dataframe tbody tr th:only-of-type {\n",
       "        vertical-align: middle;\n",
       "    }\n",
       "\n",
       "    .dataframe tbody tr th {\n",
       "        vertical-align: top;\n",
       "    }\n",
       "\n",
       "    .dataframe thead th {\n",
       "        text-align: right;\n",
       "    }\n",
       "</style>\n",
       "<table border=\"1\" class=\"dataframe\">\n",
       "  <thead>\n",
       "    <tr style=\"text-align: right;\">\n",
       "      <th></th>\n",
       "      <th>arithmetic means</th>\n",
       "    </tr>\n",
       "  </thead>\n",
       "  <tbody>\n",
       "    <tr>\n",
       "      <th>daily</th>\n",
       "      <td>0.234769</td>\n",
       "    </tr>\n",
       "    <tr>\n",
       "      <th>monthly</th>\n",
       "      <td>0.241654</td>\n",
       "    </tr>\n",
       "    <tr>\n",
       "      <th>yearly</th>\n",
       "      <td>0.329290</td>\n",
       "    </tr>\n",
       "    <tr>\n",
       "      <th>5-years</th>\n",
       "      <td>0.535757</td>\n",
       "    </tr>\n",
       "  </tbody>\n",
       "</table>\n",
       "</div>"
      ],
      "text/plain": [
       "         arithmetic means\n",
       "daily            0.234769\n",
       "monthly          0.241654\n",
       "yearly           0.329290\n",
       "5-years          0.535757"
      ]
     },
     "execution_count": 125,
     "metadata": {},
     "output_type": "execute_result"
    }
   ],
   "source": [
    "ann_ar_ret = [amean_return_annualized1, amean_return_annualized2, amean_return_annualized3, amean_return_annualized4]\n",
    "\n",
    "ann_ar_ret\n",
    "\n",
    "\n",
    "data = {'arithmetic means':ann_ar_ret}\n",
    "df = pd.DataFrame(data, index =['daily', 'monthly', 'yearly', '5-years'])\n",
    "\n",
    "df\n",
    "#ann_ar_ret1 = pd.Dataframe(ann_ar_ret, index = ['daily', 'monthly', 'yearly', '5-years'], columns = ['Names'])"
   ]
  },
  {
   "cell_type": "markdown",
   "metadata": {},
   "source": [
    "**Frage 1:** Diskutieren Sie kurz, welche der Methoden annualisierte Renditen zu berechnen wohl am sinnvollsten ist."
   ]
  },
  {
   "cell_type": "markdown",
   "metadata": {},
   "source": [
    "> ...\n",
    "\n",
    "Wir haben die annualisierte tägliche, monatliche, 5-jährige und die jährliche Rendite berechnet.\n",
    "\n",
    "Wir haben einfache Renditen verwendet. Im Gegensatz zu logarithmischen Renditen werden diese nicht über die Zeit aufsummiert. Deshalb kann nicht gesagt werden, dass die einfache zwei-Perioden-Rendite gleich der Summe der beiden Ein-Perioden-Renditen ist. Außerdem haben wir das arithmethische Mittel verwendet. Hierbei werden negative Renditen innerhalb der festgelegten Zeiträume nicht berücksichtigt. Außerdem  weisen Renditen üblicherweise eine exponentielle Entwicklung auf, welcher insbesondere auf den Zinseszins-Effekt zurückzuführen ist. Da aber das arithmetische Mittel mit seiner einfachen Durchschnittsbetrachtung eine Linearität unterstellt, führt dies zu einer zu einer Verzerrung.\n",
    "Bei unserer Berechnung fällt auf, dass die annualisierte Jährliche und die annualisierte 5-Jahres-Rendite  höher als  die Tägliche oder die Rendite auf Monatsbasis sind. Würde der Aktienkurs über die Dauer der Betrachtung linear ansteigen, würden die langfristigen und kurzfristigen Mittel näher beieiander liegen. \n",
    "Aus unserer Berechnung würden somit die tägliche und die monatliche annualisierte Rendite in Frage kommen, wobei wir uns hier für die monatliche Variante als beste Variante entscheiden.\n",
    "Dennoch wäre die Berechnung auf Basis des geometrischen Mittels aufgrund der oben genannten Punkte besser geeignet.\n"
   ]
  },
  {
   "cell_type": "markdown",
   "metadata": {},
   "source": [
    "# Risiko"
   ]
  },
  {
   "cell_type": "markdown",
   "metadata": {},
   "source": [
    "## Risikomaße"
   ]
  },
  {
   "cell_type": "markdown",
   "metadata": {},
   "source": [
    "Berechnen Sie für den Aktienkurs von Adidas vom 04.01.2016 - 31.12.2021 die Standardabweichung. Nutzen Sie für Ihre Berechnung die Spalte *logreturns* aus der vorherigen Aufgabe."
   ]
  },
  {
   "cell_type": "code",
   "execution_count": 126,
   "metadata": {},
   "outputs": [
    {
     "name": "stdout",
     "output_type": "stream",
     "text": [
      "logreturns    0.0184\n",
      "dtype: float64\n"
     ]
    }
   ],
   "source": [
    "adidas_std = (adidas_df[['logreturns']].std())\n",
    "print(adidas_std)"
   ]
  },
  {
   "cell_type": "markdown",
   "metadata": {},
   "source": [
    "Berechnen Sie nun die Semivarianz. Nutzen Sie dafür dieselben Daten."
   ]
  },
  {
   "cell_type": "code",
   "execution_count": 127,
   "metadata": {},
   "outputs": [
    {
     "name": "stdout",
     "output_type": "stream",
     "text": [
      "logreturns    0.000166\n",
      "dtype: float64\n"
     ]
    }
   ],
   "source": [
    "adidas_log = adidas_df[['logreturns']]\n",
    "\n",
    "def semivariance(adidas_log):\n",
    "    mean = adidas_log.mean()\n",
    "    semi_variance = ((adidas_log[adidas_log<=mean]-mean)**2).sum()/len(adidas_log)\n",
    "    return semi_variance\n",
    "\n",
    "adidas_semivariance = semivariance(adidas_log)\n",
    "print(adidas_semivariance)"
   ]
  },
  {
   "cell_type": "markdown",
   "metadata": {},
   "source": [
    "Berechnen Sie mit diesen Daten bitte auch die Shortfall Probability für den Wert 0.01, also die Wahrscheinlichkeit dafür, dass die Renditen den Wert von 0.01 unterschreiten ..."
   ]
  },
  {
   "cell_type": "code",
   "execution_count": 128,
   "metadata": {},
   "outputs": [
    {
     "name": "stdout",
     "output_type": "stream",
     "text": [
      "Probability of daily return below -1% is 21.76%\n"
     ]
    }
   ],
   "source": [
    "adidas_shortfall_prob = adidas_log.values[adidas_log.values<-0.01].shape[0] /adidas_log.values.shape[0]\n",
    "print(\"Probability of daily return below -1% is \" + str(round(adidas_shortfall_prob*100,2)) + \"%\")"
   ]
  },
  {
   "cell_type": "markdown",
   "metadata": {},
   "source": [
    "... und den Value at Risk für das 1% Level."
   ]
  },
  {
   "cell_type": "code",
   "execution_count": 129,
   "metadata": {},
   "outputs": [
    {
     "name": "stdout",
     "output_type": "stream",
     "text": [
      "The worst 1% of Adidas daily returns exceeded a -5.58% return\n"
     ]
    }
   ],
   "source": [
    "print(\"The worst 1% of Adidas daily returns exceeded a \" \n",
    "      + str(round(np.percentile(adidas_log.values,1)*100,2)) \n",
    "      + \"% return\")"
   ]
  },
  {
   "cell_type": "markdown",
   "metadata": {},
   "source": [
    "## Risiken von Portfolios"
   ]
  },
  {
   "cell_type": "markdown",
   "metadata": {},
   "source": [
    "Nun wollen wir ein Aktienportfolio erstellen. Laden Sie dafür den Adjusted Closing Preis für die Aktien von Apple, Ford, Microsoft, Amazon und Ebay (Ticker: AAPL, F, MSFT, AMZN, EBAY) im Zeitraum von 01.01.2018 bis 31.12.2021 aus Yahoo Finance."
   ]
  },
  {
   "cell_type": "code",
   "execution_count": 130,
   "metadata": {},
   "outputs": [
    {
     "data": {
      "text/html": [
       "<div>\n",
       "<style scoped>\n",
       "    .dataframe tbody tr th:only-of-type {\n",
       "        vertical-align: middle;\n",
       "    }\n",
       "\n",
       "    .dataframe tbody tr th {\n",
       "        vertical-align: top;\n",
       "    }\n",
       "\n",
       "    .dataframe thead th {\n",
       "        text-align: right;\n",
       "    }\n",
       "</style>\n",
       "<table border=\"1\" class=\"dataframe\">\n",
       "  <thead>\n",
       "    <tr style=\"text-align: right;\">\n",
       "      <th>Symbols</th>\n",
       "      <th>AAPL</th>\n",
       "      <th>F</th>\n",
       "      <th>MSFT</th>\n",
       "      <th>AMZN</th>\n",
       "      <th>EBAY</th>\n",
       "    </tr>\n",
       "    <tr>\n",
       "      <th>Date</th>\n",
       "      <th></th>\n",
       "      <th></th>\n",
       "      <th></th>\n",
       "      <th></th>\n",
       "      <th></th>\n",
       "    </tr>\n",
       "  </thead>\n",
       "  <tbody>\n",
       "    <tr>\n",
       "      <th>2018-01-02</th>\n",
       "      <td>40.950489</td>\n",
       "      <td>10.493731</td>\n",
       "      <td>81.168488</td>\n",
       "      <td>59.450500</td>\n",
       "      <td>36.061031</td>\n",
       "    </tr>\n",
       "    <tr>\n",
       "      <th>2018-01-03</th>\n",
       "      <td>40.943371</td>\n",
       "      <td>10.576622</td>\n",
       "      <td>81.546234</td>\n",
       "      <td>60.209999</td>\n",
       "      <td>37.160114</td>\n",
       "    </tr>\n",
       "    <tr>\n",
       "      <th>2018-01-04</th>\n",
       "      <td>41.133549</td>\n",
       "      <td>10.758976</td>\n",
       "      <td>82.263954</td>\n",
       "      <td>60.479500</td>\n",
       "      <td>36.544250</td>\n",
       "    </tr>\n",
       "    <tr>\n",
       "      <th>2018-01-05</th>\n",
       "      <td>41.601864</td>\n",
       "      <td>10.941333</td>\n",
       "      <td>83.283867</td>\n",
       "      <td>61.457001</td>\n",
       "      <td>37.605427</td>\n",
       "    </tr>\n",
       "    <tr>\n",
       "      <th>2018-01-08</th>\n",
       "      <td>41.447338</td>\n",
       "      <td>10.899887</td>\n",
       "      <td>83.368866</td>\n",
       "      <td>62.343498</td>\n",
       "      <td>37.709652</td>\n",
       "    </tr>\n",
       "    <tr>\n",
       "      <th>...</th>\n",
       "      <td>...</td>\n",
       "      <td>...</td>\n",
       "      <td>...</td>\n",
       "      <td>...</td>\n",
       "      <td>...</td>\n",
       "    </tr>\n",
       "    <tr>\n",
       "      <th>2021-12-27</th>\n",
       "      <td>179.289444</td>\n",
       "      <td>20.143280</td>\n",
       "      <td>340.227112</td>\n",
       "      <td>169.669495</td>\n",
       "      <td>64.772202</td>\n",
       "    </tr>\n",
       "    <tr>\n",
       "      <th>2021-12-28</th>\n",
       "      <td>178.255432</td>\n",
       "      <td>20.104544</td>\n",
       "      <td>339.034882</td>\n",
       "      <td>170.660995</td>\n",
       "      <td>65.186508</td>\n",
       "    </tr>\n",
       "    <tr>\n",
       "      <th>2021-12-29</th>\n",
       "      <td>178.344925</td>\n",
       "      <td>19.910856</td>\n",
       "      <td>339.730377</td>\n",
       "      <td>169.201004</td>\n",
       "      <td>65.561371</td>\n",
       "    </tr>\n",
       "    <tr>\n",
       "      <th>2021-12-30</th>\n",
       "      <td>177.171738</td>\n",
       "      <td>19.823698</td>\n",
       "      <td>337.117401</td>\n",
       "      <td>168.644501</td>\n",
       "      <td>65.877045</td>\n",
       "    </tr>\n",
       "    <tr>\n",
       "      <th>2021-12-31</th>\n",
       "      <td>176.545364</td>\n",
       "      <td>20.114227</td>\n",
       "      <td>334.136902</td>\n",
       "      <td>166.716995</td>\n",
       "      <td>65.600830</td>\n",
       "    </tr>\n",
       "  </tbody>\n",
       "</table>\n",
       "<p>1008 rows × 5 columns</p>\n",
       "</div>"
      ],
      "text/plain": [
       "Symbols           AAPL          F        MSFT        AMZN       EBAY\n",
       "Date                                                                \n",
       "2018-01-02   40.950489  10.493731   81.168488   59.450500  36.061031\n",
       "2018-01-03   40.943371  10.576622   81.546234   60.209999  37.160114\n",
       "2018-01-04   41.133549  10.758976   82.263954   60.479500  36.544250\n",
       "2018-01-05   41.601864  10.941333   83.283867   61.457001  37.605427\n",
       "2018-01-08   41.447338  10.899887   83.368866   62.343498  37.709652\n",
       "...                ...        ...         ...         ...        ...\n",
       "2021-12-27  179.289444  20.143280  340.227112  169.669495  64.772202\n",
       "2021-12-28  178.255432  20.104544  339.034882  170.660995  65.186508\n",
       "2021-12-29  178.344925  19.910856  339.730377  169.201004  65.561371\n",
       "2021-12-30  177.171738  19.823698  337.117401  168.644501  65.877045\n",
       "2021-12-31  176.545364  20.114227  334.136902  166.716995  65.600830\n",
       "\n",
       "[1008 rows x 5 columns]"
      ]
     },
     "execution_count": 130,
     "metadata": {},
     "output_type": "execute_result"
    }
   ],
   "source": [
    "list = [\"AAPL\", \"F\", \"MSFT\", \"AMZN\", \"EBAY\"]\n",
    "portfolio = web.get_data_yahoo(list, datetime(2018,1,1), datetime(2021,12,31))['Adj Close']\n",
    "portfolio"
   ]
  },
  {
   "cell_type": "markdown",
   "metadata": {},
   "source": [
    "Generieren Sie ein Dataframe *portfolio* mit den logarithmierten Renditen, dabei entsprechen die Variablennamen dem Ticker. Löschen Sie Zeilen mit Missing Values."
   ]
  },
  {
   "cell_type": "code",
   "execution_count": 131,
   "metadata": {},
   "outputs": [
    {
     "data": {
      "text/html": [
       "<div>\n",
       "<style scoped>\n",
       "    .dataframe tbody tr th:only-of-type {\n",
       "        vertical-align: middle;\n",
       "    }\n",
       "\n",
       "    .dataframe tbody tr th {\n",
       "        vertical-align: top;\n",
       "    }\n",
       "\n",
       "    .dataframe thead th {\n",
       "        text-align: right;\n",
       "    }\n",
       "</style>\n",
       "<table border=\"1\" class=\"dataframe\">\n",
       "  <thead>\n",
       "    <tr style=\"text-align: right;\">\n",
       "      <th>Symbols</th>\n",
       "      <th>AAPL</th>\n",
       "      <th>F</th>\n",
       "      <th>MSFT</th>\n",
       "      <th>AMZN</th>\n",
       "      <th>EBAY</th>\n",
       "    </tr>\n",
       "    <tr>\n",
       "      <th>Date</th>\n",
       "      <th></th>\n",
       "      <th></th>\n",
       "      <th></th>\n",
       "      <th></th>\n",
       "      <th></th>\n",
       "    </tr>\n",
       "  </thead>\n",
       "  <tbody>\n",
       "    <tr>\n",
       "      <th>2018-01-03</th>\n",
       "      <td>-0.000174</td>\n",
       "      <td>0.007868</td>\n",
       "      <td>0.004643</td>\n",
       "      <td>0.012694</td>\n",
       "      <td>0.030023</td>\n",
       "    </tr>\n",
       "    <tr>\n",
       "      <th>2018-01-04</th>\n",
       "      <td>0.004634</td>\n",
       "      <td>0.017094</td>\n",
       "      <td>0.008763</td>\n",
       "      <td>0.004466</td>\n",
       "      <td>-0.016712</td>\n",
       "    </tr>\n",
       "    <tr>\n",
       "      <th>2018-01-05</th>\n",
       "      <td>0.011321</td>\n",
       "      <td>0.016807</td>\n",
       "      <td>0.012322</td>\n",
       "      <td>0.016033</td>\n",
       "      <td>0.028625</td>\n",
       "    </tr>\n",
       "    <tr>\n",
       "      <th>2018-01-08</th>\n",
       "      <td>-0.003721</td>\n",
       "      <td>-0.003795</td>\n",
       "      <td>0.001020</td>\n",
       "      <td>0.014322</td>\n",
       "      <td>0.002768</td>\n",
       "    </tr>\n",
       "    <tr>\n",
       "      <th>2018-01-09</th>\n",
       "      <td>-0.000115</td>\n",
       "      <td>-0.005337</td>\n",
       "      <td>-0.000680</td>\n",
       "      <td>0.004665</td>\n",
       "      <td>-0.006807</td>\n",
       "    </tr>\n",
       "    <tr>\n",
       "      <th>...</th>\n",
       "      <td>...</td>\n",
       "      <td>...</td>\n",
       "      <td>...</td>\n",
       "      <td>...</td>\n",
       "      <td>...</td>\n",
       "    </tr>\n",
       "    <tr>\n",
       "      <th>2021-12-27</th>\n",
       "      <td>0.022715</td>\n",
       "      <td>0.026798</td>\n",
       "      <td>0.022921</td>\n",
       "      <td>-0.008212</td>\n",
       "      <td>0.011797</td>\n",
       "    </tr>\n",
       "    <tr>\n",
       "      <th>2021-12-28</th>\n",
       "      <td>-0.005784</td>\n",
       "      <td>-0.001925</td>\n",
       "      <td>-0.003510</td>\n",
       "      <td>0.005827</td>\n",
       "      <td>0.006376</td>\n",
       "    </tr>\n",
       "    <tr>\n",
       "      <th>2021-12-29</th>\n",
       "      <td>0.000502</td>\n",
       "      <td>-0.009681</td>\n",
       "      <td>0.002049</td>\n",
       "      <td>-0.008592</td>\n",
       "      <td>0.005734</td>\n",
       "    </tr>\n",
       "    <tr>\n",
       "      <th>2021-12-30</th>\n",
       "      <td>-0.006600</td>\n",
       "      <td>-0.004387</td>\n",
       "      <td>-0.007721</td>\n",
       "      <td>-0.003294</td>\n",
       "      <td>0.004803</td>\n",
       "    </tr>\n",
       "    <tr>\n",
       "      <th>2021-12-31</th>\n",
       "      <td>-0.003542</td>\n",
       "      <td>0.014549</td>\n",
       "      <td>-0.008880</td>\n",
       "      <td>-0.011495</td>\n",
       "      <td>-0.004202</td>\n",
       "    </tr>\n",
       "  </tbody>\n",
       "</table>\n",
       "<p>1007 rows × 5 columns</p>\n",
       "</div>"
      ],
      "text/plain": [
       "Symbols         AAPL         F      MSFT      AMZN      EBAY\n",
       "Date                                                        \n",
       "2018-01-03 -0.000174  0.007868  0.004643  0.012694  0.030023\n",
       "2018-01-04  0.004634  0.017094  0.008763  0.004466 -0.016712\n",
       "2018-01-05  0.011321  0.016807  0.012322  0.016033  0.028625\n",
       "2018-01-08 -0.003721 -0.003795  0.001020  0.014322  0.002768\n",
       "2018-01-09 -0.000115 -0.005337 -0.000680  0.004665 -0.006807\n",
       "...              ...       ...       ...       ...       ...\n",
       "2021-12-27  0.022715  0.026798  0.022921 -0.008212  0.011797\n",
       "2021-12-28 -0.005784 -0.001925 -0.003510  0.005827  0.006376\n",
       "2021-12-29  0.000502 -0.009681  0.002049 -0.008592  0.005734\n",
       "2021-12-30 -0.006600 -0.004387 -0.007721 -0.003294  0.004803\n",
       "2021-12-31 -0.003542  0.014549 -0.008880 -0.011495 -0.004202\n",
       "\n",
       "[1007 rows x 5 columns]"
      ]
     },
     "execution_count": 131,
     "metadata": {},
     "output_type": "execute_result"
    }
   ],
   "source": [
    "logreturn_df = pd.DataFrame(np.diff(np.log(portfolio.values).T).T)\n",
    "logreturn_df.index = portfolio.index[1:]\n",
    "logreturn_df.columns = portfolio.columns\n",
    "portfolio1 = logreturn_df\n",
    "portfolio1\n",
    "portfolio1.dropna()"
   ]
  },
  {
   "cell_type": "markdown",
   "metadata": {},
   "source": [
    "Berechnen Sie die Standardabweichung der Renditen der fünf Wertpapiere und speichern Sie die Werte als Serie mit dem Namem *sds*.\n",
    "\n",
    "Tipp: Mit den Funktionen .var() oder .cov() können Sie ganz einfach eine Serie beziehungsweise Dataframe mit der Varianz/Varianz-Kovarianz Matrix eines Portfolios erstellen. "
   ]
  },
  {
   "cell_type": "code",
   "execution_count": 132,
   "metadata": {},
   "outputs": [
    {
     "name": "stdout",
     "output_type": "stream",
     "text": [
      "Symbols\n",
      "AAPL    0.020736\n",
      "F       0.025064\n",
      "MSFT    0.018809\n",
      "AMZN    0.019639\n",
      "EBAY    0.020060\n",
      "dtype: float64\n"
     ]
    }
   ],
   "source": [
    "sds = pd.Series(portfolio1.std())\n",
    "print(sds)"
   ]
  },
  {
   "cell_type": "markdown",
   "metadata": {},
   "source": [
    "Nehmen Sie nun an, Risiko (in Form der Standardabweichung) sei additiv. Was wäre unter dieser Annahme das Risiko eines gleichgewichteten Portfolios aus diesen fünf Wertpapieren? "
   ]
  },
  {
   "cell_type": "code",
   "execution_count": 133,
   "metadata": {},
   "outputs": [
    {
     "data": {
      "text/plain": [
       "0.02086157829462689"
      ]
     },
     "execution_count": 133,
     "metadata": {},
     "output_type": "execute_result"
    }
   ],
   "source": [
    "sum(sds)/5"
   ]
  },
  {
   "cell_type": "code",
   "execution_count": 134,
   "metadata": {},
   "outputs": [
    {
     "name": "stdout",
     "output_type": "stream",
     "text": [
      "0.02086157829462689\n"
     ]
    }
   ],
   "source": [
    "cov = portfolio1.cov()\n",
    "h = np.ones(len(list))*(1/len(list))\n",
    "equal_std = np.dot(h,np.sqrt(np.diag(cov)))\n",
    "print(equal_std)"
   ]
  },
  {
   "cell_type": "markdown",
   "metadata": {},
   "source": [
    "In diesem Schritt wollen wir zeigen, dass obiger Wert nicht der Portfoliostandardabweichung entspricht. Dafür berechnen wir die tatsächliche Standardabweichung des gleichgewichteten Portfolios aus der Varianz-Kovarianz Matrix."
   ]
  },
  {
   "cell_type": "code",
   "execution_count": 135,
   "metadata": {
    "scrolled": true
   },
   "outputs": [
    {
     "name": "stdout",
     "output_type": "stream",
     "text": [
      "0.015477950513150629\n"
     ]
    }
   ],
   "source": [
    "p_std = np.sqrt(np.dot(np.dot(np.transpose(h),cov),h))\n",
    "print(p_std)"
   ]
  },
  {
   "cell_type": "markdown",
   "metadata": {},
   "source": [
    "**Frage 2:** Wie unterscheiden sich die richtige und die falsche Berechnung der Portfoliostandardabweichung?"
   ]
  },
  {
   "cell_type": "markdown",
   "metadata": {},
   "source": [
    ">...\n",
    "\n",
    "Richtige Berechnung der std:  \n",
    "Die Portfoliostandardabweichung berechnet sich bei der richtigen Berechnung aus  ℎ𝑇,𝑉,ℎ .\n",
    "ℎ𝑇  = der Gewichtsvektor transponiert \n",
    "𝑉  = die Varianz-Kovarianz-Matrix \n",
    "ℎ  = der Gewichtsvektor \n",
    "\n",
    "\n",
    "Falsche Berechnung der std:\n",
    "Man extrahiert zuerst die Hauptdiagonale der Varianz-Kovarianz-Matrix. \n",
    "Daraus erhält man die Varianzen.\n",
    "Aus diesen zieht man die Wurzel und multipliziert sie mit den Gewichtsvektoren.\n",
    "\n",
    "\n",
    "Wenn der Wert der richtigen Std kleiner als der der falschen Berechnung ist, dann haben wir einen Diversifikationseffekt.\n",
    "Bei der falschen Berechnung werden  Kovarianz und Korrelation nicht berücksichtig. Dabei dürfen die einzelnen Aktien nicht perfekt miteinander korrelieren (< 1). Wenn also im Portfolio die Korrelation/Kovarianz <1 ist, ist das tats. Risiko des Portfolios kleiner als die Summe seiner Einzelrisiken.\n",
    "Siehe auch in unserem Portfolio die Abweichung der gleichgewichteten Standardabweichung und der tatsächlichen Standardabweichung."
   ]
  }
 ],
 "metadata": {
  "kernelspec": {
   "display_name": "Python 3 (ipykernel)",
   "language": "python",
   "name": "python3"
  },
  "language_info": {
   "codemirror_mode": {
    "name": "ipython",
    "version": 3
   },
   "file_extension": ".py",
   "mimetype": "text/x-python",
   "name": "python",
   "nbconvert_exporter": "python",
   "pygments_lexer": "ipython3",
   "version": "3.9.7"
  },
  "toc": {
   "base_numbering": 1,
   "nav_menu": {},
   "number_sections": true,
   "sideBar": true,
   "skip_h1_title": false,
   "title_cell": "Inhaltsverzeichnis",
   "title_sidebar": "Inhalt",
   "toc_cell": true,
   "toc_position": {},
   "toc_section_display": true,
   "toc_window_display": false
  },
  "varInspector": {
   "cols": {
    "lenName": 16,
    "lenType": 16,
    "lenVar": 40
   },
   "kernels_config": {
    "python": {
     "delete_cmd_postfix": "",
     "delete_cmd_prefix": "del ",
     "library": "var_list.py",
     "varRefreshCmd": "print(var_dic_list())"
    },
    "r": {
     "delete_cmd_postfix": ") ",
     "delete_cmd_prefix": "rm(",
     "library": "var_list.r",
     "varRefreshCmd": "cat(var_dic_list()) "
    }
   },
   "types_to_exclude": [
    "module",
    "function",
    "builtin_function_or_method",
    "instance",
    "_Feature"
   ],
   "window_display": false
  }
 },
 "nbformat": 4,
 "nbformat_minor": 2
}
