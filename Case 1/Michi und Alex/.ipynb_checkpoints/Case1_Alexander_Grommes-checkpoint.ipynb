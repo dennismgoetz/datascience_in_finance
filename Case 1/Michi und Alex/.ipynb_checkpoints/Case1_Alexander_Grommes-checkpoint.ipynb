{
 "cells": [
  {
   "cell_type": "markdown",
   "metadata": {
    "toc": true
   },
   "source": [
    "<h1>Inhaltsverzeichnis<span class=\"tocSkip\"></span></h1>\n",
    "<div class=\"toc\"><ul class=\"toc-item\"><li><span><a href=\"#Berechnung-annualisierter-Renditen\" data-toc-modified-id=\"Berechnung-annualisierter-Renditen-1\"><span class=\"toc-item-num\">1&nbsp;&nbsp;</span>Berechnung annualisierter Renditen</a></span><ul class=\"toc-item\"><li><span><a href=\"#Aktienkursdaten-laden\" data-toc-modified-id=\"Aktienkursdaten-laden-1.1\"><span class=\"toc-item-num\">1.1&nbsp;&nbsp;</span>Aktienkursdaten laden</a></span></li><li><span><a href=\"#Betrachtung-der-Daten\" data-toc-modified-id=\"Betrachtung-der-Daten-1.2\"><span class=\"toc-item-num\">1.2&nbsp;&nbsp;</span>Betrachtung der Daten</a></span></li><li><span><a href=\"#Berechnung-und-Annualisierung-von-täglichen-Renditen\" data-toc-modified-id=\"Berechnung-und-Annualisierung-von-täglichen-Renditen-1.3\"><span class=\"toc-item-num\">1.3&nbsp;&nbsp;</span>Berechnung und Annualisierung von täglichen Renditen</a></span></li><li><span><a href=\"#Berechnung-und-Annualisierung-von-Monatsrenditen\" data-toc-modified-id=\"Berechnung-und-Annualisierung-von-Monatsrenditen-1.4\"><span class=\"toc-item-num\">1.4&nbsp;&nbsp;</span>Berechnung und Annualisierung von Monatsrenditen</a></span></li><li><span><a href=\"#Berechnung-und-Annualisierung-von-Jahresrenditen\" data-toc-modified-id=\"Berechnung-und-Annualisierung-von-Jahresrenditen-1.5\"><span class=\"toc-item-num\">1.5&nbsp;&nbsp;</span>Berechnung und Annualisierung von Jahresrenditen</a></span></li><li><span><a href=\"#Berechnung-und-Annualisierung-von-5-Jahres-Renditen\" data-toc-modified-id=\"Berechnung-und-Annualisierung-von-5-Jahres-Renditen-1.6\"><span class=\"toc-item-num\">1.6&nbsp;&nbsp;</span>Berechnung und Annualisierung von 5-Jahres-Renditen</a></span></li><li><span><a href=\"#Vergleich-der-Ergebnisse\" data-toc-modified-id=\"Vergleich-der-Ergebnisse-1.7\"><span class=\"toc-item-num\">1.7&nbsp;&nbsp;</span>Vergleich der Ergebnisse</a></span></li></ul></li><li><span><a href=\"#Risiko\" data-toc-modified-id=\"Risiko-2\"><span class=\"toc-item-num\">2&nbsp;&nbsp;</span>Risiko</a></span><ul class=\"toc-item\"><li><span><a href=\"#Risikomaße\" data-toc-modified-id=\"Risikomaße-2.1\"><span class=\"toc-item-num\">2.1&nbsp;&nbsp;</span>Risikomaße</a></span></li><li><span><a href=\"#Risiken-von-Portfolios\" data-toc-modified-id=\"Risiken-von-Portfolios-2.2\"><span class=\"toc-item-num\">2.2&nbsp;&nbsp;</span>Risiken von Portfolios</a></span></li></ul></li></ul></div>"
   ]
  },
  {
   "cell_type": "markdown",
   "metadata": {},
   "source": [
    "Willkommen zur ersten Case-Study. Diese beinhaltet Aufgaben zu den Notebooks A.1-B.1. Nach der Installation aller relevanten Pakete analysieren wir zuerst den Kursverlauf einer Aktie. Anschließend berechnen Sie die Rendite und Risiko der Einzelaktie und abschließend für ein Portfolio. \n",
    "\n",
    "Bitte nutzen Sie die vorgesehenen Felder für Ihren Code und Ihre Antworten. Insgesamt gibt es 26 Code-Zeilen, und zwei Textfragen, die Sie bitte befüllen. Schriftliche Antworten in Form eines Markdowns kennzeichnen Sie bitte als Blockzitat (mit dem > Symbol). Falls keine Angabe zur Bezeichnung der zu erstellenden Variablen oder Dataframes gemacht werden, wählen Sie eigene sinnvolle Bezeichnungen.\n",
    "\n",
    "Achten Sie darauf, dass Ihr Code in einem Setting läuft (Kernel > Restart & Run All).\n",
    "\n",
    "Zusätzlich zur Abgabe dieses Notebooks geben Sie bitte das Excel-Sheet mit Ihren Lösungen ab. Benennen Sie das Excel-Sheet und das Notebook bitte nach dem Prinzip: Case1_Nachname_Vorname.\n",
    "\n",
    "\n",
    "\n",
    "HAPPY CODING!"
   ]
  },
  {
   "cell_type": "markdown",
   "metadata": {},
   "source": [
    "Tragen Sie in der folgenden Markdown Zeile den Namen Ihres Teampartners ein bzw. im Falle einer Einzelarbeit bitte dies vermerken."
   ]
  },
  {
   "cell_type": "markdown",
   "metadata": {},
   "source": [
    "> Einzelarbeit"
   ]
  },
  {
   "cell_type": "markdown",
   "metadata": {},
   "source": [
    "Tragen Sie in der folgenden Markdown Zeile Ihre Matrikelnummer ein."
   ]
  },
  {
   "cell_type": "markdown",
   "metadata": {},
   "source": [
    " > 272440"
   ]
  },
  {
   "cell_type": "markdown",
   "metadata": {},
   "source": [
    "**Installation aller relevanten Pakete:**"
   ]
  },
  {
   "cell_type": "code",
   "execution_count": 1,
   "metadata": {},
   "outputs": [],
   "source": [
    "import numpy as np\n",
    "import pandas as pd\n",
    "import pandas_datareader.data as web\n",
    "import matplotlib.pyplot as plt\n",
    "%matplotlib inline\n",
    "import statsmodels.api as sm\n",
    "from datetime import datetime"
   ]
  },
  {
   "cell_type": "markdown",
   "metadata": {},
   "source": [
    "# Berechnung annualisierter Renditen"
   ]
  },
  {
   "cell_type": "markdown",
   "metadata": {},
   "source": [
    "## Aktienkursdaten laden"
   ]
  },
  {
   "cell_type": "markdown",
   "metadata": {},
   "source": [
    "Bitte laden Sie mit dem Pandas Datareader die Schlusskurse der Adidas-Aktie aus Yahoo Finance von 2016 bis einschließlich 2021 in ein Dataframe. Den Ticker finden Sie auch über die Yahoo Finance Internetseite (Ticker: ADS.DE). Nennen Sie das Dataframe *adidas*. Der Index des Dataframe ist dabei das Datum der Kurswerte. Die Spalte mit den Kurswerten trägt den Namen *Adj Close*. <br>\n",
    "Erster Handelstag: 04.01.2016 <br>\n",
    "Letzter Handelstag: 31.12.2021"
   ]
  },
  {
   "cell_type": "code",
   "execution_count": 2,
   "metadata": {},
   "outputs": [
    {
     "data": {
      "text/html": [
       "<div>\n",
       "<style scoped>\n",
       "    .dataframe tbody tr th:only-of-type {\n",
       "        vertical-align: middle;\n",
       "    }\n",
       "\n",
       "    .dataframe tbody tr th {\n",
       "        vertical-align: top;\n",
       "    }\n",
       "\n",
       "    .dataframe thead th {\n",
       "        text-align: right;\n",
       "    }\n",
       "</style>\n",
       "<table border=\"1\" class=\"dataframe\">\n",
       "  <thead>\n",
       "    <tr style=\"text-align: right;\">\n",
       "      <th></th>\n",
       "      <th>Adj Close</th>\n",
       "    </tr>\n",
       "    <tr>\n",
       "      <th>Date</th>\n",
       "      <th></th>\n",
       "    </tr>\n",
       "  </thead>\n",
       "  <tbody>\n",
       "    <tr>\n",
       "      <th>2016-01-04</th>\n",
       "      <td>78.004723</td>\n",
       "    </tr>\n",
       "    <tr>\n",
       "      <th>2016-01-05</th>\n",
       "      <td>77.737389</td>\n",
       "    </tr>\n",
       "    <tr>\n",
       "      <th>2016-01-06</th>\n",
       "      <td>76.837418</td>\n",
       "    </tr>\n",
       "    <tr>\n",
       "      <th>2016-01-07</th>\n",
       "      <td>75.643364</td>\n",
       "    </tr>\n",
       "    <tr>\n",
       "      <th>2016-01-08</th>\n",
       "      <td>74.360222</td>\n",
       "    </tr>\n",
       "    <tr>\n",
       "      <th>...</th>\n",
       "      <td>...</td>\n",
       "    </tr>\n",
       "    <tr>\n",
       "      <th>2021-12-23</th>\n",
       "      <td>247.294113</td>\n",
       "    </tr>\n",
       "    <tr>\n",
       "      <th>2021-12-27</th>\n",
       "      <td>248.324921</td>\n",
       "    </tr>\n",
       "    <tr>\n",
       "      <th>2021-12-28</th>\n",
       "      <td>250.337433</td>\n",
       "    </tr>\n",
       "    <tr>\n",
       "      <th>2021-12-29</th>\n",
       "      <td>249.453903</td>\n",
       "    </tr>\n",
       "    <tr>\n",
       "      <th>2021-12-30</th>\n",
       "      <td>248.570343</td>\n",
       "    </tr>\n",
       "  </tbody>\n",
       "</table>\n",
       "<p>1522 rows × 1 columns</p>\n",
       "</div>"
      ],
      "text/plain": [
       "             Adj Close\n",
       "Date                  \n",
       "2016-01-04   78.004723\n",
       "2016-01-05   77.737389\n",
       "2016-01-06   76.837418\n",
       "2016-01-07   75.643364\n",
       "2016-01-08   74.360222\n",
       "...                ...\n",
       "2021-12-23  247.294113\n",
       "2021-12-27  248.324921\n",
       "2021-12-28  250.337433\n",
       "2021-12-29  249.453903\n",
       "2021-12-30  248.570343\n",
       "\n",
       "[1522 rows x 1 columns]"
      ]
     },
     "execution_count": 2,
     "metadata": {},
     "output_type": "execute_result"
    }
   ],
   "source": [
    "adidas = web.get_data_yahoo(\"ADS.DE\", datetime(2016,1,4), datetime(2021,12,31))['Adj Close']\n",
    "adidas = pd.DataFrame(adidas.values, index = adidas.index, columns = ['Adj Close'])\n",
    "\n",
    "adidas"
   ]
  },
  {
   "cell_type": "markdown",
   "metadata": {},
   "source": [
    "## Betrachtung der Daten"
   ]
  },
  {
   "cell_type": "markdown",
   "metadata": {},
   "source": [
    "Erstellen Sie eine Grafik (Line-Chart, Größe 15,5), welche den Verlauf des Aktienkurs darstellt. Die x-Achse soll den Zeitverlauf darstellen und die y-Achse den Kurs. Geben Sie der Grafik einen Titel und beschriften Sie die Achsen entsprechend."
   ]
  },
  {
   "cell_type": "code",
   "execution_count": 3,
   "metadata": {},
   "outputs": [
    {
     "data": {
      "image/png": "[encoded data removed]",
      "text/plain": [
       "<Figure size 1080x360 with 1 Axes>"
      ]
     },
     "metadata": {
      "needs_background": "light"
     },
     "output_type": "display_data"
    }
   ],
   "source": [
    "adidas_Kurswert = pd.DataFrame(adidas.values, index = adidas.index, columns = ['Adj Close'])\n",
    "adidas_Kurswert.index = adidas.index\n",
    "adidas_Kurswert.columns = ['Adidas']\n",
    "\n",
    "plt.figure(figsize=(15,5));\n",
    "plt.plot(adidas_Kurswert);\n",
    "plt.ylabel('Kurswert');\n",
    "plt.title('Aktienkurs im Zeitverlauf');\n",
    "plt.show();"
   ]
  },
  {
   "cell_type": "markdown",
   "metadata": {},
   "source": [
    "Lassen Sie sich den Aktienkurs am 100. Handelstag des Datensatzs ausgeben. Denken Sie daran Python nutzt *0-based indexing*, dementsprechend ist das 0. Element eines Dataframes deren erste Beobachtung."
   ]
  },
  {
   "cell_type": "code",
   "execution_count": 4,
   "metadata": {},
   "outputs": [
    {
     "data": {
      "text/html": [
       "<div>\n",
       "<style scoped>\n",
       "    .dataframe tbody tr th:only-of-type {\n",
       "        vertical-align: middle;\n",
       "    }\n",
       "\n",
       "    .dataframe tbody tr th {\n",
       "        vertical-align: top;\n",
       "    }\n",
       "\n",
       "    .dataframe thead th {\n",
       "        text-align: right;\n",
       "    }\n",
       "</style>\n",
       "<table border=\"1\" class=\"dataframe\">\n",
       "  <thead>\n",
       "    <tr style=\"text-align: right;\">\n",
       "      <th></th>\n",
       "      <th>Adj Close</th>\n",
       "    </tr>\n",
       "    <tr>\n",
       "      <th>Date</th>\n",
       "      <th></th>\n",
       "    </tr>\n",
       "  </thead>\n",
       "  <tbody>\n",
       "    <tr>\n",
       "      <th>2016-05-25</th>\n",
       "      <td>103.578629</td>\n",
       "    </tr>\n",
       "  </tbody>\n",
       "</table>\n",
       "</div>"
      ],
      "text/plain": [
       "             Adj Close\n",
       "Date                  \n",
       "2016-05-25  103.578629"
      ]
     },
     "execution_count": 4,
     "metadata": {},
     "output_type": "execute_result"
    }
   ],
   "source": [
    "adidas [99:100] #Angezeigt wird das 99. Element, welches dem 100. Handelstag entspricht, da das 0. Element dem 1. Handelstag entspricht"
   ]
  },
  {
   "cell_type": "markdown",
   "metadata": {},
   "source": [
    "Um einen besseren Überblick über das Kursniveau der Aktie zu erhalten, berechnen Sie nun den Mittelwert für den Aktienkurs über den gesamten Zeitraum."
   ]
  },
  {
   "cell_type": "code",
   "execution_count": 5,
   "metadata": {},
   "outputs": [
    {
     "data": {
      "text/plain": [
       "Adj Close    202.861749\n",
       "dtype: float64"
      ]
     },
     "execution_count": 5,
     "metadata": {},
     "output_type": "execute_result"
    }
   ],
   "source": [
    "pd.DataFrame(adidas.values, index = adidas.index, columns = ['Adj Close']).mean()"
   ]
  },
  {
   "cell_type": "markdown",
   "metadata": {},
   "source": [
    "Im nächsten Schritt wollen wir betrachten, an welchen Tagen der Aktienkurs über EUR 280 steigt. Berechnen Sie dafür den Vektor *higher_280* der immer dann den Wert 1 annimmt, wenn der Aktienkurs größer als EUR 280 ist und andernfalls den Wert 0 annimmt."
   ]
  },
  {
   "cell_type": "code",
   "execution_count": 28,
   "metadata": {},
   "outputs": [
    {
     "data": {
      "text/plain": [
       "Date\n",
       "2016-01-04    False\n",
       "2016-01-05    False\n",
       "2016-01-06    False\n",
       "2016-01-07    False\n",
       "2016-01-08    False\n",
       "              ...  \n",
       "2021-12-23    False\n",
       "2021-12-27    False\n",
       "2021-12-28    False\n",
       "2021-12-29    False\n",
       "2021-12-30    False\n",
       "Name: Adj Close, Length: 1522, dtype: bool"
      ]
     },
     "execution_count": 28,
     "metadata": {},
     "output_type": "execute_result"
    }
   ],
   "source": [
    "higher_280 = adidas['Adj Close'] > 280\n",
    "\n",
    "higher_280"
   ]
  },
  {
   "cell_type": "markdown",
   "metadata": {},
   "source": [
    "Geben Sie sich nun alle Daten aus an denen der Kurs größer als EUR 280 ist. Nehmen Sie dazu den Vektor *higher_280* zu Hilfe. "
   ]
  },
  {
   "cell_type": "code",
   "execution_count": 31,
   "metadata": {},
   "outputs": [
    {
     "data": {
      "text/html": [
       "<div>\n",
       "<style scoped>\n",
       "    .dataframe tbody tr th:only-of-type {\n",
       "        vertical-align: middle;\n",
       "    }\n",
       "\n",
       "    .dataframe tbody tr th {\n",
       "        vertical-align: top;\n",
       "    }\n",
       "\n",
       "    .dataframe thead th {\n",
       "        text-align: right;\n",
       "    }\n",
       "</style>\n",
       "<table border=\"1\" class=\"dataframe\">\n",
       "  <thead>\n",
       "    <tr style=\"text-align: right;\">\n",
       "      <th></th>\n",
       "      <th>Adj Close</th>\n",
       "      <th>returns</th>\n",
       "      <th>logreturns</th>\n",
       "      <th>day</th>\n",
       "      <th>Month</th>\n",
       "      <th>Year</th>\n",
       "      <th>Year Month</th>\n",
       "    </tr>\n",
       "    <tr>\n",
       "      <th>Date</th>\n",
       "      <th></th>\n",
       "      <th></th>\n",
       "      <th></th>\n",
       "      <th></th>\n",
       "      <th></th>\n",
       "      <th></th>\n",
       "      <th></th>\n",
       "    </tr>\n",
       "  </thead>\n",
       "  <tbody>\n",
       "    <tr>\n",
       "      <th>2019-08-01</th>\n",
       "      <td>282.208893</td>\n",
       "      <td>0.023485</td>\n",
       "      <td>0.023213</td>\n",
       "      <td>01</td>\n",
       "      <td>08</td>\n",
       "      <td>2019</td>\n",
       "      <td>2019 08</td>\n",
       "    </tr>\n",
       "    <tr>\n",
       "      <th>2020-01-07</th>\n",
       "      <td>280.685242</td>\n",
       "      <td>0.017607</td>\n",
       "      <td>0.017454</td>\n",
       "      <td>07</td>\n",
       "      <td>01</td>\n",
       "      <td>2020</td>\n",
       "      <td>2020 01</td>\n",
       "    </tr>\n",
       "    <tr>\n",
       "      <th>2020-01-08</th>\n",
       "      <td>288.398743</td>\n",
       "      <td>0.027481</td>\n",
       "      <td>0.027110</td>\n",
       "      <td>08</td>\n",
       "      <td>01</td>\n",
       "      <td>2020</td>\n",
       "      <td>2020 01</td>\n",
       "    </tr>\n",
       "    <tr>\n",
       "      <th>2020-01-09</th>\n",
       "      <td>295.207550</td>\n",
       "      <td>0.023609</td>\n",
       "      <td>0.023335</td>\n",
       "      <td>09</td>\n",
       "      <td>01</td>\n",
       "      <td>2020</td>\n",
       "      <td>2020 01</td>\n",
       "    </tr>\n",
       "    <tr>\n",
       "      <th>2020-01-10</th>\n",
       "      <td>294.302856</td>\n",
       "      <td>-0.003065</td>\n",
       "      <td>-0.003069</td>\n",
       "      <td>10</td>\n",
       "      <td>01</td>\n",
       "      <td>2020</td>\n",
       "      <td>2020 01</td>\n",
       "    </tr>\n",
       "    <tr>\n",
       "      <th>...</th>\n",
       "      <td>...</td>\n",
       "      <td>...</td>\n",
       "      <td>...</td>\n",
       "      <td>...</td>\n",
       "      <td>...</td>\n",
       "      <td>...</td>\n",
       "      <td>...</td>\n",
       "    </tr>\n",
       "    <tr>\n",
       "      <th>2021-11-04</th>\n",
       "      <td>288.722504</td>\n",
       "      <td>0.008573</td>\n",
       "      <td>0.008537</td>\n",
       "      <td>04</td>\n",
       "      <td>11</td>\n",
       "      <td>2021</td>\n",
       "      <td>2021 11</td>\n",
       "    </tr>\n",
       "    <tr>\n",
       "      <th>2021-11-05</th>\n",
       "      <td>292.943878</td>\n",
       "      <td>0.014621</td>\n",
       "      <td>0.014515</td>\n",
       "      <td>05</td>\n",
       "      <td>11</td>\n",
       "      <td>2021</td>\n",
       "      <td>2021 11</td>\n",
       "    </tr>\n",
       "    <tr>\n",
       "      <th>2021-11-08</th>\n",
       "      <td>288.624329</td>\n",
       "      <td>-0.014745</td>\n",
       "      <td>-0.014855</td>\n",
       "      <td>08</td>\n",
       "      <td>11</td>\n",
       "      <td>2021</td>\n",
       "      <td>2021 11</td>\n",
       "    </tr>\n",
       "    <tr>\n",
       "      <th>2021-11-09</th>\n",
       "      <td>290.096924</td>\n",
       "      <td>0.005102</td>\n",
       "      <td>0.005089</td>\n",
       "      <td>09</td>\n",
       "      <td>11</td>\n",
       "      <td>2021</td>\n",
       "      <td>2021 11</td>\n",
       "    </tr>\n",
       "    <tr>\n",
       "      <th>2021-11-16</th>\n",
       "      <td>281.261475</td>\n",
       "      <td>0.016318</td>\n",
       "      <td>0.016186</td>\n",
       "      <td>16</td>\n",
       "      <td>11</td>\n",
       "      <td>2021</td>\n",
       "      <td>2021 11</td>\n",
       "    </tr>\n",
       "  </tbody>\n",
       "</table>\n",
       "<p>151 rows × 7 columns</p>\n",
       "</div>"
      ],
      "text/plain": [
       "             Adj Close   returns  logreturns day Month  Year Year Month\n",
       "Date                                                                   \n",
       "2019-08-01  282.208893  0.023485    0.023213  01    08  2019    2019 08\n",
       "2020-01-07  280.685242  0.017607    0.017454  07    01  2020    2020 01\n",
       "2020-01-08  288.398743  0.027481    0.027110  08    01  2020    2020 01\n",
       "2020-01-09  295.207550  0.023609    0.023335  09    01  2020    2020 01\n",
       "2020-01-10  294.302856 -0.003065   -0.003069  10    01  2020    2020 01\n",
       "...                ...       ...         ...  ..   ...   ...        ...\n",
       "2021-11-04  288.722504  0.008573    0.008537  04    11  2021    2021 11\n",
       "2021-11-05  292.943878  0.014621    0.014515  05    11  2021    2021 11\n",
       "2021-11-08  288.624329 -0.014745   -0.014855  08    11  2021    2021 11\n",
       "2021-11-09  290.096924  0.005102    0.005089  09    11  2021    2021 11\n",
       "2021-11-16  281.261475  0.016318    0.016186  16    11  2021    2021 11\n",
       "\n",
       "[151 rows x 7 columns]"
      ]
     },
     "execution_count": 31,
     "metadata": {},
     "output_type": "execute_result"
    }
   ],
   "source": [
    "adidas [higher_280]"
   ]
  },
  {
   "cell_type": "markdown",
   "metadata": {},
   "source": [
    "Berechnen Sie nun die Anzahl der Tagen an denen der Aktienkurs über dieses Niveau steigt. Dafür können wir ganz einfach die Summe des Vektors *higher_280* kalkulieren."
   ]
  },
  {
   "cell_type": "code",
   "execution_count": 33,
   "metadata": {},
   "outputs": [
    {
     "data": {
      "text/plain": [
       "151"
      ]
     },
     "execution_count": 33,
     "metadata": {},
     "output_type": "execute_result"
    }
   ],
   "source": [
    "sum(higher_280)"
   ]
  },
  {
   "cell_type": "markdown",
   "metadata": {},
   "source": [
    "## Berechnung und Annualisierung von täglichen Renditen"
   ]
  },
  {
   "cell_type": "markdown",
   "metadata": {},
   "source": [
    "Generieren Sie zwei weitere Spalten in *adidas*. Die Variablen *returns* und *logreturns* enthalten die täglichen Renditen, einfach und logaritmiert, als Dezimalzahlen. Ihre Zeitreihe sollte am 05.01.2016 starten, sodass sie keine Missing Values in Ihrem Datensatz haben (z.B. dropna() nuzen). "
   ]
  },
  {
   "cell_type": "code",
   "execution_count": 1,
   "metadata": {},
   "outputs": [
    {
     "ename": "NameError",
     "evalue": "name 'web' is not defined",
     "output_type": "error",
     "traceback": [
      "\u001b[1;31m---------------------------------------------------------------------------\u001b[0m",
      "\u001b[1;31mNameError\u001b[0m                                 Traceback (most recent call last)",
      "\u001b[1;32m~\\AppData\\Local\\Temp/ipykernel_13480/4200997886.py\u001b[0m in \u001b[0;36m<module>\u001b[1;34m\u001b[0m\n\u001b[1;32m----> 1\u001b[1;33m \u001b[0madidas\u001b[0m \u001b[1;33m=\u001b[0m \u001b[0mweb\u001b[0m\u001b[1;33m.\u001b[0m\u001b[0mget_data_yahoo\u001b[0m\u001b[1;33m(\u001b[0m\u001b[1;34m\"ADS.DE\"\u001b[0m\u001b[1;33m,\u001b[0m \u001b[0mdatetime\u001b[0m\u001b[1;33m(\u001b[0m\u001b[1;36m2015\u001b[0m\u001b[1;33m,\u001b[0m\u001b[1;36m12\u001b[0m\u001b[1;33m,\u001b[0m\u001b[1;36m30\u001b[0m\u001b[1;33m)\u001b[0m\u001b[1;33m,\u001b[0m \u001b[0mdatetime\u001b[0m\u001b[1;33m(\u001b[0m\u001b[1;36m2021\u001b[0m\u001b[1;33m,\u001b[0m\u001b[1;36m12\u001b[0m\u001b[1;33m,\u001b[0m\u001b[1;36m31\u001b[0m\u001b[1;33m)\u001b[0m\u001b[1;33m)\u001b[0m\u001b[1;33m[\u001b[0m\u001b[1;34m'Adj Close'\u001b[0m\u001b[1;33m]\u001b[0m\u001b[1;33m\u001b[0m\u001b[1;33m\u001b[0m\u001b[0m\n\u001b[0m\u001b[0;32m      2\u001b[0m \u001b[0madidas\u001b[0m \u001b[1;33m=\u001b[0m \u001b[0mpd\u001b[0m\u001b[1;33m.\u001b[0m\u001b[0mDataFrame\u001b[0m\u001b[1;33m(\u001b[0m\u001b[0madidas\u001b[0m\u001b[1;33m.\u001b[0m\u001b[0mvalues\u001b[0m\u001b[1;33m,\u001b[0m \u001b[0mindex\u001b[0m \u001b[1;33m=\u001b[0m \u001b[0madidas\u001b[0m\u001b[1;33m.\u001b[0m\u001b[0mindex\u001b[0m\u001b[1;33m,\u001b[0m \u001b[0mcolumns\u001b[0m \u001b[1;33m=\u001b[0m \u001b[1;33m[\u001b[0m\u001b[1;34m'Adj Close'\u001b[0m\u001b[1;33m]\u001b[0m\u001b[1;33m)\u001b[0m\u001b[1;33m\u001b[0m\u001b[1;33m\u001b[0m\u001b[0m\n\u001b[0;32m      3\u001b[0m \u001b[0madidas\u001b[0m\u001b[1;33m[\u001b[0m\u001b[1;34m'returns'\u001b[0m\u001b[1;33m]\u001b[0m \u001b[1;33m=\u001b[0m \u001b[1;33m(\u001b[0m\u001b[0madidas\u001b[0m\u001b[1;33m.\u001b[0m\u001b[0miloc\u001b[0m\u001b[1;33m[\u001b[0m\u001b[1;36m1\u001b[0m\u001b[1;33m:\u001b[0m\u001b[1;33m,\u001b[0m\u001b[1;36m0\u001b[0m\u001b[1;33m]\u001b[0m \u001b[1;33m-\u001b[0m \u001b[0madidas\u001b[0m\u001b[1;33m[\u001b[0m\u001b[1;34m'Adj Close'\u001b[0m\u001b[1;33m]\u001b[0m\u001b[1;33m.\u001b[0m\u001b[0mshift\u001b[0m\u001b[1;33m(\u001b[0m\u001b[1;36m1\u001b[0m\u001b[1;33m)\u001b[0m\u001b[1;33m)\u001b[0m\u001b[1;33m/\u001b[0m\u001b[0madidas\u001b[0m\u001b[1;33m[\u001b[0m\u001b[1;34m'Adj Close'\u001b[0m\u001b[1;33m]\u001b[0m\u001b[1;33m.\u001b[0m\u001b[0mshift\u001b[0m\u001b[1;33m(\u001b[0m\u001b[1;36m1\u001b[0m\u001b[1;33m)\u001b[0m\u001b[1;33m\u001b[0m\u001b[1;33m\u001b[0m\u001b[0m\n\u001b[0;32m      4\u001b[0m \u001b[0madidas\u001b[0m\u001b[1;33m[\u001b[0m\u001b[1;34m'logreturns'\u001b[0m\u001b[1;33m]\u001b[0m \u001b[1;33m=\u001b[0m \u001b[0mnp\u001b[0m\u001b[1;33m.\u001b[0m\u001b[0mlog\u001b[0m\u001b[1;33m(\u001b[0m\u001b[1;36m1\u001b[0m \u001b[1;33m+\u001b[0m \u001b[0madidas\u001b[0m\u001b[1;33m[\u001b[0m\u001b[1;34m'returns'\u001b[0m\u001b[1;33m]\u001b[0m\u001b[1;33m)\u001b[0m\u001b[1;33m\u001b[0m\u001b[1;33m\u001b[0m\u001b[0m\n\u001b[0;32m      5\u001b[0m \u001b[1;31m#adidas = adidas.dropna()\u001b[0m\u001b[1;33m\u001b[0m\u001b[1;33m\u001b[0m\u001b[0m\n",
      "\u001b[1;31mNameError\u001b[0m: name 'web' is not defined"
     ]
    }
   ],
   "source": [
    "adidas = web.get_data_yahoo(\"ADS.DE\", datetime(2015,12,30), datetime(2021,12,31))['Adj Close']\n",
    "adidas = pd.DataFrame(adidas.values, index = adidas.index, columns = ['Adj Close'])\n",
    "adidas['returns'] = (adidas.iloc[1:,0] - adidas['Adj Close'].shift(1))/adidas['Adj Close'].shift(1)\n",
    "adidas['logreturns'] = np.log(1 + adidas['returns'])\n",
    "adidas = adidas.dropna()\n",
    "adidas"
   ]
  },
  {
   "cell_type": "markdown",
   "metadata": {},
   "source": [
    "Berechnen Sie das arithmetische Mittel für *returns* und für *logreturns*. Nennen Sie die Variablen *amean_returns* und *amean_logreturns*. <br>"
   ]
  },
  {
   "cell_type": "code",
   "execution_count": 8,
   "metadata": {},
   "outputs": [
    {
     "name": "stdout",
     "output_type": "stream",
     "text": [
      "0.0009136909859844554\n",
      "0.0007439180539471549\n"
     ]
    }
   ],
   "source": [
    "amean_returns = sum(adidas.iloc[:,1])/len(adidas.iloc[:,1])\n",
    "print(amean_returns)\n",
    "\n",
    "amean_logreturns = sum(adidas.iloc[:,2])/len(adidas.iloc[:,2])\n",
    "print(amean_logreturns)"
   ]
  },
  {
   "cell_type": "markdown",
   "metadata": {},
   "source": [
    "Für weitere Berechnungen nutzen wir nur die einfachen *returns*, keine *logreturns*. <br>\n",
    "\n",
    "Berechnen Sie zunächst die annualisierten Tagesmittelrendite für *returns* aus *amean_return*. Speichern Sie die Variablen *amean_return_annualized1*. Da es sich um Aktienkurse handelt, nutzen wir zum annualisieren den Faktor 252 für 252 Handelstage. "
   ]
  },
  {
   "cell_type": "code",
   "execution_count": 9,
   "metadata": {},
   "outputs": [
    {
     "name": "stdout",
     "output_type": "stream",
     "text": [
      "0.23025012846808277\n"
     ]
    }
   ],
   "source": [
    "amean_return_annualized1 = (amean_returns * 252)\n",
    "print(amean_return_annualized1)"
   ]
  },
  {
   "cell_type": "markdown",
   "metadata": {},
   "source": [
    "## Berechnung und Annualisierung von Monatsrenditen"
   ]
  },
  {
   "cell_type": "markdown",
   "metadata": {},
   "source": [
    "Generieren Sie aus dem Dataframe *adidas* ein Dataframe *adidas_monthly*, das die Werte des ersten Tages in jedem Monat enthält. (Hinweis: https://datascienceparichay.com/article/pandas-groupby-first-value/)"
   ]
  },
  {
   "cell_type": "code",
   "execution_count": 10,
   "metadata": {},
   "outputs": [
    {
     "data": {
      "text/html": [
       "<div>\n",
       "<style scoped>\n",
       "    .dataframe tbody tr th:only-of-type {\n",
       "        vertical-align: middle;\n",
       "    }\n",
       "\n",
       "    .dataframe tbody tr th {\n",
       "        vertical-align: top;\n",
       "    }\n",
       "\n",
       "    .dataframe thead th {\n",
       "        text-align: right;\n",
       "    }\n",
       "</style>\n",
       "<table border=\"1\" class=\"dataframe\">\n",
       "  <thead>\n",
       "    <tr style=\"text-align: right;\">\n",
       "      <th></th>\n",
       "      <th>Adj Close</th>\n",
       "    </tr>\n",
       "    <tr>\n",
       "      <th>Year Month</th>\n",
       "      <th></th>\n",
       "    </tr>\n",
       "  </thead>\n",
       "  <tbody>\n",
       "    <tr>\n",
       "      <th>2016 01</th>\n",
       "      <td>78.004723</td>\n",
       "    </tr>\n",
       "    <tr>\n",
       "      <th>2016 02</th>\n",
       "      <td>85.151146</td>\n",
       "    </tr>\n",
       "    <tr>\n",
       "      <th>2016 03</th>\n",
       "      <td>89.864922</td>\n",
       "    </tr>\n",
       "    <tr>\n",
       "      <th>2016 04</th>\n",
       "      <td>91.290642</td>\n",
       "    </tr>\n",
       "    <tr>\n",
       "      <th>2016 05</th>\n",
       "      <td>101.671661</td>\n",
       "    </tr>\n",
       "    <tr>\n",
       "      <th>...</th>\n",
       "      <td>...</td>\n",
       "    </tr>\n",
       "    <tr>\n",
       "      <th>2021 08</th>\n",
       "      <td>311.891022</td>\n",
       "    </tr>\n",
       "    <tr>\n",
       "      <th>2021 09</th>\n",
       "      <td>295.692688</td>\n",
       "    </tr>\n",
       "    <tr>\n",
       "      <th>2021 10</th>\n",
       "      <td>265.308594</td>\n",
       "    </tr>\n",
       "    <tr>\n",
       "      <th>2021 11</th>\n",
       "      <td>278.807190</td>\n",
       "    </tr>\n",
       "    <tr>\n",
       "      <th>2021 12</th>\n",
       "      <td>256.865845</td>\n",
       "    </tr>\n",
       "  </tbody>\n",
       "</table>\n",
       "<p>72 rows × 1 columns</p>\n",
       "</div>"
      ],
      "text/plain": [
       "             Adj Close\n",
       "Year Month            \n",
       "2016 01      78.004723\n",
       "2016 02      85.151146\n",
       "2016 03      89.864922\n",
       "2016 04      91.290642\n",
       "2016 05     101.671661\n",
       "...                ...\n",
       "2021 08     311.891022\n",
       "2021 09     295.692688\n",
       "2021 10     265.308594\n",
       "2021 11     278.807190\n",
       "2021 12     256.865845\n",
       "\n",
       "[72 rows x 1 columns]"
      ]
     },
     "execution_count": 10,
     "metadata": {},
     "output_type": "execute_result"
    }
   ],
   "source": [
    "adidas['day'] = adidas.index.strftime (\"%d\")\n",
    "adidas['Month'] = adidas.index.strftime (\"%m\")\n",
    "adidas['Year'] = adidas.index.strftime (\"%Y\")\n",
    "adidas['Year Month'] = adidas['Year'] + \" \" + adidas ['Month']\n",
    "adidas_monthly = adidas.groupby('Year Month')[['Adj Close']].first()\n",
    "adidas_monthly"
   ]
  },
  {
   "cell_type": "markdown",
   "metadata": {},
   "source": [
    "Generieren Sie die Spalte *returns* für den Datensatz *adidas_monthly*, analog zum Dataframe *adidas* und löschen Sie alle Zeilen mit Missing Values. "
   ]
  },
  {
   "cell_type": "code",
   "execution_count": 11,
   "metadata": {},
   "outputs": [
    {
     "data": {
      "text/html": [
       "<div>\n",
       "<style scoped>\n",
       "    .dataframe tbody tr th:only-of-type {\n",
       "        vertical-align: middle;\n",
       "    }\n",
       "\n",
       "    .dataframe tbody tr th {\n",
       "        vertical-align: top;\n",
       "    }\n",
       "\n",
       "    .dataframe thead th {\n",
       "        text-align: right;\n",
       "    }\n",
       "</style>\n",
       "<table border=\"1\" class=\"dataframe\">\n",
       "  <thead>\n",
       "    <tr style=\"text-align: right;\">\n",
       "      <th></th>\n",
       "      <th>Adj Close</th>\n",
       "      <th>returns</th>\n",
       "    </tr>\n",
       "    <tr>\n",
       "      <th>Year Month</th>\n",
       "      <th></th>\n",
       "      <th></th>\n",
       "    </tr>\n",
       "  </thead>\n",
       "  <tbody>\n",
       "    <tr>\n",
       "      <th>2016 02</th>\n",
       "      <td>85.151146</td>\n",
       "      <td>0.091615</td>\n",
       "    </tr>\n",
       "    <tr>\n",
       "      <th>2016 03</th>\n",
       "      <td>89.864922</td>\n",
       "      <td>0.055358</td>\n",
       "    </tr>\n",
       "    <tr>\n",
       "      <th>2016 04</th>\n",
       "      <td>91.290642</td>\n",
       "      <td>0.015865</td>\n",
       "    </tr>\n",
       "    <tr>\n",
       "      <th>2016 05</th>\n",
       "      <td>101.671661</td>\n",
       "      <td>0.113714</td>\n",
       "    </tr>\n",
       "    <tr>\n",
       "      <th>2016 06</th>\n",
       "      <td>104.979568</td>\n",
       "      <td>0.032535</td>\n",
       "    </tr>\n",
       "    <tr>\n",
       "      <th>...</th>\n",
       "      <td>...</td>\n",
       "      <td>...</td>\n",
       "    </tr>\n",
       "    <tr>\n",
       "      <th>2021 08</th>\n",
       "      <td>311.891022</td>\n",
       "      <td>0.010818</td>\n",
       "    </tr>\n",
       "    <tr>\n",
       "      <th>2021 09</th>\n",
       "      <td>295.692688</td>\n",
       "      <td>-0.051936</td>\n",
       "    </tr>\n",
       "    <tr>\n",
       "      <th>2021 10</th>\n",
       "      <td>265.308594</td>\n",
       "      <td>-0.102756</td>\n",
       "    </tr>\n",
       "    <tr>\n",
       "      <th>2021 11</th>\n",
       "      <td>278.807190</td>\n",
       "      <td>0.050879</td>\n",
       "    </tr>\n",
       "    <tr>\n",
       "      <th>2021 12</th>\n",
       "      <td>256.865845</td>\n",
       "      <td>-0.078697</td>\n",
       "    </tr>\n",
       "  </tbody>\n",
       "</table>\n",
       "<p>71 rows × 2 columns</p>\n",
       "</div>"
      ],
      "text/plain": [
       "             Adj Close   returns\n",
       "Year Month                      \n",
       "2016 02      85.151146  0.091615\n",
       "2016 03      89.864922  0.055358\n",
       "2016 04      91.290642  0.015865\n",
       "2016 05     101.671661  0.113714\n",
       "2016 06     104.979568  0.032535\n",
       "...                ...       ...\n",
       "2021 08     311.891022  0.010818\n",
       "2021 09     295.692688 -0.051936\n",
       "2021 10     265.308594 -0.102756\n",
       "2021 11     278.807190  0.050879\n",
       "2021 12     256.865845 -0.078697\n",
       "\n",
       "[71 rows x 2 columns]"
      ]
     },
     "execution_count": 11,
     "metadata": {},
     "output_type": "execute_result"
    }
   ],
   "source": [
    "adidas_monthly['returns'] = (adidas_monthly.iloc[1:,0]/adidas_monthly['Adj Close'].shift(1))-1\n",
    "adidas_monthly_returns=adidas_monthly.dropna()\n",
    "adidas_monthly_returns"
   ]
  },
  {
   "cell_type": "markdown",
   "metadata": {},
   "source": [
    "Berechnen Sie das aritmethische Mittel für die monatlichen Renditen. Annualisieren Sie dieses und speichern Sie die annualisierte Variable als *amean_return_annualized2*."
   ]
  },
  {
   "cell_type": "code",
   "execution_count": 12,
   "metadata": {},
   "outputs": [
    {
     "name": "stdout",
     "output_type": "stream",
     "text": [
      "0.24101905019312014\n"
     ]
    }
   ],
   "source": [
    "amean_m_returns=sum(adidas_monthly_returns.iloc[:,1])/len(adidas_monthly_returns.iloc[:,1])\n",
    "amean_return_annualized2=amean_m_returns*12\n",
    "print(amean_return_annualized2)"
   ]
  },
  {
   "cell_type": "markdown",
   "metadata": {},
   "source": [
    "## Berechnung und Annualisierung von Jahresrenditen"
   ]
  },
  {
   "cell_type": "markdown",
   "metadata": {},
   "source": [
    "Generieren Sie nun ein Dataframe *adidas_yearly* aus den ersten Beobachtungen in jedem Jahr und berechnen Sie daraus den aritmetischen Jahresmittelwert. Nennen Sie die Variable *amean_return_annualized3*. "
   ]
  },
  {
   "cell_type": "code",
   "execution_count": 13,
   "metadata": {},
   "outputs": [
    {
     "name": "stdout",
     "output_type": "stream",
     "text": [
      "0.3280845319253124\n"
     ]
    }
   ],
   "source": [
    "adidas_yearly = adidas.groupby('Year')[['Adj Close']].first()\n",
    "returns = (adidas_yearly['Adj Close'].values/adidas_yearly['Adj Close'].shift(1))-1\n",
    "adidas_yearly_returns = pd.DataFrame(adidas_yearly[['Adj Close']])\n",
    "adidas_yearly_returns['returns'] = returns\n",
    "adidas_yearly_returns = adidas_yearly_returns.dropna()\n",
    "amean_return_annualized3 = np.mean(adidas_yearly_returns['returns'])\n",
    "print(amean_return_annualized3)"
   ]
  },
  {
   "cell_type": "markdown",
   "metadata": {},
   "source": [
    "## Berechnung und Annualisierung von 5-Jahres-Renditen"
   ]
  },
  {
   "cell_type": "markdown",
   "metadata": {},
   "source": [
    "Generieren Sie analog die Variable *amean_return_annualized4* aus der 5-Jahres Rendite."
   ]
  },
  {
   "cell_type": "code",
   "execution_count": 14,
   "metadata": {},
   "outputs": [
    {
     "name": "stdout",
     "output_type": "stream",
     "text": [
      "0.5357571104341793\n"
     ]
    }
   ],
   "source": [
    "adidas_5years = pd.DataFrame(adidas_yearly[['Adj Close']])\n",
    "returns = (adidas_5years['Adj Close'].values/adidas_5years['Adj Close'].shift(5))-1\n",
    "adidas_5years['returns'] = returns\n",
    "adidas_5years = adidas_5years.dropna()\n",
    "\n",
    "amean_return_annualized4 = (sum(adidas_5years['returns'])/len(adidas_5years['returns']))*(1/5)\n",
    "print (amean_return_annualized4)"
   ]
  },
  {
   "cell_type": "markdown",
   "metadata": {},
   "source": [
    "## Vergleich der Ergebnisse"
   ]
  },
  {
   "cell_type": "markdown",
   "metadata": {},
   "source": [
    "Generieren Sie eine Liste *ann_ar_ret*, die die Werte für die annualisierten Renditen in der behandelten Reihenfolge beinhalten. Generieren Sie aus dieser Liste ein Dataframe, mit dem Index *daily, monthly, yearly, 5-years* und dem Spaltennamen *arithmetic means*. Zum Beispiel können Sie aus den Listen ein Dictionary bilden und dieses dann in ein Dataframe transformieren."
   ]
  },
  {
   "cell_type": "code",
   "execution_count": 15,
   "metadata": {},
   "outputs": [
    {
     "data": {
      "text/html": [
       "<div>\n",
       "<style scoped>\n",
       "    .dataframe tbody tr th:only-of-type {\n",
       "        vertical-align: middle;\n",
       "    }\n",
       "\n",
       "    .dataframe tbody tr th {\n",
       "        vertical-align: top;\n",
       "    }\n",
       "\n",
       "    .dataframe thead th {\n",
       "        text-align: right;\n",
       "    }\n",
       "</style>\n",
       "<table border=\"1\" class=\"dataframe\">\n",
       "  <thead>\n",
       "    <tr style=\"text-align: right;\">\n",
       "      <th></th>\n",
       "      <th>arithmetic means</th>\n",
       "    </tr>\n",
       "  </thead>\n",
       "  <tbody>\n",
       "    <tr>\n",
       "      <th>daily</th>\n",
       "      <td>0.230250</td>\n",
       "    </tr>\n",
       "    <tr>\n",
       "      <th>monthly</th>\n",
       "      <td>0.241019</td>\n",
       "    </tr>\n",
       "    <tr>\n",
       "      <th>yearly</th>\n",
       "      <td>0.328085</td>\n",
       "    </tr>\n",
       "    <tr>\n",
       "      <th>5-years</th>\n",
       "      <td>0.535757</td>\n",
       "    </tr>\n",
       "  </tbody>\n",
       "</table>\n",
       "</div>"
      ],
      "text/plain": [
       "         arithmetic means\n",
       "daily            0.230250\n",
       "monthly          0.241019\n",
       "yearly           0.328085\n",
       "5-years          0.535757"
      ]
     },
     "execution_count": 15,
     "metadata": {},
     "output_type": "execute_result"
    }
   ],
   "source": [
    "ann_ar_ret=[amean_return_annualized1,amean_return_annualized2,amean_return_annualized3,amean_return_annualized4]\n",
    "ann_df=pd.DataFrame([ann_ar_ret],index=['arithmetic means'],columns=['daily','monthly','yearly','5-years']).T\n",
    "ann_df"
   ]
  },
  {
   "cell_type": "markdown",
   "metadata": {},
   "source": [
    "**Frage 1:** Diskutieren Sie kurz, welche der Methoden annualisierte Renditen zu berechnen wohl am sinnvollsten ist."
   ]
  },
  {
   "cell_type": "markdown",
   "metadata": {},
   "source": [
    "> Im Dataframe zur Auswahl stehen tägliche, monatliche, jährliche oder fünf-jährige annualisierte arithmetische Renditen. Vor allem das jährliche als auch das fünf-jährige arithmetische Mittel der Renditen sind deutlich höher als die täglichen oder monatlichen annualisierten arithmetischen Renditen. Dies ist plausibel, da arithmetische Renditen negative Renditen innerhalb eines Zeitraums nicht berücksichtigen und somit höher als geometrische Renditen ausfallen. Bei einem linearen Kursanstieg über den gesamten Betrachtungshorizont wären die langfristigen arithmetischen Mittel wohl näher an den kurzfristigen Mitteln, der Kursrückgang der Adidas Aktie – vor allem zu Beginn der Coronakrise – sorgt jedoch dafür, dass diese stärker voneinander abweichen.\n",
    "\n",
    ">Die monatliche annualisierte arithmetische Rendite kommt der realen Rendite letztendlich am nächsten:\n",
    "\n",
    ">Kurs erster Handelstag: 78,004715/\n",
    "Kurs letzter Handelstag: 248,570343/\n",
    "Delta: 170,5656284 (218,87% Kursanstieg bzw. 36,44% annualisiert)\n",
    "\n",
    ">Prinzipiell sollten jedoch für die Betrachtung mehrerer Perioden geometrische Renditen den arithmetischen Renditen vorgezogen werden, um negative Renditen innerhalb des Betrachtungszeitraums adäquat zu berücksichtigen. "
   ]
  },
  {
   "cell_type": "markdown",
   "metadata": {},
   "source": [
    "# Risiko"
   ]
  },
  {
   "cell_type": "markdown",
   "metadata": {},
   "source": [
    "## Risikomaße"
   ]
  },
  {
   "cell_type": "markdown",
   "metadata": {},
   "source": [
    "Berechnen Sie für den Aktienkurs von Adidas vom 04.01.2016 - 31.12.2021 die Standardabweichung. Nutzen Sie für Ihre Berechnung die Spalte *logreturns* aus der vorherigen Aufgabe."
   ]
  },
  {
   "cell_type": "code",
   "execution_count": 16,
   "metadata": {},
   "outputs": [
    {
     "data": {
      "text/plain": [
       "0.018407354550023475"
      ]
     },
     "execution_count": 16,
     "metadata": {},
     "output_type": "execute_result"
    }
   ],
   "source": [
    "std = adidas['logreturns'].std()\n",
    "std"
   ]
  },
  {
   "cell_type": "markdown",
   "metadata": {},
   "source": [
    "Berechnen Sie nun die Semivarianz. Nutzen Sie dafür dieselben Daten."
   ]
  },
  {
   "cell_type": "code",
   "execution_count": 17,
   "metadata": {},
   "outputs": [
    {
     "data": {
      "text/plain": [
       "0.00017046302763227755"
      ]
     },
     "execution_count": 17,
     "metadata": {},
     "output_type": "execute_result"
    }
   ],
   "source": [
    "semivariance = adidas['logreturns'][adidas['logreturns']<0].var()\n",
    "semivariance"
   ]
  },
  {
   "cell_type": "markdown",
   "metadata": {},
   "source": [
    "Berechnen Sie mit diesen Daten bitte auch die Shortfall Probability für den Wert 0.01, also die Wahrscheinlichkeit dafür, dass die Renditen den Wert von 0.01 unterschreiten ..."
   ]
  },
  {
   "cell_type": "code",
   "execution_count": 18,
   "metadata": {},
   "outputs": [
    {
     "name": "stdout",
     "output_type": "stream",
     "text": [
      "Probability of daily return below -1% is 21.81%\n"
     ]
    }
   ],
   "source": [
    "shortfall_prob = adidas['logreturns'][adidas['logreturns'].values<-0.01].shape[0] /adidas['logreturns'].values.shape[0]\n",
    "print(\"Probability of daily return below -1% is \" + str(round(shortfall_prob*100,2)) + \"%\")"
   ]
  },
  {
   "cell_type": "markdown",
   "metadata": {},
   "source": [
    "... und den Value at Risk für das 1% Level."
   ]
  },
  {
   "cell_type": "code",
   "execution_count": 19,
   "metadata": {},
   "outputs": [
    {
     "name": "stdout",
     "output_type": "stream",
     "text": [
      "The worst 1% of adidas daily returns exceeded a -5.58% return\n"
     ]
    }
   ],
   "source": [
    "print(\"The worst 1% of adidas daily returns exceeded a \" \n",
    "      + str(round(np.percentile(adidas['logreturns'].values,1)*100,2)) \n",
    "      + \"% return\")"
   ]
  },
  {
   "cell_type": "markdown",
   "metadata": {},
   "source": [
    "## Risiken von Portfolios"
   ]
  },
  {
   "cell_type": "markdown",
   "metadata": {},
   "source": [
    "Nun wollen wir ein Aktienportfolio erstellen. Laden Sie dafür den Adjusted Closing Preis für die Aktien von Apple, Ford, Microsoft, Amazon und Ebay (Ticker: AAPL, F, MSFT, AMZN, EBAY) im Zeitraum von 01.01.2018 bis 31.12.2021 aus Yahoo Finance."
   ]
  },
  {
   "cell_type": "code",
   "execution_count": 20,
   "metadata": {},
   "outputs": [
    {
     "data": {
      "text/html": [
       "<div>\n",
       "<style scoped>\n",
       "    .dataframe tbody tr th:only-of-type {\n",
       "        vertical-align: middle;\n",
       "    }\n",
       "\n",
       "    .dataframe tbody tr th {\n",
       "        vertical-align: top;\n",
       "    }\n",
       "\n",
       "    .dataframe thead th {\n",
       "        text-align: right;\n",
       "    }\n",
       "</style>\n",
       "<table border=\"1\" class=\"dataframe\">\n",
       "  <thead>\n",
       "    <tr style=\"text-align: right;\">\n",
       "      <th>Symbols</th>\n",
       "      <th>AAPL</th>\n",
       "      <th>F</th>\n",
       "      <th>MSFT</th>\n",
       "      <th>AMZN</th>\n",
       "      <th>EBAY</th>\n",
       "    </tr>\n",
       "    <tr>\n",
       "      <th>Date</th>\n",
       "      <th></th>\n",
       "      <th></th>\n",
       "      <th></th>\n",
       "      <th></th>\n",
       "      <th></th>\n",
       "    </tr>\n",
       "  </thead>\n",
       "  <tbody>\n",
       "    <tr>\n",
       "      <th>2018-01-02</th>\n",
       "      <td>40.950497</td>\n",
       "      <td>10.603422</td>\n",
       "      <td>81.168503</td>\n",
       "      <td>59.450500</td>\n",
       "      <td>36.061035</td>\n",
       "    </tr>\n",
       "    <tr>\n",
       "      <th>2018-01-03</th>\n",
       "      <td>40.943367</td>\n",
       "      <td>10.687179</td>\n",
       "      <td>81.546234</td>\n",
       "      <td>60.209999</td>\n",
       "      <td>37.160118</td>\n",
       "    </tr>\n",
       "    <tr>\n",
       "      <th>2018-01-04</th>\n",
       "      <td>41.133541</td>\n",
       "      <td>10.871439</td>\n",
       "      <td>82.263977</td>\n",
       "      <td>60.479500</td>\n",
       "      <td>36.544250</td>\n",
       "    </tr>\n",
       "    <tr>\n",
       "      <th>2018-01-05</th>\n",
       "      <td>41.601864</td>\n",
       "      <td>11.055702</td>\n",
       "      <td>83.283882</td>\n",
       "      <td>61.457001</td>\n",
       "      <td>37.605431</td>\n",
       "    </tr>\n",
       "    <tr>\n",
       "      <th>2018-01-08</th>\n",
       "      <td>41.447353</td>\n",
       "      <td>11.013824</td>\n",
       "      <td>83.368866</td>\n",
       "      <td>62.343498</td>\n",
       "      <td>37.709644</td>\n",
       "    </tr>\n",
       "    <tr>\n",
       "      <th>...</th>\n",
       "      <td>...</td>\n",
       "      <td>...</td>\n",
       "      <td>...</td>\n",
       "      <td>...</td>\n",
       "      <td>...</td>\n",
       "    </tr>\n",
       "    <tr>\n",
       "      <th>2021-12-27</th>\n",
       "      <td>179.289444</td>\n",
       "      <td>20.353836</td>\n",
       "      <td>340.227112</td>\n",
       "      <td>169.669495</td>\n",
       "      <td>64.772194</td>\n",
       "    </tr>\n",
       "    <tr>\n",
       "      <th>2021-12-28</th>\n",
       "      <td>178.255447</td>\n",
       "      <td>20.314695</td>\n",
       "      <td>339.034882</td>\n",
       "      <td>170.660995</td>\n",
       "      <td>65.186516</td>\n",
       "    </tr>\n",
       "    <tr>\n",
       "      <th>2021-12-29</th>\n",
       "      <td>178.344925</td>\n",
       "      <td>20.118986</td>\n",
       "      <td>339.730377</td>\n",
       "      <td>169.201004</td>\n",
       "      <td>65.561371</td>\n",
       "    </tr>\n",
       "    <tr>\n",
       "      <th>2021-12-30</th>\n",
       "      <td>177.171738</td>\n",
       "      <td>20.030914</td>\n",
       "      <td>337.117432</td>\n",
       "      <td>168.644501</td>\n",
       "      <td>65.877045</td>\n",
       "    </tr>\n",
       "    <tr>\n",
       "      <th>2021-12-31</th>\n",
       "      <td>176.545380</td>\n",
       "      <td>20.324480</td>\n",
       "      <td>334.136902</td>\n",
       "      <td>166.716995</td>\n",
       "      <td>65.600838</td>\n",
       "    </tr>\n",
       "  </tbody>\n",
       "</table>\n",
       "<p>1008 rows × 5 columns</p>\n",
       "</div>"
      ],
      "text/plain": [
       "Symbols           AAPL          F        MSFT        AMZN       EBAY\n",
       "Date                                                                \n",
       "2018-01-02   40.950497  10.603422   81.168503   59.450500  36.061035\n",
       "2018-01-03   40.943367  10.687179   81.546234   60.209999  37.160118\n",
       "2018-01-04   41.133541  10.871439   82.263977   60.479500  36.544250\n",
       "2018-01-05   41.601864  11.055702   83.283882   61.457001  37.605431\n",
       "2018-01-08   41.447353  11.013824   83.368866   62.343498  37.709644\n",
       "...                ...        ...         ...         ...        ...\n",
       "2021-12-27  179.289444  20.353836  340.227112  169.669495  64.772194\n",
       "2021-12-28  178.255447  20.314695  339.034882  170.660995  65.186516\n",
       "2021-12-29  178.344925  20.118986  339.730377  169.201004  65.561371\n",
       "2021-12-30  177.171738  20.030914  337.117432  168.644501  65.877045\n",
       "2021-12-31  176.545380  20.324480  334.136902  166.716995  65.600838\n",
       "\n",
       "[1008 rows x 5 columns]"
      ]
     },
     "execution_count": 20,
     "metadata": {},
     "output_type": "execute_result"
    }
   ],
   "source": [
    "Portfolio_Stocks = ['AAPL', 'F', 'MSFT', 'AMZN', 'EBAY']\n",
    "data = web.get_data_yahoo(Portfolio_Stocks, datetime(2018,1,1), datetime(2021,12,31))['Adj Close']\n",
    "data"
   ]
  },
  {
   "cell_type": "markdown",
   "metadata": {},
   "source": [
    "Generieren Sie ein Dataframe *portfolio* mit den logarithmierten Renditen, dabei entsprechen die Variablennamen dem Ticker. Löschen Sie Zeilen mit Missing Values."
   ]
  },
  {
   "cell_type": "code",
   "execution_count": 21,
   "metadata": {},
   "outputs": [
    {
     "data": {
      "text/html": [
       "<div>\n",
       "<style scoped>\n",
       "    .dataframe tbody tr th:only-of-type {\n",
       "        vertical-align: middle;\n",
       "    }\n",
       "\n",
       "    .dataframe tbody tr th {\n",
       "        vertical-align: top;\n",
       "    }\n",
       "\n",
       "    .dataframe thead th {\n",
       "        text-align: right;\n",
       "    }\n",
       "</style>\n",
       "<table border=\"1\" class=\"dataframe\">\n",
       "  <thead>\n",
       "    <tr style=\"text-align: right;\">\n",
       "      <th></th>\n",
       "      <th>AAPL</th>\n",
       "      <th>F</th>\n",
       "      <th>MSFT</th>\n",
       "      <th>AMZN</th>\n",
       "      <th>EBAY</th>\n",
       "    </tr>\n",
       "    <tr>\n",
       "      <th>Date</th>\n",
       "      <th></th>\n",
       "      <th></th>\n",
       "      <th></th>\n",
       "      <th></th>\n",
       "      <th></th>\n",
       "    </tr>\n",
       "  </thead>\n",
       "  <tbody>\n",
       "    <tr>\n",
       "      <th>2018-01-03</th>\n",
       "      <td>-0.000174</td>\n",
       "      <td>0.007868</td>\n",
       "      <td>0.004643</td>\n",
       "      <td>0.012694</td>\n",
       "      <td>0.030023</td>\n",
       "    </tr>\n",
       "    <tr>\n",
       "      <th>2018-01-04</th>\n",
       "      <td>0.004634</td>\n",
       "      <td>0.017094</td>\n",
       "      <td>0.008763</td>\n",
       "      <td>0.004466</td>\n",
       "      <td>-0.016712</td>\n",
       "    </tr>\n",
       "    <tr>\n",
       "      <th>2018-01-05</th>\n",
       "      <td>0.011321</td>\n",
       "      <td>0.016807</td>\n",
       "      <td>0.012322</td>\n",
       "      <td>0.016033</td>\n",
       "      <td>0.028625</td>\n",
       "    </tr>\n",
       "    <tr>\n",
       "      <th>2018-01-08</th>\n",
       "      <td>-0.003721</td>\n",
       "      <td>-0.003795</td>\n",
       "      <td>0.001020</td>\n",
       "      <td>0.014322</td>\n",
       "      <td>0.002767</td>\n",
       "    </tr>\n",
       "    <tr>\n",
       "      <th>2018-01-09</th>\n",
       "      <td>-0.000115</td>\n",
       "      <td>-0.005338</td>\n",
       "      <td>-0.000680</td>\n",
       "      <td>0.004665</td>\n",
       "      <td>-0.006807</td>\n",
       "    </tr>\n",
       "    <tr>\n",
       "      <th>...</th>\n",
       "      <td>...</td>\n",
       "      <td>...</td>\n",
       "      <td>...</td>\n",
       "      <td>...</td>\n",
       "      <td>...</td>\n",
       "    </tr>\n",
       "    <tr>\n",
       "      <th>2021-12-27</th>\n",
       "      <td>0.022715</td>\n",
       "      <td>0.026798</td>\n",
       "      <td>0.022921</td>\n",
       "      <td>-0.008212</td>\n",
       "      <td>0.011796</td>\n",
       "    </tr>\n",
       "    <tr>\n",
       "      <th>2021-12-28</th>\n",
       "      <td>-0.005784</td>\n",
       "      <td>-0.001925</td>\n",
       "      <td>-0.003510</td>\n",
       "      <td>0.005827</td>\n",
       "      <td>0.006376</td>\n",
       "    </tr>\n",
       "    <tr>\n",
       "      <th>2021-12-29</th>\n",
       "      <td>0.000502</td>\n",
       "      <td>-0.009681</td>\n",
       "      <td>0.002049</td>\n",
       "      <td>-0.008592</td>\n",
       "      <td>0.005734</td>\n",
       "    </tr>\n",
       "    <tr>\n",
       "      <th>2021-12-30</th>\n",
       "      <td>-0.006600</td>\n",
       "      <td>-0.004387</td>\n",
       "      <td>-0.007721</td>\n",
       "      <td>-0.003294</td>\n",
       "      <td>0.004803</td>\n",
       "    </tr>\n",
       "    <tr>\n",
       "      <th>2021-12-31</th>\n",
       "      <td>-0.003542</td>\n",
       "      <td>0.014549</td>\n",
       "      <td>-0.008881</td>\n",
       "      <td>-0.011495</td>\n",
       "      <td>-0.004202</td>\n",
       "    </tr>\n",
       "  </tbody>\n",
       "</table>\n",
       "<p>1007 rows × 5 columns</p>\n",
       "</div>"
      ],
      "text/plain": [
       "                AAPL         F      MSFT      AMZN      EBAY\n",
       "Date                                                        \n",
       "2018-01-03 -0.000174  0.007868  0.004643  0.012694  0.030023\n",
       "2018-01-04  0.004634  0.017094  0.008763  0.004466 -0.016712\n",
       "2018-01-05  0.011321  0.016807  0.012322  0.016033  0.028625\n",
       "2018-01-08 -0.003721 -0.003795  0.001020  0.014322  0.002767\n",
       "2018-01-09 -0.000115 -0.005338 -0.000680  0.004665 -0.006807\n",
       "...              ...       ...       ...       ...       ...\n",
       "2021-12-27  0.022715  0.026798  0.022921 -0.008212  0.011796\n",
       "2021-12-28 -0.005784 -0.001925 -0.003510  0.005827  0.006376\n",
       "2021-12-29  0.000502 -0.009681  0.002049 -0.008592  0.005734\n",
       "2021-12-30 -0.006600 -0.004387 -0.007721 -0.003294  0.004803\n",
       "2021-12-31 -0.003542  0.014549 -0.008881 -0.011495 -0.004202\n",
       "\n",
       "[1007 rows x 5 columns]"
      ]
     },
     "execution_count": 21,
     "metadata": {},
     "output_type": "execute_result"
    }
   ],
   "source": [
    "Portfolio = pd.DataFrame(np.diff(np.log(data.values).T).T)\n",
    "Portfolio.columns = Portfolio_Stocks\n",
    "Portfolio.index = data.index[1:]\n",
    "Portfolio.dropna()\n",
    "Portfolio"
   ]
  },
  {
   "cell_type": "markdown",
   "metadata": {},
   "source": [
    "Berechnen Sie die Standardabweichung der Renditen der fünf Wertpapiere und speichern Sie die Werte als Serie mit dem Namem *sds*.\n",
    "\n",
    "Tipp: Mit den Funktionen .var() oder .cov() können Sie ganz einfach eine Serie beziehungsweise Dataframe mit der Varianz/Varianz-Kovarianz Matrix eines Portfolios erstellen. "
   ]
  },
  {
   "cell_type": "code",
   "execution_count": 22,
   "metadata": {},
   "outputs": [
    {
     "data": {
      "text/plain": [
       "AAPL    0.020736\n",
       "F       0.025064\n",
       "MSFT    0.018809\n",
       "AMZN    0.019639\n",
       "EBAY    0.020060\n",
       "dtype: float64"
      ]
     },
     "execution_count": 22,
     "metadata": {},
     "output_type": "execute_result"
    }
   ],
   "source": [
    "sds = np.sqrt(Portfolio[Portfolio_Stocks].var())\n",
    "sds"
   ]
  },
  {
   "cell_type": "markdown",
   "metadata": {},
   "source": [
    "Nehmen Sie nun an, Risiko (in Form der Standardabweichung) sei additiv. Was wäre unter dieser Annahme das Risiko eines gleichgewichteten Portfolios aus diesen fünf Wertpapieren? "
   ]
  },
  {
   "cell_type": "code",
   "execution_count": 23,
   "metadata": {},
   "outputs": [
    {
     "data": {
      "text/plain": [
       "0.02086158026825054"
      ]
     },
     "execution_count": 23,
     "metadata": {},
     "output_type": "execute_result"
    }
   ],
   "source": [
    "sum(sds)/5"
   ]
  },
  {
   "cell_type": "markdown",
   "metadata": {},
   "source": [
    "In diesem Schritt wollen wir zeigen, dass obiger Wert nicht der Portfoliostandardabweichung entspricht. Dafür berechnen wir die tatsächliche Standardabweichung des gleichgewichteten Portfolios aus der Varianz-Kovarianz Matrix."
   ]
  },
  {
   "cell_type": "code",
   "execution_count": 24,
   "metadata": {
    "scrolled": true
   },
   "outputs": [
    {
     "name": "stdout",
     "output_type": "stream",
     "text": [
      "Portfolio standard deviation is 0.015477949726605949\n"
     ]
    }
   ],
   "source": [
    "cov = Portfolio.cov()\n",
    "cov\n",
    "\n",
    "h = np.ones(len(Portfolio_Stocks))*(1/len(Portfolio_Stocks))\n",
    "p_std = np.sqrt(np.dot(np.dot(np.transpose(h),cov),h))\n",
    "print(\"Portfolio standard deviation is \" + str(p_std))"
   ]
  },
  {
   "cell_type": "markdown",
   "metadata": {},
   "source": [
    "**Frage 2:** Wie unterscheiden sich die richtige und die falsche Berechnung der Portfoliostandardabweichung?"
   ]
  },
  {
   "cell_type": "markdown",
   "metadata": {},
   "source": [
    "> Unter Annahme der Additivität erhält man im gleichgewichteten Portfolio eine höhere Standardabweichung wie es bei der Ermittlung über die Varianz-Kovarianz Matrix der Fall ist. Das liegt daran, dass die Voraussetzung für die Additivitätsannahme nicht gegeben ist. Nur wenn alle Aktien innerhalb des Portfolios perfekt miteinander korreliert sind, dürfen die Einzelrisiken summiert werden. Zwar handelt es sich im Portfolio bei allen Titeln um Aktien aus der selben Region (USA) und der selben Währung (USD), was häufig auf ein gewisses Maß an Korrelation hindeutet. Die Titel sind dennoch nicht perfekt miteinander korreliert, weshalb der Diversifikationseffekt eintritt. Das Portfoliorisiko ist geringer als die Summe der Einzelrisiken. \n",
    "\n",
    ">Die richtige Berechnung für die Portfoliostandardabweichung ist also der Varianz-Kovarianz Ansatz und nicht die Summierung der Einzelrisiken."
   ]
  }
 ],
 "metadata": {
  "kernelspec": {
   "display_name": "Python 3 (ipykernel)",
   "language": "python",
   "name": "python3"
  },
  "language_info": {
   "codemirror_mode": {
    "name": "ipython",
    "version": 3
   },
   "file_extension": ".py",
   "mimetype": "text/x-python",
   "name": "python",
   "nbconvert_exporter": "python",
   "pygments_lexer": "ipython3",
   "version": "3.9.7"
  },
  "toc": {
   "base_numbering": 1,
   "nav_menu": {},
   "number_sections": true,
   "sideBar": true,
   "skip_h1_title": false,
   "title_cell": "Inhaltsverzeichnis",
   "title_sidebar": "Inhalt",
   "toc_cell": true,
   "toc_position": {},
   "toc_section_display": true,
   "toc_window_display": false
  },
  "varInspector": {
   "cols": {
    "lenName": 16,
    "lenType": 16,
    "lenVar": 40
   },
   "kernels_config": {
    "python": {
     "delete_cmd_postfix": "",
     "delete_cmd_prefix": "del ",
     "library": "var_list.py",
     "varRefreshCmd": "print(var_dic_list())"
    },
    "r": {
     "delete_cmd_postfix": ") ",
     "delete_cmd_prefix": "rm(",
     "library": "var_list.r",
     "varRefreshCmd": "cat(var_dic_list()) "
    }
   },
   "types_to_exclude": [
    "module",
    "function",
    "builtin_function_or_method",
    "instance",
    "_Feature"
   ],
   "window_display": false
  }
 },
 "nbformat": 4,
 "nbformat_minor": 2
}
