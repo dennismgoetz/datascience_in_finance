{
 "cells": [
  {
   "cell_type": "markdown",
   "id": "2aa85910",
   "metadata": {},
   "source": [
    "Das ist Text: \n",
    "Oben in der Dropdown Liste 'Markdown' anstelle von 'Code' auswählen.\n",
    "\n",
    "# hallo"
   ]
  },
  {
   "cell_type": "markdown",
   "id": "86b562eb",
   "metadata": {},
   "source": [
    "**Shortcuts:**\n",
    "\n",
    "    'a' neue Zelle oberhalb\n",
    "    'b' neue Zelle unterhalb\n",
    "    'dd' Zelle löschen"
   ]
  },
  {
   "cell_type": "code",
   "execution_count": 1,
   "id": "b480e06e",
   "metadata": {},
   "outputs": [
    {
     "name": "stdout",
     "output_type": "stream",
     "text": [
      "1\n"
     ]
    }
   ],
   "source": [
    "a=1 #Wertzuweisung\n",
    "print(a)"
   ]
  },
  {
   "cell_type": "code",
   "execution_count": 2,
   "id": "e9c03bad",
   "metadata": {},
   "outputs": [
    {
     "name": "stdout",
     "output_type": "stream",
     "text": [
      "2\n"
     ]
    }
   ],
   "source": [
    "a=a+1\n",
    "print(a)"
   ]
  }
 ],
 "metadata": {
  "kernelspec": {
   "display_name": "Python 3 (ipykernel)",
   "language": "python",
   "name": "python3"
  },
  "language_info": {
   "codemirror_mode": {
    "name": "ipython",
    "version": 3
   },
   "file_extension": ".py",
   "mimetype": "text/x-python",
   "name": "python",
   "nbconvert_exporter": "python",
   "pygments_lexer": "ipython3",
   "version": "3.9.7"
  }
 },
 "nbformat": 4,
 "nbformat_minor": 5
}
